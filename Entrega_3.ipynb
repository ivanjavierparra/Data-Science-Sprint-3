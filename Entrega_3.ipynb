{
 "cells": [
  {
   "cell_type": "markdown",
   "metadata": {},
   "source": [
    "<center>\n",
    "<h1>Sprint 3</h1>\n",
    "<b>Sistema de Recomendación</b>\n",
    "</center>"
   ]
  },
  {
   "cell_type": "markdown",
   "metadata": {},
   "source": [
    "<b>Grupo: </b>\n",
    "<ul>\n",
    "  <li>Cornelio Edgardo</li>\n",
    "  <li>Parra Iván</li>\n",
    "</ul>"
   ]
  },
  {
   "cell_type": "markdown",
   "metadata": {
    "id": "DYKTxvoMT5KO"
   },
   "source": [
    "# Enunciado: 3er entrega - Sistemas de recomendación\n",
    "\n",
    "En esta entrega vamos a trabajar con un sistema de recomendación.\n",
    "\n",
    "Vamos a aprovechar la competencia de Telecom que vimos ya que los datos son reales y están buenos para practicar.\n",
    "\n",
    "En el siguiente repositorio pueden encontrar el significado de cada columna de los datasets:\n",
    "https://github.com/Datathon2021/Recomendador\n",
    "\n",
    "Consigna:\n",
    "\n",
    "- Dividir set en train y test. Tomar como train los datos hasta el 1 de marzo de 2021. Desde el 1ro de marzo en adelante, reservar para test.\n",
    "- Desarrollar un recomendador. El recomendador debe ser capaz de generar recomendaciones para TODOS los usuarios (incluyendo los cold start que no tengan visualizaciones en el set de train). Generar 20 recomendaciones por usuario.\n",
    "- Las recomendaciones tienen que ser para cada account_id y hay que recomendar content_id (NO asset_id). Pueden encontrar esto en el repositorio de la competencia.\n",
    "- Los contenidos que recomienden, no tienen que haber sido vistos previamente por los usuarios (filtrar).\n",
    "- Evaluarlo con MAP.\n",
    "\n",
    "Recomendaciones:\n",
    "- En este caso no tenemos ratings explícitos como los casos que vimos, deben generar ustedes estos ratings mediante algún criterio. Lo más simple podría ser utilizar ratings binarios (lo vió / no lo vió).\n",
    "- Hay una columna que nos indica hasta cuando va a estar disponible el contenido\n",
    "- La columna **end_vod_date**: \"fecha de finalización de la disponibilidad del activo en la plataforma\" puede llegar a serles muy útil. ¿Tiene sentido recomendar algo que no va a estar disponible en el set de test? (a partir del 1 de marzo de 2021).\n",
    "- Comiencen con algo SIMPLE. No se compliquen con todas las columnas que tiene el dataset. No van a necesitar usar todas, muchas columnas podrán descartarlas dependiendo del enfoque que tomen.\n",
    "\n",
    "Datos:\n",
    "- https://drive.google.com/file/d/1QjbqJvU0PTClEhReOyzr96BS-HpyyUKT/view?usp=sharing\n",
    "- https://drive.google.com/file/d/1ih6SZc44w8FXdFKQJ2l-aqEWFpfceGuN/view?usp=sharing\n",
    "\n",
    "Fecha de entrega: **30 de Enero de 2023**.\n",
    "\n",
    "Subir a un repositorio de github (público) y enviar el link a alexispacek@gmail.com. De paso les sirve para ir armando su perfil de github con algunos proyectos 😉.\n",
    "\n"
   ]
  },
  {
   "cell_type": "code",
   "execution_count": 2,
   "metadata": {
    "id": "S4QRRCIKjItc"
   },
   "outputs": [],
   "source": [
    "# Los de siempre\n",
    "import pandas as pd\n",
    "import numpy as np\n",
    "import seaborn as sns\n",
    "import matplotlib.pyplot as plt\n",
    "from tqdm import tqdm\n",
    "\n",
    "# datetime\n",
    "from datetime import datetime\n",
    "\n",
    "# matrices\n",
    "from scipy.sparse import csr_matrix\n",
    "\n",
    "# models\n",
    "from lightfm import LightFM"
   ]
  },
  {
   "cell_type": "markdown",
   "metadata": {},
   "source": [
    "Modo oscuro en Jupyter Notebook"
   ]
  },
  {
   "cell_type": "code",
   "execution_count": 93,
   "metadata": {},
   "outputs": [],
   "source": [
    "from jupyterthemes import jtplot\n",
    "jtplot.style(theme='onedork')"
   ]
  },
  {
   "cell_type": "markdown",
   "metadata": {},
   "source": [
    "Si hay problemas con la instalación de lightfm, abrir consola de conda y ejecutar lo siguiente:"
   ]
  },
  {
   "cell_type": "code",
   "execution_count": null,
   "metadata": {},
   "outputs": [],
   "source": [
    "conda install -c conda-forge lightfm"
   ]
  },
  {
   "cell_type": "markdown",
   "metadata": {},
   "source": [
    "Seteamos max_coldwidth"
   ]
  },
  {
   "cell_type": "code",
   "execution_count": null,
   "metadata": {
    "id": "WaVlMUhxjt19"
   },
   "outputs": [],
   "source": [
    "pd.options.display.max_colwidth = 10000"
   ]
  },
  {
   "cell_type": "markdown",
   "metadata": {
    "id": "zhwGN84Xnt57"
   },
   "source": [
    "# Exploratory Data Analysis (EDA)"
   ]
  },
  {
   "cell_type": "code",
   "execution_count": null,
   "metadata": {
    "colab": {
     "base_uri": "https://localhost:8080/"
    },
    "id": "XIYjmxZumyrZ",
    "outputId": "9ff60801-44d7-418c-82ae-157012585bc4"
   },
   "outputs": [
    {
     "name": "stdout",
     "output_type": "stream",
     "text": [
      "Drive already mounted at /content/drive; to attempt to forcibly remount, call drive.mount(\"/content/drive\", force_remount=True).\n"
     ]
    }
   ],
   "source": [
    "from google.colab import drive\n",
    "drive.mount('/content/drive')"
   ]
  },
  {
   "cell_type": "markdown",
   "metadata": {},
   "source": [
    "Leemos train.csv y metadatos.csv"
   ]
  },
  {
   "cell_type": "code",
   "execution_count": 5,
   "metadata": {
    "colab": {
     "base_uri": "https://localhost:8080/",
     "height": 206
    },
    "id": "hDmzt8CIpn9x",
    "outputId": "38cc8576-46a0-4fac-f2c8-d283822c0b31",
    "scrolled": true
   },
   "outputs": [
    {
     "name": "stdout",
     "output_type": "stream",
     "text": [
      "CPU times: user 3.22 s, sys: 262 ms, total: 3.48 s\n",
      "Wall time: 4.73 s\n"
     ]
    },
    {
     "data": {
      "text/html": [
       "<div>\n",
       "<style scoped>\n",
       "    .dataframe tbody tr th:only-of-type {\n",
       "        vertical-align: middle;\n",
       "    }\n",
       "\n",
       "    .dataframe tbody tr th {\n",
       "        vertical-align: top;\n",
       "    }\n",
       "\n",
       "    .dataframe thead th {\n",
       "        text-align: right;\n",
       "    }\n",
       "</style>\n",
       "<table border=\"1\" class=\"dataframe\">\n",
       "  <thead>\n",
       "    <tr style=\"text-align: right;\">\n",
       "      <th></th>\n",
       "      <th>customer_id</th>\n",
       "      <th>account_id</th>\n",
       "      <th>device_type</th>\n",
       "      <th>asset_id</th>\n",
       "      <th>tunein</th>\n",
       "      <th>tuneout</th>\n",
       "      <th>resume</th>\n",
       "    </tr>\n",
       "  </thead>\n",
       "  <tbody>\n",
       "    <tr>\n",
       "      <th>0</th>\n",
       "      <td>0</td>\n",
       "      <td>90627</td>\n",
       "      <td>STATIONARY</td>\n",
       "      <td>18332.0</td>\n",
       "      <td>2021-02-18 22:52:00.0</td>\n",
       "      <td>2021-02-18 23:35:00.0</td>\n",
       "      <td>0</td>\n",
       "    </tr>\n",
       "  </tbody>\n",
       "</table>\n",
       "</div>"
      ],
      "text/plain": [
       "   customer_id  account_id device_type  asset_id                 tunein  \\\n",
       "0            0       90627  STATIONARY   18332.0  2021-02-18 22:52:00.0   \n",
       "\n",
       "                 tuneout  resume  \n",
       "0  2021-02-18 23:35:00.0       0  "
      ]
     },
     "execution_count": 5,
     "metadata": {},
     "output_type": "execute_result"
    }
   ],
   "source": [
    "%%time\n",
    "df_train = pd.read_csv('./train.csv', delimiter=',')\n",
    "df_train.head(1)"
   ]
  },
  {
   "cell_type": "code",
   "execution_count": 6,
   "metadata": {},
   "outputs": [
    {
     "name": "stdout",
     "output_type": "stream",
     "text": [
      "CPU times: user 252 ms, sys: 34.6 ms, total: 287 ms\n",
      "Wall time: 374 ms\n"
     ]
    },
    {
     "data": {
      "text/html": [
       "<div>\n",
       "<style scoped>\n",
       "    .dataframe tbody tr th:only-of-type {\n",
       "        vertical-align: middle;\n",
       "    }\n",
       "\n",
       "    .dataframe tbody tr th {\n",
       "        vertical-align: top;\n",
       "    }\n",
       "\n",
       "    .dataframe thead th {\n",
       "        text-align: right;\n",
       "    }\n",
       "</style>\n",
       "<table border=\"1\" class=\"dataframe\">\n",
       "  <thead>\n",
       "    <tr style=\"text-align: right;\">\n",
       "      <th></th>\n",
       "      <th>asset_id</th>\n",
       "      <th>content_id</th>\n",
       "      <th>title</th>\n",
       "      <th>reduced_title</th>\n",
       "      <th>episode_title</th>\n",
       "      <th>show_type</th>\n",
       "      <th>released_year</th>\n",
       "      <th>country_of_origin</th>\n",
       "      <th>category</th>\n",
       "      <th>keywords</th>\n",
       "      <th>...</th>\n",
       "      <th>language_rating</th>\n",
       "      <th>dialog_rating</th>\n",
       "      <th>fv_rating</th>\n",
       "      <th>pay_per_view</th>\n",
       "      <th>pack_premium_1</th>\n",
       "      <th>pack_premium_2</th>\n",
       "      <th>create_date</th>\n",
       "      <th>modify_date</th>\n",
       "      <th>start_vod_date</th>\n",
       "      <th>end_vod_date</th>\n",
       "    </tr>\n",
       "  </thead>\n",
       "  <tbody>\n",
       "    <tr>\n",
       "      <th>0</th>\n",
       "      <td>15188</td>\n",
       "      <td>0.0</td>\n",
       "      <td>Ep:17 Tiempos Compulsivos</td>\n",
       "      <td>Tiempos_Compul_E17</td>\n",
       "      <td>Episodio 17</td>\n",
       "      <td>Serie</td>\n",
       "      <td>2012.0</td>\n",
       "      <td>AR</td>\n",
       "      <td>Drama</td>\n",
       "      <td>Trastornos,Médicos,Tragicómica,Telenovela,Enfe...</td>\n",
       "      <td>...</td>\n",
       "      <td>N</td>\n",
       "      <td>N</td>\n",
       "      <td>N</td>\n",
       "      <td>N</td>\n",
       "      <td>N</td>\n",
       "      <td>N</td>\n",
       "      <td>2017-12-01T10:18:15.0Z</td>\n",
       "      <td>2019-01-26T06:37:18.0Z</td>\n",
       "      <td>2017-12-01T00:00:00.0Z</td>\n",
       "      <td>2020-12-01T23:59:59.0Z</td>\n",
       "    </tr>\n",
       "  </tbody>\n",
       "</table>\n",
       "<p>1 rows × 30 columns</p>\n",
       "</div>"
      ],
      "text/plain": [
       "   asset_id  content_id                      title       reduced_title  \\\n",
       "0     15188         0.0  Ep:17 Tiempos Compulsivos  Tiempos_Compul_E17   \n",
       "\n",
       "  episode_title show_type  released_year country_of_origin category  \\\n",
       "0   Episodio 17     Serie         2012.0                AR    Drama   \n",
       "\n",
       "                                            keywords  ... language_rating  \\\n",
       "0  Trastornos,Médicos,Tragicómica,Telenovela,Enfe...  ...               N   \n",
       "\n",
       "  dialog_rating fv_rating pay_per_view  pack_premium_1 pack_premium_2  \\\n",
       "0             N         N            N               N              N   \n",
       "\n",
       "              create_date             modify_date          start_vod_date  \\\n",
       "0  2017-12-01T10:18:15.0Z  2019-01-26T06:37:18.0Z  2017-12-01T00:00:00.0Z   \n",
       "\n",
       "             end_vod_date  \n",
       "0  2020-12-01T23:59:59.0Z  \n",
       "\n",
       "[1 rows x 30 columns]"
      ]
     },
     "execution_count": 6,
     "metadata": {},
     "output_type": "execute_result"
    }
   ],
   "source": [
    "%%time\n",
    "df_metadatos = pd.read_csv('./metadata.csv', delimiter=';')\n",
    "df_metadatos.head(1)"
   ]
  },
  {
   "cell_type": "code",
   "execution_count": 7,
   "metadata": {
    "scrolled": true
   },
   "outputs": [
    {
     "name": "stdout",
     "output_type": "stream",
     "text": [
      "train.csv\n",
      "Cantidad de Filas: 3657801\n",
      "Cantidad de Columnas: 7\n"
     ]
    }
   ],
   "source": [
    "filas, columnas = df_train.shape\n",
    "print(\"train.csv\")\n",
    "print(f\"Cantidad de Filas: {filas}\")\n",
    "print(f\"Cantidad de Columnas: {columnas}\")"
   ]
  },
  {
   "cell_type": "code",
   "execution_count": 9,
   "metadata": {
    "scrolled": true,
    "tags": []
   },
   "outputs": [
    {
     "name": "stdout",
     "output_type": "stream",
     "text": [
      "<class 'pandas.core.frame.DataFrame'>\n",
      "RangeIndex: 3657801 entries, 0 to 3657800\n",
      "Data columns (total 7 columns):\n",
      " #   Column       Dtype  \n",
      "---  ------       -----  \n",
      " 0   customer_id  int64  \n",
      " 1   account_id   int64  \n",
      " 2   device_type  object \n",
      " 3   asset_id     float64\n",
      " 4   tunein       object \n",
      " 5   tuneout      object \n",
      " 6   resume       int64  \n",
      "dtypes: float64(1), int64(3), object(3)\n",
      "memory usage: 195.3+ MB\n"
     ]
    }
   ],
   "source": [
    "# Info de columnas\n",
    "df_train.info()"
   ]
  },
  {
   "cell_type": "code",
   "execution_count": 10,
   "metadata": {},
   "outputs": [
    {
     "name": "stdout",
     "output_type": "stream",
     "text": [
      "nulos en train.csv\n"
     ]
    },
    {
     "data": {
      "text/plain": [
       "customer_id     0\n",
       "account_id      0\n",
       "device_type    29\n",
       "asset_id       22\n",
       "tunein          0\n",
       "tuneout         0\n",
       "resume          0\n",
       "dtype: int64"
      ]
     },
     "execution_count": 10,
     "metadata": {},
     "output_type": "execute_result"
    }
   ],
   "source": [
    "# Hay nulos?\n",
    "print(\"nulos en train.csv\")\n",
    "df_train.isna().sum()"
   ]
  },
  {
   "cell_type": "code",
   "execution_count": 11,
   "metadata": {
    "colab": {
     "base_uri": "https://localhost:8080/"
    },
    "id": "ssLVGWi_3NtF",
    "outputId": "760e2d51-26b2-490c-de4f-f3c2e362f918"
   },
   "outputs": [
    {
     "name": "stdout",
     "output_type": "stream",
     "text": [
      "metadatos.csv\n",
      "Cantidad de Filas: 33144\n",
      "Cantidad de Columnas: 30\n"
     ]
    }
   ],
   "source": [
    "filas, columnas = df_metadatos.shape\n",
    "print(\"metadatos.csv\")\n",
    "print(f\"Cantidad de Filas: {filas}\")\n",
    "print(f\"Cantidad de Columnas: {columnas}\")"
   ]
  },
  {
   "cell_type": "code",
   "execution_count": 12,
   "metadata": {
    "id": "tMb4ygBsn7HF"
   },
   "outputs": [
    {
     "name": "stdout",
     "output_type": "stream",
     "text": [
      "<class 'pandas.core.frame.DataFrame'>\n",
      "RangeIndex: 33144 entries, 0 to 33143\n",
      "Data columns (total 30 columns):\n",
      " #   Column              Non-Null Count  Dtype  \n",
      "---  ------              --------------  -----  \n",
      " 0   asset_id            33144 non-null  int64  \n",
      " 1   content_id          33123 non-null  float64\n",
      " 2   title               33144 non-null  object \n",
      " 3   reduced_title       33144 non-null  object \n",
      " 4   episode_title       28997 non-null  object \n",
      " 5   show_type           33140 non-null  object \n",
      " 6   released_year       33144 non-null  float64\n",
      " 7   country_of_origin   33140 non-null  object \n",
      " 8   category            33144 non-null  object \n",
      " 9   keywords            33142 non-null  object \n",
      " 10  description         33142 non-null  object \n",
      " 11  reduced_desc        33144 non-null  object \n",
      " 12  cast_first_name     24412 non-null  object \n",
      " 13  credits_first_name  20590 non-null  object \n",
      " 14  run_time_min        33144 non-null  float64\n",
      " 15  audience            33143 non-null  object \n",
      " 16  made_for_tv         33144 non-null  object \n",
      " 17  close_caption       33144 non-null  object \n",
      " 18  sex_rating          33144 non-null  object \n",
      " 19  violence_rating     33144 non-null  object \n",
      " 20  language_rating     33144 non-null  object \n",
      " 21  dialog_rating       33144 non-null  object \n",
      " 22  fv_rating           33144 non-null  object \n",
      " 23  pay_per_view        33144 non-null  object \n",
      " 24  pack_premium_1      33144 non-null  object \n",
      " 25  pack_premium_2      33144 non-null  object \n",
      " 26  create_date         33144 non-null  object \n",
      " 27  modify_date         33144 non-null  object \n",
      " 28  start_vod_date      33144 non-null  object \n",
      " 29  end_vod_date        33144 non-null  object \n",
      "dtypes: float64(3), int64(1), object(26)\n",
      "memory usage: 7.6+ MB\n"
     ]
    }
   ],
   "source": [
    "# Info de las columnas\n",
    "df_metadatos.info()"
   ]
  },
  {
   "cell_type": "code",
   "execution_count": 13,
   "metadata": {
    "colab": {
     "base_uri": "https://localhost:8080/"
    },
    "id": "63QYY01E3emf",
    "outputId": "ae36a171-fbed-4a9a-98fc-ba0570d629a1"
   },
   "outputs": [
    {
     "name": "stdout",
     "output_type": "stream",
     "text": [
      "nulos en metadatos.csv\n"
     ]
    },
    {
     "data": {
      "text/plain": [
       "asset_id                  0\n",
       "content_id               21\n",
       "title                     0\n",
       "reduced_title             0\n",
       "episode_title          4147\n",
       "show_type                 4\n",
       "released_year             0\n",
       "country_of_origin         4\n",
       "category                  0\n",
       "keywords                  2\n",
       "description               2\n",
       "reduced_desc              0\n",
       "cast_first_name        8732\n",
       "credits_first_name    12554\n",
       "run_time_min              0\n",
       "audience                  1\n",
       "made_for_tv               0\n",
       "close_caption             0\n",
       "sex_rating                0\n",
       "violence_rating           0\n",
       "language_rating           0\n",
       "dialog_rating             0\n",
       "fv_rating                 0\n",
       "pay_per_view              0\n",
       "pack_premium_1            0\n",
       "pack_premium_2            0\n",
       "create_date               0\n",
       "modify_date               0\n",
       "start_vod_date            0\n",
       "end_vod_date              0\n",
       "dtype: int64"
      ]
     },
     "execution_count": 13,
     "metadata": {},
     "output_type": "execute_result"
    }
   ],
   "source": [
    "# Hay nulos?\n",
    "print(\"nulos en metadatos.csv\")\n",
    "df_metadatos.isna().sum()"
   ]
  },
  {
   "cell_type": "markdown",
   "metadata": {},
   "source": [
    "<b>Mergeamos los dos dataset por asset_id</b>"
   ]
  },
  {
   "cell_type": "code",
   "execution_count": 14,
   "metadata": {},
   "outputs": [
    {
     "name": "stdout",
     "output_type": "stream",
     "text": [
      "CPU times: user 4.12 s, sys: 323 ms, total: 4.45 s\n",
      "Wall time: 4.44 s\n"
     ]
    }
   ],
   "source": [
    "%%time\n",
    "df = df_train.merge(df_metadatos, how=\"left\", left_on=\"asset_id\", right_on=\"asset_id\")"
   ]
  },
  {
   "cell_type": "code",
   "execution_count": 15,
   "metadata": {},
   "outputs": [
    {
     "name": "stdout",
     "output_type": "stream",
     "text": [
      "- dataset mergeado -\n",
      "Cantidad de Filas: 3657801\n",
      "Cantidad de Columnas: 36\n"
     ]
    }
   ],
   "source": [
    "filas, columnas = df.shape\n",
    "print(\"- dataset mergeado -\")\n",
    "print(f\"Cantidad de Filas: {filas}\")\n",
    "print(f\"Cantidad de Columnas: {columnas}\")"
   ]
  },
  {
   "cell_type": "markdown",
   "metadata": {},
   "source": [
    "<b>Nos quedamos solo con los features que utilizaremos</b>"
   ]
  },
  {
   "cell_type": "code",
   "execution_count": 16,
   "metadata": {},
   "outputs": [],
   "source": [
    "df = df[[ \n",
    "        # df_train\n",
    "        'customer_id', 'account_id', 'device_type', 'asset_id', 'tunein', 'tuneout', 'resume', \n",
    "        # df_metadatos\n",
    "        'content_id', 'title', 'show_type', 'country_of_origin', 'category', 'run_time_min', 'end_vod_date'\n",
    "        ]]"
   ]
  },
  {
   "cell_type": "code",
   "execution_count": 17,
   "metadata": {},
   "outputs": [
    {
     "name": "stdout",
     "output_type": "stream",
     "text": [
      "- dataset mergeado -\n",
      "Cantidad de Filas: 3657801\n",
      "Cantidad de Columnas: 14\n"
     ]
    }
   ],
   "source": [
    "filas, columnas = df.shape\n",
    "print(\"- dataset mergeado -\")\n",
    "print(f\"Cantidad de Filas: {filas}\")\n",
    "print(f\"Cantidad de Columnas: {columnas}\")"
   ]
  },
  {
   "cell_type": "markdown",
   "metadata": {},
   "source": [
    "<b>info y nulos del dataset</b>"
   ]
  },
  {
   "cell_type": "code",
   "execution_count": 18,
   "metadata": {
    "scrolled": true
   },
   "outputs": [
    {
     "name": "stdout",
     "output_type": "stream",
     "text": [
      "<class 'pandas.core.frame.DataFrame'>\n",
      "Int64Index: 3657801 entries, 0 to 3657800\n",
      "Data columns (total 14 columns):\n",
      " #   Column             Dtype  \n",
      "---  ------             -----  \n",
      " 0   customer_id        int64  \n",
      " 1   account_id         int64  \n",
      " 2   device_type        object \n",
      " 3   asset_id           float64\n",
      " 4   tunein             object \n",
      " 5   tuneout            object \n",
      " 6   resume             int64  \n",
      " 7   content_id         float64\n",
      " 8   title              object \n",
      " 9   show_type          object \n",
      " 10  country_of_origin  object \n",
      " 11  category           object \n",
      " 12  run_time_min       float64\n",
      " 13  end_vod_date       object \n",
      "dtypes: float64(3), int64(3), object(8)\n",
      "memory usage: 418.6+ MB\n"
     ]
    }
   ],
   "source": [
    "# Info de las columnas\n",
    "df.info()"
   ]
  },
  {
   "cell_type": "code",
   "execution_count": 19,
   "metadata": {
    "scrolled": true
   },
   "outputs": [
    {
     "data": {
      "text/plain": [
       "customer_id            0\n",
       "account_id             0\n",
       "device_type           29\n",
       "asset_id              22\n",
       "tunein                 0\n",
       "tuneout                0\n",
       "resume                 0\n",
       "content_id           142\n",
       "title                 22\n",
       "show_type             35\n",
       "country_of_origin     40\n",
       "category              22\n",
       "run_time_min          22\n",
       "end_vod_date          22\n",
       "dtype: int64"
      ]
     },
     "execution_count": 19,
     "metadata": {},
     "output_type": "execute_result"
    }
   ],
   "source": [
    "# Hay nulos?\n",
    "df.isna().sum()"
   ]
  },
  {
   "cell_type": "code",
   "execution_count": 20,
   "metadata": {
    "scrolled": true
   },
   "outputs": [
    {
     "data": {
      "text/plain": [
       "customer_id          0.000000\n",
       "account_id           0.000000\n",
       "device_type          0.000793\n",
       "asset_id             0.000601\n",
       "tunein               0.000000\n",
       "tuneout              0.000000\n",
       "resume               0.000000\n",
       "content_id           0.003882\n",
       "title                0.000601\n",
       "show_type            0.000957\n",
       "country_of_origin    0.001094\n",
       "category             0.000601\n",
       "run_time_min         0.000601\n",
       "end_vod_date         0.000601\n",
       "dtype: float64"
      ]
     },
     "execution_count": 20,
     "metadata": {},
     "output_type": "execute_result"
    }
   ],
   "source": [
    "# Porcentaje de nulos\n",
    "df.isna().mean()*100"
   ]
  },
  {
   "cell_type": "markdown",
   "metadata": {},
   "source": [
    "<b>Elimininamos nulos</b>"
   ]
  },
  {
   "cell_type": "code",
   "execution_count": 21,
   "metadata": {
    "scrolled": true
   },
   "outputs": [
    {
     "name": "stdout",
     "output_type": "stream",
     "text": [
      "Antes: 3657801\n",
      "Ahora: 3657599\n",
      "CPU times: user 1.12 s, sys: 48.1 ms, total: 1.17 s\n",
      "Wall time: 1.16 s\n"
     ]
    }
   ],
   "source": [
    "%%time\n",
    "print(f\"Antes: {df.shape[0]}\")\n",
    "df = df.dropna()\n",
    "print(f\"Ahora: {df.shape[0]}\")"
   ]
  },
  {
   "cell_type": "markdown",
   "metadata": {},
   "source": [
    "<b>Eliminamos duplicados</b>"
   ]
  },
  {
   "cell_type": "code",
   "execution_count": 22,
   "metadata": {},
   "outputs": [
    {
     "name": "stdout",
     "output_type": "stream",
     "text": [
      "Antes: 3657599\n",
      "Ahora: 3657561\n",
      "CPU times: user 4.36 s, sys: 254 ms, total: 4.61 s\n",
      "Wall time: 4.63 s\n"
     ]
    }
   ],
   "source": [
    "%%time\n",
    "print(f\"Antes: {df.shape[0]}\")\n",
    "df = df.drop_duplicates(keep='first')\n",
    "print(f\"Ahora: {df.shape[0]}\")"
   ]
  },
  {
   "cell_type": "markdown",
   "metadata": {
    "id": "1SP7ajmUN7C6"
   },
   "source": [
    "<b>Convertimos 'tunein' a YYYYmmDD, ya que lo utilizaremos para hacer el split para train y test</b>"
   ]
  },
  {
   "cell_type": "code",
   "execution_count": 23,
   "metadata": {
    "colab": {
     "base_uri": "https://localhost:8080/",
     "height": 206
    },
    "id": "rbHhgvbYpUbQ",
    "outputId": "073fc2f2-5fbb-4497-defc-a872bc5ab053"
   },
   "outputs": [
    {
     "name": "stdout",
     "output_type": "stream",
     "text": [
      "CPU times: user 17.2 s, sys: 79.4 ms, total: 17.2 s\n",
      "Wall time: 17.2 s\n"
     ]
    },
    {
     "data": {
      "text/html": [
       "<div>\n",
       "<style scoped>\n",
       "    .dataframe tbody tr th:only-of-type {\n",
       "        vertical-align: middle;\n",
       "    }\n",
       "\n",
       "    .dataframe tbody tr th {\n",
       "        vertical-align: top;\n",
       "    }\n",
       "\n",
       "    .dataframe thead th {\n",
       "        text-align: right;\n",
       "    }\n",
       "</style>\n",
       "<table border=\"1\" class=\"dataframe\">\n",
       "  <thead>\n",
       "    <tr style=\"text-align: right;\">\n",
       "      <th></th>\n",
       "      <th>tunein</th>\n",
       "      <th>timestamp</th>\n",
       "    </tr>\n",
       "  </thead>\n",
       "  <tbody>\n",
       "    <tr>\n",
       "      <th>0</th>\n",
       "      <td>2021-02-18 22:52:00.0</td>\n",
       "      <td>2021-02-18</td>\n",
       "    </tr>\n",
       "  </tbody>\n",
       "</table>\n",
       "</div>"
      ],
      "text/plain": [
       "                  tunein  timestamp\n",
       "0  2021-02-18 22:52:00.0 2021-02-18"
      ]
     },
     "execution_count": 23,
     "metadata": {},
     "output_type": "execute_result"
    }
   ],
   "source": [
    "%%time\n",
    "df['timestamp'] = pd.to_datetime(df['tunein'], format='%Y/%m/%d')\n",
    "df['timestamp'] = df['timestamp'].dt.strftime('%Y/%m/%d')\n",
    "df['timestamp'] = pd.to_datetime(df['timestamp'], format='%Y/%m/%d')\n",
    "df[['tunein', 'timestamp']].head(1)"
   ]
  },
  {
   "cell_type": "markdown",
   "metadata": {},
   "source": [
    "<b>Calculamos los minutos de visualizacion del asset por el usuario</b>"
   ]
  },
  {
   "cell_type": "code",
   "execution_count": 24,
   "metadata": {},
   "outputs": [
    {
     "name": "stdout",
     "output_type": "stream",
     "text": [
      "CPU times: user 986 ms, sys: 59.5 ms, total: 1.05 s\n",
      "Wall time: 1.04 s\n"
     ]
    },
    {
     "data": {
      "text/html": [
       "<div>\n",
       "<style scoped>\n",
       "    .dataframe tbody tr th:only-of-type {\n",
       "        vertical-align: middle;\n",
       "    }\n",
       "\n",
       "    .dataframe tbody tr th {\n",
       "        vertical-align: top;\n",
       "    }\n",
       "\n",
       "    .dataframe thead th {\n",
       "        text-align: right;\n",
       "    }\n",
       "</style>\n",
       "<table border=\"1\" class=\"dataframe\">\n",
       "  <thead>\n",
       "    <tr style=\"text-align: right;\">\n",
       "      <th></th>\n",
       "      <th>from</th>\n",
       "      <th>to</th>\n",
       "      <th>resultado</th>\n",
       "      <th>minutos_vistos</th>\n",
       "    </tr>\n",
       "  </thead>\n",
       "  <tbody>\n",
       "    <tr>\n",
       "      <th>0</th>\n",
       "      <td>2021-02-18 22:52:00</td>\n",
       "      <td>2021-02-18 23:35:00</td>\n",
       "      <td>0 days 00:43:00</td>\n",
       "      <td>43.0</td>\n",
       "    </tr>\n",
       "    <tr>\n",
       "      <th>1</th>\n",
       "      <td>2021-03-24 23:17:00</td>\n",
       "      <td>2021-03-25 00:01:00</td>\n",
       "      <td>0 days 00:44:00</td>\n",
       "      <td>44.0</td>\n",
       "    </tr>\n",
       "  </tbody>\n",
       "</table>\n",
       "</div>"
      ],
      "text/plain": [
       "                 from                  to       resultado  minutos_vistos\n",
       "0 2021-02-18 22:52:00 2021-02-18 23:35:00 0 days 00:43:00            43.0\n",
       "1 2021-03-24 23:17:00 2021-03-25 00:01:00 0 days 00:44:00            44.0"
      ]
     },
     "execution_count": 24,
     "metadata": {},
     "output_type": "execute_result"
    }
   ],
   "source": [
    "%%time\n",
    "df['from'] =  pd.to_datetime(df['tunein'], format='%Y-%m-%d %H:%M:%S.%f')\n",
    "df['to'] =  pd.to_datetime(df['tuneout'], format='%Y-%m-%d %H:%M:%S.%f')\n",
    "df['resultado'] = df['to'] - df['from']\n",
    "df['minutos_vistos'] = df['resultado'].dt.seconds.div(60).astype(float) \n",
    "df[['from','to','resultado','minutos_vistos']].head(2)"
   ]
  },
  {
   "cell_type": "markdown",
   "metadata": {},
   "source": [
    "<b>Feature 'end_vod_date' de object a date</b>"
   ]
  },
  {
   "cell_type": "code",
   "execution_count": 25,
   "metadata": {},
   "outputs": [],
   "source": [
    "df['end_vod_date'] = pd.to_datetime(df['end_vod_date'], format='%Y/%m/%d')\n",
    "df[\"end_vod_date\"] = pd.to_datetime(df[\"end_vod_date\"]).dt.date"
   ]
  },
  {
   "cell_type": "markdown",
   "metadata": {
    "id": "0Jud-pi9soK3"
   },
   "source": [
    "<b>Fecha mínima y máxima del dataset</b>"
   ]
  },
  {
   "cell_type": "code",
   "execution_count": 26,
   "metadata": {
    "colab": {
     "base_uri": "https://localhost:8080/"
    },
    "id": "TvP0Yq8cssTe",
    "outputId": "51eabfc2-16c9-4290-d5c2-8e3b84bb55f6"
   },
   "outputs": [
    {
     "name": "stdout",
     "output_type": "stream",
     "text": [
      "Fecha mínimima: 2021-01-01 00:00:00\n",
      "Fecha máxima: 2021-03-31 00:00:00\n"
     ]
    }
   ],
   "source": [
    "print(f\"Fecha mínimima: {df.timestamp.min()}\")\n",
    "print(f\"Fecha máxima: {df.timestamp.max()}\")"
   ]
  },
  {
   "cell_type": "markdown",
   "metadata": {},
   "source": [
    "<b>Clientes y Perfiles</b>"
   ]
  },
  {
   "cell_type": "code",
   "execution_count": 27,
   "metadata": {},
   "outputs": [
    {
     "name": "stdout",
     "output_type": "stream",
     "text": [
      "Número de clientes: 112332\n",
      "Número de perfiles: 113873\n"
     ]
    }
   ],
   "source": [
    "print(f'Número de clientes: {df[\"customer_id\"].nunique()}')\n",
    "print(f'Número de perfiles: {df[\"account_id\"].nunique()}')"
   ]
  },
  {
   "cell_type": "code",
   "execution_count": 28,
   "metadata": {},
   "outputs": [
    {
     "name": "stdout",
     "output_type": "stream",
     "text": [
      "(3657561, 2)\n",
      "(113873, 2)\n",
      "\n",
      "customer_id\n",
      "55768     3\n",
      "99513     3\n",
      "80283     3\n",
      "100109    3\n",
      "23884     3\n",
      "         ..\n",
      "74612     1\n",
      "74613     1\n",
      "74614     1\n",
      "74615     1\n",
      "0         1\n",
      "Length: 112332, dtype: int64\n",
      "\n",
      "Vemos que el nro max de perfiles por cliente es de 3 y el mínimo de 1.\n"
     ]
    }
   ],
   "source": [
    "# Perfiles por cliente\n",
    "df_copy = df[['customer_id','account_id']].copy()\n",
    "print(df_copy.shape)\n",
    "df_copy = df_copy.drop_duplicates(keep='first')\n",
    "print(df_copy.shape)\n",
    "print(\"\")\n",
    "print(df_copy.groupby('customer_id').size() \\\n",
    "    .sort_values(ascending=False))\n",
    "print(\"\")\n",
    "print(\"Vemos que el nro max de perfiles por cliente es de 3 y el mínimo de 1.\")"
   ]
  },
  {
   "cell_type": "code",
   "execution_count": 29,
   "metadata": {
    "scrolled": true
   },
   "outputs": [
    {
     "data": {
      "image/png": "[encoded data removed]",
      "text/plain": [
       "<Figure size 432x288 with 1 Axes>"
      ]
     },
     "metadata": {
      "needs_background": "light"
     },
     "output_type": "display_data"
    }
   ],
   "source": [
    "accounts_per_customer = df.groupby('customer_id').agg({'account_id': 'nunique'}).account_id\n",
    "\n",
    "plt.figure()\n",
    "plt.title(\"Cantidad de cuentas por cliente\")\n",
    "sns.countplot(x=accounts_per_customer)\n",
    "plt.yscale('log')\n",
    "plt.show()"
   ]
  },
  {
   "cell_type": "markdown",
   "metadata": {},
   "source": [
    "<i>Vemos que la mayoría de los clientes tiene una sola cuenta.</i>"
   ]
  },
  {
   "cell_type": "code",
   "execution_count": 30,
   "metadata": {},
   "outputs": [
    {
     "data": {
      "text/plain": [
       "1    110822\n",
       "2      1479\n",
       "3        31\n",
       "Name: account_id, dtype: int64"
      ]
     },
     "execution_count": 30,
     "metadata": {},
     "output_type": "execute_result"
    }
   ],
   "source": [
    "accounts_per_customer.value_counts()"
   ]
  },
  {
   "cell_type": "markdown",
   "metadata": {},
   "source": [
    "<b>Assets y contenidos</b>"
   ]
  },
  {
   "cell_type": "code",
   "execution_count": 31,
   "metadata": {
    "scrolled": true
   },
   "outputs": [
    {
     "name": "stdout",
     "output_type": "stream",
     "text": [
      "Número de contents: 4061\n",
      "Número de assets: 23973\n"
     ]
    }
   ],
   "source": [
    "print(f'Número de contents: {df[\"content_id\"].nunique()}')\n",
    "print(f'Número de assets: {df[\"asset_id\"].nunique()}')"
   ]
  },
  {
   "cell_type": "code",
   "execution_count": 32,
   "metadata": {
    "scrolled": true
   },
   "outputs": [
    {
     "name": "stdout",
     "output_type": "stream",
     "text": [
      "Cantidad de assets por content_id\n",
      "\n",
      "content_id\n",
      "1879.0    205\n",
      "176.0     195\n",
      "387.0     171\n",
      "1769.0    170\n",
      "1573.0    168\n",
      "         ... \n",
      "3608.0      1\n",
      "3609.0      1\n",
      "3610.0      1\n",
      "3612.0      1\n",
      "4371.0      1\n",
      "Length: 4061, dtype: int64\n",
      "\n",
      "Vemos que el nro max de assets por contenido es de 205.\n"
     ]
    }
   ],
   "source": [
    "df_copy = df[['content_id','asset_id']].copy()\n",
    "df_copy = df_copy.drop_duplicates(keep='first')\n",
    "aux = df_copy.groupby('content_id').size() \\\n",
    "            .sort_values(ascending=False)\n",
    "print(\"Cantidad de assets por content_id\")\n",
    "print(\"\")\n",
    "print(aux)\n",
    "print(\"\")\n",
    "print(\"Vemos que el nro max de assets por contenido es de 205.\")"
   ]
  },
  {
   "cell_type": "markdown",
   "metadata": {
    "id": "IWX6m9cAs6Fe"
   },
   "source": [
    "<b>Cantidad de visualizaciones por año:</b>"
   ]
  },
  {
   "cell_type": "code",
   "execution_count": 33,
   "metadata": {
    "colab": {
     "base_uri": "https://localhost:8080/",
     "height": 81
    },
    "id": "rGdEmTg3s84V",
    "outputId": "a36d1336-9a3a-4645-a587-80b80e4f9dab"
   },
   "outputs": [
    {
     "data": {
      "text/html": [
       "<div>\n",
       "<style scoped>\n",
       "    .dataframe tbody tr th:only-of-type {\n",
       "        vertical-align: middle;\n",
       "    }\n",
       "\n",
       "    .dataframe tbody tr th {\n",
       "        vertical-align: top;\n",
       "    }\n",
       "\n",
       "    .dataframe thead th {\n",
       "        text-align: right;\n",
       "    }\n",
       "</style>\n",
       "<table border=\"1\" class=\"dataframe\">\n",
       "  <thead>\n",
       "    <tr style=\"text-align: right;\">\n",
       "      <th></th>\n",
       "      <th>year</th>\n",
       "      <th>visualizations_count</th>\n",
       "    </tr>\n",
       "  </thead>\n",
       "  <tbody>\n",
       "    <tr>\n",
       "      <th>0</th>\n",
       "      <td>2021</td>\n",
       "      <td>3657561</td>\n",
       "    </tr>\n",
       "  </tbody>\n",
       "</table>\n",
       "</div>"
      ],
      "text/plain": [
       "   year  visualizations_count\n",
       "0  2021               3657561"
      ]
     },
     "execution_count": 33,
     "metadata": {},
     "output_type": "execute_result"
    }
   ],
   "source": [
    "plot_df = df.copy()\n",
    "plot_df[\"year\"] = plot_df.timestamp.dt.year\n",
    "plot_df = plot_df.groupby(\"year\", as_index=False).count()[[\"year\", \"customer_id\"]]\n",
    "plot_df.columns = [\"year\", \"visualizations_count\"]\n",
    "plot_df.head()"
   ]
  },
  {
   "cell_type": "markdown",
   "metadata": {
    "id": "mJ6RaoJPxKaZ"
   },
   "source": [
    "<b>Cantidad de visualizaciones por mes:</b>"
   ]
  },
  {
   "cell_type": "code",
   "execution_count": 34,
   "metadata": {
    "colab": {
     "base_uri": "https://localhost:8080/",
     "height": 143
    },
    "id": "I11ztYl9wxz6",
    "outputId": "4f557d68-44a6-4699-ffdf-73097f5eb99e"
   },
   "outputs": [
    {
     "data": {
      "text/html": [
       "<div>\n",
       "<style scoped>\n",
       "    .dataframe tbody tr th:only-of-type {\n",
       "        vertical-align: middle;\n",
       "    }\n",
       "\n",
       "    .dataframe tbody tr th {\n",
       "        vertical-align: top;\n",
       "    }\n",
       "\n",
       "    .dataframe thead th {\n",
       "        text-align: right;\n",
       "    }\n",
       "</style>\n",
       "<table border=\"1\" class=\"dataframe\">\n",
       "  <thead>\n",
       "    <tr style=\"text-align: right;\">\n",
       "      <th></th>\n",
       "      <th>month</th>\n",
       "      <th>visualizations_count</th>\n",
       "    </tr>\n",
       "  </thead>\n",
       "  <tbody>\n",
       "    <tr>\n",
       "      <th>0</th>\n",
       "      <td>1</td>\n",
       "      <td>1216404</td>\n",
       "    </tr>\n",
       "    <tr>\n",
       "      <th>1</th>\n",
       "      <td>2</td>\n",
       "      <td>1122548</td>\n",
       "    </tr>\n",
       "    <tr>\n",
       "      <th>2</th>\n",
       "      <td>3</td>\n",
       "      <td>1318609</td>\n",
       "    </tr>\n",
       "  </tbody>\n",
       "</table>\n",
       "</div>"
      ],
      "text/plain": [
       "   month  visualizations_count\n",
       "0      1               1216404\n",
       "1      2               1122548\n",
       "2      3               1318609"
      ]
     },
     "execution_count": 34,
     "metadata": {},
     "output_type": "execute_result"
    }
   ],
   "source": [
    "plot_df = df.copy()\n",
    "plot_df[\"month\"] = plot_df.timestamp.dt.month\n",
    "plot_df = plot_df.groupby(\"month\", as_index=False).count()[[\"month\", \"customer_id\"]]\n",
    "plot_df.columns = [\"month\", \"visualizations_count\"]\n",
    "plot_df.head()"
   ]
  },
  {
   "cell_type": "code",
   "execution_count": 35,
   "metadata": {
    "colab": {
     "base_uri": "https://localhost:8080/",
     "height": 350
    },
    "id": "DwjfjxpExuCl",
    "outputId": "65c4fe0b-c8ff-4d71-f2db-5adfe81ce731"
   },
   "outputs": [
    {
     "data": {
      "image/png": "[encoded data removed]",
      "text/plain": [
       "<Figure size 1080x360 with 1 Axes>"
      ]
     },
     "metadata": {
      "needs_background": "light"
     },
     "output_type": "display_data"
    }
   ],
   "source": [
    "plt.figure(figsize=(15,5))\n",
    "ax = sns.barplot(x=plot_df.month, y=plot_df.visualizations_count)\n",
    "plt.title(\"Cantidad de visualizaciones por mes\")\n",
    "plt.show()"
   ]
  },
  {
   "cell_type": "markdown",
   "metadata": {},
   "source": [
    "<b>Cantidad de visualizaciones por tipo de dispositivo</b>"
   ]
  },
  {
   "cell_type": "code",
   "execution_count": 33,
   "metadata": {},
   "outputs": [
    {
     "data": {
      "image/png": "[encoded data removed]",
      "text/plain": [
       "<Figure size 1440x360 with 1 Axes>"
      ]
     },
     "metadata": {
      "needs_background": "light"
     },
     "output_type": "display_data"
    }
   ],
   "source": [
    "plt.figure(figsize=(20, 5))\n",
    "ax = sns.countplot(data=df, x='device_type', order=df['device_type'].value_counts().iloc[:10].index)\n",
    "# for container in ax.containers:\n",
    "  #  ax.bar_label(container)\n",
    "plt.xlabel('Dispositivo')\n",
    "plt.ylabel('Visualizaciones')\n",
    "plt.grid(linewidth=0.3)\n",
    "plt.title('Countplot device_type', fontdict={'fontsize': 12,'fontweight':'bold'})\n",
    "plt.show()"
   ]
  },
  {
   "cell_type": "code",
   "execution_count": 34,
   "metadata": {
    "scrolled": true
   },
   "outputs": [
    {
     "data": {
      "text/plain": [
       "STB             2993374\n",
       "STATIONARY       224697\n",
       "PHONE            216460\n",
       "CLOUD_CLIENT     174519\n",
       "TABLET            48511\n",
       "Name: device_type, dtype: int64"
      ]
     },
     "execution_count": 34,
     "metadata": {},
     "output_type": "execute_result"
    }
   ],
   "source": [
    "df.device_type.value_counts()"
   ]
  },
  {
   "cell_type": "markdown",
   "metadata": {},
   "source": [
    "<i>La mayor parte de las reproducciones son desde el decodificador de flow (STB)</i>"
   ]
  },
  {
   "cell_type": "markdown",
   "metadata": {},
   "source": [
    "<b>Cantidad de visualizaciones por country_of_origin</b>"
   ]
  },
  {
   "cell_type": "code",
   "execution_count": 46,
   "metadata": {},
   "outputs": [],
   "source": [
    "df_country = df.groupby(['content_id','country_of_origin'])['asset_id'].size().reset_index()\n",
    "df_country = df_country.drop_duplicates(subset=['content_id', 'country_of_origin'], keep='last') "
   ]
  },
  {
   "cell_type": "code",
   "execution_count": 54,
   "metadata": {},
   "outputs": [
    {
     "data": {
      "image/png": "[encoded data removed]",
      "text/plain": [
       "<Figure size 1440x360 with 1 Axes>"
      ]
     },
     "metadata": {
      "needs_background": "light"
     },
     "output_type": "display_data"
    }
   ],
   "source": [
    "plt.figure(figsize=(20, 5))\n",
    "ax = sns.countplot(data=df_country, x='country_of_origin', order=df_country['country_of_origin'].value_counts().iloc[:30].index)\n",
    "# for container in ax.containers:\n",
    "  #  ax.bar_label(container)\n",
    "plt.xlabel('Pais de origen')\n",
    "plt.ylabel('Visualizaciones')\n",
    "ax.set(yscale=\"log\")\n",
    "plt.grid(linewidth=0.3)\n",
    "plt.title('Countplot country_of_origin', fontdict={'fontsize': 12,'fontweight':'bold'})\n",
    "plt.show()"
   ]
  },
  {
   "cell_type": "code",
   "execution_count": 57,
   "metadata": {},
   "outputs": [
    {
     "data": {
      "text/plain": [
       "US    2307\n",
       "AR     541\n",
       "GB     337\n",
       "ES     250\n",
       "FR      92\n",
       "CA      82\n",
       "IT      69\n",
       "DE      54\n",
       "BR      53\n",
       "MX      34\n",
       "Name: country_of_origin, dtype: int64"
      ]
     },
     "execution_count": 57,
     "metadata": {},
     "output_type": "execute_result"
    }
   ],
   "source": [
    "df_country.country_of_origin.value_counts()[:10]"
   ]
  },
  {
   "cell_type": "markdown",
   "metadata": {},
   "source": [
    "<b>Cantidad de visualizaciones por tipo</b>"
   ]
  },
  {
   "cell_type": "code",
   "execution_count": 41,
   "metadata": {
    "scrolled": true
   },
   "outputs": [
    {
     "data": {
      "image/png": "[encoded data removed]",
      "text/plain": [
       "<Figure size 1440x360 with 1 Axes>"
      ]
     },
     "metadata": {
      "needs_background": "light"
     },
     "output_type": "display_data"
    }
   ],
   "source": [
    "plt.figure(figsize=(20, 5))\n",
    "ax = sns.countplot(data=df, x='show_type', order=df['show_type'].value_counts().iloc[:30].index)\n",
    "# for container in ax.containers:\n",
    "  #  ax.bar_label(container)\n",
    "plt.xlabel('Tipo')\n",
    "plt.ylabel('Visualizaciones')\n",
    "plt.grid(linewidth=0.3)\n",
    "plt.title('Countplot show_type', fontdict={'fontsize': 12,'fontweight':'bold'})\n",
    "plt.show()"
   ]
  },
  {
   "cell_type": "code",
   "execution_count": 42,
   "metadata": {},
   "outputs": [
    {
     "data": {
      "text/plain": [
       "Serie           1549986\n",
       "TV              1178457\n",
       "Película         867207\n",
       "Web               32706\n",
       "Rolling           26273\n",
       "Gaming             2878\n",
       "Series,Serie         54\n",
       "Name: show_type, dtype: int64"
      ]
     },
     "execution_count": 42,
     "metadata": {},
     "output_type": "execute_result"
    }
   ],
   "source": [
    "df.show_type.value_counts()"
   ]
  },
  {
   "cell_type": "markdown",
   "metadata": {},
   "source": [
    "<i>Vemos que el último show type corresponde a 'Series,Serie', por lo que decidimos agruparlos en Serie</i>"
   ]
  },
  {
   "cell_type": "code",
   "execution_count": 43,
   "metadata": {},
   "outputs": [],
   "source": [
    "df['show_type'] = df['show_type'].apply(lambda x: 'Serie' if x == 'Series,Serie' else x)"
   ]
  },
  {
   "cell_type": "markdown",
   "metadata": {},
   "source": [
    "<b>Cantidad de visualizaciones por perfil:</b>"
   ]
  },
  {
   "cell_type": "code",
   "execution_count": 48,
   "metadata": {
    "scrolled": true
   },
   "outputs": [
    {
     "data": {
      "text/plain": [
       "customer_id  account_id\n",
       "36854        7107          3612\n",
       "79889        99113         2256\n",
       "110394       24556         1836\n",
       "66280        84543         1692\n",
       "82636        102343        1631\n",
       "                           ... \n",
       "45017        63925            1\n",
       "45056        63962            1\n",
       "9852         92611            1\n",
       "45061        63966            1\n",
       "101201       17563            1\n",
       "Name: minutos_vistos, Length: 113873, dtype: int64"
      ]
     },
     "execution_count": 48,
     "metadata": {},
     "output_type": "execute_result"
    }
   ],
   "source": [
    "df.groupby(['customer_id','account_id'])['minutos_vistos'].size() \\\n",
    "    .sort_values(ascending=False)"
   ]
  },
  {
   "cell_type": "markdown",
   "metadata": {},
   "source": [
    "Cantidad de visualizaciones por perfil y content_id:"
   ]
  },
  {
   "cell_type": "code",
   "execution_count": 49,
   "metadata": {
    "scrolled": true
   },
   "outputs": [
    {
     "data": {
      "text/plain": [
       "customer_id  account_id  content_id\n",
       "36854        7107        491.0         1885\n",
       "109693       3042        562.0         1246\n",
       "46409        65203       712.0         1242\n",
       "25204        46522       1139.0        1187\n",
       "32154        52503       2160.0        1104\n",
       "                                       ... \n",
       "51330        69739       3329.0           1\n",
       "                         3021.0           1\n",
       "                         2259.0           1\n",
       "84019        104007      1502.0           1\n",
       "58814        76671       1986.0           1\n",
       "Name: minutos_vistos, Length: 971443, dtype: int64"
      ]
     },
     "execution_count": 49,
     "metadata": {},
     "output_type": "execute_result"
    }
   ],
   "source": [
    "df.groupby(['customer_id','account_id','content_id'])['minutos_vistos'].size() \\\n",
    "    .sort_values(ascending=False)"
   ]
  },
  {
   "cell_type": "code",
   "execution_count": 50,
   "metadata": {},
   "outputs": [
    {
     "data": {
      "text/html": [
       "<div>\n",
       "<style scoped>\n",
       "    .dataframe tbody tr th:only-of-type {\n",
       "        vertical-align: middle;\n",
       "    }\n",
       "\n",
       "    .dataframe tbody tr th {\n",
       "        vertical-align: top;\n",
       "    }\n",
       "\n",
       "    .dataframe thead th {\n",
       "        text-align: right;\n",
       "    }\n",
       "</style>\n",
       "<table border=\"1\" class=\"dataframe\">\n",
       "  <thead>\n",
       "    <tr style=\"text-align: right;\">\n",
       "      <th></th>\n",
       "      <th>customer_id</th>\n",
       "      <th>account_id</th>\n",
       "      <th>device_type</th>\n",
       "      <th>asset_id</th>\n",
       "      <th>tunein</th>\n",
       "      <th>tuneout</th>\n",
       "      <th>resume</th>\n",
       "      <th>content_id</th>\n",
       "      <th>title</th>\n",
       "      <th>show_type</th>\n",
       "      <th>country_of_origin</th>\n",
       "      <th>category</th>\n",
       "      <th>run_time_min</th>\n",
       "      <th>end_vod_date</th>\n",
       "      <th>timestamp</th>\n",
       "      <th>from</th>\n",
       "      <th>to</th>\n",
       "      <th>resultado</th>\n",
       "      <th>minutos_vistos</th>\n",
       "    </tr>\n",
       "  </thead>\n",
       "  <tbody>\n",
       "    <tr>\n",
       "      <th>1087982</th>\n",
       "      <td>36854</td>\n",
       "      <td>7107</td>\n",
       "      <td>STB</td>\n",
       "      <td>15150.0</td>\n",
       "      <td>2021-01-01 08:46:00.0</td>\n",
       "      <td>2021-01-01 08:49:00.0</td>\n",
       "      <td>0</td>\n",
       "      <td>491.0</td>\n",
       "      <td>T:1 Ep:01 La Granja de Zenón: La Serie</td>\n",
       "      <td>TV</td>\n",
       "      <td>AR</td>\n",
       "      <td>Infantil/Dibujos Animados</td>\n",
       "      <td>3.0</td>\n",
       "      <td>2021-09-17</td>\n",
       "      <td>2021-01-01</td>\n",
       "      <td>2021-01-01 08:46:00</td>\n",
       "      <td>2021-01-01 08:49:00</td>\n",
       "      <td>0 days 00:03:00</td>\n",
       "      <td>3.0</td>\n",
       "    </tr>\n",
       "    <tr>\n",
       "      <th>1087983</th>\n",
       "      <td>36854</td>\n",
       "      <td>7107</td>\n",
       "      <td>STB</td>\n",
       "      <td>31410.0</td>\n",
       "      <td>2021-01-01 08:50:00.0</td>\n",
       "      <td>2021-01-01 08:53:00.0</td>\n",
       "      <td>0</td>\n",
       "      <td>491.0</td>\n",
       "      <td>T:1 Ep:02 La Granja de Zenón: La Serie</td>\n",
       "      <td>TV</td>\n",
       "      <td>AR</td>\n",
       "      <td>Infantil/Dibujos Animados</td>\n",
       "      <td>3.0</td>\n",
       "      <td>2021-09-17</td>\n",
       "      <td>2021-01-01</td>\n",
       "      <td>2021-01-01 08:50:00</td>\n",
       "      <td>2021-01-01 08:53:00</td>\n",
       "      <td>0 days 00:03:00</td>\n",
       "      <td>3.0</td>\n",
       "    </tr>\n",
       "    <tr>\n",
       "      <th>1088006</th>\n",
       "      <td>36854</td>\n",
       "      <td>7107</td>\n",
       "      <td>STB</td>\n",
       "      <td>15150.0</td>\n",
       "      <td>2021-01-02 12:42:00.0</td>\n",
       "      <td>2021-01-02 12:45:00.0</td>\n",
       "      <td>1</td>\n",
       "      <td>491.0</td>\n",
       "      <td>T:1 Ep:01 La Granja de Zenón: La Serie</td>\n",
       "      <td>TV</td>\n",
       "      <td>AR</td>\n",
       "      <td>Infantil/Dibujos Animados</td>\n",
       "      <td>3.0</td>\n",
       "      <td>2021-09-17</td>\n",
       "      <td>2021-01-02</td>\n",
       "      <td>2021-01-02 12:42:00</td>\n",
       "      <td>2021-01-02 12:45:00</td>\n",
       "      <td>0 days 00:03:00</td>\n",
       "      <td>3.0</td>\n",
       "    </tr>\n",
       "  </tbody>\n",
       "</table>\n",
       "</div>"
      ],
      "text/plain": [
       "         customer_id  account_id device_type  asset_id                 tunein  \\\n",
       "1087982        36854        7107         STB   15150.0  2021-01-01 08:46:00.0   \n",
       "1087983        36854        7107         STB   31410.0  2021-01-01 08:50:00.0   \n",
       "1088006        36854        7107         STB   15150.0  2021-01-02 12:42:00.0   \n",
       "\n",
       "                       tuneout  resume  content_id  \\\n",
       "1087982  2021-01-01 08:49:00.0       0       491.0   \n",
       "1087983  2021-01-01 08:53:00.0       0       491.0   \n",
       "1088006  2021-01-02 12:45:00.0       1       491.0   \n",
       "\n",
       "                                          title show_type country_of_origin  \\\n",
       "1087982  T:1 Ep:01 La Granja de Zenón: La Serie        TV                AR   \n",
       "1087983  T:1 Ep:02 La Granja de Zenón: La Serie        TV                AR   \n",
       "1088006  T:1 Ep:01 La Granja de Zenón: La Serie        TV                AR   \n",
       "\n",
       "                          category  run_time_min end_vod_date  timestamp  \\\n",
       "1087982  Infantil/Dibujos Animados           3.0   2021-09-17 2021-01-01   \n",
       "1087983  Infantil/Dibujos Animados           3.0   2021-09-17 2021-01-01   \n",
       "1088006  Infantil/Dibujos Animados           3.0   2021-09-17 2021-01-02   \n",
       "\n",
       "                       from                  to       resultado  \\\n",
       "1087982 2021-01-01 08:46:00 2021-01-01 08:49:00 0 days 00:03:00   \n",
       "1087983 2021-01-01 08:50:00 2021-01-01 08:53:00 0 days 00:03:00   \n",
       "1088006 2021-01-02 12:42:00 2021-01-02 12:45:00 0 days 00:03:00   \n",
       "\n",
       "         minutos_vistos  \n",
       "1087982             3.0  \n",
       "1087983             3.0  \n",
       "1088006             3.0  "
      ]
     },
     "execution_count": 50,
     "metadata": {},
     "output_type": "execute_result"
    }
   ],
   "source": [
    "# Vemos los features del primer registro anterior.\n",
    "df[(df['customer_id'] == 36854) & ( df['account_id']==7107) & (df['content_id']==491)].head(3)"
   ]
  },
  {
   "cell_type": "code",
   "execution_count": 51,
   "metadata": {},
   "outputs": [
    {
     "name": "stdout",
     "output_type": "stream",
     "text": [
      "Sumamos los minutos que vio el perfil 7107 sobre el video 491\n"
     ]
    },
    {
     "data": {
      "text/plain": [
       "customer_id  account_id  content_id  asset_id\n",
       "36854        7107        491.0       24096.0     774.0\n",
       "                                     11479.0     715.0\n",
       "                                     6805.0      708.0\n",
       "                                     31410.0     630.0\n",
       "                                     31895.0     577.0\n",
       "                                     29759.0     567.0\n",
       "                                     15143.0     427.0\n",
       "                                     5757.0      402.0\n",
       "                                     16228.0     387.0\n",
       "                                     30710.0     386.0\n",
       "                                     3205.0      302.0\n",
       "                                     15150.0     273.0\n",
       "Name: minutos_vistos, dtype: float64"
      ]
     },
     "execution_count": 51,
     "metadata": {},
     "output_type": "execute_result"
    }
   ],
   "source": [
    "# Sumamos los minutos que vio el perfil 7107 sobre el video 491\n",
    "print('Sumamos los minutos que vio el perfil 7107 sobre el video 491')\n",
    "df[( df['account_id']==7107) & (df['content_id']==491)].groupby(['customer_id','account_id','content_id','asset_id'])['minutos_vistos'].sum() \\\n",
    "    .sort_values(ascending=False)"
   ]
  },
  {
   "cell_type": "code",
   "execution_count": 52,
   "metadata": {
    "scrolled": true
   },
   "outputs": [
    {
     "data": {
      "text/plain": [
       "content_id\n",
       "491.0    72.0\n",
       "Name: run_time_min, dtype: float64"
      ]
     },
     "execution_count": 52,
     "metadata": {},
     "output_type": "execute_result"
    }
   ],
   "source": [
    "# vemos cuanto dura el video anterior.\n",
    "df_metadatos[(df_metadatos['content_id']==491)].groupby(['content_id'])['run_time_min'].sum() \\\n",
    "    .sort_values(ascending=False)"
   ]
  },
  {
   "cell_type": "markdown",
   "metadata": {},
   "source": [
    "<b>Duración de los assets</b>"
   ]
  },
  {
   "cell_type": "code",
   "execution_count": 53,
   "metadata": {
    "scrolled": true
   },
   "outputs": [
    {
     "name": "stdout",
     "output_type": "stream",
     "text": [
      "Duracion mínima de un video: 0.0\n",
      "Duracion máxima de un video: 305.0\n",
      "Cantidad de videos con duracion mínima: 310\n",
      "Cantidad de videos con duracion máxima: 11\n"
     ]
    }
   ],
   "source": [
    "print(f\"Duracion mínima de un video: {df['run_time_min'].min()}\")\n",
    "print(f\"Duracion máxima de un video: {df['run_time_min'].max()}\")\n",
    "\n",
    "\n",
    "print(f\"Cantidad de videos con duracion mínima: {df[df['run_time_min'] == df['run_time_min'].min()].count().iloc[1]}\")\n",
    "print(f\"Cantidad de videos con duracion máxima: {df[df['run_time_min'] == df['run_time_min'].max()].count().iloc[1]}\")\n"
   ]
  },
  {
   "cell_type": "markdown",
   "metadata": {},
   "source": [
    "<b>Visualizaciones por Mes</b>"
   ]
  },
  {
   "cell_type": "code",
   "execution_count": 54,
   "metadata": {},
   "outputs": [],
   "source": [
    "def getNombreMes(mes):\n",
    "    if( mes == 1 ): return \"Enero\"\n",
    "    if( mes == 2 ): return \"Febrero\"\n",
    "    if( mes == 3 ): return \"Marzo\"\n",
    "    return \"NoDisponible\""
   ]
  },
  {
   "cell_type": "code",
   "execution_count": 55,
   "metadata": {
    "scrolled": true
   },
   "outputs": [
    {
     "data": {
      "image/png": "[encoded data removed]",
      "text/plain": [
       "<Figure size 1080x360 with 1 Axes>"
      ]
     },
     "metadata": {
      "needs_background": "light"
     },
     "output_type": "display_data"
    }
   ],
   "source": [
    "df_visualizaciones = df.copy()\n",
    "\n",
    "df_visualizaciones['dia'] = df['timestamp'].dt.day\n",
    "df_visualizaciones['mes'] = df['timestamp'].dt.month\n",
    "df_visualizaciones['mes'] = df_visualizaciones['mes'].apply(getNombreMes)\n",
    "\n",
    "df_visualizaciones = df_visualizaciones.groupby(['mes', 'dia'], as_index=False).count()[['mes', 'dia', 'asset_id']]\n",
    "df_visualizaciones.rename(columns={'asset_id':'cantidad'}, inplace=True)\n",
    "\n",
    "plt.figure(figsize=(15,5))\n",
    "sns.lineplot(data=df_visualizaciones, x='dia', y='cantidad', hue='mes',  marker=\"o\")\n",
    "plt.title('Visualizaciones por día [tunein]', fontdict={'fontsize': 14,'fontweight':'bold', 'style':'italic'})\n",
    "plt.xticks([x for x in range(df_visualizaciones['dia'].min(), df_visualizaciones['dia'].max() +1,1)])\n",
    "plt.grid(0.6)\n",
    "plt.show()"
   ]
  },
  {
   "cell_type": "markdown",
   "metadata": {},
   "source": [
    "<b>¿Cuántas categorías distintas vio cada cuenta?</b>"
   ]
  },
  {
   "cell_type": "code",
   "execution_count": 56,
   "metadata": {
    "scrolled": true
   },
   "outputs": [
    {
     "data": {
      "image/png": "[encoded data removed]",
      "text/plain": [
       "<Figure size 432x288 with 1 Axes>"
      ]
     },
     "metadata": {
      "needs_background": "light"
     },
     "output_type": "display_data"
    }
   ],
   "source": [
    "categories = df[['account_id', 'category']].groupby('account_id').agg({'category': 'nunique'})\n",
    "plt.figure()\n",
    "plt.title(\"Cantidad de categorías distintas vistas por cuenta\")\n",
    "sns.boxplot(x=categories.category)\n",
    "plt.show()"
   ]
  },
  {
   "cell_type": "code",
   "execution_count": 57,
   "metadata": {},
   "outputs": [
    {
     "data": {
      "text/plain": [
       "1"
      ]
     },
     "execution_count": 57,
     "metadata": {},
     "output_type": "execute_result"
    }
   ],
   "source": [
    "categories.category.min()"
   ]
  },
  {
   "cell_type": "code",
   "execution_count": 58,
   "metadata": {},
   "outputs": [
    {
     "data": {
      "text/plain": [
       "84"
      ]
     },
     "execution_count": 58,
     "metadata": {},
     "output_type": "execute_result"
    }
   ],
   "source": [
    "categories.category.max()"
   ]
  },
  {
   "cell_type": "code",
   "execution_count": 59,
   "metadata": {},
   "outputs": [
    {
     "data": {
      "text/plain": [
       "5.312479692288778"
      ]
     },
     "execution_count": 59,
     "metadata": {},
     "output_type": "execute_result"
    }
   ],
   "source": [
    "categories.category.mean()"
   ]
  },
  {
   "cell_type": "code",
   "execution_count": 60,
   "metadata": {},
   "outputs": [
    {
     "data": {
      "text/plain": [
       "4.0"
      ]
     },
     "execution_count": 60,
     "metadata": {},
     "output_type": "execute_result"
    }
   ],
   "source": [
    "categories.category.median()"
   ]
  },
  {
   "cell_type": "markdown",
   "metadata": {
    "id": "j6nVS-W-pUwa"
   },
   "source": [
    "# Calculamos el rating"
   ]
  },
  {
   "cell_type": "markdown",
   "metadata": {},
   "source": [
    " <b>Opcion 1: Baseline </b>"
   ]
  },
  {
   "cell_type": "markdown",
   "metadata": {},
   "source": [
    "Si vió el contenido entonces le gusto."
   ]
  },
  {
   "cell_type": "code",
   "execution_count": 61,
   "metadata": {},
   "outputs": [],
   "source": [
    "df['rating_1'] = 1"
   ]
  },
  {
   "cell_type": "code",
   "execution_count": 62,
   "metadata": {},
   "outputs": [
    {
     "data": {
      "text/plain": [
       "1    3657561\n",
       "Name: rating_1, dtype: int64"
      ]
     },
     "execution_count": 62,
     "metadata": {},
     "output_type": "execute_result"
    }
   ],
   "source": [
    "df.rating_1.value_counts()"
   ]
  },
  {
   "cell_type": "code",
   "execution_count": null,
   "metadata": {},
   "outputs": [],
   "source": []
  },
  {
   "cell_type": "markdown",
   "metadata": {},
   "source": [
    "<b>Opcion 2: Campo RESUME</b>"
   ]
  },
  {
   "cell_type": "markdown",
   "metadata": {},
   "source": [
    "Si el campo 'resume' es 1, es decir, volvió a ver el contenido, entonces le gusto."
   ]
  },
  {
   "cell_type": "code",
   "execution_count": 63,
   "metadata": {},
   "outputs": [],
   "source": [
    "df['rating_2'] = df.resume.apply(lambda x : 1 if x == 1 else 0)"
   ]
  },
  {
   "cell_type": "code",
   "execution_count": 64,
   "metadata": {},
   "outputs": [
    {
     "data": {
      "text/plain": [
       "0    2192395\n",
       "1    1465166\n",
       "Name: rating_2, dtype: int64"
      ]
     },
     "execution_count": 64,
     "metadata": {},
     "output_type": "execute_result"
    }
   ],
   "source": [
    "df.rating_2.value_counts()"
   ]
  },
  {
   "cell_type": "code",
   "execution_count": null,
   "metadata": {},
   "outputs": [],
   "source": []
  },
  {
   "cell_type": "markdown",
   "metadata": {},
   "source": [
    "<b>Opción 3: Porcentajes de visualización</b>"
   ]
  },
  {
   "cell_type": "markdown",
   "metadata": {},
   "source": [
    "Si vio más del 30% de la duración del asset, entonces significa que le gusto."
   ]
  },
  {
   "cell_type": "code",
   "execution_count": 65,
   "metadata": {},
   "outputs": [],
   "source": [
    "df['rating_3'] = df['run_time_min'] * 0.3 - df['minutos_vistos'] \n",
    "df['rating_3'] = df['rating_3'].apply(lambda x: 1 if x <= 0 else 0)"
   ]
  },
  {
   "cell_type": "code",
   "execution_count": 66,
   "metadata": {},
   "outputs": [
    {
     "data": {
      "text/plain": [
       "1    2433708\n",
       "0    1223853\n",
       "Name: rating_3, dtype: int64"
      ]
     },
     "execution_count": 66,
     "metadata": {},
     "output_type": "execute_result"
    }
   ],
   "source": [
    "df.rating_3.value_counts()"
   ]
  },
  {
   "cell_type": "code",
   "execution_count": null,
   "metadata": {},
   "outputs": [],
   "source": []
  },
  {
   "cell_type": "markdown",
   "metadata": {},
   "source": [
    "<b>Opción 4: Porcentaje de visualización total</b>"
   ]
  },
  {
   "cell_type": "markdown",
   "metadata": {},
   "source": [
    "La idea es calcular el porcentaje de visualización total de cada perfil respecto a cada contentido. Si este porcentaje supera el \"X%\", entonces significa que le gusto el contenido,por ende el rating es 1. Tomamos X = 40."
   ]
  },
  {
   "cell_type": "code",
   "execution_count": 96,
   "metadata": {
    "id": "u8z1ZiWTTwOF"
   },
   "outputs": [],
   "source": [
    "def calcular(content_id):\n",
    "    return df_duracion[df_duracion.content_id == content_id].iloc[0]['run_time_min']"
   ]
  },
  {
   "cell_type": "code",
   "execution_count": 97,
   "metadata": {
    "id": "myV1_h9kVsRP"
   },
   "outputs": [],
   "source": [
    "df_duracion = df_metadatos.groupby('content_id').agg({'run_time_min': 'sum'}).reset_index()"
   ]
  },
  {
   "cell_type": "code",
   "execution_count": 113,
   "metadata": {
    "colab": {
     "base_uri": "https://localhost:8080/"
    },
    "id": "wPFa2o_5UFxl",
    "outputId": "a2b2b263-011e-4c84-90f9-e1000fb80841"
   },
   "outputs": [],
   "source": [
    "df_r4 = df.groupby(['account_id','content_id']).agg({'minutos_vistos':'sum'}).reset_index()"
   ]
  },
  {
   "cell_type": "code",
   "execution_count": 115,
   "metadata": {
    "scrolled": true
   },
   "outputs": [
    {
     "name": "stdout",
     "output_type": "stream",
     "text": [
      "Wall time: 4min 33s\n"
     ]
    }
   ],
   "source": [
    "%%time\n",
    "df_r4['duracion'] = df_r4.content_id.apply(calcular)"
   ]
  },
  {
   "cell_type": "code",
   "execution_count": 116,
   "metadata": {},
   "outputs": [
    {
     "name": "stdout",
     "output_type": "stream",
     "text": [
      "Wall time: 15 ms\n"
     ]
    }
   ],
   "source": [
    "%%time\n",
    "df_r4['porcentaje'] = df_r4.minutos_vistos * 100 / df_r4.duracion"
   ]
  },
  {
   "cell_type": "code",
   "execution_count": 117,
   "metadata": {},
   "outputs": [
    {
     "name": "stdout",
     "output_type": "stream",
     "text": [
      "Wall time: 359 ms\n"
     ]
    }
   ],
   "source": [
    "%%time\n",
    "df_r4['rating'] = df_r4.porcentaje.apply(lambda x : 1 if x > 40 else 0)"
   ]
  },
  {
   "cell_type": "code",
   "execution_count": 118,
   "metadata": {},
   "outputs": [],
   "source": [
    "def buscar_rating(account_id, content_id):\n",
    "    return df_r4[(df_r4.account_id == account_id) &(df_r4.content_id == content_id)].iloc[0]['rating']"
   ]
  },
  {
   "cell_type": "code",
   "execution_count": null,
   "metadata": {},
   "outputs": [],
   "source": []
  },
  {
   "cell_type": "markdown",
   "metadata": {},
   "source": [
    "<b>Opción 5: Opción 2 + Opción 3</b>"
   ]
  },
  {
   "cell_type": "markdown",
   "metadata": {},
   "source": [
    "Esta opción involucra la opción 2 y opción 3, y sigue la siguiente lógica: si el usuario visualiza más de \"x\" minutos respecto a la duración del asset, entonces su rating será 1. También será 1 si resume = 1, es decir, que volvió a ver el contenido."
   ]
  },
  {
   "cell_type": "code",
   "execution_count": 68,
   "metadata": {},
   "outputs": [],
   "source": [
    "df['rating_5'] = df['run_time_min'] * 0.3 - df['minutos_vistos'] \n",
    "df['rating_5'] = df['rating_5'].apply(lambda x: 1 if x <= 0 else 0)\n",
    "df['rating_5'] = (df['rating_5'] + df['resume']).apply(lambda x: 0 if x == 0 else 1)"
   ]
  },
  {
   "cell_type": "code",
   "execution_count": 69,
   "metadata": {
    "scrolled": true
   },
   "outputs": [
    {
     "data": {
      "text/plain": [
       "1    3169753\n",
       "0     487808\n",
       "Name: rating_5, dtype: int64"
      ]
     },
     "execution_count": 69,
     "metadata": {},
     "output_type": "execute_result"
    }
   ],
   "source": [
    "df.rating_5.value_counts()"
   ]
  },
  {
   "cell_type": "code",
   "execution_count": null,
   "metadata": {},
   "outputs": [],
   "source": []
  },
  {
   "cell_type": "markdown",
   "metadata": {
    "id": "hiOssYes_cbw"
   },
   "source": [
    "# Train - Test Split y Matriz de Interacción"
   ]
  },
  {
   "cell_type": "markdown",
   "metadata": {},
   "source": [
    "Al momento de splitear puede ser que para un perfil y contenido el rating sea 'x' en una fila pero 'y' en otra. Por eso se decidió utilizar el promedio."
   ]
  },
  {
   "cell_type": "code",
   "execution_count": 70,
   "metadata": {
    "scrolled": true
   },
   "outputs": [
    {
     "name": "stdout",
     "output_type": "stream",
     "text": [
      "971443\n"
     ]
    }
   ],
   "source": [
    "df_aux = df.groupby(['account_id', 'content_id'], as_index=False)\\\n",
    "            .agg({'account_id': 'first',\n",
    "                  'content_id': 'first',\n",
    "                  'rating_1': 'mean',\n",
    "                  'rating_2': 'mean',\n",
    "                  'rating_3': 'mean',\n",
    "                  #'rating_4': 'mean',\n",
    "                  'rating_5': 'mean',\n",
    "                  })\n",
    "\n",
    "df_aux.rename(columns = {'rating_1':'rating_1_aux','rating_2':'rating_2_aux','rating_3':'rating_3_aux','rating_5':'rating_5_aux'}, inplace=True)\n",
    "print(len(df_aux))"
   ]
  },
  {
   "cell_type": "code",
   "execution_count": 71,
   "metadata": {},
   "outputs": [
    {
     "name": "stdout",
     "output_type": "stream",
     "text": [
      "Número de filas antes de eliminar duplicados: 3657561\n",
      "Número de filas después de eliminar duplicados: 971443\n",
      "CPU times: user 309 ms, sys: 71.2 ms, total: 380 ms\n",
      "Wall time: 372 ms\n"
     ]
    }
   ],
   "source": [
    "%%time\n",
    "print(f'Número de filas antes de eliminar duplicados: {len(df)}')\n",
    "df_main = df.drop_duplicates(subset=['account_id', 'content_id'], keep='last') \n",
    "print(f'Número de filas después de eliminar duplicados: {len(df_main)}') "
   ]
  },
  {
   "cell_type": "code",
   "execution_count": 72,
   "metadata": {},
   "outputs": [
    {
     "name": "stdout",
     "output_type": "stream",
     "text": [
      "971443\n",
      "CPU times: user 1.05 s, sys: 100 ms, total: 1.15 s\n",
      "Wall time: 1.15 s\n"
     ]
    }
   ],
   "source": [
    "%%time\n",
    "df_main = pd.merge(df_main, df_aux, how='inner', left_on=['account_id', 'content_id'], right_on=['account_id','content_id'])\n",
    "df_main.drop(['rating_1','rating_2','rating_3','rating_5'], axis=1, inplace=True)\n",
    "df_main.rename(columns = {'rating_1_aux':'rating_1','rating_2_aux':'rating_2','rating_3_aux':'rating_3','rating_5_aux':'rating_5'}, inplace=True)\n",
    "print(len(df_main))"
   ]
  },
  {
   "cell_type": "code",
   "execution_count": 73,
   "metadata": {},
   "outputs": [
    {
     "data": {
      "text/html": [
       "<div>\n",
       "<style scoped>\n",
       "    .dataframe tbody tr th:only-of-type {\n",
       "        vertical-align: middle;\n",
       "    }\n",
       "\n",
       "    .dataframe tbody tr th {\n",
       "        vertical-align: top;\n",
       "    }\n",
       "\n",
       "    .dataframe thead th {\n",
       "        text-align: right;\n",
       "    }\n",
       "</style>\n",
       "<table border=\"1\" class=\"dataframe\">\n",
       "  <thead>\n",
       "    <tr style=\"text-align: right;\">\n",
       "      <th></th>\n",
       "      <th>customer_id</th>\n",
       "      <th>account_id</th>\n",
       "      <th>device_type</th>\n",
       "      <th>asset_id</th>\n",
       "      <th>tunein</th>\n",
       "      <th>tuneout</th>\n",
       "      <th>resume</th>\n",
       "      <th>content_id</th>\n",
       "      <th>title</th>\n",
       "      <th>show_type</th>\n",
       "      <th>...</th>\n",
       "      <th>timestamp</th>\n",
       "      <th>from</th>\n",
       "      <th>to</th>\n",
       "      <th>resultado</th>\n",
       "      <th>minutos_vistos</th>\n",
       "      <th>rating_4</th>\n",
       "      <th>rating_1</th>\n",
       "      <th>rating_2</th>\n",
       "      <th>rating_3</th>\n",
       "      <th>rating_5</th>\n",
       "    </tr>\n",
       "  </thead>\n",
       "  <tbody>\n",
       "    <tr>\n",
       "      <th>0</th>\n",
       "      <td>0</td>\n",
       "      <td>90627</td>\n",
       "      <td>STATIONARY</td>\n",
       "      <td>24727.0</td>\n",
       "      <td>2021-03-24 23:17:00.0</td>\n",
       "      <td>2021-03-25 00:01:00.0</td>\n",
       "      <td>0</td>\n",
       "      <td>2040.0</td>\n",
       "      <td>T:5 Ep:10 This is Us</td>\n",
       "      <td>Serie</td>\n",
       "      <td>...</td>\n",
       "      <td>2021-03-24</td>\n",
       "      <td>2021-03-24 23:17:00</td>\n",
       "      <td>2021-03-25 00:01:00</td>\n",
       "      <td>0 days 00:44:00</td>\n",
       "      <td>44.0</td>\n",
       "      <td>1</td>\n",
       "      <td>1</td>\n",
       "      <td>0</td>\n",
       "      <td>1</td>\n",
       "      <td>1</td>\n",
       "    </tr>\n",
       "  </tbody>\n",
       "</table>\n",
       "<p>1 rows × 24 columns</p>\n",
       "</div>"
      ],
      "text/plain": [
       "   customer_id  account_id device_type  asset_id                 tunein  \\\n",
       "0            0       90627  STATIONARY   24727.0  2021-03-24 23:17:00.0   \n",
       "\n",
       "                 tuneout  resume  content_id                 title show_type  \\\n",
       "0  2021-03-25 00:01:00.0       0      2040.0  T:5 Ep:10 This is Us     Serie   \n",
       "\n",
       "   ...  timestamp                from                  to       resultado  \\\n",
       "0  ... 2021-03-24 2021-03-24 23:17:00 2021-03-25 00:01:00 0 days 00:44:00   \n",
       "\n",
       "  minutos_vistos rating_4 rating_1 rating_2  rating_3  rating_5  \n",
       "0           44.0        1        1        0         1         1  \n",
       "\n",
       "[1 rows x 24 columns]"
      ]
     },
     "execution_count": 73,
     "metadata": {},
     "output_type": "execute_result"
    }
   ],
   "source": [
    "df_main.head(1)"
   ]
  },
  {
   "cell_type": "code",
   "execution_count": 119,
   "metadata": {},
   "outputs": [
    {
     "name": "stdout",
     "output_type": "stream",
     "text": [
      "Wall time: 1h 19s\n"
     ]
    }
   ],
   "source": [
    "%%time\n",
    "df_main['rating_4'] = df_main.apply(lambda x : buscar_rating(x.account_id, x.content_id), axis=1)"
   ]
  },
  {
   "cell_type": "code",
   "execution_count": 74,
   "metadata": {},
   "outputs": [
    {
     "data": {
      "text/html": [
       "<div>\n",
       "<style scoped>\n",
       "    .dataframe tbody tr th:only-of-type {\n",
       "        vertical-align: middle;\n",
       "    }\n",
       "\n",
       "    .dataframe tbody tr th {\n",
       "        vertical-align: top;\n",
       "    }\n",
       "\n",
       "    .dataframe thead th {\n",
       "        text-align: right;\n",
       "    }\n",
       "</style>\n",
       "<table border=\"1\" class=\"dataframe\">\n",
       "  <thead>\n",
       "    <tr style=\"text-align: right;\">\n",
       "      <th></th>\n",
       "      <th>customer_id</th>\n",
       "      <th>account_id</th>\n",
       "      <th>device_type</th>\n",
       "      <th>asset_id</th>\n",
       "      <th>tunein</th>\n",
       "      <th>tuneout</th>\n",
       "      <th>resume</th>\n",
       "      <th>content_id</th>\n",
       "      <th>title</th>\n",
       "      <th>show_type</th>\n",
       "      <th>...</th>\n",
       "      <th>timestamp</th>\n",
       "      <th>from</th>\n",
       "      <th>to</th>\n",
       "      <th>resultado</th>\n",
       "      <th>minutos_vistos</th>\n",
       "      <th>rating_4</th>\n",
       "      <th>rating_1</th>\n",
       "      <th>rating_2</th>\n",
       "      <th>rating_3</th>\n",
       "      <th>rating_5</th>\n",
       "    </tr>\n",
       "  </thead>\n",
       "  <tbody>\n",
       "    <tr>\n",
       "      <th>280644</th>\n",
       "      <td>36854</td>\n",
       "      <td>7107</td>\n",
       "      <td>STB</td>\n",
       "      <td>29759.0</td>\n",
       "      <td>2021-03-31 18:38:00.0</td>\n",
       "      <td>2021-03-31 19:19:00.0</td>\n",
       "      <td>0</td>\n",
       "      <td>491.0</td>\n",
       "      <td>T:1 Ep:07 La Granja de Zenón: La Serie</td>\n",
       "      <td>TV</td>\n",
       "      <td>...</td>\n",
       "      <td>2021-03-31</td>\n",
       "      <td>2021-03-31 18:38:00</td>\n",
       "      <td>2021-03-31 19:19:00</td>\n",
       "      <td>0 days 00:41:00</td>\n",
       "      <td>41.0</td>\n",
       "      <td>1</td>\n",
       "      <td>1</td>\n",
       "      <td>1</td>\n",
       "      <td>1</td>\n",
       "      <td>1</td>\n",
       "    </tr>\n",
       "  </tbody>\n",
       "</table>\n",
       "<p>1 rows × 24 columns</p>\n",
       "</div>"
      ],
      "text/plain": [
       "        customer_id  account_id device_type  asset_id                 tunein  \\\n",
       "280644        36854        7107         STB   29759.0  2021-03-31 18:38:00.0   \n",
       "\n",
       "                      tuneout  resume  content_id  \\\n",
       "280644  2021-03-31 19:19:00.0       0       491.0   \n",
       "\n",
       "                                         title show_type  ...  timestamp  \\\n",
       "280644  T:1 Ep:07 La Granja de Zenón: La Serie        TV  ... 2021-03-31   \n",
       "\n",
       "                      from                  to       resultado minutos_vistos  \\\n",
       "280644 2021-03-31 18:38:00 2021-03-31 19:19:00 0 days 00:41:00           41.0   \n",
       "\n",
       "       rating_4 rating_1 rating_2  rating_3  rating_5  \n",
       "280644        1        1        1         1         1  \n",
       "\n",
       "[1 rows x 24 columns]"
      ]
     },
     "execution_count": 74,
     "metadata": {},
     "output_type": "execute_result"
    }
   ],
   "source": [
    "df_main[(df_main.content_id == 491) & (df_main.account_id == 7107)]\n"
   ]
  },
  {
   "cell_type": "code",
   "execution_count": null,
   "metadata": {},
   "outputs": [],
   "source": []
  },
  {
   "cell_type": "code",
   "execution_count": 75,
   "metadata": {
    "colab": {
     "base_uri": "https://localhost:8080/",
     "height": 206
    },
    "id": "XPxGcSDZGhDQ",
    "outputId": "5a6234a9-53b4-4700-c898-1252556ff46d",
    "scrolled": true,
    "tags": []
   },
   "outputs": [
    {
     "data": {
      "text/html": [
       "<div>\n",
       "<style scoped>\n",
       "    .dataframe tbody tr th:only-of-type {\n",
       "        vertical-align: middle;\n",
       "    }\n",
       "\n",
       "    .dataframe tbody tr th {\n",
       "        vertical-align: top;\n",
       "    }\n",
       "\n",
       "    .dataframe thead th {\n",
       "        text-align: right;\n",
       "    }\n",
       "</style>\n",
       "<table border=\"1\" class=\"dataframe\">\n",
       "  <thead>\n",
       "    <tr style=\"text-align: right;\">\n",
       "      <th></th>\n",
       "      <th>account_id</th>\n",
       "      <th>content_id</th>\n",
       "      <th>rating_1</th>\n",
       "      <th>rating_2</th>\n",
       "      <th>rating_3</th>\n",
       "      <th>rating_4</th>\n",
       "      <th>rating_5</th>\n",
       "      <th>timestamp</th>\n",
       "    </tr>\n",
       "  </thead>\n",
       "  <tbody>\n",
       "    <tr>\n",
       "      <th>0</th>\n",
       "      <td>90627</td>\n",
       "      <td>2040.0</td>\n",
       "      <td>1</td>\n",
       "      <td>0</td>\n",
       "      <td>1</td>\n",
       "      <td>1</td>\n",
       "      <td>1</td>\n",
       "      <td>2021-03-24</td>\n",
       "    </tr>\n",
       "    <tr>\n",
       "      <th>1</th>\n",
       "      <td>3387</td>\n",
       "      <td>1983.0</td>\n",
       "      <td>1</td>\n",
       "      <td>1</td>\n",
       "      <td>1</td>\n",
       "      <td>1</td>\n",
       "      <td>1</td>\n",
       "      <td>2021-03-15</td>\n",
       "    </tr>\n",
       "    <tr>\n",
       "      <th>2</th>\n",
       "      <td>3387</td>\n",
       "      <td>729.0</td>\n",
       "      <td>1</td>\n",
       "      <td>0</td>\n",
       "      <td>1</td>\n",
       "      <td>1</td>\n",
       "      <td>1</td>\n",
       "      <td>2021-03-16</td>\n",
       "    </tr>\n",
       "    <tr>\n",
       "      <th>3</th>\n",
       "      <td>3388</td>\n",
       "      <td>691.0</td>\n",
       "      <td>1</td>\n",
       "      <td>0</td>\n",
       "      <td>1</td>\n",
       "      <td>1</td>\n",
       "      <td>1</td>\n",
       "      <td>2021-01-05</td>\n",
       "    </tr>\n",
       "    <tr>\n",
       "      <th>4</th>\n",
       "      <td>3388</td>\n",
       "      <td>3487.0</td>\n",
       "      <td>1</td>\n",
       "      <td>1</td>\n",
       "      <td>0</td>\n",
       "      <td>1</td>\n",
       "      <td>1</td>\n",
       "      <td>2021-01-24</td>\n",
       "    </tr>\n",
       "  </tbody>\n",
       "</table>\n",
       "</div>"
      ],
      "text/plain": [
       "   account_id  content_id  rating_1  rating_2  rating_3  rating_4  rating_5  \\\n",
       "0       90627      2040.0         1         0         1         1         1   \n",
       "1        3387      1983.0         1         1         1         1         1   \n",
       "2        3387       729.0         1         0         1         1         1   \n",
       "3        3388       691.0         1         0         1         1         1   \n",
       "4        3388      3487.0         1         1         0         1         1   \n",
       "\n",
       "   timestamp  \n",
       "0 2021-03-24  \n",
       "1 2021-03-15  \n",
       "2 2021-03-16  \n",
       "3 2021-01-05  \n",
       "4 2021-01-24  "
      ]
     },
     "execution_count": 75,
     "metadata": {},
     "output_type": "execute_result"
    }
   ],
   "source": [
    "ratings = df_main[['account_id', 'content_id', 'rating_1', 'rating_2', 'rating_3', 'rating_4', 'rating_5', 'timestamp']].copy()\n",
    "ratings.head()"
   ]
  },
  {
   "cell_type": "markdown",
   "metadata": {},
   "source": [
    "<b>Train</b>"
   ]
  },
  {
   "cell_type": "code",
   "execution_count": 76,
   "metadata": {
    "colab": {
     "base_uri": "https://localhost:8080/",
     "height": 206
    },
    "id": "fLowHyB0_bkn",
    "outputId": "43e1dcd6-4048-4815-ba0a-0bc94976bf27",
    "scrolled": true
   },
   "outputs": [
    {
     "data": {
      "text/html": [
       "<div>\n",
       "<style scoped>\n",
       "    .dataframe tbody tr th:only-of-type {\n",
       "        vertical-align: middle;\n",
       "    }\n",
       "\n",
       "    .dataframe tbody tr th {\n",
       "        vertical-align: top;\n",
       "    }\n",
       "\n",
       "    .dataframe thead th {\n",
       "        text-align: right;\n",
       "    }\n",
       "</style>\n",
       "<table border=\"1\" class=\"dataframe\">\n",
       "  <thead>\n",
       "    <tr style=\"text-align: right;\">\n",
       "      <th></th>\n",
       "      <th>account_id</th>\n",
       "      <th>content_id</th>\n",
       "      <th>rating_1</th>\n",
       "      <th>rating_2</th>\n",
       "      <th>rating_3</th>\n",
       "      <th>rating_4</th>\n",
       "      <th>rating_5</th>\n",
       "      <th>timestamp</th>\n",
       "    </tr>\n",
       "  </thead>\n",
       "  <tbody>\n",
       "    <tr>\n",
       "      <th>3</th>\n",
       "      <td>3388</td>\n",
       "      <td>691.0</td>\n",
       "      <td>1</td>\n",
       "      <td>0</td>\n",
       "      <td>1</td>\n",
       "      <td>1</td>\n",
       "      <td>1</td>\n",
       "      <td>2021-01-05</td>\n",
       "    </tr>\n",
       "    <tr>\n",
       "      <th>4</th>\n",
       "      <td>3388</td>\n",
       "      <td>3487.0</td>\n",
       "      <td>1</td>\n",
       "      <td>1</td>\n",
       "      <td>0</td>\n",
       "      <td>1</td>\n",
       "      <td>1</td>\n",
       "      <td>2021-01-24</td>\n",
       "    </tr>\n",
       "    <tr>\n",
       "      <th>5</th>\n",
       "      <td>3388</td>\n",
       "      <td>3038.0</td>\n",
       "      <td>1</td>\n",
       "      <td>0</td>\n",
       "      <td>1</td>\n",
       "      <td>1</td>\n",
       "      <td>1</td>\n",
       "      <td>2021-02-08</td>\n",
       "    </tr>\n",
       "    <tr>\n",
       "      <th>6</th>\n",
       "      <td>3388</td>\n",
       "      <td>2100.0</td>\n",
       "      <td>1</td>\n",
       "      <td>1</td>\n",
       "      <td>1</td>\n",
       "      <td>1</td>\n",
       "      <td>1</td>\n",
       "      <td>2021-02-21</td>\n",
       "    </tr>\n",
       "    <tr>\n",
       "      <th>9</th>\n",
       "      <td>3389</td>\n",
       "      <td>604.0</td>\n",
       "      <td>1</td>\n",
       "      <td>0</td>\n",
       "      <td>1</td>\n",
       "      <td>1</td>\n",
       "      <td>1</td>\n",
       "      <td>2021-01-26</td>\n",
       "    </tr>\n",
       "  </tbody>\n",
       "</table>\n",
       "</div>"
      ],
      "text/plain": [
       "   account_id  content_id  rating_1  rating_2  rating_3  rating_4  rating_5  \\\n",
       "3        3388       691.0         1         0         1         1         1   \n",
       "4        3388      3487.0         1         1         0         1         1   \n",
       "5        3388      3038.0         1         0         1         1         1   \n",
       "6        3388      2100.0         1         1         1         1         1   \n",
       "9        3389       604.0         1         0         1         1         1   \n",
       "\n",
       "   timestamp  \n",
       "3 2021-01-05  \n",
       "4 2021-01-24  \n",
       "5 2021-02-08  \n",
       "6 2021-02-21  \n",
       "9 2021-01-26  "
      ]
     },
     "execution_count": 76,
     "metadata": {},
     "output_type": "execute_result"
    }
   ],
   "source": [
    "# set de train\n",
    "train = ratings[(ratings.timestamp < datetime(year=2021, month=3, day=1))]\n",
    "train.head()"
   ]
  },
  {
   "cell_type": "code",
   "execution_count": 122,
   "metadata": {
    "colab": {
     "base_uri": "https://localhost:8080/"
    },
    "id": "VUN5U_W_E9NK",
    "outputId": "497563c3-4f1b-4c04-f314-7cd4a4a2cb30"
   },
   "outputs": [
    {
     "name": "stdout",
     "output_type": "stream",
     "text": [
      "Filas y columnas de train: (612071, 8)\n",
      "Número de perfiles distintos en train: 95758\n"
     ]
    }
   ],
   "source": [
    "print(f\"Filas y columnas de train: {train.shape}\")\n",
    "print(f\"Número de perfiles distintos en train: {train.account_id.nunique()}\")"
   ]
  },
  {
   "cell_type": "markdown",
   "metadata": {},
   "source": [
    "<b>Test</b>"
   ]
  },
  {
   "cell_type": "code",
   "execution_count": 78,
   "metadata": {
    "colab": {
     "base_uri": "https://localhost:8080/",
     "height": 206
    },
    "id": "VnZS3UOkFTdj",
    "outputId": "652ba38b-f973-4669-de6c-e827007d8292"
   },
   "outputs": [
    {
     "data": {
      "text/html": [
       "<div>\n",
       "<style scoped>\n",
       "    .dataframe tbody tr th:only-of-type {\n",
       "        vertical-align: middle;\n",
       "    }\n",
       "\n",
       "    .dataframe tbody tr th {\n",
       "        vertical-align: top;\n",
       "    }\n",
       "\n",
       "    .dataframe thead th {\n",
       "        text-align: right;\n",
       "    }\n",
       "</style>\n",
       "<table border=\"1\" class=\"dataframe\">\n",
       "  <thead>\n",
       "    <tr style=\"text-align: right;\">\n",
       "      <th></th>\n",
       "      <th>account_id</th>\n",
       "      <th>content_id</th>\n",
       "      <th>timestamp</th>\n",
       "    </tr>\n",
       "  </thead>\n",
       "  <tbody>\n",
       "    <tr>\n",
       "      <th>0</th>\n",
       "      <td>90627</td>\n",
       "      <td>2040.0</td>\n",
       "      <td>2021-03-24</td>\n",
       "    </tr>\n",
       "    <tr>\n",
       "      <th>1</th>\n",
       "      <td>3387</td>\n",
       "      <td>1983.0</td>\n",
       "      <td>2021-03-15</td>\n",
       "    </tr>\n",
       "    <tr>\n",
       "      <th>2</th>\n",
       "      <td>3387</td>\n",
       "      <td>729.0</td>\n",
       "      <td>2021-03-16</td>\n",
       "    </tr>\n",
       "    <tr>\n",
       "      <th>7</th>\n",
       "      <td>3388</td>\n",
       "      <td>3386.0</td>\n",
       "      <td>2021-03-29</td>\n",
       "    </tr>\n",
       "    <tr>\n",
       "      <th>8</th>\n",
       "      <td>3388</td>\n",
       "      <td>2040.0</td>\n",
       "      <td>2021-03-30</td>\n",
       "    </tr>\n",
       "  </tbody>\n",
       "</table>\n",
       "</div>"
      ],
      "text/plain": [
       "   account_id  content_id  timestamp\n",
       "0       90627      2040.0 2021-03-24\n",
       "1        3387      1983.0 2021-03-15\n",
       "2        3387       729.0 2021-03-16\n",
       "7        3388      3386.0 2021-03-29\n",
       "8        3388      2040.0 2021-03-30"
      ]
     },
     "execution_count": 78,
     "metadata": {},
     "output_type": "execute_result"
    }
   ],
   "source": [
    "# set de test\n",
    "test = ratings[ratings.timestamp >= datetime(year=2021, month=3, day=1)][['account_id','content_id','timestamp']]\n",
    "test.head()"
   ]
  },
  {
   "cell_type": "code",
   "execution_count": 79,
   "metadata": {
    "colab": {
     "base_uri": "https://localhost:8080/"
    },
    "id": "N-bat_2RFbOC",
    "outputId": "77d18084-f6a9-4768-e98b-1f2528528dc7"
   },
   "outputs": [
    {
     "name": "stdout",
     "output_type": "stream",
     "text": [
      "Filas y columnas de test: (359372, 3)\n",
      "Número de perfiles distintos en test: 87623\n"
     ]
    }
   ],
   "source": [
    "print(f\"Filas y columnas de test: {test.shape}\")\n",
    "print(f\"Número de perfiles distintos en test: {test.account_id.nunique()}\")"
   ]
  },
  {
   "cell_type": "markdown",
   "metadata": {
    "id": "RqAihLojMkoZ"
   },
   "source": [
    "<b>¿Tenemos usuarios que aparecen en test pero no en train?</b>"
   ]
  },
  {
   "cell_type": "code",
   "execution_count": 80,
   "metadata": {
    "colab": {
     "base_uri": "https://localhost:8080/"
    },
    "id": "pBVw-w5BMhzm",
    "outputId": "bd058390-f48a-4db4-c08a-da61710ff1ed"
   },
   "outputs": [
    {
     "data": {
      "text/plain": [
       "18115"
      ]
     },
     "execution_count": 80,
     "metadata": {},
     "output_type": "execute_result"
    }
   ],
   "source": [
    "test[~test.account_id.isin(train.account_id.unique())].account_id.nunique()"
   ]
  },
  {
   "cell_type": "markdown",
   "metadata": {
    "id": "Rs5sFtL8NKYp"
   },
   "source": [
    "Como vemos, tenemos 18115 account_id que están en test pero no en train. Utilizaremos \"cold start\" al momento de recomendar contenidos a estos usuarios."
   ]
  },
  {
   "cell_type": "markdown",
   "metadata": {
    "id": "4MwN-oRgNd4F"
   },
   "source": [
    "<b>Armamos la matriz de interacción.</b>"
   ]
  },
  {
   "cell_type": "code",
   "execution_count": 81,
   "metadata": {
    "id": "Cr91IiI7N3Tu"
   },
   "outputs": [],
   "source": [
    "matrix_columns_1 = [\"account_id\",\"content_id\", \"rating_1\"]\n",
    "matrix_columns_2 = [\"account_id\",\"content_id\", \"rating_2\"]\n",
    "matrix_columns_3 = [\"account_id\",\"content_id\", \"rating_3\"]\n",
    "matrix_columns_4 = [\"account_id\",\"content_id\", \"rating_4\"]\n",
    "matrix_columns_5 = [\"account_id\",\"content_id\", \"rating_5\"]"
   ]
  },
  {
   "cell_type": "code",
   "execution_count": 82,
   "metadata": {
    "colab": {
     "base_uri": "https://localhost:8080/",
     "height": 206
    },
    "id": "xVRXFPQYOLLM",
    "outputId": "dbd94403-1015-4abf-8dbd-1693f6cd2f43"
   },
   "outputs": [
    {
     "name": "stdout",
     "output_type": "stream",
     "text": [
      "CPU times: user 20.5 ms, sys: 36 µs, total: 20.5 ms\n",
      "Wall time: 18.9 ms\n"
     ]
    },
    {
     "data": {
      "text/html": [
       "<div>\n",
       "<style scoped>\n",
       "    .dataframe tbody tr th:only-of-type {\n",
       "        vertical-align: middle;\n",
       "    }\n",
       "\n",
       "    .dataframe tbody tr th {\n",
       "        vertical-align: top;\n",
       "    }\n",
       "\n",
       "    .dataframe thead th {\n",
       "        text-align: right;\n",
       "    }\n",
       "</style>\n",
       "<table border=\"1\" class=\"dataframe\">\n",
       "  <thead>\n",
       "    <tr style=\"text-align: right;\">\n",
       "      <th></th>\n",
       "      <th>account_id</th>\n",
       "      <th>content_id</th>\n",
       "      <th>rating_1</th>\n",
       "    </tr>\n",
       "  </thead>\n",
       "  <tbody>\n",
       "    <tr>\n",
       "      <th>3</th>\n",
       "      <td>3388</td>\n",
       "      <td>691.0</td>\n",
       "      <td>1</td>\n",
       "    </tr>\n",
       "  </tbody>\n",
       "</table>\n",
       "</div>"
      ],
      "text/plain": [
       "   account_id  content_id  rating_1\n",
       "3        3388       691.0         1"
      ]
     },
     "execution_count": 82,
     "metadata": {},
     "output_type": "execute_result"
    }
   ],
   "source": [
    "%%time\n",
    "interactions_1 = train[matrix_columns_1]\n",
    "interactions_2 = train[matrix_columns_2]\n",
    "interactions_3 = train[matrix_columns_3]\n",
    "interactions_4 = train[matrix_columns_4]\n",
    "interactions_5 = train[matrix_columns_5]\n",
    "\n",
    "interactions_1.head(1)"
   ]
  },
  {
   "cell_type": "code",
   "execution_count": 83,
   "metadata": {},
   "outputs": [],
   "source": [
    "def pivotear_df(interactions, matrix_columns):\n",
    "    return pd.pivot_table(interactions[matrix_columns], index=matrix_columns[0], columns=matrix_columns[1], values=matrix_columns[2])"
   ]
  },
  {
   "cell_type": "code",
   "execution_count": 84,
   "metadata": {
    "scrolled": true
   },
   "outputs": [
    {
     "name": "stdout",
     "output_type": "stream",
     "text": [
      "CPU times: user 10.4 s, sys: 2.88 s, total: 13.3 s\n",
      "Wall time: 13.3 s\n"
     ]
    },
    {
     "data": {
      "text/html": [
       "<div>\n",
       "<style scoped>\n",
       "    .dataframe tbody tr th:only-of-type {\n",
       "        vertical-align: middle;\n",
       "    }\n",
       "\n",
       "    .dataframe tbody tr th {\n",
       "        vertical-align: top;\n",
       "    }\n",
       "\n",
       "    .dataframe thead th {\n",
       "        text-align: right;\n",
       "    }\n",
       "</style>\n",
       "<table border=\"1\" class=\"dataframe\">\n",
       "  <thead>\n",
       "    <tr style=\"text-align: right;\">\n",
       "      <th>content_id</th>\n",
       "      <th>0.0</th>\n",
       "      <th>1.0</th>\n",
       "      <th>3.0</th>\n",
       "      <th>6.0</th>\n",
       "      <th>7.0</th>\n",
       "      <th>8.0</th>\n",
       "      <th>9.0</th>\n",
       "      <th>10.0</th>\n",
       "      <th>11.0</th>\n",
       "      <th>12.0</th>\n",
       "      <th>...</th>\n",
       "      <th>4357.0</th>\n",
       "      <th>4358.0</th>\n",
       "      <th>4359.0</th>\n",
       "      <th>4360.0</th>\n",
       "      <th>4361.0</th>\n",
       "      <th>4362.0</th>\n",
       "      <th>4363.0</th>\n",
       "      <th>4364.0</th>\n",
       "      <th>4365.0</th>\n",
       "      <th>4366.0</th>\n",
       "    </tr>\n",
       "    <tr>\n",
       "      <th>account_id</th>\n",
       "      <th></th>\n",
       "      <th></th>\n",
       "      <th></th>\n",
       "      <th></th>\n",
       "      <th></th>\n",
       "      <th></th>\n",
       "      <th></th>\n",
       "      <th></th>\n",
       "      <th></th>\n",
       "      <th></th>\n",
       "      <th></th>\n",
       "      <th></th>\n",
       "      <th></th>\n",
       "      <th></th>\n",
       "      <th></th>\n",
       "      <th></th>\n",
       "      <th></th>\n",
       "      <th></th>\n",
       "      <th></th>\n",
       "      <th></th>\n",
       "      <th></th>\n",
       "    </tr>\n",
       "  </thead>\n",
       "  <tbody>\n",
       "    <tr>\n",
       "      <th>0</th>\n",
       "      <td>NaN</td>\n",
       "      <td>NaN</td>\n",
       "      <td>NaN</td>\n",
       "      <td>NaN</td>\n",
       "      <td>NaN</td>\n",
       "      <td>NaN</td>\n",
       "      <td>NaN</td>\n",
       "      <td>NaN</td>\n",
       "      <td>NaN</td>\n",
       "      <td>NaN</td>\n",
       "      <td>...</td>\n",
       "      <td>NaN</td>\n",
       "      <td>NaN</td>\n",
       "      <td>NaN</td>\n",
       "      <td>NaN</td>\n",
       "      <td>NaN</td>\n",
       "      <td>NaN</td>\n",
       "      <td>NaN</td>\n",
       "      <td>NaN</td>\n",
       "      <td>NaN</td>\n",
       "      <td>NaN</td>\n",
       "    </tr>\n",
       "    <tr>\n",
       "      <th>1</th>\n",
       "      <td>NaN</td>\n",
       "      <td>NaN</td>\n",
       "      <td>NaN</td>\n",
       "      <td>NaN</td>\n",
       "      <td>NaN</td>\n",
       "      <td>NaN</td>\n",
       "      <td>NaN</td>\n",
       "      <td>NaN</td>\n",
       "      <td>NaN</td>\n",
       "      <td>NaN</td>\n",
       "      <td>...</td>\n",
       "      <td>NaN</td>\n",
       "      <td>NaN</td>\n",
       "      <td>NaN</td>\n",
       "      <td>NaN</td>\n",
       "      <td>NaN</td>\n",
       "      <td>NaN</td>\n",
       "      <td>NaN</td>\n",
       "      <td>NaN</td>\n",
       "      <td>NaN</td>\n",
       "      <td>NaN</td>\n",
       "    </tr>\n",
       "    <tr>\n",
       "      <th>2</th>\n",
       "      <td>NaN</td>\n",
       "      <td>NaN</td>\n",
       "      <td>NaN</td>\n",
       "      <td>1.0</td>\n",
       "      <td>NaN</td>\n",
       "      <td>NaN</td>\n",
       "      <td>NaN</td>\n",
       "      <td>NaN</td>\n",
       "      <td>NaN</td>\n",
       "      <td>NaN</td>\n",
       "      <td>...</td>\n",
       "      <td>NaN</td>\n",
       "      <td>NaN</td>\n",
       "      <td>NaN</td>\n",
       "      <td>NaN</td>\n",
       "      <td>NaN</td>\n",
       "      <td>NaN</td>\n",
       "      <td>NaN</td>\n",
       "      <td>NaN</td>\n",
       "      <td>NaN</td>\n",
       "      <td>NaN</td>\n",
       "    </tr>\n",
       "    <tr>\n",
       "      <th>3</th>\n",
       "      <td>NaN</td>\n",
       "      <td>NaN</td>\n",
       "      <td>NaN</td>\n",
       "      <td>NaN</td>\n",
       "      <td>NaN</td>\n",
       "      <td>NaN</td>\n",
       "      <td>NaN</td>\n",
       "      <td>NaN</td>\n",
       "      <td>NaN</td>\n",
       "      <td>NaN</td>\n",
       "      <td>...</td>\n",
       "      <td>NaN</td>\n",
       "      <td>NaN</td>\n",
       "      <td>NaN</td>\n",
       "      <td>NaN</td>\n",
       "      <td>NaN</td>\n",
       "      <td>NaN</td>\n",
       "      <td>NaN</td>\n",
       "      <td>NaN</td>\n",
       "      <td>NaN</td>\n",
       "      <td>NaN</td>\n",
       "    </tr>\n",
       "    <tr>\n",
       "      <th>4</th>\n",
       "      <td>NaN</td>\n",
       "      <td>NaN</td>\n",
       "      <td>NaN</td>\n",
       "      <td>NaN</td>\n",
       "      <td>NaN</td>\n",
       "      <td>NaN</td>\n",
       "      <td>NaN</td>\n",
       "      <td>NaN</td>\n",
       "      <td>NaN</td>\n",
       "      <td>NaN</td>\n",
       "      <td>...</td>\n",
       "      <td>NaN</td>\n",
       "      <td>NaN</td>\n",
       "      <td>NaN</td>\n",
       "      <td>NaN</td>\n",
       "      <td>NaN</td>\n",
       "      <td>NaN</td>\n",
       "      <td>NaN</td>\n",
       "      <td>NaN</td>\n",
       "      <td>NaN</td>\n",
       "      <td>NaN</td>\n",
       "    </tr>\n",
       "  </tbody>\n",
       "</table>\n",
       "<p>5 rows × 3688 columns</p>\n",
       "</div>"
      ],
      "text/plain": [
       "content_id  0.0     1.0     3.0     6.0     7.0     8.0     9.0     10.0    \\\n",
       "account_id                                                                   \n",
       "0              NaN     NaN     NaN     NaN     NaN     NaN     NaN     NaN   \n",
       "1              NaN     NaN     NaN     NaN     NaN     NaN     NaN     NaN   \n",
       "2              NaN     NaN     NaN     1.0     NaN     NaN     NaN     NaN   \n",
       "3              NaN     NaN     NaN     NaN     NaN     NaN     NaN     NaN   \n",
       "4              NaN     NaN     NaN     NaN     NaN     NaN     NaN     NaN   \n",
       "\n",
       "content_id  11.0    12.0    ...  4357.0  4358.0  4359.0  4360.0  4361.0  \\\n",
       "account_id                  ...                                           \n",
       "0              NaN     NaN  ...     NaN     NaN     NaN     NaN     NaN   \n",
       "1              NaN     NaN  ...     NaN     NaN     NaN     NaN     NaN   \n",
       "2              NaN     NaN  ...     NaN     NaN     NaN     NaN     NaN   \n",
       "3              NaN     NaN  ...     NaN     NaN     NaN     NaN     NaN   \n",
       "4              NaN     NaN  ...     NaN     NaN     NaN     NaN     NaN   \n",
       "\n",
       "content_id  4362.0  4363.0  4364.0  4365.0  4366.0  \n",
       "account_id                                          \n",
       "0              NaN     NaN     NaN     NaN     NaN  \n",
       "1              NaN     NaN     NaN     NaN     NaN  \n",
       "2              NaN     NaN     NaN     NaN     NaN  \n",
       "3              NaN     NaN     NaN     NaN     NaN  \n",
       "4              NaN     NaN     NaN     NaN     NaN  \n",
       "\n",
       "[5 rows x 3688 columns]"
      ]
     },
     "execution_count": 84,
     "metadata": {},
     "output_type": "execute_result"
    }
   ],
   "source": [
    "%%time\n",
    "interactions_matrix_1 = pivotear_df(interactions_1, matrix_columns_1)\n",
    "interactions_matrix_1.head() "
   ]
  },
  {
   "cell_type": "code",
   "execution_count": 85,
   "metadata": {},
   "outputs": [
    {
     "name": "stdout",
     "output_type": "stream",
     "text": [
      "CPU times: user 6.79 s, sys: 2.27 s, total: 9.06 s\n",
      "Wall time: 9.06 s\n"
     ]
    }
   ],
   "source": [
    "%%time\n",
    "interactions_matrix_2 = pivotear_df(interactions_2, matrix_columns_2)"
   ]
  },
  {
   "cell_type": "code",
   "execution_count": 86,
   "metadata": {},
   "outputs": [
    {
     "name": "stdout",
     "output_type": "stream",
     "text": [
      "CPU times: user 29.8 s, sys: 6.23 s, total: 36 s\n",
      "Wall time: 36 s\n"
     ]
    }
   ],
   "source": [
    "%%time\n",
    "interactions_matrix_3 = pivotear_df(interactions_3, matrix_columns_3)"
   ]
  },
  {
   "cell_type": "code",
   "execution_count": 94,
   "metadata": {},
   "outputs": [
    {
     "name": "stdout",
     "output_type": "stream",
     "text": [
      "CPU times: user 5.08 s, sys: 3.72 s, total: 8.8 s\n",
      "Wall time: 8.84 s\n"
     ]
    }
   ],
   "source": [
    "%%time\n",
    "interactions_matrix_4 = pivotear_df(interactions_4, matrix_columns_4)"
   ]
  },
  {
   "cell_type": "code",
   "execution_count": 87,
   "metadata": {},
   "outputs": [
    {
     "name": "stdout",
     "output_type": "stream",
     "text": [
      "CPU times: user 12.6 s, sys: 4.44 s, total: 17 s\n",
      "Wall time: 17 s\n"
     ]
    }
   ],
   "source": [
    "%%time\n",
    "interactions_matrix_5 = pivotear_df(interactions_5, matrix_columns_5)"
   ]
  },
  {
   "cell_type": "markdown",
   "metadata": {
    "id": "UI8cSKapP39n"
   },
   "source": [
    "Completo los NaN con ceros"
   ]
  },
  {
   "cell_type": "code",
   "execution_count": 88,
   "metadata": {
    "colab": {
     "base_uri": "https://localhost:8080/",
     "height": 183
    },
    "id": "YSBftbREP2B3",
    "outputId": "194cfbef-4647-4d4f-d3cb-345cfcce58ee",
    "scrolled": true
   },
   "outputs": [
    {
     "name": "stdout",
     "output_type": "stream",
     "text": [
      "CPU times: user 12.5 s, sys: 1.72 s, total: 14.2 s\n",
      "Wall time: 14.2 s\n"
     ]
    },
    {
     "data": {
      "text/html": [
       "<div>\n",
       "<style scoped>\n",
       "    .dataframe tbody tr th:only-of-type {\n",
       "        vertical-align: middle;\n",
       "    }\n",
       "\n",
       "    .dataframe tbody tr th {\n",
       "        vertical-align: top;\n",
       "    }\n",
       "\n",
       "    .dataframe thead th {\n",
       "        text-align: right;\n",
       "    }\n",
       "</style>\n",
       "<table border=\"1\" class=\"dataframe\">\n",
       "  <thead>\n",
       "    <tr style=\"text-align: right;\">\n",
       "      <th>content_id</th>\n",
       "      <th>0.0</th>\n",
       "      <th>1.0</th>\n",
       "      <th>3.0</th>\n",
       "      <th>6.0</th>\n",
       "      <th>7.0</th>\n",
       "      <th>8.0</th>\n",
       "      <th>9.0</th>\n",
       "      <th>10.0</th>\n",
       "      <th>11.0</th>\n",
       "      <th>12.0</th>\n",
       "      <th>...</th>\n",
       "      <th>4357.0</th>\n",
       "      <th>4358.0</th>\n",
       "      <th>4359.0</th>\n",
       "      <th>4360.0</th>\n",
       "      <th>4361.0</th>\n",
       "      <th>4362.0</th>\n",
       "      <th>4363.0</th>\n",
       "      <th>4364.0</th>\n",
       "      <th>4365.0</th>\n",
       "      <th>4366.0</th>\n",
       "    </tr>\n",
       "    <tr>\n",
       "      <th>account_id</th>\n",
       "      <th></th>\n",
       "      <th></th>\n",
       "      <th></th>\n",
       "      <th></th>\n",
       "      <th></th>\n",
       "      <th></th>\n",
       "      <th></th>\n",
       "      <th></th>\n",
       "      <th></th>\n",
       "      <th></th>\n",
       "      <th></th>\n",
       "      <th></th>\n",
       "      <th></th>\n",
       "      <th></th>\n",
       "      <th></th>\n",
       "      <th></th>\n",
       "      <th></th>\n",
       "      <th></th>\n",
       "      <th></th>\n",
       "      <th></th>\n",
       "      <th></th>\n",
       "    </tr>\n",
       "  </thead>\n",
       "  <tbody>\n",
       "    <tr>\n",
       "      <th>0</th>\n",
       "      <td>0.0</td>\n",
       "      <td>0.0</td>\n",
       "      <td>0.0</td>\n",
       "      <td>0.0</td>\n",
       "      <td>0.0</td>\n",
       "      <td>0.0</td>\n",
       "      <td>0.0</td>\n",
       "      <td>0.0</td>\n",
       "      <td>0.0</td>\n",
       "      <td>0.0</td>\n",
       "      <td>...</td>\n",
       "      <td>0.0</td>\n",
       "      <td>0.0</td>\n",
       "      <td>0.0</td>\n",
       "      <td>0.0</td>\n",
       "      <td>0.0</td>\n",
       "      <td>0.0</td>\n",
       "      <td>0.0</td>\n",
       "      <td>0.0</td>\n",
       "      <td>0.0</td>\n",
       "      <td>0.0</td>\n",
       "    </tr>\n",
       "    <tr>\n",
       "      <th>1</th>\n",
       "      <td>0.0</td>\n",
       "      <td>0.0</td>\n",
       "      <td>0.0</td>\n",
       "      <td>0.0</td>\n",
       "      <td>0.0</td>\n",
       "      <td>0.0</td>\n",
       "      <td>0.0</td>\n",
       "      <td>0.0</td>\n",
       "      <td>0.0</td>\n",
       "      <td>0.0</td>\n",
       "      <td>...</td>\n",
       "      <td>0.0</td>\n",
       "      <td>0.0</td>\n",
       "      <td>0.0</td>\n",
       "      <td>0.0</td>\n",
       "      <td>0.0</td>\n",
       "      <td>0.0</td>\n",
       "      <td>0.0</td>\n",
       "      <td>0.0</td>\n",
       "      <td>0.0</td>\n",
       "      <td>0.0</td>\n",
       "    </tr>\n",
       "    <tr>\n",
       "      <th>2</th>\n",
       "      <td>0.0</td>\n",
       "      <td>0.0</td>\n",
       "      <td>0.0</td>\n",
       "      <td>1.0</td>\n",
       "      <td>0.0</td>\n",
       "      <td>0.0</td>\n",
       "      <td>0.0</td>\n",
       "      <td>0.0</td>\n",
       "      <td>0.0</td>\n",
       "      <td>0.0</td>\n",
       "      <td>...</td>\n",
       "      <td>0.0</td>\n",
       "      <td>0.0</td>\n",
       "      <td>0.0</td>\n",
       "      <td>0.0</td>\n",
       "      <td>0.0</td>\n",
       "      <td>0.0</td>\n",
       "      <td>0.0</td>\n",
       "      <td>0.0</td>\n",
       "      <td>0.0</td>\n",
       "      <td>0.0</td>\n",
       "    </tr>\n",
       "    <tr>\n",
       "      <th>3</th>\n",
       "      <td>0.0</td>\n",
       "      <td>0.0</td>\n",
       "      <td>0.0</td>\n",
       "      <td>0.0</td>\n",
       "      <td>0.0</td>\n",
       "      <td>0.0</td>\n",
       "      <td>0.0</td>\n",
       "      <td>0.0</td>\n",
       "      <td>0.0</td>\n",
       "      <td>0.0</td>\n",
       "      <td>...</td>\n",
       "      <td>0.0</td>\n",
       "      <td>0.0</td>\n",
       "      <td>0.0</td>\n",
       "      <td>0.0</td>\n",
       "      <td>0.0</td>\n",
       "      <td>0.0</td>\n",
       "      <td>0.0</td>\n",
       "      <td>0.0</td>\n",
       "      <td>0.0</td>\n",
       "      <td>0.0</td>\n",
       "    </tr>\n",
       "    <tr>\n",
       "      <th>4</th>\n",
       "      <td>0.0</td>\n",
       "      <td>0.0</td>\n",
       "      <td>0.0</td>\n",
       "      <td>0.0</td>\n",
       "      <td>0.0</td>\n",
       "      <td>0.0</td>\n",
       "      <td>0.0</td>\n",
       "      <td>0.0</td>\n",
       "      <td>0.0</td>\n",
       "      <td>0.0</td>\n",
       "      <td>...</td>\n",
       "      <td>0.0</td>\n",
       "      <td>0.0</td>\n",
       "      <td>0.0</td>\n",
       "      <td>0.0</td>\n",
       "      <td>0.0</td>\n",
       "      <td>0.0</td>\n",
       "      <td>0.0</td>\n",
       "      <td>0.0</td>\n",
       "      <td>0.0</td>\n",
       "      <td>0.0</td>\n",
       "    </tr>\n",
       "  </tbody>\n",
       "</table>\n",
       "<p>5 rows × 3688 columns</p>\n",
       "</div>"
      ],
      "text/plain": [
       "content_id  0.0     1.0     3.0     6.0     7.0     8.0     9.0     10.0    \\\n",
       "account_id                                                                   \n",
       "0              0.0     0.0     0.0     0.0     0.0     0.0     0.0     0.0   \n",
       "1              0.0     0.0     0.0     0.0     0.0     0.0     0.0     0.0   \n",
       "2              0.0     0.0     0.0     1.0     0.0     0.0     0.0     0.0   \n",
       "3              0.0     0.0     0.0     0.0     0.0     0.0     0.0     0.0   \n",
       "4              0.0     0.0     0.0     0.0     0.0     0.0     0.0     0.0   \n",
       "\n",
       "content_id  11.0    12.0    ...  4357.0  4358.0  4359.0  4360.0  4361.0  \\\n",
       "account_id                  ...                                           \n",
       "0              0.0     0.0  ...     0.0     0.0     0.0     0.0     0.0   \n",
       "1              0.0     0.0  ...     0.0     0.0     0.0     0.0     0.0   \n",
       "2              0.0     0.0  ...     0.0     0.0     0.0     0.0     0.0   \n",
       "3              0.0     0.0  ...     0.0     0.0     0.0     0.0     0.0   \n",
       "4              0.0     0.0  ...     0.0     0.0     0.0     0.0     0.0   \n",
       "\n",
       "content_id  4362.0  4363.0  4364.0  4365.0  4366.0  \n",
       "account_id                                          \n",
       "0              0.0     0.0     0.0     0.0     0.0  \n",
       "1              0.0     0.0     0.0     0.0     0.0  \n",
       "2              0.0     0.0     0.0     0.0     0.0  \n",
       "3              0.0     0.0     0.0     0.0     0.0  \n",
       "4              0.0     0.0     0.0     0.0     0.0  \n",
       "\n",
       "[5 rows x 3688 columns]"
      ]
     },
     "execution_count": 88,
     "metadata": {},
     "output_type": "execute_result"
    }
   ],
   "source": [
    "%%time\n",
    "interactions_matrix_1 = interactions_matrix_1.fillna(0)\n",
    "interactions_matrix_1.head()"
   ]
  },
  {
   "cell_type": "code",
   "execution_count": 89,
   "metadata": {},
   "outputs": [
    {
     "name": "stdout",
     "output_type": "stream",
     "text": [
      "CPU times: user 7.01 s, sys: 1.39 s, total: 8.4 s\n",
      "Wall time: 8.42 s\n"
     ]
    }
   ],
   "source": [
    "%%time\n",
    "interactions_matrix_2 = interactions_matrix_2.fillna(0)"
   ]
  },
  {
   "cell_type": "code",
   "execution_count": 90,
   "metadata": {},
   "outputs": [
    {
     "name": "stdout",
     "output_type": "stream",
     "text": [
      "CPU times: user 9.04 s, sys: 184 ms, total: 9.23 s\n",
      "Wall time: 9.25 s\n"
     ]
    }
   ],
   "source": [
    "%%time\n",
    "interactions_matrix_3 = interactions_matrix_3.fillna(0)"
   ]
  },
  {
   "cell_type": "code",
   "execution_count": 95,
   "metadata": {},
   "outputs": [
    {
     "name": "stdout",
     "output_type": "stream",
     "text": [
      "CPU times: user 15.5 s, sys: 2.75 s, total: 18.3 s\n",
      "Wall time: 18.3 s\n"
     ]
    }
   ],
   "source": [
    "%%time\n",
    "interactions_matrix_4 = interactions_matrix_4.fillna(0)"
   ]
  },
  {
   "cell_type": "code",
   "execution_count": 91,
   "metadata": {},
   "outputs": [
    {
     "name": "stdout",
     "output_type": "stream",
     "text": [
      "CPU times: user 7.22 s, sys: 0 ns, total: 7.22 s\n",
      "Wall time: 7.22 s\n"
     ]
    }
   ],
   "source": [
    "%%time\n",
    "interactions_matrix_5 = interactions_matrix_5.fillna(0)"
   ]
  },
  {
   "cell_type": "markdown",
   "metadata": {
    "id": "tIxcJFQJQFAi"
   },
   "source": [
    "¿Cuántas filas y columnas tiene la matriz de interacción?"
   ]
  },
  {
   "cell_type": "code",
   "execution_count": 96,
   "metadata": {
    "id": "KmkX0OGIQENW"
   },
   "outputs": [
    {
     "name": "stdout",
     "output_type": "stream",
     "text": [
      "Matriz 1 tiene : 95758 filas y 3688 columnas\n",
      "Matriz 2 tiene : 95758 filas y 3688 columnas\n",
      "Matriz 3 tiene : 95758 filas y 3688 columnas\n",
      "Matriz 4 tiene : 95758 filas y 3688 columnas\n",
      "Matriz 5 tiene : 95758 filas y 3688 columnas\n"
     ]
    }
   ],
   "source": [
    "print(f\"Matriz 1 tiene : {interactions_matrix_1.shape[0]} filas y {interactions_matrix_1.shape[1]} columnas\")\n",
    "print(f\"Matriz 2 tiene : {interactions_matrix_2.shape[0]} filas y {interactions_matrix_2.shape[1]} columnas\")\n",
    "print(f\"Matriz 3 tiene : {interactions_matrix_3.shape[0]} filas y {interactions_matrix_3.shape[1]} columnas\")\n",
    "print(f\"Matriz 4 tiene : {interactions_matrix_4.shape[0]} filas y {interactions_matrix_4.shape[1]} columnas\")\n",
    "print(f\"Matriz 5 tiene : {interactions_matrix_5.shape[0]} filas y {interactions_matrix_5.shape[1]} columnas\")"
   ]
  },
  {
   "cell_type": "markdown",
   "metadata": {
    "id": "iClfO9gFREN8"
   },
   "source": [
    "<b>Generemos diccionarios de usuarios (cuentas) y items</b>"
   ]
  },
  {
   "cell_type": "code",
   "execution_count": 97,
   "metadata": {
    "id": "bA6K6SlXRBqW"
   },
   "outputs": [
    {
     "name": "stdout",
     "output_type": "stream",
     "text": [
      "CPU times: user 33 ms, sys: 75 µs, total: 33.1 ms\n",
      "Wall time: 69.2 ms\n"
     ]
    }
   ],
   "source": [
    "%%time\n",
    "# user_id = list(interactions_matrix_1.index)\n",
    "user_id = interactions_matrix_1.index\n",
    "user_dict = {}\n",
    "counter = 0 \n",
    "for i in user_id:\n",
    "    user_dict[i] = counter\n",
    "    counter += 1"
   ]
  },
  {
   "cell_type": "code",
   "execution_count": 98,
   "metadata": {
    "id": "fHpWWcWNRKA1"
   },
   "outputs": [
    {
     "name": "stdout",
     "output_type": "stream",
     "text": [
      "CPU times: user 0 ns, sys: 3.29 ms, total: 3.29 ms\n",
      "Wall time: 3.54 ms\n"
     ]
    }
   ],
   "source": [
    "%%time\n",
    "# item_id = list(interactions_matrix_1.columns)\n",
    "item_id = interactions_matrix_1.columns\n",
    "item_dict = {}\n",
    "counter = 0 \n",
    "for i in item_id:\n",
    "    item_dict[i] = counter\n",
    "    counter += 1"
   ]
  },
  {
   "cell_type": "markdown",
   "metadata": {
    "id": "RdlYwN5hQOd1"
   },
   "source": [
    "<b>Transformamos la matriz a csr matrix (compressed sparse row)</b>"
   ]
  },
  {
   "cell_type": "code",
   "execution_count": 99,
   "metadata": {
    "id": "mkeOgsdBQNd7"
   },
   "outputs": [
    {
     "name": "stdout",
     "output_type": "stream",
     "text": [
      "CPU times: user 4.39 s, sys: 0 ns, total: 4.39 s\n",
      "Wall time: 6.14 s\n"
     ]
    }
   ],
   "source": [
    "%%time\n",
    "interactions_matrix_csr_1 = csr_matrix(interactions_matrix_1.values)"
   ]
  },
  {
   "cell_type": "code",
   "execution_count": 100,
   "metadata": {},
   "outputs": [
    {
     "name": "stdout",
     "output_type": "stream",
     "text": [
      "CPU times: user 5.16 s, sys: 0 ns, total: 5.16 s\n",
      "Wall time: 6.47 s\n"
     ]
    }
   ],
   "source": [
    "%%time\n",
    "interactions_matrix_csr_2 = csr_matrix(interactions_matrix_2.values)"
   ]
  },
  {
   "cell_type": "code",
   "execution_count": 101,
   "metadata": {},
   "outputs": [
    {
     "name": "stdout",
     "output_type": "stream",
     "text": [
      "CPU times: user 5.23 s, sys: 0 ns, total: 5.23 s\n",
      "Wall time: 5.24 s\n"
     ]
    }
   ],
   "source": [
    "%%time\n",
    "interactions_matrix_csr_3 = csr_matrix(interactions_matrix_3.values)"
   ]
  },
  {
   "cell_type": "code",
   "execution_count": 102,
   "metadata": {},
   "outputs": [
    {
     "name": "stdout",
     "output_type": "stream",
     "text": [
      "CPU times: user 4.25 s, sys: 0 ns, total: 4.25 s\n",
      "Wall time: 4.25 s\n"
     ]
    }
   ],
   "source": [
    "%%time\n",
    "interactions_matrix_csr_4 = csr_matrix(interactions_matrix_4.values)"
   ]
  },
  {
   "cell_type": "code",
   "execution_count": 103,
   "metadata": {},
   "outputs": [
    {
     "name": "stdout",
     "output_type": "stream",
     "text": [
      "CPU times: user 5.12 s, sys: 0 ns, total: 5.12 s\n",
      "Wall time: 5.14 s\n"
     ]
    }
   ],
   "source": [
    "%%time\n",
    "interactions_matrix_csr_5 = csr_matrix(interactions_matrix_5.values)"
   ]
  },
  {
   "cell_type": "code",
   "execution_count": 104,
   "metadata": {},
   "outputs": [
    {
     "name": "stdout",
     "output_type": "stream",
     "text": [
      "Matriz 1 : (95758, 3688)\n",
      "Matriz 2 : (95758, 3688)\n",
      "Matriz 3 : (95758, 3688)\n",
      "Matriz 4 : (95758, 3688)\n",
      "Matriz 5 : (95758, 3688)\n"
     ]
    }
   ],
   "source": [
    "print(f\"Matriz 1 : {interactions_matrix_csr_1.shape}\")\n",
    "print(f\"Matriz 2 : {interactions_matrix_csr_2.shape}\")\n",
    "print(f\"Matriz 3 : {interactions_matrix_csr_3.shape}\")\n",
    "print(f\"Matriz 4 : {interactions_matrix_csr_4.shape}\")\n",
    "print(f\"Matriz 5 : {interactions_matrix_csr_5.shape}\")"
   ]
  },
  {
   "cell_type": "markdown",
   "metadata": {},
   "source": [
    "# Contenido no disponible"
   ]
  },
  {
   "cell_type": "markdown",
   "metadata": {
    "id": "Jjp1Ik5VVcja"
   },
   "source": [
    "Si bien se podría pensar en no recomendar todo aquel contenido que ya no estará disponible en la plataforma a partir el 01-03-2021, decidimos poner una ventana de tiempo de un mes. Entonces no se recomendará todo aquel contenido que no esté disponible a partir del 01-04-2021."
   ]
  },
  {
   "cell_type": "code",
   "execution_count": 105,
   "metadata": {
    "scrolled": true
   },
   "outputs": [
    {
     "name": "stdout",
     "output_type": "stream",
     "text": [
      "Cantidad de contenido no disponible desde 01-04-2021: 927\n"
     ]
    }
   ],
   "source": [
    "# Me quedo con content_id y su maxima end_vod_date\n",
    "not_available_content_df = df[['content_id', 'end_vod_date']].groupby('content_id', as_index=False).agg({'end_vod_date': 'max'})\n",
    "not_available_content = not_available_content_df[not_available_content_df['end_vod_date'] < datetime(year=2021, month=4, day=1).date()]['content_id'].values\n",
    "\n",
    "print(f\"Cantidad de contenido no disponible desde 01-04-2021: {len(not_available_content)}\")"
   ]
  },
  {
   "cell_type": "markdown",
   "metadata": {},
   "source": [
    "Titulos de los 10 primeros contenidos no disponibles"
   ]
  },
  {
   "cell_type": "code",
   "execution_count": 106,
   "metadata": {},
   "outputs": [
    {
     "data": {
      "text/html": [
       "<div>\n",
       "<style scoped>\n",
       "    .dataframe tbody tr th:only-of-type {\n",
       "        vertical-align: middle;\n",
       "    }\n",
       "\n",
       "    .dataframe tbody tr th {\n",
       "        vertical-align: top;\n",
       "    }\n",
       "\n",
       "    .dataframe thead th {\n",
       "        text-align: right;\n",
       "    }\n",
       "</style>\n",
       "<table border=\"1\" class=\"dataframe\">\n",
       "  <thead>\n",
       "    <tr style=\"text-align: right;\">\n",
       "      <th></th>\n",
       "      <th>title</th>\n",
       "      <th>episode_title</th>\n",
       "      <th>category</th>\n",
       "      <th>released_year</th>\n",
       "      <th>end_vod_date</th>\n",
       "    </tr>\n",
       "  </thead>\n",
       "  <tbody>\n",
       "    <tr>\n",
       "      <th>6575</th>\n",
       "      <td>Después de mayo</td>\n",
       "      <td>NaN</td>\n",
       "      <td>Drama</td>\n",
       "      <td>2012.0</td>\n",
       "      <td>2021-01-05T23:59:00.0Z</td>\n",
       "    </tr>\n",
       "    <tr>\n",
       "      <th>10617</th>\n",
       "      <td>Dr. Insólito</td>\n",
       "      <td>NaN</td>\n",
       "      <td>Comedia/Bélico</td>\n",
       "      <td>1964.0</td>\n",
       "      <td>2021-02-28T23:59:00.0Z</td>\n",
       "    </tr>\n",
       "    <tr>\n",
       "      <th>7026</th>\n",
       "      <td>El efecto mariposa</td>\n",
       "      <td>NaN</td>\n",
       "      <td>Drama/Ciencia Ficción</td>\n",
       "      <td>2004.0</td>\n",
       "      <td>2021-01-12T23:59:59.0Z</td>\n",
       "    </tr>\n",
       "    <tr>\n",
       "      <th>11288</th>\n",
       "      <td>T:4 Ep:13 Nicky, Ricky, Dicky &amp; Dawn</td>\n",
       "      <td>Teorías de Cuatriconspiración</td>\n",
       "      <td>Infantil/Comedia</td>\n",
       "      <td>2018.0</td>\n",
       "      <td>2021-03-01T23:59:00.0Z</td>\n",
       "    </tr>\n",
       "    <tr>\n",
       "      <th>6125</th>\n",
       "      <td>Ep:063 Alas rotas</td>\n",
       "      <td>Episodio 63</td>\n",
       "      <td>Drama/Romance</td>\n",
       "      <td>2017.0</td>\n",
       "      <td>2021-01-01T23:59:00.0Z</td>\n",
       "    </tr>\n",
       "    <tr>\n",
       "      <th>27960</th>\n",
       "      <td>T:1 Ep:02 Parrilla a la mexicana</td>\n",
       "      <td>Pollitos de leche y Tacos Dorados</td>\n",
       "      <td>Entretenimiento/Cocina</td>\n",
       "      <td>2019.0</td>\n",
       "      <td>2021-03-31T23:59:00.0Z</td>\n",
       "    </tr>\n",
       "    <tr>\n",
       "      <th>7763</th>\n",
       "      <td>T:1 Ep:10 Rubirosa</td>\n",
       "      <td>Regimen del terror</td>\n",
       "      <td>Drama/Biografía</td>\n",
       "      <td>2019.0</td>\n",
       "      <td>2021-01-24T23:59:00.0Z</td>\n",
       "    </tr>\n",
       "    <tr>\n",
       "      <th>9412</th>\n",
       "      <td>T:1 Ep:02 Wild: Mongolia</td>\n",
       "      <td>Pastizal extremo</td>\n",
       "      <td>Documental/Naturaleza</td>\n",
       "      <td>2018.0</td>\n",
       "      <td>2021-02-17T23:59:59.0Z</td>\n",
       "    </tr>\n",
       "    <tr>\n",
       "      <th>8933</th>\n",
       "      <td>T:2 Ep:10 Ash vs Evil Dead</td>\n",
       "      <td>La seguna venida</td>\n",
       "      <td>Terror/Comedia</td>\n",
       "      <td>2016.0</td>\n",
       "      <td>2021-02-08T23:59:00.0Z</td>\n",
       "    </tr>\n",
       "    <tr>\n",
       "      <th>26923</th>\n",
       "      <td>Las apariencias engañan</td>\n",
       "      <td>NaN</td>\n",
       "      <td>Comedia</td>\n",
       "      <td>2016.0</td>\n",
       "      <td>2021-03-31T23:59:00.0Z</td>\n",
       "    </tr>\n",
       "  </tbody>\n",
       "</table>\n",
       "</div>"
      ],
      "text/plain": [
       "                                      title  \\\n",
       "6575                        Después de mayo   \n",
       "10617                          Dr. Insólito   \n",
       "7026                     El efecto mariposa   \n",
       "11288  T:4 Ep:13 Nicky, Ricky, Dicky & Dawn   \n",
       "6125                      Ep:063 Alas rotas   \n",
       "27960      T:1 Ep:02 Parrilla a la mexicana   \n",
       "7763                     T:1 Ep:10 Rubirosa   \n",
       "9412               T:1 Ep:02 Wild: Mongolia   \n",
       "8933             T:2 Ep:10 Ash vs Evil Dead   \n",
       "26923               Las apariencias engañan   \n",
       "\n",
       "                           episode_title                category  \\\n",
       "6575                                 NaN                   Drama   \n",
       "10617                                NaN          Comedia/Bélico   \n",
       "7026                                 NaN   Drama/Ciencia Ficción   \n",
       "11288      Teorías de Cuatriconspiración        Infantil/Comedia   \n",
       "6125                         Episodio 63           Drama/Romance   \n",
       "27960  Pollitos de leche y Tacos Dorados  Entretenimiento/Cocina   \n",
       "7763                  Regimen del terror         Drama/Biografía   \n",
       "9412                    Pastizal extremo   Documental/Naturaleza   \n",
       "8933                    La seguna venida          Terror/Comedia   \n",
       "26923                                NaN                 Comedia   \n",
       "\n",
       "       released_year            end_vod_date  \n",
       "6575          2012.0  2021-01-05T23:59:00.0Z  \n",
       "10617         1964.0  2021-02-28T23:59:00.0Z  \n",
       "7026          2004.0  2021-01-12T23:59:59.0Z  \n",
       "11288         2018.0  2021-03-01T23:59:00.0Z  \n",
       "6125          2017.0  2021-01-01T23:59:00.0Z  \n",
       "27960         2019.0  2021-03-31T23:59:00.0Z  \n",
       "7763          2019.0  2021-01-24T23:59:00.0Z  \n",
       "9412          2018.0  2021-02-17T23:59:59.0Z  \n",
       "8933          2016.0  2021-02-08T23:59:00.0Z  \n",
       "26923         2016.0  2021-03-31T23:59:00.0Z  "
      ]
     },
     "execution_count": 106,
     "metadata": {},
     "output_type": "execute_result"
    }
   ],
   "source": [
    "df_metadatos[df_metadatos.content_id.isin(not_available_content)][['title', 'episode_title','category', 'released_year', 'end_vod_date']].sample(10)"
   ]
  },
  {
   "cell_type": "markdown",
   "metadata": {},
   "source": [
    "# Cold start"
   ]
  },
  {
   "cell_type": "markdown",
   "metadata": {},
   "source": [
    "Popularidad de contenido para cold start: agrupamos por contenidos más vistos."
   ]
  },
  {
   "cell_type": "code",
   "execution_count": 107,
   "metadata": {
    "scrolled": true
   },
   "outputs": [
    {
     "data": {
      "text/plain": [
       "array([3806., 3900., 2040., 3598., 3381., 3690., 3210., 3550., 3384.,\n",
       "       3711., 3382., 3775., 2627.,  116., 2827.,  724., 3716., 1462.,\n",
       "       3712., 2815., 2160., 1008.,  580., 3726., 3863., 1971., 3035.,\n",
       "       2972.,  173., 2942., 3578., 1316., 2323.,  171., 1020., 2992.,\n",
       "       3572., 1140., 2817., 1665., 3502., 3026.,  729., 3292., 3091.,\n",
       "       1720.,  604.,  292., 3748., 2680.])"
      ]
     },
     "execution_count": 107,
     "metadata": {},
     "output_type": "execute_result"
    }
   ],
   "source": [
    "popularity_df = train.groupby(\"content_id\", as_index=False).agg({\"account_id\":\"nunique\"})\\\n",
    "    .sort_values(by=\"account_id\", ascending=False) \n",
    "\n",
    "most_popular = popularity_df['content_id'][0:50].values\n",
    "most_popular = [x for x in most_popular if x not in not_available_content]\n",
    "\n",
    "popularity_df.head(50).content_id.values"
   ]
  },
  {
   "cell_type": "markdown",
   "metadata": {},
   "source": [
    "Títulos de los 10 primeros contenidos más populares"
   ]
  },
  {
   "cell_type": "code",
   "execution_count": 108,
   "metadata": {
    "scrolled": true
   },
   "outputs": [
    {
     "data": {
      "text/html": [
       "<div>\n",
       "<style scoped>\n",
       "    .dataframe tbody tr th:only-of-type {\n",
       "        vertical-align: middle;\n",
       "    }\n",
       "\n",
       "    .dataframe tbody tr th {\n",
       "        vertical-align: top;\n",
       "    }\n",
       "\n",
       "    .dataframe thead th {\n",
       "        text-align: right;\n",
       "    }\n",
       "</style>\n",
       "<table border=\"1\" class=\"dataframe\">\n",
       "  <thead>\n",
       "    <tr style=\"text-align: right;\">\n",
       "      <th></th>\n",
       "      <th>content_id</th>\n",
       "      <th>title</th>\n",
       "      <th>episode_title</th>\n",
       "      <th>category</th>\n",
       "      <th>released_year</th>\n",
       "      <th>end_vod_date</th>\n",
       "    </tr>\n",
       "  </thead>\n",
       "  <tbody>\n",
       "    <tr>\n",
       "      <th>0</th>\n",
       "      <td>3806.0</td>\n",
       "      <td>Cosa de minas</td>\n",
       "      <td>NaN</td>\n",
       "      <td>Comedia</td>\n",
       "      <td>2020.0</td>\n",
       "      <td>2022-01-26T23:59:59.0Z</td>\n",
       "    </tr>\n",
       "    <tr>\n",
       "      <th>1</th>\n",
       "      <td>3900.0</td>\n",
       "      <td>T:1 Ep:01 The Collapse</td>\n",
       "      <td>Supermercado</td>\n",
       "      <td>Drama</td>\n",
       "      <td>2019.0</td>\n",
       "      <td>2021-06-09T23:59:59.0Z</td>\n",
       "    </tr>\n",
       "    <tr>\n",
       "      <th>9</th>\n",
       "      <td>2040.0</td>\n",
       "      <td>T:1 Ep:01 This is Us</td>\n",
       "      <td>Piloto</td>\n",
       "      <td>Drama/Comedia</td>\n",
       "      <td>2016.0</td>\n",
       "      <td>2021-06-30T23:59:59.0Z</td>\n",
       "    </tr>\n",
       "    <tr>\n",
       "      <th>92</th>\n",
       "      <td>3598.0</td>\n",
       "      <td>Badur hogar</td>\n",
       "      <td>NaN</td>\n",
       "      <td>Comedia/Drama</td>\n",
       "      <td>2019.0</td>\n",
       "      <td>2021-12-28T23:59:00.0Z</td>\n",
       "    </tr>\n",
       "    <tr>\n",
       "      <th>93</th>\n",
       "      <td>3381.0</td>\n",
       "      <td>3 metros sobre el cielo</td>\n",
       "      <td>NaN</td>\n",
       "      <td>Romance/Drama</td>\n",
       "      <td>2010.0</td>\n",
       "      <td>2023-12-04T23:59:59.0Z</td>\n",
       "    </tr>\n",
       "    <tr>\n",
       "      <th>94</th>\n",
       "      <td>3690.0</td>\n",
       "      <td>Rosseshow: La atípica familia tipo</td>\n",
       "      <td>NaN</td>\n",
       "      <td>Comedia</td>\n",
       "      <td>2020.0</td>\n",
       "      <td>2023-01-08T23:59:00.0Z</td>\n",
       "    </tr>\n",
       "    <tr>\n",
       "      <th>95</th>\n",
       "      <td>3210.0</td>\n",
       "      <td>Fuga de pretoria</td>\n",
       "      <td>NaN</td>\n",
       "      <td>Drama/Suspenso</td>\n",
       "      <td>2020.0</td>\n",
       "      <td>2021-10-27T23:59:59.0Z</td>\n",
       "    </tr>\n",
       "    <tr>\n",
       "      <th>96</th>\n",
       "      <td>3550.0</td>\n",
       "      <td>Raúl. La democracia desde adentro</td>\n",
       "      <td>NaN</td>\n",
       "      <td>Documental</td>\n",
       "      <td>2019.0</td>\n",
       "      <td>2022-12-28T23:59:59.0Z</td>\n",
       "    </tr>\n",
       "    <tr>\n",
       "      <th>97</th>\n",
       "      <td>3384.0</td>\n",
       "      <td>Tengo ganas de ti</td>\n",
       "      <td>NaN</td>\n",
       "      <td>Drama/Romance</td>\n",
       "      <td>2012.0</td>\n",
       "      <td>2023-12-11T23:59:59.0Z</td>\n",
       "    </tr>\n",
       "    <tr>\n",
       "      <th>98</th>\n",
       "      <td>3711.0</td>\n",
       "      <td>Ip Man 4</td>\n",
       "      <td>NaN</td>\n",
       "      <td>Drama/Acción</td>\n",
       "      <td>2019.0</td>\n",
       "      <td>2023-09-30T23:59:00.0Z</td>\n",
       "    </tr>\n",
       "  </tbody>\n",
       "</table>\n",
       "</div>"
      ],
      "text/plain": [
       "    content_id                               title episode_title  \\\n",
       "0       3806.0                       Cosa de minas           NaN   \n",
       "1       3900.0              T:1 Ep:01 The Collapse  Supermercado   \n",
       "9       2040.0                T:1 Ep:01 This is Us        Piloto   \n",
       "92      3598.0                         Badur hogar           NaN   \n",
       "93      3381.0             3 metros sobre el cielo           NaN   \n",
       "94      3690.0  Rosseshow: La atípica familia tipo           NaN   \n",
       "95      3210.0                    Fuga de pretoria           NaN   \n",
       "96      3550.0   Raúl. La democracia desde adentro           NaN   \n",
       "97      3384.0                   Tengo ganas de ti           NaN   \n",
       "98      3711.0                            Ip Man 4           NaN   \n",
       "\n",
       "          category  released_year            end_vod_date  \n",
       "0          Comedia         2020.0  2022-01-26T23:59:59.0Z  \n",
       "1            Drama         2019.0  2021-06-09T23:59:59.0Z  \n",
       "9    Drama/Comedia         2016.0  2021-06-30T23:59:59.0Z  \n",
       "92   Comedia/Drama         2019.0  2021-12-28T23:59:00.0Z  \n",
       "93   Romance/Drama         2010.0  2023-12-04T23:59:59.0Z  \n",
       "94         Comedia         2020.0  2023-01-08T23:59:00.0Z  \n",
       "95  Drama/Suspenso         2020.0  2021-10-27T23:59:59.0Z  \n",
       "96      Documental         2019.0  2022-12-28T23:59:59.0Z  \n",
       "97   Drama/Romance         2012.0  2023-12-11T23:59:59.0Z  \n",
       "98    Drama/Acción         2019.0  2023-09-30T23:59:00.0Z  "
      ]
     },
     "execution_count": 108,
     "metadata": {},
     "output_type": "execute_result"
    }
   ],
   "source": [
    "df_cold_start = pd.merge(popularity_df.head(10), df_metadatos, how='inner', left_on=['content_id'], right_on=['content_id'])\n",
    "df_cold_start.drop_duplicates(subset=['content_id'])[['content_id', 'title', 'episode_title','category', 'released_year', 'end_vod_date']]"
   ]
  },
  {
   "cell_type": "markdown",
   "metadata": {},
   "source": [
    "Cantidad de episodios de los content_id de arriba"
   ]
  },
  {
   "cell_type": "code",
   "execution_count": 109,
   "metadata": {},
   "outputs": [
    {
     "data": {
      "text/html": [
       "<div>\n",
       "<style scoped>\n",
       "    .dataframe tbody tr th:only-of-type {\n",
       "        vertical-align: middle;\n",
       "    }\n",
       "\n",
       "    .dataframe tbody tr th {\n",
       "        vertical-align: top;\n",
       "    }\n",
       "\n",
       "    .dataframe thead th {\n",
       "        text-align: right;\n",
       "    }\n",
       "</style>\n",
       "<table border=\"1\" class=\"dataframe\">\n",
       "  <thead>\n",
       "    <tr style=\"text-align: right;\">\n",
       "      <th></th>\n",
       "      <th>content_id</th>\n",
       "      <th>cantidad de episodios</th>\n",
       "    </tr>\n",
       "  </thead>\n",
       "  <tbody>\n",
       "    <tr>\n",
       "      <th>0</th>\n",
       "      <td>2040.0</td>\n",
       "      <td>83</td>\n",
       "    </tr>\n",
       "    <tr>\n",
       "      <th>1</th>\n",
       "      <td>3210.0</td>\n",
       "      <td>1</td>\n",
       "    </tr>\n",
       "    <tr>\n",
       "      <th>2</th>\n",
       "      <td>3381.0</td>\n",
       "      <td>1</td>\n",
       "    </tr>\n",
       "    <tr>\n",
       "      <th>3</th>\n",
       "      <td>3384.0</td>\n",
       "      <td>1</td>\n",
       "    </tr>\n",
       "    <tr>\n",
       "      <th>4</th>\n",
       "      <td>3550.0</td>\n",
       "      <td>1</td>\n",
       "    </tr>\n",
       "    <tr>\n",
       "      <th>5</th>\n",
       "      <td>3598.0</td>\n",
       "      <td>1</td>\n",
       "    </tr>\n",
       "    <tr>\n",
       "      <th>6</th>\n",
       "      <td>3690.0</td>\n",
       "      <td>1</td>\n",
       "    </tr>\n",
       "    <tr>\n",
       "      <th>7</th>\n",
       "      <td>3711.0</td>\n",
       "      <td>1</td>\n",
       "    </tr>\n",
       "    <tr>\n",
       "      <th>8</th>\n",
       "      <td>3806.0</td>\n",
       "      <td>1</td>\n",
       "    </tr>\n",
       "    <tr>\n",
       "      <th>9</th>\n",
       "      <td>3900.0</td>\n",
       "      <td>8</td>\n",
       "    </tr>\n",
       "  </tbody>\n",
       "</table>\n",
       "</div>"
      ],
      "text/plain": [
       "   content_id  cantidad de episodios\n",
       "0      2040.0                     83\n",
       "1      3210.0                      1\n",
       "2      3381.0                      1\n",
       "3      3384.0                      1\n",
       "4      3550.0                      1\n",
       "5      3598.0                      1\n",
       "6      3690.0                      1\n",
       "7      3711.0                      1\n",
       "8      3806.0                      1\n",
       "9      3900.0                      8"
      ]
     },
     "execution_count": 109,
     "metadata": {},
     "output_type": "execute_result"
    }
   ],
   "source": [
    "df_cold_start.groupby([\"content_id\"], as_index=False)\\\n",
    "             .agg({\"asset_id\": \"count\"})\\\n",
    "             .rename(columns={'asset_id':'cantidad de episodios'})\n",
    "    "
   ]
  },
  {
   "cell_type": "markdown",
   "metadata": {},
   "source": [
    "# Modelo"
   ]
  },
  {
   "cell_type": "markdown",
   "metadata": {
    "id": "w0UH0q67WQPl"
   },
   "source": [
    "Creamos nuestra función de recomendación utilizando la librería LFM (light fm) para crear el modelo."
   ]
  },
  {
   "cell_type": "code",
   "execution_count": 110,
   "metadata": {
    "id": "1rY7yLeLWX3s"
   },
   "outputs": [],
   "source": [
    "def recomm(interactions_matrix, interactions_matrix_csr, not_available_content, most_popular):\n",
    "    \n",
    "    # Creo el modelo\n",
    "    model = LightFM(random_state=0,\n",
    "                loss='warp',\n",
    "                learning_rate=0.03,\n",
    "                no_components=100)\n",
    "    \n",
    "    # Entreno el modelo\n",
    "    model = model.fit(interactions_matrix_csr, epochs=10)\n",
    "    \n",
    "    \n",
    "    # definimos dict donde vamos a ir almacenando las recomendaciones\n",
    "    recomms_dict = {\n",
    "        'user_id': [],\n",
    "        'recomms': [],\n",
    "        'cold': []\n",
    "    }\n",
    "\n",
    "    #obtenemos cantidad de usuarios y cantidad de items\n",
    "    n_users, n_items = interactions_matrix.shape\n",
    "    item_ids = np.arange(n_items)\n",
    "\n",
    "    #por cada usuario del dataset completo, generamos recomendaciones\n",
    "    for user in tqdm(test.account_id.unique()): \n",
    "\n",
    "        # if user in list(interactions_matrix_1.index):\n",
    "        if user in interactions_matrix.index:\n",
    "\n",
    "            # Si el usuario esta en train, no es cold start. Usamos el modelo para recomendar\n",
    "            user_x = user_dict[user] #buscamos el indice del usuario en la matriz (transformamos id a indice)\n",
    "\n",
    "           \n",
    "            preds = model.predict(user_ids=user_x, item_ids = item_ids)\n",
    "\n",
    "            \n",
    "            scores = pd.Series(preds)\n",
    "            scores.index = interactions_matrix.columns\n",
    "            # scores = list(pd.Series(scores.sort_values(ascending=False).index))[:50]\n",
    "            scores = pd.Series(scores.sort_values(ascending=False).index)[:50]\n",
    "\n",
    "            # Obtenemos listado de contenidos vistos anteriormente por el usuario (en el set de train)\n",
    "            watched_contents = train[train.account_id == user].content_id.unique()\n",
    "\n",
    "            # Filtramos contenidos ya vistos y quedarse con los primeros 10\n",
    "            recomms = [x for x in scores if x not in watched_contents]\n",
    "            recomms = [x for x in recomms if x not in not_available_content]\n",
    "\n",
    "            # Guardamos las recomendaciones en el diccionario\n",
    "            recomms_dict['user_id'].append(user)\n",
    "            recomms_dict['recomms'].append(recomms[0:20])\n",
    "            recomms_dict['cold'].append(False)\n",
    "\n",
    "        # En este else trataremos a los usuarios que no están en la matriz (cold start)\n",
    "        else:\n",
    "            recomms_dict['user_id'].append(user)\n",
    "            # Les recomendamos contenido popular\n",
    "            # recomms_dict['recomms'].append(popularity_df.content_id.to_list())\n",
    "            recomms_dict['recomms'].append(most_popular[:20])\n",
    "            recomms_dict['cold'].append(True)\n",
    "    return recomms_dict"
   ]
  },
  {
   "cell_type": "markdown",
   "metadata": {
    "id": "yyfXUwkBZUE1"
   },
   "source": [
    "# Ahora obtenemos las recomendaciones para todos los usuarios"
   ]
  },
  {
   "cell_type": "markdown",
   "metadata": {
    "id": "lyIWlFvXaJJ3"
   },
   "source": [
    "Primero comenzamos armando un listado de usuarios \"non cold\" a los cuales les daremos recomms personalizadas."
   ]
  },
  {
   "cell_type": "code",
   "execution_count": 111,
   "metadata": {
    "id": "F8-Ci763ZYja",
    "scrolled": true
   },
   "outputs": [
    {
     "name": "stdout",
     "output_type": "stream",
     "text": [
      "Cantidad de perfiles: 113873\n",
      "Cantidad de non_cold_users: 95758\n"
     ]
    }
   ],
   "source": [
    "# Todos lo usuarios\n",
    "users = df.account_id.unique() \n",
    "# Usuarios no cold\n",
    "non_cold_users = train.account_id.unique()\n",
    "\n",
    "print(f\"Cantidad de perfiles: {len(users)}\") # 113873\n",
    "print(f\"Cantidad de non_cold_users: {len(non_cold_users)}\") # 95758                               "
   ]
  },
  {
   "cell_type": "code",
   "execution_count": 112,
   "metadata": {},
   "outputs": [
    {
     "name": "stderr",
     "output_type": "stream",
     "text": [
      "100%|██████████| 87623/87623 [02:49<00:00, 515.96it/s] "
     ]
    },
    {
     "name": "stdout",
     "output_type": "stream",
     "text": [
      "CPU times: user 3min 4s, sys: 0 ns, total: 3min 4s\n",
      "Wall time: 3min 3s\n"
     ]
    },
    {
     "name": "stderr",
     "output_type": "stream",
     "text": [
      "\n"
     ]
    }
   ],
   "source": [
    "%%time\n",
    "recomms_dict_1 = recomm(interactions_matrix_1, interactions_matrix_csr_1, not_available_content, most_popular)"
   ]
  },
  {
   "cell_type": "code",
   "execution_count": 113,
   "metadata": {},
   "outputs": [
    {
     "name": "stderr",
     "output_type": "stream",
     "text": [
      "100%|██████████| 87623/87623 [02:49<00:00, 517.20it/s] "
     ]
    },
    {
     "name": "stdout",
     "output_type": "stream",
     "text": [
      "CPU times: user 2min 57s, sys: 0 ns, total: 2min 57s\n",
      "Wall time: 2min 56s\n"
     ]
    },
    {
     "name": "stderr",
     "output_type": "stream",
     "text": [
      "\n"
     ]
    }
   ],
   "source": [
    "%%time\n",
    "recomms_dict_2 = recomm(interactions_matrix_2, interactions_matrix_csr_2, not_available_content, most_popular)"
   ]
  },
  {
   "cell_type": "code",
   "execution_count": 114,
   "metadata": {},
   "outputs": [
    {
     "name": "stderr",
     "output_type": "stream",
     "text": [
      "100%|██████████| 87623/87623 [02:50<00:00, 513.50it/s] "
     ]
    },
    {
     "name": "stdout",
     "output_type": "stream",
     "text": [
      "CPU times: user 2min 59s, sys: 0 ns, total: 2min 59s\n",
      "Wall time: 2min 58s\n"
     ]
    },
    {
     "name": "stderr",
     "output_type": "stream",
     "text": [
      "\n"
     ]
    }
   ],
   "source": [
    "%%time\n",
    "recomms_dict_3 = recomm(interactions_matrix_3, interactions_matrix_csr_3, not_available_content, most_popular)"
   ]
  },
  {
   "cell_type": "code",
   "execution_count": 132,
   "metadata": {},
   "outputs": [
    {
     "name": "stderr",
     "output_type": "stream",
     "text": [
      "100%|███████████████████████████████████████████████████████████████████████████| 87623/87623 [04:21<00:00, 335.17it/s]"
     ]
    },
    {
     "name": "stdout",
     "output_type": "stream",
     "text": [
      "Wall time: 4min 58s\n",
      "Parser   : 468 ms\n"
     ]
    },
    {
     "name": "stderr",
     "output_type": "stream",
     "text": [
      "\n"
     ]
    }
   ],
   "source": [
    "%%time\n",
    "recomms_dict_4 = recomm(interactions_matrix_4, interactions_matrix_csr_4, not_available_content, most_popular)"
   ]
  },
  {
   "cell_type": "code",
   "execution_count": 115,
   "metadata": {},
   "outputs": [
    {
     "name": "stderr",
     "output_type": "stream",
     "text": [
      "100%|██████████| 87623/87623 [02:49<00:00, 516.10it/s] "
     ]
    },
    {
     "name": "stdout",
     "output_type": "stream",
     "text": [
      "CPU times: user 3min 1s, sys: 0 ns, total: 3min 1s\n",
      "Wall time: 3min\n"
     ]
    },
    {
     "name": "stderr",
     "output_type": "stream",
     "text": [
      "\n"
     ]
    }
   ],
   "source": [
    "%%time\n",
    "recomms_dict_5 = recomm(interactions_matrix_5, interactions_matrix_csr_5, not_available_content, most_popular)"
   ]
  },
  {
   "cell_type": "markdown",
   "metadata": {
    "id": "dzKOA4pFbIg7"
   },
   "source": [
    "Ahora tenemos diccionarios de recomedaciones. Lo vamos a convertir en dataframe para poder manipularlo más fácil."
   ]
  },
  {
   "cell_type": "code",
   "execution_count": 117,
   "metadata": {
    "id": "JV-6-x_nbJ2M",
    "scrolled": true
   },
   "outputs": [
    {
     "name": "stdout",
     "output_type": "stream",
     "text": [
      "CPU times: user 96.8 ms, sys: 0 ns, total: 96.8 ms\n",
      "Wall time: 94.7 ms\n"
     ]
    },
    {
     "data": {
      "text/html": [
       "<div>\n",
       "<style scoped>\n",
       "    .dataframe tbody tr th:only-of-type {\n",
       "        vertical-align: middle;\n",
       "    }\n",
       "\n",
       "    .dataframe tbody tr th {\n",
       "        vertical-align: top;\n",
       "    }\n",
       "\n",
       "    .dataframe thead th {\n",
       "        text-align: right;\n",
       "    }\n",
       "</style>\n",
       "<table border=\"1\" class=\"dataframe\">\n",
       "  <thead>\n",
       "    <tr style=\"text-align: right;\">\n",
       "      <th></th>\n",
       "      <th>user_id</th>\n",
       "      <th>recomms</th>\n",
       "      <th>cold</th>\n",
       "      <th>n_recomms</th>\n",
       "    </tr>\n",
       "  </thead>\n",
       "  <tbody>\n",
       "    <tr>\n",
       "      <th>0</th>\n",
       "      <td>90627</td>\n",
       "      <td>[3806.0, 3900.0, 2040.0, 3598.0, 3381.0, 3690....</td>\n",
       "      <td>True</td>\n",
       "      <td>20</td>\n",
       "    </tr>\n",
       "    <tr>\n",
       "      <th>1</th>\n",
       "      <td>3387</td>\n",
       "      <td>[3806.0, 3900.0, 2040.0, 3598.0, 3381.0, 3690....</td>\n",
       "      <td>True</td>\n",
       "      <td>20</td>\n",
       "    </tr>\n",
       "    <tr>\n",
       "      <th>2</th>\n",
       "      <td>3388</td>\n",
       "      <td>[2040.0, 116.0, 97.0, 3752.0, 3716.0, 1399.0, ...</td>\n",
       "      <td>False</td>\n",
       "      <td>20</td>\n",
       "    </tr>\n",
       "    <tr>\n",
       "      <th>3</th>\n",
       "      <td>3389</td>\n",
       "      <td>[1020.0, 3806.0, 2815.0, 1582.0, 2091.0, 2178....</td>\n",
       "      <td>False</td>\n",
       "      <td>20</td>\n",
       "    </tr>\n",
       "    <tr>\n",
       "      <th>4</th>\n",
       "      <td>3393</td>\n",
       "      <td>[3572.0, 37.0, 1178.0, 36.0, 3292.0, 38.0, 338...</td>\n",
       "      <td>False</td>\n",
       "      <td>20</td>\n",
       "    </tr>\n",
       "  </tbody>\n",
       "</table>\n",
       "</div>"
      ],
      "text/plain": [
       "   user_id                                            recomms   cold  \\\n",
       "0    90627  [3806.0, 3900.0, 2040.0, 3598.0, 3381.0, 3690....   True   \n",
       "1     3387  [3806.0, 3900.0, 2040.0, 3598.0, 3381.0, 3690....   True   \n",
       "2     3388  [2040.0, 116.0, 97.0, 3752.0, 3716.0, 1399.0, ...  False   \n",
       "3     3389  [1020.0, 3806.0, 2815.0, 1582.0, 2091.0, 2178....  False   \n",
       "4     3393  [3572.0, 37.0, 1178.0, 36.0, 3292.0, 38.0, 338...  False   \n",
       "\n",
       "   n_recomms  \n",
       "0         20  \n",
       "1         20  \n",
       "2         20  \n",
       "3         20  \n",
       "4         20  "
      ]
     },
     "execution_count": 117,
     "metadata": {},
     "output_type": "execute_result"
    }
   ],
   "source": [
    "%%time\n",
    "recomms_df_1 = pd.DataFrame(recomms_dict_1)\n",
    "recomms_df_1['n_recomms'] = recomms_df_1.recomms.apply(len)\n",
    "recomms_df_1.head()"
   ]
  },
  {
   "cell_type": "code",
   "execution_count": 118,
   "metadata": {},
   "outputs": [
    {
     "name": "stdout",
     "output_type": "stream",
     "text": [
      "CPU times: user 98.2 ms, sys: 0 ns, total: 98.2 ms\n",
      "Wall time: 96 ms\n"
     ]
    },
    {
     "data": {
      "text/html": [
       "<div>\n",
       "<style scoped>\n",
       "    .dataframe tbody tr th:only-of-type {\n",
       "        vertical-align: middle;\n",
       "    }\n",
       "\n",
       "    .dataframe tbody tr th {\n",
       "        vertical-align: top;\n",
       "    }\n",
       "\n",
       "    .dataframe thead th {\n",
       "        text-align: right;\n",
       "    }\n",
       "</style>\n",
       "<table border=\"1\" class=\"dataframe\">\n",
       "  <thead>\n",
       "    <tr style=\"text-align: right;\">\n",
       "      <th></th>\n",
       "      <th>user_id</th>\n",
       "      <th>recomms</th>\n",
       "      <th>cold</th>\n",
       "      <th>n_recomms</th>\n",
       "    </tr>\n",
       "  </thead>\n",
       "  <tbody>\n",
       "    <tr>\n",
       "      <th>0</th>\n",
       "      <td>90627</td>\n",
       "      <td>[3806.0, 3900.0, 2040.0, 3598.0, 3381.0, 3690....</td>\n",
       "      <td>True</td>\n",
       "      <td>20</td>\n",
       "    </tr>\n",
       "    <tr>\n",
       "      <th>1</th>\n",
       "      <td>3387</td>\n",
       "      <td>[3806.0, 3900.0, 2040.0, 3598.0, 3381.0, 3690....</td>\n",
       "      <td>True</td>\n",
       "      <td>20</td>\n",
       "    </tr>\n",
       "    <tr>\n",
       "      <th>2</th>\n",
       "      <td>3388</td>\n",
       "      <td>[2040.0, 116.0, 724.0, 173.0, 3716.0, 1140.0, ...</td>\n",
       "      <td>False</td>\n",
       "      <td>20</td>\n",
       "    </tr>\n",
       "    <tr>\n",
       "      <th>3</th>\n",
       "      <td>3389</td>\n",
       "      <td>[3806.0, 3900.0, 2040.0, 3210.0, 3381.0, 2827....</td>\n",
       "      <td>False</td>\n",
       "      <td>20</td>\n",
       "    </tr>\n",
       "    <tr>\n",
       "      <th>4</th>\n",
       "      <td>3393</td>\n",
       "      <td>[2160.0, 3572.0, 1178.0, 3292.0, 1449.0, 3516....</td>\n",
       "      <td>False</td>\n",
       "      <td>20</td>\n",
       "    </tr>\n",
       "  </tbody>\n",
       "</table>\n",
       "</div>"
      ],
      "text/plain": [
       "   user_id                                            recomms   cold  \\\n",
       "0    90627  [3806.0, 3900.0, 2040.0, 3598.0, 3381.0, 3690....   True   \n",
       "1     3387  [3806.0, 3900.0, 2040.0, 3598.0, 3381.0, 3690....   True   \n",
       "2     3388  [2040.0, 116.0, 724.0, 173.0, 3716.0, 1140.0, ...  False   \n",
       "3     3389  [3806.0, 3900.0, 2040.0, 3210.0, 3381.0, 2827....  False   \n",
       "4     3393  [2160.0, 3572.0, 1178.0, 3292.0, 1449.0, 3516....  False   \n",
       "\n",
       "   n_recomms  \n",
       "0         20  \n",
       "1         20  \n",
       "2         20  \n",
       "3         20  \n",
       "4         20  "
      ]
     },
     "execution_count": 118,
     "metadata": {},
     "output_type": "execute_result"
    }
   ],
   "source": [
    "%%time\n",
    "recomms_df_2 = pd.DataFrame(recomms_dict_2)\n",
    "recomms_df_2['n_recomms'] = recomms_df_2.recomms.apply(len)\n",
    "recomms_df_2.head()"
   ]
  },
  {
   "cell_type": "code",
   "execution_count": 119,
   "metadata": {},
   "outputs": [
    {
     "name": "stdout",
     "output_type": "stream",
     "text": [
      "CPU times: user 101 ms, sys: 0 ns, total: 101 ms\n",
      "Wall time: 98.4 ms\n"
     ]
    },
    {
     "data": {
      "text/html": [
       "<div>\n",
       "<style scoped>\n",
       "    .dataframe tbody tr th:only-of-type {\n",
       "        vertical-align: middle;\n",
       "    }\n",
       "\n",
       "    .dataframe tbody tr th {\n",
       "        vertical-align: top;\n",
       "    }\n",
       "\n",
       "    .dataframe thead th {\n",
       "        text-align: right;\n",
       "    }\n",
       "</style>\n",
       "<table border=\"1\" class=\"dataframe\">\n",
       "  <thead>\n",
       "    <tr style=\"text-align: right;\">\n",
       "      <th></th>\n",
       "      <th>user_id</th>\n",
       "      <th>recomms</th>\n",
       "      <th>cold</th>\n",
       "      <th>n_recomms</th>\n",
       "    </tr>\n",
       "  </thead>\n",
       "  <tbody>\n",
       "    <tr>\n",
       "      <th>0</th>\n",
       "      <td>90627</td>\n",
       "      <td>[3806.0, 3900.0, 2040.0, 3598.0, 3381.0, 3690....</td>\n",
       "      <td>True</td>\n",
       "      <td>20</td>\n",
       "    </tr>\n",
       "    <tr>\n",
       "      <th>1</th>\n",
       "      <td>3387</td>\n",
       "      <td>[3806.0, 3900.0, 2040.0, 3598.0, 3381.0, 3690....</td>\n",
       "      <td>True</td>\n",
       "      <td>20</td>\n",
       "    </tr>\n",
       "    <tr>\n",
       "      <th>2</th>\n",
       "      <td>3388</td>\n",
       "      <td>[116.0, 2040.0, 604.0, 3752.0, 2868.0, 3900.0,...</td>\n",
       "      <td>False</td>\n",
       "      <td>20</td>\n",
       "    </tr>\n",
       "    <tr>\n",
       "      <th>3</th>\n",
       "      <td>3389</td>\n",
       "      <td>[2040.0, 3900.0, 3806.0, 116.0, 3690.0, 3726.0...</td>\n",
       "      <td>False</td>\n",
       "      <td>20</td>\n",
       "    </tr>\n",
       "    <tr>\n",
       "      <th>4</th>\n",
       "      <td>3393</td>\n",
       "      <td>[36.0, 3572.0, 38.0, 37.0, 1178.0, 2160.0, 329...</td>\n",
       "      <td>False</td>\n",
       "      <td>20</td>\n",
       "    </tr>\n",
       "  </tbody>\n",
       "</table>\n",
       "</div>"
      ],
      "text/plain": [
       "   user_id                                            recomms   cold  \\\n",
       "0    90627  [3806.0, 3900.0, 2040.0, 3598.0, 3381.0, 3690....   True   \n",
       "1     3387  [3806.0, 3900.0, 2040.0, 3598.0, 3381.0, 3690....   True   \n",
       "2     3388  [116.0, 2040.0, 604.0, 3752.0, 2868.0, 3900.0,...  False   \n",
       "3     3389  [2040.0, 3900.0, 3806.0, 116.0, 3690.0, 3726.0...  False   \n",
       "4     3393  [36.0, 3572.0, 38.0, 37.0, 1178.0, 2160.0, 329...  False   \n",
       "\n",
       "   n_recomms  \n",
       "0         20  \n",
       "1         20  \n",
       "2         20  \n",
       "3         20  \n",
       "4         20  "
      ]
     },
     "execution_count": 119,
     "metadata": {},
     "output_type": "execute_result"
    }
   ],
   "source": [
    "%%time\n",
    "recomms_df_3 = pd.DataFrame(recomms_dict_3)\n",
    "recomms_df_3['n_recomms'] = recomms_df_3.recomms.apply(len)\n",
    "recomms_df_3.head()"
   ]
  },
  {
   "cell_type": "code",
   "execution_count": 133,
   "metadata": {},
   "outputs": [
    {
     "name": "stdout",
     "output_type": "stream",
     "text": [
      "Wall time: 209 ms\n"
     ]
    },
    {
     "data": {
      "text/html": [
       "<div>\n",
       "<style scoped>\n",
       "    .dataframe tbody tr th:only-of-type {\n",
       "        vertical-align: middle;\n",
       "    }\n",
       "\n",
       "    .dataframe tbody tr th {\n",
       "        vertical-align: top;\n",
       "    }\n",
       "\n",
       "    .dataframe thead th {\n",
       "        text-align: right;\n",
       "    }\n",
       "</style>\n",
       "<table border=\"1\" class=\"dataframe\">\n",
       "  <thead>\n",
       "    <tr style=\"text-align: right;\">\n",
       "      <th></th>\n",
       "      <th>user_id</th>\n",
       "      <th>recomms</th>\n",
       "      <th>cold</th>\n",
       "    </tr>\n",
       "  </thead>\n",
       "  <tbody>\n",
       "    <tr>\n",
       "      <th>0</th>\n",
       "      <td>90627</td>\n",
       "      <td>[3806.0, 3900.0, 2040.0, 3598.0, 3381.0, 3690....</td>\n",
       "      <td>True</td>\n",
       "    </tr>\n",
       "    <tr>\n",
       "      <th>1</th>\n",
       "      <td>3387</td>\n",
       "      <td>[3806.0, 3900.0, 2040.0, 3598.0, 3381.0, 3690....</td>\n",
       "      <td>True</td>\n",
       "    </tr>\n",
       "    <tr>\n",
       "      <th>2</th>\n",
       "      <td>3388</td>\n",
       "      <td>[3806.0, 3900.0, 3210.0, 3598.0, 3382.0, 116.0...</td>\n",
       "      <td>False</td>\n",
       "    </tr>\n",
       "    <tr>\n",
       "      <th>3</th>\n",
       "      <td>3389</td>\n",
       "      <td>[3806.0, 3900.0, 3598.0, 3210.0, 3382.0, 3550....</td>\n",
       "      <td>False</td>\n",
       "    </tr>\n",
       "    <tr>\n",
       "      <th>4</th>\n",
       "      <td>3393</td>\n",
       "      <td>[3572.0, 3806.0, 3497.0, 1829.0, 607.0, 3389.0...</td>\n",
       "      <td>False</td>\n",
       "    </tr>\n",
       "  </tbody>\n",
       "</table>\n",
       "</div>"
      ],
      "text/plain": [
       "   user_id                                            recomms   cold\n",
       "0    90627  [3806.0, 3900.0, 2040.0, 3598.0, 3381.0, 3690....   True\n",
       "1     3387  [3806.0, 3900.0, 2040.0, 3598.0, 3381.0, 3690....   True\n",
       "2     3388  [3806.0, 3900.0, 3210.0, 3598.0, 3382.0, 116.0...  False\n",
       "3     3389  [3806.0, 3900.0, 3598.0, 3210.0, 3382.0, 3550....  False\n",
       "4     3393  [3572.0, 3806.0, 3497.0, 1829.0, 607.0, 3389.0...  False"
      ]
     },
     "execution_count": 133,
     "metadata": {},
     "output_type": "execute_result"
    }
   ],
   "source": [
    "%%time\n",
    "recomms_df_4 = pd.DataFrame(recomms_dict_4)\n",
    "recomms_df_4['n_recomms'] = recomms_df_4.recomms.apply(len)\n",
    "recomms_df_4.head()"
   ]
  },
  {
   "cell_type": "code",
   "execution_count": 120,
   "metadata": {},
   "outputs": [
    {
     "name": "stdout",
     "output_type": "stream",
     "text": [
      "CPU times: user 104 ms, sys: 0 ns, total: 104 ms\n",
      "Wall time: 102 ms\n"
     ]
    },
    {
     "data": {
      "text/html": [
       "<div>\n",
       "<style scoped>\n",
       "    .dataframe tbody tr th:only-of-type {\n",
       "        vertical-align: middle;\n",
       "    }\n",
       "\n",
       "    .dataframe tbody tr th {\n",
       "        vertical-align: top;\n",
       "    }\n",
       "\n",
       "    .dataframe thead th {\n",
       "        text-align: right;\n",
       "    }\n",
       "</style>\n",
       "<table border=\"1\" class=\"dataframe\">\n",
       "  <thead>\n",
       "    <tr style=\"text-align: right;\">\n",
       "      <th></th>\n",
       "      <th>user_id</th>\n",
       "      <th>recomms</th>\n",
       "      <th>cold</th>\n",
       "      <th>n_recomms</th>\n",
       "    </tr>\n",
       "  </thead>\n",
       "  <tbody>\n",
       "    <tr>\n",
       "      <th>0</th>\n",
       "      <td>90627</td>\n",
       "      <td>[3806.0, 3900.0, 2040.0, 3598.0, 3381.0, 3690....</td>\n",
       "      <td>True</td>\n",
       "      <td>20</td>\n",
       "    </tr>\n",
       "    <tr>\n",
       "      <th>1</th>\n",
       "      <td>3387</td>\n",
       "      <td>[3806.0, 3900.0, 2040.0, 3598.0, 3381.0, 3690....</td>\n",
       "      <td>True</td>\n",
       "      <td>20</td>\n",
       "    </tr>\n",
       "    <tr>\n",
       "      <th>2</th>\n",
       "      <td>3388</td>\n",
       "      <td>[116.0, 2040.0, 3716.0, 3087.0, 1539.0, 2012.0...</td>\n",
       "      <td>False</td>\n",
       "      <td>20</td>\n",
       "    </tr>\n",
       "    <tr>\n",
       "      <th>3</th>\n",
       "      <td>3389</td>\n",
       "      <td>[2040.0, 3806.0, 1020.0, 292.0, 3900.0, 116.0,...</td>\n",
       "      <td>False</td>\n",
       "      <td>20</td>\n",
       "    </tr>\n",
       "    <tr>\n",
       "      <th>4</th>\n",
       "      <td>3393</td>\n",
       "      <td>[3572.0, 1829.0, 1178.0, 3516.0, 2160.0, 3806....</td>\n",
       "      <td>False</td>\n",
       "      <td>20</td>\n",
       "    </tr>\n",
       "  </tbody>\n",
       "</table>\n",
       "</div>"
      ],
      "text/plain": [
       "   user_id                                            recomms   cold  \\\n",
       "0    90627  [3806.0, 3900.0, 2040.0, 3598.0, 3381.0, 3690....   True   \n",
       "1     3387  [3806.0, 3900.0, 2040.0, 3598.0, 3381.0, 3690....   True   \n",
       "2     3388  [116.0, 2040.0, 3716.0, 3087.0, 1539.0, 2012.0...  False   \n",
       "3     3389  [2040.0, 3806.0, 1020.0, 292.0, 3900.0, 116.0,...  False   \n",
       "4     3393  [3572.0, 1829.0, 1178.0, 3516.0, 2160.0, 3806....  False   \n",
       "\n",
       "   n_recomms  \n",
       "0         20  \n",
       "1         20  \n",
       "2         20  \n",
       "3         20  \n",
       "4         20  "
      ]
     },
     "execution_count": 120,
     "metadata": {},
     "output_type": "execute_result"
    }
   ],
   "source": [
    "%%time\n",
    "recomms_df_5 = pd.DataFrame(recomms_dict_5)\n",
    "recomms_df_5['n_recomms'] = recomms_df_5.recomms.apply(len)\n",
    "recomms_df_5.head()"
   ]
  },
  {
   "cell_type": "markdown",
   "metadata": {},
   "source": [
    "# Visualizaciones reales de los usuarios"
   ]
  },
  {
   "cell_type": "markdown",
   "metadata": {
    "id": "IjrOnQymbY-d"
   },
   "source": [
    "Ahora tenemos que comparar nuestras recomendaciones contra lo que los usuarios realmente vieron (test)."
   ]
  },
  {
   "cell_type": "markdown",
   "metadata": {
    "id": "T6abumWRbibe"
   },
   "source": [
    "Primero ordenamos las visualizaciones por perfil y armamos un listado de los content_id vistos.\n",
    "\n",
    "Este es el listado \"ideal\" contra el que vamos a comparar nuestras recomendaciones."
   ]
  },
  {
   "cell_type": "code",
   "execution_count": 123,
   "metadata": {},
   "outputs": [
    {
     "name": "stdout",
     "output_type": "stream",
     "text": [
      "CPU times: user 6.35 s, sys: 0 ns, total: 6.35 s\n",
      "Wall time: 6.35 s\n"
     ]
    },
    {
     "data": {
      "text/html": [
       "<div>\n",
       "<style scoped>\n",
       "    .dataframe tbody tr th:only-of-type {\n",
       "        vertical-align: middle;\n",
       "    }\n",
       "\n",
       "    .dataframe tbody tr th {\n",
       "        vertical-align: top;\n",
       "    }\n",
       "\n",
       "    .dataframe thead th {\n",
       "        text-align: right;\n",
       "    }\n",
       "</style>\n",
       "<table border=\"1\" class=\"dataframe\">\n",
       "  <thead>\n",
       "    <tr style=\"text-align: right;\">\n",
       "      <th></th>\n",
       "      <th>account_id</th>\n",
       "      <th>content_id</th>\n",
       "    </tr>\n",
       "  </thead>\n",
       "  <tbody>\n",
       "    <tr>\n",
       "      <th>0</th>\n",
       "      <td>2</td>\n",
       "      <td>[433.0]</td>\n",
       "    </tr>\n",
       "    <tr>\n",
       "      <th>1</th>\n",
       "      <td>3</td>\n",
       "      <td>[3980.0, 3169.0, 4010.0, 2409.0, 1949.0, 3487....</td>\n",
       "    </tr>\n",
       "    <tr>\n",
       "      <th>2</th>\n",
       "      <td>4</td>\n",
       "      <td>[565.0, 4340.0, 2212.0, 513.0, 2341.0, 2344.0,...</td>\n",
       "    </tr>\n",
       "    <tr>\n",
       "      <th>3</th>\n",
       "      <td>5</td>\n",
       "      <td>[2259.0]</td>\n",
       "    </tr>\n",
       "    <tr>\n",
       "      <th>4</th>\n",
       "      <td>6</td>\n",
       "      <td>[3388.0, 4065.0, 3386.0, 3211.0, 3902.0, 2900.0]</td>\n",
       "    </tr>\n",
       "  </tbody>\n",
       "</table>\n",
       "</div>"
      ],
      "text/plain": [
       "   account_id                                         content_id\n",
       "0           2                                            [433.0]\n",
       "1           3  [3980.0, 3169.0, 4010.0, 2409.0, 1949.0, 3487....\n",
       "2           4  [565.0, 4340.0, 2212.0, 513.0, 2341.0, 2344.0,...\n",
       "3           5                                           [2259.0]\n",
       "4           6   [3388.0, 4065.0, 3386.0, 3211.0, 3902.0, 2900.0]"
      ]
     },
     "execution_count": 123,
     "metadata": {},
     "output_type": "execute_result"
    }
   ],
   "source": [
    "%%time\n",
    "ideal_recomms =\\\n",
    "    test\\\n",
    "    .sort_values(by=[\"account_id\"], ascending=False)\\\n",
    "    .groupby([\"account_id\"], as_index=False)\\\n",
    "    .agg({\"content_id\": \"unique\"})\n",
    "ideal_recomms.head()"
   ]
  },
  {
   "cell_type": "markdown",
   "metadata": {
    "id": "UXKuPItNbuMu"
   },
   "source": [
    "# Métricas"
   ]
  },
  {
   "cell_type": "markdown",
   "metadata": {},
   "source": [
    "Utilizaremos la métrica MAP (Mean Average Precision) para observar la performance de los modelos."
   ]
  },
  {
   "cell_type": "code",
   "execution_count": 124,
   "metadata": {},
   "outputs": [],
   "source": [
    "def calcular_MAP(ideal_recomms, recomms_df):\n",
    "    df_map = ideal_recomms.merge(recomms_df, how=\"left\", left_on=\"account_id\", right_on=\"user_id\")[[\"account_id\", \"content_id\", \"recomms\"]]\n",
    "    df_map.columns = [\"user_id\", \"ideal\", \"recomms\"]\n",
    "    \n",
    "    aps = [] # lista vacía para ir almacenando la AP de cada recomendación\n",
    "\n",
    "    for pred, label in df_map[[\"ideal\", \"recomms\"]].values:\n",
    "        n = len(pred) # cantidad de elementos recomendados\n",
    "        arange = np.arange(n, dtype=np.int32) + 1. # indexamos en base 1 \n",
    "        rel_k = np.in1d(pred[:n], label) # lista de booleanos que indican la relevancia de cada ítem\n",
    "        tp = np.ones(rel_k.sum(), dtype=np.int32).cumsum() # lista con el contador de verdaderos positivos\n",
    "        denom = arange[rel_k] # posiciones donde se encuentran los ítems relantes\n",
    "        ap = (tp / denom).sum() / len(label) # average precision\n",
    "        aps.append(ap)\n",
    "    \n",
    "    MAP = np.mean(aps)\n",
    "    return MAP"
   ]
  },
  {
   "cell_type": "code",
   "execution_count": 125,
   "metadata": {},
   "outputs": [
    {
     "name": "stdout",
     "output_type": "stream",
     "text": [
      "mean average precision para la opción 1 = 0.01438\n",
      "CPU times: user 5.48 s, sys: 0 ns, total: 5.48 s\n",
      "Wall time: 5.47 s\n"
     ]
    }
   ],
   "source": [
    "%%time\n",
    "MAP = calcular_MAP(ideal_recomms, recomms_df_1)\n",
    "print(f'mean average precision para la opción 1 = {round(MAP, 5)}')"
   ]
  },
  {
   "cell_type": "code",
   "execution_count": 126,
   "metadata": {},
   "outputs": [
    {
     "name": "stdout",
     "output_type": "stream",
     "text": [
      "mean average precision para la opción 2 = 0.01228\n",
      "CPU times: user 5.51 s, sys: 0 ns, total: 5.51 s\n",
      "Wall time: 5.51 s\n"
     ]
    }
   ],
   "source": [
    "%%time\n",
    "MAP = calcular_MAP(ideal_recomms, recomms_df_2)\n",
    "print(f'mean average precision para la opción 2 = {round(MAP, 5)}')"
   ]
  },
  {
   "cell_type": "code",
   "execution_count": 127,
   "metadata": {},
   "outputs": [
    {
     "name": "stdout",
     "output_type": "stream",
     "text": [
      "mean average precision para la opción 3 = 0.01461\n",
      "CPU times: user 5.51 s, sys: 0 ns, total: 5.51 s\n",
      "Wall time: 5.51 s\n"
     ]
    }
   ],
   "source": [
    "%%time\n",
    "MAP = calcular_MAP(ideal_recomms, recomms_df_3)\n",
    "print(f'mean average precision para la opción 3 = {round(MAP, 5)}')"
   ]
  },
  {
   "cell_type": "code",
   "execution_count": 134,
   "metadata": {},
   "outputs": [
    {
     "name": "stdout",
     "output_type": "stream",
     "text": [
      "mean average precision para la opción 4 = 0.00633\n",
      "Wall time: 8.25 s\n"
     ]
    }
   ],
   "source": [
    "%%time\n",
    "MAP = calcular_MAP(ideal_recomms, recomms_df_4)\n",
    "print(f'mean average precision para la opción 4 = {round(MAP, 5)}')"
   ]
  },
  {
   "cell_type": "code",
   "execution_count": 128,
   "metadata": {
    "scrolled": true
   },
   "outputs": [
    {
     "name": "stdout",
     "output_type": "stream",
     "text": [
      "mean average precision para la opción 5 = 0.01459\n",
      "CPU times: user 5.5 s, sys: 0 ns, total: 5.5 s\n",
      "Wall time: 5.49 s\n"
     ]
    }
   ],
   "source": [
    "%%time\n",
    "MAP = calcular_MAP(ideal_recomms, recomms_df_5)\n",
    "print(f'mean average precision para la opción 5 = {round(MAP, 5)}')"
   ]
  },
  {
   "cell_type": "code",
   "execution_count": null,
   "metadata": {},
   "outputs": [],
   "source": []
  },
  {
   "cell_type": "code",
   "execution_count": null,
   "metadata": {},
   "outputs": [],
   "source": []
  },
  {
   "cell_type": "markdown",
   "metadata": {},
   "source": [
    "# Modificando hiperparámetros del modelo para obtener mejores métricas"
   ]
  },
  {
   "cell_type": "markdown",
   "metadata": {},
   "source": [
    "Tomamos el modelo con mejor métrica de la sección anterior, y lo usamos como base para obtener mejores métricas, al ir modificando sus hiperparámetros, en especial, el 'no_component'."
   ]
  },
  {
   "cell_type": "code",
   "execution_count": 129,
   "metadata": {},
   "outputs": [],
   "source": [
    "def recomm_lightfm(model, interactions_matrix, interactions_matrix_csr, not_available_content, most_popular):\n",
    "    \n",
    "    # definimos dict donde vamos a ir almacenando las recomendaciones\n",
    "    recomms_dict = {\n",
    "        'user_id': [],\n",
    "        'recomms': [],\n",
    "        'cold': []\n",
    "    }\n",
    "\n",
    "    #obtenemos cantidad de usuarios y cantidad de items\n",
    "    n_users, n_items = interactions_matrix.shape\n",
    "    item_ids = np.arange(n_items)\n",
    "\n",
    "    #por cada usuario del dataset completo, generamos recomendaciones\n",
    "    for user in tqdm(test.account_id.unique()): \n",
    "\n",
    "        # if user in list(interactions_matrix_1.index):\n",
    "        if user in interactions_matrix.index:\n",
    "\n",
    "            # Si el usuario esta en train, no es cold start. Usamos el modelo para recomendar\n",
    "            user_x = user_dict[user] #buscamos el indice del usuario en la matriz (transformamos id a indice)\n",
    "\n",
    "           \n",
    "            preds = model.predict(user_ids=user_x, item_ids = item_ids)\n",
    "\n",
    "            \n",
    "            scores = pd.Series(preds)\n",
    "            scores.index = interactions_matrix.columns\n",
    "            # scores = list(pd.Series(scores.sort_values(ascending=False).index))[:50]\n",
    "            scores = pd.Series(scores.sort_values(ascending=False).index)[:50]\n",
    "\n",
    "            # Obtenemos listado de contenidos vistos anteriormente por el usuario (en el set de train)\n",
    "            watched_contents = train[train.account_id == user].content_id.unique()\n",
    "\n",
    "            # Filtramos contenidos ya vistos y quedarse con los primeros 10\n",
    "            recomms = [x for x in scores if x not in watched_contents]\n",
    "            recomms = [x for x in recomms if x not in not_available_content]\n",
    "\n",
    "            # Guardamos las recomendaciones en el diccionario\n",
    "            recomms_dict['user_id'].append(user)\n",
    "            recomms_dict['recomms'].append(recomms[0:20])\n",
    "            recomms_dict['cold'].append(False)\n",
    "\n",
    "        # En este else trataremos a los usuarios que no están en la matriz (cold start)\n",
    "        else:\n",
    "            recomms_dict['user_id'].append(user)\n",
    "            # Les recomendamos contenido popular\n",
    "            # recomms_dict['recomms'].append(popularity_df.content_id.to_list())\n",
    "            recomms_dict['recomms'].append(most_popular)\n",
    "            recomms_dict['cold'].append(True)\n",
    "    return recomms_dict"
   ]
  },
  {
   "cell_type": "markdown",
   "metadata": {},
   "source": [
    "<b>no_components de 10 a 200</b>"
   ]
  },
  {
   "cell_type": "code",
   "execution_count": 79,
   "metadata": {
    "scrolled": true
   },
   "outputs": [
    {
     "name": "stderr",
     "output_type": "stream",
     "text": [
      "100%|███████████████████████████████████████████████████████████████████████████| 87623/87623 [03:06<00:00, 469.69it/s]\n",
      "100%|███████████████████████████████████████████████████████████████████████████| 87623/87623 [03:18<00:00, 441.09it/s]\n",
      "100%|███████████████████████████████████████████████████████████████████████████| 87623/87623 [03:18<00:00, 442.39it/s]\n",
      "100%|███████████████████████████████████████████████████████████████████████████| 87623/87623 [03:27<00:00, 421.71it/s]\n",
      "100%|███████████████████████████████████████████████████████████████████████████| 87623/87623 [03:20<00:00, 437.12it/s]\n",
      "100%|███████████████████████████████████████████████████████████████████████████| 87623/87623 [03:38<00:00, 400.91it/s]\n",
      "100%|███████████████████████████████████████████████████████████████████████████| 87623/87623 [03:43<00:00, 392.85it/s]\n",
      "100%|███████████████████████████████████████████████████████████████████████████| 87623/87623 [03:50<00:00, 380.61it/s]\n",
      "100%|███████████████████████████████████████████████████████████████████████████| 87623/87623 [03:54<00:00, 373.83it/s]\n",
      "100%|███████████████████████████████████████████████████████████████████████████| 87623/87623 [04:02<00:00, 360.61it/s]\n",
      "100%|███████████████████████████████████████████████████████████████████████████| 87623/87623 [04:19<00:00, 337.34it/s]\n",
      "100%|███████████████████████████████████████████████████████████████████████████| 87623/87623 [04:13<00:00, 345.22it/s]\n",
      "100%|███████████████████████████████████████████████████████████████████████████| 87623/87623 [04:19<00:00, 337.08it/s]\n",
      "100%|███████████████████████████████████████████████████████████████████████████| 87623/87623 [04:05<00:00, 357.53it/s]\n",
      "100%|███████████████████████████████████████████████████████████████████████████| 87623/87623 [04:30<00:00, 324.41it/s]\n",
      "100%|███████████████████████████████████████████████████████████████████████████| 87623/87623 [04:38<00:00, 314.35it/s]\n",
      "100%|███████████████████████████████████████████████████████████████████████████| 87623/87623 [04:16<00:00, 341.48it/s]\n",
      "100%|███████████████████████████████████████████████████████████████████████████| 87623/87623 [04:22<00:00, 334.29it/s]\n",
      "100%|███████████████████████████████████████████████████████████████████████████| 87623/87623 [04:27<00:00, 327.64it/s]\n",
      "100%|███████████████████████████████████████████████████████████████████████████| 87623/87623 [04:33<00:00, 320.76it/s]\n"
     ]
    }
   ],
   "source": [
    "# Definimos hiperparametros del modelo\n",
    "random_state = 0\n",
    "learning_rate = 0.03\n",
    "components = [x for x in range(10, 201, 10)]\n",
    "epochs = 10\n",
    "\n",
    "MAP_dict = {}\n",
    "\n",
    "for component in components:\n",
    "\n",
    "    model = LightFM(loss='warp', random_state=random_state, learning_rate=learning_rate, no_components=component)\n",
    "                       \n",
    "    model = model.fit(interactions_matrix_csr_5, epochs=epochs)\n",
    "\n",
    "    recomendations_dic = recomm_lightfm(model, interactions_matrix_5, interactions_matrix_csr_5, not_available_content, most_popular)\n",
    "\n",
    "    recomendations_df = pd.DataFrame(recomendations_dic)\n",
    "    \n",
    "    MAP = calcular_MAP(ideal_recomms, recomendations_df)\n",
    "    \n",
    "    MAP_dict[component] = MAP\n",
    "\n",
    "df_MAP = pd.DataFrame(MAP_dict.items(), columns=['Componente', 'MAP'])"
   ]
  },
  {
   "cell_type": "code",
   "execution_count": null,
   "metadata": {},
   "outputs": [],
   "source": [
    "df_MAP.head()"
   ]
  },
  {
   "cell_type": "code",
   "execution_count": 94,
   "metadata": {},
   "outputs": [
    {
     "data": {
      "text/plain": [
       "<Figure size 640x480 with 0 Axes>"
      ]
     },
     "metadata": {},
     "output_type": "display_data"
    },
    {
     "data": {
      "image/png": "[encoded data removed]",
      "text/plain": [
       "<Figure size 1500x500 with 1 Axes>"
      ]
     },
     "metadata": {},
     "output_type": "display_data"
    }
   ],
   "source": [
    "plt.clf()\n",
    "plt.figure(figsize=(15,5))\n",
    "sns.lineplot(data=df_MAP, x='Componente', y='MAP', marker=\"o\")\n",
    "plt.title('Métrica MAP en función de hiperparámetro no_component', fontdict={'fontsize': 14,'fontweight':'bold', 'style':'italic'})\n",
    "#plt.xticks([x for x in range(df_MAP['Componente'].min(), df_MAP['Componente'].max() +1,1)], rotation=90)\n",
    "plt.xticks([x for x in range(10, 201, 10)])\n",
    "plt.xlabel('no_components')\n",
    "plt.grid(0.6)\n",
    "plt.show()"
   ]
  },
  {
   "cell_type": "markdown",
   "metadata": {},
   "source": [
    "<b>no_components de 200 a 400</b>"
   ]
  },
  {
   "cell_type": "code",
   "execution_count": 130,
   "metadata": {},
   "outputs": [
    {
     "name": "stderr",
     "output_type": "stream",
     "text": [
      "100%|██████████| 87623/87623 [03:13<00:00, 452.69it/s] \n",
      "100%|██████████| 87623/87623 [03:14<00:00, 449.50it/s] \n",
      "100%|██████████| 87623/87623 [03:12<00:00, 454.40it/s] \n",
      "100%|██████████| 87623/87623 [03:11<00:00, 458.12it/s] \n",
      "100%|██████████| 87623/87623 [03:12<00:00, 455.67it/s] \n",
      "100%|██████████| 87623/87623 [03:10<00:00, 461.04it/s] \n",
      "100%|██████████| 87623/87623 [03:22<00:00, 433.73it/s] \n",
      "100%|██████████| 87623/87623 [03:24<00:00, 428.14it/s] \n",
      "100%|██████████| 87623/87623 [03:07<00:00, 467.84it/s] \n",
      "100%|██████████| 87623/87623 [03:26<00:00, 424.83it/s] \n",
      "100%|██████████| 87623/87623 [03:22<00:00, 433.26it/s] \n",
      "100%|██████████| 87623/87623 [03:15<00:00, 447.44it/s] \n",
      "100%|██████████| 87623/87623 [03:33<00:00, 410.43it/s] \n",
      "100%|██████████| 87623/87623 [03:29<00:00, 418.43it/s] \n",
      "100%|██████████| 87623/87623 [03:30<00:00, 415.54it/s] \n",
      "100%|██████████| 87623/87623 [03:38<00:00, 401.39it/s] \n",
      "100%|██████████| 87623/87623 [03:19<00:00, 439.81it/s] \n",
      "100%|██████████| 87623/87623 [03:23<00:00, 429.97it/s] \n",
      "100%|██████████| 87623/87623 [03:28<00:00, 419.40it/s] \n",
      "100%|██████████| 87623/87623 [03:28<00:00, 420.05it/s] \n",
      "/usr/local/lib/python3.6/site-packages/ipykernel_launcher.py:13: RuntimeWarning: invalid value encountered in double_scalars\n",
      "  del sys.path[0]\n",
      "100%|██████████| 87623/87623 [03:24<00:00, 429.13it/s] \n"
     ]
    }
   ],
   "source": [
    "# Definimos hiperparametros del modelo\n",
    "random_state = 0\n",
    "learning_rate = 0.03\n",
    "components = [x for x in range(200, 401, 10)]\n",
    "epochs = 10\n",
    "\n",
    "MAP_dict = {}\n",
    "\n",
    "for component in components:\n",
    "\n",
    "    model = LightFM(loss='warp', random_state=random_state, learning_rate=learning_rate, no_components=component)\n",
    "                       \n",
    "    model = model.fit(interactions_matrix_csr_5, epochs=epochs)\n",
    "\n",
    "    recomendations_dic = recomm_lightfm(model, interactions_matrix_5, interactions_matrix_csr_5, not_available_content, most_popular)\n",
    "\n",
    "    recomendations_df = pd.DataFrame(recomendations_dic)\n",
    "    \n",
    "    MAP = calcular_MAP(ideal_recomms, recomendations_df)\n",
    "    \n",
    "    MAP_dict[component] = MAP\n",
    "\n",
    "df_MAP = pd.DataFrame(MAP_dict.items(), columns=['Componente', 'MAP'])"
   ]
  },
  {
   "cell_type": "code",
   "execution_count": 131,
   "metadata": {},
   "outputs": [
    {
     "data": {
      "text/plain": [
       "<Figure size 432x288 with 0 Axes>"
      ]
     },
     "metadata": {},
     "output_type": "display_data"
    },
    {
     "data": {
      "image/png": "[encoded data removed]",
      "text/plain": [
       "<Figure size 1080x360 with 1 Axes>"
      ]
     },
     "metadata": {
      "needs_background": "light"
     },
     "output_type": "display_data"
    }
   ],
   "source": [
    "plt.clf()\n",
    "plt.figure(figsize=(15,5))\n",
    "sns.lineplot(data=df_MAP, x='Componente', y='MAP', marker=\"o\")\n",
    "plt.title('Métrica MAP en función de hiperparámetro no_component', fontdict={'fontsize': 14,'fontweight':'bold', 'style':'italic'})\n",
    "#plt.xticks([x for x in range(df_MAP['Componente'].min(), df_MAP['Componente'].max() +1,1)], rotation=90)\n",
    "plt.xticks([x for x in range(200, 401, 10)])\n",
    "plt.xlabel('no_components')\n",
    "plt.grid(0.6)\n",
    "plt.show()"
   ]
  },
  {
   "cell_type": "markdown",
   "metadata": {},
   "source": [
    "# Conclusiones"
   ]
  },
  {
   "cell_type": "markdown",
   "metadata": {},
   "source": [
    "<b>Análisis exploratorio de datos:</b>\n",
    "- Se analizó un dataset de reproducciones de videos con 3657801 filas y 7 columnas, junto con otro dataset con información de videos que posee 33144 filas y 30 columnas.\n",
    "- Ambos datasets contenían nulos y registros duplicados, los cuales fueron eliminados.\n",
    "- Las visualizaciones van desde el 01-01-2021 al 31-03-2021, siendo Marzo el mes con más visualizaciones y Enero el de menos.\n",
    "- Hay un total de 112332 clientes y 113873 cuentas diferentes.\n",
    "- La cantidad máxima de cuentas por cliente es de 3, pero más del 50% de los mismos tiene 1 sola cuenta.\n",
    "- Hay 4061 contenidos diferentes.\n",
    "- El número máximo de assets por contenido es de 205.\n",
    "- La mayor parte de las reproducciones son desde el decodificador de flow (STB).\n",
    "- La mayor parte de los videos son de origen estadounidense, seguidos por contenidos argentinos.\n",
    "- Las series conforman la mayor parte del dataset, seguido por TV y películas.\n",
    "- La duración máxima de un asset es de 305 minutos.\n",
    "- La cantidad media de categorías distintas vistas por cuenta es de 5 y la mediana de 4.\n",
    "\n",
    "<b>Sistema de Recomendación</b>\n",
    "- Se presentaron 5 enfoques diferentes para calcular el rating de los contenidos.\n",
    "- Por cada uno de estos enfoques se creó un modelo de recomendación con lightfm, los cuales fueron entrenados con datos anteriores al 01-03-2021 y testeados con datos posteriores a esa fecha.\n",
    "- Se descartaron al momento de recomendar aquellos videos que caducan antes del 01-04-2021. \n",
    "- Para el cold start, se tomaron los 20 videos más populares.\n",
    "- El modelo de recomendación construido con la opción 5, el cual consideraba si el usuario vió más de 30% del asset y si volvió a reproducir el contenido [resume] fue el que mejor métrica MAP (Mean Average Precision) obtuvo: 0.01413.\n",
    "- A partir del modelo con mejor métrica se realizó una modificación de sus hiperparámetros, en específico el no_components, desde 10 a 400. Se obtuvo un gráfico de métrica MAP en función de no_component, y se observó que con un no_components=200 se lograba el mayor MAP, con un valor cercano a 0.015.\n"
   ]
  }
 ],
 "metadata": {
  "colab": {
   "provenance": []
  },
  "kernelspec": {
   "display_name": "Python 3",
   "language": "python",
   "name": "python3"
  },
  "language_info": {
   "codemirror_mode": {
    "name": "ipython",
    "version": 3
   },
   "file_extension": ".py",
   "mimetype": "text/x-python",
   "name": "python",
   "nbconvert_exporter": "python",
   "pygments_lexer": "ipython3",
   "version": "3.6.11"
  },
  "vscode": {
   "interpreter": {
    "hash": "892d461b55a6ce994a56bafd67ae2f3489d9f23234c096cfb51dfe498c166e4b"
   }
  }
 },
 "nbformat": 4,
 "nbformat_minor": 4
}
