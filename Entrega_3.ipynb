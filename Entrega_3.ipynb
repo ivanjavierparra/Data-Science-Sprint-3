{
  "cells": [
    {
      "cell_type": "markdown",
      "metadata": {
        "id": "DYKTxvoMT5KO"
      },
      "source": [
        "# 3er entrega - Sistemas de recomendación\n",
        "\n",
        "En esta entrega vamos a trabajar con un sistema de recomendación.\n",
        "\n",
        "Vamos a aprovechar la competencia de Telecom que vimos ya que los datos son reales y están buenos para practicar.\n",
        "\n",
        "En el siguiente repositorio pueden encontrar el significado de cada columna de los datasets:\n",
        "https://github.com/Datathon2021/Recomendador\n",
        "\n",
        "Consigna:\n",
        "\n",
        "- Dividir set en train y test. Tomar como train los datos hasta el 1 de marzo de 2021. Desde el 1ro de marzo en adelante, reservar para test.\n",
        "- Desarrollar un recomendador. El recomendador debe ser capaz de generar recomendaciones para TODOS los usuarios (incluyendo los cold start que no tengan visualizaciones en el set de train). Generar 20 recomendaciones por usuario.\n",
        "- Las recomendaciones tienen que ser para cada account_id y hay que recomendar content_id (NO asset_id). Pueden encontrar esto en el repositorio de la competencia.\n",
        "- Los contenidos que recomienden, no tienen que haber sido vistos previamente por los usuarios (filtrar).\n",
        "- Evaluarlo con MAP.\n",
        "\n",
        "Recomendaciones:\n",
        "- En este caso no tenemos ratings explícitos como los casos que vimos, deben generar ustedes estos ratings mediante algún criterio. Lo más simple podría ser utilizar ratings binarios (lo vió / no lo vió).\n",
        "- Hay una columna que nos indica hasta cuando va a estar disponible el contenido\n",
        "- La columna **end_vod_date**: \"fecha de finalización de la disponibilidad del activo en la plataforma\" puede llegar a serles muy útil. ¿Tiene sentido recomendar algo que no va a estar disponible en el set de test? (a partir del 1 de marzo de 2021).\n",
        "- Comiencen con algo SIMPLE. No se compliquen con todas las columnas que tiene el dataset. No van a necesitar usar todas, muchas columnas podrán descartarlas dependiendo del enfoque que tomen.\n",
        "\n",
        "Datos:\n",
        "- https://drive.google.com/file/d/1QjbqJvU0PTClEhReOyzr96BS-HpyyUKT/view?usp=sharing\n",
        "- https://drive.google.com/file/d/1ih6SZc44w8FXdFKQJ2l-aqEWFpfceGuN/view?usp=sharing\n",
        "\n",
        "Fecha de entrega: **30 de Enero de 2023**.\n",
        "\n",
        "Subir a un repositorio de github (público) y enviar el link a alexispacek@gmail.com. De paso les sirve para ir armando su perfil de github con algunos proyectos 😉.\n",
        "\n"
      ]
    },
    {
      "cell_type": "markdown",
      "source": [
        "# Nueva sección"
      ],
      "metadata": {
        "id": "zhwGN84Xnt57"
      }
    },
    {
      "cell_type": "code",
      "source": [
        "from google.colab import drive\n",
        "drive.mount('/content/drive')"
      ],
      "metadata": {
        "colab": {
          "base_uri": "https://localhost:8080/"
        },
        "id": "XIYjmxZumyrZ",
        "outputId": "9ff60801-44d7-418c-82ae-157012585bc4"
      },
      "execution_count": 44,
      "outputs": [
        {
          "output_type": "stream",
          "name": "stdout",
          "text": [
            "Drive already mounted at /content/drive; to attempt to forcibly remount, call drive.mount(\"/content/drive\", force_remount=True).\n"
          ]
        }
      ]
    },
    {
      "cell_type": "code",
      "source": [
        "# Los de siempre\n",
        "import pandas as pd\n",
        "import numpy as np\n",
        "import seaborn as sns\n",
        "import matplotlib.pyplot as plt\n",
        "\n",
        "# datetime\n",
        "from datetime import datetime\n",
        "\n",
        "# matrices\n",
        "from scipy.sparse import csr_matrix\n",
        "\n",
        "# models\n",
        "from lightfm import LightFM\n",
        "# from sklearn.model_selection import train_test_split, StratifiedKFold, GridSearchCV, RandomizedSearchCV\n",
        "# from sklearn.pipeline import Pipeline\n",
        "# from sklearn.svm import SVC\n",
        "\n",
        "# # classifiers\n",
        "# from sklearn.ensemble import RandomForestClassifier\n",
        "\n",
        "# # metrics\n",
        "# from sklearn.metrics import accuracy_score, plot_confusion_matrix\n",
        "# from sklearn.metrics import  classification_report, confusion_matrix, ConfusionMatrixDisplay"
      ],
      "metadata": {
        "id": "S4QRRCIKjItc"
      },
      "execution_count": 94,
      "outputs": []
    },
    {
      "cell_type": "code",
      "source": [
        "pd.options.display.max_colwidth = 10000"
      ],
      "metadata": {
        "id": "WaVlMUhxjt19"
      },
      "execution_count": null,
      "outputs": []
    },
    {
      "cell_type": "code",
      "source": [
        "df_train = pd.read_csv('/content/drive/MyDrive/Cursos/Especializacion en Data Science/Sprint 3/train.csv', delimiter=',')\n",
        "df_train.head()"
      ],
      "metadata": {
        "colab": {
          "base_uri": "https://localhost:8080/",
          "height": 206
        },
        "id": "hDmzt8CIpn9x",
        "outputId": "38cc8576-46a0-4fac-f2c8-d283822c0b31"
      },
      "execution_count": 47,
      "outputs": [
        {
          "output_type": "execute_result",
          "data": {
            "text/plain": [
              "   customer_id  account_id device_type  asset_id                 tunein  \\\n",
              "0            0       90627  STATIONARY   18332.0  2021-02-18 22:52:00.0   \n",
              "1            0       90627  STATIONARY   24727.0  2021-03-24 23:17:00.0   \n",
              "2            1        3387         STB     895.0  2021-03-15 10:05:00.0   \n",
              "3            1        3387         STB     895.0  2021-03-15 10:23:00.0   \n",
              "4            1        3387         STB   26062.0  2021-03-16 09:24:00.0   \n",
              "\n",
              "                 tuneout  resume  \n",
              "0  2021-02-18 23:35:00.0       0  \n",
              "1  2021-03-25 00:01:00.0       0  \n",
              "2  2021-03-15 10:23:00.0       0  \n",
              "3  2021-03-15 11:18:00.0       1  \n",
              "4  2021-03-16 09:44:00.0       0  "
            ],
            "text/html": [
              "\n",
              "  <div id=\"df-34eea28c-7316-4875-8954-74a51b61c508\">\n",
              "    <div class=\"colab-df-container\">\n",
              "      <div>\n",
              "<style scoped>\n",
              "    .dataframe tbody tr th:only-of-type {\n",
              "        vertical-align: middle;\n",
              "    }\n",
              "\n",
              "    .dataframe tbody tr th {\n",
              "        vertical-align: top;\n",
              "    }\n",
              "\n",
              "    .dataframe thead th {\n",
              "        text-align: right;\n",
              "    }\n",
              "</style>\n",
              "<table border=\"1\" class=\"dataframe\">\n",
              "  <thead>\n",
              "    <tr style=\"text-align: right;\">\n",
              "      <th></th>\n",
              "      <th>customer_id</th>\n",
              "      <th>account_id</th>\n",
              "      <th>device_type</th>\n",
              "      <th>asset_id</th>\n",
              "      <th>tunein</th>\n",
              "      <th>tuneout</th>\n",
              "      <th>resume</th>\n",
              "    </tr>\n",
              "  </thead>\n",
              "  <tbody>\n",
              "    <tr>\n",
              "      <th>0</th>\n",
              "      <td>0</td>\n",
              "      <td>90627</td>\n",
              "      <td>STATIONARY</td>\n",
              "      <td>18332.0</td>\n",
              "      <td>2021-02-18 22:52:00.0</td>\n",
              "      <td>2021-02-18 23:35:00.0</td>\n",
              "      <td>0</td>\n",
              "    </tr>\n",
              "    <tr>\n",
              "      <th>1</th>\n",
              "      <td>0</td>\n",
              "      <td>90627</td>\n",
              "      <td>STATIONARY</td>\n",
              "      <td>24727.0</td>\n",
              "      <td>2021-03-24 23:17:00.0</td>\n",
              "      <td>2021-03-25 00:01:00.0</td>\n",
              "      <td>0</td>\n",
              "    </tr>\n",
              "    <tr>\n",
              "      <th>2</th>\n",
              "      <td>1</td>\n",
              "      <td>3387</td>\n",
              "      <td>STB</td>\n",
              "      <td>895.0</td>\n",
              "      <td>2021-03-15 10:05:00.0</td>\n",
              "      <td>2021-03-15 10:23:00.0</td>\n",
              "      <td>0</td>\n",
              "    </tr>\n",
              "    <tr>\n",
              "      <th>3</th>\n",
              "      <td>1</td>\n",
              "      <td>3387</td>\n",
              "      <td>STB</td>\n",
              "      <td>895.0</td>\n",
              "      <td>2021-03-15 10:23:00.0</td>\n",
              "      <td>2021-03-15 11:18:00.0</td>\n",
              "      <td>1</td>\n",
              "    </tr>\n",
              "    <tr>\n",
              "      <th>4</th>\n",
              "      <td>1</td>\n",
              "      <td>3387</td>\n",
              "      <td>STB</td>\n",
              "      <td>26062.0</td>\n",
              "      <td>2021-03-16 09:24:00.0</td>\n",
              "      <td>2021-03-16 09:44:00.0</td>\n",
              "      <td>0</td>\n",
              "    </tr>\n",
              "  </tbody>\n",
              "</table>\n",
              "</div>\n",
              "      <button class=\"colab-df-convert\" onclick=\"convertToInteractive('df-34eea28c-7316-4875-8954-74a51b61c508')\"\n",
              "              title=\"Convert this dataframe to an interactive table.\"\n",
              "              style=\"display:none;\">\n",
              "        \n",
              "  <svg xmlns=\"http://www.w3.org/2000/svg\" height=\"24px\"viewBox=\"0 0 24 24\"\n",
              "       width=\"24px\">\n",
              "    <path d=\"M0 0h24v24H0V0z\" fill=\"none\"/>\n",
              "    <path d=\"M18.56 5.44l.94 2.06.94-2.06 2.06-.94-2.06-.94-.94-2.06-.94 2.06-2.06.94zm-11 1L8.5 8.5l.94-2.06 2.06-.94-2.06-.94L8.5 2.5l-.94 2.06-2.06.94zm10 10l.94 2.06.94-2.06 2.06-.94-2.06-.94-.94-2.06-.94 2.06-2.06.94z\"/><path d=\"M17.41 7.96l-1.37-1.37c-.4-.4-.92-.59-1.43-.59-.52 0-1.04.2-1.43.59L10.3 9.45l-7.72 7.72c-.78.78-.78 2.05 0 2.83L4 21.41c.39.39.9.59 1.41.59.51 0 1.02-.2 1.41-.59l7.78-7.78 2.81-2.81c.8-.78.8-2.07 0-2.86zM5.41 20L4 18.59l7.72-7.72 1.47 1.35L5.41 20z\"/>\n",
              "  </svg>\n",
              "      </button>\n",
              "      \n",
              "  <style>\n",
              "    .colab-df-container {\n",
              "      display:flex;\n",
              "      flex-wrap:wrap;\n",
              "      gap: 12px;\n",
              "    }\n",
              "\n",
              "    .colab-df-convert {\n",
              "      background-color: #E8F0FE;\n",
              "      border: none;\n",
              "      border-radius: 50%;\n",
              "      cursor: pointer;\n",
              "      display: none;\n",
              "      fill: #1967D2;\n",
              "      height: 32px;\n",
              "      padding: 0 0 0 0;\n",
              "      width: 32px;\n",
              "    }\n",
              "\n",
              "    .colab-df-convert:hover {\n",
              "      background-color: #E2EBFA;\n",
              "      box-shadow: 0px 1px 2px rgba(60, 64, 67, 0.3), 0px 1px 3px 1px rgba(60, 64, 67, 0.15);\n",
              "      fill: #174EA6;\n",
              "    }\n",
              "\n",
              "    [theme=dark] .colab-df-convert {\n",
              "      background-color: #3B4455;\n",
              "      fill: #D2E3FC;\n",
              "    }\n",
              "\n",
              "    [theme=dark] .colab-df-convert:hover {\n",
              "      background-color: #434B5C;\n",
              "      box-shadow: 0px 1px 3px 1px rgba(0, 0, 0, 0.15);\n",
              "      filter: drop-shadow(0px 1px 2px rgba(0, 0, 0, 0.3));\n",
              "      fill: #FFFFFF;\n",
              "    }\n",
              "  </style>\n",
              "\n",
              "      <script>\n",
              "        const buttonEl =\n",
              "          document.querySelector('#df-34eea28c-7316-4875-8954-74a51b61c508 button.colab-df-convert');\n",
              "        buttonEl.style.display =\n",
              "          google.colab.kernel.accessAllowed ? 'block' : 'none';\n",
              "\n",
              "        async function convertToInteractive(key) {\n",
              "          const element = document.querySelector('#df-34eea28c-7316-4875-8954-74a51b61c508');\n",
              "          const dataTable =\n",
              "            await google.colab.kernel.invokeFunction('convertToInteractive',\n",
              "                                                     [key], {});\n",
              "          if (!dataTable) return;\n",
              "\n",
              "          const docLinkHtml = 'Like what you see? Visit the ' +\n",
              "            '<a target=\"_blank\" href=https://colab.research.google.com/notebooks/data_table.ipynb>data table notebook</a>'\n",
              "            + ' to learn more about interactive tables.';\n",
              "          element.innerHTML = '';\n",
              "          dataTable['output_type'] = 'display_data';\n",
              "          await google.colab.output.renderOutput(dataTable, element);\n",
              "          const docLink = document.createElement('div');\n",
              "          docLink.innerHTML = docLinkHtml;\n",
              "          element.appendChild(docLink);\n",
              "        }\n",
              "      </script>\n",
              "    </div>\n",
              "  </div>\n",
              "  "
            ]
          },
          "metadata": {},
          "execution_count": 47
        }
      ]
    },
    {
      "cell_type": "code",
      "source": [
        "df_metadatos = pd.read_csv('/content/drive/MyDrive/Cursos/Especializacion en Data Science/Sprint 3/metadata.csv', delimiter=';')\n",
        "df_metadatos.head()"
      ],
      "metadata": {
        "colab": {
          "base_uri": "https://localhost:8080/",
          "height": 438
        },
        "id": "zRqClYLDjy7r",
        "outputId": "f591e3be-80b8-46d5-a4ec-c2009427ef68"
      },
      "execution_count": 48,
      "outputs": [
        {
          "output_type": "execute_result",
          "data": {
            "text/plain": [
              "   asset_id  content_id                                  title  \\\n",
              "0     15188         0.0              Ep:17 Tiempos Compulsivos   \n",
              "1     24940         1.0                                7 Cajas   \n",
              "2     21939         2.0  La Maldición de las Hormigas Gigantes   \n",
              "3      9005         3.0                   Una Mujer Fantástica   \n",
              "4      7391         4.0                              Star Trek   \n",
              "\n",
              "         reduced_title episode_title show_type  released_year  \\\n",
              "0   Tiempos_Compul_E17   Episodio 17     Serie         2012.0   \n",
              "1              7_Cajas           NaN  Película         2012.0   \n",
              "2  La_Maldicion_de_las           NaN  Película         2016.0   \n",
              "3  Una_Mujer_Fantastic           NaN  Película         2017.0   \n",
              "4            Star_Trek           NaN  Película         2009.0   \n",
              "\n",
              "  country_of_origin                  category  \\\n",
              "0                AR                     Drama   \n",
              "1                PY           Suspenso/Acción   \n",
              "2                FI            Terror/Comedia   \n",
              "3                CL                     Drama   \n",
              "4                US  Ciencia Ficción/Aventura   \n",
              "\n",
              "                                            keywords  ... language_rating  \\\n",
              "0  Trastornos,Médicos,Tragicómica,Telenovela,Enfe...  ...               N   \n",
              "1             Latinoamérica,Pobreza,Crimen,Pandillas  ...               N   \n",
              "2  Criaturas,Plagas,Adolescentes,Fantasía,Video J...  ...               N   \n",
              "3                         LGBT,Mujeres,Latinoamérica  ...               N   \n",
              "4        Fantasía,Galaxia,Futurismo,Aliens,Criaturas  ...               N   \n",
              "\n",
              "  dialog_rating fv_rating pay_per_view  pack_premium_1 pack_premium_2  \\\n",
              "0             N         N            N               N              N   \n",
              "1             N         N            Y               N              N   \n",
              "2             N         N            N               N              N   \n",
              "3             N         N            N               Y              N   \n",
              "4             N         N            Y               N              N   \n",
              "\n",
              "              create_date             modify_date          start_vod_date  \\\n",
              "0  2017-12-01T10:18:15.0Z  2019-01-26T06:37:18.0Z  2017-12-01T00:00:00.0Z   \n",
              "1  2017-12-19T20:58:15.0Z  2019-09-17T19:02:03.0Z  2017-12-15T00:00:00.0Z   \n",
              "2  2018-02-16T13:51:07.0Z  2020-04-28T14:16:38.0Z  2018-01-25T00:00:00.0Z   \n",
              "3  2018-05-26T11:58:44.0Z  2019-11-15T03:00:23.0Z  2018-05-27T00:00:00.0Z   \n",
              "4  2019-05-03T20:07:24.0Z  2020-04-09T04:37:29.0Z  2019-05-02T00:00:00.0Z   \n",
              "\n",
              "             end_vod_date  \n",
              "0  2020-12-01T23:59:59.0Z  \n",
              "1  2022-12-14T23:59:59.0Z  \n",
              "2  2020-12-01T23:59:59.0Z  \n",
              "3  2021-04-30T23:59:59.0Z  \n",
              "4  2020-12-31T23:59:59.0Z  \n",
              "\n",
              "[5 rows x 30 columns]"
            ],
            "text/html": [
              "\n",
              "  <div id=\"df-367cbd58-1f2f-4b78-b72e-ebc3da25ae24\">\n",
              "    <div class=\"colab-df-container\">\n",
              "      <div>\n",
              "<style scoped>\n",
              "    .dataframe tbody tr th:only-of-type {\n",
              "        vertical-align: middle;\n",
              "    }\n",
              "\n",
              "    .dataframe tbody tr th {\n",
              "        vertical-align: top;\n",
              "    }\n",
              "\n",
              "    .dataframe thead th {\n",
              "        text-align: right;\n",
              "    }\n",
              "</style>\n",
              "<table border=\"1\" class=\"dataframe\">\n",
              "  <thead>\n",
              "    <tr style=\"text-align: right;\">\n",
              "      <th></th>\n",
              "      <th>asset_id</th>\n",
              "      <th>content_id</th>\n",
              "      <th>title</th>\n",
              "      <th>reduced_title</th>\n",
              "      <th>episode_title</th>\n",
              "      <th>show_type</th>\n",
              "      <th>released_year</th>\n",
              "      <th>country_of_origin</th>\n",
              "      <th>category</th>\n",
              "      <th>keywords</th>\n",
              "      <th>...</th>\n",
              "      <th>language_rating</th>\n",
              "      <th>dialog_rating</th>\n",
              "      <th>fv_rating</th>\n",
              "      <th>pay_per_view</th>\n",
              "      <th>pack_premium_1</th>\n",
              "      <th>pack_premium_2</th>\n",
              "      <th>create_date</th>\n",
              "      <th>modify_date</th>\n",
              "      <th>start_vod_date</th>\n",
              "      <th>end_vod_date</th>\n",
              "    </tr>\n",
              "  </thead>\n",
              "  <tbody>\n",
              "    <tr>\n",
              "      <th>0</th>\n",
              "      <td>15188</td>\n",
              "      <td>0.0</td>\n",
              "      <td>Ep:17 Tiempos Compulsivos</td>\n",
              "      <td>Tiempos_Compul_E17</td>\n",
              "      <td>Episodio 17</td>\n",
              "      <td>Serie</td>\n",
              "      <td>2012.0</td>\n",
              "      <td>AR</td>\n",
              "      <td>Drama</td>\n",
              "      <td>Trastornos,Médicos,Tragicómica,Telenovela,Enfe...</td>\n",
              "      <td>...</td>\n",
              "      <td>N</td>\n",
              "      <td>N</td>\n",
              "      <td>N</td>\n",
              "      <td>N</td>\n",
              "      <td>N</td>\n",
              "      <td>N</td>\n",
              "      <td>2017-12-01T10:18:15.0Z</td>\n",
              "      <td>2019-01-26T06:37:18.0Z</td>\n",
              "      <td>2017-12-01T00:00:00.0Z</td>\n",
              "      <td>2020-12-01T23:59:59.0Z</td>\n",
              "    </tr>\n",
              "    <tr>\n",
              "      <th>1</th>\n",
              "      <td>24940</td>\n",
              "      <td>1.0</td>\n",
              "      <td>7 Cajas</td>\n",
              "      <td>7_Cajas</td>\n",
              "      <td>NaN</td>\n",
              "      <td>Película</td>\n",
              "      <td>2012.0</td>\n",
              "      <td>PY</td>\n",
              "      <td>Suspenso/Acción</td>\n",
              "      <td>Latinoamérica,Pobreza,Crimen,Pandillas</td>\n",
              "      <td>...</td>\n",
              "      <td>N</td>\n",
              "      <td>N</td>\n",
              "      <td>N</td>\n",
              "      <td>Y</td>\n",
              "      <td>N</td>\n",
              "      <td>N</td>\n",
              "      <td>2017-12-19T20:58:15.0Z</td>\n",
              "      <td>2019-09-17T19:02:03.0Z</td>\n",
              "      <td>2017-12-15T00:00:00.0Z</td>\n",
              "      <td>2022-12-14T23:59:59.0Z</td>\n",
              "    </tr>\n",
              "    <tr>\n",
              "      <th>2</th>\n",
              "      <td>21939</td>\n",
              "      <td>2.0</td>\n",
              "      <td>La Maldición de las Hormigas Gigantes</td>\n",
              "      <td>La_Maldicion_de_las</td>\n",
              "      <td>NaN</td>\n",
              "      <td>Película</td>\n",
              "      <td>2016.0</td>\n",
              "      <td>FI</td>\n",
              "      <td>Terror/Comedia</td>\n",
              "      <td>Criaturas,Plagas,Adolescentes,Fantasía,Video J...</td>\n",
              "      <td>...</td>\n",
              "      <td>N</td>\n",
              "      <td>N</td>\n",
              "      <td>N</td>\n",
              "      <td>N</td>\n",
              "      <td>N</td>\n",
              "      <td>N</td>\n",
              "      <td>2018-02-16T13:51:07.0Z</td>\n",
              "      <td>2020-04-28T14:16:38.0Z</td>\n",
              "      <td>2018-01-25T00:00:00.0Z</td>\n",
              "      <td>2020-12-01T23:59:59.0Z</td>\n",
              "    </tr>\n",
              "    <tr>\n",
              "      <th>3</th>\n",
              "      <td>9005</td>\n",
              "      <td>3.0</td>\n",
              "      <td>Una Mujer Fantástica</td>\n",
              "      <td>Una_Mujer_Fantastic</td>\n",
              "      <td>NaN</td>\n",
              "      <td>Película</td>\n",
              "      <td>2017.0</td>\n",
              "      <td>CL</td>\n",
              "      <td>Drama</td>\n",
              "      <td>LGBT,Mujeres,Latinoamérica</td>\n",
              "      <td>...</td>\n",
              "      <td>N</td>\n",
              "      <td>N</td>\n",
              "      <td>N</td>\n",
              "      <td>N</td>\n",
              "      <td>Y</td>\n",
              "      <td>N</td>\n",
              "      <td>2018-05-26T11:58:44.0Z</td>\n",
              "      <td>2019-11-15T03:00:23.0Z</td>\n",
              "      <td>2018-05-27T00:00:00.0Z</td>\n",
              "      <td>2021-04-30T23:59:59.0Z</td>\n",
              "    </tr>\n",
              "    <tr>\n",
              "      <th>4</th>\n",
              "      <td>7391</td>\n",
              "      <td>4.0</td>\n",
              "      <td>Star Trek</td>\n",
              "      <td>Star_Trek</td>\n",
              "      <td>NaN</td>\n",
              "      <td>Película</td>\n",
              "      <td>2009.0</td>\n",
              "      <td>US</td>\n",
              "      <td>Ciencia Ficción/Aventura</td>\n",
              "      <td>Fantasía,Galaxia,Futurismo,Aliens,Criaturas</td>\n",
              "      <td>...</td>\n",
              "      <td>N</td>\n",
              "      <td>N</td>\n",
              "      <td>N</td>\n",
              "      <td>Y</td>\n",
              "      <td>N</td>\n",
              "      <td>N</td>\n",
              "      <td>2019-05-03T20:07:24.0Z</td>\n",
              "      <td>2020-04-09T04:37:29.0Z</td>\n",
              "      <td>2019-05-02T00:00:00.0Z</td>\n",
              "      <td>2020-12-31T23:59:59.0Z</td>\n",
              "    </tr>\n",
              "  </tbody>\n",
              "</table>\n",
              "<p>5 rows × 30 columns</p>\n",
              "</div>\n",
              "      <button class=\"colab-df-convert\" onclick=\"convertToInteractive('df-367cbd58-1f2f-4b78-b72e-ebc3da25ae24')\"\n",
              "              title=\"Convert this dataframe to an interactive table.\"\n",
              "              style=\"display:none;\">\n",
              "        \n",
              "  <svg xmlns=\"http://www.w3.org/2000/svg\" height=\"24px\"viewBox=\"0 0 24 24\"\n",
              "       width=\"24px\">\n",
              "    <path d=\"M0 0h24v24H0V0z\" fill=\"none\"/>\n",
              "    <path d=\"M18.56 5.44l.94 2.06.94-2.06 2.06-.94-2.06-.94-.94-2.06-.94 2.06-2.06.94zm-11 1L8.5 8.5l.94-2.06 2.06-.94-2.06-.94L8.5 2.5l-.94 2.06-2.06.94zm10 10l.94 2.06.94-2.06 2.06-.94-2.06-.94-.94-2.06-.94 2.06-2.06.94z\"/><path d=\"M17.41 7.96l-1.37-1.37c-.4-.4-.92-.59-1.43-.59-.52 0-1.04.2-1.43.59L10.3 9.45l-7.72 7.72c-.78.78-.78 2.05 0 2.83L4 21.41c.39.39.9.59 1.41.59.51 0 1.02-.2 1.41-.59l7.78-7.78 2.81-2.81c.8-.78.8-2.07 0-2.86zM5.41 20L4 18.59l7.72-7.72 1.47 1.35L5.41 20z\"/>\n",
              "  </svg>\n",
              "      </button>\n",
              "      \n",
              "  <style>\n",
              "    .colab-df-container {\n",
              "      display:flex;\n",
              "      flex-wrap:wrap;\n",
              "      gap: 12px;\n",
              "    }\n",
              "\n",
              "    .colab-df-convert {\n",
              "      background-color: #E8F0FE;\n",
              "      border: none;\n",
              "      border-radius: 50%;\n",
              "      cursor: pointer;\n",
              "      display: none;\n",
              "      fill: #1967D2;\n",
              "      height: 32px;\n",
              "      padding: 0 0 0 0;\n",
              "      width: 32px;\n",
              "    }\n",
              "\n",
              "    .colab-df-convert:hover {\n",
              "      background-color: #E2EBFA;\n",
              "      box-shadow: 0px 1px 2px rgba(60, 64, 67, 0.3), 0px 1px 3px 1px rgba(60, 64, 67, 0.15);\n",
              "      fill: #174EA6;\n",
              "    }\n",
              "\n",
              "    [theme=dark] .colab-df-convert {\n",
              "      background-color: #3B4455;\n",
              "      fill: #D2E3FC;\n",
              "    }\n",
              "\n",
              "    [theme=dark] .colab-df-convert:hover {\n",
              "      background-color: #434B5C;\n",
              "      box-shadow: 0px 1px 3px 1px rgba(0, 0, 0, 0.15);\n",
              "      filter: drop-shadow(0px 1px 2px rgba(0, 0, 0, 0.3));\n",
              "      fill: #FFFFFF;\n",
              "    }\n",
              "  </style>\n",
              "\n",
              "      <script>\n",
              "        const buttonEl =\n",
              "          document.querySelector('#df-367cbd58-1f2f-4b78-b72e-ebc3da25ae24 button.colab-df-convert');\n",
              "        buttonEl.style.display =\n",
              "          google.colab.kernel.accessAllowed ? 'block' : 'none';\n",
              "\n",
              "        async function convertToInteractive(key) {\n",
              "          const element = document.querySelector('#df-367cbd58-1f2f-4b78-b72e-ebc3da25ae24');\n",
              "          const dataTable =\n",
              "            await google.colab.kernel.invokeFunction('convertToInteractive',\n",
              "                                                     [key], {});\n",
              "          if (!dataTable) return;\n",
              "\n",
              "          const docLinkHtml = 'Like what you see? Visit the ' +\n",
              "            '<a target=\"_blank\" href=https://colab.research.google.com/notebooks/data_table.ipynb>data table notebook</a>'\n",
              "            + ' to learn more about interactive tables.';\n",
              "          element.innerHTML = '';\n",
              "          dataTable['output_type'] = 'display_data';\n",
              "          await google.colab.output.renderOutput(dataTable, element);\n",
              "          const docLink = document.createElement('div');\n",
              "          docLink.innerHTML = docLinkHtml;\n",
              "          element.appendChild(docLink);\n",
              "        }\n",
              "      </script>\n",
              "    </div>\n",
              "  </div>\n",
              "  "
            ]
          },
          "metadata": {},
          "execution_count": 48
        }
      ]
    },
    {
      "cell_type": "code",
      "source": [
        "df_train.shape"
      ],
      "metadata": {
        "colab": {
          "base_uri": "https://localhost:8080/"
        },
        "id": "ssLVGWi_3NtF",
        "outputId": "760e2d51-26b2-490c-de4f-f3c2e362f918"
      },
      "execution_count": 49,
      "outputs": [
        {
          "output_type": "execute_result",
          "data": {
            "text/plain": [
              "(3657801, 7)"
            ]
          },
          "metadata": {},
          "execution_count": 49
        }
      ]
    },
    {
      "cell_type": "code",
      "source": [
        "df_train.customer_id.nunique()"
      ],
      "metadata": {
        "colab": {
          "base_uri": "https://localhost:8080/"
        },
        "id": "pfsMzFx2nk4f",
        "outputId": "6f276a56-52d6-4af1-9602-f1451885cb02"
      },
      "execution_count": 50,
      "outputs": [
        {
          "output_type": "execute_result",
          "data": {
            "text/plain": [
              "112340"
            ]
          },
          "metadata": {},
          "execution_count": 50
        }
      ]
    },
    {
      "cell_type": "code",
      "source": [
        "df_train.info()"
      ],
      "metadata": {
        "colab": {
          "base_uri": "https://localhost:8080/"
        },
        "id": "7oxkLI8jMOGj",
        "outputId": "5fd8e915-4a0c-4e1e-cfdf-95d010d463a9"
      },
      "execution_count": 51,
      "outputs": [
        {
          "output_type": "stream",
          "name": "stdout",
          "text": [
            "<class 'pandas.core.frame.DataFrame'>\n",
            "RangeIndex: 3657801 entries, 0 to 3657800\n",
            "Data columns (total 7 columns):\n",
            " #   Column       Dtype  \n",
            "---  ------       -----  \n",
            " 0   customer_id  int64  \n",
            " 1   account_id   int64  \n",
            " 2   device_type  object \n",
            " 3   asset_id     float64\n",
            " 4   tunein       object \n",
            " 5   tuneout      object \n",
            " 6   resume       int64  \n",
            "dtypes: float64(1), int64(3), object(3)\n",
            "memory usage: 195.3+ MB\n"
          ]
        }
      ]
    },
    {
      "cell_type": "code",
      "source": [
        "df_metadatos.shape"
      ],
      "metadata": {
        "colab": {
          "base_uri": "https://localhost:8080/"
        },
        "id": "SwD48dzZ2zy_",
        "outputId": "bab4d3dd-3168-4bf4-b1c1-041a63d347bd"
      },
      "execution_count": null,
      "outputs": [
        {
          "output_type": "execute_result",
          "data": {
            "text/plain": [
              "(33144, 30)"
            ]
          },
          "metadata": {},
          "execution_count": 13
        }
      ]
    },
    {
      "cell_type": "code",
      "source": [
        "df_metadatos.asset_id.nunique()"
      ],
      "metadata": {
        "colab": {
          "base_uri": "https://localhost:8080/"
        },
        "id": "LFSkAjObnzuO",
        "outputId": "3d5b4f6d-4a2e-40b2-e450-f3d6cfbd58a9"
      },
      "execution_count": 53,
      "outputs": [
        {
          "output_type": "execute_result",
          "data": {
            "text/plain": [
              "33144"
            ]
          },
          "metadata": {},
          "execution_count": 53
        }
      ]
    },
    {
      "cell_type": "code",
      "source": [
        "df_metadatos.content_id.nunique()"
      ],
      "metadata": {
        "colab": {
          "base_uri": "https://localhost:8080/"
        },
        "id": "pEEzUuVPn3vy",
        "outputId": "254bb288-4916-4864-cde7-142cd2c4d6b5"
      },
      "execution_count": 54,
      "outputs": [
        {
          "output_type": "execute_result",
          "data": {
            "text/plain": [
              "4366"
            ]
          },
          "metadata": {},
          "execution_count": 54
        }
      ]
    },
    {
      "cell_type": "code",
      "source": [
        "df_metadatos.info()"
      ],
      "metadata": {
        "id": "tMb4ygBsn7HF"
      },
      "execution_count": null,
      "outputs": []
    },
    {
      "cell_type": "code",
      "source": [
        "df_train.isna().sum()"
      ],
      "metadata": {
        "colab": {
          "base_uri": "https://localhost:8080/"
        },
        "id": "TY7Qc77b3Z2i",
        "outputId": "04c85432-e92b-4af9-c150-a27d2d8e9426"
      },
      "execution_count": null,
      "outputs": [
        {
          "output_type": "execute_result",
          "data": {
            "text/plain": [
              "customer_id     0\n",
              "account_id      0\n",
              "device_type    29\n",
              "asset_id       22\n",
              "tunein          0\n",
              "tuneout         0\n",
              "resume          0\n",
              "dtype: int64"
            ]
          },
          "metadata": {},
          "execution_count": 15
        }
      ]
    },
    {
      "cell_type": "code",
      "source": [
        "df_metadatos.isna().sum()"
      ],
      "metadata": {
        "colab": {
          "base_uri": "https://localhost:8080/"
        },
        "id": "63QYY01E3emf",
        "outputId": "ae36a171-fbed-4a9a-98fc-ba0570d629a1"
      },
      "execution_count": null,
      "outputs": [
        {
          "output_type": "execute_result",
          "data": {
            "text/plain": [
              "asset_id                  0\n",
              "content_id               21\n",
              "title                     0\n",
              "reduced_title             0\n",
              "episode_title          4147\n",
              "show_type                 4\n",
              "released_year             0\n",
              "country_of_origin         4\n",
              "category                  0\n",
              "keywords                  2\n",
              "description               2\n",
              "reduced_desc              0\n",
              "cast_first_name        8732\n",
              "credits_first_name    12554\n",
              "run_time_min              0\n",
              "audience                  1\n",
              "made_for_tv               0\n",
              "close_caption             0\n",
              "sex_rating                0\n",
              "violence_rating           0\n",
              "language_rating           0\n",
              "dialog_rating             0\n",
              "fv_rating                 0\n",
              "pay_per_view              0\n",
              "pack_premium_1            0\n",
              "pack_premium_2            0\n",
              "create_date               0\n",
              "modify_date               0\n",
              "start_vod_date            0\n",
              "end_vod_date              0\n",
              "dtype: int64"
            ]
          },
          "metadata": {},
          "execution_count": 16
        }
      ]
    },
    {
      "cell_type": "markdown",
      "source": [
        "Convertimos 'tunein' a YYYYmmDD, ya que lo utilizaremos para hacer el split para train y test"
      ],
      "metadata": {
        "id": "1SP7ajmUN7C6"
      }
    },
    {
      "cell_type": "code",
      "source": [
        "df_train['timestamp'] = pd.to_datetime(df_train['tunein'], format='%Y/%m/%d')\n",
        "df_train['timestamp'] = df_train['timestamp'].dt.strftime('%Y/%m/%d')\n",
        "df_train['timestamp'] = pd.to_datetime(df_train['timestamp'], format='%Y/%m/%d')\n",
        "df_train.head()"
      ],
      "metadata": {
        "colab": {
          "base_uri": "https://localhost:8080/",
          "height": 206
        },
        "id": "rbHhgvbYpUbQ",
        "outputId": "073fc2f2-5fbb-4497-defc-a872bc5ab053"
      },
      "execution_count": 68,
      "outputs": [
        {
          "output_type": "execute_result",
          "data": {
            "text/plain": [
              "   customer_id  account_id  asset_id                 tunein  \\\n",
              "0            0       90627   18332.0  2021-02-18 22:52:00.0   \n",
              "1            0       90627   24727.0  2021-03-24 23:17:00.0   \n",
              "2            1        3387     895.0  2021-03-15 10:05:00.0   \n",
              "3            1        3387     895.0  2021-03-15 10:23:00.0   \n",
              "4            1        3387   26062.0  2021-03-16 09:24:00.0   \n",
              "\n",
              "                 tuneout  timestamp  minutos  \n",
              "0  2021-02-18 23:35:00.0 2021-02-18     43.0  \n",
              "1  2021-03-25 00:01:00.0 2021-03-24     44.0  \n",
              "2  2021-03-15 10:23:00.0 2021-03-15     18.0  \n",
              "3  2021-03-15 11:18:00.0 2021-03-15     55.0  \n",
              "4  2021-03-16 09:44:00.0 2021-03-16     20.0  "
            ],
            "text/html": [
              "\n",
              "  <div id=\"df-5b1e9eb2-25f5-41e1-b362-c7f68b822f69\">\n",
              "    <div class=\"colab-df-container\">\n",
              "      <div>\n",
              "<style scoped>\n",
              "    .dataframe tbody tr th:only-of-type {\n",
              "        vertical-align: middle;\n",
              "    }\n",
              "\n",
              "    .dataframe tbody tr th {\n",
              "        vertical-align: top;\n",
              "    }\n",
              "\n",
              "    .dataframe thead th {\n",
              "        text-align: right;\n",
              "    }\n",
              "</style>\n",
              "<table border=\"1\" class=\"dataframe\">\n",
              "  <thead>\n",
              "    <tr style=\"text-align: right;\">\n",
              "      <th></th>\n",
              "      <th>customer_id</th>\n",
              "      <th>account_id</th>\n",
              "      <th>asset_id</th>\n",
              "      <th>tunein</th>\n",
              "      <th>tuneout</th>\n",
              "      <th>timestamp</th>\n",
              "      <th>minutos</th>\n",
              "    </tr>\n",
              "  </thead>\n",
              "  <tbody>\n",
              "    <tr>\n",
              "      <th>0</th>\n",
              "      <td>0</td>\n",
              "      <td>90627</td>\n",
              "      <td>18332.0</td>\n",
              "      <td>2021-02-18 22:52:00.0</td>\n",
              "      <td>2021-02-18 23:35:00.0</td>\n",
              "      <td>2021-02-18</td>\n",
              "      <td>43.0</td>\n",
              "    </tr>\n",
              "    <tr>\n",
              "      <th>1</th>\n",
              "      <td>0</td>\n",
              "      <td>90627</td>\n",
              "      <td>24727.0</td>\n",
              "      <td>2021-03-24 23:17:00.0</td>\n",
              "      <td>2021-03-25 00:01:00.0</td>\n",
              "      <td>2021-03-24</td>\n",
              "      <td>44.0</td>\n",
              "    </tr>\n",
              "    <tr>\n",
              "      <th>2</th>\n",
              "      <td>1</td>\n",
              "      <td>3387</td>\n",
              "      <td>895.0</td>\n",
              "      <td>2021-03-15 10:05:00.0</td>\n",
              "      <td>2021-03-15 10:23:00.0</td>\n",
              "      <td>2021-03-15</td>\n",
              "      <td>18.0</td>\n",
              "    </tr>\n",
              "    <tr>\n",
              "      <th>3</th>\n",
              "      <td>1</td>\n",
              "      <td>3387</td>\n",
              "      <td>895.0</td>\n",
              "      <td>2021-03-15 10:23:00.0</td>\n",
              "      <td>2021-03-15 11:18:00.0</td>\n",
              "      <td>2021-03-15</td>\n",
              "      <td>55.0</td>\n",
              "    </tr>\n",
              "    <tr>\n",
              "      <th>4</th>\n",
              "      <td>1</td>\n",
              "      <td>3387</td>\n",
              "      <td>26062.0</td>\n",
              "      <td>2021-03-16 09:24:00.0</td>\n",
              "      <td>2021-03-16 09:44:00.0</td>\n",
              "      <td>2021-03-16</td>\n",
              "      <td>20.0</td>\n",
              "    </tr>\n",
              "  </tbody>\n",
              "</table>\n",
              "</div>\n",
              "      <button class=\"colab-df-convert\" onclick=\"convertToInteractive('df-5b1e9eb2-25f5-41e1-b362-c7f68b822f69')\"\n",
              "              title=\"Convert this dataframe to an interactive table.\"\n",
              "              style=\"display:none;\">\n",
              "        \n",
              "  <svg xmlns=\"http://www.w3.org/2000/svg\" height=\"24px\"viewBox=\"0 0 24 24\"\n",
              "       width=\"24px\">\n",
              "    <path d=\"M0 0h24v24H0V0z\" fill=\"none\"/>\n",
              "    <path d=\"M18.56 5.44l.94 2.06.94-2.06 2.06-.94-2.06-.94-.94-2.06-.94 2.06-2.06.94zm-11 1L8.5 8.5l.94-2.06 2.06-.94-2.06-.94L8.5 2.5l-.94 2.06-2.06.94zm10 10l.94 2.06.94-2.06 2.06-.94-2.06-.94-.94-2.06-.94 2.06-2.06.94z\"/><path d=\"M17.41 7.96l-1.37-1.37c-.4-.4-.92-.59-1.43-.59-.52 0-1.04.2-1.43.59L10.3 9.45l-7.72 7.72c-.78.78-.78 2.05 0 2.83L4 21.41c.39.39.9.59 1.41.59.51 0 1.02-.2 1.41-.59l7.78-7.78 2.81-2.81c.8-.78.8-2.07 0-2.86zM5.41 20L4 18.59l7.72-7.72 1.47 1.35L5.41 20z\"/>\n",
              "  </svg>\n",
              "      </button>\n",
              "      \n",
              "  <style>\n",
              "    .colab-df-container {\n",
              "      display:flex;\n",
              "      flex-wrap:wrap;\n",
              "      gap: 12px;\n",
              "    }\n",
              "\n",
              "    .colab-df-convert {\n",
              "      background-color: #E8F0FE;\n",
              "      border: none;\n",
              "      border-radius: 50%;\n",
              "      cursor: pointer;\n",
              "      display: none;\n",
              "      fill: #1967D2;\n",
              "      height: 32px;\n",
              "      padding: 0 0 0 0;\n",
              "      width: 32px;\n",
              "    }\n",
              "\n",
              "    .colab-df-convert:hover {\n",
              "      background-color: #E2EBFA;\n",
              "      box-shadow: 0px 1px 2px rgba(60, 64, 67, 0.3), 0px 1px 3px 1px rgba(60, 64, 67, 0.15);\n",
              "      fill: #174EA6;\n",
              "    }\n",
              "\n",
              "    [theme=dark] .colab-df-convert {\n",
              "      background-color: #3B4455;\n",
              "      fill: #D2E3FC;\n",
              "    }\n",
              "\n",
              "    [theme=dark] .colab-df-convert:hover {\n",
              "      background-color: #434B5C;\n",
              "      box-shadow: 0px 1px 3px 1px rgba(0, 0, 0, 0.15);\n",
              "      filter: drop-shadow(0px 1px 2px rgba(0, 0, 0, 0.3));\n",
              "      fill: #FFFFFF;\n",
              "    }\n",
              "  </style>\n",
              "\n",
              "      <script>\n",
              "        const buttonEl =\n",
              "          document.querySelector('#df-5b1e9eb2-25f5-41e1-b362-c7f68b822f69 button.colab-df-convert');\n",
              "        buttonEl.style.display =\n",
              "          google.colab.kernel.accessAllowed ? 'block' : 'none';\n",
              "\n",
              "        async function convertToInteractive(key) {\n",
              "          const element = document.querySelector('#df-5b1e9eb2-25f5-41e1-b362-c7f68b822f69');\n",
              "          const dataTable =\n",
              "            await google.colab.kernel.invokeFunction('convertToInteractive',\n",
              "                                                     [key], {});\n",
              "          if (!dataTable) return;\n",
              "\n",
              "          const docLinkHtml = 'Like what you see? Visit the ' +\n",
              "            '<a target=\"_blank\" href=https://colab.research.google.com/notebooks/data_table.ipynb>data table notebook</a>'\n",
              "            + ' to learn more about interactive tables.';\n",
              "          element.innerHTML = '';\n",
              "          dataTable['output_type'] = 'display_data';\n",
              "          await google.colab.output.renderOutput(dataTable, element);\n",
              "          const docLink = document.createElement('div');\n",
              "          docLink.innerHTML = docLinkHtml;\n",
              "          element.appendChild(docLink);\n",
              "        }\n",
              "      </script>\n",
              "    </div>\n",
              "  </div>\n",
              "  "
            ]
          },
          "metadata": {},
          "execution_count": 68
        }
      ]
    },
    {
      "cell_type": "markdown",
      "source": [
        "Fecha mínima y máxima del dataset"
      ],
      "metadata": {
        "id": "0Jud-pi9soK3"
      }
    },
    {
      "cell_type": "code",
      "source": [
        "df_train.timestamp.min()"
      ],
      "metadata": {
        "colab": {
          "base_uri": "https://localhost:8080/"
        },
        "id": "TvP0Yq8cssTe",
        "outputId": "51eabfc2-16c9-4290-d5c2-8e3b84bb55f6"
      },
      "execution_count": 70,
      "outputs": [
        {
          "output_type": "execute_result",
          "data": {
            "text/plain": [
              "Timestamp('2021-01-01 00:00:00')"
            ]
          },
          "metadata": {},
          "execution_count": 70
        }
      ]
    },
    {
      "cell_type": "code",
      "source": [
        "df_train.timestamp.max()"
      ],
      "metadata": {
        "colab": {
          "base_uri": "https://localhost:8080/"
        },
        "id": "wpOPSmYAsyYp",
        "outputId": "a62e463b-c5ad-427e-b097-6566c7e2185c"
      },
      "execution_count": 71,
      "outputs": [
        {
          "output_type": "execute_result",
          "data": {
            "text/plain": [
              "Timestamp('2021-03-31 00:00:00')"
            ]
          },
          "metadata": {},
          "execution_count": 71
        }
      ]
    },
    {
      "cell_type": "markdown",
      "source": [
        "Ploteamos la cantidad de reviews por año:"
      ],
      "metadata": {
        "id": "IWX6m9cAs6Fe"
      }
    },
    {
      "cell_type": "code",
      "source": [
        "plot_df = df_train.copy()\n",
        "plot_df[\"year\"] = df_train.timestamp.dt.year\n",
        "plot_df = plot_df.groupby(\"year\", as_index=False).count()[[\"year\", \"customer_id\"]]\n",
        "plot_df.columns = [\"year\", \"reviews_count\"]\n",
        "plot_df.head()"
      ],
      "metadata": {
        "colab": {
          "base_uri": "https://localhost:8080/",
          "height": 81
        },
        "id": "rGdEmTg3s84V",
        "outputId": "a36d1336-9a3a-4645-a587-80b80e4f9dab"
      },
      "execution_count": 72,
      "outputs": [
        {
          "output_type": "execute_result",
          "data": {
            "text/plain": [
              "   year  reviews_count\n",
              "0  2021        3657801"
            ],
            "text/html": [
              "\n",
              "  <div id=\"df-7d0a35cd-05eb-4a36-ad0b-78cafe22baa7\">\n",
              "    <div class=\"colab-df-container\">\n",
              "      <div>\n",
              "<style scoped>\n",
              "    .dataframe tbody tr th:only-of-type {\n",
              "        vertical-align: middle;\n",
              "    }\n",
              "\n",
              "    .dataframe tbody tr th {\n",
              "        vertical-align: top;\n",
              "    }\n",
              "\n",
              "    .dataframe thead th {\n",
              "        text-align: right;\n",
              "    }\n",
              "</style>\n",
              "<table border=\"1\" class=\"dataframe\">\n",
              "  <thead>\n",
              "    <tr style=\"text-align: right;\">\n",
              "      <th></th>\n",
              "      <th>year</th>\n",
              "      <th>reviews_count</th>\n",
              "    </tr>\n",
              "  </thead>\n",
              "  <tbody>\n",
              "    <tr>\n",
              "      <th>0</th>\n",
              "      <td>2021</td>\n",
              "      <td>3657801</td>\n",
              "    </tr>\n",
              "  </tbody>\n",
              "</table>\n",
              "</div>\n",
              "      <button class=\"colab-df-convert\" onclick=\"convertToInteractive('df-7d0a35cd-05eb-4a36-ad0b-78cafe22baa7')\"\n",
              "              title=\"Convert this dataframe to an interactive table.\"\n",
              "              style=\"display:none;\">\n",
              "        \n",
              "  <svg xmlns=\"http://www.w3.org/2000/svg\" height=\"24px\"viewBox=\"0 0 24 24\"\n",
              "       width=\"24px\">\n",
              "    <path d=\"M0 0h24v24H0V0z\" fill=\"none\"/>\n",
              "    <path d=\"M18.56 5.44l.94 2.06.94-2.06 2.06-.94-2.06-.94-.94-2.06-.94 2.06-2.06.94zm-11 1L8.5 8.5l.94-2.06 2.06-.94-2.06-.94L8.5 2.5l-.94 2.06-2.06.94zm10 10l.94 2.06.94-2.06 2.06-.94-2.06-.94-.94-2.06-.94 2.06-2.06.94z\"/><path d=\"M17.41 7.96l-1.37-1.37c-.4-.4-.92-.59-1.43-.59-.52 0-1.04.2-1.43.59L10.3 9.45l-7.72 7.72c-.78.78-.78 2.05 0 2.83L4 21.41c.39.39.9.59 1.41.59.51 0 1.02-.2 1.41-.59l7.78-7.78 2.81-2.81c.8-.78.8-2.07 0-2.86zM5.41 20L4 18.59l7.72-7.72 1.47 1.35L5.41 20z\"/>\n",
              "  </svg>\n",
              "      </button>\n",
              "      \n",
              "  <style>\n",
              "    .colab-df-container {\n",
              "      display:flex;\n",
              "      flex-wrap:wrap;\n",
              "      gap: 12px;\n",
              "    }\n",
              "\n",
              "    .colab-df-convert {\n",
              "      background-color: #E8F0FE;\n",
              "      border: none;\n",
              "      border-radius: 50%;\n",
              "      cursor: pointer;\n",
              "      display: none;\n",
              "      fill: #1967D2;\n",
              "      height: 32px;\n",
              "      padding: 0 0 0 0;\n",
              "      width: 32px;\n",
              "    }\n",
              "\n",
              "    .colab-df-convert:hover {\n",
              "      background-color: #E2EBFA;\n",
              "      box-shadow: 0px 1px 2px rgba(60, 64, 67, 0.3), 0px 1px 3px 1px rgba(60, 64, 67, 0.15);\n",
              "      fill: #174EA6;\n",
              "    }\n",
              "\n",
              "    [theme=dark] .colab-df-convert {\n",
              "      background-color: #3B4455;\n",
              "      fill: #D2E3FC;\n",
              "    }\n",
              "\n",
              "    [theme=dark] .colab-df-convert:hover {\n",
              "      background-color: #434B5C;\n",
              "      box-shadow: 0px 1px 3px 1px rgba(0, 0, 0, 0.15);\n",
              "      filter: drop-shadow(0px 1px 2px rgba(0, 0, 0, 0.3));\n",
              "      fill: #FFFFFF;\n",
              "    }\n",
              "  </style>\n",
              "\n",
              "      <script>\n",
              "        const buttonEl =\n",
              "          document.querySelector('#df-7d0a35cd-05eb-4a36-ad0b-78cafe22baa7 button.colab-df-convert');\n",
              "        buttonEl.style.display =\n",
              "          google.colab.kernel.accessAllowed ? 'block' : 'none';\n",
              "\n",
              "        async function convertToInteractive(key) {\n",
              "          const element = document.querySelector('#df-7d0a35cd-05eb-4a36-ad0b-78cafe22baa7');\n",
              "          const dataTable =\n",
              "            await google.colab.kernel.invokeFunction('convertToInteractive',\n",
              "                                                     [key], {});\n",
              "          if (!dataTable) return;\n",
              "\n",
              "          const docLinkHtml = 'Like what you see? Visit the ' +\n",
              "            '<a target=\"_blank\" href=https://colab.research.google.com/notebooks/data_table.ipynb>data table notebook</a>'\n",
              "            + ' to learn more about interactive tables.';\n",
              "          element.innerHTML = '';\n",
              "          dataTable['output_type'] = 'display_data';\n",
              "          await google.colab.output.renderOutput(dataTable, element);\n",
              "          const docLink = document.createElement('div');\n",
              "          docLink.innerHTML = docLinkHtml;\n",
              "          element.appendChild(docLink);\n",
              "        }\n",
              "      </script>\n",
              "    </div>\n",
              "  </div>\n",
              "  "
            ]
          },
          "metadata": {},
          "execution_count": 72
        }
      ]
    },
    {
      "cell_type": "markdown",
      "source": [
        "Ploteamos la cantidad de reviews por mes:"
      ],
      "metadata": {
        "id": "mJ6RaoJPxKaZ"
      }
    },
    {
      "cell_type": "code",
      "source": [
        "plot_df = df_train.copy()\n",
        "plot_df[\"month\"] = df_train.timestamp.dt.month\n",
        "plot_df = plot_df.groupby(\"month\", as_index=False).count()[[\"month\", \"customer_id\"]]\n",
        "plot_df.columns = [\"month\", \"reviews_count\"]\n",
        "plot_df.head()"
      ],
      "metadata": {
        "colab": {
          "base_uri": "https://localhost:8080/",
          "height": 143
        },
        "id": "I11ztYl9wxz6",
        "outputId": "4f557d68-44a6-4699-ffdf-73097f5eb99e"
      },
      "execution_count": 73,
      "outputs": [
        {
          "output_type": "execute_result",
          "data": {
            "text/plain": [
              "   month  reviews_count\n",
              "0      1        1216469\n",
              "1      2        1122595\n",
              "2      3        1318737"
            ],
            "text/html": [
              "\n",
              "  <div id=\"df-eadea75d-9bab-4f99-b20e-d1d6601b255b\">\n",
              "    <div class=\"colab-df-container\">\n",
              "      <div>\n",
              "<style scoped>\n",
              "    .dataframe tbody tr th:only-of-type {\n",
              "        vertical-align: middle;\n",
              "    }\n",
              "\n",
              "    .dataframe tbody tr th {\n",
              "        vertical-align: top;\n",
              "    }\n",
              "\n",
              "    .dataframe thead th {\n",
              "        text-align: right;\n",
              "    }\n",
              "</style>\n",
              "<table border=\"1\" class=\"dataframe\">\n",
              "  <thead>\n",
              "    <tr style=\"text-align: right;\">\n",
              "      <th></th>\n",
              "      <th>month</th>\n",
              "      <th>reviews_count</th>\n",
              "    </tr>\n",
              "  </thead>\n",
              "  <tbody>\n",
              "    <tr>\n",
              "      <th>0</th>\n",
              "      <td>1</td>\n",
              "      <td>1216469</td>\n",
              "    </tr>\n",
              "    <tr>\n",
              "      <th>1</th>\n",
              "      <td>2</td>\n",
              "      <td>1122595</td>\n",
              "    </tr>\n",
              "    <tr>\n",
              "      <th>2</th>\n",
              "      <td>3</td>\n",
              "      <td>1318737</td>\n",
              "    </tr>\n",
              "  </tbody>\n",
              "</table>\n",
              "</div>\n",
              "      <button class=\"colab-df-convert\" onclick=\"convertToInteractive('df-eadea75d-9bab-4f99-b20e-d1d6601b255b')\"\n",
              "              title=\"Convert this dataframe to an interactive table.\"\n",
              "              style=\"display:none;\">\n",
              "        \n",
              "  <svg xmlns=\"http://www.w3.org/2000/svg\" height=\"24px\"viewBox=\"0 0 24 24\"\n",
              "       width=\"24px\">\n",
              "    <path d=\"M0 0h24v24H0V0z\" fill=\"none\"/>\n",
              "    <path d=\"M18.56 5.44l.94 2.06.94-2.06 2.06-.94-2.06-.94-.94-2.06-.94 2.06-2.06.94zm-11 1L8.5 8.5l.94-2.06 2.06-.94-2.06-.94L8.5 2.5l-.94 2.06-2.06.94zm10 10l.94 2.06.94-2.06 2.06-.94-2.06-.94-.94-2.06-.94 2.06-2.06.94z\"/><path d=\"M17.41 7.96l-1.37-1.37c-.4-.4-.92-.59-1.43-.59-.52 0-1.04.2-1.43.59L10.3 9.45l-7.72 7.72c-.78.78-.78 2.05 0 2.83L4 21.41c.39.39.9.59 1.41.59.51 0 1.02-.2 1.41-.59l7.78-7.78 2.81-2.81c.8-.78.8-2.07 0-2.86zM5.41 20L4 18.59l7.72-7.72 1.47 1.35L5.41 20z\"/>\n",
              "  </svg>\n",
              "      </button>\n",
              "      \n",
              "  <style>\n",
              "    .colab-df-container {\n",
              "      display:flex;\n",
              "      flex-wrap:wrap;\n",
              "      gap: 12px;\n",
              "    }\n",
              "\n",
              "    .colab-df-convert {\n",
              "      background-color: #E8F0FE;\n",
              "      border: none;\n",
              "      border-radius: 50%;\n",
              "      cursor: pointer;\n",
              "      display: none;\n",
              "      fill: #1967D2;\n",
              "      height: 32px;\n",
              "      padding: 0 0 0 0;\n",
              "      width: 32px;\n",
              "    }\n",
              "\n",
              "    .colab-df-convert:hover {\n",
              "      background-color: #E2EBFA;\n",
              "      box-shadow: 0px 1px 2px rgba(60, 64, 67, 0.3), 0px 1px 3px 1px rgba(60, 64, 67, 0.15);\n",
              "      fill: #174EA6;\n",
              "    }\n",
              "\n",
              "    [theme=dark] .colab-df-convert {\n",
              "      background-color: #3B4455;\n",
              "      fill: #D2E3FC;\n",
              "    }\n",
              "\n",
              "    [theme=dark] .colab-df-convert:hover {\n",
              "      background-color: #434B5C;\n",
              "      box-shadow: 0px 1px 3px 1px rgba(0, 0, 0, 0.15);\n",
              "      filter: drop-shadow(0px 1px 2px rgba(0, 0, 0, 0.3));\n",
              "      fill: #FFFFFF;\n",
              "    }\n",
              "  </style>\n",
              "\n",
              "      <script>\n",
              "        const buttonEl =\n",
              "          document.querySelector('#df-eadea75d-9bab-4f99-b20e-d1d6601b255b button.colab-df-convert');\n",
              "        buttonEl.style.display =\n",
              "          google.colab.kernel.accessAllowed ? 'block' : 'none';\n",
              "\n",
              "        async function convertToInteractive(key) {\n",
              "          const element = document.querySelector('#df-eadea75d-9bab-4f99-b20e-d1d6601b255b');\n",
              "          const dataTable =\n",
              "            await google.colab.kernel.invokeFunction('convertToInteractive',\n",
              "                                                     [key], {});\n",
              "          if (!dataTable) return;\n",
              "\n",
              "          const docLinkHtml = 'Like what you see? Visit the ' +\n",
              "            '<a target=\"_blank\" href=https://colab.research.google.com/notebooks/data_table.ipynb>data table notebook</a>'\n",
              "            + ' to learn more about interactive tables.';\n",
              "          element.innerHTML = '';\n",
              "          dataTable['output_type'] = 'display_data';\n",
              "          await google.colab.output.renderOutput(dataTable, element);\n",
              "          const docLink = document.createElement('div');\n",
              "          docLink.innerHTML = docLinkHtml;\n",
              "          element.appendChild(docLink);\n",
              "        }\n",
              "      </script>\n",
              "    </div>\n",
              "  </div>\n",
              "  "
            ]
          },
          "metadata": {},
          "execution_count": 73
        }
      ]
    },
    {
      "cell_type": "code",
      "source": [
        "plt.figure(figsize=(15,5))\n",
        "sns.barplot(x=plot_df.month, y=plot_df.reviews_count)\n",
        "plt.title(\"Cantidad de reviews por mes\")\n",
        "plt.show()"
      ],
      "metadata": {
        "colab": {
          "base_uri": "https://localhost:8080/",
          "height": 350
        },
        "id": "DwjfjxpExuCl",
        "outputId": "65c4fe0b-c8ff-4d71-f2db-5adfe81ce731"
      },
      "execution_count": 75,
      "outputs": [
        {
          "output_type": "display_data",
          "data": {
            "text/plain": [
              "<Figure size 1080x360 with 1 Axes>"
            ],
            "image/png": "[encoded data removed]"
          },
          "metadata": {
            "needs_background": "light"
          }
        }
      ]
    },
    {
      "cell_type": "markdown",
      "source": [
        "Empezamos con el rating"
      ],
      "metadata": {
        "id": "j6nVS-W-pUwa"
      }
    },
    {
      "cell_type": "code",
      "source": [
        "df_train['from'] =  pd.to_datetime(df_train['tunein'], format='%Y-%m-%d %H:%M:%S.%f')"
      ],
      "metadata": {
        "id": "CyrQ8F5cLgyo"
      },
      "execution_count": 80,
      "outputs": []
    },
    {
      "cell_type": "code",
      "source": [
        "df_train['to'] =  pd.to_datetime(df_train['tuneout'], format='%Y-%m-%d %H:%M:%S.%f')"
      ],
      "metadata": {
        "id": "Qh4VunbWN2y5"
      },
      "execution_count": 81,
      "outputs": []
    },
    {
      "cell_type": "code",
      "source": [
        "df_train['resultado'] = df_train['to']-df_train['from']\n",
        "df_train.head()"
      ],
      "metadata": {
        "colab": {
          "base_uri": "https://localhost:8080/",
          "height": 250
        },
        "id": "B2C-5McaOAc5",
        "outputId": "32d7de85-5600-47bb-c2fc-e1241a829897"
      },
      "execution_count": 82,
      "outputs": [
        {
          "output_type": "execute_result",
          "data": {
            "text/plain": [
              "   customer_id  account_id  asset_id                 tunein  \\\n",
              "0            0       90627   18332.0  2021-02-18 22:52:00.0   \n",
              "1            0       90627   24727.0  2021-03-24 23:17:00.0   \n",
              "2            1        3387     895.0  2021-03-15 10:05:00.0   \n",
              "3            1        3387     895.0  2021-03-15 10:23:00.0   \n",
              "4            1        3387   26062.0  2021-03-16 09:24:00.0   \n",
              "\n",
              "                 tuneout  timestamp  minutos                from  \\\n",
              "0  2021-02-18 23:35:00.0 2021-02-18     43.0 2021-02-18 22:52:00   \n",
              "1  2021-03-25 00:01:00.0 2021-03-24     44.0 2021-03-24 23:17:00   \n",
              "2  2021-03-15 10:23:00.0 2021-03-15     18.0 2021-03-15 10:05:00   \n",
              "3  2021-03-15 11:18:00.0 2021-03-15     55.0 2021-03-15 10:23:00   \n",
              "4  2021-03-16 09:44:00.0 2021-03-16     20.0 2021-03-16 09:24:00   \n",
              "\n",
              "                   to       resultado  \n",
              "0 2021-02-18 23:35:00 0 days 00:43:00  \n",
              "1 2021-03-25 00:01:00 0 days 00:44:00  \n",
              "2 2021-03-15 10:23:00 0 days 00:18:00  \n",
              "3 2021-03-15 11:18:00 0 days 00:55:00  \n",
              "4 2021-03-16 09:44:00 0 days 00:20:00  "
            ],
            "text/html": [
              "\n",
              "  <div id=\"df-47eda26c-d856-4d92-b8cc-c31ba16ef58d\">\n",
              "    <div class=\"colab-df-container\">\n",
              "      <div>\n",
              "<style scoped>\n",
              "    .dataframe tbody tr th:only-of-type {\n",
              "        vertical-align: middle;\n",
              "    }\n",
              "\n",
              "    .dataframe tbody tr th {\n",
              "        vertical-align: top;\n",
              "    }\n",
              "\n",
              "    .dataframe thead th {\n",
              "        text-align: right;\n",
              "    }\n",
              "</style>\n",
              "<table border=\"1\" class=\"dataframe\">\n",
              "  <thead>\n",
              "    <tr style=\"text-align: right;\">\n",
              "      <th></th>\n",
              "      <th>customer_id</th>\n",
              "      <th>account_id</th>\n",
              "      <th>asset_id</th>\n",
              "      <th>tunein</th>\n",
              "      <th>tuneout</th>\n",
              "      <th>timestamp</th>\n",
              "      <th>minutos</th>\n",
              "      <th>from</th>\n",
              "      <th>to</th>\n",
              "      <th>resultado</th>\n",
              "    </tr>\n",
              "  </thead>\n",
              "  <tbody>\n",
              "    <tr>\n",
              "      <th>0</th>\n",
              "      <td>0</td>\n",
              "      <td>90627</td>\n",
              "      <td>18332.0</td>\n",
              "      <td>2021-02-18 22:52:00.0</td>\n",
              "      <td>2021-02-18 23:35:00.0</td>\n",
              "      <td>2021-02-18</td>\n",
              "      <td>43.0</td>\n",
              "      <td>2021-02-18 22:52:00</td>\n",
              "      <td>2021-02-18 23:35:00</td>\n",
              "      <td>0 days 00:43:00</td>\n",
              "    </tr>\n",
              "    <tr>\n",
              "      <th>1</th>\n",
              "      <td>0</td>\n",
              "      <td>90627</td>\n",
              "      <td>24727.0</td>\n",
              "      <td>2021-03-24 23:17:00.0</td>\n",
              "      <td>2021-03-25 00:01:00.0</td>\n",
              "      <td>2021-03-24</td>\n",
              "      <td>44.0</td>\n",
              "      <td>2021-03-24 23:17:00</td>\n",
              "      <td>2021-03-25 00:01:00</td>\n",
              "      <td>0 days 00:44:00</td>\n",
              "    </tr>\n",
              "    <tr>\n",
              "      <th>2</th>\n",
              "      <td>1</td>\n",
              "      <td>3387</td>\n",
              "      <td>895.0</td>\n",
              "      <td>2021-03-15 10:05:00.0</td>\n",
              "      <td>2021-03-15 10:23:00.0</td>\n",
              "      <td>2021-03-15</td>\n",
              "      <td>18.0</td>\n",
              "      <td>2021-03-15 10:05:00</td>\n",
              "      <td>2021-03-15 10:23:00</td>\n",
              "      <td>0 days 00:18:00</td>\n",
              "    </tr>\n",
              "    <tr>\n",
              "      <th>3</th>\n",
              "      <td>1</td>\n",
              "      <td>3387</td>\n",
              "      <td>895.0</td>\n",
              "      <td>2021-03-15 10:23:00.0</td>\n",
              "      <td>2021-03-15 11:18:00.0</td>\n",
              "      <td>2021-03-15</td>\n",
              "      <td>55.0</td>\n",
              "      <td>2021-03-15 10:23:00</td>\n",
              "      <td>2021-03-15 11:18:00</td>\n",
              "      <td>0 days 00:55:00</td>\n",
              "    </tr>\n",
              "    <tr>\n",
              "      <th>4</th>\n",
              "      <td>1</td>\n",
              "      <td>3387</td>\n",
              "      <td>26062.0</td>\n",
              "      <td>2021-03-16 09:24:00.0</td>\n",
              "      <td>2021-03-16 09:44:00.0</td>\n",
              "      <td>2021-03-16</td>\n",
              "      <td>20.0</td>\n",
              "      <td>2021-03-16 09:24:00</td>\n",
              "      <td>2021-03-16 09:44:00</td>\n",
              "      <td>0 days 00:20:00</td>\n",
              "    </tr>\n",
              "  </tbody>\n",
              "</table>\n",
              "</div>\n",
              "      <button class=\"colab-df-convert\" onclick=\"convertToInteractive('df-47eda26c-d856-4d92-b8cc-c31ba16ef58d')\"\n",
              "              title=\"Convert this dataframe to an interactive table.\"\n",
              "              style=\"display:none;\">\n",
              "        \n",
              "  <svg xmlns=\"http://www.w3.org/2000/svg\" height=\"24px\"viewBox=\"0 0 24 24\"\n",
              "       width=\"24px\">\n",
              "    <path d=\"M0 0h24v24H0V0z\" fill=\"none\"/>\n",
              "    <path d=\"M18.56 5.44l.94 2.06.94-2.06 2.06-.94-2.06-.94-.94-2.06-.94 2.06-2.06.94zm-11 1L8.5 8.5l.94-2.06 2.06-.94-2.06-.94L8.5 2.5l-.94 2.06-2.06.94zm10 10l.94 2.06.94-2.06 2.06-.94-2.06-.94-.94-2.06-.94 2.06-2.06.94z\"/><path d=\"M17.41 7.96l-1.37-1.37c-.4-.4-.92-.59-1.43-.59-.52 0-1.04.2-1.43.59L10.3 9.45l-7.72 7.72c-.78.78-.78 2.05 0 2.83L4 21.41c.39.39.9.59 1.41.59.51 0 1.02-.2 1.41-.59l7.78-7.78 2.81-2.81c.8-.78.8-2.07 0-2.86zM5.41 20L4 18.59l7.72-7.72 1.47 1.35L5.41 20z\"/>\n",
              "  </svg>\n",
              "      </button>\n",
              "      \n",
              "  <style>\n",
              "    .colab-df-container {\n",
              "      display:flex;\n",
              "      flex-wrap:wrap;\n",
              "      gap: 12px;\n",
              "    }\n",
              "\n",
              "    .colab-df-convert {\n",
              "      background-color: #E8F0FE;\n",
              "      border: none;\n",
              "      border-radius: 50%;\n",
              "      cursor: pointer;\n",
              "      display: none;\n",
              "      fill: #1967D2;\n",
              "      height: 32px;\n",
              "      padding: 0 0 0 0;\n",
              "      width: 32px;\n",
              "    }\n",
              "\n",
              "    .colab-df-convert:hover {\n",
              "      background-color: #E2EBFA;\n",
              "      box-shadow: 0px 1px 2px rgba(60, 64, 67, 0.3), 0px 1px 3px 1px rgba(60, 64, 67, 0.15);\n",
              "      fill: #174EA6;\n",
              "    }\n",
              "\n",
              "    [theme=dark] .colab-df-convert {\n",
              "      background-color: #3B4455;\n",
              "      fill: #D2E3FC;\n",
              "    }\n",
              "\n",
              "    [theme=dark] .colab-df-convert:hover {\n",
              "      background-color: #434B5C;\n",
              "      box-shadow: 0px 1px 3px 1px rgba(0, 0, 0, 0.15);\n",
              "      filter: drop-shadow(0px 1px 2px rgba(0, 0, 0, 0.3));\n",
              "      fill: #FFFFFF;\n",
              "    }\n",
              "  </style>\n",
              "\n",
              "      <script>\n",
              "        const buttonEl =\n",
              "          document.querySelector('#df-47eda26c-d856-4d92-b8cc-c31ba16ef58d button.colab-df-convert');\n",
              "        buttonEl.style.display =\n",
              "          google.colab.kernel.accessAllowed ? 'block' : 'none';\n",
              "\n",
              "        async function convertToInteractive(key) {\n",
              "          const element = document.querySelector('#df-47eda26c-d856-4d92-b8cc-c31ba16ef58d');\n",
              "          const dataTable =\n",
              "            await google.colab.kernel.invokeFunction('convertToInteractive',\n",
              "                                                     [key], {});\n",
              "          if (!dataTable) return;\n",
              "\n",
              "          const docLinkHtml = 'Like what you see? Visit the ' +\n",
              "            '<a target=\"_blank\" href=https://colab.research.google.com/notebooks/data_table.ipynb>data table notebook</a>'\n",
              "            + ' to learn more about interactive tables.';\n",
              "          element.innerHTML = '';\n",
              "          dataTable['output_type'] = 'display_data';\n",
              "          await google.colab.output.renderOutput(dataTable, element);\n",
              "          const docLink = document.createElement('div');\n",
              "          docLink.innerHTML = docLinkHtml;\n",
              "          element.appendChild(docLink);\n",
              "        }\n",
              "      </script>\n",
              "    </div>\n",
              "  </div>\n",
              "  "
            ]
          },
          "metadata": {},
          "execution_count": 82
        }
      ]
    },
    {
      "cell_type": "code",
      "source": [
        "# Minutos vistos por el usuario\n",
        "df_train['minutos'] = df_train['resultado'].dt.seconds.div(60).astype(float) \n",
        "df_train.head()"
      ],
      "metadata": {
        "colab": {
          "base_uri": "https://localhost:8080/",
          "height": 337
        },
        "id": "j1obDZxTPXCL",
        "outputId": "70a8b6ef-44a2-4acf-a22c-c5e5d5c6a350"
      },
      "execution_count": 59,
      "outputs": [
        {
          "output_type": "execute_result",
          "data": {
            "text/plain": [
              "   customer_id  account_id device_type  asset_id                 tunein  \\\n",
              "0            0       90627  STATIONARY   18332.0  2021-02-18 22:52:00.0   \n",
              "1            0       90627  STATIONARY   24727.0  2021-03-24 23:17:00.0   \n",
              "2            1        3387         STB     895.0  2021-03-15 10:05:00.0   \n",
              "3            1        3387         STB     895.0  2021-03-15 10:23:00.0   \n",
              "4            1        3387         STB   26062.0  2021-03-16 09:24:00.0   \n",
              "\n",
              "                 tuneout  resume           timestamp                from  \\\n",
              "0  2021-02-18 23:35:00.0       0 2021-02-18 22:52:00 2021-02-18 22:52:00   \n",
              "1  2021-03-25 00:01:00.0       0 2021-03-24 23:17:00 2021-03-24 23:17:00   \n",
              "2  2021-03-15 10:23:00.0       0 2021-03-15 10:05:00 2021-03-15 10:05:00   \n",
              "3  2021-03-15 11:18:00.0       1 2021-03-15 10:23:00 2021-03-15 10:23:00   \n",
              "4  2021-03-16 09:44:00.0       0 2021-03-16 09:24:00 2021-03-16 09:24:00   \n",
              "\n",
              "                   to       resultado  minutos  \n",
              "0 2021-02-18 23:35:00 0 days 00:43:00     43.0  \n",
              "1 2021-03-25 00:01:00 0 days 00:44:00     44.0  \n",
              "2 2021-03-15 10:23:00 0 days 00:18:00     18.0  \n",
              "3 2021-03-15 11:18:00 0 days 00:55:00     55.0  \n",
              "4 2021-03-16 09:44:00 0 days 00:20:00     20.0  "
            ],
            "text/html": [
              "\n",
              "  <div id=\"df-11e7db05-2673-4e6e-9807-b82a4eaed089\">\n",
              "    <div class=\"colab-df-container\">\n",
              "      <div>\n",
              "<style scoped>\n",
              "    .dataframe tbody tr th:only-of-type {\n",
              "        vertical-align: middle;\n",
              "    }\n",
              "\n",
              "    .dataframe tbody tr th {\n",
              "        vertical-align: top;\n",
              "    }\n",
              "\n",
              "    .dataframe thead th {\n",
              "        text-align: right;\n",
              "    }\n",
              "</style>\n",
              "<table border=\"1\" class=\"dataframe\">\n",
              "  <thead>\n",
              "    <tr style=\"text-align: right;\">\n",
              "      <th></th>\n",
              "      <th>customer_id</th>\n",
              "      <th>account_id</th>\n",
              "      <th>device_type</th>\n",
              "      <th>asset_id</th>\n",
              "      <th>tunein</th>\n",
              "      <th>tuneout</th>\n",
              "      <th>resume</th>\n",
              "      <th>timestamp</th>\n",
              "      <th>from</th>\n",
              "      <th>to</th>\n",
              "      <th>resultado</th>\n",
              "      <th>minutos</th>\n",
              "    </tr>\n",
              "  </thead>\n",
              "  <tbody>\n",
              "    <tr>\n",
              "      <th>0</th>\n",
              "      <td>0</td>\n",
              "      <td>90627</td>\n",
              "      <td>STATIONARY</td>\n",
              "      <td>18332.0</td>\n",
              "      <td>2021-02-18 22:52:00.0</td>\n",
              "      <td>2021-02-18 23:35:00.0</td>\n",
              "      <td>0</td>\n",
              "      <td>2021-02-18 22:52:00</td>\n",
              "      <td>2021-02-18 22:52:00</td>\n",
              "      <td>2021-02-18 23:35:00</td>\n",
              "      <td>0 days 00:43:00</td>\n",
              "      <td>43.0</td>\n",
              "    </tr>\n",
              "    <tr>\n",
              "      <th>1</th>\n",
              "      <td>0</td>\n",
              "      <td>90627</td>\n",
              "      <td>STATIONARY</td>\n",
              "      <td>24727.0</td>\n",
              "      <td>2021-03-24 23:17:00.0</td>\n",
              "      <td>2021-03-25 00:01:00.0</td>\n",
              "      <td>0</td>\n",
              "      <td>2021-03-24 23:17:00</td>\n",
              "      <td>2021-03-24 23:17:00</td>\n",
              "      <td>2021-03-25 00:01:00</td>\n",
              "      <td>0 days 00:44:00</td>\n",
              "      <td>44.0</td>\n",
              "    </tr>\n",
              "    <tr>\n",
              "      <th>2</th>\n",
              "      <td>1</td>\n",
              "      <td>3387</td>\n",
              "      <td>STB</td>\n",
              "      <td>895.0</td>\n",
              "      <td>2021-03-15 10:05:00.0</td>\n",
              "      <td>2021-03-15 10:23:00.0</td>\n",
              "      <td>0</td>\n",
              "      <td>2021-03-15 10:05:00</td>\n",
              "      <td>2021-03-15 10:05:00</td>\n",
              "      <td>2021-03-15 10:23:00</td>\n",
              "      <td>0 days 00:18:00</td>\n",
              "      <td>18.0</td>\n",
              "    </tr>\n",
              "    <tr>\n",
              "      <th>3</th>\n",
              "      <td>1</td>\n",
              "      <td>3387</td>\n",
              "      <td>STB</td>\n",
              "      <td>895.0</td>\n",
              "      <td>2021-03-15 10:23:00.0</td>\n",
              "      <td>2021-03-15 11:18:00.0</td>\n",
              "      <td>1</td>\n",
              "      <td>2021-03-15 10:23:00</td>\n",
              "      <td>2021-03-15 10:23:00</td>\n",
              "      <td>2021-03-15 11:18:00</td>\n",
              "      <td>0 days 00:55:00</td>\n",
              "      <td>55.0</td>\n",
              "    </tr>\n",
              "    <tr>\n",
              "      <th>4</th>\n",
              "      <td>1</td>\n",
              "      <td>3387</td>\n",
              "      <td>STB</td>\n",
              "      <td>26062.0</td>\n",
              "      <td>2021-03-16 09:24:00.0</td>\n",
              "      <td>2021-03-16 09:44:00.0</td>\n",
              "      <td>0</td>\n",
              "      <td>2021-03-16 09:24:00</td>\n",
              "      <td>2021-03-16 09:24:00</td>\n",
              "      <td>2021-03-16 09:44:00</td>\n",
              "      <td>0 days 00:20:00</td>\n",
              "      <td>20.0</td>\n",
              "    </tr>\n",
              "  </tbody>\n",
              "</table>\n",
              "</div>\n",
              "      <button class=\"colab-df-convert\" onclick=\"convertToInteractive('df-11e7db05-2673-4e6e-9807-b82a4eaed089')\"\n",
              "              title=\"Convert this dataframe to an interactive table.\"\n",
              "              style=\"display:none;\">\n",
              "        \n",
              "  <svg xmlns=\"http://www.w3.org/2000/svg\" height=\"24px\"viewBox=\"0 0 24 24\"\n",
              "       width=\"24px\">\n",
              "    <path d=\"M0 0h24v24H0V0z\" fill=\"none\"/>\n",
              "    <path d=\"M18.56 5.44l.94 2.06.94-2.06 2.06-.94-2.06-.94-.94-2.06-.94 2.06-2.06.94zm-11 1L8.5 8.5l.94-2.06 2.06-.94-2.06-.94L8.5 2.5l-.94 2.06-2.06.94zm10 10l.94 2.06.94-2.06 2.06-.94-2.06-.94-.94-2.06-.94 2.06-2.06.94z\"/><path d=\"M17.41 7.96l-1.37-1.37c-.4-.4-.92-.59-1.43-.59-.52 0-1.04.2-1.43.59L10.3 9.45l-7.72 7.72c-.78.78-.78 2.05 0 2.83L4 21.41c.39.39.9.59 1.41.59.51 0 1.02-.2 1.41-.59l7.78-7.78 2.81-2.81c.8-.78.8-2.07 0-2.86zM5.41 20L4 18.59l7.72-7.72 1.47 1.35L5.41 20z\"/>\n",
              "  </svg>\n",
              "      </button>\n",
              "      \n",
              "  <style>\n",
              "    .colab-df-container {\n",
              "      display:flex;\n",
              "      flex-wrap:wrap;\n",
              "      gap: 12px;\n",
              "    }\n",
              "\n",
              "    .colab-df-convert {\n",
              "      background-color: #E8F0FE;\n",
              "      border: none;\n",
              "      border-radius: 50%;\n",
              "      cursor: pointer;\n",
              "      display: none;\n",
              "      fill: #1967D2;\n",
              "      height: 32px;\n",
              "      padding: 0 0 0 0;\n",
              "      width: 32px;\n",
              "    }\n",
              "\n",
              "    .colab-df-convert:hover {\n",
              "      background-color: #E2EBFA;\n",
              "      box-shadow: 0px 1px 2px rgba(60, 64, 67, 0.3), 0px 1px 3px 1px rgba(60, 64, 67, 0.15);\n",
              "      fill: #174EA6;\n",
              "    }\n",
              "\n",
              "    [theme=dark] .colab-df-convert {\n",
              "      background-color: #3B4455;\n",
              "      fill: #D2E3FC;\n",
              "    }\n",
              "\n",
              "    [theme=dark] .colab-df-convert:hover {\n",
              "      background-color: #434B5C;\n",
              "      box-shadow: 0px 1px 3px 1px rgba(0, 0, 0, 0.15);\n",
              "      filter: drop-shadow(0px 1px 2px rgba(0, 0, 0, 0.3));\n",
              "      fill: #FFFFFF;\n",
              "    }\n",
              "  </style>\n",
              "\n",
              "      <script>\n",
              "        const buttonEl =\n",
              "          document.querySelector('#df-11e7db05-2673-4e6e-9807-b82a4eaed089 button.colab-df-convert');\n",
              "        buttonEl.style.display =\n",
              "          google.colab.kernel.accessAllowed ? 'block' : 'none';\n",
              "\n",
              "        async function convertToInteractive(key) {\n",
              "          const element = document.querySelector('#df-11e7db05-2673-4e6e-9807-b82a4eaed089');\n",
              "          const dataTable =\n",
              "            await google.colab.kernel.invokeFunction('convertToInteractive',\n",
              "                                                     [key], {});\n",
              "          if (!dataTable) return;\n",
              "\n",
              "          const docLinkHtml = 'Like what you see? Visit the ' +\n",
              "            '<a target=\"_blank\" href=https://colab.research.google.com/notebooks/data_table.ipynb>data table notebook</a>'\n",
              "            + ' to learn more about interactive tables.';\n",
              "          element.innerHTML = '';\n",
              "          dataTable['output_type'] = 'display_data';\n",
              "          await google.colab.output.renderOutput(dataTable, element);\n",
              "          const docLink = document.createElement('div');\n",
              "          docLink.innerHTML = docLinkHtml;\n",
              "          element.appendChild(docLink);\n",
              "        }\n",
              "      </script>\n",
              "    </div>\n",
              "  </div>\n",
              "  "
            ]
          },
          "metadata": {},
          "execution_count": 59
        }
      ]
    },
    {
      "cell_type": "code",
      "source": [
        "# Esta columna contiene la duración de la pelicula\n",
        "df_metadatos['run_time_min']"
      ],
      "metadata": {
        "colab": {
          "base_uri": "https://localhost:8080/"
        },
        "id": "vA7pXnKqPqlg",
        "outputId": "c62a59bd-0268-4287-a639-17743497b9b8"
      },
      "execution_count": 76,
      "outputs": [
        {
          "output_type": "execute_result",
          "data": {
            "text/plain": [
              "0         48.0\n",
              "1        105.0\n",
              "2         82.0\n",
              "3         99.0\n",
              "4        126.0\n",
              "         ...  \n",
              "33139     64.0\n",
              "33140     56.0\n",
              "33141     24.0\n",
              "33142     42.0\n",
              "33143     11.0\n",
              "Name: run_time_min, Length: 33144, dtype: float64"
            ]
          },
          "metadata": {},
          "execution_count": 76
        }
      ]
    },
    {
      "cell_type": "code",
      "source": [
        "# duración minima\n",
        "df_metadatos['run_time_min'].min()"
      ],
      "metadata": {
        "colab": {
          "base_uri": "https://localhost:8080/"
        },
        "id": "0jme-7rp-TFZ",
        "outputId": "0595fb27-8ea8-4885-b0cf-a3c7cc02f732"
      },
      "execution_count": 77,
      "outputs": [
        {
          "output_type": "execute_result",
          "data": {
            "text/plain": [
              "0.0"
            ]
          },
          "metadata": {},
          "execution_count": 77
        }
      ]
    },
    {
      "cell_type": "code",
      "source": [
        "# duracion máxima\n",
        "df_metadatos['run_time_min'].max()"
      ],
      "metadata": {
        "colab": {
          "base_uri": "https://localhost:8080/"
        },
        "id": "Gl7Pltdx-XI7",
        "outputId": "d48ae6f9-a1af-42a2-9ac7-5c8621e4a2ec"
      },
      "execution_count": 78,
      "outputs": [
        {
          "output_type": "execute_result",
          "data": {
            "text/plain": [
              "308.0"
            ]
          },
          "metadata": {},
          "execution_count": 78
        }
      ]
    },
    {
      "cell_type": "markdown",
      "source": [
        "Dropeamos lo que no nos sirve"
      ],
      "metadata": {
        "id": "TWh995igQkS8"
      }
    },
    {
      "cell_type": "code",
      "source": [
        "df_train.drop(['device_type','resume','from','to','resultado'],axis=1, inplace=True)"
      ],
      "metadata": {
        "colab": {
          "base_uri": "https://localhost:8080/",
          "height": 311
        },
        "id": "MqMY-F20QpG2",
        "outputId": "d550343d-4e01-4fb3-a003-dfbfbc5b4620"
      },
      "execution_count": 83,
      "outputs": [
        {
          "output_type": "error",
          "ename": "KeyError",
          "evalue": "ignored",
          "traceback": [
            "\u001b[0;31m---------------------------------------------------------------------------\u001b[0m",
            "\u001b[0;31mKeyError\u001b[0m                                  Traceback (most recent call last)",
            "\u001b[0;32m<ipython-input-83-0752e07d7466>\u001b[0m in \u001b[0;36m<module>\u001b[0;34m\u001b[0m\n\u001b[0;32m----> 1\u001b[0;31m \u001b[0mdf_train\u001b[0m\u001b[0;34m.\u001b[0m\u001b[0mdrop\u001b[0m\u001b[0;34m(\u001b[0m\u001b[0;34m[\u001b[0m\u001b[0;34m'device_type'\u001b[0m\u001b[0;34m,\u001b[0m\u001b[0;34m'resume'\u001b[0m\u001b[0;34m,\u001b[0m\u001b[0;34m'from'\u001b[0m\u001b[0;34m,\u001b[0m\u001b[0;34m'to'\u001b[0m\u001b[0;34m,\u001b[0m\u001b[0;34m'resultado'\u001b[0m\u001b[0;34m]\u001b[0m\u001b[0;34m,\u001b[0m\u001b[0maxis\u001b[0m\u001b[0;34m=\u001b[0m\u001b[0;36m1\u001b[0m\u001b[0;34m,\u001b[0m \u001b[0minplace\u001b[0m\u001b[0;34m=\u001b[0m\u001b[0;32mTrue\u001b[0m\u001b[0;34m)\u001b[0m\u001b[0;34m\u001b[0m\u001b[0;34m\u001b[0m\u001b[0m\n\u001b[0m",
            "\u001b[0;32m/usr/local/lib/python3.8/dist-packages/pandas/util/_decorators.py\u001b[0m in \u001b[0;36mwrapper\u001b[0;34m(*args, **kwargs)\u001b[0m\n\u001b[1;32m    309\u001b[0m                     \u001b[0mstacklevel\u001b[0m\u001b[0;34m=\u001b[0m\u001b[0mstacklevel\u001b[0m\u001b[0;34m,\u001b[0m\u001b[0;34m\u001b[0m\u001b[0;34m\u001b[0m\u001b[0m\n\u001b[1;32m    310\u001b[0m                 )\n\u001b[0;32m--> 311\u001b[0;31m             \u001b[0;32mreturn\u001b[0m \u001b[0mfunc\u001b[0m\u001b[0;34m(\u001b[0m\u001b[0;34m*\u001b[0m\u001b[0margs\u001b[0m\u001b[0;34m,\u001b[0m \u001b[0;34m**\u001b[0m\u001b[0mkwargs\u001b[0m\u001b[0;34m)\u001b[0m\u001b[0;34m\u001b[0m\u001b[0;34m\u001b[0m\u001b[0m\n\u001b[0m\u001b[1;32m    312\u001b[0m \u001b[0;34m\u001b[0m\u001b[0m\n\u001b[1;32m    313\u001b[0m         \u001b[0;32mreturn\u001b[0m \u001b[0mwrapper\u001b[0m\u001b[0;34m\u001b[0m\u001b[0;34m\u001b[0m\u001b[0m\n",
            "\u001b[0;32m/usr/local/lib/python3.8/dist-packages/pandas/core/frame.py\u001b[0m in \u001b[0;36mdrop\u001b[0;34m(self, labels, axis, index, columns, level, inplace, errors)\u001b[0m\n\u001b[1;32m   4904\u001b[0m                 \u001b[0mweight\u001b[0m  \u001b[0;36m1.0\u001b[0m     \u001b[0;36m0.8\u001b[0m\u001b[0;34m\u001b[0m\u001b[0;34m\u001b[0m\u001b[0m\n\u001b[1;32m   4905\u001b[0m         \"\"\"\n\u001b[0;32m-> 4906\u001b[0;31m         return super().drop(\n\u001b[0m\u001b[1;32m   4907\u001b[0m             \u001b[0mlabels\u001b[0m\u001b[0;34m=\u001b[0m\u001b[0mlabels\u001b[0m\u001b[0;34m,\u001b[0m\u001b[0;34m\u001b[0m\u001b[0;34m\u001b[0m\u001b[0m\n\u001b[1;32m   4908\u001b[0m             \u001b[0maxis\u001b[0m\u001b[0;34m=\u001b[0m\u001b[0maxis\u001b[0m\u001b[0;34m,\u001b[0m\u001b[0;34m\u001b[0m\u001b[0;34m\u001b[0m\u001b[0m\n",
            "\u001b[0;32m/usr/local/lib/python3.8/dist-packages/pandas/core/generic.py\u001b[0m in \u001b[0;36mdrop\u001b[0;34m(self, labels, axis, index, columns, level, inplace, errors)\u001b[0m\n\u001b[1;32m   4148\u001b[0m         \u001b[0;32mfor\u001b[0m \u001b[0maxis\u001b[0m\u001b[0;34m,\u001b[0m \u001b[0mlabels\u001b[0m \u001b[0;32min\u001b[0m \u001b[0maxes\u001b[0m\u001b[0;34m.\u001b[0m\u001b[0mitems\u001b[0m\u001b[0;34m(\u001b[0m\u001b[0;34m)\u001b[0m\u001b[0;34m:\u001b[0m\u001b[0;34m\u001b[0m\u001b[0;34m\u001b[0m\u001b[0m\n\u001b[1;32m   4149\u001b[0m             \u001b[0;32mif\u001b[0m \u001b[0mlabels\u001b[0m \u001b[0;32mis\u001b[0m \u001b[0;32mnot\u001b[0m \u001b[0;32mNone\u001b[0m\u001b[0;34m:\u001b[0m\u001b[0;34m\u001b[0m\u001b[0;34m\u001b[0m\u001b[0m\n\u001b[0;32m-> 4150\u001b[0;31m                 \u001b[0mobj\u001b[0m \u001b[0;34m=\u001b[0m \u001b[0mobj\u001b[0m\u001b[0;34m.\u001b[0m\u001b[0m_drop_axis\u001b[0m\u001b[0;34m(\u001b[0m\u001b[0mlabels\u001b[0m\u001b[0;34m,\u001b[0m \u001b[0maxis\u001b[0m\u001b[0;34m,\u001b[0m \u001b[0mlevel\u001b[0m\u001b[0;34m=\u001b[0m\u001b[0mlevel\u001b[0m\u001b[0;34m,\u001b[0m \u001b[0merrors\u001b[0m\u001b[0;34m=\u001b[0m\u001b[0merrors\u001b[0m\u001b[0;34m)\u001b[0m\u001b[0;34m\u001b[0m\u001b[0;34m\u001b[0m\u001b[0m\n\u001b[0m\u001b[1;32m   4151\u001b[0m \u001b[0;34m\u001b[0m\u001b[0m\n\u001b[1;32m   4152\u001b[0m         \u001b[0;32mif\u001b[0m \u001b[0minplace\u001b[0m\u001b[0;34m:\u001b[0m\u001b[0;34m\u001b[0m\u001b[0;34m\u001b[0m\u001b[0m\n",
            "\u001b[0;32m/usr/local/lib/python3.8/dist-packages/pandas/core/generic.py\u001b[0m in \u001b[0;36m_drop_axis\u001b[0;34m(self, labels, axis, level, errors)\u001b[0m\n\u001b[1;32m   4183\u001b[0m                 \u001b[0mnew_axis\u001b[0m \u001b[0;34m=\u001b[0m \u001b[0maxis\u001b[0m\u001b[0;34m.\u001b[0m\u001b[0mdrop\u001b[0m\u001b[0;34m(\u001b[0m\u001b[0mlabels\u001b[0m\u001b[0;34m,\u001b[0m \u001b[0mlevel\u001b[0m\u001b[0;34m=\u001b[0m\u001b[0mlevel\u001b[0m\u001b[0;34m,\u001b[0m \u001b[0merrors\u001b[0m\u001b[0;34m=\u001b[0m\u001b[0merrors\u001b[0m\u001b[0;34m)\u001b[0m\u001b[0;34m\u001b[0m\u001b[0;34m\u001b[0m\u001b[0m\n\u001b[1;32m   4184\u001b[0m             \u001b[0;32melse\u001b[0m\u001b[0;34m:\u001b[0m\u001b[0;34m\u001b[0m\u001b[0;34m\u001b[0m\u001b[0m\n\u001b[0;32m-> 4185\u001b[0;31m                 \u001b[0mnew_axis\u001b[0m \u001b[0;34m=\u001b[0m \u001b[0maxis\u001b[0m\u001b[0;34m.\u001b[0m\u001b[0mdrop\u001b[0m\u001b[0;34m(\u001b[0m\u001b[0mlabels\u001b[0m\u001b[0;34m,\u001b[0m \u001b[0merrors\u001b[0m\u001b[0;34m=\u001b[0m\u001b[0merrors\u001b[0m\u001b[0;34m)\u001b[0m\u001b[0;34m\u001b[0m\u001b[0;34m\u001b[0m\u001b[0m\n\u001b[0m\u001b[1;32m   4186\u001b[0m             \u001b[0mresult\u001b[0m \u001b[0;34m=\u001b[0m \u001b[0mself\u001b[0m\u001b[0;34m.\u001b[0m\u001b[0mreindex\u001b[0m\u001b[0;34m(\u001b[0m\u001b[0;34m**\u001b[0m\u001b[0;34m{\u001b[0m\u001b[0maxis_name\u001b[0m\u001b[0;34m:\u001b[0m \u001b[0mnew_axis\u001b[0m\u001b[0;34m}\u001b[0m\u001b[0;34m)\u001b[0m\u001b[0;34m\u001b[0m\u001b[0;34m\u001b[0m\u001b[0m\n\u001b[1;32m   4187\u001b[0m \u001b[0;34m\u001b[0m\u001b[0m\n",
            "\u001b[0;32m/usr/local/lib/python3.8/dist-packages/pandas/core/indexes/base.py\u001b[0m in \u001b[0;36mdrop\u001b[0;34m(self, labels, errors)\u001b[0m\n\u001b[1;32m   6015\u001b[0m         \u001b[0;32mif\u001b[0m \u001b[0mmask\u001b[0m\u001b[0;34m.\u001b[0m\u001b[0many\u001b[0m\u001b[0;34m(\u001b[0m\u001b[0;34m)\u001b[0m\u001b[0;34m:\u001b[0m\u001b[0;34m\u001b[0m\u001b[0;34m\u001b[0m\u001b[0m\n\u001b[1;32m   6016\u001b[0m             \u001b[0;32mif\u001b[0m \u001b[0merrors\u001b[0m \u001b[0;34m!=\u001b[0m \u001b[0;34m\"ignore\"\u001b[0m\u001b[0;34m:\u001b[0m\u001b[0;34m\u001b[0m\u001b[0;34m\u001b[0m\u001b[0m\n\u001b[0;32m-> 6017\u001b[0;31m                 \u001b[0;32mraise\u001b[0m \u001b[0mKeyError\u001b[0m\u001b[0;34m(\u001b[0m\u001b[0;34mf\"{labels[mask]} not found in axis\"\u001b[0m\u001b[0;34m)\u001b[0m\u001b[0;34m\u001b[0m\u001b[0;34m\u001b[0m\u001b[0m\n\u001b[0m\u001b[1;32m   6018\u001b[0m             \u001b[0mindexer\u001b[0m \u001b[0;34m=\u001b[0m \u001b[0mindexer\u001b[0m\u001b[0;34m[\u001b[0m\u001b[0;34m~\u001b[0m\u001b[0mmask\u001b[0m\u001b[0;34m]\u001b[0m\u001b[0;34m\u001b[0m\u001b[0;34m\u001b[0m\u001b[0m\n\u001b[1;32m   6019\u001b[0m         \u001b[0;32mreturn\u001b[0m \u001b[0mself\u001b[0m\u001b[0;34m.\u001b[0m\u001b[0mdelete\u001b[0m\u001b[0;34m(\u001b[0m\u001b[0mindexer\u001b[0m\u001b[0;34m)\u001b[0m\u001b[0;34m\u001b[0m\u001b[0;34m\u001b[0m\u001b[0m\n",
            "\u001b[0;31mKeyError\u001b[0m: \"['device_type' 'resume'] not found in axis\""
          ]
        }
      ]
    },
    {
      "cell_type": "code",
      "source": [
        "df_metadatos_mini = df_metadatos[['asset_id', 'content_id','title','run_time_min','start_vod_date','end_vod_date']].copy()"
      ],
      "metadata": {
        "id": "bspqPAGvRWf8"
      },
      "execution_count": 84,
      "outputs": []
    },
    {
      "cell_type": "markdown",
      "source": [
        "Mergeamos los dos datasets a partir del campo asset_id"
      ],
      "metadata": {
        "id": "ep-Mc_M-qkLu"
      }
    },
    {
      "cell_type": "code",
      "source": [
        "df_map = df_train.merge(df_metadatos_mini, how=\"left\", left_on=\"asset_id\", right_on=\"asset_id\")\n",
        "df_map.head()"
      ],
      "metadata": {
        "colab": {
          "base_uri": "https://localhost:8080/",
          "height": 583
        },
        "id": "GTgBh6tLTHj1",
        "outputId": "c9d0b581-a1e8-4611-cd0f-757d022d858d"
      },
      "execution_count": 85,
      "outputs": [
        {
          "output_type": "execute_result",
          "data": {
            "text/plain": [
              "   customer_id  account_id  asset_id                 tunein  \\\n",
              "0            0       90627   18332.0  2021-02-18 22:52:00.0   \n",
              "1            0       90627   24727.0  2021-03-24 23:17:00.0   \n",
              "2            1        3387     895.0  2021-03-15 10:05:00.0   \n",
              "3            1        3387     895.0  2021-03-15 10:23:00.0   \n",
              "4            1        3387   26062.0  2021-03-16 09:24:00.0   \n",
              "\n",
              "                 tuneout  timestamp  minutos                from  \\\n",
              "0  2021-02-18 23:35:00.0 2021-02-18     43.0 2021-02-18 22:52:00   \n",
              "1  2021-03-25 00:01:00.0 2021-03-24     44.0 2021-03-24 23:17:00   \n",
              "2  2021-03-15 10:23:00.0 2021-03-15     18.0 2021-03-15 10:05:00   \n",
              "3  2021-03-15 11:18:00.0 2021-03-15     55.0 2021-03-15 10:23:00   \n",
              "4  2021-03-16 09:44:00.0 2021-03-16     20.0 2021-03-16 09:24:00   \n",
              "\n",
              "                   to       resultado  content_id                      title  \\\n",
              "0 2021-02-18 23:35:00 0 days 00:43:00      2040.0       T:5 Ep:08 This is Us   \n",
              "1 2021-03-25 00:01:00 0 days 00:44:00      2040.0       T:5 Ep:10 This is Us   \n",
              "2 2021-03-15 10:23:00 0 days 00:18:00      1983.0  T:1 Ep:02 Big Little Lies   \n",
              "3 2021-03-15 11:18:00 0 days 00:55:00      1983.0  T:1 Ep:02 Big Little Lies   \n",
              "4 2021-03-16 09:44:00 0 days 00:20:00       729.0   T:1 Ep:02 Dime quién soy   \n",
              "\n",
              "   run_time_min          start_vod_date            end_vod_date  \n",
              "0          43.0  2021-02-18T00:00:00.0Z  2021-06-30T23:59:59.0Z  \n",
              "1          42.0  2021-03-18T00:00:00.0Z  2021-06-30T23:59:59.0Z  \n",
              "2          54.0  2021-03-08T00:00:00.0Z  2021-03-28T23:59:00.0Z  \n",
              "3          54.0  2021-03-08T00:00:00.0Z  2021-03-28T23:59:00.0Z  \n",
              "4          49.0  2021-03-08T00:00:00.0Z  2021-03-28T23:59:00.0Z  "
            ],
            "text/html": [
              "\n",
              "  <div id=\"df-561d33e6-56f3-42e0-83f9-e618b8a0cb28\">\n",
              "    <div class=\"colab-df-container\">\n",
              "      <div>\n",
              "<style scoped>\n",
              "    .dataframe tbody tr th:only-of-type {\n",
              "        vertical-align: middle;\n",
              "    }\n",
              "\n",
              "    .dataframe tbody tr th {\n",
              "        vertical-align: top;\n",
              "    }\n",
              "\n",
              "    .dataframe thead th {\n",
              "        text-align: right;\n",
              "    }\n",
              "</style>\n",
              "<table border=\"1\" class=\"dataframe\">\n",
              "  <thead>\n",
              "    <tr style=\"text-align: right;\">\n",
              "      <th></th>\n",
              "      <th>customer_id</th>\n",
              "      <th>account_id</th>\n",
              "      <th>asset_id</th>\n",
              "      <th>tunein</th>\n",
              "      <th>tuneout</th>\n",
              "      <th>timestamp</th>\n",
              "      <th>minutos</th>\n",
              "      <th>from</th>\n",
              "      <th>to</th>\n",
              "      <th>resultado</th>\n",
              "      <th>content_id</th>\n",
              "      <th>title</th>\n",
              "      <th>run_time_min</th>\n",
              "      <th>start_vod_date</th>\n",
              "      <th>end_vod_date</th>\n",
              "    </tr>\n",
              "  </thead>\n",
              "  <tbody>\n",
              "    <tr>\n",
              "      <th>0</th>\n",
              "      <td>0</td>\n",
              "      <td>90627</td>\n",
              "      <td>18332.0</td>\n",
              "      <td>2021-02-18 22:52:00.0</td>\n",
              "      <td>2021-02-18 23:35:00.0</td>\n",
              "      <td>2021-02-18</td>\n",
              "      <td>43.0</td>\n",
              "      <td>2021-02-18 22:52:00</td>\n",
              "      <td>2021-02-18 23:35:00</td>\n",
              "      <td>0 days 00:43:00</td>\n",
              "      <td>2040.0</td>\n",
              "      <td>T:5 Ep:08 This is Us</td>\n",
              "      <td>43.0</td>\n",
              "      <td>2021-02-18T00:00:00.0Z</td>\n",
              "      <td>2021-06-30T23:59:59.0Z</td>\n",
              "    </tr>\n",
              "    <tr>\n",
              "      <th>1</th>\n",
              "      <td>0</td>\n",
              "      <td>90627</td>\n",
              "      <td>24727.0</td>\n",
              "      <td>2021-03-24 23:17:00.0</td>\n",
              "      <td>2021-03-25 00:01:00.0</td>\n",
              "      <td>2021-03-24</td>\n",
              "      <td>44.0</td>\n",
              "      <td>2021-03-24 23:17:00</td>\n",
              "      <td>2021-03-25 00:01:00</td>\n",
              "      <td>0 days 00:44:00</td>\n",
              "      <td>2040.0</td>\n",
              "      <td>T:5 Ep:10 This is Us</td>\n",
              "      <td>42.0</td>\n",
              "      <td>2021-03-18T00:00:00.0Z</td>\n",
              "      <td>2021-06-30T23:59:59.0Z</td>\n",
              "    </tr>\n",
              "    <tr>\n",
              "      <th>2</th>\n",
              "      <td>1</td>\n",
              "      <td>3387</td>\n",
              "      <td>895.0</td>\n",
              "      <td>2021-03-15 10:05:00.0</td>\n",
              "      <td>2021-03-15 10:23:00.0</td>\n",
              "      <td>2021-03-15</td>\n",
              "      <td>18.0</td>\n",
              "      <td>2021-03-15 10:05:00</td>\n",
              "      <td>2021-03-15 10:23:00</td>\n",
              "      <td>0 days 00:18:00</td>\n",
              "      <td>1983.0</td>\n",
              "      <td>T:1 Ep:02 Big Little Lies</td>\n",
              "      <td>54.0</td>\n",
              "      <td>2021-03-08T00:00:00.0Z</td>\n",
              "      <td>2021-03-28T23:59:00.0Z</td>\n",
              "    </tr>\n",
              "    <tr>\n",
              "      <th>3</th>\n",
              "      <td>1</td>\n",
              "      <td>3387</td>\n",
              "      <td>895.0</td>\n",
              "      <td>2021-03-15 10:23:00.0</td>\n",
              "      <td>2021-03-15 11:18:00.0</td>\n",
              "      <td>2021-03-15</td>\n",
              "      <td>55.0</td>\n",
              "      <td>2021-03-15 10:23:00</td>\n",
              "      <td>2021-03-15 11:18:00</td>\n",
              "      <td>0 days 00:55:00</td>\n",
              "      <td>1983.0</td>\n",
              "      <td>T:1 Ep:02 Big Little Lies</td>\n",
              "      <td>54.0</td>\n",
              "      <td>2021-03-08T00:00:00.0Z</td>\n",
              "      <td>2021-03-28T23:59:00.0Z</td>\n",
              "    </tr>\n",
              "    <tr>\n",
              "      <th>4</th>\n",
              "      <td>1</td>\n",
              "      <td>3387</td>\n",
              "      <td>26062.0</td>\n",
              "      <td>2021-03-16 09:24:00.0</td>\n",
              "      <td>2021-03-16 09:44:00.0</td>\n",
              "      <td>2021-03-16</td>\n",
              "      <td>20.0</td>\n",
              "      <td>2021-03-16 09:24:00</td>\n",
              "      <td>2021-03-16 09:44:00</td>\n",
              "      <td>0 days 00:20:00</td>\n",
              "      <td>729.0</td>\n",
              "      <td>T:1 Ep:02 Dime quién soy</td>\n",
              "      <td>49.0</td>\n",
              "      <td>2021-03-08T00:00:00.0Z</td>\n",
              "      <td>2021-03-28T23:59:00.0Z</td>\n",
              "    </tr>\n",
              "  </tbody>\n",
              "</table>\n",
              "</div>\n",
              "      <button class=\"colab-df-convert\" onclick=\"convertToInteractive('df-561d33e6-56f3-42e0-83f9-e618b8a0cb28')\"\n",
              "              title=\"Convert this dataframe to an interactive table.\"\n",
              "              style=\"display:none;\">\n",
              "        \n",
              "  <svg xmlns=\"http://www.w3.org/2000/svg\" height=\"24px\"viewBox=\"0 0 24 24\"\n",
              "       width=\"24px\">\n",
              "    <path d=\"M0 0h24v24H0V0z\" fill=\"none\"/>\n",
              "    <path d=\"M18.56 5.44l.94 2.06.94-2.06 2.06-.94-2.06-.94-.94-2.06-.94 2.06-2.06.94zm-11 1L8.5 8.5l.94-2.06 2.06-.94-2.06-.94L8.5 2.5l-.94 2.06-2.06.94zm10 10l.94 2.06.94-2.06 2.06-.94-2.06-.94-.94-2.06-.94 2.06-2.06.94z\"/><path d=\"M17.41 7.96l-1.37-1.37c-.4-.4-.92-.59-1.43-.59-.52 0-1.04.2-1.43.59L10.3 9.45l-7.72 7.72c-.78.78-.78 2.05 0 2.83L4 21.41c.39.39.9.59 1.41.59.51 0 1.02-.2 1.41-.59l7.78-7.78 2.81-2.81c.8-.78.8-2.07 0-2.86zM5.41 20L4 18.59l7.72-7.72 1.47 1.35L5.41 20z\"/>\n",
              "  </svg>\n",
              "      </button>\n",
              "      \n",
              "  <style>\n",
              "    .colab-df-container {\n",
              "      display:flex;\n",
              "      flex-wrap:wrap;\n",
              "      gap: 12px;\n",
              "    }\n",
              "\n",
              "    .colab-df-convert {\n",
              "      background-color: #E8F0FE;\n",
              "      border: none;\n",
              "      border-radius: 50%;\n",
              "      cursor: pointer;\n",
              "      display: none;\n",
              "      fill: #1967D2;\n",
              "      height: 32px;\n",
              "      padding: 0 0 0 0;\n",
              "      width: 32px;\n",
              "    }\n",
              "\n",
              "    .colab-df-convert:hover {\n",
              "      background-color: #E2EBFA;\n",
              "      box-shadow: 0px 1px 2px rgba(60, 64, 67, 0.3), 0px 1px 3px 1px rgba(60, 64, 67, 0.15);\n",
              "      fill: #174EA6;\n",
              "    }\n",
              "\n",
              "    [theme=dark] .colab-df-convert {\n",
              "      background-color: #3B4455;\n",
              "      fill: #D2E3FC;\n",
              "    }\n",
              "\n",
              "    [theme=dark] .colab-df-convert:hover {\n",
              "      background-color: #434B5C;\n",
              "      box-shadow: 0px 1px 3px 1px rgba(0, 0, 0, 0.15);\n",
              "      filter: drop-shadow(0px 1px 2px rgba(0, 0, 0, 0.3));\n",
              "      fill: #FFFFFF;\n",
              "    }\n",
              "  </style>\n",
              "\n",
              "      <script>\n",
              "        const buttonEl =\n",
              "          document.querySelector('#df-561d33e6-56f3-42e0-83f9-e618b8a0cb28 button.colab-df-convert');\n",
              "        buttonEl.style.display =\n",
              "          google.colab.kernel.accessAllowed ? 'block' : 'none';\n",
              "\n",
              "        async function convertToInteractive(key) {\n",
              "          const element = document.querySelector('#df-561d33e6-56f3-42e0-83f9-e618b8a0cb28');\n",
              "          const dataTable =\n",
              "            await google.colab.kernel.invokeFunction('convertToInteractive',\n",
              "                                                     [key], {});\n",
              "          if (!dataTable) return;\n",
              "\n",
              "          const docLinkHtml = 'Like what you see? Visit the ' +\n",
              "            '<a target=\"_blank\" href=https://colab.research.google.com/notebooks/data_table.ipynb>data table notebook</a>'\n",
              "            + ' to learn more about interactive tables.';\n",
              "          element.innerHTML = '';\n",
              "          dataTable['output_type'] = 'display_data';\n",
              "          await google.colab.output.renderOutput(dataTable, element);\n",
              "          const docLink = document.createElement('div');\n",
              "          docLink.innerHTML = docLinkHtml;\n",
              "          element.appendChild(docLink);\n",
              "        }\n",
              "      </script>\n",
              "    </div>\n",
              "  </div>\n",
              "  "
            ]
          },
          "metadata": {},
          "execution_count": 85
        }
      ]
    },
    {
      "cell_type": "code",
      "source": [
        "df_map['minutos_vistos'] = df_map['run_time_min'] - df_map['minutos']"
      ],
      "metadata": {
        "id": "u8z1ZiWTTwOF"
      },
      "execution_count": 86,
      "outputs": []
    },
    {
      "cell_type": "code",
      "source": [
        "df_map['porcentaje_visto'] = df_map['minutos'] * 100 / df_map['run_time_min']\n"
      ],
      "metadata": {
        "id": "myV1_h9kVsRP"
      },
      "execution_count": 88,
      "outputs": []
    },
    {
      "cell_type": "code",
      "source": [
        "df_map[df_map['minutos_vistos'] < 0].count()[1]"
      ],
      "metadata": {
        "colab": {
          "base_uri": "https://localhost:8080/"
        },
        "id": "wPFa2o_5UFxl",
        "outputId": "a2b2b263-011e-4c84-90f9-e1000fb80841"
      },
      "execution_count": 89,
      "outputs": [
        {
          "output_type": "execute_result",
          "data": {
            "text/plain": [
              "535905"
            ]
          },
          "metadata": {},
          "execution_count": 89
        }
      ]
    },
    {
      "cell_type": "code",
      "source": [
        "df_map[df_map['minutos_vistos'] < 0].count()[1] * 100 / df_map.shape[0]"
      ],
      "metadata": {
        "colab": {
          "base_uri": "https://localhost:8080/"
        },
        "id": "32gChXR7UiKW",
        "outputId": "f4ee90da-3fd8-49a9-f72a-92ae5e92cbc2"
      },
      "execution_count": 90,
      "outputs": [
        {
          "output_type": "execute_result",
          "data": {
            "text/plain": [
              "14.651015733223321"
            ]
          },
          "metadata": {},
          "execution_count": 90
        }
      ]
    },
    {
      "cell_type": "markdown",
      "source": [
        "Creando el rating"
      ],
      "metadata": {
        "id": "SxC3NsT2Ux2C"
      }
    },
    {
      "cell_type": "code",
      "source": [
        "df_map['rating'] = df_map['porcentaje_visto'].apply(lambda x : 1 if x >= 50 else 0)\n",
        "df_map.head()"
      ],
      "metadata": {
        "colab": {
          "base_uri": "https://localhost:8080/",
          "height": 583
        },
        "id": "cPEXaJejU6US",
        "outputId": "75d28f08-6a8a-45b4-e656-4fc1dde8626e"
      },
      "execution_count": 91,
      "outputs": [
        {
          "output_type": "execute_result",
          "data": {
            "text/plain": [
              "   customer_id  account_id  asset_id                 tunein  \\\n",
              "0            0       90627   18332.0  2021-02-18 22:52:00.0   \n",
              "1            0       90627   24727.0  2021-03-24 23:17:00.0   \n",
              "2            1        3387     895.0  2021-03-15 10:05:00.0   \n",
              "3            1        3387     895.0  2021-03-15 10:23:00.0   \n",
              "4            1        3387   26062.0  2021-03-16 09:24:00.0   \n",
              "\n",
              "                 tuneout  timestamp  minutos                from  \\\n",
              "0  2021-02-18 23:35:00.0 2021-02-18     43.0 2021-02-18 22:52:00   \n",
              "1  2021-03-25 00:01:00.0 2021-03-24     44.0 2021-03-24 23:17:00   \n",
              "2  2021-03-15 10:23:00.0 2021-03-15     18.0 2021-03-15 10:05:00   \n",
              "3  2021-03-15 11:18:00.0 2021-03-15     55.0 2021-03-15 10:23:00   \n",
              "4  2021-03-16 09:44:00.0 2021-03-16     20.0 2021-03-16 09:24:00   \n",
              "\n",
              "                   to       resultado  content_id                      title  \\\n",
              "0 2021-02-18 23:35:00 0 days 00:43:00      2040.0       T:5 Ep:08 This is Us   \n",
              "1 2021-03-25 00:01:00 0 days 00:44:00      2040.0       T:5 Ep:10 This is Us   \n",
              "2 2021-03-15 10:23:00 0 days 00:18:00      1983.0  T:1 Ep:02 Big Little Lies   \n",
              "3 2021-03-15 11:18:00 0 days 00:55:00      1983.0  T:1 Ep:02 Big Little Lies   \n",
              "4 2021-03-16 09:44:00 0 days 00:20:00       729.0   T:1 Ep:02 Dime quién soy   \n",
              "\n",
              "   run_time_min          start_vod_date            end_vod_date  \\\n",
              "0          43.0  2021-02-18T00:00:00.0Z  2021-06-30T23:59:59.0Z   \n",
              "1          42.0  2021-03-18T00:00:00.0Z  2021-06-30T23:59:59.0Z   \n",
              "2          54.0  2021-03-08T00:00:00.0Z  2021-03-28T23:59:00.0Z   \n",
              "3          54.0  2021-03-08T00:00:00.0Z  2021-03-28T23:59:00.0Z   \n",
              "4          49.0  2021-03-08T00:00:00.0Z  2021-03-28T23:59:00.0Z   \n",
              "\n",
              "   minutos_vistos  porcentaje_visto  rating  \n",
              "0             0.0        100.000000       1  \n",
              "1            -2.0        104.761905       1  \n",
              "2            36.0         33.333333       0  \n",
              "3            -1.0        101.851852       1  \n",
              "4            29.0         40.816327       0  "
            ],
            "text/html": [
              "\n",
              "  <div id=\"df-040c5bab-79ba-48c2-a71b-0ef60e1bef72\">\n",
              "    <div class=\"colab-df-container\">\n",
              "      <div>\n",
              "<style scoped>\n",
              "    .dataframe tbody tr th:only-of-type {\n",
              "        vertical-align: middle;\n",
              "    }\n",
              "\n",
              "    .dataframe tbody tr th {\n",
              "        vertical-align: top;\n",
              "    }\n",
              "\n",
              "    .dataframe thead th {\n",
              "        text-align: right;\n",
              "    }\n",
              "</style>\n",
              "<table border=\"1\" class=\"dataframe\">\n",
              "  <thead>\n",
              "    <tr style=\"text-align: right;\">\n",
              "      <th></th>\n",
              "      <th>customer_id</th>\n",
              "      <th>account_id</th>\n",
              "      <th>asset_id</th>\n",
              "      <th>tunein</th>\n",
              "      <th>tuneout</th>\n",
              "      <th>timestamp</th>\n",
              "      <th>minutos</th>\n",
              "      <th>from</th>\n",
              "      <th>to</th>\n",
              "      <th>resultado</th>\n",
              "      <th>content_id</th>\n",
              "      <th>title</th>\n",
              "      <th>run_time_min</th>\n",
              "      <th>start_vod_date</th>\n",
              "      <th>end_vod_date</th>\n",
              "      <th>minutos_vistos</th>\n",
              "      <th>porcentaje_visto</th>\n",
              "      <th>rating</th>\n",
              "    </tr>\n",
              "  </thead>\n",
              "  <tbody>\n",
              "    <tr>\n",
              "      <th>0</th>\n",
              "      <td>0</td>\n",
              "      <td>90627</td>\n",
              "      <td>18332.0</td>\n",
              "      <td>2021-02-18 22:52:00.0</td>\n",
              "      <td>2021-02-18 23:35:00.0</td>\n",
              "      <td>2021-02-18</td>\n",
              "      <td>43.0</td>\n",
              "      <td>2021-02-18 22:52:00</td>\n",
              "      <td>2021-02-18 23:35:00</td>\n",
              "      <td>0 days 00:43:00</td>\n",
              "      <td>2040.0</td>\n",
              "      <td>T:5 Ep:08 This is Us</td>\n",
              "      <td>43.0</td>\n",
              "      <td>2021-02-18T00:00:00.0Z</td>\n",
              "      <td>2021-06-30T23:59:59.0Z</td>\n",
              "      <td>0.0</td>\n",
              "      <td>100.000000</td>\n",
              "      <td>1</td>\n",
              "    </tr>\n",
              "    <tr>\n",
              "      <th>1</th>\n",
              "      <td>0</td>\n",
              "      <td>90627</td>\n",
              "      <td>24727.0</td>\n",
              "      <td>2021-03-24 23:17:00.0</td>\n",
              "      <td>2021-03-25 00:01:00.0</td>\n",
              "      <td>2021-03-24</td>\n",
              "      <td>44.0</td>\n",
              "      <td>2021-03-24 23:17:00</td>\n",
              "      <td>2021-03-25 00:01:00</td>\n",
              "      <td>0 days 00:44:00</td>\n",
              "      <td>2040.0</td>\n",
              "      <td>T:5 Ep:10 This is Us</td>\n",
              "      <td>42.0</td>\n",
              "      <td>2021-03-18T00:00:00.0Z</td>\n",
              "      <td>2021-06-30T23:59:59.0Z</td>\n",
              "      <td>-2.0</td>\n",
              "      <td>104.761905</td>\n",
              "      <td>1</td>\n",
              "    </tr>\n",
              "    <tr>\n",
              "      <th>2</th>\n",
              "      <td>1</td>\n",
              "      <td>3387</td>\n",
              "      <td>895.0</td>\n",
              "      <td>2021-03-15 10:05:00.0</td>\n",
              "      <td>2021-03-15 10:23:00.0</td>\n",
              "      <td>2021-03-15</td>\n",
              "      <td>18.0</td>\n",
              "      <td>2021-03-15 10:05:00</td>\n",
              "      <td>2021-03-15 10:23:00</td>\n",
              "      <td>0 days 00:18:00</td>\n",
              "      <td>1983.0</td>\n",
              "      <td>T:1 Ep:02 Big Little Lies</td>\n",
              "      <td>54.0</td>\n",
              "      <td>2021-03-08T00:00:00.0Z</td>\n",
              "      <td>2021-03-28T23:59:00.0Z</td>\n",
              "      <td>36.0</td>\n",
              "      <td>33.333333</td>\n",
              "      <td>0</td>\n",
              "    </tr>\n",
              "    <tr>\n",
              "      <th>3</th>\n",
              "      <td>1</td>\n",
              "      <td>3387</td>\n",
              "      <td>895.0</td>\n",
              "      <td>2021-03-15 10:23:00.0</td>\n",
              "      <td>2021-03-15 11:18:00.0</td>\n",
              "      <td>2021-03-15</td>\n",
              "      <td>55.0</td>\n",
              "      <td>2021-03-15 10:23:00</td>\n",
              "      <td>2021-03-15 11:18:00</td>\n",
              "      <td>0 days 00:55:00</td>\n",
              "      <td>1983.0</td>\n",
              "      <td>T:1 Ep:02 Big Little Lies</td>\n",
              "      <td>54.0</td>\n",
              "      <td>2021-03-08T00:00:00.0Z</td>\n",
              "      <td>2021-03-28T23:59:00.0Z</td>\n",
              "      <td>-1.0</td>\n",
              "      <td>101.851852</td>\n",
              "      <td>1</td>\n",
              "    </tr>\n",
              "    <tr>\n",
              "      <th>4</th>\n",
              "      <td>1</td>\n",
              "      <td>3387</td>\n",
              "      <td>26062.0</td>\n",
              "      <td>2021-03-16 09:24:00.0</td>\n",
              "      <td>2021-03-16 09:44:00.0</td>\n",
              "      <td>2021-03-16</td>\n",
              "      <td>20.0</td>\n",
              "      <td>2021-03-16 09:24:00</td>\n",
              "      <td>2021-03-16 09:44:00</td>\n",
              "      <td>0 days 00:20:00</td>\n",
              "      <td>729.0</td>\n",
              "      <td>T:1 Ep:02 Dime quién soy</td>\n",
              "      <td>49.0</td>\n",
              "      <td>2021-03-08T00:00:00.0Z</td>\n",
              "      <td>2021-03-28T23:59:00.0Z</td>\n",
              "      <td>29.0</td>\n",
              "      <td>40.816327</td>\n",
              "      <td>0</td>\n",
              "    </tr>\n",
              "  </tbody>\n",
              "</table>\n",
              "</div>\n",
              "      <button class=\"colab-df-convert\" onclick=\"convertToInteractive('df-040c5bab-79ba-48c2-a71b-0ef60e1bef72')\"\n",
              "              title=\"Convert this dataframe to an interactive table.\"\n",
              "              style=\"display:none;\">\n",
              "        \n",
              "  <svg xmlns=\"http://www.w3.org/2000/svg\" height=\"24px\"viewBox=\"0 0 24 24\"\n",
              "       width=\"24px\">\n",
              "    <path d=\"M0 0h24v24H0V0z\" fill=\"none\"/>\n",
              "    <path d=\"M18.56 5.44l.94 2.06.94-2.06 2.06-.94-2.06-.94-.94-2.06-.94 2.06-2.06.94zm-11 1L8.5 8.5l.94-2.06 2.06-.94-2.06-.94L8.5 2.5l-.94 2.06-2.06.94zm10 10l.94 2.06.94-2.06 2.06-.94-2.06-.94-.94-2.06-.94 2.06-2.06.94z\"/><path d=\"M17.41 7.96l-1.37-1.37c-.4-.4-.92-.59-1.43-.59-.52 0-1.04.2-1.43.59L10.3 9.45l-7.72 7.72c-.78.78-.78 2.05 0 2.83L4 21.41c.39.39.9.59 1.41.59.51 0 1.02-.2 1.41-.59l7.78-7.78 2.81-2.81c.8-.78.8-2.07 0-2.86zM5.41 20L4 18.59l7.72-7.72 1.47 1.35L5.41 20z\"/>\n",
              "  </svg>\n",
              "      </button>\n",
              "      \n",
              "  <style>\n",
              "    .colab-df-container {\n",
              "      display:flex;\n",
              "      flex-wrap:wrap;\n",
              "      gap: 12px;\n",
              "    }\n",
              "\n",
              "    .colab-df-convert {\n",
              "      background-color: #E8F0FE;\n",
              "      border: none;\n",
              "      border-radius: 50%;\n",
              "      cursor: pointer;\n",
              "      display: none;\n",
              "      fill: #1967D2;\n",
              "      height: 32px;\n",
              "      padding: 0 0 0 0;\n",
              "      width: 32px;\n",
              "    }\n",
              "\n",
              "    .colab-df-convert:hover {\n",
              "      background-color: #E2EBFA;\n",
              "      box-shadow: 0px 1px 2px rgba(60, 64, 67, 0.3), 0px 1px 3px 1px rgba(60, 64, 67, 0.15);\n",
              "      fill: #174EA6;\n",
              "    }\n",
              "\n",
              "    [theme=dark] .colab-df-convert {\n",
              "      background-color: #3B4455;\n",
              "      fill: #D2E3FC;\n",
              "    }\n",
              "\n",
              "    [theme=dark] .colab-df-convert:hover {\n",
              "      background-color: #434B5C;\n",
              "      box-shadow: 0px 1px 3px 1px rgba(0, 0, 0, 0.15);\n",
              "      filter: drop-shadow(0px 1px 2px rgba(0, 0, 0, 0.3));\n",
              "      fill: #FFFFFF;\n",
              "    }\n",
              "  </style>\n",
              "\n",
              "      <script>\n",
              "        const buttonEl =\n",
              "          document.querySelector('#df-040c5bab-79ba-48c2-a71b-0ef60e1bef72 button.colab-df-convert');\n",
              "        buttonEl.style.display =\n",
              "          google.colab.kernel.accessAllowed ? 'block' : 'none';\n",
              "\n",
              "        async function convertToInteractive(key) {\n",
              "          const element = document.querySelector('#df-040c5bab-79ba-48c2-a71b-0ef60e1bef72');\n",
              "          const dataTable =\n",
              "            await google.colab.kernel.invokeFunction('convertToInteractive',\n",
              "                                                     [key], {});\n",
              "          if (!dataTable) return;\n",
              "\n",
              "          const docLinkHtml = 'Like what you see? Visit the ' +\n",
              "            '<a target=\"_blank\" href=https://colab.research.google.com/notebooks/data_table.ipynb>data table notebook</a>'\n",
              "            + ' to learn more about interactive tables.';\n",
              "          element.innerHTML = '';\n",
              "          dataTable['output_type'] = 'display_data';\n",
              "          await google.colab.output.renderOutput(dataTable, element);\n",
              "          const docLink = document.createElement('div');\n",
              "          docLink.innerHTML = docLinkHtml;\n",
              "          element.appendChild(docLink);\n",
              "        }\n",
              "      </script>\n",
              "    </div>\n",
              "  </div>\n",
              "  "
            ]
          },
          "metadata": {},
          "execution_count": 91
        }
      ]
    },
    {
      "cell_type": "markdown",
      "source": [
        "Train y Test"
      ],
      "metadata": {
        "id": "hiOssYes_cbw"
      }
    },
    {
      "cell_type": "code",
      "source": [
        "ratings = df_map.copy()\n",
        "ratings.head()"
      ],
      "metadata": {
        "colab": {
          "base_uri": "https://localhost:8080/",
          "height": 583
        },
        "id": "QSo5fyNj_33H",
        "outputId": "09e43079-ddaf-4d73-dec8-c96bb181b07c"
      },
      "execution_count": 103,
      "outputs": [
        {
          "output_type": "execute_result",
          "data": {
            "text/plain": [
              "   customer_id  account_id  asset_id                 tunein  \\\n",
              "0            0       90627   18332.0  2021-02-18 22:52:00.0   \n",
              "1            0       90627   24727.0  2021-03-24 23:17:00.0   \n",
              "2            1        3387     895.0  2021-03-15 10:05:00.0   \n",
              "3            1        3387     895.0  2021-03-15 10:23:00.0   \n",
              "4            1        3387   26062.0  2021-03-16 09:24:00.0   \n",
              "\n",
              "                 tuneout  timestamp  minutos                from  \\\n",
              "0  2021-02-18 23:35:00.0 2021-02-18     43.0 2021-02-18 22:52:00   \n",
              "1  2021-03-25 00:01:00.0 2021-03-24     44.0 2021-03-24 23:17:00   \n",
              "2  2021-03-15 10:23:00.0 2021-03-15     18.0 2021-03-15 10:05:00   \n",
              "3  2021-03-15 11:18:00.0 2021-03-15     55.0 2021-03-15 10:23:00   \n",
              "4  2021-03-16 09:44:00.0 2021-03-16     20.0 2021-03-16 09:24:00   \n",
              "\n",
              "                   to       resultado  content_id                      title  \\\n",
              "0 2021-02-18 23:35:00 0 days 00:43:00      2040.0       T:5 Ep:08 This is Us   \n",
              "1 2021-03-25 00:01:00 0 days 00:44:00      2040.0       T:5 Ep:10 This is Us   \n",
              "2 2021-03-15 10:23:00 0 days 00:18:00      1983.0  T:1 Ep:02 Big Little Lies   \n",
              "3 2021-03-15 11:18:00 0 days 00:55:00      1983.0  T:1 Ep:02 Big Little Lies   \n",
              "4 2021-03-16 09:44:00 0 days 00:20:00       729.0   T:1 Ep:02 Dime quién soy   \n",
              "\n",
              "   run_time_min          start_vod_date            end_vod_date  \\\n",
              "0          43.0  2021-02-18T00:00:00.0Z  2021-06-30T23:59:59.0Z   \n",
              "1          42.0  2021-03-18T00:00:00.0Z  2021-06-30T23:59:59.0Z   \n",
              "2          54.0  2021-03-08T00:00:00.0Z  2021-03-28T23:59:00.0Z   \n",
              "3          54.0  2021-03-08T00:00:00.0Z  2021-03-28T23:59:00.0Z   \n",
              "4          49.0  2021-03-08T00:00:00.0Z  2021-03-28T23:59:00.0Z   \n",
              "\n",
              "   minutos_vistos  porcentaje_visto  rating  \n",
              "0             0.0        100.000000       1  \n",
              "1            -2.0        104.761905       1  \n",
              "2            36.0         33.333333       0  \n",
              "3            -1.0        101.851852       1  \n",
              "4            29.0         40.816327       0  "
            ],
            "text/html": [
              "\n",
              "  <div id=\"df-d73330d3-7e6a-4ba0-81e7-4b45abcbc72a\">\n",
              "    <div class=\"colab-df-container\">\n",
              "      <div>\n",
              "<style scoped>\n",
              "    .dataframe tbody tr th:only-of-type {\n",
              "        vertical-align: middle;\n",
              "    }\n",
              "\n",
              "    .dataframe tbody tr th {\n",
              "        vertical-align: top;\n",
              "    }\n",
              "\n",
              "    .dataframe thead th {\n",
              "        text-align: right;\n",
              "    }\n",
              "</style>\n",
              "<table border=\"1\" class=\"dataframe\">\n",
              "  <thead>\n",
              "    <tr style=\"text-align: right;\">\n",
              "      <th></th>\n",
              "      <th>customer_id</th>\n",
              "      <th>account_id</th>\n",
              "      <th>asset_id</th>\n",
              "      <th>tunein</th>\n",
              "      <th>tuneout</th>\n",
              "      <th>timestamp</th>\n",
              "      <th>minutos</th>\n",
              "      <th>from</th>\n",
              "      <th>to</th>\n",
              "      <th>resultado</th>\n",
              "      <th>content_id</th>\n",
              "      <th>title</th>\n",
              "      <th>run_time_min</th>\n",
              "      <th>start_vod_date</th>\n",
              "      <th>end_vod_date</th>\n",
              "      <th>minutos_vistos</th>\n",
              "      <th>porcentaje_visto</th>\n",
              "      <th>rating</th>\n",
              "    </tr>\n",
              "  </thead>\n",
              "  <tbody>\n",
              "    <tr>\n",
              "      <th>0</th>\n",
              "      <td>0</td>\n",
              "      <td>90627</td>\n",
              "      <td>18332.0</td>\n",
              "      <td>2021-02-18 22:52:00.0</td>\n",
              "      <td>2021-02-18 23:35:00.0</td>\n",
              "      <td>2021-02-18</td>\n",
              "      <td>43.0</td>\n",
              "      <td>2021-02-18 22:52:00</td>\n",
              "      <td>2021-02-18 23:35:00</td>\n",
              "      <td>0 days 00:43:00</td>\n",
              "      <td>2040.0</td>\n",
              "      <td>T:5 Ep:08 This is Us</td>\n",
              "      <td>43.0</td>\n",
              "      <td>2021-02-18T00:00:00.0Z</td>\n",
              "      <td>2021-06-30T23:59:59.0Z</td>\n",
              "      <td>0.0</td>\n",
              "      <td>100.000000</td>\n",
              "      <td>1</td>\n",
              "    </tr>\n",
              "    <tr>\n",
              "      <th>1</th>\n",
              "      <td>0</td>\n",
              "      <td>90627</td>\n",
              "      <td>24727.0</td>\n",
              "      <td>2021-03-24 23:17:00.0</td>\n",
              "      <td>2021-03-25 00:01:00.0</td>\n",
              "      <td>2021-03-24</td>\n",
              "      <td>44.0</td>\n",
              "      <td>2021-03-24 23:17:00</td>\n",
              "      <td>2021-03-25 00:01:00</td>\n",
              "      <td>0 days 00:44:00</td>\n",
              "      <td>2040.0</td>\n",
              "      <td>T:5 Ep:10 This is Us</td>\n",
              "      <td>42.0</td>\n",
              "      <td>2021-03-18T00:00:00.0Z</td>\n",
              "      <td>2021-06-30T23:59:59.0Z</td>\n",
              "      <td>-2.0</td>\n",
              "      <td>104.761905</td>\n",
              "      <td>1</td>\n",
              "    </tr>\n",
              "    <tr>\n",
              "      <th>2</th>\n",
              "      <td>1</td>\n",
              "      <td>3387</td>\n",
              "      <td>895.0</td>\n",
              "      <td>2021-03-15 10:05:00.0</td>\n",
              "      <td>2021-03-15 10:23:00.0</td>\n",
              "      <td>2021-03-15</td>\n",
              "      <td>18.0</td>\n",
              "      <td>2021-03-15 10:05:00</td>\n",
              "      <td>2021-03-15 10:23:00</td>\n",
              "      <td>0 days 00:18:00</td>\n",
              "      <td>1983.0</td>\n",
              "      <td>T:1 Ep:02 Big Little Lies</td>\n",
              "      <td>54.0</td>\n",
              "      <td>2021-03-08T00:00:00.0Z</td>\n",
              "      <td>2021-03-28T23:59:00.0Z</td>\n",
              "      <td>36.0</td>\n",
              "      <td>33.333333</td>\n",
              "      <td>0</td>\n",
              "    </tr>\n",
              "    <tr>\n",
              "      <th>3</th>\n",
              "      <td>1</td>\n",
              "      <td>3387</td>\n",
              "      <td>895.0</td>\n",
              "      <td>2021-03-15 10:23:00.0</td>\n",
              "      <td>2021-03-15 11:18:00.0</td>\n",
              "      <td>2021-03-15</td>\n",
              "      <td>55.0</td>\n",
              "      <td>2021-03-15 10:23:00</td>\n",
              "      <td>2021-03-15 11:18:00</td>\n",
              "      <td>0 days 00:55:00</td>\n",
              "      <td>1983.0</td>\n",
              "      <td>T:1 Ep:02 Big Little Lies</td>\n",
              "      <td>54.0</td>\n",
              "      <td>2021-03-08T00:00:00.0Z</td>\n",
              "      <td>2021-03-28T23:59:00.0Z</td>\n",
              "      <td>-1.0</td>\n",
              "      <td>101.851852</td>\n",
              "      <td>1</td>\n",
              "    </tr>\n",
              "    <tr>\n",
              "      <th>4</th>\n",
              "      <td>1</td>\n",
              "      <td>3387</td>\n",
              "      <td>26062.0</td>\n",
              "      <td>2021-03-16 09:24:00.0</td>\n",
              "      <td>2021-03-16 09:44:00.0</td>\n",
              "      <td>2021-03-16</td>\n",
              "      <td>20.0</td>\n",
              "      <td>2021-03-16 09:24:00</td>\n",
              "      <td>2021-03-16 09:44:00</td>\n",
              "      <td>0 days 00:20:00</td>\n",
              "      <td>729.0</td>\n",
              "      <td>T:1 Ep:02 Dime quién soy</td>\n",
              "      <td>49.0</td>\n",
              "      <td>2021-03-08T00:00:00.0Z</td>\n",
              "      <td>2021-03-28T23:59:00.0Z</td>\n",
              "      <td>29.0</td>\n",
              "      <td>40.816327</td>\n",
              "      <td>0</td>\n",
              "    </tr>\n",
              "  </tbody>\n",
              "</table>\n",
              "</div>\n",
              "      <button class=\"colab-df-convert\" onclick=\"convertToInteractive('df-d73330d3-7e6a-4ba0-81e7-4b45abcbc72a')\"\n",
              "              title=\"Convert this dataframe to an interactive table.\"\n",
              "              style=\"display:none;\">\n",
              "        \n",
              "  <svg xmlns=\"http://www.w3.org/2000/svg\" height=\"24px\"viewBox=\"0 0 24 24\"\n",
              "       width=\"24px\">\n",
              "    <path d=\"M0 0h24v24H0V0z\" fill=\"none\"/>\n",
              "    <path d=\"M18.56 5.44l.94 2.06.94-2.06 2.06-.94-2.06-.94-.94-2.06-.94 2.06-2.06.94zm-11 1L8.5 8.5l.94-2.06 2.06-.94-2.06-.94L8.5 2.5l-.94 2.06-2.06.94zm10 10l.94 2.06.94-2.06 2.06-.94-2.06-.94-.94-2.06-.94 2.06-2.06.94z\"/><path d=\"M17.41 7.96l-1.37-1.37c-.4-.4-.92-.59-1.43-.59-.52 0-1.04.2-1.43.59L10.3 9.45l-7.72 7.72c-.78.78-.78 2.05 0 2.83L4 21.41c.39.39.9.59 1.41.59.51 0 1.02-.2 1.41-.59l7.78-7.78 2.81-2.81c.8-.78.8-2.07 0-2.86zM5.41 20L4 18.59l7.72-7.72 1.47 1.35L5.41 20z\"/>\n",
              "  </svg>\n",
              "      </button>\n",
              "      \n",
              "  <style>\n",
              "    .colab-df-container {\n",
              "      display:flex;\n",
              "      flex-wrap:wrap;\n",
              "      gap: 12px;\n",
              "    }\n",
              "\n",
              "    .colab-df-convert {\n",
              "      background-color: #E8F0FE;\n",
              "      border: none;\n",
              "      border-radius: 50%;\n",
              "      cursor: pointer;\n",
              "      display: none;\n",
              "      fill: #1967D2;\n",
              "      height: 32px;\n",
              "      padding: 0 0 0 0;\n",
              "      width: 32px;\n",
              "    }\n",
              "\n",
              "    .colab-df-convert:hover {\n",
              "      background-color: #E2EBFA;\n",
              "      box-shadow: 0px 1px 2px rgba(60, 64, 67, 0.3), 0px 1px 3px 1px rgba(60, 64, 67, 0.15);\n",
              "      fill: #174EA6;\n",
              "    }\n",
              "\n",
              "    [theme=dark] .colab-df-convert {\n",
              "      background-color: #3B4455;\n",
              "      fill: #D2E3FC;\n",
              "    }\n",
              "\n",
              "    [theme=dark] .colab-df-convert:hover {\n",
              "      background-color: #434B5C;\n",
              "      box-shadow: 0px 1px 3px 1px rgba(0, 0, 0, 0.15);\n",
              "      filter: drop-shadow(0px 1px 2px rgba(0, 0, 0, 0.3));\n",
              "      fill: #FFFFFF;\n",
              "    }\n",
              "  </style>\n",
              "\n",
              "      <script>\n",
              "        const buttonEl =\n",
              "          document.querySelector('#df-d73330d3-7e6a-4ba0-81e7-4b45abcbc72a button.colab-df-convert');\n",
              "        buttonEl.style.display =\n",
              "          google.colab.kernel.accessAllowed ? 'block' : 'none';\n",
              "\n",
              "        async function convertToInteractive(key) {\n",
              "          const element = document.querySelector('#df-d73330d3-7e6a-4ba0-81e7-4b45abcbc72a');\n",
              "          const dataTable =\n",
              "            await google.colab.kernel.invokeFunction('convertToInteractive',\n",
              "                                                     [key], {});\n",
              "          if (!dataTable) return;\n",
              "\n",
              "          const docLinkHtml = 'Like what you see? Visit the ' +\n",
              "            '<a target=\"_blank\" href=https://colab.research.google.com/notebooks/data_table.ipynb>data table notebook</a>'\n",
              "            + ' to learn more about interactive tables.';\n",
              "          element.innerHTML = '';\n",
              "          dataTable['output_type'] = 'display_data';\n",
              "          await google.colab.output.renderOutput(dataTable, element);\n",
              "          const docLink = document.createElement('div');\n",
              "          docLink.innerHTML = docLinkHtml;\n",
              "          element.appendChild(docLink);\n",
              "        }\n",
              "      </script>\n",
              "    </div>\n",
              "  </div>\n",
              "  "
            ]
          },
          "metadata": {},
          "execution_count": 103
        }
      ]
    },
    {
      "cell_type": "code",
      "source": [
        "ratings.drop(['customer_id','asset_id','tunein','tuneout','minutos','from','to','resultado','title', 'run_time_min', 'start_vod_date', 'end_vod_date', 'minutos_vistos', 'porcentaje_visto'],axis=1, inplace=True)\n",
        "ratings.head()"
      ],
      "metadata": {
        "colab": {
          "base_uri": "https://localhost:8080/",
          "height": 206
        },
        "id": "XPxGcSDZGhDQ",
        "outputId": "5a6234a9-53b4-4700-c898-1252556ff46d"
      },
      "execution_count": 105,
      "outputs": [
        {
          "output_type": "execute_result",
          "data": {
            "text/plain": [
              "   account_id  timestamp  content_id  rating\n",
              "0       90627 2021-02-18      2040.0       1\n",
              "1       90627 2021-03-24      2040.0       1\n",
              "2        3387 2021-03-15      1983.0       0\n",
              "3        3387 2021-03-15      1983.0       1\n",
              "4        3387 2021-03-16       729.0       0"
            ],
            "text/html": [
              "\n",
              "  <div id=\"df-db7da452-88cd-42e7-a43e-cce884b7e3f2\">\n",
              "    <div class=\"colab-df-container\">\n",
              "      <div>\n",
              "<style scoped>\n",
              "    .dataframe tbody tr th:only-of-type {\n",
              "        vertical-align: middle;\n",
              "    }\n",
              "\n",
              "    .dataframe tbody tr th {\n",
              "        vertical-align: top;\n",
              "    }\n",
              "\n",
              "    .dataframe thead th {\n",
              "        text-align: right;\n",
              "    }\n",
              "</style>\n",
              "<table border=\"1\" class=\"dataframe\">\n",
              "  <thead>\n",
              "    <tr style=\"text-align: right;\">\n",
              "      <th></th>\n",
              "      <th>account_id</th>\n",
              "      <th>timestamp</th>\n",
              "      <th>content_id</th>\n",
              "      <th>rating</th>\n",
              "    </tr>\n",
              "  </thead>\n",
              "  <tbody>\n",
              "    <tr>\n",
              "      <th>0</th>\n",
              "      <td>90627</td>\n",
              "      <td>2021-02-18</td>\n",
              "      <td>2040.0</td>\n",
              "      <td>1</td>\n",
              "    </tr>\n",
              "    <tr>\n",
              "      <th>1</th>\n",
              "      <td>90627</td>\n",
              "      <td>2021-03-24</td>\n",
              "      <td>2040.0</td>\n",
              "      <td>1</td>\n",
              "    </tr>\n",
              "    <tr>\n",
              "      <th>2</th>\n",
              "      <td>3387</td>\n",
              "      <td>2021-03-15</td>\n",
              "      <td>1983.0</td>\n",
              "      <td>0</td>\n",
              "    </tr>\n",
              "    <tr>\n",
              "      <th>3</th>\n",
              "      <td>3387</td>\n",
              "      <td>2021-03-15</td>\n",
              "      <td>1983.0</td>\n",
              "      <td>1</td>\n",
              "    </tr>\n",
              "    <tr>\n",
              "      <th>4</th>\n",
              "      <td>3387</td>\n",
              "      <td>2021-03-16</td>\n",
              "      <td>729.0</td>\n",
              "      <td>0</td>\n",
              "    </tr>\n",
              "  </tbody>\n",
              "</table>\n",
              "</div>\n",
              "      <button class=\"colab-df-convert\" onclick=\"convertToInteractive('df-db7da452-88cd-42e7-a43e-cce884b7e3f2')\"\n",
              "              title=\"Convert this dataframe to an interactive table.\"\n",
              "              style=\"display:none;\">\n",
              "        \n",
              "  <svg xmlns=\"http://www.w3.org/2000/svg\" height=\"24px\"viewBox=\"0 0 24 24\"\n",
              "       width=\"24px\">\n",
              "    <path d=\"M0 0h24v24H0V0z\" fill=\"none\"/>\n",
              "    <path d=\"M18.56 5.44l.94 2.06.94-2.06 2.06-.94-2.06-.94-.94-2.06-.94 2.06-2.06.94zm-11 1L8.5 8.5l.94-2.06 2.06-.94-2.06-.94L8.5 2.5l-.94 2.06-2.06.94zm10 10l.94 2.06.94-2.06 2.06-.94-2.06-.94-.94-2.06-.94 2.06-2.06.94z\"/><path d=\"M17.41 7.96l-1.37-1.37c-.4-.4-.92-.59-1.43-.59-.52 0-1.04.2-1.43.59L10.3 9.45l-7.72 7.72c-.78.78-.78 2.05 0 2.83L4 21.41c.39.39.9.59 1.41.59.51 0 1.02-.2 1.41-.59l7.78-7.78 2.81-2.81c.8-.78.8-2.07 0-2.86zM5.41 20L4 18.59l7.72-7.72 1.47 1.35L5.41 20z\"/>\n",
              "  </svg>\n",
              "      </button>\n",
              "      \n",
              "  <style>\n",
              "    .colab-df-container {\n",
              "      display:flex;\n",
              "      flex-wrap:wrap;\n",
              "      gap: 12px;\n",
              "    }\n",
              "\n",
              "    .colab-df-convert {\n",
              "      background-color: #E8F0FE;\n",
              "      border: none;\n",
              "      border-radius: 50%;\n",
              "      cursor: pointer;\n",
              "      display: none;\n",
              "      fill: #1967D2;\n",
              "      height: 32px;\n",
              "      padding: 0 0 0 0;\n",
              "      width: 32px;\n",
              "    }\n",
              "\n",
              "    .colab-df-convert:hover {\n",
              "      background-color: #E2EBFA;\n",
              "      box-shadow: 0px 1px 2px rgba(60, 64, 67, 0.3), 0px 1px 3px 1px rgba(60, 64, 67, 0.15);\n",
              "      fill: #174EA6;\n",
              "    }\n",
              "\n",
              "    [theme=dark] .colab-df-convert {\n",
              "      background-color: #3B4455;\n",
              "      fill: #D2E3FC;\n",
              "    }\n",
              "\n",
              "    [theme=dark] .colab-df-convert:hover {\n",
              "      background-color: #434B5C;\n",
              "      box-shadow: 0px 1px 3px 1px rgba(0, 0, 0, 0.15);\n",
              "      filter: drop-shadow(0px 1px 2px rgba(0, 0, 0, 0.3));\n",
              "      fill: #FFFFFF;\n",
              "    }\n",
              "  </style>\n",
              "\n",
              "      <script>\n",
              "        const buttonEl =\n",
              "          document.querySelector('#df-db7da452-88cd-42e7-a43e-cce884b7e3f2 button.colab-df-convert');\n",
              "        buttonEl.style.display =\n",
              "          google.colab.kernel.accessAllowed ? 'block' : 'none';\n",
              "\n",
              "        async function convertToInteractive(key) {\n",
              "          const element = document.querySelector('#df-db7da452-88cd-42e7-a43e-cce884b7e3f2');\n",
              "          const dataTable =\n",
              "            await google.colab.kernel.invokeFunction('convertToInteractive',\n",
              "                                                     [key], {});\n",
              "          if (!dataTable) return;\n",
              "\n",
              "          const docLinkHtml = 'Like what you see? Visit the ' +\n",
              "            '<a target=\"_blank\" href=https://colab.research.google.com/notebooks/data_table.ipynb>data table notebook</a>'\n",
              "            + ' to learn more about interactive tables.';\n",
              "          element.innerHTML = '';\n",
              "          dataTable['output_type'] = 'display_data';\n",
              "          await google.colab.output.renderOutput(dataTable, element);\n",
              "          const docLink = document.createElement('div');\n",
              "          docLink.innerHTML = docLinkHtml;\n",
              "          element.appendChild(docLink);\n",
              "        }\n",
              "      </script>\n",
              "    </div>\n",
              "  </div>\n",
              "  "
            ]
          },
          "metadata": {},
          "execution_count": 105
        }
      ]
    },
    {
      "cell_type": "code",
      "source": [
        "ratings = ratings[['account_id', 'content_id', 'rating', 'timestamp']]"
      ],
      "metadata": {
        "id": "QlhXmV3AMDRA"
      },
      "execution_count": 106,
      "outputs": []
    },
    {
      "cell_type": "code",
      "source": [
        "train = ratings[(ratings.timestamp >= datetime(year=2021, month=1, day=1)) &\n",
        "                (ratings.timestamp < datetime(year=2021, month=3, day=1))]\n",
        "train.head()"
      ],
      "metadata": {
        "colab": {
          "base_uri": "https://localhost:8080/",
          "height": 206
        },
        "id": "fLowHyB0_bkn",
        "outputId": "43e1dcd6-4048-4815-ba0a-0bc94976bf27"
      },
      "execution_count": 107,
      "outputs": [
        {
          "output_type": "execute_result",
          "data": {
            "text/plain": [
              "   account_id  content_id  rating  timestamp\n",
              "0       90627      2040.0       1 2021-02-18\n",
              "6        3388      2100.0       0 2021-01-01\n",
              "7        3388      2100.0       0 2021-01-02\n",
              "8        3388      2100.0       0 2021-01-02\n",
              "9        3388      2100.0       0 2021-01-04"
            ],
            "text/html": [
              "\n",
              "  <div id=\"df-23ae42f3-2d29-45a9-a2f4-ce6b7d99ec32\">\n",
              "    <div class=\"colab-df-container\">\n",
              "      <div>\n",
              "<style scoped>\n",
              "    .dataframe tbody tr th:only-of-type {\n",
              "        vertical-align: middle;\n",
              "    }\n",
              "\n",
              "    .dataframe tbody tr th {\n",
              "        vertical-align: top;\n",
              "    }\n",
              "\n",
              "    .dataframe thead th {\n",
              "        text-align: right;\n",
              "    }\n",
              "</style>\n",
              "<table border=\"1\" class=\"dataframe\">\n",
              "  <thead>\n",
              "    <tr style=\"text-align: right;\">\n",
              "      <th></th>\n",
              "      <th>account_id</th>\n",
              "      <th>content_id</th>\n",
              "      <th>rating</th>\n",
              "      <th>timestamp</th>\n",
              "    </tr>\n",
              "  </thead>\n",
              "  <tbody>\n",
              "    <tr>\n",
              "      <th>0</th>\n",
              "      <td>90627</td>\n",
              "      <td>2040.0</td>\n",
              "      <td>1</td>\n",
              "      <td>2021-02-18</td>\n",
              "    </tr>\n",
              "    <tr>\n",
              "      <th>6</th>\n",
              "      <td>3388</td>\n",
              "      <td>2100.0</td>\n",
              "      <td>0</td>\n",
              "      <td>2021-01-01</td>\n",
              "    </tr>\n",
              "    <tr>\n",
              "      <th>7</th>\n",
              "      <td>3388</td>\n",
              "      <td>2100.0</td>\n",
              "      <td>0</td>\n",
              "      <td>2021-01-02</td>\n",
              "    </tr>\n",
              "    <tr>\n",
              "      <th>8</th>\n",
              "      <td>3388</td>\n",
              "      <td>2100.0</td>\n",
              "      <td>0</td>\n",
              "      <td>2021-01-02</td>\n",
              "    </tr>\n",
              "    <tr>\n",
              "      <th>9</th>\n",
              "      <td>3388</td>\n",
              "      <td>2100.0</td>\n",
              "      <td>0</td>\n",
              "      <td>2021-01-04</td>\n",
              "    </tr>\n",
              "  </tbody>\n",
              "</table>\n",
              "</div>\n",
              "      <button class=\"colab-df-convert\" onclick=\"convertToInteractive('df-23ae42f3-2d29-45a9-a2f4-ce6b7d99ec32')\"\n",
              "              title=\"Convert this dataframe to an interactive table.\"\n",
              "              style=\"display:none;\">\n",
              "        \n",
              "  <svg xmlns=\"http://www.w3.org/2000/svg\" height=\"24px\"viewBox=\"0 0 24 24\"\n",
              "       width=\"24px\">\n",
              "    <path d=\"M0 0h24v24H0V0z\" fill=\"none\"/>\n",
              "    <path d=\"M18.56 5.44l.94 2.06.94-2.06 2.06-.94-2.06-.94-.94-2.06-.94 2.06-2.06.94zm-11 1L8.5 8.5l.94-2.06 2.06-.94-2.06-.94L8.5 2.5l-.94 2.06-2.06.94zm10 10l.94 2.06.94-2.06 2.06-.94-2.06-.94-.94-2.06-.94 2.06-2.06.94z\"/><path d=\"M17.41 7.96l-1.37-1.37c-.4-.4-.92-.59-1.43-.59-.52 0-1.04.2-1.43.59L10.3 9.45l-7.72 7.72c-.78.78-.78 2.05 0 2.83L4 21.41c.39.39.9.59 1.41.59.51 0 1.02-.2 1.41-.59l7.78-7.78 2.81-2.81c.8-.78.8-2.07 0-2.86zM5.41 20L4 18.59l7.72-7.72 1.47 1.35L5.41 20z\"/>\n",
              "  </svg>\n",
              "      </button>\n",
              "      \n",
              "  <style>\n",
              "    .colab-df-container {\n",
              "      display:flex;\n",
              "      flex-wrap:wrap;\n",
              "      gap: 12px;\n",
              "    }\n",
              "\n",
              "    .colab-df-convert {\n",
              "      background-color: #E8F0FE;\n",
              "      border: none;\n",
              "      border-radius: 50%;\n",
              "      cursor: pointer;\n",
              "      display: none;\n",
              "      fill: #1967D2;\n",
              "      height: 32px;\n",
              "      padding: 0 0 0 0;\n",
              "      width: 32px;\n",
              "    }\n",
              "\n",
              "    .colab-df-convert:hover {\n",
              "      background-color: #E2EBFA;\n",
              "      box-shadow: 0px 1px 2px rgba(60, 64, 67, 0.3), 0px 1px 3px 1px rgba(60, 64, 67, 0.15);\n",
              "      fill: #174EA6;\n",
              "    }\n",
              "\n",
              "    [theme=dark] .colab-df-convert {\n",
              "      background-color: #3B4455;\n",
              "      fill: #D2E3FC;\n",
              "    }\n",
              "\n",
              "    [theme=dark] .colab-df-convert:hover {\n",
              "      background-color: #434B5C;\n",
              "      box-shadow: 0px 1px 3px 1px rgba(0, 0, 0, 0.15);\n",
              "      filter: drop-shadow(0px 1px 2px rgba(0, 0, 0, 0.3));\n",
              "      fill: #FFFFFF;\n",
              "    }\n",
              "  </style>\n",
              "\n",
              "      <script>\n",
              "        const buttonEl =\n",
              "          document.querySelector('#df-23ae42f3-2d29-45a9-a2f4-ce6b7d99ec32 button.colab-df-convert');\n",
              "        buttonEl.style.display =\n",
              "          google.colab.kernel.accessAllowed ? 'block' : 'none';\n",
              "\n",
              "        async function convertToInteractive(key) {\n",
              "          const element = document.querySelector('#df-23ae42f3-2d29-45a9-a2f4-ce6b7d99ec32');\n",
              "          const dataTable =\n",
              "            await google.colab.kernel.invokeFunction('convertToInteractive',\n",
              "                                                     [key], {});\n",
              "          if (!dataTable) return;\n",
              "\n",
              "          const docLinkHtml = 'Like what you see? Visit the ' +\n",
              "            '<a target=\"_blank\" href=https://colab.research.google.com/notebooks/data_table.ipynb>data table notebook</a>'\n",
              "            + ' to learn more about interactive tables.';\n",
              "          element.innerHTML = '';\n",
              "          dataTable['output_type'] = 'display_data';\n",
              "          await google.colab.output.renderOutput(dataTable, element);\n",
              "          const docLink = document.createElement('div');\n",
              "          docLink.innerHTML = docLinkHtml;\n",
              "          element.appendChild(docLink);\n",
              "        }\n",
              "      </script>\n",
              "    </div>\n",
              "  </div>\n",
              "  "
            ]
          },
          "metadata": {},
          "execution_count": 107
        }
      ]
    },
    {
      "cell_type": "code",
      "source": [
        "train.shape"
      ],
      "metadata": {
        "colab": {
          "base_uri": "https://localhost:8080/"
        },
        "id": "VUN5U_W_E9NK",
        "outputId": "497563c3-4f1b-4c04-f314-7cd4a4a2cb30"
      },
      "execution_count": 108,
      "outputs": [
        {
          "output_type": "execute_result",
          "data": {
            "text/plain": [
              "(2339064, 4)"
            ]
          },
          "metadata": {},
          "execution_count": 108
        }
      ]
    },
    {
      "cell_type": "code",
      "source": [
        "train.account_id.nunique()"
      ],
      "metadata": {
        "colab": {
          "base_uri": "https://localhost:8080/"
        },
        "id": "EfpZPl3fFO1t",
        "outputId": "a1d17930-0471-414e-d148-2fe0896c96c5"
      },
      "execution_count": 110,
      "outputs": [
        {
          "output_type": "execute_result",
          "data": {
            "text/plain": [
              "99649"
            ]
          },
          "metadata": {},
          "execution_count": 110
        }
      ]
    },
    {
      "cell_type": "code",
      "source": [
        "test = ratings[ratings.timestamp >= datetime(year=2021, month=3, day=1)]\n",
        "test.head()"
      ],
      "metadata": {
        "colab": {
          "base_uri": "https://localhost:8080/",
          "height": 206
        },
        "id": "VnZS3UOkFTdj",
        "outputId": "652ba38b-f973-4669-de6c-e827007d8292"
      },
      "execution_count": 111,
      "outputs": [
        {
          "output_type": "execute_result",
          "data": {
            "text/plain": [
              "   account_id  content_id  rating  timestamp\n",
              "1       90627      2040.0       1 2021-03-24\n",
              "2        3387      1983.0       0 2021-03-15\n",
              "3        3387      1983.0       1 2021-03-15\n",
              "4        3387       729.0       0 2021-03-16\n",
              "5        3387       729.0       0 2021-03-16"
            ],
            "text/html": [
              "\n",
              "  <div id=\"df-5b72ff34-42d7-4513-b5e6-cf8074cf7178\">\n",
              "    <div class=\"colab-df-container\">\n",
              "      <div>\n",
              "<style scoped>\n",
              "    .dataframe tbody tr th:only-of-type {\n",
              "        vertical-align: middle;\n",
              "    }\n",
              "\n",
              "    .dataframe tbody tr th {\n",
              "        vertical-align: top;\n",
              "    }\n",
              "\n",
              "    .dataframe thead th {\n",
              "        text-align: right;\n",
              "    }\n",
              "</style>\n",
              "<table border=\"1\" class=\"dataframe\">\n",
              "  <thead>\n",
              "    <tr style=\"text-align: right;\">\n",
              "      <th></th>\n",
              "      <th>account_id</th>\n",
              "      <th>content_id</th>\n",
              "      <th>rating</th>\n",
              "      <th>timestamp</th>\n",
              "    </tr>\n",
              "  </thead>\n",
              "  <tbody>\n",
              "    <tr>\n",
              "      <th>1</th>\n",
              "      <td>90627</td>\n",
              "      <td>2040.0</td>\n",
              "      <td>1</td>\n",
              "      <td>2021-03-24</td>\n",
              "    </tr>\n",
              "    <tr>\n",
              "      <th>2</th>\n",
              "      <td>3387</td>\n",
              "      <td>1983.0</td>\n",
              "      <td>0</td>\n",
              "      <td>2021-03-15</td>\n",
              "    </tr>\n",
              "    <tr>\n",
              "      <th>3</th>\n",
              "      <td>3387</td>\n",
              "      <td>1983.0</td>\n",
              "      <td>1</td>\n",
              "      <td>2021-03-15</td>\n",
              "    </tr>\n",
              "    <tr>\n",
              "      <th>4</th>\n",
              "      <td>3387</td>\n",
              "      <td>729.0</td>\n",
              "      <td>0</td>\n",
              "      <td>2021-03-16</td>\n",
              "    </tr>\n",
              "    <tr>\n",
              "      <th>5</th>\n",
              "      <td>3387</td>\n",
              "      <td>729.0</td>\n",
              "      <td>0</td>\n",
              "      <td>2021-03-16</td>\n",
              "    </tr>\n",
              "  </tbody>\n",
              "</table>\n",
              "</div>\n",
              "      <button class=\"colab-df-convert\" onclick=\"convertToInteractive('df-5b72ff34-42d7-4513-b5e6-cf8074cf7178')\"\n",
              "              title=\"Convert this dataframe to an interactive table.\"\n",
              "              style=\"display:none;\">\n",
              "        \n",
              "  <svg xmlns=\"http://www.w3.org/2000/svg\" height=\"24px\"viewBox=\"0 0 24 24\"\n",
              "       width=\"24px\">\n",
              "    <path d=\"M0 0h24v24H0V0z\" fill=\"none\"/>\n",
              "    <path d=\"M18.56 5.44l.94 2.06.94-2.06 2.06-.94-2.06-.94-.94-2.06-.94 2.06-2.06.94zm-11 1L8.5 8.5l.94-2.06 2.06-.94-2.06-.94L8.5 2.5l-.94 2.06-2.06.94zm10 10l.94 2.06.94-2.06 2.06-.94-2.06-.94-.94-2.06-.94 2.06-2.06.94z\"/><path d=\"M17.41 7.96l-1.37-1.37c-.4-.4-.92-.59-1.43-.59-.52 0-1.04.2-1.43.59L10.3 9.45l-7.72 7.72c-.78.78-.78 2.05 0 2.83L4 21.41c.39.39.9.59 1.41.59.51 0 1.02-.2 1.41-.59l7.78-7.78 2.81-2.81c.8-.78.8-2.07 0-2.86zM5.41 20L4 18.59l7.72-7.72 1.47 1.35L5.41 20z\"/>\n",
              "  </svg>\n",
              "      </button>\n",
              "      \n",
              "  <style>\n",
              "    .colab-df-container {\n",
              "      display:flex;\n",
              "      flex-wrap:wrap;\n",
              "      gap: 12px;\n",
              "    }\n",
              "\n",
              "    .colab-df-convert {\n",
              "      background-color: #E8F0FE;\n",
              "      border: none;\n",
              "      border-radius: 50%;\n",
              "      cursor: pointer;\n",
              "      display: none;\n",
              "      fill: #1967D2;\n",
              "      height: 32px;\n",
              "      padding: 0 0 0 0;\n",
              "      width: 32px;\n",
              "    }\n",
              "\n",
              "    .colab-df-convert:hover {\n",
              "      background-color: #E2EBFA;\n",
              "      box-shadow: 0px 1px 2px rgba(60, 64, 67, 0.3), 0px 1px 3px 1px rgba(60, 64, 67, 0.15);\n",
              "      fill: #174EA6;\n",
              "    }\n",
              "\n",
              "    [theme=dark] .colab-df-convert {\n",
              "      background-color: #3B4455;\n",
              "      fill: #D2E3FC;\n",
              "    }\n",
              "\n",
              "    [theme=dark] .colab-df-convert:hover {\n",
              "      background-color: #434B5C;\n",
              "      box-shadow: 0px 1px 3px 1px rgba(0, 0, 0, 0.15);\n",
              "      filter: drop-shadow(0px 1px 2px rgba(0, 0, 0, 0.3));\n",
              "      fill: #FFFFFF;\n",
              "    }\n",
              "  </style>\n",
              "\n",
              "      <script>\n",
              "        const buttonEl =\n",
              "          document.querySelector('#df-5b72ff34-42d7-4513-b5e6-cf8074cf7178 button.colab-df-convert');\n",
              "        buttonEl.style.display =\n",
              "          google.colab.kernel.accessAllowed ? 'block' : 'none';\n",
              "\n",
              "        async function convertToInteractive(key) {\n",
              "          const element = document.querySelector('#df-5b72ff34-42d7-4513-b5e6-cf8074cf7178');\n",
              "          const dataTable =\n",
              "            await google.colab.kernel.invokeFunction('convertToInteractive',\n",
              "                                                     [key], {});\n",
              "          if (!dataTable) return;\n",
              "\n",
              "          const docLinkHtml = 'Like what you see? Visit the ' +\n",
              "            '<a target=\"_blank\" href=https://colab.research.google.com/notebooks/data_table.ipynb>data table notebook</a>'\n",
              "            + ' to learn more about interactive tables.';\n",
              "          element.innerHTML = '';\n",
              "          dataTable['output_type'] = 'display_data';\n",
              "          await google.colab.output.renderOutput(dataTable, element);\n",
              "          const docLink = document.createElement('div');\n",
              "          docLink.innerHTML = docLinkHtml;\n",
              "          element.appendChild(docLink);\n",
              "        }\n",
              "      </script>\n",
              "    </div>\n",
              "  </div>\n",
              "  "
            ]
          },
          "metadata": {},
          "execution_count": 111
        }
      ]
    },
    {
      "cell_type": "code",
      "source": [
        "test.shape"
      ],
      "metadata": {
        "colab": {
          "base_uri": "https://localhost:8080/"
        },
        "id": "N-bat_2RFbOC",
        "outputId": "77d18084-f6a9-4768-e98b-1f2528528dc7"
      },
      "execution_count": 112,
      "outputs": [
        {
          "output_type": "execute_result",
          "data": {
            "text/plain": [
              "(1318737, 4)"
            ]
          },
          "metadata": {},
          "execution_count": 112
        }
      ]
    },
    {
      "cell_type": "code",
      "source": [
        "test.account_id.nunique()"
      ],
      "metadata": {
        "colab": {
          "base_uri": "https://localhost:8080/"
        },
        "id": "A6Rowh2oFdri",
        "outputId": "9c48c985-6702-4093-cd67-73d6a07843ed"
      },
      "execution_count": 113,
      "outputs": [
        {
          "output_type": "execute_result",
          "data": {
            "text/plain": [
              "87635"
            ]
          },
          "metadata": {},
          "execution_count": 113
        }
      ]
    },
    {
      "cell_type": "markdown",
      "source": [
        "¿Tenemos usuarios que aparecen en test pero no en train? "
      ],
      "metadata": {
        "id": "RqAihLojMkoZ"
      }
    },
    {
      "cell_type": "code",
      "source": [
        "test[~test.account_id.isin(train.account_id.unique())].account_id.nunique()"
      ],
      "metadata": {
        "colab": {
          "base_uri": "https://localhost:8080/"
        },
        "id": "pBVw-w5BMhzm",
        "outputId": "bd058390-f48a-4db4-c08a-da61710ff1ed"
      },
      "execution_count": 114,
      "outputs": [
        {
          "output_type": "execute_result",
          "data": {
            "text/plain": [
              "14232"
            ]
          },
          "metadata": {},
          "execution_count": 114
        }
      ]
    },
    {
      "cell_type": "markdown",
      "source": [
        "Como vemos, tenemos este problema. Utilizaremos \"cold start\" al momento de recomendar a estos usuarios."
      ],
      "metadata": {
        "id": "Rs5sFtL8NKYp"
      }
    },
    {
      "cell_type": "markdown",
      "source": [
        "Armamos la matriz de interacción."
      ],
      "metadata": {
        "id": "4MwN-oRgNd4F"
      }
    },
    {
      "cell_type": "code",
      "source": [
        "matrix_columns = [\"account_id\",\"content_id\", \"rating\"]"
      ],
      "metadata": {
        "id": "Cr91IiI7N3Tu"
      },
      "execution_count": 115,
      "outputs": []
    },
    {
      "cell_type": "code",
      "source": [
        "interactions = train[matrix_columns]\n",
        "interactions.head()"
      ],
      "metadata": {
        "colab": {
          "base_uri": "https://localhost:8080/",
          "height": 206
        },
        "id": "xVRXFPQYOLLM",
        "outputId": "dbd94403-1015-4abf-8dbd-1693f6cd2f43"
      },
      "execution_count": 116,
      "outputs": [
        {
          "output_type": "execute_result",
          "data": {
            "text/plain": [
              "   account_id  content_id  rating\n",
              "0       90627      2040.0       1\n",
              "6        3388      2100.0       0\n",
              "7        3388      2100.0       0\n",
              "8        3388      2100.0       0\n",
              "9        3388      2100.0       0"
            ],
            "text/html": [
              "\n",
              "  <div id=\"df-0872ff00-c7da-40dd-a5dd-30869b74bc79\">\n",
              "    <div class=\"colab-df-container\">\n",
              "      <div>\n",
              "<style scoped>\n",
              "    .dataframe tbody tr th:only-of-type {\n",
              "        vertical-align: middle;\n",
              "    }\n",
              "\n",
              "    .dataframe tbody tr th {\n",
              "        vertical-align: top;\n",
              "    }\n",
              "\n",
              "    .dataframe thead th {\n",
              "        text-align: right;\n",
              "    }\n",
              "</style>\n",
              "<table border=\"1\" class=\"dataframe\">\n",
              "  <thead>\n",
              "    <tr style=\"text-align: right;\">\n",
              "      <th></th>\n",
              "      <th>account_id</th>\n",
              "      <th>content_id</th>\n",
              "      <th>rating</th>\n",
              "    </tr>\n",
              "  </thead>\n",
              "  <tbody>\n",
              "    <tr>\n",
              "      <th>0</th>\n",
              "      <td>90627</td>\n",
              "      <td>2040.0</td>\n",
              "      <td>1</td>\n",
              "    </tr>\n",
              "    <tr>\n",
              "      <th>6</th>\n",
              "      <td>3388</td>\n",
              "      <td>2100.0</td>\n",
              "      <td>0</td>\n",
              "    </tr>\n",
              "    <tr>\n",
              "      <th>7</th>\n",
              "      <td>3388</td>\n",
              "      <td>2100.0</td>\n",
              "      <td>0</td>\n",
              "    </tr>\n",
              "    <tr>\n",
              "      <th>8</th>\n",
              "      <td>3388</td>\n",
              "      <td>2100.0</td>\n",
              "      <td>0</td>\n",
              "    </tr>\n",
              "    <tr>\n",
              "      <th>9</th>\n",
              "      <td>3388</td>\n",
              "      <td>2100.0</td>\n",
              "      <td>0</td>\n",
              "    </tr>\n",
              "  </tbody>\n",
              "</table>\n",
              "</div>\n",
              "      <button class=\"colab-df-convert\" onclick=\"convertToInteractive('df-0872ff00-c7da-40dd-a5dd-30869b74bc79')\"\n",
              "              title=\"Convert this dataframe to an interactive table.\"\n",
              "              style=\"display:none;\">\n",
              "        \n",
              "  <svg xmlns=\"http://www.w3.org/2000/svg\" height=\"24px\"viewBox=\"0 0 24 24\"\n",
              "       width=\"24px\">\n",
              "    <path d=\"M0 0h24v24H0V0z\" fill=\"none\"/>\n",
              "    <path d=\"M18.56 5.44l.94 2.06.94-2.06 2.06-.94-2.06-.94-.94-2.06-.94 2.06-2.06.94zm-11 1L8.5 8.5l.94-2.06 2.06-.94-2.06-.94L8.5 2.5l-.94 2.06-2.06.94zm10 10l.94 2.06.94-2.06 2.06-.94-2.06-.94-.94-2.06-.94 2.06-2.06.94z\"/><path d=\"M17.41 7.96l-1.37-1.37c-.4-.4-.92-.59-1.43-.59-.52 0-1.04.2-1.43.59L10.3 9.45l-7.72 7.72c-.78.78-.78 2.05 0 2.83L4 21.41c.39.39.9.59 1.41.59.51 0 1.02-.2 1.41-.59l7.78-7.78 2.81-2.81c.8-.78.8-2.07 0-2.86zM5.41 20L4 18.59l7.72-7.72 1.47 1.35L5.41 20z\"/>\n",
              "  </svg>\n",
              "      </button>\n",
              "      \n",
              "  <style>\n",
              "    .colab-df-container {\n",
              "      display:flex;\n",
              "      flex-wrap:wrap;\n",
              "      gap: 12px;\n",
              "    }\n",
              "\n",
              "    .colab-df-convert {\n",
              "      background-color: #E8F0FE;\n",
              "      border: none;\n",
              "      border-radius: 50%;\n",
              "      cursor: pointer;\n",
              "      display: none;\n",
              "      fill: #1967D2;\n",
              "      height: 32px;\n",
              "      padding: 0 0 0 0;\n",
              "      width: 32px;\n",
              "    }\n",
              "\n",
              "    .colab-df-convert:hover {\n",
              "      background-color: #E2EBFA;\n",
              "      box-shadow: 0px 1px 2px rgba(60, 64, 67, 0.3), 0px 1px 3px 1px rgba(60, 64, 67, 0.15);\n",
              "      fill: #174EA6;\n",
              "    }\n",
              "\n",
              "    [theme=dark] .colab-df-convert {\n",
              "      background-color: #3B4455;\n",
              "      fill: #D2E3FC;\n",
              "    }\n",
              "\n",
              "    [theme=dark] .colab-df-convert:hover {\n",
              "      background-color: #434B5C;\n",
              "      box-shadow: 0px 1px 3px 1px rgba(0, 0, 0, 0.15);\n",
              "      filter: drop-shadow(0px 1px 2px rgba(0, 0, 0, 0.3));\n",
              "      fill: #FFFFFF;\n",
              "    }\n",
              "  </style>\n",
              "\n",
              "      <script>\n",
              "        const buttonEl =\n",
              "          document.querySelector('#df-0872ff00-c7da-40dd-a5dd-30869b74bc79 button.colab-df-convert');\n",
              "        buttonEl.style.display =\n",
              "          google.colab.kernel.accessAllowed ? 'block' : 'none';\n",
              "\n",
              "        async function convertToInteractive(key) {\n",
              "          const element = document.querySelector('#df-0872ff00-c7da-40dd-a5dd-30869b74bc79');\n",
              "          const dataTable =\n",
              "            await google.colab.kernel.invokeFunction('convertToInteractive',\n",
              "                                                     [key], {});\n",
              "          if (!dataTable) return;\n",
              "\n",
              "          const docLinkHtml = 'Like what you see? Visit the ' +\n",
              "            '<a target=\"_blank\" href=https://colab.research.google.com/notebooks/data_table.ipynb>data table notebook</a>'\n",
              "            + ' to learn more about interactive tables.';\n",
              "          element.innerHTML = '';\n",
              "          dataTable['output_type'] = 'display_data';\n",
              "          await google.colab.output.renderOutput(dataTable, element);\n",
              "          const docLink = document.createElement('div');\n",
              "          docLink.innerHTML = docLinkHtml;\n",
              "          element.appendChild(docLink);\n",
              "        }\n",
              "      </script>\n",
              "    </div>\n",
              "  </div>\n",
              "  "
            ]
          },
          "metadata": {},
          "execution_count": 116
        }
      ]
    },
    {
      "cell_type": "code",
      "source": [
        "# interactions_matrix = pd.pivot(index=\"account_id\", columns=\"content_id\", values=\"rating\")\n",
        "interactions_matrix = pd.pivot_table(interactions[[\"account_id\",\"content_id\", \"rating\"]], index='account_id', columns='content_id', values='rating')\n",
        "interactions_matrix.head()"
      ],
      "metadata": {
        "id": "6S9MOBNPOUdU"
      },
      "execution_count": null,
      "outputs": []
    },
    {
      "cell_type": "markdown",
      "source": [
        "Completo los NaN con ceros"
      ],
      "metadata": {
        "id": "UI8cSKapP39n"
      }
    },
    {
      "cell_type": "code",
      "source": [
        "interactions_matrix = interactions_matrix.fillna(0)\n",
        "interactions_matrix.head()"
      ],
      "metadata": {
        "colab": {
          "base_uri": "https://localhost:8080/",
          "height": 183
        },
        "id": "YSBftbREP2B3",
        "outputId": "194cfbef-4647-4d4f-d3cb-345cfcce58ee"
      },
      "execution_count": 1,
      "outputs": [
        {
          "output_type": "error",
          "ename": "NameError",
          "evalue": "ignored",
          "traceback": [
            "\u001b[0;31m---------------------------------------------------------------------------\u001b[0m",
            "\u001b[0;31mNameError\u001b[0m                                 Traceback (most recent call last)",
            "\u001b[0;32m<ipython-input-1-e1b9cd6c67fe>\u001b[0m in \u001b[0;36m<module>\u001b[0;34m\u001b[0m\n\u001b[0;32m----> 1\u001b[0;31m \u001b[0minteractions_matrix\u001b[0m \u001b[0;34m=\u001b[0m \u001b[0minteractions_matrix\u001b[0m\u001b[0;34m.\u001b[0m\u001b[0mfillna\u001b[0m\u001b[0;34m(\u001b[0m\u001b[0;36m0\u001b[0m\u001b[0;34m)\u001b[0m\u001b[0;34m\u001b[0m\u001b[0;34m\u001b[0m\u001b[0m\n\u001b[0m\u001b[1;32m      2\u001b[0m \u001b[0minteractions_matrix\u001b[0m\u001b[0;34m.\u001b[0m\u001b[0mhead\u001b[0m\u001b[0;34m(\u001b[0m\u001b[0;34m)\u001b[0m\u001b[0;34m\u001b[0m\u001b[0;34m\u001b[0m\u001b[0m\n",
            "\u001b[0;31mNameError\u001b[0m: name 'interactions_matrix' is not defined"
          ]
        }
      ]
    },
    {
      "cell_type": "markdown",
      "source": [
        "¿Cuántas filas y columnas tiene la matriz de interacción?"
      ],
      "metadata": {
        "id": "tIxcJFQJQFAi"
      }
    },
    {
      "cell_type": "code",
      "source": [
        "interactions_matrix.shape"
      ],
      "metadata": {
        "id": "KmkX0OGIQENW"
      },
      "execution_count": null,
      "outputs": []
    },
    {
      "cell_type": "markdown",
      "source": [
        "Generemos diccionarios de usuarios y items"
      ],
      "metadata": {
        "id": "iClfO9gFREN8"
      }
    },
    {
      "cell_type": "code",
      "source": [
        "user_id = list(interactions_matrix.index)\n",
        "user_dict = {}\n",
        "counter = 0 \n",
        "for i in user_id:\n",
        "    user_dict[i] = counter\n",
        "    counter += 1"
      ],
      "metadata": {
        "id": "bA6K6SlXRBqW"
      },
      "execution_count": null,
      "outputs": []
    },
    {
      "cell_type": "code",
      "source": [
        "item_id = list(interactions_matrix.columns)\n",
        "item_dict = {}\n",
        "counter = 0 \n",
        "for i in item_id:\n",
        "    item_dict[i] = counter\n",
        "    counter += 1"
      ],
      "metadata": {
        "id": "fHpWWcWNRKA1"
      },
      "execution_count": null,
      "outputs": []
    },
    {
      "cell_type": "markdown",
      "source": [
        "Transformamos la matriz a csr matrix (compressed sparse row)"
      ],
      "metadata": {
        "id": "RdlYwN5hQOd1"
      }
    },
    {
      "cell_type": "code",
      "source": [
        "interactions_matrix_csr = csr_matrix(interactions_matrix.values)"
      ],
      "metadata": {
        "id": "mkeOgsdBQNd7"
      },
      "execution_count": null,
      "outputs": []
    },
    {
      "cell_type": "markdown",
      "source": [
        "# Modelo"
      ],
      "metadata": {
        "id": "bChUAt06RpBZ"
      }
    },
    {
      "cell_type": "markdown",
      "source": [
        "Utilizaremos la librería LFM (light fm) para realizar un modelo de recomendación."
      ],
      "metadata": {
        "id": "neBgWTZASS5w"
      }
    },
    {
      "cell_type": "code",
      "source": [
        "model = LightFM(no_components=3, random_state=100, learning_rate=0.03)"
      ],
      "metadata": {
        "id": "voyrtbMnRqn_"
      },
      "execution_count": null,
      "outputs": []
    },
    {
      "cell_type": "markdown",
      "source": [
        "Entrenar el modelo con la matriz csr por 10 epochs:"
      ],
      "metadata": {
        "id": "k9o2UQSGSc_9"
      }
    },
    {
      "cell_type": "code",
      "source": [
        "model = model.fit(interactions_matrix_csr, epochs=10)"
      ],
      "metadata": {
        "id": "kM19q-KQSLuu"
      },
      "execution_count": null,
      "outputs": []
    }
  ],
  "metadata": {
    "colab": {
      "provenance": []
    },
    "kernelspec": {
      "display_name": "base",
      "language": "python",
      "name": "python3"
    },
    "language_info": {
      "name": "python",
      "version": "3.8.13 | packaged by conda-forge | (default, Mar 25 2022, 05:59:45) [MSC v.1929 64 bit (AMD64)]"
    },
    "vscode": {
      "interpreter": {
        "hash": "892d461b55a6ce994a56bafd67ae2f3489d9f23234c096cfb51dfe498c166e4b"
      }
    }
  },
  "nbformat": 4,
  "nbformat_minor": 0
}