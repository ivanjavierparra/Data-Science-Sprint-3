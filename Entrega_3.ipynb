{
 "cells": [
  {
   "cell_type": "markdown",
   "metadata": {
    "id": "DYKTxvoMT5KO"
   },
   "source": [
    "# 3er entrega - Sistemas de recomendación\n",
    "\n",
    "En esta entrega vamos a trabajar con un sistema de recomendación.\n",
    "\n",
    "Vamos a aprovechar la competencia de Telecom que vimos ya que los datos son reales y están buenos para practicar.\n",
    "\n",
    "En el siguiente repositorio pueden encontrar el significado de cada columna de los datasets:\n",
    "https://github.com/Datathon2021/Recomendador\n",
    "\n",
    "Consigna:\n",
    "\n",
    "- Dividir set en train y test. Tomar como train los datos hasta el 1 de marzo de 2021. Desde el 1ro de marzo en adelante, reservar para test.\n",
    "- Desarrollar un recomendador. El recomendador debe ser capaz de generar recomendaciones para TODOS los usuarios (incluyendo los cold start que no tengan visualizaciones en el set de train). Generar 20 recomendaciones por usuario.\n",
    "- Las recomendaciones tienen que ser para cada account_id y hay que recomendar content_id (NO asset_id). Pueden encontrar esto en el repositorio de la competencia.\n",
    "- Los contenidos que recomienden, no tienen que haber sido vistos previamente por los usuarios (filtrar).\n",
    "- Evaluarlo con MAP.\n",
    "\n",
    "Recomendaciones:\n",
    "- En este caso no tenemos ratings explícitos como los casos que vimos, deben generar ustedes estos ratings mediante algún criterio. Lo más simple podría ser utilizar ratings binarios (lo vió / no lo vió).\n",
    "- Hay una columna que nos indica hasta cuando va a estar disponible el contenido\n",
    "- La columna **end_vod_date**: \"fecha de finalización de la disponibilidad del activo en la plataforma\" puede llegar a serles muy útil. ¿Tiene sentido recomendar algo que no va a estar disponible en el set de test? (a partir del 1 de marzo de 2021).\n",
    "- Comiencen con algo SIMPLE. No se compliquen con todas las columnas que tiene el dataset. No van a necesitar usar todas, muchas columnas podrán descartarlas dependiendo del enfoque que tomen.\n",
    "\n",
    "Datos:\n",
    "- https://drive.google.com/file/d/1QjbqJvU0PTClEhReOyzr96BS-HpyyUKT/view?usp=sharing\n",
    "- https://drive.google.com/file/d/1ih6SZc44w8FXdFKQJ2l-aqEWFpfceGuN/view?usp=sharing\n",
    "\n",
    "Fecha de entrega: **30 de Enero de 2023**.\n",
    "\n",
    "Subir a un repositorio de github (público) y enviar el link a alexispacek@gmail.com. De paso les sirve para ir armando su perfil de github con algunos proyectos 😉.\n",
    "\n"
   ]
  },
  {
   "cell_type": "markdown",
   "metadata": {
    "id": "zhwGN84Xnt57"
   },
   "source": [
    "# Nueva sección"
   ]
  },
  {
   "cell_type": "code",
   "execution_count": null,
   "metadata": {
    "colab": {
     "base_uri": "https://localhost:8080/"
    },
    "id": "XIYjmxZumyrZ",
    "outputId": "9ff60801-44d7-418c-82ae-157012585bc4"
   },
   "outputs": [
    {
     "name": "stdout",
     "output_type": "stream",
     "text": [
      "Drive already mounted at /content/drive; to attempt to forcibly remount, call drive.mount(\"/content/drive\", force_remount=True).\n"
     ]
    }
   ],
   "source": [
    "from google.colab import drive\n",
    "drive.mount('/content/drive')"
   ]
  },
  {
   "cell_type": "code",
   "execution_count": 3,
   "metadata": {
    "id": "S4QRRCIKjItc",
    "scrolled": true
   },
   "outputs": [],
   "source": [
    "# Los de siempre\n",
    "import pandas as pd\n",
    "import numpy as np\n",
    "import seaborn as sns\n",
    "import matplotlib.pyplot as plt\n",
    "\n",
    "# datetime\n",
    "from datetime import datetime\n",
    "\n",
    "# matrices\n",
    "from scipy.sparse import csr_matrix\n",
    "\n",
    "# models\n",
    "from lightfm import LightFM\n",
    "from tqdm import tqdm\n",
    "# from sklearn.model_selection import train_test_split, StratifiedKFold, GridSearchCV, RandomizedSearchCV\n",
    "# from sklearn.pipeline import Pipeline\n",
    "# from sklearn.svm import SVC\n",
    "\n",
    "# # classifiers\n",
    "# from sklearn.ensemble import RandomForestClassifier\n",
    "\n",
    "# # metrics\n",
    "# from sklearn.metrics import accuracy_score, plot_confusion_matrix\n",
    "# from sklearn.metrics import  classification_report, confusion_matrix, ConfusionMatrixDisplay"
   ]
  },
  {
   "cell_type": "markdown",
   "metadata": {},
   "source": [
    "Si hay problemas con la instalación de lightfm, abrir consola de conda y ejecutar lo siguiente:"
   ]
  },
  {
   "cell_type": "code",
   "execution_count": null,
   "metadata": {},
   "outputs": [],
   "source": [
    "conda install -c conda-forge lightfm"
   ]
  },
  {
   "cell_type": "markdown",
   "metadata": {},
   "source": [
    "Seteamos max_coldwidth"
   ]
  },
  {
   "cell_type": "code",
   "execution_count": null,
   "metadata": {
    "id": "WaVlMUhxjt19"
   },
   "outputs": [],
   "source": [
    "pd.options.display.max_colwidth = 10000"
   ]
  },
  {
   "cell_type": "markdown",
   "metadata": {},
   "source": [
    "Leemos los csv"
   ]
  },
  {
   "cell_type": "code",
   "execution_count": 5,
   "metadata": {
    "colab": {
     "base_uri": "https://localhost:8080/",
     "height": 206
    },
    "id": "hDmzt8CIpn9x",
    "outputId": "38cc8576-46a0-4fac-f2c8-d283822c0b31"
   },
   "outputs": [
    {
     "data": {
      "text/html": [
       "<div>\n",
       "<style scoped>\n",
       "    .dataframe tbody tr th:only-of-type {\n",
       "        vertical-align: middle;\n",
       "    }\n",
       "\n",
       "    .dataframe tbody tr th {\n",
       "        vertical-align: top;\n",
       "    }\n",
       "\n",
       "    .dataframe thead th {\n",
       "        text-align: right;\n",
       "    }\n",
       "</style>\n",
       "<table border=\"1\" class=\"dataframe\">\n",
       "  <thead>\n",
       "    <tr style=\"text-align: right;\">\n",
       "      <th></th>\n",
       "      <th>customer_id</th>\n",
       "      <th>account_id</th>\n",
       "      <th>device_type</th>\n",
       "      <th>asset_id</th>\n",
       "      <th>tunein</th>\n",
       "      <th>tuneout</th>\n",
       "      <th>resume</th>\n",
       "    </tr>\n",
       "  </thead>\n",
       "  <tbody>\n",
       "    <tr>\n",
       "      <th>0</th>\n",
       "      <td>0</td>\n",
       "      <td>90627</td>\n",
       "      <td>STATIONARY</td>\n",
       "      <td>18332.0</td>\n",
       "      <td>2021-02-18 22:52:00.0</td>\n",
       "      <td>2021-02-18 23:35:00.0</td>\n",
       "      <td>0</td>\n",
       "    </tr>\n",
       "    <tr>\n",
       "      <th>1</th>\n",
       "      <td>0</td>\n",
       "      <td>90627</td>\n",
       "      <td>STATIONARY</td>\n",
       "      <td>24727.0</td>\n",
       "      <td>2021-03-24 23:17:00.0</td>\n",
       "      <td>2021-03-25 00:01:00.0</td>\n",
       "      <td>0</td>\n",
       "    </tr>\n",
       "    <tr>\n",
       "      <th>2</th>\n",
       "      <td>1</td>\n",
       "      <td>3387</td>\n",
       "      <td>STB</td>\n",
       "      <td>895.0</td>\n",
       "      <td>2021-03-15 10:05:00.0</td>\n",
       "      <td>2021-03-15 10:23:00.0</td>\n",
       "      <td>0</td>\n",
       "    </tr>\n",
       "    <tr>\n",
       "      <th>3</th>\n",
       "      <td>1</td>\n",
       "      <td>3387</td>\n",
       "      <td>STB</td>\n",
       "      <td>895.0</td>\n",
       "      <td>2021-03-15 10:23:00.0</td>\n",
       "      <td>2021-03-15 11:18:00.0</td>\n",
       "      <td>1</td>\n",
       "    </tr>\n",
       "    <tr>\n",
       "      <th>4</th>\n",
       "      <td>1</td>\n",
       "      <td>3387</td>\n",
       "      <td>STB</td>\n",
       "      <td>26062.0</td>\n",
       "      <td>2021-03-16 09:24:00.0</td>\n",
       "      <td>2021-03-16 09:44:00.0</td>\n",
       "      <td>0</td>\n",
       "    </tr>\n",
       "  </tbody>\n",
       "</table>\n",
       "</div>"
      ],
      "text/plain": [
       "   customer_id  account_id device_type  asset_id                 tunein  \\\n",
       "0            0       90627  STATIONARY   18332.0  2021-02-18 22:52:00.0   \n",
       "1            0       90627  STATIONARY   24727.0  2021-03-24 23:17:00.0   \n",
       "2            1        3387         STB     895.0  2021-03-15 10:05:00.0   \n",
       "3            1        3387         STB     895.0  2021-03-15 10:23:00.0   \n",
       "4            1        3387         STB   26062.0  2021-03-16 09:24:00.0   \n",
       "\n",
       "                 tuneout  resume  \n",
       "0  2021-02-18 23:35:00.0       0  \n",
       "1  2021-03-25 00:01:00.0       0  \n",
       "2  2021-03-15 10:23:00.0       0  \n",
       "3  2021-03-15 11:18:00.0       1  \n",
       "4  2021-03-16 09:44:00.0       0  "
      ]
     },
     "execution_count": 5,
     "metadata": {},
     "output_type": "execute_result"
    }
   ],
   "source": [
    "# df_train = pd.read_csv('/content/drive/MyDrive/Cursos/Especializacion en Data Science/Sprint 3/train.csv', delimiter=',')\n",
    "df_train = pd.read_csv('c:/Users/Asus/Downloads/Curso Data Science - 2022/Cuarto Trabajo/data/train.csv', delimiter=',')\n",
    "df_train.head()"
   ]
  },
  {
   "cell_type": "code",
   "execution_count": 6,
   "metadata": {
    "colab": {
     "base_uri": "https://localhost:8080/",
     "height": 438
    },
    "id": "zRqClYLDjy7r",
    "outputId": "f591e3be-80b8-46d5-a4ec-c2009427ef68"
   },
   "outputs": [
    {
     "data": {
      "text/html": [
       "<div>\n",
       "<style scoped>\n",
       "    .dataframe tbody tr th:only-of-type {\n",
       "        vertical-align: middle;\n",
       "    }\n",
       "\n",
       "    .dataframe tbody tr th {\n",
       "        vertical-align: top;\n",
       "    }\n",
       "\n",
       "    .dataframe thead th {\n",
       "        text-align: right;\n",
       "    }\n",
       "</style>\n",
       "<table border=\"1\" class=\"dataframe\">\n",
       "  <thead>\n",
       "    <tr style=\"text-align: right;\">\n",
       "      <th></th>\n",
       "      <th>asset_id</th>\n",
       "      <th>content_id</th>\n",
       "      <th>title</th>\n",
       "      <th>reduced_title</th>\n",
       "      <th>episode_title</th>\n",
       "      <th>show_type</th>\n",
       "      <th>released_year</th>\n",
       "      <th>country_of_origin</th>\n",
       "      <th>category</th>\n",
       "      <th>keywords</th>\n",
       "      <th>...</th>\n",
       "      <th>language_rating</th>\n",
       "      <th>dialog_rating</th>\n",
       "      <th>fv_rating</th>\n",
       "      <th>pay_per_view</th>\n",
       "      <th>pack_premium_1</th>\n",
       "      <th>pack_premium_2</th>\n",
       "      <th>create_date</th>\n",
       "      <th>modify_date</th>\n",
       "      <th>start_vod_date</th>\n",
       "      <th>end_vod_date</th>\n",
       "    </tr>\n",
       "  </thead>\n",
       "  <tbody>\n",
       "    <tr>\n",
       "      <th>0</th>\n",
       "      <td>15188</td>\n",
       "      <td>0.0</td>\n",
       "      <td>Ep:17 Tiempos Compulsivos</td>\n",
       "      <td>Tiempos_Compul_E17</td>\n",
       "      <td>Episodio 17</td>\n",
       "      <td>Serie</td>\n",
       "      <td>2012.0</td>\n",
       "      <td>AR</td>\n",
       "      <td>Drama</td>\n",
       "      <td>Trastornos,Médicos,Tragicómica,Telenovela,Enfe...</td>\n",
       "      <td>...</td>\n",
       "      <td>N</td>\n",
       "      <td>N</td>\n",
       "      <td>N</td>\n",
       "      <td>N</td>\n",
       "      <td>N</td>\n",
       "      <td>N</td>\n",
       "      <td>2017-12-01T10:18:15.0Z</td>\n",
       "      <td>2019-01-26T06:37:18.0Z</td>\n",
       "      <td>2017-12-01T00:00:00.0Z</td>\n",
       "      <td>2020-12-01T23:59:59.0Z</td>\n",
       "    </tr>\n",
       "    <tr>\n",
       "      <th>1</th>\n",
       "      <td>24940</td>\n",
       "      <td>1.0</td>\n",
       "      <td>7 Cajas</td>\n",
       "      <td>7_Cajas</td>\n",
       "      <td>NaN</td>\n",
       "      <td>Película</td>\n",
       "      <td>2012.0</td>\n",
       "      <td>PY</td>\n",
       "      <td>Suspenso/Acción</td>\n",
       "      <td>Latinoamérica,Pobreza,Crimen,Pandillas</td>\n",
       "      <td>...</td>\n",
       "      <td>N</td>\n",
       "      <td>N</td>\n",
       "      <td>N</td>\n",
       "      <td>Y</td>\n",
       "      <td>N</td>\n",
       "      <td>N</td>\n",
       "      <td>2017-12-19T20:58:15.0Z</td>\n",
       "      <td>2019-09-17T19:02:03.0Z</td>\n",
       "      <td>2017-12-15T00:00:00.0Z</td>\n",
       "      <td>2022-12-14T23:59:59.0Z</td>\n",
       "    </tr>\n",
       "    <tr>\n",
       "      <th>2</th>\n",
       "      <td>21939</td>\n",
       "      <td>2.0</td>\n",
       "      <td>La Maldición de las Hormigas Gigantes</td>\n",
       "      <td>La_Maldicion_de_las</td>\n",
       "      <td>NaN</td>\n",
       "      <td>Película</td>\n",
       "      <td>2016.0</td>\n",
       "      <td>FI</td>\n",
       "      <td>Terror/Comedia</td>\n",
       "      <td>Criaturas,Plagas,Adolescentes,Fantasía,Video J...</td>\n",
       "      <td>...</td>\n",
       "      <td>N</td>\n",
       "      <td>N</td>\n",
       "      <td>N</td>\n",
       "      <td>N</td>\n",
       "      <td>N</td>\n",
       "      <td>N</td>\n",
       "      <td>2018-02-16T13:51:07.0Z</td>\n",
       "      <td>2020-04-28T14:16:38.0Z</td>\n",
       "      <td>2018-01-25T00:00:00.0Z</td>\n",
       "      <td>2020-12-01T23:59:59.0Z</td>\n",
       "    </tr>\n",
       "    <tr>\n",
       "      <th>3</th>\n",
       "      <td>9005</td>\n",
       "      <td>3.0</td>\n",
       "      <td>Una Mujer Fantástica</td>\n",
       "      <td>Una_Mujer_Fantastic</td>\n",
       "      <td>NaN</td>\n",
       "      <td>Película</td>\n",
       "      <td>2017.0</td>\n",
       "      <td>CL</td>\n",
       "      <td>Drama</td>\n",
       "      <td>LGBT,Mujeres,Latinoamérica</td>\n",
       "      <td>...</td>\n",
       "      <td>N</td>\n",
       "      <td>N</td>\n",
       "      <td>N</td>\n",
       "      <td>N</td>\n",
       "      <td>Y</td>\n",
       "      <td>N</td>\n",
       "      <td>2018-05-26T11:58:44.0Z</td>\n",
       "      <td>2019-11-15T03:00:23.0Z</td>\n",
       "      <td>2018-05-27T00:00:00.0Z</td>\n",
       "      <td>2021-04-30T23:59:59.0Z</td>\n",
       "    </tr>\n",
       "    <tr>\n",
       "      <th>4</th>\n",
       "      <td>7391</td>\n",
       "      <td>4.0</td>\n",
       "      <td>Star Trek</td>\n",
       "      <td>Star_Trek</td>\n",
       "      <td>NaN</td>\n",
       "      <td>Película</td>\n",
       "      <td>2009.0</td>\n",
       "      <td>US</td>\n",
       "      <td>Ciencia Ficción/Aventura</td>\n",
       "      <td>Fantasía,Galaxia,Futurismo,Aliens,Criaturas</td>\n",
       "      <td>...</td>\n",
       "      <td>N</td>\n",
       "      <td>N</td>\n",
       "      <td>N</td>\n",
       "      <td>Y</td>\n",
       "      <td>N</td>\n",
       "      <td>N</td>\n",
       "      <td>2019-05-03T20:07:24.0Z</td>\n",
       "      <td>2020-04-09T04:37:29.0Z</td>\n",
       "      <td>2019-05-02T00:00:00.0Z</td>\n",
       "      <td>2020-12-31T23:59:59.0Z</td>\n",
       "    </tr>\n",
       "  </tbody>\n",
       "</table>\n",
       "<p>5 rows × 30 columns</p>\n",
       "</div>"
      ],
      "text/plain": [
       "   asset_id  content_id                                  title  \\\n",
       "0     15188         0.0              Ep:17 Tiempos Compulsivos   \n",
       "1     24940         1.0                                7 Cajas   \n",
       "2     21939         2.0  La Maldición de las Hormigas Gigantes   \n",
       "3      9005         3.0                   Una Mujer Fantástica   \n",
       "4      7391         4.0                              Star Trek   \n",
       "\n",
       "         reduced_title episode_title show_type  released_year  \\\n",
       "0   Tiempos_Compul_E17   Episodio 17     Serie         2012.0   \n",
       "1              7_Cajas           NaN  Película         2012.0   \n",
       "2  La_Maldicion_de_las           NaN  Película         2016.0   \n",
       "3  Una_Mujer_Fantastic           NaN  Película         2017.0   \n",
       "4            Star_Trek           NaN  Película         2009.0   \n",
       "\n",
       "  country_of_origin                  category  \\\n",
       "0                AR                     Drama   \n",
       "1                PY           Suspenso/Acción   \n",
       "2                FI            Terror/Comedia   \n",
       "3                CL                     Drama   \n",
       "4                US  Ciencia Ficción/Aventura   \n",
       "\n",
       "                                            keywords  ... language_rating  \\\n",
       "0  Trastornos,Médicos,Tragicómica,Telenovela,Enfe...  ...               N   \n",
       "1             Latinoamérica,Pobreza,Crimen,Pandillas  ...               N   \n",
       "2  Criaturas,Plagas,Adolescentes,Fantasía,Video J...  ...               N   \n",
       "3                         LGBT,Mujeres,Latinoamérica  ...               N   \n",
       "4        Fantasía,Galaxia,Futurismo,Aliens,Criaturas  ...               N   \n",
       "\n",
       "  dialog_rating fv_rating pay_per_view  pack_premium_1 pack_premium_2  \\\n",
       "0             N         N            N               N              N   \n",
       "1             N         N            Y               N              N   \n",
       "2             N         N            N               N              N   \n",
       "3             N         N            N               Y              N   \n",
       "4             N         N            Y               N              N   \n",
       "\n",
       "              create_date             modify_date          start_vod_date  \\\n",
       "0  2017-12-01T10:18:15.0Z  2019-01-26T06:37:18.0Z  2017-12-01T00:00:00.0Z   \n",
       "1  2017-12-19T20:58:15.0Z  2019-09-17T19:02:03.0Z  2017-12-15T00:00:00.0Z   \n",
       "2  2018-02-16T13:51:07.0Z  2020-04-28T14:16:38.0Z  2018-01-25T00:00:00.0Z   \n",
       "3  2018-05-26T11:58:44.0Z  2019-11-15T03:00:23.0Z  2018-05-27T00:00:00.0Z   \n",
       "4  2019-05-03T20:07:24.0Z  2020-04-09T04:37:29.0Z  2019-05-02T00:00:00.0Z   \n",
       "\n",
       "             end_vod_date  \n",
       "0  2020-12-01T23:59:59.0Z  \n",
       "1  2022-12-14T23:59:59.0Z  \n",
       "2  2020-12-01T23:59:59.0Z  \n",
       "3  2021-04-30T23:59:59.0Z  \n",
       "4  2020-12-31T23:59:59.0Z  \n",
       "\n",
       "[5 rows x 30 columns]"
      ]
     },
     "execution_count": 6,
     "metadata": {},
     "output_type": "execute_result"
    }
   ],
   "source": [
    "# df_metadatos = pd.read_csv('/content/drive/MyDrive/Cursos/Especializacion en Data Science/Sprint 3/metadata.csv', delimiter=';')\n",
    "df_metadatos = pd.read_csv('c:/Users/Asus/Downloads/Curso Data Science - 2022/Cuarto Trabajo/data/metadata.csv', delimiter=';')\n",
    "df_metadatos.head()"
   ]
  },
  {
   "cell_type": "code",
   "execution_count": 7,
   "metadata": {
    "colab": {
     "base_uri": "https://localhost:8080/"
    },
    "id": "ssLVGWi_3NtF",
    "outputId": "760e2d51-26b2-490c-de4f-f3c2e362f918"
   },
   "outputs": [
    {
     "data": {
      "text/plain": [
       "(3657801, 7)"
      ]
     },
     "execution_count": 7,
     "metadata": {},
     "output_type": "execute_result"
    }
   ],
   "source": [
    "df_train.shape"
   ]
  },
  {
   "cell_type": "code",
   "execution_count": 9,
   "metadata": {
    "colab": {
     "base_uri": "https://localhost:8080/"
    },
    "id": "pfsMzFx2nk4f",
    "outputId": "6f276a56-52d6-4af1-9602-f1451885cb02"
   },
   "outputs": [
    {
     "data": {
      "text/plain": [
       "113881"
      ]
     },
     "execution_count": 9,
     "metadata": {},
     "output_type": "execute_result"
    }
   ],
   "source": [
    "df_train.account_id.nunique()"
   ]
  },
  {
   "cell_type": "code",
   "execution_count": 10,
   "metadata": {
    "colab": {
     "base_uri": "https://localhost:8080/"
    },
    "id": "7oxkLI8jMOGj",
    "outputId": "5fd8e915-4a0c-4e1e-cfdf-95d010d463a9"
   },
   "outputs": [
    {
     "name": "stdout",
     "output_type": "stream",
     "text": [
      "<class 'pandas.core.frame.DataFrame'>\n",
      "RangeIndex: 3657801 entries, 0 to 3657800\n",
      "Data columns (total 7 columns):\n",
      " #   Column       Dtype  \n",
      "---  ------       -----  \n",
      " 0   customer_id  int64  \n",
      " 1   account_id   int64  \n",
      " 2   device_type  object \n",
      " 3   asset_id     float64\n",
      " 4   tunein       object \n",
      " 5   tuneout      object \n",
      " 6   resume       int64  \n",
      "dtypes: float64(1), int64(3), object(3)\n",
      "memory usage: 195.3+ MB\n"
     ]
    }
   ],
   "source": [
    "df_train.info()"
   ]
  },
  {
   "cell_type": "code",
   "execution_count": 11,
   "metadata": {
    "colab": {
     "base_uri": "https://localhost:8080/"
    },
    "id": "SwD48dzZ2zy_",
    "outputId": "bab4d3dd-3168-4bf4-b1c1-041a63d347bd"
   },
   "outputs": [
    {
     "data": {
      "text/plain": [
       "(33144, 30)"
      ]
     },
     "execution_count": 11,
     "metadata": {},
     "output_type": "execute_result"
    }
   ],
   "source": [
    "df_metadatos.shape"
   ]
  },
  {
   "cell_type": "code",
   "execution_count": 12,
   "metadata": {
    "colab": {
     "base_uri": "https://localhost:8080/"
    },
    "id": "LFSkAjObnzuO",
    "outputId": "3d5b4f6d-4a2e-40b2-e450-f3d6cfbd58a9"
   },
   "outputs": [
    {
     "data": {
      "text/plain": [
       "33144"
      ]
     },
     "execution_count": 12,
     "metadata": {},
     "output_type": "execute_result"
    }
   ],
   "source": [
    "df_metadatos.asset_id.nunique()"
   ]
  },
  {
   "cell_type": "code",
   "execution_count": 13,
   "metadata": {
    "colab": {
     "base_uri": "https://localhost:8080/"
    },
    "id": "pEEzUuVPn3vy",
    "outputId": "254bb288-4916-4864-cde7-142cd2c4d6b5"
   },
   "outputs": [
    {
     "data": {
      "text/plain": [
       "4366"
      ]
     },
     "execution_count": 13,
     "metadata": {},
     "output_type": "execute_result"
    }
   ],
   "source": [
    "df_metadatos.content_id.nunique()"
   ]
  },
  {
   "cell_type": "code",
   "execution_count": 14,
   "metadata": {
    "id": "tMb4ygBsn7HF"
   },
   "outputs": [
    {
     "name": "stdout",
     "output_type": "stream",
     "text": [
      "<class 'pandas.core.frame.DataFrame'>\n",
      "RangeIndex: 33144 entries, 0 to 33143\n",
      "Data columns (total 30 columns):\n",
      " #   Column              Non-Null Count  Dtype  \n",
      "---  ------              --------------  -----  \n",
      " 0   asset_id            33144 non-null  int64  \n",
      " 1   content_id          33123 non-null  float64\n",
      " 2   title               33144 non-null  object \n",
      " 3   reduced_title       33144 non-null  object \n",
      " 4   episode_title       28997 non-null  object \n",
      " 5   show_type           33140 non-null  object \n",
      " 6   released_year       33144 non-null  float64\n",
      " 7   country_of_origin   33140 non-null  object \n",
      " 8   category            33144 non-null  object \n",
      " 9   keywords            33142 non-null  object \n",
      " 10  description         33142 non-null  object \n",
      " 11  reduced_desc        33144 non-null  object \n",
      " 12  cast_first_name     24412 non-null  object \n",
      " 13  credits_first_name  20590 non-null  object \n",
      " 14  run_time_min        33144 non-null  float64\n",
      " 15  audience            33143 non-null  object \n",
      " 16  made_for_tv         33144 non-null  object \n",
      " 17  close_caption       33144 non-null  object \n",
      " 18  sex_rating          33144 non-null  object \n",
      " 19  violence_rating     33144 non-null  object \n",
      " 20  language_rating     33144 non-null  object \n",
      " 21  dialog_rating       33144 non-null  object \n",
      " 22  fv_rating           33144 non-null  object \n",
      " 23  pay_per_view        33144 non-null  object \n",
      " 24  pack_premium_1      33144 non-null  object \n",
      " 25  pack_premium_2      33144 non-null  object \n",
      " 26  create_date         33144 non-null  object \n",
      " 27  modify_date         33144 non-null  object \n",
      " 28  start_vod_date      33144 non-null  object \n",
      " 29  end_vod_date        33144 non-null  object \n",
      "dtypes: float64(3), int64(1), object(26)\n",
      "memory usage: 7.6+ MB\n"
     ]
    }
   ],
   "source": [
    "df_metadatos.info()"
   ]
  },
  {
   "cell_type": "code",
   "execution_count": 15,
   "metadata": {
    "colab": {
     "base_uri": "https://localhost:8080/"
    },
    "id": "TY7Qc77b3Z2i",
    "outputId": "04c85432-e92b-4af9-c150-a27d2d8e9426"
   },
   "outputs": [
    {
     "data": {
      "text/plain": [
       "customer_id     0\n",
       "account_id      0\n",
       "device_type    29\n",
       "asset_id       22\n",
       "tunein          0\n",
       "tuneout         0\n",
       "resume          0\n",
       "dtype: int64"
      ]
     },
     "execution_count": 15,
     "metadata": {},
     "output_type": "execute_result"
    }
   ],
   "source": [
    "df_train.isna().sum()"
   ]
  },
  {
   "cell_type": "code",
   "execution_count": null,
   "metadata": {
    "colab": {
     "base_uri": "https://localhost:8080/"
    },
    "id": "63QYY01E3emf",
    "outputId": "ae36a171-fbed-4a9a-98fc-ba0570d629a1"
   },
   "outputs": [
    {
     "data": {
      "text/plain": [
       "asset_id                  0\n",
       "content_id               21\n",
       "title                     0\n",
       "reduced_title             0\n",
       "episode_title          4147\n",
       "show_type                 4\n",
       "released_year             0\n",
       "country_of_origin         4\n",
       "category                  0\n",
       "keywords                  2\n",
       "description               2\n",
       "reduced_desc              0\n",
       "cast_first_name        8732\n",
       "credits_first_name    12554\n",
       "run_time_min              0\n",
       "audience                  1\n",
       "made_for_tv               0\n",
       "close_caption             0\n",
       "sex_rating                0\n",
       "violence_rating           0\n",
       "language_rating           0\n",
       "dialog_rating             0\n",
       "fv_rating                 0\n",
       "pay_per_view              0\n",
       "pack_premium_1            0\n",
       "pack_premium_2            0\n",
       "create_date               0\n",
       "modify_date               0\n",
       "start_vod_date            0\n",
       "end_vod_date              0\n",
       "dtype: int64"
      ]
     },
     "execution_count": 16,
     "metadata": {},
     "output_type": "execute_result"
    }
   ],
   "source": [
    "df_metadatos.isna().sum()"
   ]
  },
  {
   "cell_type": "markdown",
   "metadata": {
    "id": "1SP7ajmUN7C6"
   },
   "source": [
    "Convertimos 'tunein' a YYYYmmDD, ya que lo utilizaremos para hacer el split para train y test"
   ]
  },
  {
   "cell_type": "code",
   "execution_count": 16,
   "metadata": {
    "colab": {
     "base_uri": "https://localhost:8080/",
     "height": 206
    },
    "id": "rbHhgvbYpUbQ",
    "outputId": "073fc2f2-5fbb-4497-defc-a872bc5ab053"
   },
   "outputs": [
    {
     "data": {
      "text/html": [
       "<div>\n",
       "<style scoped>\n",
       "    .dataframe tbody tr th:only-of-type {\n",
       "        vertical-align: middle;\n",
       "    }\n",
       "\n",
       "    .dataframe tbody tr th {\n",
       "        vertical-align: top;\n",
       "    }\n",
       "\n",
       "    .dataframe thead th {\n",
       "        text-align: right;\n",
       "    }\n",
       "</style>\n",
       "<table border=\"1\" class=\"dataframe\">\n",
       "  <thead>\n",
       "    <tr style=\"text-align: right;\">\n",
       "      <th></th>\n",
       "      <th>customer_id</th>\n",
       "      <th>account_id</th>\n",
       "      <th>device_type</th>\n",
       "      <th>asset_id</th>\n",
       "      <th>tunein</th>\n",
       "      <th>tuneout</th>\n",
       "      <th>resume</th>\n",
       "      <th>timestamp</th>\n",
       "    </tr>\n",
       "  </thead>\n",
       "  <tbody>\n",
       "    <tr>\n",
       "      <th>0</th>\n",
       "      <td>0</td>\n",
       "      <td>90627</td>\n",
       "      <td>STATIONARY</td>\n",
       "      <td>18332.0</td>\n",
       "      <td>2021-02-18 22:52:00.0</td>\n",
       "      <td>2021-02-18 23:35:00.0</td>\n",
       "      <td>0</td>\n",
       "      <td>2021-02-18</td>\n",
       "    </tr>\n",
       "    <tr>\n",
       "      <th>1</th>\n",
       "      <td>0</td>\n",
       "      <td>90627</td>\n",
       "      <td>STATIONARY</td>\n",
       "      <td>24727.0</td>\n",
       "      <td>2021-03-24 23:17:00.0</td>\n",
       "      <td>2021-03-25 00:01:00.0</td>\n",
       "      <td>0</td>\n",
       "      <td>2021-03-24</td>\n",
       "    </tr>\n",
       "    <tr>\n",
       "      <th>2</th>\n",
       "      <td>1</td>\n",
       "      <td>3387</td>\n",
       "      <td>STB</td>\n",
       "      <td>895.0</td>\n",
       "      <td>2021-03-15 10:05:00.0</td>\n",
       "      <td>2021-03-15 10:23:00.0</td>\n",
       "      <td>0</td>\n",
       "      <td>2021-03-15</td>\n",
       "    </tr>\n",
       "    <tr>\n",
       "      <th>3</th>\n",
       "      <td>1</td>\n",
       "      <td>3387</td>\n",
       "      <td>STB</td>\n",
       "      <td>895.0</td>\n",
       "      <td>2021-03-15 10:23:00.0</td>\n",
       "      <td>2021-03-15 11:18:00.0</td>\n",
       "      <td>1</td>\n",
       "      <td>2021-03-15</td>\n",
       "    </tr>\n",
       "    <tr>\n",
       "      <th>4</th>\n",
       "      <td>1</td>\n",
       "      <td>3387</td>\n",
       "      <td>STB</td>\n",
       "      <td>26062.0</td>\n",
       "      <td>2021-03-16 09:24:00.0</td>\n",
       "      <td>2021-03-16 09:44:00.0</td>\n",
       "      <td>0</td>\n",
       "      <td>2021-03-16</td>\n",
       "    </tr>\n",
       "  </tbody>\n",
       "</table>\n",
       "</div>"
      ],
      "text/plain": [
       "   customer_id  account_id device_type  asset_id                 tunein  \\\n",
       "0            0       90627  STATIONARY   18332.0  2021-02-18 22:52:00.0   \n",
       "1            0       90627  STATIONARY   24727.0  2021-03-24 23:17:00.0   \n",
       "2            1        3387         STB     895.0  2021-03-15 10:05:00.0   \n",
       "3            1        3387         STB     895.0  2021-03-15 10:23:00.0   \n",
       "4            1        3387         STB   26062.0  2021-03-16 09:24:00.0   \n",
       "\n",
       "                 tuneout  resume  timestamp  \n",
       "0  2021-02-18 23:35:00.0       0 2021-02-18  \n",
       "1  2021-03-25 00:01:00.0       0 2021-03-24  \n",
       "2  2021-03-15 10:23:00.0       0 2021-03-15  \n",
       "3  2021-03-15 11:18:00.0       1 2021-03-15  \n",
       "4  2021-03-16 09:44:00.0       0 2021-03-16  "
      ]
     },
     "execution_count": 16,
     "metadata": {},
     "output_type": "execute_result"
    }
   ],
   "source": [
    "df_train['timestamp'] = pd.to_datetime(df_train['tunein'], format='%Y/%m/%d')\n",
    "df_train['timestamp'] = df_train['timestamp'].dt.strftime('%Y/%m/%d')\n",
    "df_train['timestamp'] = pd.to_datetime(df_train['timestamp'], format='%Y/%m/%d')\n",
    "df_train.head()"
   ]
  },
  {
   "cell_type": "markdown",
   "metadata": {
    "id": "0Jud-pi9soK3"
   },
   "source": [
    "Fecha mínima y máxima del dataset"
   ]
  },
  {
   "cell_type": "code",
   "execution_count": null,
   "metadata": {
    "colab": {
     "base_uri": "https://localhost:8080/"
    },
    "id": "TvP0Yq8cssTe",
    "outputId": "51eabfc2-16c9-4290-d5c2-8e3b84bb55f6"
   },
   "outputs": [
    {
     "data": {
      "text/plain": [
       "Timestamp('2021-01-01 00:00:00')"
      ]
     },
     "execution_count": 70,
     "metadata": {},
     "output_type": "execute_result"
    }
   ],
   "source": [
    "df_train.timestamp.min()"
   ]
  },
  {
   "cell_type": "code",
   "execution_count": null,
   "metadata": {
    "colab": {
     "base_uri": "https://localhost:8080/"
    },
    "id": "wpOPSmYAsyYp",
    "outputId": "a62e463b-c5ad-427e-b097-6566c7e2185c"
   },
   "outputs": [
    {
     "data": {
      "text/plain": [
       "Timestamp('2021-03-31 00:00:00')"
      ]
     },
     "execution_count": 71,
     "metadata": {},
     "output_type": "execute_result"
    }
   ],
   "source": [
    "df_train.timestamp.max()"
   ]
  },
  {
   "cell_type": "markdown",
   "metadata": {
    "id": "IWX6m9cAs6Fe"
   },
   "source": [
    "Ploteamos la cantidad de reviews por año:"
   ]
  },
  {
   "cell_type": "code",
   "execution_count": null,
   "metadata": {
    "colab": {
     "base_uri": "https://localhost:8080/",
     "height": 81
    },
    "id": "rGdEmTg3s84V",
    "outputId": "a36d1336-9a3a-4645-a587-80b80e4f9dab"
   },
   "outputs": [
    {
     "data": {
      "text/html": [
       "\n",
       "  <div id=\"df-7d0a35cd-05eb-4a36-ad0b-78cafe22baa7\">\n",
       "    <div class=\"colab-df-container\">\n",
       "      <div>\n",
       "<style scoped>\n",
       "    .dataframe tbody tr th:only-of-type {\n",
       "        vertical-align: middle;\n",
       "    }\n",
       "\n",
       "    .dataframe tbody tr th {\n",
       "        vertical-align: top;\n",
       "    }\n",
       "\n",
       "    .dataframe thead th {\n",
       "        text-align: right;\n",
       "    }\n",
       "</style>\n",
       "<table border=\"1\" class=\"dataframe\">\n",
       "  <thead>\n",
       "    <tr style=\"text-align: right;\">\n",
       "      <th></th>\n",
       "      <th>year</th>\n",
       "      <th>reviews_count</th>\n",
       "    </tr>\n",
       "  </thead>\n",
       "  <tbody>\n",
       "    <tr>\n",
       "      <th>0</th>\n",
       "      <td>2021</td>\n",
       "      <td>3657801</td>\n",
       "    </tr>\n",
       "  </tbody>\n",
       "</table>\n",
       "</div>\n",
       "      <button class=\"colab-df-convert\" onclick=\"convertToInteractive('df-7d0a35cd-05eb-4a36-ad0b-78cafe22baa7')\"\n",
       "              title=\"Convert this dataframe to an interactive table.\"\n",
       "              style=\"display:none;\">\n",
       "        \n",
       "  <svg xmlns=\"http://www.w3.org/2000/svg\" height=\"24px\"viewBox=\"0 0 24 24\"\n",
       "       width=\"24px\">\n",
       "    <path d=\"M0 0h24v24H0V0z\" fill=\"none\"/>\n",
       "    <path d=\"M18.56 5.44l.94 2.06.94-2.06 2.06-.94-2.06-.94-.94-2.06-.94 2.06-2.06.94zm-11 1L8.5 8.5l.94-2.06 2.06-.94-2.06-.94L8.5 2.5l-.94 2.06-2.06.94zm10 10l.94 2.06.94-2.06 2.06-.94-2.06-.94-.94-2.06-.94 2.06-2.06.94z\"/><path d=\"M17.41 7.96l-1.37-1.37c-.4-.4-.92-.59-1.43-.59-.52 0-1.04.2-1.43.59L10.3 9.45l-7.72 7.72c-.78.78-.78 2.05 0 2.83L4 21.41c.39.39.9.59 1.41.59.51 0 1.02-.2 1.41-.59l7.78-7.78 2.81-2.81c.8-.78.8-2.07 0-2.86zM5.41 20L4 18.59l7.72-7.72 1.47 1.35L5.41 20z\"/>\n",
       "  </svg>\n",
       "      </button>\n",
       "      \n",
       "  <style>\n",
       "    .colab-df-container {\n",
       "      display:flex;\n",
       "      flex-wrap:wrap;\n",
       "      gap: 12px;\n",
       "    }\n",
       "\n",
       "    .colab-df-convert {\n",
       "      background-color: #E8F0FE;\n",
       "      border: none;\n",
       "      border-radius: 50%;\n",
       "      cursor: pointer;\n",
       "      display: none;\n",
       "      fill: #1967D2;\n",
       "      height: 32px;\n",
       "      padding: 0 0 0 0;\n",
       "      width: 32px;\n",
       "    }\n",
       "\n",
       "    .colab-df-convert:hover {\n",
       "      background-color: #E2EBFA;\n",
       "      box-shadow: 0px 1px 2px rgba(60, 64, 67, 0.3), 0px 1px 3px 1px rgba(60, 64, 67, 0.15);\n",
       "      fill: #174EA6;\n",
       "    }\n",
       "\n",
       "    [theme=dark] .colab-df-convert {\n",
       "      background-color: #3B4455;\n",
       "      fill: #D2E3FC;\n",
       "    }\n",
       "\n",
       "    [theme=dark] .colab-df-convert:hover {\n",
       "      background-color: #434B5C;\n",
       "      box-shadow: 0px 1px 3px 1px rgba(0, 0, 0, 0.15);\n",
       "      filter: drop-shadow(0px 1px 2px rgba(0, 0, 0, 0.3));\n",
       "      fill: #FFFFFF;\n",
       "    }\n",
       "  </style>\n",
       "\n",
       "      <script>\n",
       "        const buttonEl =\n",
       "          document.querySelector('#df-7d0a35cd-05eb-4a36-ad0b-78cafe22baa7 button.colab-df-convert');\n",
       "        buttonEl.style.display =\n",
       "          google.colab.kernel.accessAllowed ? 'block' : 'none';\n",
       "\n",
       "        async function convertToInteractive(key) {\n",
       "          const element = document.querySelector('#df-7d0a35cd-05eb-4a36-ad0b-78cafe22baa7');\n",
       "          const dataTable =\n",
       "            await google.colab.kernel.invokeFunction('convertToInteractive',\n",
       "                                                     [key], {});\n",
       "          if (!dataTable) return;\n",
       "\n",
       "          const docLinkHtml = 'Like what you see? Visit the ' +\n",
       "            '<a target=\"_blank\" href=https://colab.research.google.com/notebooks/data_table.ipynb>data table notebook</a>'\n",
       "            + ' to learn more about interactive tables.';\n",
       "          element.innerHTML = '';\n",
       "          dataTable['output_type'] = 'display_data';\n",
       "          await google.colab.output.renderOutput(dataTable, element);\n",
       "          const docLink = document.createElement('div');\n",
       "          docLink.innerHTML = docLinkHtml;\n",
       "          element.appendChild(docLink);\n",
       "        }\n",
       "      </script>\n",
       "    </div>\n",
       "  </div>\n",
       "  "
      ],
      "text/plain": [
       "   year  reviews_count\n",
       "0  2021        3657801"
      ]
     },
     "execution_count": 72,
     "metadata": {},
     "output_type": "execute_result"
    }
   ],
   "source": [
    "plot_df = df_train.copy()\n",
    "plot_df[\"year\"] = df_train.timestamp.dt.year\n",
    "plot_df = plot_df.groupby(\"year\", as_index=False).count()[[\"year\", \"customer_id\"]]\n",
    "plot_df.columns = [\"year\", \"reviews_count\"]\n",
    "plot_df.head()"
   ]
  },
  {
   "cell_type": "markdown",
   "metadata": {
    "id": "mJ6RaoJPxKaZ"
   },
   "source": [
    "Ploteamos la cantidad de reviews por mes:"
   ]
  },
  {
   "cell_type": "code",
   "execution_count": null,
   "metadata": {
    "colab": {
     "base_uri": "https://localhost:8080/",
     "height": 143
    },
    "id": "I11ztYl9wxz6",
    "outputId": "4f557d68-44a6-4699-ffdf-73097f5eb99e"
   },
   "outputs": [
    {
     "data": {
      "text/html": [
       "\n",
       "  <div id=\"df-eadea75d-9bab-4f99-b20e-d1d6601b255b\">\n",
       "    <div class=\"colab-df-container\">\n",
       "      <div>\n",
       "<style scoped>\n",
       "    .dataframe tbody tr th:only-of-type {\n",
       "        vertical-align: middle;\n",
       "    }\n",
       "\n",
       "    .dataframe tbody tr th {\n",
       "        vertical-align: top;\n",
       "    }\n",
       "\n",
       "    .dataframe thead th {\n",
       "        text-align: right;\n",
       "    }\n",
       "</style>\n",
       "<table border=\"1\" class=\"dataframe\">\n",
       "  <thead>\n",
       "    <tr style=\"text-align: right;\">\n",
       "      <th></th>\n",
       "      <th>month</th>\n",
       "      <th>reviews_count</th>\n",
       "    </tr>\n",
       "  </thead>\n",
       "  <tbody>\n",
       "    <tr>\n",
       "      <th>0</th>\n",
       "      <td>1</td>\n",
       "      <td>1216469</td>\n",
       "    </tr>\n",
       "    <tr>\n",
       "      <th>1</th>\n",
       "      <td>2</td>\n",
       "      <td>1122595</td>\n",
       "    </tr>\n",
       "    <tr>\n",
       "      <th>2</th>\n",
       "      <td>3</td>\n",
       "      <td>1318737</td>\n",
       "    </tr>\n",
       "  </tbody>\n",
       "</table>\n",
       "</div>\n",
       "      <button class=\"colab-df-convert\" onclick=\"convertToInteractive('df-eadea75d-9bab-4f99-b20e-d1d6601b255b')\"\n",
       "              title=\"Convert this dataframe to an interactive table.\"\n",
       "              style=\"display:none;\">\n",
       "        \n",
       "  <svg xmlns=\"http://www.w3.org/2000/svg\" height=\"24px\"viewBox=\"0 0 24 24\"\n",
       "       width=\"24px\">\n",
       "    <path d=\"M0 0h24v24H0V0z\" fill=\"none\"/>\n",
       "    <path d=\"M18.56 5.44l.94 2.06.94-2.06 2.06-.94-2.06-.94-.94-2.06-.94 2.06-2.06.94zm-11 1L8.5 8.5l.94-2.06 2.06-.94-2.06-.94L8.5 2.5l-.94 2.06-2.06.94zm10 10l.94 2.06.94-2.06 2.06-.94-2.06-.94-.94-2.06-.94 2.06-2.06.94z\"/><path d=\"M17.41 7.96l-1.37-1.37c-.4-.4-.92-.59-1.43-.59-.52 0-1.04.2-1.43.59L10.3 9.45l-7.72 7.72c-.78.78-.78 2.05 0 2.83L4 21.41c.39.39.9.59 1.41.59.51 0 1.02-.2 1.41-.59l7.78-7.78 2.81-2.81c.8-.78.8-2.07 0-2.86zM5.41 20L4 18.59l7.72-7.72 1.47 1.35L5.41 20z\"/>\n",
       "  </svg>\n",
       "      </button>\n",
       "      \n",
       "  <style>\n",
       "    .colab-df-container {\n",
       "      display:flex;\n",
       "      flex-wrap:wrap;\n",
       "      gap: 12px;\n",
       "    }\n",
       "\n",
       "    .colab-df-convert {\n",
       "      background-color: #E8F0FE;\n",
       "      border: none;\n",
       "      border-radius: 50%;\n",
       "      cursor: pointer;\n",
       "      display: none;\n",
       "      fill: #1967D2;\n",
       "      height: 32px;\n",
       "      padding: 0 0 0 0;\n",
       "      width: 32px;\n",
       "    }\n",
       "\n",
       "    .colab-df-convert:hover {\n",
       "      background-color: #E2EBFA;\n",
       "      box-shadow: 0px 1px 2px rgba(60, 64, 67, 0.3), 0px 1px 3px 1px rgba(60, 64, 67, 0.15);\n",
       "      fill: #174EA6;\n",
       "    }\n",
       "\n",
       "    [theme=dark] .colab-df-convert {\n",
       "      background-color: #3B4455;\n",
       "      fill: #D2E3FC;\n",
       "    }\n",
       "\n",
       "    [theme=dark] .colab-df-convert:hover {\n",
       "      background-color: #434B5C;\n",
       "      box-shadow: 0px 1px 3px 1px rgba(0, 0, 0, 0.15);\n",
       "      filter: drop-shadow(0px 1px 2px rgba(0, 0, 0, 0.3));\n",
       "      fill: #FFFFFF;\n",
       "    }\n",
       "  </style>\n",
       "\n",
       "      <script>\n",
       "        const buttonEl =\n",
       "          document.querySelector('#df-eadea75d-9bab-4f99-b20e-d1d6601b255b button.colab-df-convert');\n",
       "        buttonEl.style.display =\n",
       "          google.colab.kernel.accessAllowed ? 'block' : 'none';\n",
       "\n",
       "        async function convertToInteractive(key) {\n",
       "          const element = document.querySelector('#df-eadea75d-9bab-4f99-b20e-d1d6601b255b');\n",
       "          const dataTable =\n",
       "            await google.colab.kernel.invokeFunction('convertToInteractive',\n",
       "                                                     [key], {});\n",
       "          if (!dataTable) return;\n",
       "\n",
       "          const docLinkHtml = 'Like what you see? Visit the ' +\n",
       "            '<a target=\"_blank\" href=https://colab.research.google.com/notebooks/data_table.ipynb>data table notebook</a>'\n",
       "            + ' to learn more about interactive tables.';\n",
       "          element.innerHTML = '';\n",
       "          dataTable['output_type'] = 'display_data';\n",
       "          await google.colab.output.renderOutput(dataTable, element);\n",
       "          const docLink = document.createElement('div');\n",
       "          docLink.innerHTML = docLinkHtml;\n",
       "          element.appendChild(docLink);\n",
       "        }\n",
       "      </script>\n",
       "    </div>\n",
       "  </div>\n",
       "  "
      ],
      "text/plain": [
       "   month  reviews_count\n",
       "0      1        1216469\n",
       "1      2        1122595\n",
       "2      3        1318737"
      ]
     },
     "execution_count": 73,
     "metadata": {},
     "output_type": "execute_result"
    }
   ],
   "source": [
    "plot_df = df_train.copy()\n",
    "plot_df[\"month\"] = df_train.timestamp.dt.month\n",
    "plot_df = plot_df.groupby(\"month\", as_index=False).count()[[\"month\", \"customer_id\"]]\n",
    "plot_df.columns = [\"month\", \"reviews_count\"]\n",
    "plot_df.head()"
   ]
  },
  {
   "cell_type": "code",
   "execution_count": null,
   "metadata": {
    "colab": {
     "base_uri": "https://localhost:8080/",
     "height": 350
    },
    "id": "DwjfjxpExuCl",
    "outputId": "65c4fe0b-c8ff-4d71-f2db-5adfe81ce731"
   },
   "outputs": [
    {
     "data": {
      "image/png": "[encoded data removed]",
      "text/plain": [
       "<Figure size 1080x360 with 1 Axes>"
      ]
     },
     "metadata": {
      "needs_background": "light"
     },
     "output_type": "display_data"
    }
   ],
   "source": [
    "plt.figure(figsize=(15,5))\n",
    "sns.barplot(x=plot_df.month, y=plot_df.reviews_count)\n",
    "plt.title(\"Cantidad de reviews por mes\")\n",
    "plt.show()"
   ]
  },
  {
   "cell_type": "markdown",
   "metadata": {
    "id": "j6nVS-W-pUwa"
   },
   "source": [
    "Empezamos con el rating"
   ]
  },
  {
   "cell_type": "markdown",
   "metadata": {},
   "source": [
    "según la profe: sumamos los tiempos (accountid y contentid) y luego los dropeamos"
   ]
  },
  {
   "cell_type": "code",
   "execution_count": 17,
   "metadata": {
    "id": "CyrQ8F5cLgyo"
   },
   "outputs": [],
   "source": [
    "df_train['from'] =  pd.to_datetime(df_train['tunein'], format='%Y-%m-%d %H:%M:%S.%f')"
   ]
  },
  {
   "cell_type": "code",
   "execution_count": 18,
   "metadata": {
    "id": "Qh4VunbWN2y5"
   },
   "outputs": [],
   "source": [
    "df_train['to'] =  pd.to_datetime(df_train['tuneout'], format='%Y-%m-%d %H:%M:%S.%f')"
   ]
  },
  {
   "cell_type": "code",
   "execution_count": 21,
   "metadata": {
    "colab": {
     "base_uri": "https://localhost:8080/",
     "height": 250
    },
    "id": "B2C-5McaOAc5",
    "outputId": "32d7de85-5600-47bb-c2fc-e1241a829897"
   },
   "outputs": [
    {
     "data": {
      "text/html": [
       "<div>\n",
       "<style scoped>\n",
       "    .dataframe tbody tr th:only-of-type {\n",
       "        vertical-align: middle;\n",
       "    }\n",
       "\n",
       "    .dataframe tbody tr th {\n",
       "        vertical-align: top;\n",
       "    }\n",
       "\n",
       "    .dataframe thead th {\n",
       "        text-align: right;\n",
       "    }\n",
       "</style>\n",
       "<table border=\"1\" class=\"dataframe\">\n",
       "  <thead>\n",
       "    <tr style=\"text-align: right;\">\n",
       "      <th></th>\n",
       "      <th>customer_id</th>\n",
       "      <th>account_id</th>\n",
       "      <th>device_type</th>\n",
       "      <th>asset_id</th>\n",
       "      <th>tunein</th>\n",
       "      <th>tuneout</th>\n",
       "      <th>resume</th>\n",
       "      <th>timestamp</th>\n",
       "      <th>from</th>\n",
       "      <th>to</th>\n",
       "      <th>resultado</th>\n",
       "      <th>minutos</th>\n",
       "    </tr>\n",
       "  </thead>\n",
       "  <tbody>\n",
       "    <tr>\n",
       "      <th>0</th>\n",
       "      <td>0</td>\n",
       "      <td>90627</td>\n",
       "      <td>STATIONARY</td>\n",
       "      <td>18332.0</td>\n",
       "      <td>2021-02-18 22:52:00.0</td>\n",
       "      <td>2021-02-18 23:35:00.0</td>\n",
       "      <td>0</td>\n",
       "      <td>2021-02-18</td>\n",
       "      <td>2021-02-18 22:52:00</td>\n",
       "      <td>2021-02-18 23:35:00</td>\n",
       "      <td>0 days 00:43:00</td>\n",
       "      <td>43.0</td>\n",
       "    </tr>\n",
       "    <tr>\n",
       "      <th>1</th>\n",
       "      <td>0</td>\n",
       "      <td>90627</td>\n",
       "      <td>STATIONARY</td>\n",
       "      <td>24727.0</td>\n",
       "      <td>2021-03-24 23:17:00.0</td>\n",
       "      <td>2021-03-25 00:01:00.0</td>\n",
       "      <td>0</td>\n",
       "      <td>2021-03-24</td>\n",
       "      <td>2021-03-24 23:17:00</td>\n",
       "      <td>2021-03-25 00:01:00</td>\n",
       "      <td>0 days 00:44:00</td>\n",
       "      <td>44.0</td>\n",
       "    </tr>\n",
       "    <tr>\n",
       "      <th>2</th>\n",
       "      <td>1</td>\n",
       "      <td>3387</td>\n",
       "      <td>STB</td>\n",
       "      <td>895.0</td>\n",
       "      <td>2021-03-15 10:05:00.0</td>\n",
       "      <td>2021-03-15 10:23:00.0</td>\n",
       "      <td>0</td>\n",
       "      <td>2021-03-15</td>\n",
       "      <td>2021-03-15 10:05:00</td>\n",
       "      <td>2021-03-15 10:23:00</td>\n",
       "      <td>0 days 00:18:00</td>\n",
       "      <td>18.0</td>\n",
       "    </tr>\n",
       "    <tr>\n",
       "      <th>3</th>\n",
       "      <td>1</td>\n",
       "      <td>3387</td>\n",
       "      <td>STB</td>\n",
       "      <td>895.0</td>\n",
       "      <td>2021-03-15 10:23:00.0</td>\n",
       "      <td>2021-03-15 11:18:00.0</td>\n",
       "      <td>1</td>\n",
       "      <td>2021-03-15</td>\n",
       "      <td>2021-03-15 10:23:00</td>\n",
       "      <td>2021-03-15 11:18:00</td>\n",
       "      <td>0 days 00:55:00</td>\n",
       "      <td>55.0</td>\n",
       "    </tr>\n",
       "    <tr>\n",
       "      <th>4</th>\n",
       "      <td>1</td>\n",
       "      <td>3387</td>\n",
       "      <td>STB</td>\n",
       "      <td>26062.0</td>\n",
       "      <td>2021-03-16 09:24:00.0</td>\n",
       "      <td>2021-03-16 09:44:00.0</td>\n",
       "      <td>0</td>\n",
       "      <td>2021-03-16</td>\n",
       "      <td>2021-03-16 09:24:00</td>\n",
       "      <td>2021-03-16 09:44:00</td>\n",
       "      <td>0 days 00:20:00</td>\n",
       "      <td>20.0</td>\n",
       "    </tr>\n",
       "  </tbody>\n",
       "</table>\n",
       "</div>"
      ],
      "text/plain": [
       "   customer_id  account_id device_type  asset_id                 tunein  \\\n",
       "0            0       90627  STATIONARY   18332.0  2021-02-18 22:52:00.0   \n",
       "1            0       90627  STATIONARY   24727.0  2021-03-24 23:17:00.0   \n",
       "2            1        3387         STB     895.0  2021-03-15 10:05:00.0   \n",
       "3            1        3387         STB     895.0  2021-03-15 10:23:00.0   \n",
       "4            1        3387         STB   26062.0  2021-03-16 09:24:00.0   \n",
       "\n",
       "                 tuneout  resume  timestamp                from  \\\n",
       "0  2021-02-18 23:35:00.0       0 2021-02-18 2021-02-18 22:52:00   \n",
       "1  2021-03-25 00:01:00.0       0 2021-03-24 2021-03-24 23:17:00   \n",
       "2  2021-03-15 10:23:00.0       0 2021-03-15 2021-03-15 10:05:00   \n",
       "3  2021-03-15 11:18:00.0       1 2021-03-15 2021-03-15 10:23:00   \n",
       "4  2021-03-16 09:44:00.0       0 2021-03-16 2021-03-16 09:24:00   \n",
       "\n",
       "                   to       resultado  minutos  \n",
       "0 2021-02-18 23:35:00 0 days 00:43:00     43.0  \n",
       "1 2021-03-25 00:01:00 0 days 00:44:00     44.0  \n",
       "2 2021-03-15 10:23:00 0 days 00:18:00     18.0  \n",
       "3 2021-03-15 11:18:00 0 days 00:55:00     55.0  \n",
       "4 2021-03-16 09:44:00 0 days 00:20:00     20.0  "
      ]
     },
     "execution_count": 21,
     "metadata": {},
     "output_type": "execute_result"
    }
   ],
   "source": [
    "df_train['resultado'] = df_train['to']-df_train['from']\n",
    "df_train.head()"
   ]
  },
  {
   "cell_type": "code",
   "execution_count": 22,
   "metadata": {
    "colab": {
     "base_uri": "https://localhost:8080/",
     "height": 337
    },
    "id": "j1obDZxTPXCL",
    "outputId": "70a8b6ef-44a2-4acf-a22c-c5e5d5c6a350"
   },
   "outputs": [
    {
     "data": {
      "text/html": [
       "<div>\n",
       "<style scoped>\n",
       "    .dataframe tbody tr th:only-of-type {\n",
       "        vertical-align: middle;\n",
       "    }\n",
       "\n",
       "    .dataframe tbody tr th {\n",
       "        vertical-align: top;\n",
       "    }\n",
       "\n",
       "    .dataframe thead th {\n",
       "        text-align: right;\n",
       "    }\n",
       "</style>\n",
       "<table border=\"1\" class=\"dataframe\">\n",
       "  <thead>\n",
       "    <tr style=\"text-align: right;\">\n",
       "      <th></th>\n",
       "      <th>customer_id</th>\n",
       "      <th>account_id</th>\n",
       "      <th>device_type</th>\n",
       "      <th>asset_id</th>\n",
       "      <th>tunein</th>\n",
       "      <th>tuneout</th>\n",
       "      <th>resume</th>\n",
       "      <th>timestamp</th>\n",
       "      <th>from</th>\n",
       "      <th>to</th>\n",
       "      <th>resultado</th>\n",
       "      <th>minutos</th>\n",
       "    </tr>\n",
       "  </thead>\n",
       "  <tbody>\n",
       "    <tr>\n",
       "      <th>0</th>\n",
       "      <td>0</td>\n",
       "      <td>90627</td>\n",
       "      <td>STATIONARY</td>\n",
       "      <td>18332.0</td>\n",
       "      <td>2021-02-18 22:52:00.0</td>\n",
       "      <td>2021-02-18 23:35:00.0</td>\n",
       "      <td>0</td>\n",
       "      <td>2021-02-18</td>\n",
       "      <td>2021-02-18 22:52:00</td>\n",
       "      <td>2021-02-18 23:35:00</td>\n",
       "      <td>0 days 00:43:00</td>\n",
       "      <td>43.0</td>\n",
       "    </tr>\n",
       "    <tr>\n",
       "      <th>1</th>\n",
       "      <td>0</td>\n",
       "      <td>90627</td>\n",
       "      <td>STATIONARY</td>\n",
       "      <td>24727.0</td>\n",
       "      <td>2021-03-24 23:17:00.0</td>\n",
       "      <td>2021-03-25 00:01:00.0</td>\n",
       "      <td>0</td>\n",
       "      <td>2021-03-24</td>\n",
       "      <td>2021-03-24 23:17:00</td>\n",
       "      <td>2021-03-25 00:01:00</td>\n",
       "      <td>0 days 00:44:00</td>\n",
       "      <td>44.0</td>\n",
       "    </tr>\n",
       "    <tr>\n",
       "      <th>2</th>\n",
       "      <td>1</td>\n",
       "      <td>3387</td>\n",
       "      <td>STB</td>\n",
       "      <td>895.0</td>\n",
       "      <td>2021-03-15 10:05:00.0</td>\n",
       "      <td>2021-03-15 10:23:00.0</td>\n",
       "      <td>0</td>\n",
       "      <td>2021-03-15</td>\n",
       "      <td>2021-03-15 10:05:00</td>\n",
       "      <td>2021-03-15 10:23:00</td>\n",
       "      <td>0 days 00:18:00</td>\n",
       "      <td>18.0</td>\n",
       "    </tr>\n",
       "    <tr>\n",
       "      <th>3</th>\n",
       "      <td>1</td>\n",
       "      <td>3387</td>\n",
       "      <td>STB</td>\n",
       "      <td>895.0</td>\n",
       "      <td>2021-03-15 10:23:00.0</td>\n",
       "      <td>2021-03-15 11:18:00.0</td>\n",
       "      <td>1</td>\n",
       "      <td>2021-03-15</td>\n",
       "      <td>2021-03-15 10:23:00</td>\n",
       "      <td>2021-03-15 11:18:00</td>\n",
       "      <td>0 days 00:55:00</td>\n",
       "      <td>55.0</td>\n",
       "    </tr>\n",
       "    <tr>\n",
       "      <th>4</th>\n",
       "      <td>1</td>\n",
       "      <td>3387</td>\n",
       "      <td>STB</td>\n",
       "      <td>26062.0</td>\n",
       "      <td>2021-03-16 09:24:00.0</td>\n",
       "      <td>2021-03-16 09:44:00.0</td>\n",
       "      <td>0</td>\n",
       "      <td>2021-03-16</td>\n",
       "      <td>2021-03-16 09:24:00</td>\n",
       "      <td>2021-03-16 09:44:00</td>\n",
       "      <td>0 days 00:20:00</td>\n",
       "      <td>20.0</td>\n",
       "    </tr>\n",
       "  </tbody>\n",
       "</table>\n",
       "</div>"
      ],
      "text/plain": [
       "   customer_id  account_id device_type  asset_id                 tunein  \\\n",
       "0            0       90627  STATIONARY   18332.0  2021-02-18 22:52:00.0   \n",
       "1            0       90627  STATIONARY   24727.0  2021-03-24 23:17:00.0   \n",
       "2            1        3387         STB     895.0  2021-03-15 10:05:00.0   \n",
       "3            1        3387         STB     895.0  2021-03-15 10:23:00.0   \n",
       "4            1        3387         STB   26062.0  2021-03-16 09:24:00.0   \n",
       "\n",
       "                 tuneout  resume  timestamp                from  \\\n",
       "0  2021-02-18 23:35:00.0       0 2021-02-18 2021-02-18 22:52:00   \n",
       "1  2021-03-25 00:01:00.0       0 2021-03-24 2021-03-24 23:17:00   \n",
       "2  2021-03-15 10:23:00.0       0 2021-03-15 2021-03-15 10:05:00   \n",
       "3  2021-03-15 11:18:00.0       1 2021-03-15 2021-03-15 10:23:00   \n",
       "4  2021-03-16 09:44:00.0       0 2021-03-16 2021-03-16 09:24:00   \n",
       "\n",
       "                   to       resultado  minutos  \n",
       "0 2021-02-18 23:35:00 0 days 00:43:00     43.0  \n",
       "1 2021-03-25 00:01:00 0 days 00:44:00     44.0  \n",
       "2 2021-03-15 10:23:00 0 days 00:18:00     18.0  \n",
       "3 2021-03-15 11:18:00 0 days 00:55:00     55.0  \n",
       "4 2021-03-16 09:44:00 0 days 00:20:00     20.0  "
      ]
     },
     "execution_count": 22,
     "metadata": {},
     "output_type": "execute_result"
    }
   ],
   "source": [
    "# Minutos vistos por el usuario\n",
    "df_train['minutos'] = df_train['resultado'].dt.seconds.div(60).astype(float) \n",
    "df_train.head()"
   ]
  },
  {
   "cell_type": "code",
   "execution_count": null,
   "metadata": {
    "colab": {
     "base_uri": "https://localhost:8080/"
    },
    "id": "vA7pXnKqPqlg",
    "outputId": "c62a59bd-0268-4287-a639-17743497b9b8"
   },
   "outputs": [
    {
     "data": {
      "text/plain": [
       "0         48.0\n",
       "1        105.0\n",
       "2         82.0\n",
       "3         99.0\n",
       "4        126.0\n",
       "         ...  \n",
       "33139     64.0\n",
       "33140     56.0\n",
       "33141     24.0\n",
       "33142     42.0\n",
       "33143     11.0\n",
       "Name: run_time_min, Length: 33144, dtype: float64"
      ]
     },
     "execution_count": 76,
     "metadata": {},
     "output_type": "execute_result"
    }
   ],
   "source": [
    "# Esta columna contiene la duración de la pelicula\n",
    "df_metadatos['run_time_min']"
   ]
  },
  {
   "cell_type": "code",
   "execution_count": 23,
   "metadata": {
    "colab": {
     "base_uri": "https://localhost:8080/"
    },
    "id": "0jme-7rp-TFZ",
    "outputId": "0595fb27-8ea8-4885-b0cf-a3c7cc02f732"
   },
   "outputs": [
    {
     "data": {
      "text/plain": [
       "0.0"
      ]
     },
     "execution_count": 23,
     "metadata": {},
     "output_type": "execute_result"
    }
   ],
   "source": [
    "# duración minima\n",
    "df_metadatos['run_time_min'].min()"
   ]
  },
  {
   "cell_type": "code",
   "execution_count": 30,
   "metadata": {},
   "outputs": [
    {
     "data": {
      "text/plain": [
       "117"
      ]
     },
     "execution_count": 30,
     "metadata": {},
     "output_type": "execute_result"
    }
   ],
   "source": [
    "# Cuantos items hay con duración 0\n",
    "df_metadatos[df_metadatos['run_time_min'] <= 0.0]['run_time_min'].count()"
   ]
  },
  {
   "cell_type": "code",
   "execution_count": null,
   "metadata": {
    "colab": {
     "base_uri": "https://localhost:8080/"
    },
    "id": "Gl7Pltdx-XI7",
    "outputId": "d48ae6f9-a1af-42a2-9ac7-5c8621e4a2ec"
   },
   "outputs": [
    {
     "data": {
      "text/plain": [
       "308.0"
      ]
     },
     "execution_count": 78,
     "metadata": {},
     "output_type": "execute_result"
    }
   ],
   "source": [
    "# duracion máxima\n",
    "df_metadatos['run_time_min'].max()"
   ]
  },
  {
   "cell_type": "markdown",
   "metadata": {
    "id": "TWh995igQkS8"
   },
   "source": [
    "Dropeamos lo que no nos sirve"
   ]
  },
  {
   "cell_type": "code",
   "execution_count": 31,
   "metadata": {
    "colab": {
     "base_uri": "https://localhost:8080/",
     "height": 311
    },
    "id": "MqMY-F20QpG2",
    "outputId": "d550343d-4e01-4fb3-a003-dfbfbc5b4620"
   },
   "outputs": [],
   "source": [
    "df_train.drop(['device_type','resume','from','to','resultado'],axis=1, inplace=True)"
   ]
  },
  {
   "cell_type": "code",
   "execution_count": 32,
   "metadata": {
    "id": "bspqPAGvRWf8"
   },
   "outputs": [],
   "source": [
    "df_metadatos_mini = df_metadatos[['asset_id', 'content_id','title','run_time_min','start_vod_date','end_vod_date']].copy()"
   ]
  },
  {
   "cell_type": "markdown",
   "metadata": {
    "id": "ep-Mc_M-qkLu"
   },
   "source": [
    "Mergeamos los dos datasets a partir del campo asset_id"
   ]
  },
  {
   "cell_type": "code",
   "execution_count": 33,
   "metadata": {
    "colab": {
     "base_uri": "https://localhost:8080/",
     "height": 583
    },
    "id": "GTgBh6tLTHj1",
    "outputId": "c9d0b581-a1e8-4611-cd0f-757d022d858d"
   },
   "outputs": [
    {
     "data": {
      "text/html": [
       "<div>\n",
       "<style scoped>\n",
       "    .dataframe tbody tr th:only-of-type {\n",
       "        vertical-align: middle;\n",
       "    }\n",
       "\n",
       "    .dataframe tbody tr th {\n",
       "        vertical-align: top;\n",
       "    }\n",
       "\n",
       "    .dataframe thead th {\n",
       "        text-align: right;\n",
       "    }\n",
       "</style>\n",
       "<table border=\"1\" class=\"dataframe\">\n",
       "  <thead>\n",
       "    <tr style=\"text-align: right;\">\n",
       "      <th></th>\n",
       "      <th>customer_id</th>\n",
       "      <th>account_id</th>\n",
       "      <th>asset_id</th>\n",
       "      <th>tunein</th>\n",
       "      <th>tuneout</th>\n",
       "      <th>timestamp</th>\n",
       "      <th>minutos</th>\n",
       "      <th>content_id</th>\n",
       "      <th>title</th>\n",
       "      <th>run_time_min</th>\n",
       "      <th>start_vod_date</th>\n",
       "      <th>end_vod_date</th>\n",
       "    </tr>\n",
       "  </thead>\n",
       "  <tbody>\n",
       "    <tr>\n",
       "      <th>0</th>\n",
       "      <td>0</td>\n",
       "      <td>90627</td>\n",
       "      <td>18332.0</td>\n",
       "      <td>2021-02-18 22:52:00.0</td>\n",
       "      <td>2021-02-18 23:35:00.0</td>\n",
       "      <td>2021-02-18</td>\n",
       "      <td>43.0</td>\n",
       "      <td>2040.0</td>\n",
       "      <td>T:5 Ep:08 This is Us</td>\n",
       "      <td>43.0</td>\n",
       "      <td>2021-02-18T00:00:00.0Z</td>\n",
       "      <td>2021-06-30T23:59:59.0Z</td>\n",
       "    </tr>\n",
       "    <tr>\n",
       "      <th>1</th>\n",
       "      <td>0</td>\n",
       "      <td>90627</td>\n",
       "      <td>24727.0</td>\n",
       "      <td>2021-03-24 23:17:00.0</td>\n",
       "      <td>2021-03-25 00:01:00.0</td>\n",
       "      <td>2021-03-24</td>\n",
       "      <td>44.0</td>\n",
       "      <td>2040.0</td>\n",
       "      <td>T:5 Ep:10 This is Us</td>\n",
       "      <td>42.0</td>\n",
       "      <td>2021-03-18T00:00:00.0Z</td>\n",
       "      <td>2021-06-30T23:59:59.0Z</td>\n",
       "    </tr>\n",
       "    <tr>\n",
       "      <th>2</th>\n",
       "      <td>1</td>\n",
       "      <td>3387</td>\n",
       "      <td>895.0</td>\n",
       "      <td>2021-03-15 10:05:00.0</td>\n",
       "      <td>2021-03-15 10:23:00.0</td>\n",
       "      <td>2021-03-15</td>\n",
       "      <td>18.0</td>\n",
       "      <td>1983.0</td>\n",
       "      <td>T:1 Ep:02 Big Little Lies</td>\n",
       "      <td>54.0</td>\n",
       "      <td>2021-03-08T00:00:00.0Z</td>\n",
       "      <td>2021-03-28T23:59:00.0Z</td>\n",
       "    </tr>\n",
       "    <tr>\n",
       "      <th>3</th>\n",
       "      <td>1</td>\n",
       "      <td>3387</td>\n",
       "      <td>895.0</td>\n",
       "      <td>2021-03-15 10:23:00.0</td>\n",
       "      <td>2021-03-15 11:18:00.0</td>\n",
       "      <td>2021-03-15</td>\n",
       "      <td>55.0</td>\n",
       "      <td>1983.0</td>\n",
       "      <td>T:1 Ep:02 Big Little Lies</td>\n",
       "      <td>54.0</td>\n",
       "      <td>2021-03-08T00:00:00.0Z</td>\n",
       "      <td>2021-03-28T23:59:00.0Z</td>\n",
       "    </tr>\n",
       "    <tr>\n",
       "      <th>4</th>\n",
       "      <td>1</td>\n",
       "      <td>3387</td>\n",
       "      <td>26062.0</td>\n",
       "      <td>2021-03-16 09:24:00.0</td>\n",
       "      <td>2021-03-16 09:44:00.0</td>\n",
       "      <td>2021-03-16</td>\n",
       "      <td>20.0</td>\n",
       "      <td>729.0</td>\n",
       "      <td>T:1 Ep:02 Dime quién soy</td>\n",
       "      <td>49.0</td>\n",
       "      <td>2021-03-08T00:00:00.0Z</td>\n",
       "      <td>2021-03-28T23:59:00.0Z</td>\n",
       "    </tr>\n",
       "  </tbody>\n",
       "</table>\n",
       "</div>"
      ],
      "text/plain": [
       "   customer_id  account_id  asset_id                 tunein  \\\n",
       "0            0       90627   18332.0  2021-02-18 22:52:00.0   \n",
       "1            0       90627   24727.0  2021-03-24 23:17:00.0   \n",
       "2            1        3387     895.0  2021-03-15 10:05:00.0   \n",
       "3            1        3387     895.0  2021-03-15 10:23:00.0   \n",
       "4            1        3387   26062.0  2021-03-16 09:24:00.0   \n",
       "\n",
       "                 tuneout  timestamp  minutos  content_id  \\\n",
       "0  2021-02-18 23:35:00.0 2021-02-18     43.0      2040.0   \n",
       "1  2021-03-25 00:01:00.0 2021-03-24     44.0      2040.0   \n",
       "2  2021-03-15 10:23:00.0 2021-03-15     18.0      1983.0   \n",
       "3  2021-03-15 11:18:00.0 2021-03-15     55.0      1983.0   \n",
       "4  2021-03-16 09:44:00.0 2021-03-16     20.0       729.0   \n",
       "\n",
       "                       title  run_time_min          start_vod_date  \\\n",
       "0       T:5 Ep:08 This is Us          43.0  2021-02-18T00:00:00.0Z   \n",
       "1       T:5 Ep:10 This is Us          42.0  2021-03-18T00:00:00.0Z   \n",
       "2  T:1 Ep:02 Big Little Lies          54.0  2021-03-08T00:00:00.0Z   \n",
       "3  T:1 Ep:02 Big Little Lies          54.0  2021-03-08T00:00:00.0Z   \n",
       "4   T:1 Ep:02 Dime quién soy          49.0  2021-03-08T00:00:00.0Z   \n",
       "\n",
       "             end_vod_date  \n",
       "0  2021-06-30T23:59:59.0Z  \n",
       "1  2021-06-30T23:59:59.0Z  \n",
       "2  2021-03-28T23:59:00.0Z  \n",
       "3  2021-03-28T23:59:00.0Z  \n",
       "4  2021-03-28T23:59:00.0Z  "
      ]
     },
     "execution_count": 33,
     "metadata": {},
     "output_type": "execute_result"
    }
   ],
   "source": [
    "df_map = df_train.merge(df_metadatos_mini, how=\"left\", left_on=\"asset_id\", right_on=\"asset_id\")\n",
    "df_map.head()"
   ]
  },
  {
   "cell_type": "code",
   "execution_count": 34,
   "metadata": {
    "id": "u8z1ZiWTTwOF"
   },
   "outputs": [],
   "source": [
    "df_map['minutos_vistos'] = df_map['run_time_min'] - df_map['minutos']"
   ]
  },
  {
   "cell_type": "code",
   "execution_count": 35,
   "metadata": {
    "id": "myV1_h9kVsRP"
   },
   "outputs": [],
   "source": [
    "df_map['porcentaje_visto'] = df_map['minutos'] * 100 / df_map['run_time_min']\n"
   ]
  },
  {
   "cell_type": "code",
   "execution_count": 36,
   "metadata": {
    "colab": {
     "base_uri": "https://localhost:8080/"
    },
    "id": "wPFa2o_5UFxl",
    "outputId": "a2b2b263-011e-4c84-90f9-e1000fb80841"
   },
   "outputs": [
    {
     "data": {
      "text/plain": [
       "535905"
      ]
     },
     "execution_count": 36,
     "metadata": {},
     "output_type": "execute_result"
    }
   ],
   "source": [
    "df_map[df_map['minutos_vistos'] < 0].count()[1]"
   ]
  },
  {
   "cell_type": "code",
   "execution_count": 37,
   "metadata": {
    "colab": {
     "base_uri": "https://localhost:8080/"
    },
    "id": "32gChXR7UiKW",
    "outputId": "f4ee90da-3fd8-49a9-f72a-92ae5e92cbc2"
   },
   "outputs": [
    {
     "data": {
      "text/plain": [
       "14.651015733223321"
      ]
     },
     "execution_count": 37,
     "metadata": {},
     "output_type": "execute_result"
    }
   ],
   "source": [
    "df_map[df_map['minutos_vistos'] < 0].count()[1] * 100 / df_map.shape[0]"
   ]
  },
  {
   "cell_type": "markdown",
   "metadata": {
    "id": "SxC3NsT2Ux2C"
   },
   "source": [
    "Creando el rating"
   ]
  },
  {
   "cell_type": "code",
   "execution_count": 38,
   "metadata": {
    "colab": {
     "base_uri": "https://localhost:8080/",
     "height": 583
    },
    "id": "cPEXaJejU6US",
    "outputId": "75d28f08-6a8a-45b4-e656-4fc1dde8626e"
   },
   "outputs": [
    {
     "data": {
      "text/html": [
       "<div>\n",
       "<style scoped>\n",
       "    .dataframe tbody tr th:only-of-type {\n",
       "        vertical-align: middle;\n",
       "    }\n",
       "\n",
       "    .dataframe tbody tr th {\n",
       "        vertical-align: top;\n",
       "    }\n",
       "\n",
       "    .dataframe thead th {\n",
       "        text-align: right;\n",
       "    }\n",
       "</style>\n",
       "<table border=\"1\" class=\"dataframe\">\n",
       "  <thead>\n",
       "    <tr style=\"text-align: right;\">\n",
       "      <th></th>\n",
       "      <th>customer_id</th>\n",
       "      <th>account_id</th>\n",
       "      <th>asset_id</th>\n",
       "      <th>tunein</th>\n",
       "      <th>tuneout</th>\n",
       "      <th>timestamp</th>\n",
       "      <th>minutos</th>\n",
       "      <th>content_id</th>\n",
       "      <th>title</th>\n",
       "      <th>run_time_min</th>\n",
       "      <th>start_vod_date</th>\n",
       "      <th>end_vod_date</th>\n",
       "      <th>minutos_vistos</th>\n",
       "      <th>porcentaje_visto</th>\n",
       "      <th>rating</th>\n",
       "    </tr>\n",
       "  </thead>\n",
       "  <tbody>\n",
       "    <tr>\n",
       "      <th>0</th>\n",
       "      <td>0</td>\n",
       "      <td>90627</td>\n",
       "      <td>18332.0</td>\n",
       "      <td>2021-02-18 22:52:00.0</td>\n",
       "      <td>2021-02-18 23:35:00.0</td>\n",
       "      <td>2021-02-18</td>\n",
       "      <td>43.0</td>\n",
       "      <td>2040.0</td>\n",
       "      <td>T:5 Ep:08 This is Us</td>\n",
       "      <td>43.0</td>\n",
       "      <td>2021-02-18T00:00:00.0Z</td>\n",
       "      <td>2021-06-30T23:59:59.0Z</td>\n",
       "      <td>0.0</td>\n",
       "      <td>100.000000</td>\n",
       "      <td>1</td>\n",
       "    </tr>\n",
       "    <tr>\n",
       "      <th>1</th>\n",
       "      <td>0</td>\n",
       "      <td>90627</td>\n",
       "      <td>24727.0</td>\n",
       "      <td>2021-03-24 23:17:00.0</td>\n",
       "      <td>2021-03-25 00:01:00.0</td>\n",
       "      <td>2021-03-24</td>\n",
       "      <td>44.0</td>\n",
       "      <td>2040.0</td>\n",
       "      <td>T:5 Ep:10 This is Us</td>\n",
       "      <td>42.0</td>\n",
       "      <td>2021-03-18T00:00:00.0Z</td>\n",
       "      <td>2021-06-30T23:59:59.0Z</td>\n",
       "      <td>-2.0</td>\n",
       "      <td>104.761905</td>\n",
       "      <td>1</td>\n",
       "    </tr>\n",
       "    <tr>\n",
       "      <th>2</th>\n",
       "      <td>1</td>\n",
       "      <td>3387</td>\n",
       "      <td>895.0</td>\n",
       "      <td>2021-03-15 10:05:00.0</td>\n",
       "      <td>2021-03-15 10:23:00.0</td>\n",
       "      <td>2021-03-15</td>\n",
       "      <td>18.0</td>\n",
       "      <td>1983.0</td>\n",
       "      <td>T:1 Ep:02 Big Little Lies</td>\n",
       "      <td>54.0</td>\n",
       "      <td>2021-03-08T00:00:00.0Z</td>\n",
       "      <td>2021-03-28T23:59:00.0Z</td>\n",
       "      <td>36.0</td>\n",
       "      <td>33.333333</td>\n",
       "      <td>0</td>\n",
       "    </tr>\n",
       "    <tr>\n",
       "      <th>3</th>\n",
       "      <td>1</td>\n",
       "      <td>3387</td>\n",
       "      <td>895.0</td>\n",
       "      <td>2021-03-15 10:23:00.0</td>\n",
       "      <td>2021-03-15 11:18:00.0</td>\n",
       "      <td>2021-03-15</td>\n",
       "      <td>55.0</td>\n",
       "      <td>1983.0</td>\n",
       "      <td>T:1 Ep:02 Big Little Lies</td>\n",
       "      <td>54.0</td>\n",
       "      <td>2021-03-08T00:00:00.0Z</td>\n",
       "      <td>2021-03-28T23:59:00.0Z</td>\n",
       "      <td>-1.0</td>\n",
       "      <td>101.851852</td>\n",
       "      <td>1</td>\n",
       "    </tr>\n",
       "    <tr>\n",
       "      <th>4</th>\n",
       "      <td>1</td>\n",
       "      <td>3387</td>\n",
       "      <td>26062.0</td>\n",
       "      <td>2021-03-16 09:24:00.0</td>\n",
       "      <td>2021-03-16 09:44:00.0</td>\n",
       "      <td>2021-03-16</td>\n",
       "      <td>20.0</td>\n",
       "      <td>729.0</td>\n",
       "      <td>T:1 Ep:02 Dime quién soy</td>\n",
       "      <td>49.0</td>\n",
       "      <td>2021-03-08T00:00:00.0Z</td>\n",
       "      <td>2021-03-28T23:59:00.0Z</td>\n",
       "      <td>29.0</td>\n",
       "      <td>40.816327</td>\n",
       "      <td>0</td>\n",
       "    </tr>\n",
       "  </tbody>\n",
       "</table>\n",
       "</div>"
      ],
      "text/plain": [
       "   customer_id  account_id  asset_id                 tunein  \\\n",
       "0            0       90627   18332.0  2021-02-18 22:52:00.0   \n",
       "1            0       90627   24727.0  2021-03-24 23:17:00.0   \n",
       "2            1        3387     895.0  2021-03-15 10:05:00.0   \n",
       "3            1        3387     895.0  2021-03-15 10:23:00.0   \n",
       "4            1        3387   26062.0  2021-03-16 09:24:00.0   \n",
       "\n",
       "                 tuneout  timestamp  minutos  content_id  \\\n",
       "0  2021-02-18 23:35:00.0 2021-02-18     43.0      2040.0   \n",
       "1  2021-03-25 00:01:00.0 2021-03-24     44.0      2040.0   \n",
       "2  2021-03-15 10:23:00.0 2021-03-15     18.0      1983.0   \n",
       "3  2021-03-15 11:18:00.0 2021-03-15     55.0      1983.0   \n",
       "4  2021-03-16 09:44:00.0 2021-03-16     20.0       729.0   \n",
       "\n",
       "                       title  run_time_min          start_vod_date  \\\n",
       "0       T:5 Ep:08 This is Us          43.0  2021-02-18T00:00:00.0Z   \n",
       "1       T:5 Ep:10 This is Us          42.0  2021-03-18T00:00:00.0Z   \n",
       "2  T:1 Ep:02 Big Little Lies          54.0  2021-03-08T00:00:00.0Z   \n",
       "3  T:1 Ep:02 Big Little Lies          54.0  2021-03-08T00:00:00.0Z   \n",
       "4   T:1 Ep:02 Dime quién soy          49.0  2021-03-08T00:00:00.0Z   \n",
       "\n",
       "             end_vod_date  minutos_vistos  porcentaje_visto  rating  \n",
       "0  2021-06-30T23:59:59.0Z             0.0        100.000000       1  \n",
       "1  2021-06-30T23:59:59.0Z            -2.0        104.761905       1  \n",
       "2  2021-03-28T23:59:00.0Z            36.0         33.333333       0  \n",
       "3  2021-03-28T23:59:00.0Z            -1.0        101.851852       1  \n",
       "4  2021-03-28T23:59:00.0Z            29.0         40.816327       0  "
      ]
     },
     "execution_count": 38,
     "metadata": {},
     "output_type": "execute_result"
    }
   ],
   "source": [
    "df_map['rating'] = df_map['porcentaje_visto'].apply(lambda x : 1 if x >= 50 else 0)\n",
    "df_map.head()"
   ]
  },
  {
   "cell_type": "markdown",
   "metadata": {
    "id": "hiOssYes_cbw"
   },
   "source": [
    "Train y Test"
   ]
  },
  {
   "cell_type": "code",
   "execution_count": 39,
   "metadata": {
    "colab": {
     "base_uri": "https://localhost:8080/",
     "height": 583
    },
    "id": "QSo5fyNj_33H",
    "outputId": "09e43079-ddaf-4d73-dec8-c96bb181b07c"
   },
   "outputs": [
    {
     "data": {
      "text/html": [
       "<div>\n",
       "<style scoped>\n",
       "    .dataframe tbody tr th:only-of-type {\n",
       "        vertical-align: middle;\n",
       "    }\n",
       "\n",
       "    .dataframe tbody tr th {\n",
       "        vertical-align: top;\n",
       "    }\n",
       "\n",
       "    .dataframe thead th {\n",
       "        text-align: right;\n",
       "    }\n",
       "</style>\n",
       "<table border=\"1\" class=\"dataframe\">\n",
       "  <thead>\n",
       "    <tr style=\"text-align: right;\">\n",
       "      <th></th>\n",
       "      <th>customer_id</th>\n",
       "      <th>account_id</th>\n",
       "      <th>asset_id</th>\n",
       "      <th>tunein</th>\n",
       "      <th>tuneout</th>\n",
       "      <th>timestamp</th>\n",
       "      <th>minutos</th>\n",
       "      <th>content_id</th>\n",
       "      <th>title</th>\n",
       "      <th>run_time_min</th>\n",
       "      <th>start_vod_date</th>\n",
       "      <th>end_vod_date</th>\n",
       "      <th>minutos_vistos</th>\n",
       "      <th>porcentaje_visto</th>\n",
       "      <th>rating</th>\n",
       "    </tr>\n",
       "  </thead>\n",
       "  <tbody>\n",
       "    <tr>\n",
       "      <th>0</th>\n",
       "      <td>0</td>\n",
       "      <td>90627</td>\n",
       "      <td>18332.0</td>\n",
       "      <td>2021-02-18 22:52:00.0</td>\n",
       "      <td>2021-02-18 23:35:00.0</td>\n",
       "      <td>2021-02-18</td>\n",
       "      <td>43.0</td>\n",
       "      <td>2040.0</td>\n",
       "      <td>T:5 Ep:08 This is Us</td>\n",
       "      <td>43.0</td>\n",
       "      <td>2021-02-18T00:00:00.0Z</td>\n",
       "      <td>2021-06-30T23:59:59.0Z</td>\n",
       "      <td>0.0</td>\n",
       "      <td>100.000000</td>\n",
       "      <td>1</td>\n",
       "    </tr>\n",
       "    <tr>\n",
       "      <th>1</th>\n",
       "      <td>0</td>\n",
       "      <td>90627</td>\n",
       "      <td>24727.0</td>\n",
       "      <td>2021-03-24 23:17:00.0</td>\n",
       "      <td>2021-03-25 00:01:00.0</td>\n",
       "      <td>2021-03-24</td>\n",
       "      <td>44.0</td>\n",
       "      <td>2040.0</td>\n",
       "      <td>T:5 Ep:10 This is Us</td>\n",
       "      <td>42.0</td>\n",
       "      <td>2021-03-18T00:00:00.0Z</td>\n",
       "      <td>2021-06-30T23:59:59.0Z</td>\n",
       "      <td>-2.0</td>\n",
       "      <td>104.761905</td>\n",
       "      <td>1</td>\n",
       "    </tr>\n",
       "    <tr>\n",
       "      <th>2</th>\n",
       "      <td>1</td>\n",
       "      <td>3387</td>\n",
       "      <td>895.0</td>\n",
       "      <td>2021-03-15 10:05:00.0</td>\n",
       "      <td>2021-03-15 10:23:00.0</td>\n",
       "      <td>2021-03-15</td>\n",
       "      <td>18.0</td>\n",
       "      <td>1983.0</td>\n",
       "      <td>T:1 Ep:02 Big Little Lies</td>\n",
       "      <td>54.0</td>\n",
       "      <td>2021-03-08T00:00:00.0Z</td>\n",
       "      <td>2021-03-28T23:59:00.0Z</td>\n",
       "      <td>36.0</td>\n",
       "      <td>33.333333</td>\n",
       "      <td>0</td>\n",
       "    </tr>\n",
       "    <tr>\n",
       "      <th>3</th>\n",
       "      <td>1</td>\n",
       "      <td>3387</td>\n",
       "      <td>895.0</td>\n",
       "      <td>2021-03-15 10:23:00.0</td>\n",
       "      <td>2021-03-15 11:18:00.0</td>\n",
       "      <td>2021-03-15</td>\n",
       "      <td>55.0</td>\n",
       "      <td>1983.0</td>\n",
       "      <td>T:1 Ep:02 Big Little Lies</td>\n",
       "      <td>54.0</td>\n",
       "      <td>2021-03-08T00:00:00.0Z</td>\n",
       "      <td>2021-03-28T23:59:00.0Z</td>\n",
       "      <td>-1.0</td>\n",
       "      <td>101.851852</td>\n",
       "      <td>1</td>\n",
       "    </tr>\n",
       "    <tr>\n",
       "      <th>4</th>\n",
       "      <td>1</td>\n",
       "      <td>3387</td>\n",
       "      <td>26062.0</td>\n",
       "      <td>2021-03-16 09:24:00.0</td>\n",
       "      <td>2021-03-16 09:44:00.0</td>\n",
       "      <td>2021-03-16</td>\n",
       "      <td>20.0</td>\n",
       "      <td>729.0</td>\n",
       "      <td>T:1 Ep:02 Dime quién soy</td>\n",
       "      <td>49.0</td>\n",
       "      <td>2021-03-08T00:00:00.0Z</td>\n",
       "      <td>2021-03-28T23:59:00.0Z</td>\n",
       "      <td>29.0</td>\n",
       "      <td>40.816327</td>\n",
       "      <td>0</td>\n",
       "    </tr>\n",
       "  </tbody>\n",
       "</table>\n",
       "</div>"
      ],
      "text/plain": [
       "   customer_id  account_id  asset_id                 tunein  \\\n",
       "0            0       90627   18332.0  2021-02-18 22:52:00.0   \n",
       "1            0       90627   24727.0  2021-03-24 23:17:00.0   \n",
       "2            1        3387     895.0  2021-03-15 10:05:00.0   \n",
       "3            1        3387     895.0  2021-03-15 10:23:00.0   \n",
       "4            1        3387   26062.0  2021-03-16 09:24:00.0   \n",
       "\n",
       "                 tuneout  timestamp  minutos  content_id  \\\n",
       "0  2021-02-18 23:35:00.0 2021-02-18     43.0      2040.0   \n",
       "1  2021-03-25 00:01:00.0 2021-03-24     44.0      2040.0   \n",
       "2  2021-03-15 10:23:00.0 2021-03-15     18.0      1983.0   \n",
       "3  2021-03-15 11:18:00.0 2021-03-15     55.0      1983.0   \n",
       "4  2021-03-16 09:44:00.0 2021-03-16     20.0       729.0   \n",
       "\n",
       "                       title  run_time_min          start_vod_date  \\\n",
       "0       T:5 Ep:08 This is Us          43.0  2021-02-18T00:00:00.0Z   \n",
       "1       T:5 Ep:10 This is Us          42.0  2021-03-18T00:00:00.0Z   \n",
       "2  T:1 Ep:02 Big Little Lies          54.0  2021-03-08T00:00:00.0Z   \n",
       "3  T:1 Ep:02 Big Little Lies          54.0  2021-03-08T00:00:00.0Z   \n",
       "4   T:1 Ep:02 Dime quién soy          49.0  2021-03-08T00:00:00.0Z   \n",
       "\n",
       "             end_vod_date  minutos_vistos  porcentaje_visto  rating  \n",
       "0  2021-06-30T23:59:59.0Z             0.0        100.000000       1  \n",
       "1  2021-06-30T23:59:59.0Z            -2.0        104.761905       1  \n",
       "2  2021-03-28T23:59:00.0Z            36.0         33.333333       0  \n",
       "3  2021-03-28T23:59:00.0Z            -1.0        101.851852       1  \n",
       "4  2021-03-28T23:59:00.0Z            29.0         40.816327       0  "
      ]
     },
     "execution_count": 39,
     "metadata": {},
     "output_type": "execute_result"
    }
   ],
   "source": [
    "ratings = df_map.copy()\n",
    "ratings.head()"
   ]
  },
  {
   "cell_type": "code",
   "execution_count": 41,
   "metadata": {
    "colab": {
     "base_uri": "https://localhost:8080/",
     "height": 206
    },
    "id": "XPxGcSDZGhDQ",
    "outputId": "5a6234a9-53b4-4700-c898-1252556ff46d"
   },
   "outputs": [
    {
     "data": {
      "text/html": [
       "<div>\n",
       "<style scoped>\n",
       "    .dataframe tbody tr th:only-of-type {\n",
       "        vertical-align: middle;\n",
       "    }\n",
       "\n",
       "    .dataframe tbody tr th {\n",
       "        vertical-align: top;\n",
       "    }\n",
       "\n",
       "    .dataframe thead th {\n",
       "        text-align: right;\n",
       "    }\n",
       "</style>\n",
       "<table border=\"1\" class=\"dataframe\">\n",
       "  <thead>\n",
       "    <tr style=\"text-align: right;\">\n",
       "      <th></th>\n",
       "      <th>account_id</th>\n",
       "      <th>timestamp</th>\n",
       "      <th>content_id</th>\n",
       "      <th>rating</th>\n",
       "    </tr>\n",
       "  </thead>\n",
       "  <tbody>\n",
       "    <tr>\n",
       "      <th>0</th>\n",
       "      <td>90627</td>\n",
       "      <td>2021-02-18</td>\n",
       "      <td>2040.0</td>\n",
       "      <td>1</td>\n",
       "    </tr>\n",
       "    <tr>\n",
       "      <th>1</th>\n",
       "      <td>90627</td>\n",
       "      <td>2021-03-24</td>\n",
       "      <td>2040.0</td>\n",
       "      <td>1</td>\n",
       "    </tr>\n",
       "    <tr>\n",
       "      <th>2</th>\n",
       "      <td>3387</td>\n",
       "      <td>2021-03-15</td>\n",
       "      <td>1983.0</td>\n",
       "      <td>0</td>\n",
       "    </tr>\n",
       "    <tr>\n",
       "      <th>3</th>\n",
       "      <td>3387</td>\n",
       "      <td>2021-03-15</td>\n",
       "      <td>1983.0</td>\n",
       "      <td>1</td>\n",
       "    </tr>\n",
       "    <tr>\n",
       "      <th>4</th>\n",
       "      <td>3387</td>\n",
       "      <td>2021-03-16</td>\n",
       "      <td>729.0</td>\n",
       "      <td>0</td>\n",
       "    </tr>\n",
       "  </tbody>\n",
       "</table>\n",
       "</div>"
      ],
      "text/plain": [
       "   account_id  timestamp  content_id  rating\n",
       "0       90627 2021-02-18      2040.0       1\n",
       "1       90627 2021-03-24      2040.0       1\n",
       "2        3387 2021-03-15      1983.0       0\n",
       "3        3387 2021-03-15      1983.0       1\n",
       "4        3387 2021-03-16       729.0       0"
      ]
     },
     "execution_count": 41,
     "metadata": {},
     "output_type": "execute_result"
    }
   ],
   "source": [
    "# ratings.drop(['customer_id','asset_id','tunein','tuneout','minutos','from','to','resultado','title', 'run_time_min', 'start_vod_date', 'end_vod_date', 'minutos_vistos', 'porcentaje_visto'],axis=1, inplace=True)\n",
    "ratings.drop(['customer_id','asset_id','tunein','tuneout','minutos','title', 'run_time_min', 'start_vod_date', 'end_vod_date', 'minutos_vistos', 'porcentaje_visto'],axis=1, inplace=True)\n",
    "ratings.head()"
   ]
  },
  {
   "cell_type": "code",
   "execution_count": 42,
   "metadata": {
    "id": "QlhXmV3AMDRA"
   },
   "outputs": [],
   "source": [
    "# reordeno columnas\n",
    "ratings = ratings[['account_id', 'content_id', 'rating', 'timestamp']]"
   ]
  },
  {
   "cell_type": "code",
   "execution_count": 43,
   "metadata": {
    "colab": {
     "base_uri": "https://localhost:8080/",
     "height": 206
    },
    "id": "fLowHyB0_bkn",
    "outputId": "43e1dcd6-4048-4815-ba0a-0bc94976bf27"
   },
   "outputs": [
    {
     "data": {
      "text/html": [
       "<div>\n",
       "<style scoped>\n",
       "    .dataframe tbody tr th:only-of-type {\n",
       "        vertical-align: middle;\n",
       "    }\n",
       "\n",
       "    .dataframe tbody tr th {\n",
       "        vertical-align: top;\n",
       "    }\n",
       "\n",
       "    .dataframe thead th {\n",
       "        text-align: right;\n",
       "    }\n",
       "</style>\n",
       "<table border=\"1\" class=\"dataframe\">\n",
       "  <thead>\n",
       "    <tr style=\"text-align: right;\">\n",
       "      <th></th>\n",
       "      <th>account_id</th>\n",
       "      <th>content_id</th>\n",
       "      <th>rating</th>\n",
       "      <th>timestamp</th>\n",
       "    </tr>\n",
       "  </thead>\n",
       "  <tbody>\n",
       "    <tr>\n",
       "      <th>0</th>\n",
       "      <td>90627</td>\n",
       "      <td>2040.0</td>\n",
       "      <td>1</td>\n",
       "      <td>2021-02-18</td>\n",
       "    </tr>\n",
       "    <tr>\n",
       "      <th>6</th>\n",
       "      <td>3388</td>\n",
       "      <td>2100.0</td>\n",
       "      <td>0</td>\n",
       "      <td>2021-01-01</td>\n",
       "    </tr>\n",
       "    <tr>\n",
       "      <th>7</th>\n",
       "      <td>3388</td>\n",
       "      <td>2100.0</td>\n",
       "      <td>0</td>\n",
       "      <td>2021-01-02</td>\n",
       "    </tr>\n",
       "    <tr>\n",
       "      <th>8</th>\n",
       "      <td>3388</td>\n",
       "      <td>2100.0</td>\n",
       "      <td>0</td>\n",
       "      <td>2021-01-02</td>\n",
       "    </tr>\n",
       "    <tr>\n",
       "      <th>9</th>\n",
       "      <td>3388</td>\n",
       "      <td>2100.0</td>\n",
       "      <td>0</td>\n",
       "      <td>2021-01-04</td>\n",
       "    </tr>\n",
       "  </tbody>\n",
       "</table>\n",
       "</div>"
      ],
      "text/plain": [
       "   account_id  content_id  rating  timestamp\n",
       "0       90627      2040.0       1 2021-02-18\n",
       "6        3388      2100.0       0 2021-01-01\n",
       "7        3388      2100.0       0 2021-01-02\n",
       "8        3388      2100.0       0 2021-01-02\n",
       "9        3388      2100.0       0 2021-01-04"
      ]
     },
     "execution_count": 43,
     "metadata": {},
     "output_type": "execute_result"
    }
   ],
   "source": [
    "# set de train\n",
    "train = ratings[(ratings.timestamp >= datetime(year=2021, month=1, day=1)) &\n",
    "                (ratings.timestamp < datetime(year=2021, month=3, day=1))]\n",
    "train.head()"
   ]
  },
  {
   "cell_type": "code",
   "execution_count": null,
   "metadata": {
    "colab": {
     "base_uri": "https://localhost:8080/"
    },
    "id": "VUN5U_W_E9NK",
    "outputId": "497563c3-4f1b-4c04-f314-7cd4a4a2cb30"
   },
   "outputs": [
    {
     "data": {
      "text/plain": [
       "(2339064, 4)"
      ]
     },
     "execution_count": 108,
     "metadata": {},
     "output_type": "execute_result"
    }
   ],
   "source": [
    "train.shape"
   ]
  },
  {
   "cell_type": "code",
   "execution_count": null,
   "metadata": {
    "colab": {
     "base_uri": "https://localhost:8080/"
    },
    "id": "EfpZPl3fFO1t",
    "outputId": "a1d17930-0471-414e-d148-2fe0896c96c5"
   },
   "outputs": [
    {
     "data": {
      "text/plain": [
       "99649"
      ]
     },
     "execution_count": 110,
     "metadata": {},
     "output_type": "execute_result"
    }
   ],
   "source": [
    "train.account_id.nunique()"
   ]
  },
  {
   "cell_type": "code",
   "execution_count": 44,
   "metadata": {
    "colab": {
     "base_uri": "https://localhost:8080/",
     "height": 206
    },
    "id": "VnZS3UOkFTdj",
    "outputId": "652ba38b-f973-4669-de6c-e827007d8292"
   },
   "outputs": [
    {
     "data": {
      "text/html": [
       "<div>\n",
       "<style scoped>\n",
       "    .dataframe tbody tr th:only-of-type {\n",
       "        vertical-align: middle;\n",
       "    }\n",
       "\n",
       "    .dataframe tbody tr th {\n",
       "        vertical-align: top;\n",
       "    }\n",
       "\n",
       "    .dataframe thead th {\n",
       "        text-align: right;\n",
       "    }\n",
       "</style>\n",
       "<table border=\"1\" class=\"dataframe\">\n",
       "  <thead>\n",
       "    <tr style=\"text-align: right;\">\n",
       "      <th></th>\n",
       "      <th>account_id</th>\n",
       "      <th>content_id</th>\n",
       "      <th>rating</th>\n",
       "      <th>timestamp</th>\n",
       "    </tr>\n",
       "  </thead>\n",
       "  <tbody>\n",
       "    <tr>\n",
       "      <th>1</th>\n",
       "      <td>90627</td>\n",
       "      <td>2040.0</td>\n",
       "      <td>1</td>\n",
       "      <td>2021-03-24</td>\n",
       "    </tr>\n",
       "    <tr>\n",
       "      <th>2</th>\n",
       "      <td>3387</td>\n",
       "      <td>1983.0</td>\n",
       "      <td>0</td>\n",
       "      <td>2021-03-15</td>\n",
       "    </tr>\n",
       "    <tr>\n",
       "      <th>3</th>\n",
       "      <td>3387</td>\n",
       "      <td>1983.0</td>\n",
       "      <td>1</td>\n",
       "      <td>2021-03-15</td>\n",
       "    </tr>\n",
       "    <tr>\n",
       "      <th>4</th>\n",
       "      <td>3387</td>\n",
       "      <td>729.0</td>\n",
       "      <td>0</td>\n",
       "      <td>2021-03-16</td>\n",
       "    </tr>\n",
       "    <tr>\n",
       "      <th>5</th>\n",
       "      <td>3387</td>\n",
       "      <td>729.0</td>\n",
       "      <td>0</td>\n",
       "      <td>2021-03-16</td>\n",
       "    </tr>\n",
       "  </tbody>\n",
       "</table>\n",
       "</div>"
      ],
      "text/plain": [
       "   account_id  content_id  rating  timestamp\n",
       "1       90627      2040.0       1 2021-03-24\n",
       "2        3387      1983.0       0 2021-03-15\n",
       "3        3387      1983.0       1 2021-03-15\n",
       "4        3387       729.0       0 2021-03-16\n",
       "5        3387       729.0       0 2021-03-16"
      ]
     },
     "execution_count": 44,
     "metadata": {},
     "output_type": "execute_result"
    }
   ],
   "source": [
    "# set de test\n",
    "test = ratings[ratings.timestamp >= datetime(year=2021, month=3, day=1)]\n",
    "test.head()"
   ]
  },
  {
   "cell_type": "code",
   "execution_count": null,
   "metadata": {
    "colab": {
     "base_uri": "https://localhost:8080/"
    },
    "id": "N-bat_2RFbOC",
    "outputId": "77d18084-f6a9-4768-e98b-1f2528528dc7"
   },
   "outputs": [
    {
     "data": {
      "text/plain": [
       "(1318737, 4)"
      ]
     },
     "execution_count": 112,
     "metadata": {},
     "output_type": "execute_result"
    }
   ],
   "source": [
    "test.shape"
   ]
  },
  {
   "cell_type": "code",
   "execution_count": null,
   "metadata": {
    "colab": {
     "base_uri": "https://localhost:8080/"
    },
    "id": "A6Rowh2oFdri",
    "outputId": "9c48c985-6702-4093-cd67-73d6a07843ed"
   },
   "outputs": [
    {
     "data": {
      "text/plain": [
       "87635"
      ]
     },
     "execution_count": 113,
     "metadata": {},
     "output_type": "execute_result"
    }
   ],
   "source": [
    "test.account_id.nunique()"
   ]
  },
  {
   "cell_type": "markdown",
   "metadata": {
    "id": "RqAihLojMkoZ"
   },
   "source": [
    "¿Tenemos usuarios que aparecen en test pero no en train? "
   ]
  },
  {
   "cell_type": "code",
   "execution_count": 45,
   "metadata": {
    "colab": {
     "base_uri": "https://localhost:8080/"
    },
    "id": "pBVw-w5BMhzm",
    "outputId": "bd058390-f48a-4db4-c08a-da61710ff1ed"
   },
   "outputs": [
    {
     "data": {
      "text/plain": [
       "14232"
      ]
     },
     "execution_count": 45,
     "metadata": {},
     "output_type": "execute_result"
    }
   ],
   "source": [
    "test[~test.account_id.isin(train.account_id.unique())].account_id.nunique()"
   ]
  },
  {
   "cell_type": "markdown",
   "metadata": {
    "id": "Rs5sFtL8NKYp"
   },
   "source": [
    "Como vemos, tenemos este problema. Utilizaremos \"cold start\" al momento de recomendar a estos usuarios."
   ]
  },
  {
   "cell_type": "markdown",
   "metadata": {
    "id": "4MwN-oRgNd4F"
   },
   "source": [
    "Armamos la matriz de interacción."
   ]
  },
  {
   "cell_type": "code",
   "execution_count": 46,
   "metadata": {
    "id": "Cr91IiI7N3Tu"
   },
   "outputs": [],
   "source": [
    "matrix_columns = [\"account_id\",\"content_id\", \"rating\"]"
   ]
  },
  {
   "cell_type": "code",
   "execution_count": 47,
   "metadata": {
    "colab": {
     "base_uri": "https://localhost:8080/",
     "height": 206
    },
    "id": "xVRXFPQYOLLM",
    "outputId": "dbd94403-1015-4abf-8dbd-1693f6cd2f43"
   },
   "outputs": [
    {
     "data": {
      "text/html": [
       "<div>\n",
       "<style scoped>\n",
       "    .dataframe tbody tr th:only-of-type {\n",
       "        vertical-align: middle;\n",
       "    }\n",
       "\n",
       "    .dataframe tbody tr th {\n",
       "        vertical-align: top;\n",
       "    }\n",
       "\n",
       "    .dataframe thead th {\n",
       "        text-align: right;\n",
       "    }\n",
       "</style>\n",
       "<table border=\"1\" class=\"dataframe\">\n",
       "  <thead>\n",
       "    <tr style=\"text-align: right;\">\n",
       "      <th></th>\n",
       "      <th>account_id</th>\n",
       "      <th>content_id</th>\n",
       "      <th>rating</th>\n",
       "    </tr>\n",
       "  </thead>\n",
       "  <tbody>\n",
       "    <tr>\n",
       "      <th>0</th>\n",
       "      <td>90627</td>\n",
       "      <td>2040.0</td>\n",
       "      <td>1</td>\n",
       "    </tr>\n",
       "    <tr>\n",
       "      <th>6</th>\n",
       "      <td>3388</td>\n",
       "      <td>2100.0</td>\n",
       "      <td>0</td>\n",
       "    </tr>\n",
       "    <tr>\n",
       "      <th>7</th>\n",
       "      <td>3388</td>\n",
       "      <td>2100.0</td>\n",
       "      <td>0</td>\n",
       "    </tr>\n",
       "    <tr>\n",
       "      <th>8</th>\n",
       "      <td>3388</td>\n",
       "      <td>2100.0</td>\n",
       "      <td>0</td>\n",
       "    </tr>\n",
       "    <tr>\n",
       "      <th>9</th>\n",
       "      <td>3388</td>\n",
       "      <td>2100.0</td>\n",
       "      <td>0</td>\n",
       "    </tr>\n",
       "  </tbody>\n",
       "</table>\n",
       "</div>"
      ],
      "text/plain": [
       "   account_id  content_id  rating\n",
       "0       90627      2040.0       1\n",
       "6        3388      2100.0       0\n",
       "7        3388      2100.0       0\n",
       "8        3388      2100.0       0\n",
       "9        3388      2100.0       0"
      ]
     },
     "execution_count": 47,
     "metadata": {},
     "output_type": "execute_result"
    }
   ],
   "source": [
    "interactions = train[matrix_columns]\n",
    "interactions.head()"
   ]
  },
  {
   "cell_type": "markdown",
   "metadata": {
    "id": "YZcOCLypcjP0"
   },
   "source": [
    "Acá pincho colab.........."
   ]
  },
  {
   "cell_type": "code",
   "execution_count": null,
   "metadata": {
    "colab": {
     "base_uri": "https://localhost:8080/",
     "height": 218
    },
    "id": "6S9MOBNPOUdU",
    "outputId": "3d165cee-cea7-4557-df1a-52ba3fac19f7"
   },
   "outputs": [],
   "source": [
    "# tarda 15 minutos\n",
    "# interactions_matrix = pd.pivot(index=\"account_id\", columns=\"content_id\", values=\"rating\")\n",
    "interactions_matrix = pd.pivot_table(interactions[[\"account_id\",\"content_id\", \"rating\"]], index='account_id', columns='content_id', values='rating')\n",
    "interactions_matrix.head() "
   ]
  },
  {
   "cell_type": "markdown",
   "metadata": {
    "id": "UI8cSKapP39n"
   },
   "source": [
    "Completo los NaN con ceros"
   ]
  },
  {
   "cell_type": "code",
   "execution_count": 49,
   "metadata": {
    "colab": {
     "base_uri": "https://localhost:8080/",
     "height": 183
    },
    "id": "YSBftbREP2B3",
    "outputId": "194cfbef-4647-4d4f-d3cb-345cfcce58ee"
   },
   "outputs": [
    {
     "data": {
      "text/html": [
       "<div>\n",
       "<style scoped>\n",
       "    .dataframe tbody tr th:only-of-type {\n",
       "        vertical-align: middle;\n",
       "    }\n",
       "\n",
       "    .dataframe tbody tr th {\n",
       "        vertical-align: top;\n",
       "    }\n",
       "\n",
       "    .dataframe thead th {\n",
       "        text-align: right;\n",
       "    }\n",
       "</style>\n",
       "<table border=\"1\" class=\"dataframe\">\n",
       "  <thead>\n",
       "    <tr style=\"text-align: right;\">\n",
       "      <th>content_id</th>\n",
       "      <th>0.0</th>\n",
       "      <th>1.0</th>\n",
       "      <th>3.0</th>\n",
       "      <th>6.0</th>\n",
       "      <th>7.0</th>\n",
       "      <th>8.0</th>\n",
       "      <th>9.0</th>\n",
       "      <th>10.0</th>\n",
       "      <th>11.0</th>\n",
       "      <th>12.0</th>\n",
       "      <th>...</th>\n",
       "      <th>4357.0</th>\n",
       "      <th>4358.0</th>\n",
       "      <th>4359.0</th>\n",
       "      <th>4360.0</th>\n",
       "      <th>4361.0</th>\n",
       "      <th>4362.0</th>\n",
       "      <th>4363.0</th>\n",
       "      <th>4364.0</th>\n",
       "      <th>4365.0</th>\n",
       "      <th>4366.0</th>\n",
       "    </tr>\n",
       "    <tr>\n",
       "      <th>account_id</th>\n",
       "      <th></th>\n",
       "      <th></th>\n",
       "      <th></th>\n",
       "      <th></th>\n",
       "      <th></th>\n",
       "      <th></th>\n",
       "      <th></th>\n",
       "      <th></th>\n",
       "      <th></th>\n",
       "      <th></th>\n",
       "      <th></th>\n",
       "      <th></th>\n",
       "      <th></th>\n",
       "      <th></th>\n",
       "      <th></th>\n",
       "      <th></th>\n",
       "      <th></th>\n",
       "      <th></th>\n",
       "      <th></th>\n",
       "      <th></th>\n",
       "      <th></th>\n",
       "    </tr>\n",
       "  </thead>\n",
       "  <tbody>\n",
       "    <tr>\n",
       "      <th>0</th>\n",
       "      <td>0.0</td>\n",
       "      <td>0.0</td>\n",
       "      <td>0.0</td>\n",
       "      <td>0.0</td>\n",
       "      <td>0.0</td>\n",
       "      <td>0.0</td>\n",
       "      <td>0.0</td>\n",
       "      <td>0.0</td>\n",
       "      <td>0.0</td>\n",
       "      <td>0.0</td>\n",
       "      <td>...</td>\n",
       "      <td>0.0</td>\n",
       "      <td>0.0</td>\n",
       "      <td>0.0</td>\n",
       "      <td>0.0</td>\n",
       "      <td>0.0</td>\n",
       "      <td>0.0</td>\n",
       "      <td>0.0</td>\n",
       "      <td>0.0</td>\n",
       "      <td>0.0</td>\n",
       "      <td>0.0</td>\n",
       "    </tr>\n",
       "    <tr>\n",
       "      <th>1</th>\n",
       "      <td>0.0</td>\n",
       "      <td>0.0</td>\n",
       "      <td>0.0</td>\n",
       "      <td>0.0</td>\n",
       "      <td>0.0</td>\n",
       "      <td>0.0</td>\n",
       "      <td>0.0</td>\n",
       "      <td>0.0</td>\n",
       "      <td>0.0</td>\n",
       "      <td>0.0</td>\n",
       "      <td>...</td>\n",
       "      <td>0.0</td>\n",
       "      <td>0.0</td>\n",
       "      <td>0.0</td>\n",
       "      <td>0.0</td>\n",
       "      <td>0.0</td>\n",
       "      <td>0.0</td>\n",
       "      <td>0.0</td>\n",
       "      <td>0.0</td>\n",
       "      <td>0.0</td>\n",
       "      <td>0.0</td>\n",
       "    </tr>\n",
       "    <tr>\n",
       "      <th>2</th>\n",
       "      <td>0.0</td>\n",
       "      <td>0.0</td>\n",
       "      <td>0.0</td>\n",
       "      <td>1.0</td>\n",
       "      <td>0.0</td>\n",
       "      <td>0.0</td>\n",
       "      <td>0.0</td>\n",
       "      <td>0.0</td>\n",
       "      <td>0.0</td>\n",
       "      <td>0.0</td>\n",
       "      <td>...</td>\n",
       "      <td>0.0</td>\n",
       "      <td>0.0</td>\n",
       "      <td>0.0</td>\n",
       "      <td>0.0</td>\n",
       "      <td>0.0</td>\n",
       "      <td>0.0</td>\n",
       "      <td>0.0</td>\n",
       "      <td>0.0</td>\n",
       "      <td>0.0</td>\n",
       "      <td>0.0</td>\n",
       "    </tr>\n",
       "    <tr>\n",
       "      <th>3</th>\n",
       "      <td>0.0</td>\n",
       "      <td>0.0</td>\n",
       "      <td>0.0</td>\n",
       "      <td>0.0</td>\n",
       "      <td>0.0</td>\n",
       "      <td>0.0</td>\n",
       "      <td>0.0</td>\n",
       "      <td>0.0</td>\n",
       "      <td>0.0</td>\n",
       "      <td>0.0</td>\n",
       "      <td>...</td>\n",
       "      <td>0.0</td>\n",
       "      <td>0.0</td>\n",
       "      <td>0.0</td>\n",
       "      <td>0.0</td>\n",
       "      <td>0.0</td>\n",
       "      <td>0.0</td>\n",
       "      <td>0.0</td>\n",
       "      <td>0.0</td>\n",
       "      <td>0.0</td>\n",
       "      <td>0.0</td>\n",
       "    </tr>\n",
       "    <tr>\n",
       "      <th>4</th>\n",
       "      <td>0.0</td>\n",
       "      <td>0.0</td>\n",
       "      <td>0.0</td>\n",
       "      <td>0.0</td>\n",
       "      <td>0.0</td>\n",
       "      <td>0.0</td>\n",
       "      <td>0.0</td>\n",
       "      <td>0.0</td>\n",
       "      <td>0.0</td>\n",
       "      <td>0.0</td>\n",
       "      <td>...</td>\n",
       "      <td>0.0</td>\n",
       "      <td>0.0</td>\n",
       "      <td>0.0</td>\n",
       "      <td>0.0</td>\n",
       "      <td>0.0</td>\n",
       "      <td>0.0</td>\n",
       "      <td>0.0</td>\n",
       "      <td>0.0</td>\n",
       "      <td>0.0</td>\n",
       "      <td>0.0</td>\n",
       "    </tr>\n",
       "  </tbody>\n",
       "</table>\n",
       "<p>5 rows × 3692 columns</p>\n",
       "</div>"
      ],
      "text/plain": [
       "content_id  0.0     1.0     3.0     6.0     7.0     8.0     9.0     10.0    \\\n",
       "account_id                                                                   \n",
       "0              0.0     0.0     0.0     0.0     0.0     0.0     0.0     0.0   \n",
       "1              0.0     0.0     0.0     0.0     0.0     0.0     0.0     0.0   \n",
       "2              0.0     0.0     0.0     1.0     0.0     0.0     0.0     0.0   \n",
       "3              0.0     0.0     0.0     0.0     0.0     0.0     0.0     0.0   \n",
       "4              0.0     0.0     0.0     0.0     0.0     0.0     0.0     0.0   \n",
       "\n",
       "content_id  11.0    12.0    ...  4357.0  4358.0  4359.0  4360.0  4361.0  \\\n",
       "account_id                  ...                                           \n",
       "0              0.0     0.0  ...     0.0     0.0     0.0     0.0     0.0   \n",
       "1              0.0     0.0  ...     0.0     0.0     0.0     0.0     0.0   \n",
       "2              0.0     0.0  ...     0.0     0.0     0.0     0.0     0.0   \n",
       "3              0.0     0.0  ...     0.0     0.0     0.0     0.0     0.0   \n",
       "4              0.0     0.0  ...     0.0     0.0     0.0     0.0     0.0   \n",
       "\n",
       "content_id  4362.0  4363.0  4364.0  4365.0  4366.0  \n",
       "account_id                                          \n",
       "0              0.0     0.0     0.0     0.0     0.0  \n",
       "1              0.0     0.0     0.0     0.0     0.0  \n",
       "2              0.0     0.0     0.0     0.0     0.0  \n",
       "3              0.0     0.0     0.0     0.0     0.0  \n",
       "4              0.0     0.0     0.0     0.0     0.0  \n",
       "\n",
       "[5 rows x 3692 columns]"
      ]
     },
     "execution_count": 49,
     "metadata": {},
     "output_type": "execute_result"
    }
   ],
   "source": [
    "interactions_matrix = interactions_matrix.fillna(0)\n",
    "interactions_matrix.head()"
   ]
  },
  {
   "cell_type": "markdown",
   "metadata": {
    "id": "tIxcJFQJQFAi"
   },
   "source": [
    "¿Cuántas filas y columnas tiene la matriz de interacción?"
   ]
  },
  {
   "cell_type": "code",
   "execution_count": 52,
   "metadata": {
    "id": "KmkX0OGIQENW"
   },
   "outputs": [
    {
     "data": {
      "text/plain": [
       "(99647, 3692)"
      ]
     },
     "execution_count": 52,
     "metadata": {},
     "output_type": "execute_result"
    }
   ],
   "source": [
    "interactions_matrix.shape"
   ]
  },
  {
   "cell_type": "markdown",
   "metadata": {
    "id": "iClfO9gFREN8"
   },
   "source": [
    "Generemos diccionarios de usuarios y items"
   ]
  },
  {
   "cell_type": "code",
   "execution_count": 74,
   "metadata": {
    "id": "bA6K6SlXRBqW"
   },
   "outputs": [],
   "source": [
    "user_id = list(interactions_matrix.index)\n",
    "user_dict = {}\n",
    "counter = 0 \n",
    "for i in user_id:\n",
    "    user_dict[i] = counter\n",
    "    counter += 1"
   ]
  },
  {
   "cell_type": "code",
   "execution_count": 55,
   "metadata": {
    "id": "fHpWWcWNRKA1"
   },
   "outputs": [],
   "source": [
    "item_id = list(interactions_matrix.columns)\n",
    "item_dict = {}\n",
    "counter = 0 \n",
    "for i in item_id:\n",
    "    item_dict[i] = counter\n",
    "    counter += 1"
   ]
  },
  {
   "cell_type": "markdown",
   "metadata": {
    "id": "RdlYwN5hQOd1"
   },
   "source": [
    "Transformamos la matriz a csr matrix (compressed sparse row)"
   ]
  },
  {
   "cell_type": "code",
   "execution_count": 57,
   "metadata": {
    "id": "mkeOgsdBQNd7"
   },
   "outputs": [],
   "source": [
    "interactions_matrix_csr = csr_matrix(interactions_matrix.values)"
   ]
  },
  {
   "cell_type": "code",
   "execution_count": 58,
   "metadata": {},
   "outputs": [
    {
     "data": {
      "text/plain": [
       "(99647, 3692)"
      ]
     },
     "execution_count": 58,
     "metadata": {},
     "output_type": "execute_result"
    }
   ],
   "source": [
    "interactions_matrix_csr.shape"
   ]
  },
  {
   "cell_type": "markdown",
   "metadata": {
    "id": "bChUAt06RpBZ"
   },
   "source": [
    "# Modelo"
   ]
  },
  {
   "cell_type": "markdown",
   "metadata": {
    "id": "neBgWTZASS5w"
   },
   "source": [
    "Utilizaremos la librería LFM (light fm) para realizar un modelo de recomendación."
   ]
  },
  {
   "cell_type": "code",
   "execution_count": 59,
   "metadata": {
    "id": "voyrtbMnRqn_"
   },
   "outputs": [],
   "source": [
    "# model = LightFM(no_components=3, random_state=100, learning_rate=0.03)"
   ]
  },
  {
   "cell_type": "code",
   "execution_count": null,
   "metadata": {},
   "outputs": [],
   "source": [
    "model = LightFM(random_state=0,\n",
    "                loss='warp',\n",
    "                learning_rate=0.03,\n",
    "                no_components=100)"
   ]
  },
  {
   "cell_type": "markdown",
   "metadata": {
    "id": "k9o2UQSGSc_9"
   },
   "source": [
    "Entrenar el modelo con la matriz csr por 10 epochs:"
   ]
  },
  {
   "cell_type": "code",
   "execution_count": 60,
   "metadata": {
    "id": "kM19q-KQSLuu"
   },
   "outputs": [],
   "source": [
    "model = model.fit(interactions_matrix_csr, epochs=10)"
   ]
  },
  {
   "cell_type": "markdown",
   "metadata": {
    "id": "6CaSM0XpUiRy"
   },
   "source": [
    "Probando el modelo para un usuario cualquiera"
   ]
  },
  {
   "cell_type": "code",
   "execution_count": 61,
   "metadata": {
    "id": "I5yfmcbxUkS2"
   },
   "outputs": [],
   "source": [
    "user_x = user_dict[18]\n",
    "n_users, n_items = interactions_matrix.shape\n",
    "item_ids = np.arange(n_items)\n",
    "#ACA GENERAMOS PREDICCIONES\n",
    "preds = model.predict(user_ids=user_x, item_ids = item_ids)"
   ]
  },
  {
   "cell_type": "markdown",
   "metadata": {
    "id": "6B6bqmd3UvAJ"
   },
   "source": [
    "Este array que obtenemos son los scores que le da el modelo a cada item para el usuario 18. Podemos ordenarlo y obtener las mejores recomendaciones"
   ]
  },
  {
   "cell_type": "code",
   "execution_count": 62,
   "metadata": {
    "id": "TaSgFDXBUxDt"
   },
   "outputs": [],
   "source": [
    "scores = pd.Series(preds)\n",
    "scores.index = interactions_matrix.columns\n",
    "recomms_18 = list(pd.Series(scores.sort_values(ascending=False).index))[:10] #obtenemos las primeras 10"
   ]
  },
  {
   "cell_type": "code",
   "execution_count": 63,
   "metadata": {
    "id": "d0fWFge9U3TC"
   },
   "outputs": [
    {
     "data": {
      "text/plain": [
       "[2040.0, 3900.0, 3806.0, 2160.0, 1316.0, 116.0, 2627.0, 1462.0, 1139.0, 3726.0]"
      ]
     },
     "execution_count": 63,
     "metadata": {},
     "output_type": "execute_result"
    }
   ],
   "source": [
    "recomms_18"
   ]
  },
  {
   "cell_type": "markdown",
   "metadata": {
    "id": "Jjp1Ik5VVcja"
   },
   "source": [
    "Popularidad de contenido para cold start"
   ]
  },
  {
   "cell_type": "code",
   "execution_count": 64,
   "metadata": {
    "id": "0NHSr9LZVgly"
   },
   "outputs": [
    {
     "data": {
      "text/html": [
       "<div>\n",
       "<style scoped>\n",
       "    .dataframe tbody tr th:only-of-type {\n",
       "        vertical-align: middle;\n",
       "    }\n",
       "\n",
       "    .dataframe tbody tr th {\n",
       "        vertical-align: top;\n",
       "    }\n",
       "\n",
       "    .dataframe thead th {\n",
       "        text-align: right;\n",
       "    }\n",
       "</style>\n",
       "<table border=\"1\" class=\"dataframe\">\n",
       "  <thead>\n",
       "    <tr style=\"text-align: right;\">\n",
       "      <th></th>\n",
       "      <th>content_id</th>\n",
       "      <th>popularity</th>\n",
       "    </tr>\n",
       "  </thead>\n",
       "  <tbody>\n",
       "    <tr>\n",
       "      <th>1733</th>\n",
       "      <td>2040.0</td>\n",
       "      <td>11481</td>\n",
       "    </tr>\n",
       "    <tr>\n",
       "      <th>3478</th>\n",
       "      <td>3806.0</td>\n",
       "      <td>8762</td>\n",
       "    </tr>\n",
       "    <tr>\n",
       "      <th>3572</th>\n",
       "      <td>3900.0</td>\n",
       "      <td>7960</td>\n",
       "    </tr>\n",
       "    <tr>\n",
       "      <th>3274</th>\n",
       "      <td>3598.0</td>\n",
       "      <td>3772</td>\n",
       "    </tr>\n",
       "    <tr>\n",
       "      <th>1851</th>\n",
       "      <td>2160.0</td>\n",
       "      <td>3506</td>\n",
       "    </tr>\n",
       "  </tbody>\n",
       "</table>\n",
       "</div>"
      ],
      "text/plain": [
       "      content_id  popularity\n",
       "1733      2040.0       11481\n",
       "3478      3806.0        8762\n",
       "3572      3900.0        7960\n",
       "3274      3598.0        3772\n",
       "1851      2160.0        3506"
      ]
     },
     "execution_count": 64,
     "metadata": {},
     "output_type": "execute_result"
    }
   ],
   "source": [
    "popularity_df = train.groupby(\"content_id\", as_index=False).agg({\"account_id\":\"nunique\"}).sort_values(by=\"account_id\", ascending=False)\n",
    "\n",
    "popularity_df.columns=[\"content_id\", \"popularity\"]\n",
    "popularity_df.head()"
   ]
  },
  {
   "cell_type": "code",
   "execution_count": 65,
   "metadata": {
    "id": "UTK2etffV8Yt"
   },
   "outputs": [
    {
     "data": {
      "text/plain": [
       "array([2040., 3806., 3900., 3598., 2160., 3381., 1462., 3690., 3210.,\n",
       "       3550.])"
      ]
     },
     "execution_count": 65,
     "metadata": {},
     "output_type": "execute_result"
    }
   ],
   "source": [
    "popularity_df.head(10).content_id.values"
   ]
  },
  {
   "cell_type": "markdown",
   "metadata": {
    "id": "w0UH0q67WQPl"
   },
   "source": [
    "Creando nuestra función de recomendación"
   ]
  },
  {
   "cell_type": "code",
   "execution_count": 66,
   "metadata": {
    "id": "1rY7yLeLWX3s"
   },
   "outputs": [],
   "source": [
    "def recomm(model, interactions, user_id, user_dict, item_dict, nrec_items = 10, show = True):\n",
    "\"\"\"\n",
    "    n_users, n_items = interactions_matrix.shape\n",
    "    user_x = user_dict[user_id]\n",
    "\n",
    "    scores = pd.Series(model.predict(user_x,np.arange(n_items)))\n",
    "    scores.index = interactions_matrix.columns\n",
    "    scores = list(pd.Series(scores.sort_values(ascending=False).index))\n",
    "    \n",
    "    known_items = list(pd.Series(interactions_matrix.loc[user_id,:] \\\n",
    "                                [interactions_matrix.loc[user_id,:] > 0].index).sort_values(ascending=False))\n",
    "    \n",
    "    #Filtro de items que ya leyó el usuario\n",
    "    scores = [x for x in scores if x not in known_items]\n",
    "    recomms = scores[0:nrec_items]\n",
    "\n",
    "    if show == True:\n",
    "        print (\"User: \" + str(user_id))\n",
    "        print(\"Known Likes:\")\n",
    "        counter = 1\n",
    "        for i in known_items:\n",
    "            print(str(counter) + '- ' + str(i))\n",
    "            counter+=1\n",
    "\n",
    "        print(\"\\n Recommended Items:\")\n",
    "        \n",
    "        counter = 1\n",
    "        for i in recomms:\n",
    "            print(str(counter) + '- ' + str(i))\n",
    "            counter+=1\n",
    "    return recomms\n",
    "\"\"\""
   ]
  },
  {
   "cell_type": "markdown",
   "metadata": {
    "id": "eI2p8EmEWfLH"
   },
   "source": [
    "Ya tenemos la función de recomendaciones. La probamos"
   ]
  },
  {
   "cell_type": "code",
   "execution_count": 67,
   "metadata": {
    "id": "gbtdd7E4WgO-"
   },
   "outputs": [
    {
     "name": "stdout",
     "output_type": "stream",
     "text": [
      "User: 18\n",
      "Known Likes:\n",
      "1- 3064.0\n",
      "2- 1314.0\n",
      "\n",
      " Recommended Items:\n",
      "1- 2040.0\n",
      "2- 3900.0\n",
      "3- 3806.0\n",
      "4- 2160.0\n",
      "5- 1316.0\n",
      "6- 116.0\n",
      "7- 2627.0\n",
      "8- 1462.0\n",
      "9- 1139.0\n",
      "10- 3726.0\n"
     ]
    }
   ],
   "source": [
    "# recomms_df = pd.DataFrame(recomms_dict)\n",
    "# recomms_df\n",
    "\"\"\"\n",
    "recomms_test = recomm(model, interactions_matrix_csr, 18, user_dict, item_dict, show=True)\n",
    "\"\"\""
   ]
  },
  {
   "cell_type": "markdown",
   "metadata": {
    "id": "yyfXUwkBZUE1"
   },
   "source": [
    "# Ahora obtenemos las recomendaciones para todos los usuarios"
   ]
  },
  {
   "cell_type": "markdown",
   "metadata": {
    "id": "lyIWlFvXaJJ3"
   },
   "source": [
    "Primero comenzamos armando un listado de usuarios \"non cold\" a los cuales les daremos recomms personalizadas."
   ]
  },
  {
   "cell_type": "code",
   "execution_count": 68,
   "metadata": {
    "id": "F8-Ci763ZYja",
    "scrolled": true
   },
   "outputs": [
    {
     "name": "stdout",
     "output_type": "stream",
     "text": [
      "113881 99649\n"
     ]
    }
   ],
   "source": [
    "# Todos lo usuarios\n",
    "users = df_map.account_id.unique() \n",
    "# Usuarios no cold\n",
    "non_cold_users = train.account_id.unique()\n",
    "\n",
    "print(len(users), len(non_cold_users))"
   ]
  },
  {
   "cell_type": "code",
   "execution_count": 83,
   "metadata": {
    "scrolled": true
   },
   "outputs": [
    {
     "name": "stderr",
     "output_type": "stream",
     "text": [
      "100%|████████████████████████████████████████████████████████████████████████████| 87635/87635 [43:44<00:00, 33.39it/s]\n"
     ]
    }
   ],
   "source": [
    "from tqdm import tqdm\n",
    "\n",
    "#definimos dict donde vamos a ir almacenando las recomendaciones\n",
    "recomms_dict = {\n",
    "    'user_id': [],\n",
    "    'recomms': [],\n",
    "    'cold': []\n",
    "}\n",
    "\n",
    "#obtenemos cantidad de usuarios y cantidad de items\n",
    "n_users, n_items = interactions_matrix.shape\n",
    "item_ids = np.arange(n_items)\n",
    "\n",
    "#por cada usuario del dataset completo, generamos recomendaciones\n",
    "for user in tqdm(df_map.account_id.unique()): ### CUIDADO: USAR TEST - test.account_id.unique()\n",
    "    #COMPLETAR: Validar si el usuario se encuentra en la matriz de interacciones (interactions_matrix.index)\n",
    "    if user in list(interactions_matrix.index):\n",
    "      # Si el usuario esta en train, no es cold start. Usamos el modelo para recomendar\n",
    "      user_x = user_dict[user] #buscamos el indice del usuario en la matriz (transformamos id a indice)\n",
    "\n",
    "      #COMPLETAR: Generar las predicciones para el usuario x\n",
    "      preds = model.predict(user_ids=user_x, item_ids = item_ids)\n",
    "\n",
    "      #COMPLETAR: Basándose en el ejemplo anterior, ordenar las predicciones de menor a mayor y quedarse con 50.\n",
    "      scores = pd.Series(preds)\n",
    "      scores.index = interactions_matrix.columns\n",
    "      scores = list(pd.Series(scores.sort_values(ascending=False).index))[:50]\n",
    "\n",
    "      #COMPLETAR: Obtener listado de contenidos vistos anteriormente por el usuario (en el set de train)\n",
    "      watched_contents = train[train.account_id == user].content_id.unique()\n",
    "  \n",
    "      #COMPLETAR: Filtrar contenidos ya vistos y quedarse con los primeros 10\n",
    "      recomms = [x for x in scores if x not in watched_contents][:10]\n",
    "\n",
    "      # Guardamos las recomendaciones en el diccionario\n",
    "      recomms_dict['user_id'].append(user)\n",
    "      recomms_dict['recomms'].append(scores)\n",
    "      recomms_dict['cold'].append(False)\n",
    "    \n",
    "    # En este else trataremos a los usuarios que no están en la matriz (cold start)\n",
    "    else:\n",
    "      recomms_dict['user_id'].append(user)\n",
    "      # Les recomendamos contenido popular\n",
    "      recomms_dict['recomms'].append(popularity_df.content_id.to_list())\n",
    "      recomms_dict['cold'].append(True)"
   ]
  },
  {
   "cell_type": "markdown",
   "metadata": {},
   "source": [
    "Este codigo pincha...... hay algo mal en el diccionario, queda fuera de rango..."
   ]
  },
  {
   "cell_type": "code",
   "execution_count": 77,
   "metadata": {
    "id": "EikssvE3a31j",
    "scrolled": true
   },
   "outputs": [
    {
     "ename": "KeyError",
     "evalue": "95749",
     "output_type": "error",
     "traceback": [
      "\u001b[1;31m---------------------------------------------------------------------------\u001b[0m",
      "\u001b[1;31mKeyError\u001b[0m                                  Traceback (most recent call last)",
      "\u001b[1;32m~\\AppData\\Local\\Temp\\ipykernel_15536\\997368611.py\u001b[0m in \u001b[0;36m<module>\u001b[1;34m\u001b[0m\n\u001b[0;32m      9\u001b[0m   \u001b[1;31m# Recomms personalizadas\u001b[0m\u001b[1;33m\u001b[0m\u001b[1;33m\u001b[0m\u001b[0m\n\u001b[0;32m     10\u001b[0m   \u001b[1;32mif\u001b[0m \u001b[0muser\u001b[0m \u001b[1;32min\u001b[0m \u001b[0mnon_cold_users\u001b[0m\u001b[1;33m:\u001b[0m\u001b[1;33m\u001b[0m\u001b[1;33m\u001b[0m\u001b[0m\n\u001b[1;32m---> 11\u001b[1;33m     \u001b[0muser_recomms\u001b[0m \u001b[1;33m=\u001b[0m \u001b[0mrecomm\u001b[0m\u001b[1;33m(\u001b[0m\u001b[0mmodel\u001b[0m\u001b[1;33m,\u001b[0m \u001b[0minteractions_matrix\u001b[0m\u001b[1;33m,\u001b[0m \u001b[0muser\u001b[0m\u001b[1;33m,\u001b[0m \u001b[0muser_dict\u001b[0m\u001b[1;33m,\u001b[0m \u001b[0mitem_dict\u001b[0m\u001b[1;33m,\u001b[0m \u001b[0mnrec_items\u001b[0m \u001b[1;33m=\u001b[0m \u001b[1;36m10\u001b[0m\u001b[1;33m,\u001b[0m \u001b[0mshow\u001b[0m \u001b[1;33m=\u001b[0m \u001b[1;32mFalse\u001b[0m\u001b[1;33m)\u001b[0m\u001b[1;33m\u001b[0m\u001b[1;33m\u001b[0m\u001b[0m\n\u001b[0m\u001b[0;32m     12\u001b[0m     \u001b[0mrecomms_dict\u001b[0m\u001b[1;33m[\u001b[0m\u001b[1;34m\"user\"\u001b[0m\u001b[1;33m]\u001b[0m\u001b[1;33m.\u001b[0m\u001b[0mappend\u001b[0m\u001b[1;33m(\u001b[0m\u001b[0muser\u001b[0m\u001b[1;33m)\u001b[0m\u001b[1;33m\u001b[0m\u001b[1;33m\u001b[0m\u001b[0m\n\u001b[0;32m     13\u001b[0m     \u001b[0mrecomms_dict\u001b[0m\u001b[1;33m[\u001b[0m\u001b[1;34m\"recomms\"\u001b[0m\u001b[1;33m]\u001b[0m\u001b[1;33m.\u001b[0m\u001b[0mappend\u001b[0m\u001b[1;33m(\u001b[0m\u001b[0muser_recomms\u001b[0m\u001b[1;33m)\u001b[0m\u001b[1;33m\u001b[0m\u001b[1;33m\u001b[0m\u001b[0m\n",
      "\u001b[1;32m~\\AppData\\Local\\Temp\\ipykernel_15536\\4270712035.py\u001b[0m in \u001b[0;36mrecomm\u001b[1;34m(model, interactions, user_id, user_dict, item_dict, nrec_items, show)\u001b[0m\n\u001b[0;32m      2\u001b[0m \u001b[1;33m\u001b[0m\u001b[0m\n\u001b[0;32m      3\u001b[0m     \u001b[0mn_users\u001b[0m\u001b[1;33m,\u001b[0m \u001b[0mn_items\u001b[0m \u001b[1;33m=\u001b[0m \u001b[0minteractions_matrix\u001b[0m\u001b[1;33m.\u001b[0m\u001b[0mshape\u001b[0m\u001b[1;33m\u001b[0m\u001b[1;33m\u001b[0m\u001b[0m\n\u001b[1;32m----> 4\u001b[1;33m     \u001b[0muser_x\u001b[0m \u001b[1;33m=\u001b[0m \u001b[0muser_dict\u001b[0m\u001b[1;33m[\u001b[0m\u001b[0muser_id\u001b[0m\u001b[1;33m]\u001b[0m\u001b[1;33m\u001b[0m\u001b[1;33m\u001b[0m\u001b[0m\n\u001b[0m\u001b[0;32m      5\u001b[0m \u001b[1;33m\u001b[0m\u001b[0m\n\u001b[0;32m      6\u001b[0m     \u001b[0mscores\u001b[0m \u001b[1;33m=\u001b[0m \u001b[0mpd\u001b[0m\u001b[1;33m.\u001b[0m\u001b[0mSeries\u001b[0m\u001b[1;33m(\u001b[0m\u001b[0mmodel\u001b[0m\u001b[1;33m.\u001b[0m\u001b[0mpredict\u001b[0m\u001b[1;33m(\u001b[0m\u001b[0muser_x\u001b[0m\u001b[1;33m,\u001b[0m\u001b[0mnp\u001b[0m\u001b[1;33m.\u001b[0m\u001b[0marange\u001b[0m\u001b[1;33m(\u001b[0m\u001b[0mn_items\u001b[0m\u001b[1;33m)\u001b[0m\u001b[1;33m)\u001b[0m\u001b[1;33m)\u001b[0m\u001b[1;33m\u001b[0m\u001b[1;33m\u001b[0m\u001b[0m\n",
      "\u001b[1;31mKeyError\u001b[0m: 95749"
     ]
    }
   ],
   "source": [
    "\"\"\"\n",
    "recomms_dict = {\n",
    "    \"user\": [],\n",
    "    \"recomms\": [],\n",
    "    \"cold\": []\n",
    "}\n",
    "\n",
    "for user in users:\n",
    "  \n",
    "  # Recomms personalizadas\n",
    "  if user in non_cold_users:\n",
    "    user_recomms = recomm(model, interactions_matrix, user, user_dict, item_dict, nrec_items = 10, show = False)\n",
    "    recomms_dict[\"user\"].append(user)\n",
    "    recomms_dict[\"recomms\"].append(user_recomms)\n",
    "    recomms_dict[\"cold\"].append(False) #Para luego tener identificados a los usuarios cold\n",
    "  \n",
    "  # Recomms cold\n",
    "  else:\n",
    "    recomms_dict[\"user\"].append(user)\n",
    "    recomms_dict[\"recomms\"].append(popularity_df.content_id.to_list())\n",
    "    recomms_dict[\"cold\"].append(True) #Para luego tener identificados a los usuarios cold\n",
    "\"\"\""
   ]
  },
  {
   "cell_type": "code",
   "execution_count": 73,
   "metadata": {},
   "outputs": [
    {
     "ename": "KeyError",
     "evalue": "95749",
     "output_type": "error",
     "traceback": [
      "\u001b[1;31m---------------------------------------------------------------------------\u001b[0m",
      "\u001b[1;31mKeyError\u001b[0m                                  Traceback (most recent call last)",
      "\u001b[1;32m~\\AppData\\Local\\Temp\\ipykernel_15536\\2780362747.py\u001b[0m in \u001b[0;36m<module>\u001b[1;34m\u001b[0m\n\u001b[1;32m----> 1\u001b[1;33m \u001b[0muser_dict\u001b[0m\u001b[1;33m[\u001b[0m\u001b[1;36m95749\u001b[0m\u001b[1;33m]\u001b[0m\u001b[1;33m\u001b[0m\u001b[1;33m\u001b[0m\u001b[0m\n\u001b[0m",
      "\u001b[1;31mKeyError\u001b[0m: 95749"
     ]
    }
   ],
   "source": [
    "user_dict[95749]"
   ]
  },
  {
   "cell_type": "markdown",
   "metadata": {
    "id": "dzKOA4pFbIg7"
   },
   "source": [
    "Ahora tenemos un diccionario de recomedaciones. Lo vamos a convertir en dataframe para poder manipularlo más fácil (como estamos acostumbrados)"
   ]
  },
  {
   "cell_type": "code",
   "execution_count": 84,
   "metadata": {
    "id": "JV-6-x_nbJ2M"
   },
   "outputs": [
    {
     "data": {
      "text/html": [
       "<div>\n",
       "<style scoped>\n",
       "    .dataframe tbody tr th:only-of-type {\n",
       "        vertical-align: middle;\n",
       "    }\n",
       "\n",
       "    .dataframe tbody tr th {\n",
       "        vertical-align: top;\n",
       "    }\n",
       "\n",
       "    .dataframe thead th {\n",
       "        text-align: right;\n",
       "    }\n",
       "</style>\n",
       "<table border=\"1\" class=\"dataframe\">\n",
       "  <thead>\n",
       "    <tr style=\"text-align: right;\">\n",
       "      <th></th>\n",
       "      <th>user_id</th>\n",
       "      <th>recomms</th>\n",
       "    </tr>\n",
       "  </thead>\n",
       "  <tbody>\n",
       "    <tr>\n",
       "      <th>0</th>\n",
       "      <td>90627</td>\n",
       "      <td>[2040.0, 3900.0, 3806.0, 2160.0, 1316.0, 116.0...</td>\n",
       "    </tr>\n",
       "    <tr>\n",
       "      <th>1</th>\n",
       "      <td>3387</td>\n",
       "      <td>[2040.0, 3806.0, 3900.0, 3598.0, 2160.0, 3381....</td>\n",
       "    </tr>\n",
       "    <tr>\n",
       "      <th>2</th>\n",
       "      <td>3388</td>\n",
       "      <td>[2040.0, 3900.0, 3806.0, 2160.0, 1316.0, 116.0...</td>\n",
       "    </tr>\n",
       "    <tr>\n",
       "      <th>3</th>\n",
       "      <td>3389</td>\n",
       "      <td>[2040.0, 3900.0, 3806.0, 2160.0, 1316.0, 116.0...</td>\n",
       "    </tr>\n",
       "    <tr>\n",
       "      <th>4</th>\n",
       "      <td>3393</td>\n",
       "      <td>[2040.0, 3900.0, 3806.0, 2160.0, 1316.0, 116.0...</td>\n",
       "    </tr>\n",
       "  </tbody>\n",
       "</table>\n",
       "</div>"
      ],
      "text/plain": [
       "   user_id                                            recomms\n",
       "0    90627  [2040.0, 3900.0, 3806.0, 2160.0, 1316.0, 116.0...\n",
       "1     3387  [2040.0, 3806.0, 3900.0, 3598.0, 2160.0, 3381....\n",
       "2     3388  [2040.0, 3900.0, 3806.0, 2160.0, 1316.0, 116.0...\n",
       "3     3389  [2040.0, 3900.0, 3806.0, 2160.0, 1316.0, 116.0...\n",
       "4     3393  [2040.0, 3900.0, 3806.0, 2160.0, 1316.0, 116.0..."
      ]
     },
     "execution_count": 84,
     "metadata": {},
     "output_type": "execute_result"
    }
   ],
   "source": [
    "recomms_df = pd.DataFrame(recomms_dict)\n",
    "recomms_df.head()"
   ]
  },
  {
   "cell_type": "code",
   "execution_count": 86,
   "metadata": {
    "id": "jLcAM9w-bRSp"
   },
   "outputs": [
    {
     "data": {
      "text/plain": [
       "87635"
      ]
     },
     "execution_count": 86,
     "metadata": {},
     "output_type": "execute_result"
    }
   ],
   "source": [
    "recomms_df.user_id.nunique()"
   ]
  },
  {
   "cell_type": "code",
   "execution_count": 87,
   "metadata": {
    "id": "OxGr7BzUbU9m"
   },
   "outputs": [
    {
     "ename": "AttributeError",
     "evalue": "'DataFrame' object has no attribute 'cold'",
     "output_type": "error",
     "traceback": [
      "\u001b[1;31m---------------------------------------------------------------------------\u001b[0m",
      "\u001b[1;31mAttributeError\u001b[0m                            Traceback (most recent call last)",
      "\u001b[1;32m~\\AppData\\Local\\Temp\\ipykernel_15536\\1714750033.py\u001b[0m in \u001b[0;36m<module>\u001b[1;34m\u001b[0m\n\u001b[1;32m----> 1\u001b[1;33m \u001b[0mrecomms_df\u001b[0m\u001b[1;33m.\u001b[0m\u001b[0mcold\u001b[0m\u001b[1;33m.\u001b[0m\u001b[0mvalue_counts\u001b[0m\u001b[1;33m(\u001b[0m\u001b[1;33m)\u001b[0m\u001b[1;33m\u001b[0m\u001b[1;33m\u001b[0m\u001b[0m\n\u001b[0m",
      "\u001b[1;32m~\\anaconda3-2022\\lib\\site-packages\\pandas\\core\\generic.py\u001b[0m in \u001b[0;36m__getattr__\u001b[1;34m(self, name)\u001b[0m\n\u001b[0;32m   5573\u001b[0m         ):\n\u001b[0;32m   5574\u001b[0m             \u001b[1;32mreturn\u001b[0m \u001b[0mself\u001b[0m\u001b[1;33m[\u001b[0m\u001b[0mname\u001b[0m\u001b[1;33m]\u001b[0m\u001b[1;33m\u001b[0m\u001b[1;33m\u001b[0m\u001b[0m\n\u001b[1;32m-> 5575\u001b[1;33m         \u001b[1;32mreturn\u001b[0m \u001b[0mobject\u001b[0m\u001b[1;33m.\u001b[0m\u001b[0m__getattribute__\u001b[0m\u001b[1;33m(\u001b[0m\u001b[0mself\u001b[0m\u001b[1;33m,\u001b[0m \u001b[0mname\u001b[0m\u001b[1;33m)\u001b[0m\u001b[1;33m\u001b[0m\u001b[1;33m\u001b[0m\u001b[0m\n\u001b[0m\u001b[0;32m   5576\u001b[0m \u001b[1;33m\u001b[0m\u001b[0m\n\u001b[0;32m   5577\u001b[0m     \u001b[1;32mdef\u001b[0m \u001b[0m__setattr__\u001b[0m\u001b[1;33m(\u001b[0m\u001b[0mself\u001b[0m\u001b[1;33m,\u001b[0m \u001b[0mname\u001b[0m\u001b[1;33m:\u001b[0m \u001b[0mstr\u001b[0m\u001b[1;33m,\u001b[0m \u001b[0mvalue\u001b[0m\u001b[1;33m)\u001b[0m \u001b[1;33m->\u001b[0m \u001b[1;32mNone\u001b[0m\u001b[1;33m:\u001b[0m\u001b[1;33m\u001b[0m\u001b[1;33m\u001b[0m\u001b[0m\n",
      "\u001b[1;31mAttributeError\u001b[0m: 'DataFrame' object has no attribute 'cold'"
     ]
    }
   ],
   "source": [
    "recomms_df.cold.value_counts()"
   ]
  },
  {
   "cell_type": "markdown",
   "metadata": {
    "id": "IjrOnQymbY-d"
   },
   "source": [
    "Ahora tenemos que comparar nuestras recomms contra lo que los usuarios realmente vieron (test)."
   ]
  },
  {
   "cell_type": "markdown",
   "metadata": {
    "id": "T6abumWRbibe"
   },
   "source": [
    "Primero ordenamos libros según los ratings (mayor a menor) que dieron los usuarios en el set de test.\n",
    "\n",
    "Luego, agrupamos y armamos un listado de libros para cada usuario.\n",
    "\n",
    "Este es el listado \"ideal\" contra el que vamos a comparar nuestras recomendaciones."
   ]
  },
  {
   "cell_type": "code",
   "execution_count": null,
   "metadata": {
    "id": "3AK5plUrbYTx"
   },
   "outputs": [],
   "source": [
    "ideal_recomms = test[interactions_test.is_read]\\\n",
    "                  .sort_values(by=[\"account_id\", \"rating\"], ascending=False)\\\n",
    "                  .groupby([\"user_id\"], as_index=False)\\\n",
    "                  .agg({\"book_id\": \"unique\"})\\\n",
    "                  .head()\n",
    "ideal_recomms.head()"
   ]
  },
  {
   "cell_type": "code",
   "execution_count": 88,
   "metadata": {},
   "outputs": [
    {
     "data": {
      "text/html": [
       "<div>\n",
       "<style scoped>\n",
       "    .dataframe tbody tr th:only-of-type {\n",
       "        vertical-align: middle;\n",
       "    }\n",
       "\n",
       "    .dataframe tbody tr th {\n",
       "        vertical-align: top;\n",
       "    }\n",
       "\n",
       "    .dataframe thead th {\n",
       "        text-align: right;\n",
       "    }\n",
       "</style>\n",
       "<table border=\"1\" class=\"dataframe\">\n",
       "  <thead>\n",
       "    <tr style=\"text-align: right;\">\n",
       "      <th></th>\n",
       "      <th>account_id</th>\n",
       "      <th>content_id</th>\n",
       "    </tr>\n",
       "  </thead>\n",
       "  <tbody>\n",
       "    <tr>\n",
       "      <th>0</th>\n",
       "      <td>2</td>\n",
       "      <td>[433.0]</td>\n",
       "    </tr>\n",
       "    <tr>\n",
       "      <th>1</th>\n",
       "      <td>3</td>\n",
       "      <td>[1949.0, 2409.0, 4010.0, 3169.0, 3487.0, 3980....</td>\n",
       "    </tr>\n",
       "    <tr>\n",
       "      <th>2</th>\n",
       "      <td>4</td>\n",
       "      <td>[513.0, 2212.0, 565.0, 2314.0, 728.0, 4129.0, ...</td>\n",
       "    </tr>\n",
       "    <tr>\n",
       "      <th>3</th>\n",
       "      <td>5</td>\n",
       "      <td>[2259.0]</td>\n",
       "    </tr>\n",
       "    <tr>\n",
       "      <th>4</th>\n",
       "      <td>6</td>\n",
       "      <td>[3211.0, 2900.0, 4065.0, 3902.0, 3386.0, 3388.0]</td>\n",
       "    </tr>\n",
       "  </tbody>\n",
       "</table>\n",
       "</div>"
      ],
      "text/plain": [
       "   account_id                                         content_id\n",
       "0           2                                            [433.0]\n",
       "1           3  [1949.0, 2409.0, 4010.0, 3169.0, 3487.0, 3980....\n",
       "2           4  [513.0, 2212.0, 565.0, 2314.0, 728.0, 4129.0, ...\n",
       "3           5                                           [2259.0]\n",
       "4           6   [3211.0, 2900.0, 4065.0, 3902.0, 3386.0, 3388.0]"
      ]
     },
     "execution_count": 88,
     "metadata": {},
     "output_type": "execute_result"
    }
   ],
   "source": [
    "ideal_recomms = test\\\n",
    "                  .sort_values(by=[\"account_id\", \"rating\"], ascending=False)\\\n",
    "                  .groupby([\"account_id\"], as_index=False)\\\n",
    "                  .agg({\"content_id\": \"unique\"})\\\n",
    "                  .head()\n",
    "ideal_recomms.head()"
   ]
  },
  {
   "cell_type": "markdown",
   "metadata": {
    "id": "UXKuPItNbuMu"
   },
   "source": [
    "# Métricas"
   ]
  },
  {
   "cell_type": "code",
   "execution_count": 89,
   "metadata": {
    "id": "MsRCpOr0bw45"
   },
   "outputs": [
    {
     "data": {
      "text/html": [
       "<div>\n",
       "<style scoped>\n",
       "    .dataframe tbody tr th:only-of-type {\n",
       "        vertical-align: middle;\n",
       "    }\n",
       "\n",
       "    .dataframe tbody tr th {\n",
       "        vertical-align: top;\n",
       "    }\n",
       "\n",
       "    .dataframe thead th {\n",
       "        text-align: right;\n",
       "    }\n",
       "</style>\n",
       "<table border=\"1\" class=\"dataframe\">\n",
       "  <thead>\n",
       "    <tr style=\"text-align: right;\">\n",
       "      <th></th>\n",
       "      <th>user_id</th>\n",
       "      <th>ideal</th>\n",
       "      <th>recomms</th>\n",
       "    </tr>\n",
       "  </thead>\n",
       "  <tbody>\n",
       "    <tr>\n",
       "      <th>0</th>\n",
       "      <td>2</td>\n",
       "      <td>[433.0]</td>\n",
       "      <td>[2040.0, 3900.0, 3806.0, 2160.0, 1316.0, 116.0...</td>\n",
       "    </tr>\n",
       "    <tr>\n",
       "      <th>1</th>\n",
       "      <td>3</td>\n",
       "      <td>[1949.0, 2409.0, 4010.0, 3169.0, 3487.0, 3980....</td>\n",
       "      <td>[2040.0, 3900.0, 3806.0, 2160.0, 1316.0, 2627....</td>\n",
       "    </tr>\n",
       "    <tr>\n",
       "      <th>2</th>\n",
       "      <td>4</td>\n",
       "      <td>[513.0, 2212.0, 565.0, 2314.0, 728.0, 4129.0, ...</td>\n",
       "      <td>[2040.0, 3900.0, 3806.0, 2160.0, 1316.0, 116.0...</td>\n",
       "    </tr>\n",
       "    <tr>\n",
       "      <th>3</th>\n",
       "      <td>5</td>\n",
       "      <td>[2259.0]</td>\n",
       "      <td>[2040.0, 3900.0, 3806.0, 2160.0, 1316.0, 116.0...</td>\n",
       "    </tr>\n",
       "    <tr>\n",
       "      <th>4</th>\n",
       "      <td>6</td>\n",
       "      <td>[3211.0, 2900.0, 4065.0, 3902.0, 3386.0, 3388.0]</td>\n",
       "      <td>[2040.0, 3900.0, 3806.0, 2160.0, 1316.0, 116.0...</td>\n",
       "    </tr>\n",
       "  </tbody>\n",
       "</table>\n",
       "</div>"
      ],
      "text/plain": [
       "   user_id                                              ideal  \\\n",
       "0        2                                            [433.0]   \n",
       "1        3  [1949.0, 2409.0, 4010.0, 3169.0, 3487.0, 3980....   \n",
       "2        4  [513.0, 2212.0, 565.0, 2314.0, 728.0, 4129.0, ...   \n",
       "3        5                                           [2259.0]   \n",
       "4        6   [3211.0, 2900.0, 4065.0, 3902.0, 3386.0, 3388.0]   \n",
       "\n",
       "                                             recomms  \n",
       "0  [2040.0, 3900.0, 3806.0, 2160.0, 1316.0, 116.0...  \n",
       "1  [2040.0, 3900.0, 3806.0, 2160.0, 1316.0, 2627....  \n",
       "2  [2040.0, 3900.0, 3806.0, 2160.0, 1316.0, 116.0...  \n",
       "3  [2040.0, 3900.0, 3806.0, 2160.0, 1316.0, 116.0...  \n",
       "4  [2040.0, 3900.0, 3806.0, 2160.0, 1316.0, 116.0...  "
      ]
     },
     "execution_count": 89,
     "metadata": {},
     "output_type": "execute_result"
    }
   ],
   "source": [
    "df_map = ideal_recomms.merge(recomms_df, how=\"left\", left_on=\"account_id\", right_on=\"user_id\")[[\"account_id\", \"content_id\", \"recomms\"]]\n",
    "df_map.columns = [\"user_id\", \"ideal\", \"recomms\"]\n",
    "df_map.head()"
   ]
  },
  {
   "cell_type": "code",
   "execution_count": 90,
   "metadata": {
    "id": "dpLv5o93b2UY"
   },
   "outputs": [],
   "source": [
    "aps = [] # lista vacía para ir almacenando la AP de cada recomendación\n",
    "\n",
    "for pred, label in df_map[[\"ideal\", \"recomms\"]].values:\n",
    "  n = len(pred) # cantidad de elementos recomendados\n",
    "  arange = np.arange(n, dtype=np.int32) + 1. # indexamos en base 1 \n",
    "  rel_k = np.in1d(pred[:n], label) # lista de booleanos que indican la relevancia de cada ítem\n",
    "  tp = np.ones(rel_k.sum(), dtype=np.int32).cumsum() # lista con el contador de verdaderos positivos\n",
    "  denom = arange[rel_k] # posiciones donde se encuentran los ítems relantes\n",
    "  ap = (tp / denom).sum() / len(label) # average precision\n",
    "  aps.append(ap)"
   ]
  },
  {
   "cell_type": "code",
   "execution_count": 91,
   "metadata": {
    "id": "y1Lh1HwMb5Wv"
   },
   "outputs": [
    {
     "name": "stdout",
     "output_type": "stream",
     "text": [
      "mean average precision = 0.0\n"
     ]
    }
   ],
   "source": [
    "MAP = np.mean(aps)\n",
    "print(f'mean average precision = {round(MAP, 5)}')"
   ]
  }
 ],
 "metadata": {
  "colab": {
   "provenance": []
  },
  "kernelspec": {
   "display_name": "Python 3 (ipykernel)",
   "language": "python",
   "name": "python3"
  },
  "language_info": {
   "codemirror_mode": {
    "name": "ipython",
    "version": 3
   },
   "file_extension": ".py",
   "mimetype": "text/x-python",
   "name": "python",
   "nbconvert_exporter": "python",
   "pygments_lexer": "ipython3",
   "version": "3.9.13"
  },
  "vscode": {
   "interpreter": {
    "hash": "892d461b55a6ce994a56bafd67ae2f3489d9f23234c096cfb51dfe498c166e4b"
   }
  }
 },
 "nbformat": 4,
 "nbformat_minor": 1
}
