{
 "cells": [
  {
   "cell_type": "markdown",
   "metadata": {
    "id": "DYKTxvoMT5KO"
   },
   "source": [
    "# 3er entrega - Sistemas de recomendación\n",
    "\n",
    "En esta entrega vamos a trabajar con un sistema de recomendación.\n",
    "\n",
    "Vamos a aprovechar la competencia de Telecom que vimos ya que los datos son reales y están buenos para practicar.\n",
    "\n",
    "En el siguiente repositorio pueden encontrar el significado de cada columna de los datasets:\n",
    "https://github.com/Datathon2021/Recomendador\n",
    "\n",
    "Consigna:\n",
    "\n",
    "- Dividir set en train y test. Tomar como train los datos hasta el 1 de marzo de 2021. Desde el 1ro de marzo en adelante, reservar para test.\n",
    "- Desarrollar un recomendador. El recomendador debe ser capaz de generar recomendaciones para TODOS los usuarios (incluyendo los cold start que no tengan visualizaciones en el set de train). Generar 20 recomendaciones por usuario.\n",
    "- Las recomendaciones tienen que ser para cada account_id y hay que recomendar content_id (NO asset_id). Pueden encontrar esto en el repositorio de la competencia.\n",
    "- Los contenidos que recomienden, no tienen que haber sido vistos previamente por los usuarios (filtrar).\n",
    "- Evaluarlo con MAP.\n",
    "\n",
    "Recomendaciones:\n",
    "- En este caso no tenemos ratings explícitos como los casos que vimos, deben generar ustedes estos ratings mediante algún criterio. Lo más simple podría ser utilizar ratings binarios (lo vió / no lo vió).\n",
    "- Hay una columna que nos indica hasta cuando va a estar disponible el contenido\n",
    "- La columna **end_vod_date**: \"fecha de finalización de la disponibilidad del activo en la plataforma\" puede llegar a serles muy útil. ¿Tiene sentido recomendar algo que no va a estar disponible en el set de test? (a partir del 1 de marzo de 2021).\n",
    "- Comiencen con algo SIMPLE. No se compliquen con todas las columnas que tiene el dataset. No van a necesitar usar todas, muchas columnas podrán descartarlas dependiendo del enfoque que tomen.\n",
    "\n",
    "Datos:\n",
    "- https://drive.google.com/file/d/1QjbqJvU0PTClEhReOyzr96BS-HpyyUKT/view?usp=sharing\n",
    "- https://drive.google.com/file/d/1ih6SZc44w8FXdFKQJ2l-aqEWFpfceGuN/view?usp=sharing\n",
    "\n",
    "Fecha de entrega: **30 de Enero de 2023**.\n",
    "\n",
    "Subir a un repositorio de github (público) y enviar el link a alexispacek@gmail.com. De paso les sirve para ir armando su perfil de github con algunos proyectos 😉.\n",
    "\n"
   ]
  },
  {
   "cell_type": "code",
   "execution_count": 93,
   "metadata": {},
   "outputs": [],
   "source": [
    "from jupyterthemes import jtplot\n",
    "jtplot.style(theme='onedork')"
   ]
  },
  {
   "cell_type": "code",
   "execution_count": 1,
   "metadata": {
    "id": "S4QRRCIKjItc",
    "scrolled": true
   },
   "outputs": [
    {
     "name": "stderr",
     "output_type": "stream",
     "text": [
      "C:\\Users\\Asus\\anaconda3-2022\\lib\\site-packages\\lightfm\\_lightfm_fast.py:9: UserWarning: LightFM was compiled without OpenMP support. Only a single thread will be used.\n",
      "  warnings.warn(\n"
     ]
    }
   ],
   "source": [
    "# Los de siempre\n",
    "import pandas as pd\n",
    "import numpy as np\n",
    "import seaborn as sns\n",
    "import matplotlib.pyplot as plt\n",
    "\n",
    "# datetime\n",
    "from datetime import datetime\n",
    "\n",
    "# matrices\n",
    "from scipy.sparse import csr_matrix\n",
    "\n",
    "# models\n",
    "from lightfm import LightFM\n",
    "from tqdm import tqdm"
   ]
  },
  {
   "cell_type": "markdown",
   "metadata": {
    "id": "zhwGN84Xnt57"
   },
   "source": [
    "# Exploratory Data Analysis (EDA)"
   ]
  },
  {
   "cell_type": "code",
   "execution_count": null,
   "metadata": {
    "colab": {
     "base_uri": "https://localhost:8080/"
    },
    "id": "XIYjmxZumyrZ",
    "outputId": "9ff60801-44d7-418c-82ae-157012585bc4"
   },
   "outputs": [
    {
     "name": "stdout",
     "output_type": "stream",
     "text": [
      "Drive already mounted at /content/drive; to attempt to forcibly remount, call drive.mount(\"/content/drive\", force_remount=True).\n"
     ]
    }
   ],
   "source": [
    "from google.colab import drive\n",
    "drive.mount('/content/drive')"
   ]
  },
  {
   "cell_type": "markdown",
   "metadata": {},
   "source": [
    "Si hay problemas con la instalación de lightfm, abrir consola de conda y ejecutar lo siguiente:"
   ]
  },
  {
   "cell_type": "code",
   "execution_count": null,
   "metadata": {},
   "outputs": [],
   "source": [
    "conda install -c conda-forge lightfm"
   ]
  },
  {
   "cell_type": "markdown",
   "metadata": {},
   "source": [
    "Seteamos max_coldwidth"
   ]
  },
  {
   "cell_type": "code",
   "execution_count": null,
   "metadata": {
    "id": "WaVlMUhxjt19"
   },
   "outputs": [],
   "source": [
    "pd.options.display.max_colwidth = 10000"
   ]
  },
  {
   "cell_type": "markdown",
   "metadata": {},
   "source": [
    "Leemos train.csv y metadatos.csv"
   ]
  },
  {
   "cell_type": "code",
   "execution_count": 2,
   "metadata": {
    "colab": {
     "base_uri": "https://localhost:8080/",
     "height": 206
    },
    "id": "hDmzt8CIpn9x",
    "outputId": "38cc8576-46a0-4fac-f2c8-d283822c0b31",
    "scrolled": true
   },
   "outputs": [
    {
     "data": {
      "text/html": [
       "<div>\n",
       "<style scoped>\n",
       "    .dataframe tbody tr th:only-of-type {\n",
       "        vertical-align: middle;\n",
       "    }\n",
       "\n",
       "    .dataframe tbody tr th {\n",
       "        vertical-align: top;\n",
       "    }\n",
       "\n",
       "    .dataframe thead th {\n",
       "        text-align: right;\n",
       "    }\n",
       "</style>\n",
       "<table border=\"1\" class=\"dataframe\">\n",
       "  <thead>\n",
       "    <tr style=\"text-align: right;\">\n",
       "      <th></th>\n",
       "      <th>customer_id</th>\n",
       "      <th>account_id</th>\n",
       "      <th>device_type</th>\n",
       "      <th>asset_id</th>\n",
       "      <th>tunein</th>\n",
       "      <th>tuneout</th>\n",
       "      <th>resume</th>\n",
       "    </tr>\n",
       "  </thead>\n",
       "  <tbody>\n",
       "    <tr>\n",
       "      <th>0</th>\n",
       "      <td>0</td>\n",
       "      <td>90627</td>\n",
       "      <td>STATIONARY</td>\n",
       "      <td>18332.0</td>\n",
       "      <td>2021-02-18 22:52:00.0</td>\n",
       "      <td>2021-02-18 23:35:00.0</td>\n",
       "      <td>0</td>\n",
       "    </tr>\n",
       "  </tbody>\n",
       "</table>\n",
       "</div>"
      ],
      "text/plain": [
       "   customer_id  account_id device_type  asset_id                 tunein  \\\n",
       "0            0       90627  STATIONARY   18332.0  2021-02-18 22:52:00.0   \n",
       "\n",
       "                 tuneout  resume  \n",
       "0  2021-02-18 23:35:00.0       0  "
      ]
     },
     "execution_count": 2,
     "metadata": {},
     "output_type": "execute_result"
    }
   ],
   "source": [
    "# df_train = pd.read_csv('/content/drive/MyDrive/Cursos/Especializacion en Data Science/Sprint 3/train.csv', delimiter=',')\n",
    "df_train = pd.read_csv('c:/Users/Asus/Downloads/Curso Data Science - 2022/Cuarto Trabajo/data/train.csv', delimiter=',')\n",
    "# df_train = pd.read_csv('./train.csv', delimiter=',')\n",
    "df_train.head(1)"
   ]
  },
  {
   "cell_type": "code",
   "execution_count": 3,
   "metadata": {},
   "outputs": [
    {
     "data": {
      "text/html": [
       "<div>\n",
       "<style scoped>\n",
       "    .dataframe tbody tr th:only-of-type {\n",
       "        vertical-align: middle;\n",
       "    }\n",
       "\n",
       "    .dataframe tbody tr th {\n",
       "        vertical-align: top;\n",
       "    }\n",
       "\n",
       "    .dataframe thead th {\n",
       "        text-align: right;\n",
       "    }\n",
       "</style>\n",
       "<table border=\"1\" class=\"dataframe\">\n",
       "  <thead>\n",
       "    <tr style=\"text-align: right;\">\n",
       "      <th></th>\n",
       "      <th>asset_id</th>\n",
       "      <th>content_id</th>\n",
       "      <th>title</th>\n",
       "      <th>reduced_title</th>\n",
       "      <th>episode_title</th>\n",
       "      <th>show_type</th>\n",
       "      <th>released_year</th>\n",
       "      <th>country_of_origin</th>\n",
       "      <th>category</th>\n",
       "      <th>keywords</th>\n",
       "      <th>...</th>\n",
       "      <th>language_rating</th>\n",
       "      <th>dialog_rating</th>\n",
       "      <th>fv_rating</th>\n",
       "      <th>pay_per_view</th>\n",
       "      <th>pack_premium_1</th>\n",
       "      <th>pack_premium_2</th>\n",
       "      <th>create_date</th>\n",
       "      <th>modify_date</th>\n",
       "      <th>start_vod_date</th>\n",
       "      <th>end_vod_date</th>\n",
       "    </tr>\n",
       "  </thead>\n",
       "  <tbody>\n",
       "    <tr>\n",
       "      <th>0</th>\n",
       "      <td>15188</td>\n",
       "      <td>0.0</td>\n",
       "      <td>Ep:17 Tiempos Compulsivos</td>\n",
       "      <td>Tiempos_Compul_E17</td>\n",
       "      <td>Episodio 17</td>\n",
       "      <td>Serie</td>\n",
       "      <td>2012.0</td>\n",
       "      <td>AR</td>\n",
       "      <td>Drama</td>\n",
       "      <td>Trastornos,Médicos,Tragicómica,Telenovela,Enfe...</td>\n",
       "      <td>...</td>\n",
       "      <td>N</td>\n",
       "      <td>N</td>\n",
       "      <td>N</td>\n",
       "      <td>N</td>\n",
       "      <td>N</td>\n",
       "      <td>N</td>\n",
       "      <td>2017-12-01T10:18:15.0Z</td>\n",
       "      <td>2019-01-26T06:37:18.0Z</td>\n",
       "      <td>2017-12-01T00:00:00.0Z</td>\n",
       "      <td>2020-12-01T23:59:59.0Z</td>\n",
       "    </tr>\n",
       "  </tbody>\n",
       "</table>\n",
       "<p>1 rows × 30 columns</p>\n",
       "</div>"
      ],
      "text/plain": [
       "   asset_id  content_id                      title       reduced_title  \\\n",
       "0     15188         0.0  Ep:17 Tiempos Compulsivos  Tiempos_Compul_E17   \n",
       "\n",
       "  episode_title show_type  released_year country_of_origin category  \\\n",
       "0   Episodio 17     Serie         2012.0                AR    Drama   \n",
       "\n",
       "                                            keywords  ... language_rating  \\\n",
       "0  Trastornos,Médicos,Tragicómica,Telenovela,Enfe...  ...               N   \n",
       "\n",
       "  dialog_rating fv_rating pay_per_view  pack_premium_1 pack_premium_2  \\\n",
       "0             N         N            N               N              N   \n",
       "\n",
       "              create_date             modify_date          start_vod_date  \\\n",
       "0  2017-12-01T10:18:15.0Z  2019-01-26T06:37:18.0Z  2017-12-01T00:00:00.0Z   \n",
       "\n",
       "             end_vod_date  \n",
       "0  2020-12-01T23:59:59.0Z  \n",
       "\n",
       "[1 rows x 30 columns]"
      ]
     },
     "execution_count": 3,
     "metadata": {},
     "output_type": "execute_result"
    }
   ],
   "source": [
    "# df_metadatos = pd.read_csv('/content/drive/MyDrive/Cursos/Especializacion en Data Science/Sprint 3/metadata.csv', delimiter=';')\n",
    "df_metadatos = pd.read_csv('c:/Users/Asus/Downloads/Curso Data Science - 2022/Cuarto Trabajo/data/metadata.csv', delimiter=';')\n",
    "# df_metadatos = pd.read_csv('./metadata.csv', delimiter=';')\n",
    "df_metadatos.head(1)"
   ]
  },
  {
   "cell_type": "code",
   "execution_count": 5,
   "metadata": {
    "scrolled": true
   },
   "outputs": [
    {
     "name": "stdout",
     "output_type": "stream",
     "text": [
      "train.csv\n",
      "Cantidad de Filas: 3657801\n",
      "Cantidad de Columnas: 7\n",
      "Cantidad de perfiles: 113881\n"
     ]
    }
   ],
   "source": [
    "filas, columnas = df_train.shape\n",
    "print(\"train.csv\")\n",
    "print(f\"Cantidad de Filas: {filas}\")\n",
    "print(f\"Cantidad de Columnas: {columnas}\")\n",
    "print(f\"Cantidad de perfiles: {df_train.account_id.nunique()}\")"
   ]
  },
  {
   "cell_type": "code",
   "execution_count": 19,
   "metadata": {
    "scrolled": true
   },
   "outputs": [
    {
     "name": "stdout",
     "output_type": "stream",
     "text": [
      "<class 'pandas.core.frame.DataFrame'>\n",
      "RangeIndex: 3657801 entries, 0 to 3657800\n",
      "Data columns (total 7 columns):\n",
      " #   Column       Dtype  \n",
      "---  ------       -----  \n",
      " 0   customer_id  int64  \n",
      " 1   account_id   int64  \n",
      " 2   device_type  object \n",
      " 3   asset_id     float64\n",
      " 4   tunein       object \n",
      " 5   tuneout      object \n",
      " 6   resume       int64  \n",
      "dtypes: float64(1), int64(3), object(3)\n",
      "memory usage: 195.3+ MB\n",
      "None\n"
     ]
    }
   ],
   "source": [
    "# Info de columnas\n",
    "df_train.info()"
   ]
  },
  {
   "cell_type": "code",
   "execution_count": 25,
   "metadata": {},
   "outputs": [
    {
     "name": "stdout",
     "output_type": "stream",
     "text": [
      "nulos en train.csv\n"
     ]
    },
    {
     "data": {
      "text/plain": [
       "customer_id     0\n",
       "account_id      0\n",
       "device_type    29\n",
       "asset_id       22\n",
       "tunein          0\n",
       "tuneout         0\n",
       "resume          0\n",
       "dtype: int64"
      ]
     },
     "execution_count": 25,
     "metadata": {},
     "output_type": "execute_result"
    }
   ],
   "source": [
    "# Hay nulos?\n",
    "print(\"nulos en train.csv\")\n",
    "df_train.isna().sum()"
   ]
  },
  {
   "cell_type": "code",
   "execution_count": 28,
   "metadata": {
    "colab": {
     "base_uri": "https://localhost:8080/"
    },
    "id": "ssLVGWi_3NtF",
    "outputId": "760e2d51-26b2-490c-de4f-f3c2e362f918"
   },
   "outputs": [
    {
     "name": "stdout",
     "output_type": "stream",
     "text": [
      "metadatos.csv\n",
      "Cantidad de Filas: 33144\n",
      "Cantidad de Columnas: 30\n",
      "Cantidad de Videos: 33144\n"
     ]
    }
   ],
   "source": [
    "filas, columnas = df_metadatos.shape\n",
    "print(\"metadatos.csv\")\n",
    "print(f\"Cantidad de Filas: {filas}\")\n",
    "print(f\"Cantidad de Columnas: {columnas}\")\n",
    "print(f\"Cantidad de Videos: {df_metadatos.asset_id.nunique()}\")"
   ]
  },
  {
   "cell_type": "code",
   "execution_count": 14,
   "metadata": {
    "id": "tMb4ygBsn7HF"
   },
   "outputs": [
    {
     "name": "stdout",
     "output_type": "stream",
     "text": [
      "<class 'pandas.core.frame.DataFrame'>\n",
      "RangeIndex: 33144 entries, 0 to 33143\n",
      "Data columns (total 30 columns):\n",
      " #   Column              Non-Null Count  Dtype  \n",
      "---  ------              --------------  -----  \n",
      " 0   asset_id            33144 non-null  int64  \n",
      " 1   content_id          33123 non-null  float64\n",
      " 2   title               33144 non-null  object \n",
      " 3   reduced_title       33144 non-null  object \n",
      " 4   episode_title       28997 non-null  object \n",
      " 5   show_type           33140 non-null  object \n",
      " 6   released_year       33144 non-null  float64\n",
      " 7   country_of_origin   33140 non-null  object \n",
      " 8   category            33144 non-null  object \n",
      " 9   keywords            33142 non-null  object \n",
      " 10  description         33142 non-null  object \n",
      " 11  reduced_desc        33144 non-null  object \n",
      " 12  cast_first_name     24412 non-null  object \n",
      " 13  credits_first_name  20590 non-null  object \n",
      " 14  run_time_min        33144 non-null  float64\n",
      " 15  audience            33143 non-null  object \n",
      " 16  made_for_tv         33144 non-null  object \n",
      " 17  close_caption       33144 non-null  object \n",
      " 18  sex_rating          33144 non-null  object \n",
      " 19  violence_rating     33144 non-null  object \n",
      " 20  language_rating     33144 non-null  object \n",
      " 21  dialog_rating       33144 non-null  object \n",
      " 22  fv_rating           33144 non-null  object \n",
      " 23  pay_per_view        33144 non-null  object \n",
      " 24  pack_premium_1      33144 non-null  object \n",
      " 25  pack_premium_2      33144 non-null  object \n",
      " 26  create_date         33144 non-null  object \n",
      " 27  modify_date         33144 non-null  object \n",
      " 28  start_vod_date      33144 non-null  object \n",
      " 29  end_vod_date        33144 non-null  object \n",
      "dtypes: float64(3), int64(1), object(26)\n",
      "memory usage: 7.6+ MB\n"
     ]
    }
   ],
   "source": [
    "# Info de las columnas\n",
    "df_metadatos.info()"
   ]
  },
  {
   "cell_type": "code",
   "execution_count": 29,
   "metadata": {
    "colab": {
     "base_uri": "https://localhost:8080/"
    },
    "id": "63QYY01E3emf",
    "outputId": "ae36a171-fbed-4a9a-98fc-ba0570d629a1",
    "scrolled": false
   },
   "outputs": [
    {
     "name": "stdout",
     "output_type": "stream",
     "text": [
      "nulos en metadatos.csv\n"
     ]
    },
    {
     "data": {
      "text/plain": [
       "asset_id                  0\n",
       "content_id               21\n",
       "title                     0\n",
       "reduced_title             0\n",
       "episode_title          4147\n",
       "show_type                 4\n",
       "released_year             0\n",
       "country_of_origin         4\n",
       "category                  0\n",
       "keywords                  2\n",
       "description               2\n",
       "reduced_desc              0\n",
       "cast_first_name        8732\n",
       "credits_first_name    12554\n",
       "run_time_min              0\n",
       "audience                  1\n",
       "made_for_tv               0\n",
       "close_caption             0\n",
       "sex_rating                0\n",
       "violence_rating           0\n",
       "language_rating           0\n",
       "dialog_rating             0\n",
       "fv_rating                 0\n",
       "pay_per_view              0\n",
       "pack_premium_1            0\n",
       "pack_premium_2            0\n",
       "create_date               0\n",
       "modify_date               0\n",
       "start_vod_date            0\n",
       "end_vod_date              0\n",
       "dtype: int64"
      ]
     },
     "execution_count": 29,
     "metadata": {},
     "output_type": "execute_result"
    }
   ],
   "source": [
    "# Hay nulos?\n",
    "print(\"nulos en metadatos.csv\")\n",
    "df_metadatos.isna().sum()"
   ]
  },
  {
   "cell_type": "markdown",
   "metadata": {},
   "source": [
    "Mergeamos los dos dataset por asset_id"
   ]
  },
  {
   "cell_type": "code",
   "execution_count": 4,
   "metadata": {},
   "outputs": [],
   "source": [
    "df = df_train.merge(df_metadatos, how=\"left\", left_on=\"asset_id\", right_on=\"asset_id\")"
   ]
  },
  {
   "cell_type": "code",
   "execution_count": 31,
   "metadata": {
    "scrolled": false
   },
   "outputs": [
    {
     "name": "stdout",
     "output_type": "stream",
     "text": [
      "- dataset mergeado -\n",
      "Cantidad de Filas: 3657801\n",
      "Cantidad de Columnas: 36\n"
     ]
    }
   ],
   "source": [
    "filas, columnas = df.shape\n",
    "print(\"- dataset mergeado -\")\n",
    "print(f\"Cantidad de Filas: {filas}\")\n",
    "print(f\"Cantidad de Columnas: {columnas}\")"
   ]
  },
  {
   "cell_type": "markdown",
   "metadata": {},
   "source": [
    "Nos quedamos solo con los features que utilizaremos"
   ]
  },
  {
   "cell_type": "code",
   "execution_count": 5,
   "metadata": {},
   "outputs": [],
   "source": [
    "df = df[[ \n",
    "        # df_train\n",
    "        'customer_id', 'account_id', 'device_type', 'asset_id', 'tunein', 'tuneout', 'resume', \n",
    "        # df_metadatos\n",
    "        'content_id', 'title', 'show_type', 'country_of_origin', 'category', 'run_time_min', 'end_vod_date'\n",
    "        ]]"
   ]
  },
  {
   "cell_type": "code",
   "execution_count": 45,
   "metadata": {},
   "outputs": [
    {
     "name": "stdout",
     "output_type": "stream",
     "text": [
      "- dataset mergeado -\n",
      "Cantidad de Filas: 3657801\n",
      "Cantidad de Columnas: 14\n"
     ]
    }
   ],
   "source": [
    "filas, columnas = df.shape\n",
    "print(\"- dataset mergeado -\")\n",
    "print(f\"Cantidad de Filas: {filas}\")\n",
    "print(f\"Cantidad de Columnas: {columnas}\")"
   ]
  },
  {
   "cell_type": "markdown",
   "metadata": {},
   "source": [
    "info y nulos del dataset"
   ]
  },
  {
   "cell_type": "code",
   "execution_count": 44,
   "metadata": {
    "scrolled": true
   },
   "outputs": [
    {
     "name": "stdout",
     "output_type": "stream",
     "text": [
      "<class 'pandas.core.frame.DataFrame'>\n",
      "Int64Index: 3657801 entries, 0 to 3657800\n",
      "Data columns (total 14 columns):\n",
      " #   Column             Dtype  \n",
      "---  ------             -----  \n",
      " 0   customer_id        int64  \n",
      " 1   account_id         int64  \n",
      " 2   device_type        object \n",
      " 3   asset_id           float64\n",
      " 4   tunein             object \n",
      " 5   tuneout            object \n",
      " 6   resume             int64  \n",
      " 7   content_id         float64\n",
      " 8   title              object \n",
      " 9   show_type          object \n",
      " 10  country_of_origin  object \n",
      " 11  category           object \n",
      " 12  run_time_min       float64\n",
      " 13  end_vod_date       object \n",
      "dtypes: float64(3), int64(3), object(8)\n",
      "memory usage: 418.6+ MB\n"
     ]
    }
   ],
   "source": [
    "# Info de las columnas\n",
    "df.info()"
   ]
  },
  {
   "cell_type": "code",
   "execution_count": 46,
   "metadata": {
    "scrolled": false
   },
   "outputs": [
    {
     "data": {
      "text/plain": [
       "customer_id            0\n",
       "account_id             0\n",
       "device_type           29\n",
       "asset_id              22\n",
       "tunein                 0\n",
       "tuneout                0\n",
       "resume                 0\n",
       "content_id           142\n",
       "title                 22\n",
       "show_type             35\n",
       "country_of_origin     40\n",
       "category              22\n",
       "run_time_min          22\n",
       "end_vod_date          22\n",
       "dtype: int64"
      ]
     },
     "execution_count": 46,
     "metadata": {},
     "output_type": "execute_result"
    }
   ],
   "source": [
    "# Hay nulos?\n",
    "df.isna().sum()"
   ]
  },
  {
   "cell_type": "code",
   "execution_count": 48,
   "metadata": {
    "scrolled": true
   },
   "outputs": [
    {
     "data": {
      "text/plain": [
       "customer_id          0.000000\n",
       "account_id           0.000000\n",
       "device_type          0.000793\n",
       "asset_id             0.000601\n",
       "tunein               0.000000\n",
       "tuneout              0.000000\n",
       "resume               0.000000\n",
       "content_id           0.003882\n",
       "title                0.000601\n",
       "show_type            0.000957\n",
       "country_of_origin    0.001094\n",
       "category             0.000601\n",
       "run_time_min         0.000601\n",
       "end_vod_date         0.000601\n",
       "dtype: float64"
      ]
     },
     "execution_count": 48,
     "metadata": {},
     "output_type": "execute_result"
    }
   ],
   "source": [
    "# Porcentaje de nulos\n",
    "df.isna().mean()*100"
   ]
  },
  {
   "cell_type": "markdown",
   "metadata": {},
   "source": [
    "Decidimos eliminar los nulos porque son muy pocos registros"
   ]
  },
  {
   "cell_type": "code",
   "execution_count": 6,
   "metadata": {
    "scrolled": true
   },
   "outputs": [
    {
     "name": "stdout",
     "output_type": "stream",
     "text": [
      "Antes: 3657801\n",
      "Ahora: 3657599\n"
     ]
    }
   ],
   "source": [
    "print(f\"Antes: {df.shape[0]}\")\n",
    "df = df.dropna()\n",
    "print(f\"Ahora: {df.shape[0]}\")"
   ]
  },
  {
   "cell_type": "markdown",
   "metadata": {},
   "source": [
    "Eliminamos duplicados si es que existen"
   ]
  },
  {
   "cell_type": "code",
   "execution_count": 7,
   "metadata": {},
   "outputs": [
    {
     "name": "stdout",
     "output_type": "stream",
     "text": [
      "Antes: 3657599\n",
      "Ahora: 3657561\n"
     ]
    }
   ],
   "source": [
    "print(f\"Antes: {df.shape[0]}\")\n",
    "df = df.drop_duplicates(keep='first')\n",
    "print(f\"Ahora: {df.shape[0]}\")"
   ]
  },
  {
   "cell_type": "markdown",
   "metadata": {
    "id": "1SP7ajmUN7C6"
   },
   "source": [
    "Convertimos 'tunein' a YYYYmmDD, ya que lo utilizaremos para hacer el split para train y test"
   ]
  },
  {
   "cell_type": "code",
   "execution_count": 8,
   "metadata": {
    "colab": {
     "base_uri": "https://localhost:8080/",
     "height": 206
    },
    "id": "rbHhgvbYpUbQ",
    "outputId": "073fc2f2-5fbb-4497-defc-a872bc5ab053"
   },
   "outputs": [
    {
     "name": "stdout",
     "output_type": "stream",
     "text": [
      "Wall time: 34.3 s\n"
     ]
    },
    {
     "data": {
      "text/html": [
       "<div>\n",
       "<style scoped>\n",
       "    .dataframe tbody tr th:only-of-type {\n",
       "        vertical-align: middle;\n",
       "    }\n",
       "\n",
       "    .dataframe tbody tr th {\n",
       "        vertical-align: top;\n",
       "    }\n",
       "\n",
       "    .dataframe thead th {\n",
       "        text-align: right;\n",
       "    }\n",
       "</style>\n",
       "<table border=\"1\" class=\"dataframe\">\n",
       "  <thead>\n",
       "    <tr style=\"text-align: right;\">\n",
       "      <th></th>\n",
       "      <th>tunein</th>\n",
       "      <th>timestamp</th>\n",
       "    </tr>\n",
       "  </thead>\n",
       "  <tbody>\n",
       "    <tr>\n",
       "      <th>0</th>\n",
       "      <td>2021-02-18 22:52:00.0</td>\n",
       "      <td>2021-02-18</td>\n",
       "    </tr>\n",
       "  </tbody>\n",
       "</table>\n",
       "</div>"
      ],
      "text/plain": [
       "                  tunein  timestamp\n",
       "0  2021-02-18 22:52:00.0 2021-02-18"
      ]
     },
     "execution_count": 8,
     "metadata": {},
     "output_type": "execute_result"
    }
   ],
   "source": [
    "%%time\n",
    "df['timestamp'] = pd.to_datetime(df['tunein'], format='%Y/%m/%d')\n",
    "df['timestamp'] = df['timestamp'].dt.strftime('%Y/%m/%d')\n",
    "df['timestamp'] = pd.to_datetime(df['timestamp'], format='%Y/%m/%d')\n",
    "df[['tunein', 'timestamp']].head(1)"
   ]
  },
  {
   "cell_type": "markdown",
   "metadata": {},
   "source": [
    "Calculamos los minutos de visualizacion del contenido por el usuario"
   ]
  },
  {
   "cell_type": "code",
   "execution_count": 9,
   "metadata": {
    "scrolled": false
   },
   "outputs": [
    {
     "name": "stdout",
     "output_type": "stream",
     "text": [
      "Wall time: 6.27 s\n"
     ]
    },
    {
     "data": {
      "text/html": [
       "<div>\n",
       "<style scoped>\n",
       "    .dataframe tbody tr th:only-of-type {\n",
       "        vertical-align: middle;\n",
       "    }\n",
       "\n",
       "    .dataframe tbody tr th {\n",
       "        vertical-align: top;\n",
       "    }\n",
       "\n",
       "    .dataframe thead th {\n",
       "        text-align: right;\n",
       "    }\n",
       "</style>\n",
       "<table border=\"1\" class=\"dataframe\">\n",
       "  <thead>\n",
       "    <tr style=\"text-align: right;\">\n",
       "      <th></th>\n",
       "      <th>from</th>\n",
       "      <th>to</th>\n",
       "      <th>resultado</th>\n",
       "      <th>minutos_vistos</th>\n",
       "    </tr>\n",
       "  </thead>\n",
       "  <tbody>\n",
       "    <tr>\n",
       "      <th>0</th>\n",
       "      <td>2021-02-18 22:52:00</td>\n",
       "      <td>2021-02-18 23:35:00</td>\n",
       "      <td>0 days 00:43:00</td>\n",
       "      <td>43.0</td>\n",
       "    </tr>\n",
       "    <tr>\n",
       "      <th>1</th>\n",
       "      <td>2021-03-24 23:17:00</td>\n",
       "      <td>2021-03-25 00:01:00</td>\n",
       "      <td>0 days 00:44:00</td>\n",
       "      <td>44.0</td>\n",
       "    </tr>\n",
       "  </tbody>\n",
       "</table>\n",
       "</div>"
      ],
      "text/plain": [
       "                 from                  to       resultado  minutos_vistos\n",
       "0 2021-02-18 22:52:00 2021-02-18 23:35:00 0 days 00:43:00            43.0\n",
       "1 2021-03-24 23:17:00 2021-03-25 00:01:00 0 days 00:44:00            44.0"
      ]
     },
     "execution_count": 9,
     "metadata": {},
     "output_type": "execute_result"
    }
   ],
   "source": [
    "%%time\n",
    "df['from'] =  pd.to_datetime(df['tunein'], format='%Y-%m-%d %H:%M:%S.%f')\n",
    "df['to'] =  pd.to_datetime(df['tuneout'], format='%Y-%m-%d %H:%M:%S.%f')\n",
    "df['resultado'] = df['to'] - df['from']\n",
    "df['minutos_vistos'] = df['resultado'].dt.seconds.div(60).astype(float) \n",
    "df[['from','to','resultado','minutos_vistos']].head(2)"
   ]
  },
  {
   "cell_type": "markdown",
   "metadata": {},
   "source": [
    "end_vod_date"
   ]
  },
  {
   "cell_type": "code",
   "execution_count": 10,
   "metadata": {},
   "outputs": [],
   "source": [
    "df['end_vod_date'] = pd.to_datetime(df['end_vod_date'], format='%Y/%m/%d')\n",
    "df[\"end_vod_date\"] = pd.to_datetime(df[\"end_vod_date\"]).dt.date"
   ]
  },
  {
   "cell_type": "markdown",
   "metadata": {
    "id": "0Jud-pi9soK3"
   },
   "source": [
    "Fecha mínima y máxima del dataset"
   ]
  },
  {
   "cell_type": "code",
   "execution_count": 55,
   "metadata": {
    "colab": {
     "base_uri": "https://localhost:8080/"
    },
    "id": "TvP0Yq8cssTe",
    "outputId": "51eabfc2-16c9-4290-d5c2-8e3b84bb55f6"
   },
   "outputs": [
    {
     "data": {
      "text/plain": [
       "Timestamp('2021-01-01 00:00:00')"
      ]
     },
     "execution_count": 55,
     "metadata": {},
     "output_type": "execute_result"
    }
   ],
   "source": [
    "df.timestamp.min()"
   ]
  },
  {
   "cell_type": "code",
   "execution_count": 56,
   "metadata": {
    "colab": {
     "base_uri": "https://localhost:8080/"
    },
    "id": "wpOPSmYAsyYp",
    "outputId": "a62e463b-c5ad-427e-b097-6566c7e2185c",
    "scrolled": false
   },
   "outputs": [
    {
     "data": {
      "text/plain": [
       "Timestamp('2021-03-31 00:00:00')"
      ]
     },
     "execution_count": 56,
     "metadata": {},
     "output_type": "execute_result"
    }
   ],
   "source": [
    "df.timestamp.max()"
   ]
  },
  {
   "cell_type": "markdown",
   "metadata": {},
   "source": [
    "Clientes y Perfiles"
   ]
  },
  {
   "cell_type": "code",
   "execution_count": 91,
   "metadata": {},
   "outputs": [
    {
     "name": "stdout",
     "output_type": "stream",
     "text": [
      "Número de clientes: 112332\n",
      "Número de perfiles: 113873\n"
     ]
    }
   ],
   "source": [
    "print(f'Número de clientes: {df[\"customer_id\"].nunique()}')\n",
    "print(f'Número de perfiles: {df[\"account_id\"].nunique()}')"
   ]
  },
  {
   "cell_type": "code",
   "execution_count": 104,
   "metadata": {},
   "outputs": [
    {
     "name": "stdout",
     "output_type": "stream",
     "text": [
      "(3657561, 2)\n",
      "(113873, 2)\n",
      "customer_id\n",
      "16323     3\n",
      "37871     3\n",
      "55768     3\n",
      "32546     3\n",
      "29641     3\n",
      "         ..\n",
      "37705     1\n",
      "37704     1\n",
      "37703     1\n",
      "37702     1\n",
      "112339    1\n",
      "Length: 112332, dtype: int64\n",
      "Vemos que el nro max de perfiles por cliente es de 3 y el mínimo de 1.\n"
     ]
    }
   ],
   "source": [
    "# Perfiles por cliente\n",
    "df_copy = df[['customer_id','account_id']].copy()\n",
    "print(df_copy.shape)\n",
    "df_copy = df_copy.drop_duplicates(keep='first')\n",
    "print(df_copy.shape)\n",
    "print(df_copy.groupby('customer_id').size() \\\n",
    "    .sort_values(ascending=False))\n",
    "\n",
    "print(\"Vemos que el nro max de perfiles por cliente es de 3 y el mínimo de 1.\")"
   ]
  },
  {
   "cell_type": "markdown",
   "metadata": {},
   "source": [
    "Assets y contenidos"
   ]
  },
  {
   "cell_type": "code",
   "execution_count": 105,
   "metadata": {
    "scrolled": true
   },
   "outputs": [
    {
     "name": "stdout",
     "output_type": "stream",
     "text": [
      "Number of unique assets: 23973\n",
      "Number of unique contents: 4061\n"
     ]
    }
   ],
   "source": [
    "print(f'Número de contents: {df[\"content_id\"].nunique()}')\n",
    "print(f'Númerico de assets: {df[\"asset_id\"].nunique()}')"
   ]
  },
  {
   "cell_type": "code",
   "execution_count": 73,
   "metadata": {},
   "outputs": [
    {
     "name": "stdout",
     "output_type": "stream",
     "text": [
      "content_id\n",
      "1879.0    205\n",
      "176.0     195\n",
      "387.0     171\n",
      "1769.0    170\n",
      "1573.0    168\n",
      "         ... \n",
      "2429.0      1\n",
      "2430.0      1\n",
      "2431.0      1\n",
      "2432.0      1\n",
      "4371.0      1\n",
      "Length: 4061, dtype: int64\n",
      "Vemos que el nro max de assets por contenido es de 205.\n"
     ]
    }
   ],
   "source": [
    "df_copy = df[['content_id','asset_id']].copy()\n",
    "df_copy = df_copy.drop_duplicates(keep='first')\n",
    "aux = df_copy.groupby('content_id').size() \\\n",
    "            .sort_values(ascending=False)\n",
    "print(aux)\n",
    "print(\"Vemos que el nro max de assets por contenido es de 205.\")"
   ]
  },
  {
   "cell_type": "markdown",
   "metadata": {
    "id": "IWX6m9cAs6Fe"
   },
   "source": [
    "Cantidad de visualizaciones por año:"
   ]
  },
  {
   "cell_type": "code",
   "execution_count": 74,
   "metadata": {
    "colab": {
     "base_uri": "https://localhost:8080/",
     "height": 81
    },
    "id": "rGdEmTg3s84V",
    "outputId": "a36d1336-9a3a-4645-a587-80b80e4f9dab"
   },
   "outputs": [
    {
     "data": {
      "text/html": [
       "<div>\n",
       "<style scoped>\n",
       "    .dataframe tbody tr th:only-of-type {\n",
       "        vertical-align: middle;\n",
       "    }\n",
       "\n",
       "    .dataframe tbody tr th {\n",
       "        vertical-align: top;\n",
       "    }\n",
       "\n",
       "    .dataframe thead th {\n",
       "        text-align: right;\n",
       "    }\n",
       "</style>\n",
       "<table border=\"1\" class=\"dataframe\">\n",
       "  <thead>\n",
       "    <tr style=\"text-align: right;\">\n",
       "      <th></th>\n",
       "      <th>year</th>\n",
       "      <th>visualizations_count</th>\n",
       "    </tr>\n",
       "  </thead>\n",
       "  <tbody>\n",
       "    <tr>\n",
       "      <th>0</th>\n",
       "      <td>2021</td>\n",
       "      <td>3657561</td>\n",
       "    </tr>\n",
       "  </tbody>\n",
       "</table>\n",
       "</div>"
      ],
      "text/plain": [
       "   year  visualizations_count\n",
       "0  2021               3657561"
      ]
     },
     "execution_count": 74,
     "metadata": {},
     "output_type": "execute_result"
    }
   ],
   "source": [
    "plot_df = df.copy()\n",
    "plot_df[\"year\"] = plot_df.timestamp.dt.year\n",
    "plot_df = plot_df.groupby(\"year\", as_index=False).count()[[\"year\", \"customer_id\"]]\n",
    "plot_df.columns = [\"year\", \"visualizations_count\"]\n",
    "plot_df.head()"
   ]
  },
  {
   "cell_type": "markdown",
   "metadata": {
    "id": "mJ6RaoJPxKaZ"
   },
   "source": [
    "Cantidad de reviews por mes:"
   ]
  },
  {
   "cell_type": "code",
   "execution_count": 60,
   "metadata": {
    "colab": {
     "base_uri": "https://localhost:8080/",
     "height": 143
    },
    "id": "I11ztYl9wxz6",
    "outputId": "4f557d68-44a6-4699-ffdf-73097f5eb99e"
   },
   "outputs": [
    {
     "data": {
      "text/html": [
       "<div>\n",
       "<style scoped>\n",
       "    .dataframe tbody tr th:only-of-type {\n",
       "        vertical-align: middle;\n",
       "    }\n",
       "\n",
       "    .dataframe tbody tr th {\n",
       "        vertical-align: top;\n",
       "    }\n",
       "\n",
       "    .dataframe thead th {\n",
       "        text-align: right;\n",
       "    }\n",
       "</style>\n",
       "<table border=\"1\" class=\"dataframe\">\n",
       "  <thead>\n",
       "    <tr style=\"text-align: right;\">\n",
       "      <th></th>\n",
       "      <th>month</th>\n",
       "      <th>visualizations_count</th>\n",
       "    </tr>\n",
       "  </thead>\n",
       "  <tbody>\n",
       "    <tr>\n",
       "      <th>0</th>\n",
       "      <td>1</td>\n",
       "      <td>1216404</td>\n",
       "    </tr>\n",
       "    <tr>\n",
       "      <th>1</th>\n",
       "      <td>2</td>\n",
       "      <td>1122548</td>\n",
       "    </tr>\n",
       "    <tr>\n",
       "      <th>2</th>\n",
       "      <td>3</td>\n",
       "      <td>1318609</td>\n",
       "    </tr>\n",
       "  </tbody>\n",
       "</table>\n",
       "</div>"
      ],
      "text/plain": [
       "   month  visualizations_count\n",
       "0      1               1216404\n",
       "1      2               1122548\n",
       "2      3               1318609"
      ]
     },
     "execution_count": 60,
     "metadata": {},
     "output_type": "execute_result"
    }
   ],
   "source": [
    "plot_df = df.copy()\n",
    "plot_df[\"month\"] = plot_df.timestamp.dt.month\n",
    "plot_df = plot_df.groupby(\"month\", as_index=False).count()[[\"month\", \"customer_id\"]]\n",
    "plot_df.columns = [\"month\", \"visualizations_count\"]\n",
    "plot_df.head()"
   ]
  },
  {
   "cell_type": "code",
   "execution_count": 63,
   "metadata": {
    "colab": {
     "base_uri": "https://localhost:8080/",
     "height": 350
    },
    "id": "DwjfjxpExuCl",
    "outputId": "65c4fe0b-c8ff-4d71-f2db-5adfe81ce731",
    "scrolled": true
   },
   "outputs": [
    {
     "data": {
      "image/png": "[encoded data removed]",
      "text/plain": [
       "<Figure size 1080x360 with 1 Axes>"
      ]
     },
     "metadata": {
      "needs_background": "light"
     },
     "output_type": "display_data"
    }
   ],
   "source": [
    "plt.figure(figsize=(15,5))\n",
    "ax = sns.barplot(x=plot_df.month, y=plot_df.visualizations_count)\n",
    "plt.title(\"Cantidad de visualizaciones por mes\")\n",
    "plt.show()"
   ]
  },
  {
   "cell_type": "markdown",
   "metadata": {},
   "source": [
    "Cantidad de visualizaciones por tipo de dispositivo"
   ]
  },
  {
   "cell_type": "code",
   "execution_count": 87,
   "metadata": {},
   "outputs": [
    {
     "data": {
      "image/png": "[encoded data removed]",
      "text/plain": [
       "<Figure size 1440x360 with 1 Axes>"
      ]
     },
     "metadata": {
      "needs_background": "light"
     },
     "output_type": "display_data"
    }
   ],
   "source": [
    "plt.figure(figsize=(20, 5))\n",
    "ax = sns.countplot(data=df, x='device_type', order=df['device_type'].value_counts().iloc[:10].index)\n",
    "# for container in ax.containers:\n",
    "  #  ax.bar_label(container)\n",
    "plt.xlabel('Dispositivo')\n",
    "plt.ylabel('Visualizaciones')\n",
    "plt.grid(linewidth=0.3)\n",
    "plt.title('Countplot device_type', fontdict={'fontsize': 12,'fontweight':'bold'})\n",
    "plt.show()"
   ]
  },
  {
   "cell_type": "markdown",
   "metadata": {},
   "source": [
    "Cantidad de visualizaciones por country_of_origin"
   ]
  },
  {
   "cell_type": "code",
   "execution_count": 88,
   "metadata": {
    "scrolled": false
   },
   "outputs": [
    {
     "data": {
      "image/png": "[encoded data removed]",
      "text/plain": [
       "<Figure size 1440x360 with 1 Axes>"
      ]
     },
     "metadata": {
      "needs_background": "light"
     },
     "output_type": "display_data"
    }
   ],
   "source": [
    "plt.figure(figsize=(20, 5))\n",
    "ax = sns.countplot(data=df, x='country_of_origin', order=df['country_of_origin'].value_counts().iloc[:30].index)\n",
    "# for container in ax.containers:\n",
    "  #  ax.bar_label(container)\n",
    "plt.xlabel('Pais de origen')\n",
    "plt.ylabel('Visualizaciones')\n",
    "plt.grid(linewidth=0.3)\n",
    "plt.title('Countplot country_of_origin', fontdict={'fontsize': 12,'fontweight':'bold'})\n",
    "plt.show()"
   ]
  },
  {
   "cell_type": "markdown",
   "metadata": {},
   "source": [
    "Cantidad de visualizaciones por tipo"
   ]
  },
  {
   "cell_type": "code",
   "execution_count": 90,
   "metadata": {
    "scrolled": false
   },
   "outputs": [
    {
     "data": {
      "image/png": "[encoded data removed]",
      "text/plain": [
       "<Figure size 1440x360 with 1 Axes>"
      ]
     },
     "metadata": {
      "needs_background": "light"
     },
     "output_type": "display_data"
    }
   ],
   "source": [
    "plt.figure(figsize=(20, 5))\n",
    "ax = sns.countplot(data=df, x='show_type', order=df['show_type'].value_counts().iloc[:30].index)\n",
    "# for container in ax.containers:\n",
    "  #  ax.bar_label(container)\n",
    "plt.xlabel('Tipo')\n",
    "plt.ylabel('Visualizaciones')\n",
    "plt.grid(linewidth=0.3)\n",
    "plt.title('Countplot show_type', fontdict={'fontsize': 12,'fontweight':'bold'})\n",
    "plt.show()"
   ]
  },
  {
   "cell_type": "markdown",
   "metadata": {},
   "source": [
    "<i>Vemos que el último show ype corresponde a Series, por lo que decidimos agruparlos en Serie</i>"
   ]
  },
  {
   "cell_type": "code",
   "execution_count": null,
   "metadata": {},
   "outputs": [],
   "source": [
    "df['show_type'] = df['show_type'].apply(lambda x: 'Serie' if x == 'Series,Serie' else x)"
   ]
  },
  {
   "cell_type": "markdown",
   "metadata": {},
   "source": [
    "Cantidad de visualizaciones por perfil:"
   ]
  },
  {
   "cell_type": "code",
   "execution_count": 69,
   "metadata": {
    "scrolled": true
   },
   "outputs": [
    {
     "data": {
      "text/plain": [
       "customer_id  account_id\n",
       "36854        7107          3612\n",
       "79889        99113         2256\n",
       "110394       24556         1836\n",
       "66280        84543         1692\n",
       "82636        102343        1631\n",
       "                           ... \n",
       "63723        81792            1\n",
       "104846       20298            1\n",
       "89143        112093           1\n",
       "37062        56865            1\n",
       "96239        13682            1\n",
       "Name: minutos_vistos, Length: 113873, dtype: int64"
      ]
     },
     "execution_count": 69,
     "metadata": {},
     "output_type": "execute_result"
    }
   ],
   "source": [
    "df.groupby(['customer_id','account_id'])['minutos_vistos'].size() \\\n",
    "    .sort_values(ascending=False)"
   ]
  },
  {
   "cell_type": "markdown",
   "metadata": {},
   "source": [
    "Cantidad de visualizaciones por perfil y content_id:"
   ]
  },
  {
   "cell_type": "code",
   "execution_count": 75,
   "metadata": {
    "scrolled": true
   },
   "outputs": [
    {
     "data": {
      "text/plain": [
       "customer_id  account_id  content_id\n",
       "36854        7107        491.0         1885\n",
       "109693       3042        562.0         1246\n",
       "46409        65203       712.0         1242\n",
       "25204        46522       1139.0        1187\n",
       "32154        52503       2160.0        1104\n",
       "                                       ... \n",
       "66855        96285       2942.0           1\n",
       "                         3483.0           1\n",
       "                         3592.0           1\n",
       "                         3749.0           1\n",
       "58814        76671       1986.0           1\n",
       "Name: minutos_vistos, Length: 971443, dtype: int64"
      ]
     },
     "execution_count": 75,
     "metadata": {},
     "output_type": "execute_result"
    }
   ],
   "source": [
    "df.groupby(['customer_id','account_id','content_id'])['minutos_vistos'].size() \\\n",
    "    .sort_values(ascending=False)"
   ]
  },
  {
   "cell_type": "code",
   "execution_count": 76,
   "metadata": {},
   "outputs": [
    {
     "data": {
      "text/html": [
       "<div>\n",
       "<style scoped>\n",
       "    .dataframe tbody tr th:only-of-type {\n",
       "        vertical-align: middle;\n",
       "    }\n",
       "\n",
       "    .dataframe tbody tr th {\n",
       "        vertical-align: top;\n",
       "    }\n",
       "\n",
       "    .dataframe thead th {\n",
       "        text-align: right;\n",
       "    }\n",
       "</style>\n",
       "<table border=\"1\" class=\"dataframe\">\n",
       "  <thead>\n",
       "    <tr style=\"text-align: right;\">\n",
       "      <th></th>\n",
       "      <th>customer_id</th>\n",
       "      <th>account_id</th>\n",
       "      <th>device_type</th>\n",
       "      <th>asset_id</th>\n",
       "      <th>tunein</th>\n",
       "      <th>tuneout</th>\n",
       "      <th>resume</th>\n",
       "      <th>content_id</th>\n",
       "      <th>title</th>\n",
       "      <th>show_type</th>\n",
       "      <th>...</th>\n",
       "      <th>run_time_min</th>\n",
       "      <th>end_vod_date</th>\n",
       "      <th>timestamp</th>\n",
       "      <th>from</th>\n",
       "      <th>to</th>\n",
       "      <th>resultado</th>\n",
       "      <th>minutos_vistos</th>\n",
       "      <th>rating_1</th>\n",
       "      <th>rating_2</th>\n",
       "      <th>rating_3</th>\n",
       "    </tr>\n",
       "  </thead>\n",
       "  <tbody>\n",
       "    <tr>\n",
       "      <th>1087982</th>\n",
       "      <td>36854</td>\n",
       "      <td>7107</td>\n",
       "      <td>STB</td>\n",
       "      <td>15150.0</td>\n",
       "      <td>2021-01-01 08:46:00.0</td>\n",
       "      <td>2021-01-01 08:49:00.0</td>\n",
       "      <td>0</td>\n",
       "      <td>491.0</td>\n",
       "      <td>T:1 Ep:01 La Granja de Zenón: La Serie</td>\n",
       "      <td>TV</td>\n",
       "      <td>...</td>\n",
       "      <td>3.0</td>\n",
       "      <td>2021-09-17T23:59:00.0Z</td>\n",
       "      <td>2021-01-01</td>\n",
       "      <td>2021-01-01 08:46:00</td>\n",
       "      <td>2021-01-01 08:49:00</td>\n",
       "      <td>0 days 00:03:00</td>\n",
       "      <td>3.0</td>\n",
       "      <td>1</td>\n",
       "      <td>0</td>\n",
       "      <td>1</td>\n",
       "    </tr>\n",
       "    <tr>\n",
       "      <th>1087983</th>\n",
       "      <td>36854</td>\n",
       "      <td>7107</td>\n",
       "      <td>STB</td>\n",
       "      <td>31410.0</td>\n",
       "      <td>2021-01-01 08:50:00.0</td>\n",
       "      <td>2021-01-01 08:53:00.0</td>\n",
       "      <td>0</td>\n",
       "      <td>491.0</td>\n",
       "      <td>T:1 Ep:02 La Granja de Zenón: La Serie</td>\n",
       "      <td>TV</td>\n",
       "      <td>...</td>\n",
       "      <td>3.0</td>\n",
       "      <td>2021-09-17T23:59:00.0Z</td>\n",
       "      <td>2021-01-01</td>\n",
       "      <td>2021-01-01 08:50:00</td>\n",
       "      <td>2021-01-01 08:53:00</td>\n",
       "      <td>0 days 00:03:00</td>\n",
       "      <td>3.0</td>\n",
       "      <td>1</td>\n",
       "      <td>0</td>\n",
       "      <td>1</td>\n",
       "    </tr>\n",
       "    <tr>\n",
       "      <th>1088006</th>\n",
       "      <td>36854</td>\n",
       "      <td>7107</td>\n",
       "      <td>STB</td>\n",
       "      <td>15150.0</td>\n",
       "      <td>2021-01-02 12:42:00.0</td>\n",
       "      <td>2021-01-02 12:45:00.0</td>\n",
       "      <td>1</td>\n",
       "      <td>491.0</td>\n",
       "      <td>T:1 Ep:01 La Granja de Zenón: La Serie</td>\n",
       "      <td>TV</td>\n",
       "      <td>...</td>\n",
       "      <td>3.0</td>\n",
       "      <td>2021-09-17T23:59:00.0Z</td>\n",
       "      <td>2021-01-02</td>\n",
       "      <td>2021-01-02 12:42:00</td>\n",
       "      <td>2021-01-02 12:45:00</td>\n",
       "      <td>0 days 00:03:00</td>\n",
       "      <td>3.0</td>\n",
       "      <td>1</td>\n",
       "      <td>1</td>\n",
       "      <td>1</td>\n",
       "    </tr>\n",
       "  </tbody>\n",
       "</table>\n",
       "<p>3 rows × 22 columns</p>\n",
       "</div>"
      ],
      "text/plain": [
       "         customer_id  account_id device_type  asset_id                 tunein  \\\n",
       "1087982        36854        7107         STB   15150.0  2021-01-01 08:46:00.0   \n",
       "1087983        36854        7107         STB   31410.0  2021-01-01 08:50:00.0   \n",
       "1088006        36854        7107         STB   15150.0  2021-01-02 12:42:00.0   \n",
       "\n",
       "                       tuneout  resume  content_id  \\\n",
       "1087982  2021-01-01 08:49:00.0       0       491.0   \n",
       "1087983  2021-01-01 08:53:00.0       0       491.0   \n",
       "1088006  2021-01-02 12:45:00.0       1       491.0   \n",
       "\n",
       "                                          title show_type  ... run_time_min  \\\n",
       "1087982  T:1 Ep:01 La Granja de Zenón: La Serie        TV  ...          3.0   \n",
       "1087983  T:1 Ep:02 La Granja de Zenón: La Serie        TV  ...          3.0   \n",
       "1088006  T:1 Ep:01 La Granja de Zenón: La Serie        TV  ...          3.0   \n",
       "\n",
       "                   end_vod_date  timestamp                from  \\\n",
       "1087982  2021-09-17T23:59:00.0Z 2021-01-01 2021-01-01 08:46:00   \n",
       "1087983  2021-09-17T23:59:00.0Z 2021-01-01 2021-01-01 08:50:00   \n",
       "1088006  2021-09-17T23:59:00.0Z 2021-01-02 2021-01-02 12:42:00   \n",
       "\n",
       "                         to       resultado minutos_vistos rating_1  rating_2  \\\n",
       "1087982 2021-01-01 08:49:00 0 days 00:03:00            3.0        1         0   \n",
       "1087983 2021-01-01 08:53:00 0 days 00:03:00            3.0        1         0   \n",
       "1088006 2021-01-02 12:45:00 0 days 00:03:00            3.0        1         1   \n",
       "\n",
       "         rating_3  \n",
       "1087982         1  \n",
       "1087983         1  \n",
       "1088006         1  \n",
       "\n",
       "[3 rows x 22 columns]"
      ]
     },
     "execution_count": 76,
     "metadata": {},
     "output_type": "execute_result"
    }
   ],
   "source": [
    "df[(df['customer_id'] == 36854) & ( df['account_id']==7107) & (df['content_id']==491)].head(3)"
   ]
  },
  {
   "cell_type": "code",
   "execution_count": 79,
   "metadata": {
    "scrolled": false
   },
   "outputs": [
    {
     "name": "stdout",
     "output_type": "stream",
     "text": [
      "Sumamos los minutos que vio el perfil 7107 sobre el video 491\n"
     ]
    },
    {
     "data": {
      "text/plain": [
       "customer_id  account_id  content_id  asset_id\n",
       "36854        7107        491.0       24096.0     774.0\n",
       "                                     11479.0     715.0\n",
       "                                     6805.0      708.0\n",
       "                                     31410.0     630.0\n",
       "                                     31895.0     577.0\n",
       "                                     29759.0     567.0\n",
       "                                     15143.0     427.0\n",
       "                                     5757.0      402.0\n",
       "                                     16228.0     387.0\n",
       "                                     30710.0     386.0\n",
       "                                     3205.0      302.0\n",
       "                                     15150.0     273.0\n",
       "Name: minutos_vistos, dtype: float64"
      ]
     },
     "execution_count": 79,
     "metadata": {},
     "output_type": "execute_result"
    }
   ],
   "source": [
    "# Sumamos los minutos que vio el perfil 7107 sobre el video 491\n",
    "print('Sumamos los minutos que vio el perfil 7107 sobre el video 491')\n",
    "df[( df['account_id']==7107) & (df['content_id']==491)].groupby(['customer_id','account_id','content_id','asset_id'])['minutos_vistos'].sum() \\\n",
    "    .sort_values(ascending=False)"
   ]
  },
  {
   "cell_type": "code",
   "execution_count": 80,
   "metadata": {
    "scrolled": true
   },
   "outputs": [
    {
     "data": {
      "text/plain": [
       "content_id\n",
       "491.0    72.0\n",
       "Name: run_time_min, dtype: float64"
      ]
     },
     "execution_count": 80,
     "metadata": {},
     "output_type": "execute_result"
    }
   ],
   "source": [
    "# vemos cuanto dura el video anterior.\n",
    "df_metadatos[(df_metadatos['content_id']==491)].groupby(['content_id'])['run_time_min'].sum() \\\n",
    "    .sort_values(ascending=False)"
   ]
  },
  {
   "cell_type": "markdown",
   "metadata": {},
   "source": [
    "Duracion de los contenidos"
   ]
  },
  {
   "cell_type": "code",
   "execution_count": 83,
   "metadata": {
    "scrolled": true
   },
   "outputs": [
    {
     "name": "stdout",
     "output_type": "stream",
     "text": [
      "Duracion mínima de un video: 0.0\n",
      "Duracion máxima de un video: 305.0\n",
      "Cantidad de videos con duracion mínima: 310\n",
      "Cantidad de videos con duracion máxima: 11\n"
     ]
    }
   ],
   "source": [
    "print(f\"Duracion mínima de un video: {df['run_time_min'].min()}\")\n",
    "print(f\"Duracion máxima de un video: {df['run_time_min'].max()}\")\n",
    "\n",
    "\n",
    "print(f\"Cantidad de videos con duracion mínima: {df[df['run_time_min'] == df['run_time_min'].min()].count().iloc[1]}\")\n",
    "print(f\"Cantidad de videos con duracion máxima: {df[df['run_time_min'] == df['run_time_min'].max()].count().iloc[1]}\")\n"
   ]
  },
  {
   "cell_type": "markdown",
   "metadata": {},
   "source": [
    "Visualizaciones por Mes"
   ]
  },
  {
   "cell_type": "code",
   "execution_count": 95,
   "metadata": {},
   "outputs": [],
   "source": [
    "def getNombreMes(mes):\n",
    "    if( mes == 1 ): return \"Enero\"\n",
    "    if( mes == 2 ): return \"Febrero\"\n",
    "    if( mes == 3 ): return \"Marzo\"\n",
    "    return \"NoDisponible\""
   ]
  },
  {
   "cell_type": "code",
   "execution_count": 107,
   "metadata": {},
   "outputs": [
    {
     "data": {
      "image/png": "[encoded data removed]",
      "text/plain": [
       "<Figure size 1500x500 with 1 Axes>"
      ]
     },
     "metadata": {},
     "output_type": "display_data"
    }
   ],
   "source": [
    "df_visualizaciones = df.copy()\n",
    "\n",
    "df_visualizaciones['dia'] = df['timestamp'].dt.day\n",
    "df_visualizaciones['mes'] = df['timestamp'].dt.month\n",
    "df_visualizaciones['mes'] = df_visualizaciones['mes'].apply(getNombreMes)\n",
    "\n",
    "df_visualizaciones = df_visualizaciones.groupby(['mes', 'dia'], as_index=False).count()[['mes', 'dia', 'asset_id']]\n",
    "\n",
    "plt.figure(figsize=(15,5))\n",
    "sns.lineplot(data=df_visualizaciones, x='dia', y='asset_id', hue='mes',  marker=\"o\")\n",
    "plt.title('Visualizaciones por día [tunein]', fontdict={'fontsize': 14,'fontweight':'bold', 'style':'italic'})\n",
    "plt.xticks([x for x in range(df_visualizaciones['dia'].min(), df_visualizaciones['dia'].max() +1,1)])\n",
    "plt.grid(0.6)\n",
    "plt.show()"
   ]
  },
  {
   "cell_type": "code",
   "execution_count": null,
   "metadata": {},
   "outputs": [],
   "source": []
  },
  {
   "cell_type": "code",
   "execution_count": null,
   "metadata": {},
   "outputs": [],
   "source": []
  },
  {
   "cell_type": "code",
   "execution_count": null,
   "metadata": {},
   "outputs": [],
   "source": [
    "# columns = ['account_id', 'asset_id', 'tunein', 'tuneout', 'timestamp', 'minutos']\n",
    "# df_filtered = df.drop_duplicates(subset = ['account_id', 'asset_id'])[columns]\n",
    "# df_filtered.head(1)"
   ]
  },
  {
   "cell_type": "code",
   "execution_count": 204,
   "metadata": {
    "scrolled": false
   },
   "outputs": [],
   "source": [
    "# df_duracion = df_metadatos.groupby('content_id').agg({'run_time_min': 'sum'}).reset_index()\n",
    "# df_duracion\n",
    "#df_duracion.set_index(keys='content_id',inplace=True)\n",
    "\n",
    "#df_visualizacion = df_train.groupby(['account_id','asset_id']).agg({'minutos':'sum'}).reset_index()\n",
    "#df_visualizacion.set_index(keys=['account_id','asset_id'],inplace=True)"
   ]
  },
  {
   "cell_type": "code",
   "execution_count": 205,
   "metadata": {},
   "outputs": [],
   "source": [
    "# df_duracion[df_duracion.content_id == 4][['run_time_min']]"
   ]
  },
  {
   "cell_type": "code",
   "execution_count": 130,
   "metadata": {},
   "outputs": [],
   "source": [
    "# df_visualizacion.loc[(0,6397)]['minutos']\n",
    "# #df.loc[('M-1','Test1')]"
   ]
  },
  {
   "cell_type": "code",
   "execution_count": 206,
   "metadata": {
    "scrolled": true
   },
   "outputs": [],
   "source": [
    "#df_metadatos[df_metadatos.content_id == 1].groupby(['content_id']).agg({'run_time_min':'sum'})['run_time_min']\n",
    "#df[(df.account_id == 1) & (df.content_id == 1020)].groupby(['account_id','content_id']).agg({'minutos_vistos':'sum'})['minutos_vistos'] \n",
    "#df_duracion[df_duracion.content_id == 1503].iloc[0]['run_time_min']\n"
   ]
  },
  {
   "cell_type": "code",
   "execution_count": 191,
   "metadata": {},
   "outputs": [],
   "source": [
    "# def calcular(content_id):\n",
    "#     return df_duracion[df_duracion.content_id == content_id].iloc[0]['run_time_min']"
   ]
  },
  {
   "cell_type": "code",
   "execution_count": 207,
   "metadata": {},
   "outputs": [],
   "source": [
    "# %%time\n",
    "# df_aux = df.groupby(['account_id','content_id']).agg({'minutos_vistos':'sum'}).reset_index()\n",
    "# df_aux['duracion'] = df_aux.content_id.apply(calcular)"
   ]
  },
  {
   "cell_type": "code",
   "execution_count": null,
   "metadata": {},
   "outputs": [],
   "source": []
  },
  {
   "cell_type": "code",
   "execution_count": 165,
   "metadata": {},
   "outputs": [],
   "source": [
    "# df_aux = df[['account_id','content_id']].copy()\n",
    "# df_aux.drop_duplicates(subset = ['account_id', 'content_id'], inplace=True)"
   ]
  },
  {
   "cell_type": "code",
   "execution_count": 208,
   "metadata": {},
   "outputs": [],
   "source": [
    "# user_ids = df.account_id.value_counts().index\n",
    "\n",
    "# for user_id in tqdm(user_ids):\n",
    "#     content_ids = df[df.account_id == user_id].content_id.value_counts().index\n",
    "#     for content_id in content_ids:\n",
    "#         duracion_pelicula = df_duracion[df_duracion.content_id == content_id]['run_time_min'].index\n",
    "        \n",
    "        \n",
    "\n",
    "        #lo_que_yo_vi = df[(df.account_id == user_id) & (df.content_id == content_id)].groupby(['account_id','content_id']).agg({'minutos_vistos':'sum'})['minutos_vistos'] \n",
    "\n",
    "        #rating = lo_que_yo_vi * 100 / duracion_pelicula\n",
    "        \n",
    "        \n",
    "#         mask = df_aux[(df_aux.content_id == content_id) & (df_aux.account_id == user_id)].index\n",
    "#         df_aux.loc[mask, 'rating_4'] = rating        "
   ]
  },
  {
   "cell_type": "code",
   "execution_count": null,
   "metadata": {
    "scrolled": true
   },
   "outputs": [],
   "source": [
    "# for tupla in tqdm(list):\n",
    "#     mask = df_filtered[(df_filtered.asset_id == tupla[1]) & (df_filtered.account_id == tupla[0])].index\n",
    "#     df_filtered.loc[mask, 'rating'] = tupla[2]   "
   ]
  },
  {
   "cell_type": "code",
   "execution_count": null,
   "metadata": {},
   "outputs": [],
   "source": [
    "# df_filtered.to_csv('df_filtered', sep='\\t')\n",
    "# # df.to_csv(file_name, sep='\\t', encoding='utf-8')"
   ]
  },
  {
   "cell_type": "code",
   "execution_count": null,
   "metadata": {},
   "outputs": [],
   "source": []
  },
  {
   "cell_type": "code",
   "execution_count": null,
   "metadata": {},
   "outputs": [],
   "source": []
  },
  {
   "cell_type": "markdown",
   "metadata": {
    "id": "j6nVS-W-pUwa"
   },
   "source": [
    "<b> Calculamos el rating </b>"
   ]
  },
  {
   "cell_type": "markdown",
   "metadata": {},
   "source": [
    "Opcion 1: Baseline "
   ]
  },
  {
   "cell_type": "markdown",
   "metadata": {},
   "source": [
    "Si vió el contenido entonces le gusto."
   ]
  },
  {
   "cell_type": "code",
   "execution_count": 11,
   "metadata": {},
   "outputs": [],
   "source": [
    "df['rating_1'] = 1"
   ]
  },
  {
   "cell_type": "code",
   "execution_count": 117,
   "metadata": {},
   "outputs": [
    {
     "data": {
      "text/plain": [
       "1    3657561\n",
       "Name: rating_1, dtype: int64"
      ]
     },
     "execution_count": 117,
     "metadata": {},
     "output_type": "execute_result"
    }
   ],
   "source": [
    "df.rating_1.value_counts()"
   ]
  },
  {
   "cell_type": "code",
   "execution_count": null,
   "metadata": {},
   "outputs": [],
   "source": []
  },
  {
   "cell_type": "markdown",
   "metadata": {},
   "source": [
    "Opcion 2: Campo RESUME"
   ]
  },
  {
   "cell_type": "markdown",
   "metadata": {},
   "source": [
    "Si el campo 'resume' es 1, es decir, volvió a ver el contenido, entonces le gusto."
   ]
  },
  {
   "cell_type": "code",
   "execution_count": 12,
   "metadata": {},
   "outputs": [],
   "source": [
    "df['rating_2'] = df.resume.apply(lambda x : 1 if x == 1 else 0)"
   ]
  },
  {
   "cell_type": "code",
   "execution_count": 115,
   "metadata": {},
   "outputs": [
    {
     "data": {
      "text/plain": [
       "0    2192395\n",
       "1    1465166\n",
       "Name: rating_2, dtype: int64"
      ]
     },
     "execution_count": 115,
     "metadata": {},
     "output_type": "execute_result"
    }
   ],
   "source": [
    "df.rating_2.value_counts()"
   ]
  },
  {
   "cell_type": "code",
   "execution_count": null,
   "metadata": {},
   "outputs": [],
   "source": []
  },
  {
   "cell_type": "markdown",
   "metadata": {},
   "source": [
    "Opción 3: Porcentajes de visualización"
   ]
  },
  {
   "cell_type": "markdown",
   "metadata": {},
   "source": [
    "Si vio más del 50% de la duración del asset, entonces significa que le gusto."
   ]
  },
  {
   "cell_type": "code",
   "execution_count": 13,
   "metadata": {},
   "outputs": [],
   "source": [
    "df['rating_3'] = df['run_time_min'] * 0.3 - df['minutos_vistos'] \n",
    "df['rating_3'] = df['rating_3'].apply(lambda x: 1 if x <= 0 else 0)"
   ]
  },
  {
   "cell_type": "code",
   "execution_count": 113,
   "metadata": {},
   "outputs": [
    {
     "data": {
      "text/plain": [
       "1    2433708\n",
       "0    1223853\n",
       "Name: rating_3, dtype: int64"
      ]
     },
     "execution_count": 113,
     "metadata": {},
     "output_type": "execute_result"
    }
   ],
   "source": [
    "df.rating_3.value_counts()"
   ]
  },
  {
   "cell_type": "code",
   "execution_count": null,
   "metadata": {},
   "outputs": [],
   "source": []
  },
  {
   "cell_type": "markdown",
   "metadata": {},
   "source": [
    "Opción 4: Porcentaje de visualización total"
   ]
  },
  {
   "cell_type": "markdown",
   "metadata": {},
   "source": [
    "La idea es calcular el porcentaje de visualización de cada asset vistos por cada perfil, respecto a la duración total del asset. De esta forma sabemos qué tanto vio el usuario de cada asset, y así determinar el rating."
   ]
  },
  {
   "cell_type": "code",
   "execution_count": 195,
   "metadata": {
    "id": "u8z1ZiWTTwOF"
   },
   "outputs": [],
   "source": [
    "def calcular(content_id):\n",
    "    return df_duracion[df_duracion.content_id == content_id].iloc[0]['run_time_min']"
   ]
  },
  {
   "cell_type": "code",
   "execution_count": 196,
   "metadata": {
    "id": "myV1_h9kVsRP"
   },
   "outputs": [],
   "source": [
    "df_duracion = df_metadatos.groupby('content_id').agg({'run_time_min': 'sum'}).reset_index()"
   ]
  },
  {
   "cell_type": "code",
   "execution_count": 197,
   "metadata": {
    "colab": {
     "base_uri": "https://localhost:8080/"
    },
    "id": "wPFa2o_5UFxl",
    "outputId": "a2b2b263-011e-4c84-90f9-e1000fb80841"
   },
   "outputs": [],
   "source": [
    "df_aux = df.groupby(['account_id','content_id']).agg({'minutos_vistos':'sum'}).reset_index()"
   ]
  },
  {
   "cell_type": "code",
   "execution_count": 198,
   "metadata": {
    "scrolled": true
   },
   "outputs": [
    {
     "name": "stdout",
     "output_type": "stream",
     "text": [
      "Wall time: 5min 20s\n"
     ]
    }
   ],
   "source": [
    "%%time\n",
    "df_aux['duracion'] = df_aux.content_id.apply(calcular)"
   ]
  },
  {
   "cell_type": "code",
   "execution_count": 199,
   "metadata": {},
   "outputs": [
    {
     "name": "stdout",
     "output_type": "stream",
     "text": [
      "Wall time: 934 ms\n"
     ]
    }
   ],
   "source": [
    "%%time\n",
    "df_aux['porcentaje'] = df_aux.minutos_vistos * 100 / df_aux.duracion"
   ]
  },
  {
   "cell_type": "code",
   "execution_count": 200,
   "metadata": {},
   "outputs": [
    {
     "name": "stdout",
     "output_type": "stream",
     "text": [
      "Wall time: 279 ms\n"
     ]
    }
   ],
   "source": [
    "%%time\n",
    "df_aux['rating'] = df_aux.porcentaje.apply(lambda x : 1 if x > 40 else 0)"
   ]
  },
  {
   "cell_type": "code",
   "execution_count": 202,
   "metadata": {},
   "outputs": [],
   "source": [
    "def buscar_rating(account_id, content_id):\n",
    "    return df_aux[(df_aux.account_id == account_id) &(df_aux.content_id == content_id)].iloc[0]['rating']"
   ]
  },
  {
   "cell_type": "code",
   "execution_count": null,
   "metadata": {},
   "outputs": [],
   "source": [
    "df.rating_4.value_counts()"
   ]
  },
  {
   "cell_type": "code",
   "execution_count": null,
   "metadata": {},
   "outputs": [],
   "source": []
  },
  {
   "cell_type": "markdown",
   "metadata": {},
   "source": [
    "Opción 5: Opción 2 + Opción 3"
   ]
  },
  {
   "cell_type": "markdown",
   "metadata": {},
   "source": [
    "Esta opción involucra la siguiente lógica: si el usuario visualiza más de \"x\" minutos respecto a la duración del asset, pero además volvió a ver ese contenido (feature 'resume' = 1) entonces el rating deberá ser superior al de la opción 1. Para definir este \"plus\", sumamos uno."
   ]
  },
  {
   "cell_type": "markdown",
   "metadata": {},
   "source": [
    "Esta opción involucra la opción 2 y opción 3, y sigue la siguiente lógica: si el usuario visualiza más de \"x\" minutos respecto a la duración del asset, entonces su rating será 1. Ahora bien, si no llegó a ese porcentaje de visualización, pero resulta que el resume = 1, es decir, que volvió a ver el contenido, entonces significa que le gustó, por ende el valor del rating será 1."
   ]
  },
  {
   "cell_type": "code",
   "execution_count": 108,
   "metadata": {},
   "outputs": [],
   "source": [
    "df['rating_5'] = df['run_time_min'] * 0.3 - df['minutos_vistos'] \n",
    "df['rating_5'] = df['rating_5'].apply(lambda x: 1 if x <= 0 else 0)\n",
    "df['rating_5'] = (df['rating_5'] + df['resume']).apply(lambda x: 0 if x == 0 else 1)"
   ]
  },
  {
   "cell_type": "code",
   "execution_count": 110,
   "metadata": {
    "scrolled": true
   },
   "outputs": [
    {
     "data": {
      "text/plain": [
       "1    3169753\n",
       "0     487808\n",
       "Name: rating_5, dtype: int64"
      ]
     },
     "execution_count": 110,
     "metadata": {},
     "output_type": "execute_result"
    }
   ],
   "source": [
    "df.rating_5.value_counts()"
   ]
  },
  {
   "cell_type": "code",
   "execution_count": null,
   "metadata": {},
   "outputs": [],
   "source": []
  },
  {
   "cell_type": "markdown",
   "metadata": {
    "id": "hiOssYes_cbw"
   },
   "source": [
    "Train y Test"
   ]
  },
  {
   "cell_type": "markdown",
   "metadata": {},
   "source": [
    "Al momento de splitear puede ser que para un perfil y contenido el rating sea 'x' en una fila pero 'y' en otra. Por eso se decidió utilizar el promedio."
   ]
  },
  {
   "cell_type": "code",
   "execution_count": 140,
   "metadata": {
    "scrolled": true
   },
   "outputs": [
    {
     "name": "stdout",
     "output_type": "stream",
     "text": [
      "971443\n"
     ]
    }
   ],
   "source": [
    "df_aux = df.groupby(['account_id', 'content_id'], as_index=False)\\\n",
    "            .agg({'account_id': 'first',\n",
    "                  'content_id': 'first',\n",
    "                  'rating_1': 'mean',\n",
    "                  'rating_2': 'mean',\n",
    "                  'rating_3': 'mean',\n",
    "                  'rating_5': 'mean',\n",
    "                  })\n",
    "\n",
    "df_aux.rename(columns = {'rating_1':'rating_1_aux','rating_2':'rating_2_aux','rating_3':'rating_3_aux','rating_5':'rating_5_aux'}, inplace=True)\n",
    "print(len(df_aux))"
   ]
  },
  {
   "cell_type": "code",
   "execution_count": 118,
   "metadata": {
    "scrolled": false
   },
   "outputs": [
    {
     "name": "stdout",
     "output_type": "stream",
     "text": [
      "Número de filas antes de eliminar duplicados: 3657561\n",
      "Número de filas después de eliminar duplicados: 971443\n",
      "Wall time: 2.58 s\n"
     ]
    }
   ],
   "source": [
    "%%time\n",
    "print(f'Número de filas antes de eliminar duplicados: {len(df)}')\n",
    "df_main = df.drop_duplicates(subset=['account_id', 'content_id'], keep='last') \n",
    "print(f'Número de filas después de eliminar duplicados: {len(df_main)}') "
   ]
  },
  {
   "cell_type": "code",
   "execution_count": 145,
   "metadata": {},
   "outputs": [
    {
     "name": "stdout",
     "output_type": "stream",
     "text": [
      "971443\n",
      "Wall time: 2.32 s\n"
     ]
    }
   ],
   "source": [
    "%%time\n",
    "df_main = pd.merge(df_main, df_aux, how='inner', left_on=['account_id', 'content_id'], right_on=['account_id','content_id'])\n",
    "df_main.drop(['rating_1','rating_2','rating_3','rating_5'], axis=1, inplace=True)\n",
    "df_main.rename(columns = {'rating_1_aux':'rating_1','rating_2_aux':'rating_2','rating_3_aux':'rating_3','rating_5_aux':'rating_5'}, inplace=True)\n",
    "print(len(df_main))"
   ]
  },
  {
   "cell_type": "code",
   "execution_count": 146,
   "metadata": {
    "scrolled": true
   },
   "outputs": [
    {
     "data": {
      "text/html": [
       "<div>\n",
       "<style scoped>\n",
       "    .dataframe tbody tr th:only-of-type {\n",
       "        vertical-align: middle;\n",
       "    }\n",
       "\n",
       "    .dataframe tbody tr th {\n",
       "        vertical-align: top;\n",
       "    }\n",
       "\n",
       "    .dataframe thead th {\n",
       "        text-align: right;\n",
       "    }\n",
       "</style>\n",
       "<table border=\"1\" class=\"dataframe\">\n",
       "  <thead>\n",
       "    <tr style=\"text-align: right;\">\n",
       "      <th></th>\n",
       "      <th>customer_id</th>\n",
       "      <th>account_id</th>\n",
       "      <th>device_type</th>\n",
       "      <th>asset_id</th>\n",
       "      <th>tunein</th>\n",
       "      <th>tuneout</th>\n",
       "      <th>resume</th>\n",
       "      <th>content_id</th>\n",
       "      <th>title</th>\n",
       "      <th>show_type</th>\n",
       "      <th>...</th>\n",
       "      <th>end_vod_date</th>\n",
       "      <th>timestamp</th>\n",
       "      <th>from</th>\n",
       "      <th>to</th>\n",
       "      <th>resultado</th>\n",
       "      <th>minutos_vistos</th>\n",
       "      <th>rating_1</th>\n",
       "      <th>rating_2</th>\n",
       "      <th>rating_3</th>\n",
       "      <th>rating_5</th>\n",
       "    </tr>\n",
       "  </thead>\n",
       "  <tbody>\n",
       "    <tr>\n",
       "      <th>0</th>\n",
       "      <td>0</td>\n",
       "      <td>90627</td>\n",
       "      <td>STATIONARY</td>\n",
       "      <td>24727.0</td>\n",
       "      <td>2021-03-24 23:17:00.0</td>\n",
       "      <td>2021-03-25 00:01:00.0</td>\n",
       "      <td>0</td>\n",
       "      <td>2040.0</td>\n",
       "      <td>T:5 Ep:10 This is Us</td>\n",
       "      <td>Serie</td>\n",
       "      <td>...</td>\n",
       "      <td>2021-06-30</td>\n",
       "      <td>2021-03-24</td>\n",
       "      <td>2021-03-24 23:17:00</td>\n",
       "      <td>2021-03-25 00:01:00</td>\n",
       "      <td>0 days 00:44:00</td>\n",
       "      <td>44.0</td>\n",
       "      <td>1.0</td>\n",
       "      <td>0.0</td>\n",
       "      <td>1.0</td>\n",
       "      <td>1.0</td>\n",
       "    </tr>\n",
       "  </tbody>\n",
       "</table>\n",
       "<p>1 rows × 23 columns</p>\n",
       "</div>"
      ],
      "text/plain": [
       "   customer_id  account_id device_type  asset_id                 tunein  \\\n",
       "0            0       90627  STATIONARY   24727.0  2021-03-24 23:17:00.0   \n",
       "\n",
       "                 tuneout  resume  content_id                 title show_type  \\\n",
       "0  2021-03-25 00:01:00.0       0      2040.0  T:5 Ep:10 This is Us     Serie   \n",
       "\n",
       "   ... end_vod_date  timestamp                from                  to  \\\n",
       "0  ...   2021-06-30 2021-03-24 2021-03-24 23:17:00 2021-03-25 00:01:00   \n",
       "\n",
       "        resultado minutos_vistos rating_1 rating_2  rating_3  rating_5  \n",
       "0 0 days 00:44:00           44.0      1.0      0.0       1.0       1.0  \n",
       "\n",
       "[1 rows x 23 columns]"
      ]
     },
     "execution_count": 146,
     "metadata": {},
     "output_type": "execute_result"
    }
   ],
   "source": [
    "df_main.head(1)"
   ]
  },
  {
   "cell_type": "code",
   "execution_count": 208,
   "metadata": {},
   "outputs": [
    {
     "name": "stdout",
     "output_type": "stream",
     "text": [
      "Wall time: 46min 51s\n"
     ]
    },
    {
     "name": "stderr",
     "output_type": "stream",
     "text": [
      "<timed exec>:1: SettingWithCopyWarning: \n",
      "A value is trying to be set on a copy of a slice from a DataFrame.\n",
      "Try using .loc[row_indexer,col_indexer] = value instead\n",
      "\n",
      "See the caveats in the documentation: https://pandas.pydata.org/pandas-docs/stable/user_guide/indexing.html#returning-a-view-versus-a-copy\n"
     ]
    }
   ],
   "source": [
    "%%time\n",
    "df_main['rating_4'] = df_main.apply(lambda x : buscar_rating(x.account_id, x.content_id), axis=1)"
   ]
  },
  {
   "cell_type": "code",
   "execution_count": 147,
   "metadata": {},
   "outputs": [
    {
     "data": {
      "text/html": [
       "<div>\n",
       "<style scoped>\n",
       "    .dataframe tbody tr th:only-of-type {\n",
       "        vertical-align: middle;\n",
       "    }\n",
       "\n",
       "    .dataframe tbody tr th {\n",
       "        vertical-align: top;\n",
       "    }\n",
       "\n",
       "    .dataframe thead th {\n",
       "        text-align: right;\n",
       "    }\n",
       "</style>\n",
       "<table border=\"1\" class=\"dataframe\">\n",
       "  <thead>\n",
       "    <tr style=\"text-align: right;\">\n",
       "      <th></th>\n",
       "      <th>customer_id</th>\n",
       "      <th>account_id</th>\n",
       "      <th>device_type</th>\n",
       "      <th>asset_id</th>\n",
       "      <th>tunein</th>\n",
       "      <th>tuneout</th>\n",
       "      <th>resume</th>\n",
       "      <th>content_id</th>\n",
       "      <th>title</th>\n",
       "      <th>show_type</th>\n",
       "      <th>...</th>\n",
       "      <th>end_vod_date</th>\n",
       "      <th>timestamp</th>\n",
       "      <th>from</th>\n",
       "      <th>to</th>\n",
       "      <th>resultado</th>\n",
       "      <th>minutos_vistos</th>\n",
       "      <th>rating_1</th>\n",
       "      <th>rating_2</th>\n",
       "      <th>rating_3</th>\n",
       "      <th>rating_5</th>\n",
       "    </tr>\n",
       "  </thead>\n",
       "  <tbody>\n",
       "    <tr>\n",
       "      <th>280644</th>\n",
       "      <td>36854</td>\n",
       "      <td>7107</td>\n",
       "      <td>STB</td>\n",
       "      <td>29759.0</td>\n",
       "      <td>2021-03-31 18:38:00.0</td>\n",
       "      <td>2021-03-31 19:19:00.0</td>\n",
       "      <td>0</td>\n",
       "      <td>491.0</td>\n",
       "      <td>T:1 Ep:07 La Granja de Zenón: La Serie</td>\n",
       "      <td>TV</td>\n",
       "      <td>...</td>\n",
       "      <td>2021-09-17</td>\n",
       "      <td>2021-03-31</td>\n",
       "      <td>2021-03-31 18:38:00</td>\n",
       "      <td>2021-03-31 19:19:00</td>\n",
       "      <td>0 days 00:41:00</td>\n",
       "      <td>41.0</td>\n",
       "      <td>1.0</td>\n",
       "      <td>0.015915</td>\n",
       "      <td>1.0</td>\n",
       "      <td>1.0</td>\n",
       "    </tr>\n",
       "  </tbody>\n",
       "</table>\n",
       "<p>1 rows × 23 columns</p>\n",
       "</div>"
      ],
      "text/plain": [
       "        customer_id  account_id device_type  asset_id                 tunein  \\\n",
       "280644        36854        7107         STB   29759.0  2021-03-31 18:38:00.0   \n",
       "\n",
       "                      tuneout  resume  content_id  \\\n",
       "280644  2021-03-31 19:19:00.0       0       491.0   \n",
       "\n",
       "                                         title show_type  ... end_vod_date  \\\n",
       "280644  T:1 Ep:07 La Granja de Zenón: La Serie        TV  ...   2021-09-17   \n",
       "\n",
       "        timestamp                from                  to       resultado  \\\n",
       "280644 2021-03-31 2021-03-31 18:38:00 2021-03-31 19:19:00 0 days 00:41:00   \n",
       "\n",
       "       minutos_vistos rating_1  rating_2  rating_3  rating_5  \n",
       "280644           41.0      1.0  0.015915       1.0       1.0  \n",
       "\n",
       "[1 rows x 23 columns]"
      ]
     },
     "execution_count": 147,
     "metadata": {},
     "output_type": "execute_result"
    }
   ],
   "source": [
    "df_main[(df_main.content_id == 491) & (df_main.account_id == 7107)]\n"
   ]
  },
  {
   "cell_type": "code",
   "execution_count": null,
   "metadata": {},
   "outputs": [],
   "source": []
  },
  {
   "cell_type": "code",
   "execution_count": 150,
   "metadata": {
    "colab": {
     "base_uri": "https://localhost:8080/",
     "height": 206
    },
    "id": "XPxGcSDZGhDQ",
    "outputId": "5a6234a9-53b4-4700-c898-1252556ff46d",
    "scrolled": true
   },
   "outputs": [
    {
     "data": {
      "text/html": [
       "<div>\n",
       "<style scoped>\n",
       "    .dataframe tbody tr th:only-of-type {\n",
       "        vertical-align: middle;\n",
       "    }\n",
       "\n",
       "    .dataframe tbody tr th {\n",
       "        vertical-align: top;\n",
       "    }\n",
       "\n",
       "    .dataframe thead th {\n",
       "        text-align: right;\n",
       "    }\n",
       "</style>\n",
       "<table border=\"1\" class=\"dataframe\">\n",
       "  <thead>\n",
       "    <tr style=\"text-align: right;\">\n",
       "      <th></th>\n",
       "      <th>account_id</th>\n",
       "      <th>content_id</th>\n",
       "      <th>rating_1</th>\n",
       "      <th>rating_2</th>\n",
       "      <th>rating_3</th>\n",
       "      <th>rating_5</th>\n",
       "      <th>timestamp</th>\n",
       "    </tr>\n",
       "  </thead>\n",
       "  <tbody>\n",
       "    <tr>\n",
       "      <th>0</th>\n",
       "      <td>90627</td>\n",
       "      <td>2040.0</td>\n",
       "      <td>1.0</td>\n",
       "      <td>0.0</td>\n",
       "      <td>1.0</td>\n",
       "      <td>1.0</td>\n",
       "      <td>2021-03-24</td>\n",
       "    </tr>\n",
       "    <tr>\n",
       "      <th>1</th>\n",
       "      <td>3387</td>\n",
       "      <td>1983.0</td>\n",
       "      <td>1.0</td>\n",
       "      <td>0.5</td>\n",
       "      <td>1.0</td>\n",
       "      <td>1.0</td>\n",
       "      <td>2021-03-15</td>\n",
       "    </tr>\n",
       "    <tr>\n",
       "      <th>2</th>\n",
       "      <td>3387</td>\n",
       "      <td>729.0</td>\n",
       "      <td>1.0</td>\n",
       "      <td>0.0</td>\n",
       "      <td>0.5</td>\n",
       "      <td>0.5</td>\n",
       "      <td>2021-03-16</td>\n",
       "    </tr>\n",
       "    <tr>\n",
       "      <th>3</th>\n",
       "      <td>3388</td>\n",
       "      <td>691.0</td>\n",
       "      <td>1.0</td>\n",
       "      <td>0.0</td>\n",
       "      <td>1.0</td>\n",
       "      <td>1.0</td>\n",
       "      <td>2021-01-05</td>\n",
       "    </tr>\n",
       "    <tr>\n",
       "      <th>4</th>\n",
       "      <td>3388</td>\n",
       "      <td>3487.0</td>\n",
       "      <td>1.0</td>\n",
       "      <td>1.0</td>\n",
       "      <td>0.0</td>\n",
       "      <td>1.0</td>\n",
       "      <td>2021-01-24</td>\n",
       "    </tr>\n",
       "  </tbody>\n",
       "</table>\n",
       "</div>"
      ],
      "text/plain": [
       "   account_id  content_id  rating_1  rating_2  rating_3  rating_5  timestamp\n",
       "0       90627      2040.0       1.0       0.0       1.0       1.0 2021-03-24\n",
       "1        3387      1983.0       1.0       0.5       1.0       1.0 2021-03-15\n",
       "2        3387       729.0       1.0       0.0       0.5       0.5 2021-03-16\n",
       "3        3388       691.0       1.0       0.0       1.0       1.0 2021-01-05\n",
       "4        3388      3487.0       1.0       1.0       0.0       1.0 2021-01-24"
      ]
     },
     "execution_count": 150,
     "metadata": {},
     "output_type": "execute_result"
    }
   ],
   "source": [
    "# ratings.drop(['customer_id','asset_id','tunein','tuneout','minutos','from','to','resultado','title', 'run_time_min', 'start_vod_date', 'end_vod_date', 'minutos_vistos', 'porcentaje_visto'],axis=1, inplace=True)\n",
    "# ratings.drop(['customer_id','asset_id','tunein','tuneout','minutos','title', 'run_time_min', 'start_vod_date', 'end_vod_date', 'minutos_vistos', 'porcentaje_visto'],axis=1, inplace=True)\n",
    "ratings = df_main[['account_id', 'content_id', 'rating_1', 'rating_2', 'rating_3','rating_5', 'timestamp']].copy()\n",
    "ratings.head()"
   ]
  },
  {
   "cell_type": "code",
   "execution_count": 151,
   "metadata": {
    "colab": {
     "base_uri": "https://localhost:8080/",
     "height": 206
    },
    "id": "fLowHyB0_bkn",
    "outputId": "43e1dcd6-4048-4815-ba0a-0bc94976bf27",
    "scrolled": true
   },
   "outputs": [
    {
     "data": {
      "text/html": [
       "<div>\n",
       "<style scoped>\n",
       "    .dataframe tbody tr th:only-of-type {\n",
       "        vertical-align: middle;\n",
       "    }\n",
       "\n",
       "    .dataframe tbody tr th {\n",
       "        vertical-align: top;\n",
       "    }\n",
       "\n",
       "    .dataframe thead th {\n",
       "        text-align: right;\n",
       "    }\n",
       "</style>\n",
       "<table border=\"1\" class=\"dataframe\">\n",
       "  <thead>\n",
       "    <tr style=\"text-align: right;\">\n",
       "      <th></th>\n",
       "      <th>account_id</th>\n",
       "      <th>content_id</th>\n",
       "      <th>rating_1</th>\n",
       "      <th>rating_2</th>\n",
       "      <th>rating_3</th>\n",
       "      <th>rating_5</th>\n",
       "      <th>timestamp</th>\n",
       "    </tr>\n",
       "  </thead>\n",
       "  <tbody>\n",
       "    <tr>\n",
       "      <th>3</th>\n",
       "      <td>3388</td>\n",
       "      <td>691.0</td>\n",
       "      <td>1.0</td>\n",
       "      <td>0.000000</td>\n",
       "      <td>1.0</td>\n",
       "      <td>1.000000</td>\n",
       "      <td>2021-01-05</td>\n",
       "    </tr>\n",
       "    <tr>\n",
       "      <th>4</th>\n",
       "      <td>3388</td>\n",
       "      <td>3487.0</td>\n",
       "      <td>1.0</td>\n",
       "      <td>1.000000</td>\n",
       "      <td>0.0</td>\n",
       "      <td>1.000000</td>\n",
       "      <td>2021-01-24</td>\n",
       "    </tr>\n",
       "    <tr>\n",
       "      <th>5</th>\n",
       "      <td>3388</td>\n",
       "      <td>3038.0</td>\n",
       "      <td>1.0</td>\n",
       "      <td>0.000000</td>\n",
       "      <td>1.0</td>\n",
       "      <td>1.000000</td>\n",
       "      <td>2021-02-08</td>\n",
       "    </tr>\n",
       "    <tr>\n",
       "      <th>6</th>\n",
       "      <td>3388</td>\n",
       "      <td>2100.0</td>\n",
       "      <td>1.0</td>\n",
       "      <td>0.631579</td>\n",
       "      <td>0.5</td>\n",
       "      <td>0.842105</td>\n",
       "      <td>2021-02-21</td>\n",
       "    </tr>\n",
       "    <tr>\n",
       "      <th>9</th>\n",
       "      <td>3389</td>\n",
       "      <td>604.0</td>\n",
       "      <td>1.0</td>\n",
       "      <td>0.000000</td>\n",
       "      <td>1.0</td>\n",
       "      <td>1.000000</td>\n",
       "      <td>2021-01-26</td>\n",
       "    </tr>\n",
       "  </tbody>\n",
       "</table>\n",
       "</div>"
      ],
      "text/plain": [
       "   account_id  content_id  rating_1  rating_2  rating_3  rating_5  timestamp\n",
       "3        3388       691.0       1.0  0.000000       1.0  1.000000 2021-01-05\n",
       "4        3388      3487.0       1.0  1.000000       0.0  1.000000 2021-01-24\n",
       "5        3388      3038.0       1.0  0.000000       1.0  1.000000 2021-02-08\n",
       "6        3388      2100.0       1.0  0.631579       0.5  0.842105 2021-02-21\n",
       "9        3389       604.0       1.0  0.000000       1.0  1.000000 2021-01-26"
      ]
     },
     "execution_count": 151,
     "metadata": {},
     "output_type": "execute_result"
    }
   ],
   "source": [
    "# set de train\n",
    "train = ratings[(ratings.timestamp < datetime(year=2021, month=3, day=1))]\n",
    "train.head()"
   ]
  },
  {
   "cell_type": "code",
   "execution_count": 121,
   "metadata": {},
   "outputs": [
    {
     "data": {
      "text/plain": [
       "account_id  content_id\n",
       "0           1503.0        1\n",
       "79865       2434.0        1\n",
       "            3550.0        1\n",
       "            3748.0        1\n",
       "79866       171.0         1\n",
       "                         ..\n",
       "43541       3532.0        1\n",
       "43542       302.0         1\n",
       "            2019.0        1\n",
       "            3026.0        1\n",
       "111465      3936.0        1\n",
       "Name: content_id, Length: 612071, dtype: int64"
      ]
     },
     "execution_count": 121,
     "metadata": {},
     "output_type": "execute_result"
    }
   ],
   "source": [
    "train.groupby(['account_id','content_id'])['content_id'].size() \\\n",
    "    .sort_values(ascending=False)"
   ]
  },
  {
   "cell_type": "code",
   "execution_count": 160,
   "metadata": {
    "colab": {
     "base_uri": "https://localhost:8080/"
    },
    "id": "VUN5U_W_E9NK",
    "outputId": "497563c3-4f1b-4c04-f314-7cd4a4a2cb30"
   },
   "outputs": [
    {
     "data": {
      "text/plain": [
       "(612071, 7)"
      ]
     },
     "execution_count": 160,
     "metadata": {},
     "output_type": "execute_result"
    }
   ],
   "source": [
    "train.shape"
   ]
  },
  {
   "cell_type": "code",
   "execution_count": 161,
   "metadata": {
    "colab": {
     "base_uri": "https://localhost:8080/"
    },
    "id": "EfpZPl3fFO1t",
    "outputId": "a1d17930-0471-414e-d148-2fe0896c96c5"
   },
   "outputs": [
    {
     "data": {
      "text/plain": [
       "95758"
      ]
     },
     "execution_count": 161,
     "metadata": {},
     "output_type": "execute_result"
    }
   ],
   "source": [
    "train.account_id.nunique()"
   ]
  },
  {
   "cell_type": "code",
   "execution_count": 162,
   "metadata": {
    "colab": {
     "base_uri": "https://localhost:8080/",
     "height": 206
    },
    "id": "VnZS3UOkFTdj",
    "outputId": "652ba38b-f973-4669-de6c-e827007d8292"
   },
   "outputs": [
    {
     "data": {
      "text/html": [
       "<div>\n",
       "<style scoped>\n",
       "    .dataframe tbody tr th:only-of-type {\n",
       "        vertical-align: middle;\n",
       "    }\n",
       "\n",
       "    .dataframe tbody tr th {\n",
       "        vertical-align: top;\n",
       "    }\n",
       "\n",
       "    .dataframe thead th {\n",
       "        text-align: right;\n",
       "    }\n",
       "</style>\n",
       "<table border=\"1\" class=\"dataframe\">\n",
       "  <thead>\n",
       "    <tr style=\"text-align: right;\">\n",
       "      <th></th>\n",
       "      <th>account_id</th>\n",
       "      <th>content_id</th>\n",
       "      <th>rating_1</th>\n",
       "      <th>rating_2</th>\n",
       "      <th>rating_3</th>\n",
       "      <th>rating_5</th>\n",
       "      <th>timestamp</th>\n",
       "    </tr>\n",
       "  </thead>\n",
       "  <tbody>\n",
       "    <tr>\n",
       "      <th>0</th>\n",
       "      <td>90627</td>\n",
       "      <td>2040.0</td>\n",
       "      <td>1.0</td>\n",
       "      <td>0.000000</td>\n",
       "      <td>1.000000</td>\n",
       "      <td>1.0</td>\n",
       "      <td>2021-03-24</td>\n",
       "    </tr>\n",
       "    <tr>\n",
       "      <th>1</th>\n",
       "      <td>3387</td>\n",
       "      <td>1983.0</td>\n",
       "      <td>1.0</td>\n",
       "      <td>0.500000</td>\n",
       "      <td>1.000000</td>\n",
       "      <td>1.0</td>\n",
       "      <td>2021-03-15</td>\n",
       "    </tr>\n",
       "    <tr>\n",
       "      <th>2</th>\n",
       "      <td>3387</td>\n",
       "      <td>729.0</td>\n",
       "      <td>1.0</td>\n",
       "      <td>0.000000</td>\n",
       "      <td>0.500000</td>\n",
       "      <td>0.5</td>\n",
       "      <td>2021-03-16</td>\n",
       "    </tr>\n",
       "    <tr>\n",
       "      <th>7</th>\n",
       "      <td>3388</td>\n",
       "      <td>3386.0</td>\n",
       "      <td>1.0</td>\n",
       "      <td>1.000000</td>\n",
       "      <td>1.000000</td>\n",
       "      <td>1.0</td>\n",
       "      <td>2021-03-29</td>\n",
       "    </tr>\n",
       "    <tr>\n",
       "      <th>8</th>\n",
       "      <td>3388</td>\n",
       "      <td>2040.0</td>\n",
       "      <td>1.0</td>\n",
       "      <td>0.928571</td>\n",
       "      <td>0.571429</td>\n",
       "      <td>1.0</td>\n",
       "      <td>2021-03-30</td>\n",
       "    </tr>\n",
       "  </tbody>\n",
       "</table>\n",
       "</div>"
      ],
      "text/plain": [
       "   account_id  content_id  rating_1  rating_2  rating_3  rating_5  timestamp\n",
       "0       90627      2040.0       1.0  0.000000  1.000000       1.0 2021-03-24\n",
       "1        3387      1983.0       1.0  0.500000  1.000000       1.0 2021-03-15\n",
       "2        3387       729.0       1.0  0.000000  0.500000       0.5 2021-03-16\n",
       "7        3388      3386.0       1.0  1.000000  1.000000       1.0 2021-03-29\n",
       "8        3388      2040.0       1.0  0.928571  0.571429       1.0 2021-03-30"
      ]
     },
     "execution_count": 162,
     "metadata": {},
     "output_type": "execute_result"
    }
   ],
   "source": [
    "# set de test\n",
    "test = ratings[ratings.timestamp >= datetime(year=2021, month=3, day=1)]\n",
    "test.head()"
   ]
  },
  {
   "cell_type": "code",
   "execution_count": 219,
   "metadata": {
    "colab": {
     "base_uri": "https://localhost:8080/"
    },
    "id": "N-bat_2RFbOC",
    "outputId": "77d18084-f6a9-4768-e98b-1f2528528dc7"
   },
   "outputs": [
    {
     "data": {
      "text/plain": [
       "(359372, 7)"
      ]
     },
     "execution_count": 219,
     "metadata": {},
     "output_type": "execute_result"
    }
   ],
   "source": [
    "test.shape"
   ]
  },
  {
   "cell_type": "code",
   "execution_count": 220,
   "metadata": {
    "colab": {
     "base_uri": "https://localhost:8080/"
    },
    "id": "A6Rowh2oFdri",
    "outputId": "9c48c985-6702-4093-cd67-73d6a07843ed"
   },
   "outputs": [
    {
     "data": {
      "text/plain": [
       "87623"
      ]
     },
     "execution_count": 220,
     "metadata": {},
     "output_type": "execute_result"
    }
   ],
   "source": [
    "test.account_id.nunique()"
   ]
  },
  {
   "cell_type": "markdown",
   "metadata": {
    "id": "RqAihLojMkoZ"
   },
   "source": [
    "¿Tenemos usuarios que aparecen en test pero no en train? "
   ]
  },
  {
   "cell_type": "code",
   "execution_count": 163,
   "metadata": {
    "colab": {
     "base_uri": "https://localhost:8080/"
    },
    "id": "pBVw-w5BMhzm",
    "outputId": "bd058390-f48a-4db4-c08a-da61710ff1ed"
   },
   "outputs": [
    {
     "data": {
      "text/plain": [
       "18115"
      ]
     },
     "execution_count": 163,
     "metadata": {},
     "output_type": "execute_result"
    }
   ],
   "source": [
    "test[~test.account_id.isin(train.account_id.unique())].account_id.nunique()"
   ]
  },
  {
   "cell_type": "markdown",
   "metadata": {
    "id": "Rs5sFtL8NKYp"
   },
   "source": [
    "Como vemos, tenemos este problema. Utilizaremos \"cold start\" al momento de recomendar a estos usuarios."
   ]
  },
  {
   "cell_type": "markdown",
   "metadata": {
    "id": "4MwN-oRgNd4F"
   },
   "source": [
    "Armamos la matriz de interacción."
   ]
  },
  {
   "cell_type": "code",
   "execution_count": 164,
   "metadata": {
    "id": "Cr91IiI7N3Tu"
   },
   "outputs": [],
   "source": [
    "matrix_columns_1 = [\"account_id\",\"content_id\", \"rating_1\"]\n",
    "matrix_columns_2 = [\"account_id\",\"content_id\", \"rating_2\"]\n",
    "matrix_columns_3 = [\"account_id\",\"content_id\", \"rating_3\"]\n",
    "matrix_columns_4 = [\"account_id\",\"content_id\", \"rating_4\"]\n",
    "matrix_columns_5 = [\"account_id\",\"content_id\", \"rating_5\"]"
   ]
  },
  {
   "cell_type": "code",
   "execution_count": 165,
   "metadata": {
    "colab": {
     "base_uri": "https://localhost:8080/",
     "height": 206
    },
    "id": "xVRXFPQYOLLM",
    "outputId": "dbd94403-1015-4abf-8dbd-1693f6cd2f43",
    "scrolled": false
   },
   "outputs": [
    {
     "name": "stdout",
     "output_type": "stream",
     "text": [
      "Wall time: 297 ms\n"
     ]
    },
    {
     "data": {
      "text/html": [
       "<div>\n",
       "<style scoped>\n",
       "    .dataframe tbody tr th:only-of-type {\n",
       "        vertical-align: middle;\n",
       "    }\n",
       "\n",
       "    .dataframe tbody tr th {\n",
       "        vertical-align: top;\n",
       "    }\n",
       "\n",
       "    .dataframe thead th {\n",
       "        text-align: right;\n",
       "    }\n",
       "</style>\n",
       "<table border=\"1\" class=\"dataframe\">\n",
       "  <thead>\n",
       "    <tr style=\"text-align: right;\">\n",
       "      <th></th>\n",
       "      <th>account_id</th>\n",
       "      <th>content_id</th>\n",
       "      <th>rating_1</th>\n",
       "    </tr>\n",
       "  </thead>\n",
       "  <tbody>\n",
       "    <tr>\n",
       "      <th>3</th>\n",
       "      <td>3388</td>\n",
       "      <td>691.0</td>\n",
       "      <td>1.0</td>\n",
       "    </tr>\n",
       "  </tbody>\n",
       "</table>\n",
       "</div>"
      ],
      "text/plain": [
       "   account_id  content_id  rating_1\n",
       "3        3388       691.0       1.0"
      ]
     },
     "execution_count": 165,
     "metadata": {},
     "output_type": "execute_result"
    }
   ],
   "source": [
    "%%time\n",
    "interactions_1 = train[matrix_columns_1]\n",
    "interactions_2 = train[matrix_columns_2]\n",
    "interactions_3 = train[matrix_columns_3]\n",
    "# interactions_4 = train[matrix_columns_4]\n",
    "interactions_5 = train[matrix_columns_5]\n",
    "\n",
    "interactions_1.head(1)"
   ]
  },
  {
   "cell_type": "code",
   "execution_count": 68,
   "metadata": {},
   "outputs": [],
   "source": [
    "def pivotear_df(interactions, matrix_columns):\n",
    "    return pd.pivot_table(interactions[matrix_columns], index=matrix_columns[0], columns=matrix_columns[1], values=matrix_columns[2])"
   ]
  },
  {
   "cell_type": "code",
   "execution_count": 20,
   "metadata": {
    "scrolled": false
   },
   "outputs": [
    {
     "name": "stdout",
     "output_type": "stream",
     "text": [
      "Wall time: 7min 52s\n"
     ]
    },
    {
     "data": {
      "text/html": [
       "<div>\n",
       "<style scoped>\n",
       "    .dataframe tbody tr th:only-of-type {\n",
       "        vertical-align: middle;\n",
       "    }\n",
       "\n",
       "    .dataframe tbody tr th {\n",
       "        vertical-align: top;\n",
       "    }\n",
       "\n",
       "    .dataframe thead th {\n",
       "        text-align: right;\n",
       "    }\n",
       "</style>\n",
       "<table border=\"1\" class=\"dataframe\">\n",
       "  <thead>\n",
       "    <tr style=\"text-align: right;\">\n",
       "      <th>content_id</th>\n",
       "      <th>0.0</th>\n",
       "      <th>1.0</th>\n",
       "      <th>3.0</th>\n",
       "      <th>6.0</th>\n",
       "      <th>7.0</th>\n",
       "      <th>8.0</th>\n",
       "      <th>9.0</th>\n",
       "      <th>10.0</th>\n",
       "      <th>11.0</th>\n",
       "      <th>12.0</th>\n",
       "      <th>...</th>\n",
       "      <th>4357.0</th>\n",
       "      <th>4358.0</th>\n",
       "      <th>4359.0</th>\n",
       "      <th>4360.0</th>\n",
       "      <th>4361.0</th>\n",
       "      <th>4362.0</th>\n",
       "      <th>4363.0</th>\n",
       "      <th>4364.0</th>\n",
       "      <th>4365.0</th>\n",
       "      <th>4366.0</th>\n",
       "    </tr>\n",
       "    <tr>\n",
       "      <th>account_id</th>\n",
       "      <th></th>\n",
       "      <th></th>\n",
       "      <th></th>\n",
       "      <th></th>\n",
       "      <th></th>\n",
       "      <th></th>\n",
       "      <th></th>\n",
       "      <th></th>\n",
       "      <th></th>\n",
       "      <th></th>\n",
       "      <th></th>\n",
       "      <th></th>\n",
       "      <th></th>\n",
       "      <th></th>\n",
       "      <th></th>\n",
       "      <th></th>\n",
       "      <th></th>\n",
       "      <th></th>\n",
       "      <th></th>\n",
       "      <th></th>\n",
       "      <th></th>\n",
       "    </tr>\n",
       "  </thead>\n",
       "  <tbody>\n",
       "    <tr>\n",
       "      <th>0</th>\n",
       "      <td>NaN</td>\n",
       "      <td>NaN</td>\n",
       "      <td>NaN</td>\n",
       "      <td>NaN</td>\n",
       "      <td>NaN</td>\n",
       "      <td>NaN</td>\n",
       "      <td>NaN</td>\n",
       "      <td>NaN</td>\n",
       "      <td>NaN</td>\n",
       "      <td>NaN</td>\n",
       "      <td>...</td>\n",
       "      <td>NaN</td>\n",
       "      <td>NaN</td>\n",
       "      <td>NaN</td>\n",
       "      <td>NaN</td>\n",
       "      <td>NaN</td>\n",
       "      <td>NaN</td>\n",
       "      <td>NaN</td>\n",
       "      <td>NaN</td>\n",
       "      <td>NaN</td>\n",
       "      <td>NaN</td>\n",
       "    </tr>\n",
       "    <tr>\n",
       "      <th>1</th>\n",
       "      <td>NaN</td>\n",
       "      <td>NaN</td>\n",
       "      <td>NaN</td>\n",
       "      <td>NaN</td>\n",
       "      <td>NaN</td>\n",
       "      <td>NaN</td>\n",
       "      <td>NaN</td>\n",
       "      <td>NaN</td>\n",
       "      <td>NaN</td>\n",
       "      <td>NaN</td>\n",
       "      <td>...</td>\n",
       "      <td>NaN</td>\n",
       "      <td>NaN</td>\n",
       "      <td>NaN</td>\n",
       "      <td>NaN</td>\n",
       "      <td>NaN</td>\n",
       "      <td>NaN</td>\n",
       "      <td>NaN</td>\n",
       "      <td>NaN</td>\n",
       "      <td>NaN</td>\n",
       "      <td>NaN</td>\n",
       "    </tr>\n",
       "    <tr>\n",
       "      <th>2</th>\n",
       "      <td>NaN</td>\n",
       "      <td>NaN</td>\n",
       "      <td>NaN</td>\n",
       "      <td>1.0</td>\n",
       "      <td>NaN</td>\n",
       "      <td>NaN</td>\n",
       "      <td>NaN</td>\n",
       "      <td>NaN</td>\n",
       "      <td>NaN</td>\n",
       "      <td>NaN</td>\n",
       "      <td>...</td>\n",
       "      <td>NaN</td>\n",
       "      <td>NaN</td>\n",
       "      <td>NaN</td>\n",
       "      <td>NaN</td>\n",
       "      <td>NaN</td>\n",
       "      <td>NaN</td>\n",
       "      <td>NaN</td>\n",
       "      <td>NaN</td>\n",
       "      <td>NaN</td>\n",
       "      <td>NaN</td>\n",
       "    </tr>\n",
       "    <tr>\n",
       "      <th>3</th>\n",
       "      <td>NaN</td>\n",
       "      <td>NaN</td>\n",
       "      <td>NaN</td>\n",
       "      <td>NaN</td>\n",
       "      <td>NaN</td>\n",
       "      <td>NaN</td>\n",
       "      <td>NaN</td>\n",
       "      <td>NaN</td>\n",
       "      <td>NaN</td>\n",
       "      <td>NaN</td>\n",
       "      <td>...</td>\n",
       "      <td>NaN</td>\n",
       "      <td>NaN</td>\n",
       "      <td>NaN</td>\n",
       "      <td>NaN</td>\n",
       "      <td>NaN</td>\n",
       "      <td>NaN</td>\n",
       "      <td>NaN</td>\n",
       "      <td>NaN</td>\n",
       "      <td>NaN</td>\n",
       "      <td>NaN</td>\n",
       "    </tr>\n",
       "    <tr>\n",
       "      <th>4</th>\n",
       "      <td>NaN</td>\n",
       "      <td>NaN</td>\n",
       "      <td>NaN</td>\n",
       "      <td>NaN</td>\n",
       "      <td>NaN</td>\n",
       "      <td>NaN</td>\n",
       "      <td>NaN</td>\n",
       "      <td>NaN</td>\n",
       "      <td>NaN</td>\n",
       "      <td>NaN</td>\n",
       "      <td>...</td>\n",
       "      <td>NaN</td>\n",
       "      <td>NaN</td>\n",
       "      <td>NaN</td>\n",
       "      <td>NaN</td>\n",
       "      <td>NaN</td>\n",
       "      <td>NaN</td>\n",
       "      <td>NaN</td>\n",
       "      <td>NaN</td>\n",
       "      <td>NaN</td>\n",
       "      <td>NaN</td>\n",
       "    </tr>\n",
       "  </tbody>\n",
       "</table>\n",
       "<p>5 rows × 3688 columns</p>\n",
       "</div>"
      ],
      "text/plain": [
       "content_id  0.0     1.0     3.0     6.0     7.0     8.0     9.0     10.0    \\\n",
       "account_id                                                                   \n",
       "0              NaN     NaN     NaN     NaN     NaN     NaN     NaN     NaN   \n",
       "1              NaN     NaN     NaN     NaN     NaN     NaN     NaN     NaN   \n",
       "2              NaN     NaN     NaN     1.0     NaN     NaN     NaN     NaN   \n",
       "3              NaN     NaN     NaN     NaN     NaN     NaN     NaN     NaN   \n",
       "4              NaN     NaN     NaN     NaN     NaN     NaN     NaN     NaN   \n",
       "\n",
       "content_id  11.0    12.0    ...  4357.0  4358.0  4359.0  4360.0  4361.0  \\\n",
       "account_id                  ...                                           \n",
       "0              NaN     NaN  ...     NaN     NaN     NaN     NaN     NaN   \n",
       "1              NaN     NaN  ...     NaN     NaN     NaN     NaN     NaN   \n",
       "2              NaN     NaN  ...     NaN     NaN     NaN     NaN     NaN   \n",
       "3              NaN     NaN  ...     NaN     NaN     NaN     NaN     NaN   \n",
       "4              NaN     NaN  ...     NaN     NaN     NaN     NaN     NaN   \n",
       "\n",
       "content_id  4362.0  4363.0  4364.0  4365.0  4366.0  \n",
       "account_id                                          \n",
       "0              NaN     NaN     NaN     NaN     NaN  \n",
       "1              NaN     NaN     NaN     NaN     NaN  \n",
       "2              NaN     NaN     NaN     NaN     NaN  \n",
       "3              NaN     NaN     NaN     NaN     NaN  \n",
       "4              NaN     NaN     NaN     NaN     NaN  \n",
       "\n",
       "[5 rows x 3688 columns]"
      ]
     },
     "execution_count": 20,
     "metadata": {},
     "output_type": "execute_result"
    }
   ],
   "source": [
    "%%time\n",
    "interactions_matrix_1 = pivotear_df(interactions_1, matrix_columns_1)\n",
    "interactions_matrix_1.head() "
   ]
  },
  {
   "cell_type": "code",
   "execution_count": 69,
   "metadata": {},
   "outputs": [
    {
     "name": "stdout",
     "output_type": "stream",
     "text": [
      "Wall time: 16min\n"
     ]
    }
   ],
   "source": [
    "%%time\n",
    "interactions_matrix_2 = pivotear_df(interactions_2, matrix_columns_2)"
   ]
  },
  {
   "cell_type": "code",
   "execution_count": 78,
   "metadata": {},
   "outputs": [
    {
     "name": "stdout",
     "output_type": "stream",
     "text": [
      "Wall time: 7min 43s\n"
     ]
    }
   ],
   "source": [
    "%%time\n",
    "interactions_matrix_3 = pivotear_df(interactions_3, matrix_columns_3)"
   ]
  },
  {
   "cell_type": "code",
   "execution_count": null,
   "metadata": {},
   "outputs": [],
   "source": [
    "%%time\n",
    "interactions_matrix_4 = pivotear_df(interactions_4, matrix_columns_4)"
   ]
  },
  {
   "cell_type": "code",
   "execution_count": 166,
   "metadata": {},
   "outputs": [
    {
     "name": "stdout",
     "output_type": "stream",
     "text": [
      "Wall time: 15min 2s\n"
     ]
    }
   ],
   "source": [
    "%%time\n",
    "interactions_matrix_5 = pivotear_df(interactions_5, matrix_columns_5)"
   ]
  },
  {
   "cell_type": "code",
   "execution_count": 21,
   "metadata": {
    "colab": {
     "base_uri": "https://localhost:8080/",
     "height": 218
    },
    "id": "6S9MOBNPOUdU",
    "outputId": "3d165cee-cea7-4557-df1a-52ba3fac19f7"
   },
   "outputs": [],
   "source": [
    "# %%time\n",
    "# tarda 15 minutos\n",
    "# interactions_matrix = pd.pivot(index=\"account_id\", columns=\"content_id\", values=\"rating\")\n",
    "# interactions_matrix_1 = pd.pivot_table(interactions_1[[\"account_id\",\"content_id\", \"rating_1\"]], index='account_id', columns='content_id', values='rating_1')\n",
    "# interactions_matrix_1.head() "
   ]
  },
  {
   "cell_type": "markdown",
   "metadata": {
    "id": "UI8cSKapP39n"
   },
   "source": [
    "Completo los NaN con ceros"
   ]
  },
  {
   "cell_type": "code",
   "execution_count": 22,
   "metadata": {
    "colab": {
     "base_uri": "https://localhost:8080/",
     "height": 183
    },
    "id": "YSBftbREP2B3",
    "outputId": "194cfbef-4647-4d4f-d3cb-345cfcce58ee",
    "scrolled": true
   },
   "outputs": [
    {
     "name": "stdout",
     "output_type": "stream",
     "text": [
      "Wall time: 49.6 s\n"
     ]
    },
    {
     "data": {
      "text/html": [
       "<div>\n",
       "<style scoped>\n",
       "    .dataframe tbody tr th:only-of-type {\n",
       "        vertical-align: middle;\n",
       "    }\n",
       "\n",
       "    .dataframe tbody tr th {\n",
       "        vertical-align: top;\n",
       "    }\n",
       "\n",
       "    .dataframe thead th {\n",
       "        text-align: right;\n",
       "    }\n",
       "</style>\n",
       "<table border=\"1\" class=\"dataframe\">\n",
       "  <thead>\n",
       "    <tr style=\"text-align: right;\">\n",
       "      <th>content_id</th>\n",
       "      <th>0.0</th>\n",
       "      <th>1.0</th>\n",
       "      <th>3.0</th>\n",
       "      <th>6.0</th>\n",
       "      <th>7.0</th>\n",
       "      <th>8.0</th>\n",
       "      <th>9.0</th>\n",
       "      <th>10.0</th>\n",
       "      <th>11.0</th>\n",
       "      <th>12.0</th>\n",
       "      <th>...</th>\n",
       "      <th>4357.0</th>\n",
       "      <th>4358.0</th>\n",
       "      <th>4359.0</th>\n",
       "      <th>4360.0</th>\n",
       "      <th>4361.0</th>\n",
       "      <th>4362.0</th>\n",
       "      <th>4363.0</th>\n",
       "      <th>4364.0</th>\n",
       "      <th>4365.0</th>\n",
       "      <th>4366.0</th>\n",
       "    </tr>\n",
       "    <tr>\n",
       "      <th>account_id</th>\n",
       "      <th></th>\n",
       "      <th></th>\n",
       "      <th></th>\n",
       "      <th></th>\n",
       "      <th></th>\n",
       "      <th></th>\n",
       "      <th></th>\n",
       "      <th></th>\n",
       "      <th></th>\n",
       "      <th></th>\n",
       "      <th></th>\n",
       "      <th></th>\n",
       "      <th></th>\n",
       "      <th></th>\n",
       "      <th></th>\n",
       "      <th></th>\n",
       "      <th></th>\n",
       "      <th></th>\n",
       "      <th></th>\n",
       "      <th></th>\n",
       "      <th></th>\n",
       "    </tr>\n",
       "  </thead>\n",
       "  <tbody>\n",
       "    <tr>\n",
       "      <th>0</th>\n",
       "      <td>0.0</td>\n",
       "      <td>0.0</td>\n",
       "      <td>0.0</td>\n",
       "      <td>0.0</td>\n",
       "      <td>0.0</td>\n",
       "      <td>0.0</td>\n",
       "      <td>0.0</td>\n",
       "      <td>0.0</td>\n",
       "      <td>0.0</td>\n",
       "      <td>0.0</td>\n",
       "      <td>...</td>\n",
       "      <td>0.0</td>\n",
       "      <td>0.0</td>\n",
       "      <td>0.0</td>\n",
       "      <td>0.0</td>\n",
       "      <td>0.0</td>\n",
       "      <td>0.0</td>\n",
       "      <td>0.0</td>\n",
       "      <td>0.0</td>\n",
       "      <td>0.0</td>\n",
       "      <td>0.0</td>\n",
       "    </tr>\n",
       "    <tr>\n",
       "      <th>1</th>\n",
       "      <td>0.0</td>\n",
       "      <td>0.0</td>\n",
       "      <td>0.0</td>\n",
       "      <td>0.0</td>\n",
       "      <td>0.0</td>\n",
       "      <td>0.0</td>\n",
       "      <td>0.0</td>\n",
       "      <td>0.0</td>\n",
       "      <td>0.0</td>\n",
       "      <td>0.0</td>\n",
       "      <td>...</td>\n",
       "      <td>0.0</td>\n",
       "      <td>0.0</td>\n",
       "      <td>0.0</td>\n",
       "      <td>0.0</td>\n",
       "      <td>0.0</td>\n",
       "      <td>0.0</td>\n",
       "      <td>0.0</td>\n",
       "      <td>0.0</td>\n",
       "      <td>0.0</td>\n",
       "      <td>0.0</td>\n",
       "    </tr>\n",
       "    <tr>\n",
       "      <th>2</th>\n",
       "      <td>0.0</td>\n",
       "      <td>0.0</td>\n",
       "      <td>0.0</td>\n",
       "      <td>1.0</td>\n",
       "      <td>0.0</td>\n",
       "      <td>0.0</td>\n",
       "      <td>0.0</td>\n",
       "      <td>0.0</td>\n",
       "      <td>0.0</td>\n",
       "      <td>0.0</td>\n",
       "      <td>...</td>\n",
       "      <td>0.0</td>\n",
       "      <td>0.0</td>\n",
       "      <td>0.0</td>\n",
       "      <td>0.0</td>\n",
       "      <td>0.0</td>\n",
       "      <td>0.0</td>\n",
       "      <td>0.0</td>\n",
       "      <td>0.0</td>\n",
       "      <td>0.0</td>\n",
       "      <td>0.0</td>\n",
       "    </tr>\n",
       "    <tr>\n",
       "      <th>3</th>\n",
       "      <td>0.0</td>\n",
       "      <td>0.0</td>\n",
       "      <td>0.0</td>\n",
       "      <td>0.0</td>\n",
       "      <td>0.0</td>\n",
       "      <td>0.0</td>\n",
       "      <td>0.0</td>\n",
       "      <td>0.0</td>\n",
       "      <td>0.0</td>\n",
       "      <td>0.0</td>\n",
       "      <td>...</td>\n",
       "      <td>0.0</td>\n",
       "      <td>0.0</td>\n",
       "      <td>0.0</td>\n",
       "      <td>0.0</td>\n",
       "      <td>0.0</td>\n",
       "      <td>0.0</td>\n",
       "      <td>0.0</td>\n",
       "      <td>0.0</td>\n",
       "      <td>0.0</td>\n",
       "      <td>0.0</td>\n",
       "    </tr>\n",
       "    <tr>\n",
       "      <th>4</th>\n",
       "      <td>0.0</td>\n",
       "      <td>0.0</td>\n",
       "      <td>0.0</td>\n",
       "      <td>0.0</td>\n",
       "      <td>0.0</td>\n",
       "      <td>0.0</td>\n",
       "      <td>0.0</td>\n",
       "      <td>0.0</td>\n",
       "      <td>0.0</td>\n",
       "      <td>0.0</td>\n",
       "      <td>...</td>\n",
       "      <td>0.0</td>\n",
       "      <td>0.0</td>\n",
       "      <td>0.0</td>\n",
       "      <td>0.0</td>\n",
       "      <td>0.0</td>\n",
       "      <td>0.0</td>\n",
       "      <td>0.0</td>\n",
       "      <td>0.0</td>\n",
       "      <td>0.0</td>\n",
       "      <td>0.0</td>\n",
       "    </tr>\n",
       "  </tbody>\n",
       "</table>\n",
       "<p>5 rows × 3688 columns</p>\n",
       "</div>"
      ],
      "text/plain": [
       "content_id  0.0     1.0     3.0     6.0     7.0     8.0     9.0     10.0    \\\n",
       "account_id                                                                   \n",
       "0              0.0     0.0     0.0     0.0     0.0     0.0     0.0     0.0   \n",
       "1              0.0     0.0     0.0     0.0     0.0     0.0     0.0     0.0   \n",
       "2              0.0     0.0     0.0     1.0     0.0     0.0     0.0     0.0   \n",
       "3              0.0     0.0     0.0     0.0     0.0     0.0     0.0     0.0   \n",
       "4              0.0     0.0     0.0     0.0     0.0     0.0     0.0     0.0   \n",
       "\n",
       "content_id  11.0    12.0    ...  4357.0  4358.0  4359.0  4360.0  4361.0  \\\n",
       "account_id                  ...                                           \n",
       "0              0.0     0.0  ...     0.0     0.0     0.0     0.0     0.0   \n",
       "1              0.0     0.0  ...     0.0     0.0     0.0     0.0     0.0   \n",
       "2              0.0     0.0  ...     0.0     0.0     0.0     0.0     0.0   \n",
       "3              0.0     0.0  ...     0.0     0.0     0.0     0.0     0.0   \n",
       "4              0.0     0.0  ...     0.0     0.0     0.0     0.0     0.0   \n",
       "\n",
       "content_id  4362.0  4363.0  4364.0  4365.0  4366.0  \n",
       "account_id                                          \n",
       "0              0.0     0.0     0.0     0.0     0.0  \n",
       "1              0.0     0.0     0.0     0.0     0.0  \n",
       "2              0.0     0.0     0.0     0.0     0.0  \n",
       "3              0.0     0.0     0.0     0.0     0.0  \n",
       "4              0.0     0.0     0.0     0.0     0.0  \n",
       "\n",
       "[5 rows x 3688 columns]"
      ]
     },
     "execution_count": 22,
     "metadata": {},
     "output_type": "execute_result"
    }
   ],
   "source": [
    "%%time\n",
    "interactions_matrix_1 = interactions_matrix_1.fillna(0)\n",
    "interactions_matrix_1.head()"
   ]
  },
  {
   "cell_type": "code",
   "execution_count": 70,
   "metadata": {},
   "outputs": [
    {
     "name": "stdout",
     "output_type": "stream",
     "text": [
      "Wall time: 5.68 s\n"
     ]
    }
   ],
   "source": [
    "%%time\n",
    "interactions_matrix_2 = interactions_matrix_2.fillna(0)"
   ]
  },
  {
   "cell_type": "code",
   "execution_count": 79,
   "metadata": {},
   "outputs": [
    {
     "name": "stdout",
     "output_type": "stream",
     "text": [
      "Wall time: 4.26 s\n",
      "Compiler : 167 ms\n"
     ]
    }
   ],
   "source": [
    "%%time\n",
    "interactions_matrix_3 = interactions_matrix_3.fillna(0)"
   ]
  },
  {
   "cell_type": "code",
   "execution_count": null,
   "metadata": {},
   "outputs": [],
   "source": [
    "%%time\n",
    "interactions_matrix_4 = interactions_matrix_4.fillna(0)"
   ]
  },
  {
   "cell_type": "code",
   "execution_count": 167,
   "metadata": {},
   "outputs": [
    {
     "name": "stdout",
     "output_type": "stream",
     "text": [
      "Wall time: 4min 40s\n",
      "Parser   : 316 ms\n"
     ]
    }
   ],
   "source": [
    "%%time\n",
    "interactions_matrix_5 = interactions_matrix_5.fillna(0)"
   ]
  },
  {
   "cell_type": "markdown",
   "metadata": {
    "id": "tIxcJFQJQFAi"
   },
   "source": [
    "¿Cuántas filas y columnas tiene la matriz de interacción?"
   ]
  },
  {
   "cell_type": "code",
   "execution_count": 303,
   "metadata": {
    "id": "KmkX0OGIQENW"
   },
   "outputs": [
    {
     "name": "stdout",
     "output_type": "stream",
     "text": [
      "Matriz 1 tiene : 95758 filas y 3688 columnas\n",
      "Matriz 1 tiene : 95758 filas y 3688 columnas\n"
     ]
    }
   ],
   "source": [
    "print(f\"Matriz 1 tiene : {interactions_matrix_1.shape[0]} filas y {interactions_matrix_1.shape[1]} columnas\")\n",
    "print(f\"Matriz 2 tiene : {interactions_matrix_2.shape[0]} filas y {interactions_matrix_2.shape[1]} columnas\")\n",
    "print(f\"Matriz 3 tiene : {interactions_matrix_3.shape[0]} filas y {interactions_matrix_3.shape[1]} columnas\")\n",
    "print(f\"Matriz 4 tiene : {interactions_matrix_4.shape[0]} filas y {interactions_matrix_4.shape[1]} columnas\")\n",
    "print(f\"Matriz 5 tiene : {interactions_matrix_5.shape[0]} filas y {interactions_matrix_5.shape[1]} columnas\")"
   ]
  },
  {
   "cell_type": "markdown",
   "metadata": {
    "id": "iClfO9gFREN8"
   },
   "source": [
    "Generemos diccionarios de usuarios y items"
   ]
  },
  {
   "cell_type": "code",
   "execution_count": 23,
   "metadata": {
    "id": "bA6K6SlXRBqW"
   },
   "outputs": [
    {
     "name": "stdout",
     "output_type": "stream",
     "text": [
      "Wall time: 412 ms\n",
      "Parser   : 365 ms\n"
     ]
    }
   ],
   "source": [
    "%%time\n",
    "# user_id = list(interactions_matrix_1.index)\n",
    "user_id = interactions_matrix_1.index\n",
    "user_dict = {}\n",
    "counter = 0 \n",
    "for i in user_id:\n",
    "    user_dict[i] = counter\n",
    "    counter += 1"
   ]
  },
  {
   "cell_type": "code",
   "execution_count": 24,
   "metadata": {
    "id": "fHpWWcWNRKA1"
   },
   "outputs": [
    {
     "name": "stdout",
     "output_type": "stream",
     "text": [
      "Wall time: 24 ms\n"
     ]
    }
   ],
   "source": [
    "%%time\n",
    "# item_id = list(interactions_matrix_1.columns)\n",
    "item_id = interactions_matrix_1.columns\n",
    "item_dict = {}\n",
    "counter = 0 \n",
    "for i in item_id:\n",
    "    item_dict[i] = counter\n",
    "    counter += 1"
   ]
  },
  {
   "cell_type": "markdown",
   "metadata": {
    "id": "RdlYwN5hQOd1"
   },
   "source": [
    "Transformamos la matriz a csr matrix (compressed sparse row)"
   ]
  },
  {
   "cell_type": "code",
   "execution_count": 25,
   "metadata": {
    "id": "mkeOgsdBQNd7"
   },
   "outputs": [
    {
     "name": "stdout",
     "output_type": "stream",
     "text": [
      "Wall time: 8.72 s\n",
      "Parser   : 140 ms\n"
     ]
    }
   ],
   "source": [
    "%%time\n",
    "interactions_matrix_csr_1 = csr_matrix(interactions_matrix_1.values)"
   ]
  },
  {
   "cell_type": "code",
   "execution_count": 71,
   "metadata": {},
   "outputs": [
    {
     "name": "stdout",
     "output_type": "stream",
     "text": [
      "Wall time: 8.12 s\n"
     ]
    }
   ],
   "source": [
    "%%time\n",
    "interactions_matrix_csr_2 = csr_matrix(interactions_matrix_2.values)"
   ]
  },
  {
   "cell_type": "code",
   "execution_count": 80,
   "metadata": {},
   "outputs": [
    {
     "name": "stdout",
     "output_type": "stream",
     "text": [
      "Wall time: 8.83 s\n"
     ]
    }
   ],
   "source": [
    "%%time\n",
    "interactions_matrix_csr_3 = csr_matrix(interactions_matrix_3.values)"
   ]
  },
  {
   "cell_type": "code",
   "execution_count": null,
   "metadata": {},
   "outputs": [],
   "source": [
    "%%time\n",
    "interactions_matrix_csr_4 = csr_matrix(interactions_matrix_4.values)"
   ]
  },
  {
   "cell_type": "code",
   "execution_count": 128,
   "metadata": {},
   "outputs": [
    {
     "name": "stdout",
     "output_type": "stream",
     "text": [
      "Wall time: 9.64 s\n",
      "Parser   : 232 ms\n"
     ]
    }
   ],
   "source": [
    "%%time\n",
    "interactions_matrix_csr_5 = csr_matrix(interactions_matrix_5.values)"
   ]
  },
  {
   "cell_type": "code",
   "execution_count": 248,
   "metadata": {},
   "outputs": [
    {
     "data": {
      "text/plain": [
       "(95758, 3688)"
      ]
     },
     "execution_count": 248,
     "metadata": {},
     "output_type": "execute_result"
    }
   ],
   "source": [
    "print(f\"Matriz 1 : {interactions_matrix_csr_1.shape}\")\n",
    "print(f\"Matriz 2 : {interactions_matrix_csr_2.shape}\")\n",
    "print(f\"Matriz 3 : {interactions_matrix_csr_3.shape}\")\n",
    "print(f\"Matriz 4 : {interactions_matrix_csr_4.shape}\")\n",
    "print(f\"Matriz 5 : {interactions_matrix_csr_5.shape}\")"
   ]
  },
  {
   "cell_type": "markdown",
   "metadata": {
    "id": "bChUAt06RpBZ"
   },
   "source": [
    "# Modelo"
   ]
  },
  {
   "cell_type": "markdown",
   "metadata": {
    "id": "neBgWTZASS5w"
   },
   "source": [
    "Utilizaremos la librería LFM (light fm) para realizar un modelo de recomendación."
   ]
  },
  {
   "cell_type": "code",
   "execution_count": 249,
   "metadata": {},
   "outputs": [],
   "source": [
    "# model = LightFM(random_state=0,\n",
    "#                 loss='warp',\n",
    "#                 learning_rate=0.03,\n",
    "#                 no_components=100)"
   ]
  },
  {
   "cell_type": "markdown",
   "metadata": {
    "id": "k9o2UQSGSc_9"
   },
   "source": [
    "Entrenar el modelo con la matriz csr por 10 epochs:"
   ]
  },
  {
   "cell_type": "code",
   "execution_count": 250,
   "metadata": {
    "id": "kM19q-KQSLuu"
   },
   "outputs": [
    {
     "name": "stdout",
     "output_type": "stream",
     "text": [
      "Wall time: 2min 12s\n",
      "Parser   : 289 ms\n"
     ]
    }
   ],
   "source": [
    "# %%time\n",
    "# model = model.fit(interactions_matrix_csr_1, epochs=10)"
   ]
  },
  {
   "cell_type": "markdown",
   "metadata": {
    "id": "6CaSM0XpUiRy"
   },
   "source": [
    "Probando el modelo para un usuario cualquiera"
   ]
  },
  {
   "cell_type": "code",
   "execution_count": 251,
   "metadata": {
    "id": "I5yfmcbxUkS2"
   },
   "outputs": [
    {
     "name": "stdout",
     "output_type": "stream",
     "text": [
      "Wall time: 418 ms\n",
      "Parser   : 350 ms\n"
     ]
    }
   ],
   "source": [
    "# %%time\n",
    "# user_x = user_dict[18]\n",
    "# n_users, n_items = interactions_matrix_1.shape\n",
    "# item_ids = np.arange(n_items)\n",
    "# #ACA GENERAMOS PREDICCIONES\n",
    "# preds = model.predict(user_ids=user_x, item_ids = item_ids)"
   ]
  },
  {
   "cell_type": "markdown",
   "metadata": {
    "id": "6B6bqmd3UvAJ"
   },
   "source": [
    "Este array que obtenemos son los scores que le da el modelo a cada item para el usuario 18. Podemos ordenarlo y obtener las mejores recomendaciones"
   ]
  },
  {
   "cell_type": "code",
   "execution_count": 254,
   "metadata": {
    "id": "TaSgFDXBUxDt"
   },
   "outputs": [],
   "source": [
    "# scores = pd.Series(preds)\n",
    "# scores.index = interactions_matrix_1.columns\n",
    "# # recomms_18 = list(pd.Series(scores.sort_values(ascending=False).index))[:10] #obtenemos las primeras 10\n",
    "# recomms_18 = pd.Series(scores.sort_values(ascending=False).index)[:10] #obtenemos las primeras 10"
   ]
  },
  {
   "cell_type": "code",
   "execution_count": 304,
   "metadata": {
    "id": "d0fWFge9U3TC"
   },
   "outputs": [],
   "source": [
    "# recomms_18"
   ]
  },
  {
   "cell_type": "markdown",
   "metadata": {
    "id": "Jjp1Ik5VVcja"
   },
   "source": [
    "Contenido no diponible a partir del 31-03-2021"
   ]
  },
  {
   "cell_type": "code",
   "execution_count": null,
   "metadata": {},
   "outputs": [],
   "source": [
    "# not_available_content_until15march = df_drop[df_drop['end_vod_date'] < datetime(year=2021, month=3, day=15)]\\\n",
    "#    ['content_id'].values\n",
    "\n",
    "# cold start\n",
    "# most_popular_content = train.groupby('content_id', as_index=False).agg({'account_id':'nunique'})\\\n",
    "  #  .sort_values(by='account_id', ascending=False)\n",
    "# most_popular = most_popular_content['content_id'][0:40].values\n",
    "# most_popular = [x for x in most_popular if x not in not_available_content_until15march]\n",
    "\n",
    "\n"
   ]
  },
  {
   "cell_type": "code",
   "execution_count": 60,
   "metadata": {},
   "outputs": [
    {
     "name": "stdout",
     "output_type": "stream",
     "text": [
      "Cantidad de contenido no disponible a partir de 31-03-2021: 822\n"
     ]
    }
   ],
   "source": [
    "# Me quedo con content_id y su maxima end_vod_date\n",
    "not_available_content_df = df[['content_id', 'end_vod_date']].groupby('content_id', as_index=False).agg({'end_vod_date': 'max'})\n",
    "not_available_content = not_available_content_df[not_available_content_df['end_vod_date'] < datetime(year=2021, month=3, day=31).date()]['content_id'].values\n",
    "\n",
    "print(f\"Cantidad de contenido no disponible a partir de 31-03-2021: {len(not_available_content)}\")"
   ]
  },
  {
   "cell_type": "code",
   "execution_count": null,
   "metadata": {},
   "outputs": [],
   "source": []
  },
  {
   "cell_type": "markdown",
   "metadata": {},
   "source": [
    "Popularidad de contenido para cold start"
   ]
  },
  {
   "cell_type": "code",
   "execution_count": 58,
   "metadata": {},
   "outputs": [],
   "source": [
    "popularity_df = train.groupby(\"content_id\", as_index=False).agg({\"account_id\":\"nunique\"})\\\n",
    "    .sort_values(by=\"account_id\", ascending=False) \n",
    "\n",
    "most_popular = popularity_df['content_id'][0:50].values\n",
    "most_popular = [x for x in most_popular if x not in not_available_content]\n",
    "\n",
    "popularity_df.head(10).content_id.values"
   ]
  },
  {
   "cell_type": "code",
   "execution_count": 28,
   "metadata": {
    "id": "0NHSr9LZVgly"
   },
   "outputs": [],
   "source": [
    "# not_available_content_until15march = df[df['end_vod_date'] < datetime(year=2021, month=3, day=15)] \\\n",
    "#     ['content_id'].values\n",
    "\n",
    "# popularity_df = train.groupby(\"content_id\", as_index=False).agg({\"account_id\":\"nunique\"}) \\ \n",
    "#     .sort_values(by=\"account_id\", ascending=False)\n",
    "\n",
    "# popularity_df.columns=[\"content_id\", \"popularity\"]\n",
    "# popularity_df.head()\n",
    "\n",
    "# most_popular = popularity_df['content_id'][0:50].values\n",
    "# most_popular = [x for x in most_popular if x not in not_available_content_until15march]"
   ]
  },
  {
   "cell_type": "code",
   "execution_count": 29,
   "metadata": {
    "id": "UTK2etffV8Yt",
    "scrolled": true
   },
   "outputs": [
    {
     "data": {
      "text/plain": [
       "array([3806., 3900., 2040., 3598., 3381., 3690., 3210., 3550., 3384.,\n",
       "       3711.])"
      ]
     },
     "execution_count": 29,
     "metadata": {},
     "output_type": "execute_result"
    }
   ],
   "source": [
    "# popularity_df.head(10).content_id.values"
   ]
  },
  {
   "cell_type": "markdown",
   "metadata": {
    "id": "w0UH0q67WQPl"
   },
   "source": [
    "Creando nuestra función de recomendación"
   ]
  },
  {
   "cell_type": "code",
   "execution_count": 61,
   "metadata": {
    "id": "1rY7yLeLWX3s"
   },
   "outputs": [],
   "source": [
    "def recomm(interactions_matrix, interactions_matrix_csr, not_available_content, most_popular):\n",
    "    \n",
    "    # Creo el modelo\n",
    "    model = LightFM(random_state=0,\n",
    "                loss='warp',\n",
    "                learning_rate=0.03,\n",
    "                no_components=100)\n",
    "    \n",
    "    # Entreno el modelo\n",
    "    model = model.fit(interactions_matrix_csr, epochs=10)\n",
    "    \n",
    "    \n",
    "    #definimos dict donde vamos a ir almacenando las recomendaciones\n",
    "    recomms_dict = {\n",
    "        'user_id': [],\n",
    "        'recomms': [],\n",
    "        'cold': []\n",
    "    }\n",
    "\n",
    "    #obtenemos cantidad de usuarios y cantidad de items\n",
    "    n_users, n_items = interactions_matrix.shape\n",
    "    item_ids = np.arange(n_items)\n",
    "\n",
    "    #por cada usuario del dataset completo, generamos recomendaciones\n",
    "    for user in tqdm(test.account_id.unique()): \n",
    "\n",
    "        # if user in list(interactions_matrix_1.index):\n",
    "        if user in interactions_matrix.index:\n",
    "\n",
    "            # Si el usuario esta en train, no es cold start. Usamos el modelo para recomendar\n",
    "            user_x = user_dict[user] #buscamos el indice del usuario en la matriz (transformamos id a indice)\n",
    "\n",
    "           \n",
    "            preds = model.predict(user_ids=user_x, item_ids = item_ids)\n",
    "\n",
    "            \n",
    "            scores = pd.Series(preds)\n",
    "            scores.index = interactions_matrix.columns\n",
    "            # scores = list(pd.Series(scores.sort_values(ascending=False).index))[:50]\n",
    "            scores = pd.Series(scores.sort_values(ascending=False).index)[:50]\n",
    "\n",
    "            # Obtener listado de contenidos vistos anteriormente por el usuario (en el set de train)\n",
    "            watched_contents = train[train.account_id == user].content_id.unique()\n",
    "\n",
    "            #COMPLETAR: Filtrar contenidos ya vistos y quedarse con los primeros 10\n",
    "            recomms = [x for x in scores if x not in watched_contents]\n",
    "            recomms = [x for x in recomms if x not in not_available_content]\n",
    "\n",
    "            # Guardamos las recomendaciones en el diccionario\n",
    "            recomms_dict['user_id'].append(user)\n",
    "            recomms_dict['recomms'].append(recomms[0:20])\n",
    "            recomms_dict['cold'].append(False)\n",
    "\n",
    "        # En este else trataremos a los usuarios que no están en la matriz (cold start)\n",
    "        else:\n",
    "            recomms_dict['user_id'].append(user)\n",
    "            # Les recomendamos contenido popular\n",
    "            # recomms_dict['recomms'].append(popularity_df.content_id.to_list())\n",
    "            recomms_dict['recomms'].append(most_popular)\n",
    "            recomms_dict['cold'].append(True)\n",
    "    return recomms_dict"
   ]
  },
  {
   "cell_type": "markdown",
   "metadata": {
    "id": "eI2p8EmEWfLH"
   },
   "source": [
    "Ya tenemos la función de recomendaciones. La probamos"
   ]
  },
  {
   "cell_type": "markdown",
   "metadata": {
    "id": "yyfXUwkBZUE1"
   },
   "source": [
    "# Ahora obtenemos las recomendaciones para todos los usuarios"
   ]
  },
  {
   "cell_type": "markdown",
   "metadata": {
    "id": "lyIWlFvXaJJ3"
   },
   "source": [
    "Primero comenzamos armando un listado de usuarios \"non cold\" a los cuales les daremos recomms personalizadas."
   ]
  },
  {
   "cell_type": "code",
   "execution_count": 31,
   "metadata": {
    "id": "F8-Ci763ZYja",
    "scrolled": true
   },
   "outputs": [
    {
     "name": "stdout",
     "output_type": "stream",
     "text": [
      "113873 95758\n"
     ]
    }
   ],
   "source": [
    "# Todos lo usuarios\n",
    "users = df.account_id.unique() \n",
    "# Usuarios no cold\n",
    "non_cold_users = train.account_id.unique()\n",
    "\n",
    "print(len(users), len(non_cold_users)) # 113881 99649"
   ]
  },
  {
   "cell_type": "code",
   "execution_count": 62,
   "metadata": {},
   "outputs": [
    {
     "name": "stderr",
     "output_type": "stream",
     "text": [
      "100%|███████████████████████████████████████████████████████████████████████████| 87623/87623 [04:02<00:00, 360.72it/s]\n"
     ]
    },
    {
     "name": "stdout",
     "output_type": "stream",
     "text": [
      "Wall time: 6min 2s\n"
     ]
    }
   ],
   "source": [
    "%%time\n",
    "recomms_dict_1 = recomm(interactions_matrix_1, interactions_matrix_csr_1, not_available_content, most_popular)"
   ]
  },
  {
   "cell_type": "code",
   "execution_count": 72,
   "metadata": {},
   "outputs": [
    {
     "name": "stderr",
     "output_type": "stream",
     "text": [
      "100%|███████████████████████████████████████████████████████████████████████████| 87623/87623 [04:28<00:00, 326.23it/s]"
     ]
    },
    {
     "name": "stdout",
     "output_type": "stream",
     "text": [
      "Wall time: 5min 16s\n"
     ]
    },
    {
     "name": "stderr",
     "output_type": "stream",
     "text": [
      "\n"
     ]
    }
   ],
   "source": [
    "%%time\n",
    "recomms_dict_2 = recomm(interactions_matrix_2, interactions_matrix_csr_2, not_available_content, most_popular)"
   ]
  },
  {
   "cell_type": "code",
   "execution_count": 81,
   "metadata": {},
   "outputs": [
    {
     "name": "stderr",
     "output_type": "stream",
     "text": [
      "100%|███████████████████████████████████████████████████████████████████████████| 87623/87623 [04:43<00:00, 309.30it/s]"
     ]
    },
    {
     "name": "stdout",
     "output_type": "stream",
     "text": [
      "Wall time: 5min 40s\n"
     ]
    },
    {
     "name": "stderr",
     "output_type": "stream",
     "text": [
      "\n"
     ]
    }
   ],
   "source": [
    "%%time\n",
    "recomms_dict_3 = recomm(interactions_matrix_3, interactions_matrix_csr_3, not_available_content, most_popular)"
   ]
  },
  {
   "cell_type": "code",
   "execution_count": null,
   "metadata": {},
   "outputs": [],
   "source": [
    "%%time\n",
    "recomms_dict_4 = recomm(interactions_matrix_4, interactions_matrix_csr_4, not_available_content, most_popular)"
   ]
  },
  {
   "cell_type": "code",
   "execution_count": 168,
   "metadata": {},
   "outputs": [
    {
     "name": "stderr",
     "output_type": "stream",
     "text": [
      "100%|███████████████████████████████████████████████████████████████████████████| 87623/87623 [05:27<00:00, 267.64it/s]"
     ]
    },
    {
     "name": "stdout",
     "output_type": "stream",
     "text": [
      "Wall time: 7min 6s\n",
      "Parser   : 372 ms\n"
     ]
    },
    {
     "name": "stderr",
     "output_type": "stream",
     "text": [
      "\n"
     ]
    }
   ],
   "source": [
    "%%time\n",
    "recomms_dict_5 = recomm(interactions_matrix_5, interactions_matrix_csr_5, not_available_content, most_popular)"
   ]
  },
  {
   "cell_type": "code",
   "execution_count": 286,
   "metadata": {
    "scrolled": true
   },
   "outputs": [
    {
     "name": "stderr",
     "output_type": "stream",
     "text": [
      "100%|████████████████████████████████████████████████████████████████████████████| 87623/87623 [19:40<00:00, 74.23it/s]\n"
     ]
    }
   ],
   "source": [
    "# %%time\n",
    "\n",
    "# #definimos dict donde vamos a ir almacenando las recomendaciones\n",
    "# recomms_dict = {\n",
    "#     'user_id': [],\n",
    "#     'recomms': [],\n",
    "#     'cold': []\n",
    "# }\n",
    "\n",
    "# #obtenemos cantidad de usuarios y cantidad de items\n",
    "# n_users, n_items = interactions_matrix_1.shape\n",
    "# item_ids = np.arange(n_items)\n",
    "\n",
    "# #por cada usuario del dataset completo, generamos recomendaciones\n",
    "# for user in tqdm(test.account_id.unique()): ### CUIDADO: USAR TEST - test.account_id.unique()\n",
    "    \n",
    "#     # if user in list(interactions_matrix_1.index):\n",
    "#     if user in interactions_matrix_1.index:\n",
    "      \n",
    "#         # Si el usuario esta en train, no es cold start. Usamos el modelo para recomendar\n",
    "#         user_x = user_dict[user] #buscamos el indice del usuario en la matriz (transformamos id a indice)\n",
    "\n",
    "#         #COMPLETAR: Generar las predicciones para el usuario x\n",
    "#         preds = model.predict(user_ids=user_x, item_ids = item_ids)\n",
    "\n",
    "#         #COMPLETAR: Basándose en el ejemplo anterior, ordenar las predicciones de menor a mayor y quedarse con 50.\n",
    "#         scores = pd.Series(preds)\n",
    "#         scores.index = interactions_matrix_1.columns\n",
    "#         # scores = list(pd.Series(scores.sort_values(ascending=False).index))[:50]\n",
    "#         scores = pd.Series(scores.sort_values(ascending=False).index)[:50]\n",
    "\n",
    "#         #COMPLETAR: Obtener listado de contenidos vistos anteriormente por el usuario (en el set de train)\n",
    "#         watched_contents = train[train.account_id == user].content_id.unique()\n",
    "\n",
    "#         #COMPLETAR: Filtrar contenidos ya vistos y quedarse con los primeros 10\n",
    "#         recomms = [x for x in scores if x not in watched_contents]\n",
    "#         recomms = [x for x in recomms if x not in not_available_content_until15march]\n",
    "\n",
    "#         # Guardamos las recomendaciones en el diccionario\n",
    "#         recomms_dict['user_id'].append(user)\n",
    "#         recomms_dict['recomms'].append(recomms[0:20])\n",
    "#         recomms_dict['cold'].append(False)\n",
    "    \n",
    "#     # En este else trataremos a los usuarios que no están en la matriz (cold start)\n",
    "#     else:\n",
    "#         recomms_dict['user_id'].append(user)\n",
    "#         # Les recomendamos contenido popular\n",
    "#         # recomms_dict['recomms'].append(popularity_df.content_id.to_list())\n",
    "#         recomms_dict['recomms'].append(most_popular)\n",
    "#         recomms_dict['cold'].append(True)"
   ]
  },
  {
   "cell_type": "markdown",
   "metadata": {
    "id": "dzKOA4pFbIg7"
   },
   "source": [
    "Ahora tenemos un diccionario de recomedaciones. Lo vamos a convertir en dataframe para poder manipularlo más fácil (como estamos acostumbrados)"
   ]
  },
  {
   "cell_type": "code",
   "execution_count": 63,
   "metadata": {
    "id": "JV-6-x_nbJ2M",
    "scrolled": true
   },
   "outputs": [
    {
     "name": "stdout",
     "output_type": "stream",
     "text": [
      "Wall time: 659 ms\n"
     ]
    },
    {
     "data": {
      "text/html": [
       "<div>\n",
       "<style scoped>\n",
       "    .dataframe tbody tr th:only-of-type {\n",
       "        vertical-align: middle;\n",
       "    }\n",
       "\n",
       "    .dataframe tbody tr th {\n",
       "        vertical-align: top;\n",
       "    }\n",
       "\n",
       "    .dataframe thead th {\n",
       "        text-align: right;\n",
       "    }\n",
       "</style>\n",
       "<table border=\"1\" class=\"dataframe\">\n",
       "  <thead>\n",
       "    <tr style=\"text-align: right;\">\n",
       "      <th></th>\n",
       "      <th>user_id</th>\n",
       "      <th>recomms</th>\n",
       "      <th>cold</th>\n",
       "    </tr>\n",
       "  </thead>\n",
       "  <tbody>\n",
       "    <tr>\n",
       "      <th>0</th>\n",
       "      <td>90627</td>\n",
       "      <td>[3806.0, 3900.0, 2040.0, 3598.0, 3381.0, 3690....</td>\n",
       "      <td>True</td>\n",
       "    </tr>\n",
       "    <tr>\n",
       "      <th>1</th>\n",
       "      <td>3387</td>\n",
       "      <td>[3806.0, 3900.0, 2040.0, 3598.0, 3381.0, 3690....</td>\n",
       "      <td>True</td>\n",
       "    </tr>\n",
       "    <tr>\n",
       "      <th>2</th>\n",
       "      <td>3388</td>\n",
       "      <td>[2040.0, 116.0, 97.0, 3752.0, 3716.0, 1399.0, ...</td>\n",
       "      <td>False</td>\n",
       "    </tr>\n",
       "    <tr>\n",
       "      <th>3</th>\n",
       "      <td>3389</td>\n",
       "      <td>[1020.0, 3806.0, 2815.0, 1582.0, 2091.0, 2178....</td>\n",
       "      <td>False</td>\n",
       "    </tr>\n",
       "    <tr>\n",
       "      <th>4</th>\n",
       "      <td>3393</td>\n",
       "      <td>[3572.0, 37.0, 1178.0, 36.0, 3292.0, 38.0, 338...</td>\n",
       "      <td>False</td>\n",
       "    </tr>\n",
       "  </tbody>\n",
       "</table>\n",
       "</div>"
      ],
      "text/plain": [
       "   user_id                                            recomms   cold\n",
       "0    90627  [3806.0, 3900.0, 2040.0, 3598.0, 3381.0, 3690....   True\n",
       "1     3387  [3806.0, 3900.0, 2040.0, 3598.0, 3381.0, 3690....   True\n",
       "2     3388  [2040.0, 116.0, 97.0, 3752.0, 3716.0, 1399.0, ...  False\n",
       "3     3389  [1020.0, 3806.0, 2815.0, 1582.0, 2091.0, 2178....  False\n",
       "4     3393  [3572.0, 37.0, 1178.0, 36.0, 3292.0, 38.0, 338...  False"
      ]
     },
     "execution_count": 63,
     "metadata": {},
     "output_type": "execute_result"
    }
   ],
   "source": [
    "%%time\n",
    "recomms_df_1 = pd.DataFrame(recomms_dict_1)\n",
    "recomms_df_1.head()"
   ]
  },
  {
   "cell_type": "code",
   "execution_count": 73,
   "metadata": {},
   "outputs": [
    {
     "name": "stdout",
     "output_type": "stream",
     "text": [
      "Wall time: 1.46 s\n"
     ]
    },
    {
     "data": {
      "text/html": [
       "<div>\n",
       "<style scoped>\n",
       "    .dataframe tbody tr th:only-of-type {\n",
       "        vertical-align: middle;\n",
       "    }\n",
       "\n",
       "    .dataframe tbody tr th {\n",
       "        vertical-align: top;\n",
       "    }\n",
       "\n",
       "    .dataframe thead th {\n",
       "        text-align: right;\n",
       "    }\n",
       "</style>\n",
       "<table border=\"1\" class=\"dataframe\">\n",
       "  <thead>\n",
       "    <tr style=\"text-align: right;\">\n",
       "      <th></th>\n",
       "      <th>user_id</th>\n",
       "      <th>recomms</th>\n",
       "      <th>cold</th>\n",
       "    </tr>\n",
       "  </thead>\n",
       "  <tbody>\n",
       "    <tr>\n",
       "      <th>0</th>\n",
       "      <td>90627</td>\n",
       "      <td>[3806.0, 3900.0, 2040.0, 3598.0, 3381.0, 3690....</td>\n",
       "      <td>True</td>\n",
       "    </tr>\n",
       "    <tr>\n",
       "      <th>1</th>\n",
       "      <td>3387</td>\n",
       "      <td>[3806.0, 3900.0, 2040.0, 3598.0, 3381.0, 3690....</td>\n",
       "      <td>True</td>\n",
       "    </tr>\n",
       "    <tr>\n",
       "      <th>2</th>\n",
       "      <td>3388</td>\n",
       "      <td>[3806.0, 2040.0, 116.0, 2815.0, 724.0, 3690.0,...</td>\n",
       "      <td>False</td>\n",
       "    </tr>\n",
       "    <tr>\n",
       "      <th>3</th>\n",
       "      <td>3389</td>\n",
       "      <td>[3806.0, 3900.0, 3210.0, 3550.0, 2040.0, 2827....</td>\n",
       "      <td>False</td>\n",
       "    </tr>\n",
       "    <tr>\n",
       "      <th>4</th>\n",
       "      <td>3393</td>\n",
       "      <td>[1178.0, 2815.0, 3806.0, 1500.0, 2972.0, 1449....</td>\n",
       "      <td>False</td>\n",
       "    </tr>\n",
       "  </tbody>\n",
       "</table>\n",
       "</div>"
      ],
      "text/plain": [
       "   user_id                                            recomms   cold\n",
       "0    90627  [3806.0, 3900.0, 2040.0, 3598.0, 3381.0, 3690....   True\n",
       "1     3387  [3806.0, 3900.0, 2040.0, 3598.0, 3381.0, 3690....   True\n",
       "2     3388  [3806.0, 2040.0, 116.0, 2815.0, 724.0, 3690.0,...  False\n",
       "3     3389  [3806.0, 3900.0, 3210.0, 3550.0, 2040.0, 2827....  False\n",
       "4     3393  [1178.0, 2815.0, 3806.0, 1500.0, 2972.0, 1449....  False"
      ]
     },
     "execution_count": 73,
     "metadata": {},
     "output_type": "execute_result"
    }
   ],
   "source": [
    "%%time\n",
    "recomms_df_2 = pd.DataFrame(recomms_dict_2)\n",
    "recomms_df_2.head()"
   ]
  },
  {
   "cell_type": "code",
   "execution_count": 82,
   "metadata": {},
   "outputs": [
    {
     "name": "stdout",
     "output_type": "stream",
     "text": [
      "Wall time: 187 ms\n",
      "Parser   : 538 ms\n"
     ]
    },
    {
     "data": {
      "text/html": [
       "<div>\n",
       "<style scoped>\n",
       "    .dataframe tbody tr th:only-of-type {\n",
       "        vertical-align: middle;\n",
       "    }\n",
       "\n",
       "    .dataframe tbody tr th {\n",
       "        vertical-align: top;\n",
       "    }\n",
       "\n",
       "    .dataframe thead th {\n",
       "        text-align: right;\n",
       "    }\n",
       "</style>\n",
       "<table border=\"1\" class=\"dataframe\">\n",
       "  <thead>\n",
       "    <tr style=\"text-align: right;\">\n",
       "      <th></th>\n",
       "      <th>user_id</th>\n",
       "      <th>recomms</th>\n",
       "      <th>cold</th>\n",
       "    </tr>\n",
       "  </thead>\n",
       "  <tbody>\n",
       "    <tr>\n",
       "      <th>0</th>\n",
       "      <td>90627</td>\n",
       "      <td>[3806.0, 3900.0, 2040.0, 3598.0, 3381.0, 3690....</td>\n",
       "      <td>True</td>\n",
       "    </tr>\n",
       "    <tr>\n",
       "      <th>1</th>\n",
       "      <td>3387</td>\n",
       "      <td>[3806.0, 3900.0, 2040.0, 3598.0, 3381.0, 3690....</td>\n",
       "      <td>True</td>\n",
       "    </tr>\n",
       "    <tr>\n",
       "      <th>2</th>\n",
       "      <td>3388</td>\n",
       "      <td>[3900.0, 2040.0, 2627.0, 116.0, 729.0, 3716.0,...</td>\n",
       "      <td>False</td>\n",
       "    </tr>\n",
       "    <tr>\n",
       "      <th>3</th>\n",
       "      <td>3389</td>\n",
       "      <td>[2040.0, 3806.0, 116.0, 3900.0, 97.0, 2178.0, ...</td>\n",
       "      <td>False</td>\n",
       "    </tr>\n",
       "    <tr>\n",
       "      <th>4</th>\n",
       "      <td>3393</td>\n",
       "      <td>[3806.0, 3900.0, 2160.0, 680.0, 1316.0, 1178.0...</td>\n",
       "      <td>False</td>\n",
       "    </tr>\n",
       "  </tbody>\n",
       "</table>\n",
       "</div>"
      ],
      "text/plain": [
       "   user_id                                            recomms   cold\n",
       "0    90627  [3806.0, 3900.0, 2040.0, 3598.0, 3381.0, 3690....   True\n",
       "1     3387  [3806.0, 3900.0, 2040.0, 3598.0, 3381.0, 3690....   True\n",
       "2     3388  [3900.0, 2040.0, 2627.0, 116.0, 729.0, 3716.0,...  False\n",
       "3     3389  [2040.0, 3806.0, 116.0, 3900.0, 97.0, 2178.0, ...  False\n",
       "4     3393  [3806.0, 3900.0, 2160.0, 680.0, 1316.0, 1178.0...  False"
      ]
     },
     "execution_count": 82,
     "metadata": {},
     "output_type": "execute_result"
    }
   ],
   "source": [
    "%%time\n",
    "recomms_df_3 = pd.DataFrame(recomms_dict_3)\n",
    "recomms_df_3.head()"
   ]
  },
  {
   "cell_type": "code",
   "execution_count": null,
   "metadata": {},
   "outputs": [],
   "source": [
    "%%time\n",
    "recomms_df_4 = pd.DataFrame(recomms_dict_4)\n",
    "recomms_df_4.head()"
   ]
  },
  {
   "cell_type": "code",
   "execution_count": 169,
   "metadata": {},
   "outputs": [
    {
     "name": "stdout",
     "output_type": "stream",
     "text": [
      "Wall time: 313 ms\n"
     ]
    },
    {
     "data": {
      "text/html": [
       "<div>\n",
       "<style scoped>\n",
       "    .dataframe tbody tr th:only-of-type {\n",
       "        vertical-align: middle;\n",
       "    }\n",
       "\n",
       "    .dataframe tbody tr th {\n",
       "        vertical-align: top;\n",
       "    }\n",
       "\n",
       "    .dataframe thead th {\n",
       "        text-align: right;\n",
       "    }\n",
       "</style>\n",
       "<table border=\"1\" class=\"dataframe\">\n",
       "  <thead>\n",
       "    <tr style=\"text-align: right;\">\n",
       "      <th></th>\n",
       "      <th>user_id</th>\n",
       "      <th>recomms</th>\n",
       "      <th>cold</th>\n",
       "    </tr>\n",
       "  </thead>\n",
       "  <tbody>\n",
       "    <tr>\n",
       "      <th>0</th>\n",
       "      <td>90627</td>\n",
       "      <td>[3806.0, 3900.0, 2040.0, 3598.0, 3381.0, 3690....</td>\n",
       "      <td>True</td>\n",
       "    </tr>\n",
       "    <tr>\n",
       "      <th>1</th>\n",
       "      <td>3387</td>\n",
       "      <td>[3806.0, 3900.0, 2040.0, 3598.0, 3381.0, 3690....</td>\n",
       "      <td>True</td>\n",
       "    </tr>\n",
       "    <tr>\n",
       "      <th>2</th>\n",
       "      <td>3388</td>\n",
       "      <td>[2040.0, 116.0, 724.0, 1140.0, 3716.0, 3578.0,...</td>\n",
       "      <td>False</td>\n",
       "    </tr>\n",
       "    <tr>\n",
       "      <th>3</th>\n",
       "      <td>3389</td>\n",
       "      <td>[3806.0, 2040.0, 292.0, 3690.0, 2160.0, 3900.0...</td>\n",
       "      <td>False</td>\n",
       "    </tr>\n",
       "    <tr>\n",
       "      <th>4</th>\n",
       "      <td>3393</td>\n",
       "      <td>[3572.0, 2160.0, 1316.0, 8.0, 36.0, 1139.0, 38...</td>\n",
       "      <td>False</td>\n",
       "    </tr>\n",
       "  </tbody>\n",
       "</table>\n",
       "</div>"
      ],
      "text/plain": [
       "   user_id                                            recomms   cold\n",
       "0    90627  [3806.0, 3900.0, 2040.0, 3598.0, 3381.0, 3690....   True\n",
       "1     3387  [3806.0, 3900.0, 2040.0, 3598.0, 3381.0, 3690....   True\n",
       "2     3388  [2040.0, 116.0, 724.0, 1140.0, 3716.0, 3578.0,...  False\n",
       "3     3389  [3806.0, 2040.0, 292.0, 3690.0, 2160.0, 3900.0...  False\n",
       "4     3393  [3572.0, 2160.0, 1316.0, 8.0, 36.0, 1139.0, 38...  False"
      ]
     },
     "execution_count": 169,
     "metadata": {},
     "output_type": "execute_result"
    }
   ],
   "source": [
    "%%time\n",
    "recomms_df_5 = pd.DataFrame(recomms_dict_5)\n",
    "recomms_df_5.head()"
   ]
  },
  {
   "cell_type": "markdown",
   "metadata": {
    "id": "IjrOnQymbY-d"
   },
   "source": [
    "Ahora tenemos que comparar nuestras recomms contra lo que los usuarios realmente vieron (test)."
   ]
  },
  {
   "cell_type": "markdown",
   "metadata": {
    "id": "T6abumWRbibe"
   },
   "source": [
    "Primero ordenamos libros según los ratings (mayor a menor) que dieron los usuarios en el set de test.\n",
    "\n",
    "Luego, agrupamos y armamos un listado de libros para cada usuario.\n",
    "\n",
    "Este es el listado \"ideal\" contra el que vamos a comparar nuestras recomendaciones."
   ]
  },
  {
   "cell_type": "code",
   "execution_count": 44,
   "metadata": {
    "scrolled": true
   },
   "outputs": [
    {
     "name": "stdout",
     "output_type": "stream",
     "text": [
      "Wall time: 4.54 s\n"
     ]
    },
    {
     "data": {
      "text/html": [
       "<div>\n",
       "<style scoped>\n",
       "    .dataframe tbody tr th:only-of-type {\n",
       "        vertical-align: middle;\n",
       "    }\n",
       "\n",
       "    .dataframe tbody tr th {\n",
       "        vertical-align: top;\n",
       "    }\n",
       "\n",
       "    .dataframe thead th {\n",
       "        text-align: right;\n",
       "    }\n",
       "</style>\n",
       "<table border=\"1\" class=\"dataframe\">\n",
       "  <thead>\n",
       "    <tr style=\"text-align: right;\">\n",
       "      <th></th>\n",
       "      <th>account_id</th>\n",
       "      <th>content_id</th>\n",
       "    </tr>\n",
       "  </thead>\n",
       "  <tbody>\n",
       "    <tr>\n",
       "      <th>0</th>\n",
       "      <td>2</td>\n",
       "      <td>[433.0]</td>\n",
       "    </tr>\n",
       "    <tr>\n",
       "      <th>1</th>\n",
       "      <td>3</td>\n",
       "      <td>[1949.0, 2409.0, 4010.0, 3169.0, 3487.0, 3980....</td>\n",
       "    </tr>\n",
       "    <tr>\n",
       "      <th>2</th>\n",
       "      <td>4</td>\n",
       "      <td>[2314.0, 728.0, 4129.0, 2344.0, 2341.0, 513.0,...</td>\n",
       "    </tr>\n",
       "    <tr>\n",
       "      <th>3</th>\n",
       "      <td>5</td>\n",
       "      <td>[2259.0]</td>\n",
       "    </tr>\n",
       "    <tr>\n",
       "      <th>4</th>\n",
       "      <td>6</td>\n",
       "      <td>[3902.0, 3211.0, 3386.0, 4065.0, 2900.0, 3388.0]</td>\n",
       "    </tr>\n",
       "  </tbody>\n",
       "</table>\n",
       "</div>"
      ],
      "text/plain": [
       "   account_id                                         content_id\n",
       "0           2                                            [433.0]\n",
       "1           3  [1949.0, 2409.0, 4010.0, 3169.0, 3487.0, 3980....\n",
       "2           4  [2314.0, 728.0, 4129.0, 2344.0, 2341.0, 513.0,...\n",
       "3           5                                           [2259.0]\n",
       "4           6   [3902.0, 3211.0, 3386.0, 4065.0, 2900.0, 3388.0]"
      ]
     },
     "execution_count": 44,
     "metadata": {},
     "output_type": "execute_result"
    }
   ],
   "source": [
    "# %%time\n",
    "# ideal_recomms = test\\\n",
    "#                   .sort_values(by=[\"account_id\", \"rating_1\"], ascending=False)\\\n",
    "#                   .groupby([\"account_id\"], as_index=False)\\\n",
    "#                   .agg({\"content_id\": \"unique\"})\\\n",
    "#                   .head()\n",
    "# ideal_recomms.head()"
   ]
  },
  {
   "cell_type": "code",
   "execution_count": 64,
   "metadata": {},
   "outputs": [
    {
     "name": "stdout",
     "output_type": "stream",
     "text": [
      "Wall time: 4.44 s\n"
     ]
    },
    {
     "data": {
      "text/html": [
       "<div>\n",
       "<style scoped>\n",
       "    .dataframe tbody tr th:only-of-type {\n",
       "        vertical-align: middle;\n",
       "    }\n",
       "\n",
       "    .dataframe tbody tr th {\n",
       "        vertical-align: top;\n",
       "    }\n",
       "\n",
       "    .dataframe thead th {\n",
       "        text-align: right;\n",
       "    }\n",
       "</style>\n",
       "<table border=\"1\" class=\"dataframe\">\n",
       "  <thead>\n",
       "    <tr style=\"text-align: right;\">\n",
       "      <th></th>\n",
       "      <th>account_id</th>\n",
       "      <th>content_id</th>\n",
       "    </tr>\n",
       "  </thead>\n",
       "  <tbody>\n",
       "    <tr>\n",
       "      <th>0</th>\n",
       "      <td>2</td>\n",
       "      <td>[433.0]</td>\n",
       "    </tr>\n",
       "    <tr>\n",
       "      <th>1</th>\n",
       "      <td>3</td>\n",
       "      <td>[3980.0, 3169.0, 4010.0, 2409.0, 1949.0, 3487....</td>\n",
       "    </tr>\n",
       "    <tr>\n",
       "      <th>2</th>\n",
       "      <td>4</td>\n",
       "      <td>[565.0, 4340.0, 2212.0, 513.0, 2341.0, 2344.0,...</td>\n",
       "    </tr>\n",
       "    <tr>\n",
       "      <th>3</th>\n",
       "      <td>5</td>\n",
       "      <td>[2259.0]</td>\n",
       "    </tr>\n",
       "    <tr>\n",
       "      <th>4</th>\n",
       "      <td>6</td>\n",
       "      <td>[3388.0, 4065.0, 3386.0, 3211.0, 3902.0, 2900.0]</td>\n",
       "    </tr>\n",
       "  </tbody>\n",
       "</table>\n",
       "</div>"
      ],
      "text/plain": [
       "   account_id                                         content_id\n",
       "0           2                                            [433.0]\n",
       "1           3  [3980.0, 3169.0, 4010.0, 2409.0, 1949.0, 3487....\n",
       "2           4  [565.0, 4340.0, 2212.0, 513.0, 2341.0, 2344.0,...\n",
       "3           5                                           [2259.0]\n",
       "4           6   [3388.0, 4065.0, 3386.0, 3211.0, 3902.0, 2900.0]"
      ]
     },
     "execution_count": 64,
     "metadata": {},
     "output_type": "execute_result"
    }
   ],
   "source": [
    "%%time\n",
    "ideal_recomms =\\\n",
    "    test\\\n",
    "    .sort_values(by=[\"account_id\"], ascending=False)\\\n",
    "    .groupby([\"account_id\"], as_index=False)\\\n",
    "    .agg({\"content_id\": \"unique\"})\n",
    "ideal_recomendations_df.head()"
   ]
  },
  {
   "cell_type": "markdown",
   "metadata": {
    "id": "UXKuPItNbuMu"
   },
   "source": [
    "# Métricas"
   ]
  },
  {
   "cell_type": "code",
   "execution_count": 65,
   "metadata": {},
   "outputs": [],
   "source": [
    "def calcular_MAP(ideal_recomms, recomms_df):\n",
    "    df_map = ideal_recomms.merge(recomms_df, how=\"left\", left_on=\"account_id\", right_on=\"user_id\")[[\"account_id\", \"content_id\", \"recomms\"]]\n",
    "    df_map.columns = [\"user_id\", \"ideal\", \"recomms\"]\n",
    "    \n",
    "    aps = [] # lista vacía para ir almacenando la AP de cada recomendación\n",
    "\n",
    "    for pred, label in df_map[[\"ideal\", \"recomms\"]].values:\n",
    "        n = len(pred) # cantidad de elementos recomendados\n",
    "        arange = np.arange(n, dtype=np.int32) + 1. # indexamos en base 1 \n",
    "        rel_k = np.in1d(pred[:n], label) # lista de booleanos que indican la relevancia de cada ítem\n",
    "        tp = np.ones(rel_k.sum(), dtype=np.int32).cumsum() # lista con el contador de verdaderos positivos\n",
    "        denom = arange[rel_k] # posiciones donde se encuentran los ítems relantes\n",
    "        ap = (tp / denom).sum() / len(label) # average precision\n",
    "        aps.append(ap)\n",
    "    \n",
    "    MAP = np.mean(aps)\n",
    "    return MAP\n",
    "#     print(f'mean average precision = {round(MAP, 5)}')"
   ]
  },
  {
   "cell_type": "code",
   "execution_count": 66,
   "metadata": {},
   "outputs": [
    {
     "name": "stdout",
     "output_type": "stream",
     "text": [
      "mean average precision for option 1 = 0.01381\n",
      "Wall time: 5.95 s\n"
     ]
    }
   ],
   "source": [
    "%%time\n",
    "MAP = calcular_MAP(ideal_recomms, recomms_df_1)\n",
    "print(f'mean average precision for option 1 = {round(MAP, 5)}')"
   ]
  },
  {
   "cell_type": "code",
   "execution_count": 74,
   "metadata": {},
   "outputs": [
    {
     "name": "stdout",
     "output_type": "stream",
     "text": [
      "mean average precision for option 2 = 0.00974\n",
      "Wall time: 7.47 s\n",
      "Parser   : 502 ms\n"
     ]
    }
   ],
   "source": [
    "%%time\n",
    "MAP = calcular_MAP(ideal_recomms, recomms_df_2)\n",
    "print(f'mean average precision for option 2 = {round(MAP, 5)}')"
   ]
  },
  {
   "cell_type": "code",
   "execution_count": 83,
   "metadata": {},
   "outputs": [
    {
     "name": "stdout",
     "output_type": "stream",
     "text": [
      "mean average precision for option 3 = 0.01308\n",
      "Wall time: 8.1 s\n"
     ]
    }
   ],
   "source": [
    "%%time\n",
    "MAP = calcular_MAP(ideal_recomms, recomms_df_3)\n",
    "print(f'mean average precision for option 3 = {round(MAP, 5)}')"
   ]
  },
  {
   "cell_type": "code",
   "execution_count": null,
   "metadata": {},
   "outputs": [],
   "source": [
    "%%time\n",
    "MAP = calcular_MAP(ideal_recomms, recomms_df_4)\n",
    "print(f'mean average precision for option 4 = {round(MAP, 5)}')"
   ]
  },
  {
   "cell_type": "code",
   "execution_count": 170,
   "metadata": {},
   "outputs": [
    {
     "name": "stdout",
     "output_type": "stream",
     "text": [
      "mean average precision for option 5 = 0.01363\n",
      "Wall time: 8.43 s\n"
     ]
    }
   ],
   "source": [
    "%%time\n",
    "MAP = calcular_MAP(ideal_recomms, recomms_df_5)\n",
    "print(f'mean average precision for option 5 = {round(MAP, 5)}')"
   ]
  },
  {
   "cell_type": "code",
   "execution_count": 295,
   "metadata": {
    "id": "MsRCpOr0bw45"
   },
   "outputs": [
    {
     "data": {
      "text/html": [
       "<div>\n",
       "<style scoped>\n",
       "    .dataframe tbody tr th:only-of-type {\n",
       "        vertical-align: middle;\n",
       "    }\n",
       "\n",
       "    .dataframe tbody tr th {\n",
       "        vertical-align: top;\n",
       "    }\n",
       "\n",
       "    .dataframe thead th {\n",
       "        text-align: right;\n",
       "    }\n",
       "</style>\n",
       "<table border=\"1\" class=\"dataframe\">\n",
       "  <thead>\n",
       "    <tr style=\"text-align: right;\">\n",
       "      <th></th>\n",
       "      <th>user_id</th>\n",
       "      <th>ideal</th>\n",
       "      <th>recomms</th>\n",
       "    </tr>\n",
       "  </thead>\n",
       "  <tbody>\n",
       "    <tr>\n",
       "      <th>0</th>\n",
       "      <td>2</td>\n",
       "      <td>[433.0]</td>\n",
       "      <td>[2178.0, 3900.0, 3806.0, 3382.0, 393.0, 2160.0...</td>\n",
       "    </tr>\n",
       "    <tr>\n",
       "      <th>1</th>\n",
       "      <td>3</td>\n",
       "      <td>[1949.0, 2409.0, 4010.0, 3169.0, 3487.0, 3980....</td>\n",
       "      <td>[3210.0, 3711.0, 2972.0, 3519.0, 518.0, 2012.0...</td>\n",
       "    </tr>\n",
       "    <tr>\n",
       "      <th>2</th>\n",
       "      <td>4</td>\n",
       "      <td>[2314.0, 728.0, 4129.0, 2344.0, 2341.0, 513.0,...</td>\n",
       "      <td>[3900.0, 2827.0, 3806.0, 3210.0, 3716.0, 3598....</td>\n",
       "    </tr>\n",
       "    <tr>\n",
       "      <th>3</th>\n",
       "      <td>5</td>\n",
       "      <td>[2259.0]</td>\n",
       "      <td>[3806.0, 3900.0, 2160.0, 2040.0, 604.0, 3690.0...</td>\n",
       "    </tr>\n",
       "    <tr>\n",
       "      <th>4</th>\n",
       "      <td>6</td>\n",
       "      <td>[3902.0, 3211.0, 3386.0, 4065.0, 2900.0, 3388.0]</td>\n",
       "      <td>[3716.0, 116.0, 1140.0, 2040.0, 2868.0, 3900.0...</td>\n",
       "    </tr>\n",
       "  </tbody>\n",
       "</table>\n",
       "</div>"
      ],
      "text/plain": [
       "   user_id                                              ideal  \\\n",
       "0        2                                            [433.0]   \n",
       "1        3  [1949.0, 2409.0, 4010.0, 3169.0, 3487.0, 3980....   \n",
       "2        4  [2314.0, 728.0, 4129.0, 2344.0, 2341.0, 513.0,...   \n",
       "3        5                                           [2259.0]   \n",
       "4        6   [3902.0, 3211.0, 3386.0, 4065.0, 2900.0, 3388.0]   \n",
       "\n",
       "                                             recomms  \n",
       "0  [2178.0, 3900.0, 3806.0, 3382.0, 393.0, 2160.0...  \n",
       "1  [3210.0, 3711.0, 2972.0, 3519.0, 518.0, 2012.0...  \n",
       "2  [3900.0, 2827.0, 3806.0, 3210.0, 3716.0, 3598....  \n",
       "3  [3806.0, 3900.0, 2160.0, 2040.0, 604.0, 3690.0...  \n",
       "4  [3716.0, 116.0, 1140.0, 2040.0, 2868.0, 3900.0...  "
      ]
     },
     "execution_count": 295,
     "metadata": {},
     "output_type": "execute_result"
    }
   ],
   "source": [
    "# df_map = ideal_recomms.merge(recomms_df, how=\"left\", left_on=\"account_id\", right_on=\"user_id\")[[\"account_id\", \"content_id\", \"recomms\"]]\n",
    "# df_map.columns = [\"user_id\", \"ideal\", \"recomms\"]\n",
    "# df_map.head()"
   ]
  },
  {
   "cell_type": "code",
   "execution_count": 296,
   "metadata": {
    "id": "dpLv5o93b2UY"
   },
   "outputs": [],
   "source": [
    "# aps = [] # lista vacía para ir almacenando la AP de cada recomendación\n",
    "\n",
    "# for pred, label in df_map[[\"ideal\", \"recomms\"]].values:\n",
    "#   n = len(pred) # cantidad de elementos recomendados\n",
    "#   arange = np.arange(n, dtype=np.int32) + 1. # indexamos en base 1 \n",
    "#   rel_k = np.in1d(pred[:n], label) # lista de booleanos que indican la relevancia de cada ítem\n",
    "#   tp = np.ones(rel_k.sum(), dtype=np.int32).cumsum() # lista con el contador de verdaderos positivos\n",
    "#   denom = arange[rel_k] # posiciones donde se encuentran los ítems relantes\n",
    "#   ap = (tp / denom).sum() / len(label) # average precision\n",
    "#   aps.append(ap)"
   ]
  },
  {
   "cell_type": "code",
   "execution_count": 298,
   "metadata": {
    "id": "y1Lh1HwMb5Wv"
   },
   "outputs": [
    {
     "name": "stdout",
     "output_type": "stream",
     "text": [
      "mean average precision = 0.0\n"
     ]
    }
   ],
   "source": [
    "# MAP = np.mean(aps)\n",
    "# print(f'mean average precision = {round(MAP, 5)}')"
   ]
  }
 ],
 "metadata": {
  "colab": {
   "provenance": []
  },
  "kernelspec": {
   "display_name": "Python 3 (ipykernel)",
   "language": "python",
   "name": "python3"
  },
  "language_info": {
   "codemirror_mode": {
    "name": "ipython",
    "version": 3
   },
   "file_extension": ".py",
   "mimetype": "text/x-python",
   "name": "python",
   "nbconvert_exporter": "python",
   "pygments_lexer": "ipython3",
   "version": "3.9.13"
  },
  "vscode": {
   "interpreter": {
    "hash": "892d461b55a6ce994a56bafd67ae2f3489d9f23234c096cfb51dfe498c166e4b"
   }
  }
 },
 "nbformat": 4,
 "nbformat_minor": 1
}
