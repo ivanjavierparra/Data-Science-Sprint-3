{
 "cells": [
  {
   "cell_type": "markdown",
   "id": "5650d177",
   "metadata": {},
   "source": [
    "<h1>Sprint 3</h1>\n",
    "<b>Sistema de Recomendación</b>"
   ]
  },
  {
   "cell_type": "markdown",
   "id": "52551d8a-84aa-4cf8-9b63-0cf92001f92b",
   "metadata": {},
   "source": [
    "<b>Grupo: </b>\n",
    "<ul>\n",
    "    <li><b>Cornelio Edgardo: </b><a>eliseoc1@gmail.com </a></li>\n",
    "    <li><b>Parra Iván: </b><a>ivanparra01@gmail.com</a></li>\n",
    "</ul>"
   ]
  },
  {
   "cell_type": "markdown",
   "id": "fdc871d0-5e85-4079-874a-c0709ebfecea",
   "metadata": {},
   "source": [
    "<b>Importamos librerías</b>"
   ]
  },
  {
   "cell_type": "code",
   "execution_count": 49,
   "id": "fc0c9569",
   "metadata": {},
   "outputs": [],
   "source": [
    "# Los de siempre\n",
    "import pandas as pd\n",
    "import numpy as np\n",
    "import seaborn as sns\n",
    "import matplotlib.pyplot as plt\n",
    "from tqdm import tqdm\n",
    "\n",
    "# datetime\n",
    "from datetime import datetime\n",
    "\n",
    "# matrices\n",
    "from scipy.sparse import csr_matrix\n",
    "\n",
    "# models\n",
    "from lightfm import LightFM"
   ]
  },
  {
   "cell_type": "markdown",
   "id": "889dd830",
   "metadata": {
    "tags": []
   },
   "source": [
    "# Datos"
   ]
  },
  {
   "cell_type": "markdown",
   "id": "7673bfaa-9f05-4482-a9fd-394b0b663d1f",
   "metadata": {},
   "source": [
    "<b>train.csv</b>"
   ]
  },
  {
   "cell_type": "code",
   "execution_count": 50,
   "id": "fa7ee0bd-a0c3-4f24-894c-f5d3542befd2",
   "metadata": {},
   "outputs": [
    {
     "name": "stdout",
     "output_type": "stream",
     "text": [
      "CPU times: user 3.6 s, sys: 393 ms, total: 3.99 s\n",
      "Wall time: 5.09 s\n"
     ]
    }
   ],
   "source": [
    "%%time\n",
    "df_train = pd.read_csv('./train.csv', delimiter=',', parse_dates=['tunein', 'tuneout'])"
   ]
  },
  {
   "cell_type": "code",
   "execution_count": 51,
   "id": "4f350392-fe41-4030-b7e3-cac904f613d2",
   "metadata": {},
   "outputs": [
    {
     "data": {
      "text/html": [
       "<div>\n",
       "<style scoped>\n",
       "    .dataframe tbody tr th:only-of-type {\n",
       "        vertical-align: middle;\n",
       "    }\n",
       "\n",
       "    .dataframe tbody tr th {\n",
       "        vertical-align: top;\n",
       "    }\n",
       "\n",
       "    .dataframe thead th {\n",
       "        text-align: right;\n",
       "    }\n",
       "</style>\n",
       "<table border=\"1\" class=\"dataframe\">\n",
       "  <thead>\n",
       "    <tr style=\"text-align: right;\">\n",
       "      <th></th>\n",
       "      <th>customer_id</th>\n",
       "      <th>account_id</th>\n",
       "      <th>device_type</th>\n",
       "      <th>asset_id</th>\n",
       "      <th>tunein</th>\n",
       "      <th>tuneout</th>\n",
       "      <th>resume</th>\n",
       "    </tr>\n",
       "  </thead>\n",
       "  <tbody>\n",
       "    <tr>\n",
       "      <th>0</th>\n",
       "      <td>0</td>\n",
       "      <td>90627</td>\n",
       "      <td>STATIONARY</td>\n",
       "      <td>18332.0</td>\n",
       "      <td>2021-02-18 22:52:00</td>\n",
       "      <td>2021-02-18 23:35:00</td>\n",
       "      <td>0</td>\n",
       "    </tr>\n",
       "  </tbody>\n",
       "</table>\n",
       "</div>"
      ],
      "text/plain": [
       "   customer_id  account_id device_type  asset_id              tunein  \\\n",
       "0            0       90627  STATIONARY   18332.0 2021-02-18 22:52:00   \n",
       "\n",
       "              tuneout  resume  \n",
       "0 2021-02-18 23:35:00       0  "
      ]
     },
     "execution_count": 51,
     "metadata": {},
     "output_type": "execute_result"
    }
   ],
   "source": [
    "df_train.head(1)"
   ]
  },
  {
   "cell_type": "markdown",
   "id": "635bb8ab-b799-4706-aefe-20951908bb19",
   "metadata": {},
   "source": [
    "<b>metadata.csv</b>"
   ]
  },
  {
   "cell_type": "code",
   "execution_count": 52,
   "id": "8add4133",
   "metadata": {},
   "outputs": [
    {
     "name": "stdout",
     "output_type": "stream",
     "text": [
      "CPU times: user 585 ms, sys: 20.1 ms, total: 605 ms\n",
      "Wall time: 698 ms\n"
     ]
    }
   ],
   "source": [
    "%%time\n",
    "df_metadatos = pd.read_csv(\"./metadata.csv\", delimiter=\";\", parse_dates=['create_date', 'modify_date', 'start_vod_date', 'end_vod_date'])"
   ]
  },
  {
   "cell_type": "code",
   "execution_count": 53,
   "id": "4f7d9536",
   "metadata": {},
   "outputs": [
    {
     "data": {
      "text/html": [
       "<div>\n",
       "<style scoped>\n",
       "    .dataframe tbody tr th:only-of-type {\n",
       "        vertical-align: middle;\n",
       "    }\n",
       "\n",
       "    .dataframe tbody tr th {\n",
       "        vertical-align: top;\n",
       "    }\n",
       "\n",
       "    .dataframe thead th {\n",
       "        text-align: right;\n",
       "    }\n",
       "</style>\n",
       "<table border=\"1\" class=\"dataframe\">\n",
       "  <thead>\n",
       "    <tr style=\"text-align: right;\">\n",
       "      <th></th>\n",
       "      <th>asset_id</th>\n",
       "      <th>content_id</th>\n",
       "      <th>title</th>\n",
       "      <th>reduced_title</th>\n",
       "      <th>episode_title</th>\n",
       "      <th>show_type</th>\n",
       "      <th>released_year</th>\n",
       "      <th>country_of_origin</th>\n",
       "      <th>category</th>\n",
       "      <th>keywords</th>\n",
       "      <th>...</th>\n",
       "      <th>language_rating</th>\n",
       "      <th>dialog_rating</th>\n",
       "      <th>fv_rating</th>\n",
       "      <th>pay_per_view</th>\n",
       "      <th>pack_premium_1</th>\n",
       "      <th>pack_premium_2</th>\n",
       "      <th>create_date</th>\n",
       "      <th>modify_date</th>\n",
       "      <th>start_vod_date</th>\n",
       "      <th>end_vod_date</th>\n",
       "    </tr>\n",
       "  </thead>\n",
       "  <tbody>\n",
       "    <tr>\n",
       "      <th>0</th>\n",
       "      <td>15188</td>\n",
       "      <td>0.0</td>\n",
       "      <td>Ep:17 Tiempos Compulsivos</td>\n",
       "      <td>Tiempos_Compul_E17</td>\n",
       "      <td>Episodio 17</td>\n",
       "      <td>Serie</td>\n",
       "      <td>2012.0</td>\n",
       "      <td>AR</td>\n",
       "      <td>Drama</td>\n",
       "      <td>Trastornos,Médicos,Tragicómica,Telenovela,Enfe...</td>\n",
       "      <td>...</td>\n",
       "      <td>N</td>\n",
       "      <td>N</td>\n",
       "      <td>N</td>\n",
       "      <td>N</td>\n",
       "      <td>N</td>\n",
       "      <td>N</td>\n",
       "      <td>2017-12-01 10:18:15+00:00</td>\n",
       "      <td>2019-01-26 06:37:18+00:00</td>\n",
       "      <td>2017-12-01 00:00:00+00:00</td>\n",
       "      <td>2020-12-01 23:59:59+00:00</td>\n",
       "    </tr>\n",
       "  </tbody>\n",
       "</table>\n",
       "<p>1 rows × 30 columns</p>\n",
       "</div>"
      ],
      "text/plain": [
       "   asset_id  content_id                      title       reduced_title  \\\n",
       "0     15188         0.0  Ep:17 Tiempos Compulsivos  Tiempos_Compul_E17   \n",
       "\n",
       "  episode_title show_type  released_year country_of_origin category  \\\n",
       "0   Episodio 17     Serie         2012.0                AR    Drama   \n",
       "\n",
       "                                            keywords  ... language_rating  \\\n",
       "0  Trastornos,Médicos,Tragicómica,Telenovela,Enfe...  ...               N   \n",
       "\n",
       "  dialog_rating fv_rating pay_per_view  pack_premium_1 pack_premium_2  \\\n",
       "0             N         N            N               N              N   \n",
       "\n",
       "                create_date               modify_date  \\\n",
       "0 2017-12-01 10:18:15+00:00 2019-01-26 06:37:18+00:00   \n",
       "\n",
       "             start_vod_date              end_vod_date  \n",
       "0 2017-12-01 00:00:00+00:00 2020-12-01 23:59:59+00:00  \n",
       "\n",
       "[1 rows x 30 columns]"
      ]
     },
     "execution_count": 53,
     "metadata": {},
     "output_type": "execute_result"
    }
   ],
   "source": [
    "df_metadatos.head(1)"
   ]
  },
  {
   "cell_type": "markdown",
   "id": "aef46b77-1cb8-45bf-9594-a719d2c5557a",
   "metadata": {},
   "source": [
    "<b>Merge entre ambos datasets</b>"
   ]
  },
  {
   "cell_type": "code",
   "execution_count": 54,
   "id": "6c5531d9",
   "metadata": {},
   "outputs": [
    {
     "name": "stdout",
     "output_type": "stream",
     "text": [
      "CPU times: user 3.5 s, sys: 392 ms, total: 3.89 s\n",
      "Wall time: 3.88 s\n"
     ]
    }
   ],
   "source": [
    "%%time\n",
    "df = df_train.merge(df_metadatos, how=\"left\", left_on=\"asset_id\", right_on=\"asset_id\")"
   ]
  },
  {
   "cell_type": "code",
   "execution_count": 55,
   "id": "d4f70d67",
   "metadata": {},
   "outputs": [],
   "source": [
    "df = df[[\n",
    "        # df_train\n",
    "        'account_id', 'tunein', 'tuneout', \n",
    "        # df_metadatos\n",
    "        'content_id', 'title', 'end_vod_date'\n",
    "        ]]"
   ]
  },
  {
   "cell_type": "code",
   "execution_count": 56,
   "id": "dec3a713",
   "metadata": {},
   "outputs": [
    {
     "data": {
      "text/html": [
       "<div>\n",
       "<style scoped>\n",
       "    .dataframe tbody tr th:only-of-type {\n",
       "        vertical-align: middle;\n",
       "    }\n",
       "\n",
       "    .dataframe tbody tr th {\n",
       "        vertical-align: top;\n",
       "    }\n",
       "\n",
       "    .dataframe thead th {\n",
       "        text-align: right;\n",
       "    }\n",
       "</style>\n",
       "<table border=\"1\" class=\"dataframe\">\n",
       "  <thead>\n",
       "    <tr style=\"text-align: right;\">\n",
       "      <th></th>\n",
       "      <th>account_id</th>\n",
       "      <th>tunein</th>\n",
       "      <th>tuneout</th>\n",
       "      <th>content_id</th>\n",
       "      <th>title</th>\n",
       "      <th>end_vod_date</th>\n",
       "    </tr>\n",
       "  </thead>\n",
       "  <tbody>\n",
       "    <tr>\n",
       "      <th>0</th>\n",
       "      <td>90627</td>\n",
       "      <td>2021-02-18 22:52:00</td>\n",
       "      <td>2021-02-18 23:35:00</td>\n",
       "      <td>2040.0</td>\n",
       "      <td>T:5 Ep:08 This is Us</td>\n",
       "      <td>2021-06-30 23:59:59+00:00</td>\n",
       "    </tr>\n",
       "  </tbody>\n",
       "</table>\n",
       "</div>"
      ],
      "text/plain": [
       "   account_id              tunein             tuneout  content_id  \\\n",
       "0       90627 2021-02-18 22:52:00 2021-02-18 23:35:00      2040.0   \n",
       "\n",
       "                  title              end_vod_date  \n",
       "0  T:5 Ep:08 This is Us 2021-06-30 23:59:59+00:00  "
      ]
     },
     "execution_count": 56,
     "metadata": {},
     "output_type": "execute_result"
    }
   ],
   "source": [
    "df.head(1)"
   ]
  },
  {
   "cell_type": "markdown",
   "id": "9f25a397",
   "metadata": {},
   "source": [
    "# Train - Test Split"
   ]
  },
  {
   "cell_type": "markdown",
   "id": "d09d89c0-fddd-43a2-b2d0-65ada998a693",
   "metadata": {},
   "source": [
    "<b>Train</b>"
   ]
  },
  {
   "cell_type": "code",
   "execution_count": 57,
   "id": "58a7e4eb",
   "metadata": {},
   "outputs": [],
   "source": [
    "train = df[df.tunein <= datetime(year=2021, month=3, day=1)]"
   ]
  },
  {
   "cell_type": "code",
   "execution_count": 58,
   "id": "aedd3d71-3793-47b1-abad-9f1f9fa73250",
   "metadata": {},
   "outputs": [
    {
     "data": {
      "text/plain": [
       "(2339070, 6)"
      ]
     },
     "execution_count": 58,
     "metadata": {},
     "output_type": "execute_result"
    }
   ],
   "source": [
    "train.shape"
   ]
  },
  {
   "cell_type": "markdown",
   "id": "2388147b-acc2-4c24-b0e9-b9165c85cb33",
   "metadata": {},
   "source": [
    "<b>Test</b>"
   ]
  },
  {
   "cell_type": "code",
   "execution_count": 59,
   "id": "929722af-c4a7-40cd-953b-151cfbeeb031",
   "metadata": {},
   "outputs": [],
   "source": [
    "test = df[df.tunein > datetime(year=2021, month=3, day=1)]"
   ]
  },
  {
   "cell_type": "code",
   "execution_count": 60,
   "id": "e29e8b28-b41e-4e92-a127-f797300c5dd5",
   "metadata": {},
   "outputs": [
    {
     "data": {
      "text/plain": [
       "(1318731, 6)"
      ]
     },
     "execution_count": 60,
     "metadata": {},
     "output_type": "execute_result"
    }
   ],
   "source": [
    "test.shape"
   ]
  },
  {
   "cell_type": "markdown",
   "id": "dac8157c",
   "metadata": {
    "tags": []
   },
   "source": [
    "# Contenido no disponible\n",
    "\n",
    "Se filtran todos aquellos contenidos que no van a estar disponibles después de la fecha de train (01-03-2021)"
   ]
  },
  {
   "cell_type": "code",
   "execution_count": 61,
   "id": "c992c9fc",
   "metadata": {},
   "outputs": [],
   "source": [
    "df['end_vod_date'] = pd.to_datetime(df['end_vod_date'], format='%Y/%m/%d')\n",
    "df[\"end_vod_date\"] = pd.to_datetime(df[\"end_vod_date\"]).dt.date"
   ]
  },
  {
   "cell_type": "code",
   "execution_count": 62,
   "id": "e7857f11",
   "metadata": {},
   "outputs": [],
   "source": [
    "not_available_content_df = df[['content_id', 'end_vod_date']].groupby('content_id', as_index=False).agg({'end_vod_date': 'max'})\n",
    "not_available_content = not_available_content_df[not_available_content_df['end_vod_date'] < datetime(year=2021, month=3, day=1).date()]['content_id'].values"
   ]
  },
  {
   "cell_type": "markdown",
   "id": "08a77c89",
   "metadata": {},
   "source": [
    "# Interacciones\n",
    "\n",
    "Armamos un dataset con las interacciones account - content."
   ]
  },
  {
   "cell_type": "code",
   "execution_count": 63,
   "id": "c1b201d8",
   "metadata": {},
   "outputs": [
    {
     "data": {
      "text/html": [
       "<div>\n",
       "<style scoped>\n",
       "    .dataframe tbody tr th:only-of-type {\n",
       "        vertical-align: middle;\n",
       "    }\n",
       "\n",
       "    .dataframe tbody tr th {\n",
       "        vertical-align: top;\n",
       "    }\n",
       "\n",
       "    .dataframe thead th {\n",
       "        text-align: right;\n",
       "    }\n",
       "</style>\n",
       "<table border=\"1\" class=\"dataframe\">\n",
       "  <thead>\n",
       "    <tr style=\"text-align: right;\">\n",
       "      <th></th>\n",
       "      <th>account_id</th>\n",
       "      <th>content_id</th>\n",
       "    </tr>\n",
       "  </thead>\n",
       "  <tbody>\n",
       "    <tr>\n",
       "      <th>0</th>\n",
       "      <td>90627</td>\n",
       "      <td>2040.0</td>\n",
       "    </tr>\n",
       "    <tr>\n",
       "      <th>6</th>\n",
       "      <td>3388</td>\n",
       "      <td>2100.0</td>\n",
       "    </tr>\n",
       "    <tr>\n",
       "      <th>7</th>\n",
       "      <td>3388</td>\n",
       "      <td>2100.0</td>\n",
       "    </tr>\n",
       "    <tr>\n",
       "      <th>8</th>\n",
       "      <td>3388</td>\n",
       "      <td>2100.0</td>\n",
       "    </tr>\n",
       "    <tr>\n",
       "      <th>9</th>\n",
       "      <td>3388</td>\n",
       "      <td>2100.0</td>\n",
       "    </tr>\n",
       "  </tbody>\n",
       "</table>\n",
       "</div>"
      ],
      "text/plain": [
       "   account_id  content_id\n",
       "0       90627      2040.0\n",
       "6        3388      2100.0\n",
       "7        3388      2100.0\n",
       "8        3388      2100.0\n",
       "9        3388      2100.0"
      ]
     },
     "execution_count": 63,
     "metadata": {},
     "output_type": "execute_result"
    }
   ],
   "source": [
    "interactions = train[['account_id', 'content_id']].copy()\n",
    "interactions.head()"
   ]
  },
  {
   "cell_type": "markdown",
   "id": "ad30baaa",
   "metadata": {},
   "source": [
    "<b>Elimino los nulos</b>"
   ]
  },
  {
   "cell_type": "code",
   "execution_count": 64,
   "id": "505fdbda",
   "metadata": {},
   "outputs": [
    {
     "name": "stdout",
     "output_type": "stream",
     "text": [
      "Antes: (2339070, 2)\n",
      "Ahora: (2339046, 2)\n"
     ]
    }
   ],
   "source": [
    "print(f\"Antes: {interactions.shape}\")\n",
    "interactions = interactions.dropna()\n",
    "print(f\"Ahora: {interactions.shape}\")"
   ]
  },
  {
   "cell_type": "markdown",
   "id": "13c97df8-bfe7-4a1f-a460-1e3bea8edd55",
   "metadata": {},
   "source": [
    "<b>Elimino los duplicados</b>"
   ]
  },
  {
   "cell_type": "code",
   "execution_count": 65,
   "id": "edfee611",
   "metadata": {},
   "outputs": [
    {
     "name": "stdout",
     "output_type": "stream",
     "text": [
      "Antes: (2339046, 2)\n",
      "Ahora: (672124, 2)\n"
     ]
    }
   ],
   "source": [
    "print(f\"Antes: {interactions.shape}\")\n",
    "interactions = interactions.drop_duplicates()\n",
    "print(f\"Ahora: {interactions.shape}\")"
   ]
  },
  {
   "cell_type": "markdown",
   "id": "4dc17f6e-68b1-46cf-a238-9a03032d0f59",
   "metadata": {},
   "source": [
    "<b>Cuentas únicas</b>"
   ]
  },
  {
   "cell_type": "code",
   "execution_count": 66,
   "id": "159aa880",
   "metadata": {},
   "outputs": [
    {
     "data": {
      "text/plain": [
       "99647"
      ]
     },
     "execution_count": 66,
     "metadata": {},
     "output_type": "execute_result"
    }
   ],
   "source": [
    "interactions.account_id.nunique()"
   ]
  },
  {
   "cell_type": "markdown",
   "id": "c0c931f7-0a70-4297-8e59-d46a1a6d3134",
   "metadata": {},
   "source": [
    "<b>Contenidos únicos</b>"
   ]
  },
  {
   "cell_type": "code",
   "execution_count": 67,
   "id": "e21dff19",
   "metadata": {},
   "outputs": [
    {
     "data": {
      "text/plain": [
       "3692"
      ]
     },
     "execution_count": 67,
     "metadata": {},
     "output_type": "execute_result"
    }
   ],
   "source": [
    "interactions.content_id.nunique()"
   ]
  },
  {
   "cell_type": "markdown",
   "id": "d806efaa-d220-4a92-9e7f-a1f558e84900",
   "metadata": {},
   "source": [
    "# Rating"
   ]
  },
  {
   "cell_type": "markdown",
   "id": "c8582dc1",
   "metadata": {},
   "source": [
    "El enfoque más simple es considerar que si la cuenta vió el contenido entonces le gusto, por lo tanto tendrá un 1 como rating."
   ]
  },
  {
   "cell_type": "code",
   "execution_count": 68,
   "id": "8838d0af",
   "metadata": {},
   "outputs": [],
   "source": [
    "interactions['rating'] = 1"
   ]
  },
  {
   "cell_type": "code",
   "execution_count": 69,
   "id": "87bd23e8",
   "metadata": {},
   "outputs": [
    {
     "data": {
      "text/html": [
       "<div>\n",
       "<style scoped>\n",
       "    .dataframe tbody tr th:only-of-type {\n",
       "        vertical-align: middle;\n",
       "    }\n",
       "\n",
       "    .dataframe tbody tr th {\n",
       "        vertical-align: top;\n",
       "    }\n",
       "\n",
       "    .dataframe thead th {\n",
       "        text-align: right;\n",
       "    }\n",
       "</style>\n",
       "<table border=\"1\" class=\"dataframe\">\n",
       "  <thead>\n",
       "    <tr style=\"text-align: right;\">\n",
       "      <th></th>\n",
       "      <th>account_id</th>\n",
       "      <th>content_id</th>\n",
       "      <th>rating</th>\n",
       "    </tr>\n",
       "  </thead>\n",
       "  <tbody>\n",
       "    <tr>\n",
       "      <th>0</th>\n",
       "      <td>90627</td>\n",
       "      <td>2040.0</td>\n",
       "      <td>1</td>\n",
       "    </tr>\n",
       "    <tr>\n",
       "      <th>6</th>\n",
       "      <td>3388</td>\n",
       "      <td>2100.0</td>\n",
       "      <td>1</td>\n",
       "    </tr>\n",
       "    <tr>\n",
       "      <th>12</th>\n",
       "      <td>3388</td>\n",
       "      <td>691.0</td>\n",
       "      <td>1</td>\n",
       "    </tr>\n",
       "    <tr>\n",
       "      <th>30</th>\n",
       "      <td>3388</td>\n",
       "      <td>3487.0</td>\n",
       "      <td>1</td>\n",
       "    </tr>\n",
       "    <tr>\n",
       "      <th>38</th>\n",
       "      <td>3388</td>\n",
       "      <td>3038.0</td>\n",
       "      <td>1</td>\n",
       "    </tr>\n",
       "  </tbody>\n",
       "</table>\n",
       "</div>"
      ],
      "text/plain": [
       "    account_id  content_id  rating\n",
       "0        90627      2040.0       1\n",
       "6         3388      2100.0       1\n",
       "12        3388       691.0       1\n",
       "30        3388      3487.0       1\n",
       "38        3388      3038.0       1"
      ]
     },
     "execution_count": 69,
     "metadata": {},
     "output_type": "execute_result"
    }
   ],
   "source": [
    "interactions.head()"
   ]
  },
  {
   "cell_type": "markdown",
   "id": "a25ae3fa",
   "metadata": {},
   "source": [
    "# Matriz de Interacción\n",
    "\n",
    "Construimos la matriz de interacción. Los valores de esta matriz van a ser 1 si el usuario vio el contenido y 0 si no lo vió."
   ]
  },
  {
   "cell_type": "code",
   "execution_count": 70,
   "id": "757da116",
   "metadata": {},
   "outputs": [],
   "source": [
    "interactions_matrix = pd.pivot_table(interactions, index='account_id', columns='content_id', values='rating')"
   ]
  },
  {
   "cell_type": "code",
   "execution_count": 71,
   "id": "fcdf5593",
   "metadata": {},
   "outputs": [
    {
     "data": {
      "text/plain": [
       "(99647, 3692)"
      ]
     },
     "execution_count": 71,
     "metadata": {},
     "output_type": "execute_result"
    }
   ],
   "source": [
    "interactions_matrix.shape "
   ]
  },
  {
   "cell_type": "code",
   "execution_count": 72,
   "id": "55394911",
   "metadata": {},
   "outputs": [
    {
     "data": {
      "text/html": [
       "<div>\n",
       "<style scoped>\n",
       "    .dataframe tbody tr th:only-of-type {\n",
       "        vertical-align: middle;\n",
       "    }\n",
       "\n",
       "    .dataframe tbody tr th {\n",
       "        vertical-align: top;\n",
       "    }\n",
       "\n",
       "    .dataframe thead th {\n",
       "        text-align: right;\n",
       "    }\n",
       "</style>\n",
       "<table border=\"1\" class=\"dataframe\">\n",
       "  <thead>\n",
       "    <tr style=\"text-align: right;\">\n",
       "      <th>content_id</th>\n",
       "      <th>0.0</th>\n",
       "      <th>1.0</th>\n",
       "      <th>3.0</th>\n",
       "      <th>6.0</th>\n",
       "      <th>7.0</th>\n",
       "      <th>8.0</th>\n",
       "      <th>9.0</th>\n",
       "      <th>10.0</th>\n",
       "      <th>11.0</th>\n",
       "      <th>12.0</th>\n",
       "      <th>...</th>\n",
       "      <th>4357.0</th>\n",
       "      <th>4358.0</th>\n",
       "      <th>4359.0</th>\n",
       "      <th>4360.0</th>\n",
       "      <th>4361.0</th>\n",
       "      <th>4362.0</th>\n",
       "      <th>4363.0</th>\n",
       "      <th>4364.0</th>\n",
       "      <th>4365.0</th>\n",
       "      <th>4366.0</th>\n",
       "    </tr>\n",
       "    <tr>\n",
       "      <th>account_id</th>\n",
       "      <th></th>\n",
       "      <th></th>\n",
       "      <th></th>\n",
       "      <th></th>\n",
       "      <th></th>\n",
       "      <th></th>\n",
       "      <th></th>\n",
       "      <th></th>\n",
       "      <th></th>\n",
       "      <th></th>\n",
       "      <th></th>\n",
       "      <th></th>\n",
       "      <th></th>\n",
       "      <th></th>\n",
       "      <th></th>\n",
       "      <th></th>\n",
       "      <th></th>\n",
       "      <th></th>\n",
       "      <th></th>\n",
       "      <th></th>\n",
       "      <th></th>\n",
       "    </tr>\n",
       "  </thead>\n",
       "  <tbody>\n",
       "    <tr>\n",
       "      <th>0</th>\n",
       "      <td>NaN</td>\n",
       "      <td>NaN</td>\n",
       "      <td>NaN</td>\n",
       "      <td>NaN</td>\n",
       "      <td>NaN</td>\n",
       "      <td>NaN</td>\n",
       "      <td>NaN</td>\n",
       "      <td>NaN</td>\n",
       "      <td>NaN</td>\n",
       "      <td>NaN</td>\n",
       "      <td>...</td>\n",
       "      <td>NaN</td>\n",
       "      <td>NaN</td>\n",
       "      <td>NaN</td>\n",
       "      <td>NaN</td>\n",
       "      <td>NaN</td>\n",
       "      <td>NaN</td>\n",
       "      <td>NaN</td>\n",
       "      <td>NaN</td>\n",
       "      <td>NaN</td>\n",
       "      <td>NaN</td>\n",
       "    </tr>\n",
       "    <tr>\n",
       "      <th>1</th>\n",
       "      <td>NaN</td>\n",
       "      <td>NaN</td>\n",
       "      <td>NaN</td>\n",
       "      <td>NaN</td>\n",
       "      <td>NaN</td>\n",
       "      <td>NaN</td>\n",
       "      <td>NaN</td>\n",
       "      <td>NaN</td>\n",
       "      <td>NaN</td>\n",
       "      <td>NaN</td>\n",
       "      <td>...</td>\n",
       "      <td>NaN</td>\n",
       "      <td>NaN</td>\n",
       "      <td>NaN</td>\n",
       "      <td>NaN</td>\n",
       "      <td>NaN</td>\n",
       "      <td>NaN</td>\n",
       "      <td>NaN</td>\n",
       "      <td>NaN</td>\n",
       "      <td>NaN</td>\n",
       "      <td>NaN</td>\n",
       "    </tr>\n",
       "    <tr>\n",
       "      <th>2</th>\n",
       "      <td>NaN</td>\n",
       "      <td>NaN</td>\n",
       "      <td>NaN</td>\n",
       "      <td>1.0</td>\n",
       "      <td>NaN</td>\n",
       "      <td>NaN</td>\n",
       "      <td>NaN</td>\n",
       "      <td>NaN</td>\n",
       "      <td>NaN</td>\n",
       "      <td>NaN</td>\n",
       "      <td>...</td>\n",
       "      <td>NaN</td>\n",
       "      <td>NaN</td>\n",
       "      <td>NaN</td>\n",
       "      <td>NaN</td>\n",
       "      <td>NaN</td>\n",
       "      <td>NaN</td>\n",
       "      <td>NaN</td>\n",
       "      <td>NaN</td>\n",
       "      <td>NaN</td>\n",
       "      <td>NaN</td>\n",
       "    </tr>\n",
       "    <tr>\n",
       "      <th>3</th>\n",
       "      <td>NaN</td>\n",
       "      <td>NaN</td>\n",
       "      <td>NaN</td>\n",
       "      <td>NaN</td>\n",
       "      <td>NaN</td>\n",
       "      <td>NaN</td>\n",
       "      <td>NaN</td>\n",
       "      <td>NaN</td>\n",
       "      <td>NaN</td>\n",
       "      <td>NaN</td>\n",
       "      <td>...</td>\n",
       "      <td>NaN</td>\n",
       "      <td>NaN</td>\n",
       "      <td>NaN</td>\n",
       "      <td>NaN</td>\n",
       "      <td>NaN</td>\n",
       "      <td>NaN</td>\n",
       "      <td>NaN</td>\n",
       "      <td>NaN</td>\n",
       "      <td>NaN</td>\n",
       "      <td>NaN</td>\n",
       "    </tr>\n",
       "    <tr>\n",
       "      <th>4</th>\n",
       "      <td>NaN</td>\n",
       "      <td>NaN</td>\n",
       "      <td>NaN</td>\n",
       "      <td>NaN</td>\n",
       "      <td>NaN</td>\n",
       "      <td>NaN</td>\n",
       "      <td>NaN</td>\n",
       "      <td>NaN</td>\n",
       "      <td>NaN</td>\n",
       "      <td>NaN</td>\n",
       "      <td>...</td>\n",
       "      <td>NaN</td>\n",
       "      <td>NaN</td>\n",
       "      <td>NaN</td>\n",
       "      <td>NaN</td>\n",
       "      <td>NaN</td>\n",
       "      <td>NaN</td>\n",
       "      <td>NaN</td>\n",
       "      <td>NaN</td>\n",
       "      <td>NaN</td>\n",
       "      <td>NaN</td>\n",
       "    </tr>\n",
       "  </tbody>\n",
       "</table>\n",
       "<p>5 rows × 3692 columns</p>\n",
       "</div>"
      ],
      "text/plain": [
       "content_id  0.0     1.0     3.0     6.0     7.0     8.0     9.0     10.0    \\\n",
       "account_id                                                                   \n",
       "0              NaN     NaN     NaN     NaN     NaN     NaN     NaN     NaN   \n",
       "1              NaN     NaN     NaN     NaN     NaN     NaN     NaN     NaN   \n",
       "2              NaN     NaN     NaN     1.0     NaN     NaN     NaN     NaN   \n",
       "3              NaN     NaN     NaN     NaN     NaN     NaN     NaN     NaN   \n",
       "4              NaN     NaN     NaN     NaN     NaN     NaN     NaN     NaN   \n",
       "\n",
       "content_id  11.0    12.0    ...  4357.0  4358.0  4359.0  4360.0  4361.0  \\\n",
       "account_id                  ...                                           \n",
       "0              NaN     NaN  ...     NaN     NaN     NaN     NaN     NaN   \n",
       "1              NaN     NaN  ...     NaN     NaN     NaN     NaN     NaN   \n",
       "2              NaN     NaN  ...     NaN     NaN     NaN     NaN     NaN   \n",
       "3              NaN     NaN  ...     NaN     NaN     NaN     NaN     NaN   \n",
       "4              NaN     NaN  ...     NaN     NaN     NaN     NaN     NaN   \n",
       "\n",
       "content_id  4362.0  4363.0  4364.0  4365.0  4366.0  \n",
       "account_id                                          \n",
       "0              NaN     NaN     NaN     NaN     NaN  \n",
       "1              NaN     NaN     NaN     NaN     NaN  \n",
       "2              NaN     NaN     NaN     NaN     NaN  \n",
       "3              NaN     NaN     NaN     NaN     NaN  \n",
       "4              NaN     NaN     NaN     NaN     NaN  \n",
       "\n",
       "[5 rows x 3692 columns]"
      ]
     },
     "execution_count": 72,
     "metadata": {},
     "output_type": "execute_result"
    }
   ],
   "source": [
    "interactions_matrix.head()"
   ]
  },
  {
   "cell_type": "markdown",
   "id": "a949ede7-3055-427c-94a6-9b50b8da28ca",
   "metadata": {},
   "source": [
    "<b>Completamos los NaN con ceros</b>"
   ]
  },
  {
   "cell_type": "code",
   "execution_count": 73,
   "id": "1719964e",
   "metadata": {},
   "outputs": [],
   "source": [
    "interactions_matrix = interactions_matrix.fillna(0)"
   ]
  },
  {
   "cell_type": "code",
   "execution_count": 74,
   "id": "eef31f63",
   "metadata": {},
   "outputs": [
    {
     "data": {
      "text/html": [
       "<div>\n",
       "<style scoped>\n",
       "    .dataframe tbody tr th:only-of-type {\n",
       "        vertical-align: middle;\n",
       "    }\n",
       "\n",
       "    .dataframe tbody tr th {\n",
       "        vertical-align: top;\n",
       "    }\n",
       "\n",
       "    .dataframe thead th {\n",
       "        text-align: right;\n",
       "    }\n",
       "</style>\n",
       "<table border=\"1\" class=\"dataframe\">\n",
       "  <thead>\n",
       "    <tr style=\"text-align: right;\">\n",
       "      <th>content_id</th>\n",
       "      <th>0.0</th>\n",
       "      <th>1.0</th>\n",
       "      <th>3.0</th>\n",
       "      <th>6.0</th>\n",
       "      <th>7.0</th>\n",
       "      <th>8.0</th>\n",
       "      <th>9.0</th>\n",
       "      <th>10.0</th>\n",
       "      <th>11.0</th>\n",
       "      <th>12.0</th>\n",
       "      <th>...</th>\n",
       "      <th>4357.0</th>\n",
       "      <th>4358.0</th>\n",
       "      <th>4359.0</th>\n",
       "      <th>4360.0</th>\n",
       "      <th>4361.0</th>\n",
       "      <th>4362.0</th>\n",
       "      <th>4363.0</th>\n",
       "      <th>4364.0</th>\n",
       "      <th>4365.0</th>\n",
       "      <th>4366.0</th>\n",
       "    </tr>\n",
       "    <tr>\n",
       "      <th>account_id</th>\n",
       "      <th></th>\n",
       "      <th></th>\n",
       "      <th></th>\n",
       "      <th></th>\n",
       "      <th></th>\n",
       "      <th></th>\n",
       "      <th></th>\n",
       "      <th></th>\n",
       "      <th></th>\n",
       "      <th></th>\n",
       "      <th></th>\n",
       "      <th></th>\n",
       "      <th></th>\n",
       "      <th></th>\n",
       "      <th></th>\n",
       "      <th></th>\n",
       "      <th></th>\n",
       "      <th></th>\n",
       "      <th></th>\n",
       "      <th></th>\n",
       "      <th></th>\n",
       "    </tr>\n",
       "  </thead>\n",
       "  <tbody>\n",
       "    <tr>\n",
       "      <th>0</th>\n",
       "      <td>0.0</td>\n",
       "      <td>0.0</td>\n",
       "      <td>0.0</td>\n",
       "      <td>0.0</td>\n",
       "      <td>0.0</td>\n",
       "      <td>0.0</td>\n",
       "      <td>0.0</td>\n",
       "      <td>0.0</td>\n",
       "      <td>0.0</td>\n",
       "      <td>0.0</td>\n",
       "      <td>...</td>\n",
       "      <td>0.0</td>\n",
       "      <td>0.0</td>\n",
       "      <td>0.0</td>\n",
       "      <td>0.0</td>\n",
       "      <td>0.0</td>\n",
       "      <td>0.0</td>\n",
       "      <td>0.0</td>\n",
       "      <td>0.0</td>\n",
       "      <td>0.0</td>\n",
       "      <td>0.0</td>\n",
       "    </tr>\n",
       "    <tr>\n",
       "      <th>1</th>\n",
       "      <td>0.0</td>\n",
       "      <td>0.0</td>\n",
       "      <td>0.0</td>\n",
       "      <td>0.0</td>\n",
       "      <td>0.0</td>\n",
       "      <td>0.0</td>\n",
       "      <td>0.0</td>\n",
       "      <td>0.0</td>\n",
       "      <td>0.0</td>\n",
       "      <td>0.0</td>\n",
       "      <td>...</td>\n",
       "      <td>0.0</td>\n",
       "      <td>0.0</td>\n",
       "      <td>0.0</td>\n",
       "      <td>0.0</td>\n",
       "      <td>0.0</td>\n",
       "      <td>0.0</td>\n",
       "      <td>0.0</td>\n",
       "      <td>0.0</td>\n",
       "      <td>0.0</td>\n",
       "      <td>0.0</td>\n",
       "    </tr>\n",
       "    <tr>\n",
       "      <th>2</th>\n",
       "      <td>0.0</td>\n",
       "      <td>0.0</td>\n",
       "      <td>0.0</td>\n",
       "      <td>1.0</td>\n",
       "      <td>0.0</td>\n",
       "      <td>0.0</td>\n",
       "      <td>0.0</td>\n",
       "      <td>0.0</td>\n",
       "      <td>0.0</td>\n",
       "      <td>0.0</td>\n",
       "      <td>...</td>\n",
       "      <td>0.0</td>\n",
       "      <td>0.0</td>\n",
       "      <td>0.0</td>\n",
       "      <td>0.0</td>\n",
       "      <td>0.0</td>\n",
       "      <td>0.0</td>\n",
       "      <td>0.0</td>\n",
       "      <td>0.0</td>\n",
       "      <td>0.0</td>\n",
       "      <td>0.0</td>\n",
       "    </tr>\n",
       "    <tr>\n",
       "      <th>3</th>\n",
       "      <td>0.0</td>\n",
       "      <td>0.0</td>\n",
       "      <td>0.0</td>\n",
       "      <td>0.0</td>\n",
       "      <td>0.0</td>\n",
       "      <td>0.0</td>\n",
       "      <td>0.0</td>\n",
       "      <td>0.0</td>\n",
       "      <td>0.0</td>\n",
       "      <td>0.0</td>\n",
       "      <td>...</td>\n",
       "      <td>0.0</td>\n",
       "      <td>0.0</td>\n",
       "      <td>0.0</td>\n",
       "      <td>0.0</td>\n",
       "      <td>0.0</td>\n",
       "      <td>0.0</td>\n",
       "      <td>0.0</td>\n",
       "      <td>0.0</td>\n",
       "      <td>0.0</td>\n",
       "      <td>0.0</td>\n",
       "    </tr>\n",
       "    <tr>\n",
       "      <th>4</th>\n",
       "      <td>0.0</td>\n",
       "      <td>0.0</td>\n",
       "      <td>0.0</td>\n",
       "      <td>0.0</td>\n",
       "      <td>0.0</td>\n",
       "      <td>0.0</td>\n",
       "      <td>0.0</td>\n",
       "      <td>0.0</td>\n",
       "      <td>0.0</td>\n",
       "      <td>0.0</td>\n",
       "      <td>...</td>\n",
       "      <td>0.0</td>\n",
       "      <td>0.0</td>\n",
       "      <td>0.0</td>\n",
       "      <td>0.0</td>\n",
       "      <td>0.0</td>\n",
       "      <td>0.0</td>\n",
       "      <td>0.0</td>\n",
       "      <td>0.0</td>\n",
       "      <td>0.0</td>\n",
       "      <td>0.0</td>\n",
       "    </tr>\n",
       "  </tbody>\n",
       "</table>\n",
       "<p>5 rows × 3692 columns</p>\n",
       "</div>"
      ],
      "text/plain": [
       "content_id  0.0     1.0     3.0     6.0     7.0     8.0     9.0     10.0    \\\n",
       "account_id                                                                   \n",
       "0              0.0     0.0     0.0     0.0     0.0     0.0     0.0     0.0   \n",
       "1              0.0     0.0     0.0     0.0     0.0     0.0     0.0     0.0   \n",
       "2              0.0     0.0     0.0     1.0     0.0     0.0     0.0     0.0   \n",
       "3              0.0     0.0     0.0     0.0     0.0     0.0     0.0     0.0   \n",
       "4              0.0     0.0     0.0     0.0     0.0     0.0     0.0     0.0   \n",
       "\n",
       "content_id  11.0    12.0    ...  4357.0  4358.0  4359.0  4360.0  4361.0  \\\n",
       "account_id                  ...                                           \n",
       "0              0.0     0.0  ...     0.0     0.0     0.0     0.0     0.0   \n",
       "1              0.0     0.0  ...     0.0     0.0     0.0     0.0     0.0   \n",
       "2              0.0     0.0  ...     0.0     0.0     0.0     0.0     0.0   \n",
       "3              0.0     0.0  ...     0.0     0.0     0.0     0.0     0.0   \n",
       "4              0.0     0.0  ...     0.0     0.0     0.0     0.0     0.0   \n",
       "\n",
       "content_id  4362.0  4363.0  4364.0  4365.0  4366.0  \n",
       "account_id                                          \n",
       "0              0.0     0.0     0.0     0.0     0.0  \n",
       "1              0.0     0.0     0.0     0.0     0.0  \n",
       "2              0.0     0.0     0.0     0.0     0.0  \n",
       "3              0.0     0.0     0.0     0.0     0.0  \n",
       "4              0.0     0.0     0.0     0.0     0.0  \n",
       "\n",
       "[5 rows x 3692 columns]"
      ]
     },
     "execution_count": 74,
     "metadata": {},
     "output_type": "execute_result"
    }
   ],
   "source": [
    "interactions_matrix.head()"
   ]
  },
  {
   "cell_type": "markdown",
   "id": "a74509e6",
   "metadata": {},
   "source": [
    "Armamos diccionario de accounts que vamos a usar más adelante al momento de armar las predicciones"
   ]
  },
  {
   "cell_type": "code",
   "execution_count": 75,
   "id": "8b88f6c9",
   "metadata": {},
   "outputs": [],
   "source": [
    "user_id = list(interactions_matrix.index)\n",
    "user_dict = {}\n",
    "counter = 0 \n",
    "for i in user_id:\n",
    "    user_dict[i] = counter\n",
    "    counter += 1"
   ]
  },
  {
   "cell_type": "markdown",
   "id": "318fed88",
   "metadata": {},
   "source": [
    "Transformamos la matriz a csr matrix (compressed sparse row)"
   ]
  },
  {
   "cell_type": "code",
   "execution_count": 76,
   "id": "4f7f85a9",
   "metadata": {},
   "outputs": [],
   "source": [
    "interactions_matrix_csr = csr_matrix(interactions_matrix.values)"
   ]
  },
  {
   "cell_type": "markdown",
   "id": "d69834e3",
   "metadata": {
    "tags": []
   },
   "source": [
    "# Modelo"
   ]
  },
  {
   "cell_type": "markdown",
   "id": "b11f8c8d-0ba6-4ccb-82da-d2ea09948895",
   "metadata": {},
   "source": [
    "Creamos nuestra función de recomendación utilizando la librería LFM (light fm) para crear el modelo."
   ]
  },
  {
   "cell_type": "code",
   "execution_count": 77,
   "id": "8f0feecb",
   "metadata": {},
   "outputs": [],
   "source": [
    "model = LightFM(loss='warp',\n",
    "                random_state=100,\n",
    "                learning_rate=0.03,\n",
    "                no_components=100)"
   ]
  },
  {
   "cell_type": "markdown",
   "id": "d5c79842",
   "metadata": {},
   "source": [
    "Entrenamos el modelo con 10 epochs"
   ]
  },
  {
   "cell_type": "code",
   "execution_count": 78,
   "id": "16cb62fd",
   "metadata": {},
   "outputs": [
    {
     "name": "stdout",
     "output_type": "stream",
     "text": [
      "CPU times: user 15.8 s, sys: 0 ns, total: 15.8 s\n",
      "Wall time: 15.8 s\n"
     ]
    }
   ],
   "source": [
    "%%time\n",
    "model = model.fit(interactions_matrix_csr, epochs=10)"
   ]
  },
  {
   "cell_type": "markdown",
   "id": "9cf51f97",
   "metadata": {
    "tags": []
   },
   "source": [
    "# Cold start\n",
    "\n",
    "Popularidad de contenido para cold start: agrupamos por contenidos más vistos."
   ]
  },
  {
   "cell_type": "code",
   "execution_count": 79,
   "id": "4019ddd7",
   "metadata": {},
   "outputs": [
    {
     "data": {
      "text/plain": [
       "array([2040., 3806., 3900., 3598., 2160., 3381., 1462., 3690., 3210.,\n",
       "       3550., 3384., 2627., 3711., 1316., 3775., 3382.,  116., 3716.,\n",
       "       2827., 3712.,  724., 2942., 1020., 2815., 1971.,  580., 1008.,\n",
       "       1139., 3863., 3726., 2972., 3035., 3578.,  558., 2992.,  173.,\n",
       "        135., 1877., 3026., 2012., 2323., 3572.,  171.,  729., 3292.,\n",
       "       1140.,  292., 2817., 3502., 1665.])"
      ]
     },
     "execution_count": 79,
     "metadata": {},
     "output_type": "execute_result"
    }
   ],
   "source": [
    "popularity_df = train.groupby(\"content_id\", as_index=False).agg({\"account_id\":\"nunique\"})\\\n",
    "    .sort_values(by=\"account_id\", ascending=False) \n",
    "\n",
    "most_popular = popularity_df['content_id'][0:50].values\n",
    "most_popular = [x for x in most_popular if x not in not_available_content]\n",
    "\n",
    "popularity_df.head(50).content_id.values"
   ]
  },
  {
   "cell_type": "markdown",
   "id": "67857d3f",
   "metadata": {},
   "source": [
    "# Generación de recomendaciones"
   ]
  },
  {
   "cell_type": "code",
   "execution_count": 80,
   "id": "935b8d9e",
   "metadata": {},
   "outputs": [
    {
     "name": "stderr",
     "output_type": "stream",
     "text": [
      "100%|██████████| 87635/87635 [05:24<00:00, 269.69it/s] "
     ]
    },
    {
     "name": "stdout",
     "output_type": "stream",
     "text": [
      "CPU times: user 5min 25s, sys: 1.68 s, total: 5min 27s\n",
      "Wall time: 5min 24s\n"
     ]
    },
    {
     "name": "stderr",
     "output_type": "stream",
     "text": [
      "\n"
     ]
    }
   ],
   "source": [
    "%%time\n",
    "# definimos dict donde vamos a ir almacenando las recomendaciones\n",
    "recomms_dict = {\n",
    "    'user_id': [],\n",
    "    'recomms': [],\n",
    "    'cold': []\n",
    "}\n",
    "\n",
    "#obtenemos cantidad de usuarios y cantidad de items\n",
    "n_users, n_items = interactions_matrix.shape\n",
    "item_ids = np.arange(n_items)\n",
    "\n",
    "#por cada usuario del dataset completo, generamos recomendaciones\n",
    "for user in tqdm(test.account_id.unique()): \n",
    "\n",
    "    # if user in list(interactions_matrix_1.index):\n",
    "    if user in interactions_matrix.index:\n",
    "\n",
    "        # Si el usuario esta en train, no es cold start. Usamos el modelo para recomendar\n",
    "        user_x = user_dict[user] #buscamos el indice del usuario en la matriz (transformamos id a indice)\n",
    "\n",
    "\n",
    "        preds = model.predict(user_ids=user_x, item_ids = item_ids)\n",
    "\n",
    "\n",
    "        scores = pd.Series(preds)\n",
    "        scores.index = interactions_matrix.columns\n",
    "        scores = list(pd.Series(scores.sort_values(ascending=False).index))[:50]\n",
    "\n",
    "\n",
    "        # Obtenemos listado de contenidos vistos anteriormente por el usuario (en el set de train)\n",
    "        watched_contents = train[train.account_id == user].content_id.unique()\n",
    "\n",
    "        # Filtramos contenidos ya vistos y quedarse con los primeros 10\n",
    "        recomms = [x for x in scores if x not in watched_contents]\n",
    "        recomms = [x for x in recomms if x not in not_available_content]\n",
    "\n",
    "        # Guardamos las recomendaciones en el diccionario\n",
    "        recomms_dict['user_id'].append(user)\n",
    "        recomms_dict['recomms'].append(recomms[0:20])\n",
    "        recomms_dict['cold'].append(False)\n",
    "\n",
    "    # En este else trataremos a los usuarios que no están en la matriz (cold start)\n",
    "    else:\n",
    "        recomms_dict['user_id'].append(user)\n",
    "        # Les recomendamos contenido popular\n",
    "        recomms_dict['recomms'].append(popularity_df.content_id.to_list()[:20])\n",
    "        recomms_dict['cold'].append(True)"
   ]
  },
  {
   "cell_type": "markdown",
   "id": "a4285a0e-e2bf-404c-a178-281a01426d89",
   "metadata": {},
   "source": [
    "Convertimos a dataframe el diccionario de recomendaciones"
   ]
  },
  {
   "cell_type": "code",
   "execution_count": 81,
   "id": "9fb4e776",
   "metadata": {},
   "outputs": [],
   "source": [
    "recomms = pd.DataFrame(recomms_dict)\n",
    "recomms = recomms.sort_values(by='user_id', ascending=True)"
   ]
  },
  {
   "cell_type": "code",
   "execution_count": 82,
   "id": "549c6622",
   "metadata": {},
   "outputs": [
    {
     "data": {
      "text/html": [
       "<div>\n",
       "<style scoped>\n",
       "    .dataframe tbody tr th:only-of-type {\n",
       "        vertical-align: middle;\n",
       "    }\n",
       "\n",
       "    .dataframe tbody tr th {\n",
       "        vertical-align: top;\n",
       "    }\n",
       "\n",
       "    .dataframe thead th {\n",
       "        text-align: right;\n",
       "    }\n",
       "</style>\n",
       "<table border=\"1\" class=\"dataframe\">\n",
       "  <thead>\n",
       "    <tr style=\"text-align: right;\">\n",
       "      <th></th>\n",
       "      <th>user_id</th>\n",
       "      <th>recomms</th>\n",
       "      <th>cold</th>\n",
       "    </tr>\n",
       "  </thead>\n",
       "  <tbody>\n",
       "    <tr>\n",
       "      <th>74072</th>\n",
       "      <td>2</td>\n",
       "      <td>[2040.0, 3026.0, 1020.0, 3025.0, 3295.0, 1800....</td>\n",
       "      <td>False</td>\n",
       "    </tr>\n",
       "    <tr>\n",
       "      <th>74107</th>\n",
       "      <td>3</td>\n",
       "      <td>[3210.0, 3035.0, 2815.0, 3711.0, 3519.0, 2972....</td>\n",
       "      <td>False</td>\n",
       "    </tr>\n",
       "    <tr>\n",
       "      <th>74198</th>\n",
       "      <td>4</td>\n",
       "      <td>[2827.0, 3806.0, 1720.0, 2815.0, 3900.0, 2040....</td>\n",
       "      <td>False</td>\n",
       "    </tr>\n",
       "    <tr>\n",
       "      <th>74212</th>\n",
       "      <td>5</td>\n",
       "      <td>[3806.0, 3382.0, 3900.0, 2160.0, 3775.0, 3598....</td>\n",
       "      <td>False</td>\n",
       "    </tr>\n",
       "    <tr>\n",
       "      <th>74398</th>\n",
       "      <td>6</td>\n",
       "      <td>[3716.0, 116.0, 2040.0, 1140.0, 3900.0, 1462.0...</td>\n",
       "      <td>False</td>\n",
       "    </tr>\n",
       "  </tbody>\n",
       "</table>\n",
       "</div>"
      ],
      "text/plain": [
       "       user_id                                            recomms   cold\n",
       "74072        2  [2040.0, 3026.0, 1020.0, 3025.0, 3295.0, 1800....  False\n",
       "74107        3  [3210.0, 3035.0, 2815.0, 3711.0, 3519.0, 2972....  False\n",
       "74198        4  [2827.0, 3806.0, 1720.0, 2815.0, 3900.0, 2040....  False\n",
       "74212        5  [3806.0, 3382.0, 3900.0, 2160.0, 3775.0, 3598....  False\n",
       "74398        6  [3716.0, 116.0, 2040.0, 1140.0, 3900.0, 1462.0...  False"
      ]
     },
     "execution_count": 82,
     "metadata": {},
     "output_type": "execute_result"
    }
   ],
   "source": [
    "recomms.head()"
   ]
  },
  {
   "cell_type": "markdown",
   "id": "a9aa58ed-b2ec-4fe1-bd24-5bb0fb1097f5",
   "metadata": {},
   "source": [
    "# Visualizaciones reales de los usuarios"
   ]
  },
  {
   "cell_type": "markdown",
   "id": "af8393e7-a831-4d4d-92bd-e0bf8ac6f53c",
   "metadata": {},
   "source": [
    "Ahora tenemos que comparar nuestras recomendaciones contra lo que los usuarios realmente vieron (test)."
   ]
  },
  {
   "cell_type": "markdown",
   "id": "196732fe-3884-464f-9c37-d2dfb4ab7152",
   "metadata": {},
   "source": [
    "Primero ordenamos las visualizaciones por perfil y armamos un listado de los content_id vistos.\n",
    "\n",
    "Este es el listado \"ideal\" contra el que vamos a comparar nuestras recomendaciones."
   ]
  },
  {
   "cell_type": "code",
   "execution_count": 83,
   "id": "fef0e56e-7719-4f17-a106-e07fd7058283",
   "metadata": {},
   "outputs": [
    {
     "name": "stdout",
     "output_type": "stream",
     "text": [
      "CPU times: user 6.47 s, sys: 19.9 ms, total: 6.49 s\n",
      "Wall time: 6.5 s\n"
     ]
    }
   ],
   "source": [
    "%%time\n",
    "ideal_recomms = test[['account_id', 'content_id']]\\\n",
    "                .drop_duplicates()\\\n",
    "                .groupby(by='account_id', as_index=False)\\\n",
    "                .agg({'content_id': 'unique'})\\\n",
    "                .sort_values(by='account_id')"
   ]
  },
  {
   "cell_type": "code",
   "execution_count": 84,
   "id": "51b192c2-3a38-4b73-8a66-531c1ec18bfa",
   "metadata": {},
   "outputs": [
    {
     "data": {
      "text/html": [
       "<div>\n",
       "<style scoped>\n",
       "    .dataframe tbody tr th:only-of-type {\n",
       "        vertical-align: middle;\n",
       "    }\n",
       "\n",
       "    .dataframe tbody tr th {\n",
       "        vertical-align: top;\n",
       "    }\n",
       "\n",
       "    .dataframe thead th {\n",
       "        text-align: right;\n",
       "    }\n",
       "</style>\n",
       "<table border=\"1\" class=\"dataframe\">\n",
       "  <thead>\n",
       "    <tr style=\"text-align: right;\">\n",
       "      <th></th>\n",
       "      <th>account_id</th>\n",
       "      <th>content_id</th>\n",
       "    </tr>\n",
       "  </thead>\n",
       "  <tbody>\n",
       "    <tr>\n",
       "      <th>0</th>\n",
       "      <td>2</td>\n",
       "      <td>[433.0]</td>\n",
       "    </tr>\n",
       "    <tr>\n",
       "      <th>1</th>\n",
       "      <td>3</td>\n",
       "      <td>[1949.0, 2409.0, 4010.0, 3169.0, 3487.0, 3980....</td>\n",
       "    </tr>\n",
       "    <tr>\n",
       "      <th>2</th>\n",
       "      <td>4</td>\n",
       "      <td>[2314.0, 728.0, 4129.0, 2344.0, 2341.0, 513.0,...</td>\n",
       "    </tr>\n",
       "    <tr>\n",
       "      <th>3</th>\n",
       "      <td>5</td>\n",
       "      <td>[2259.0]</td>\n",
       "    </tr>\n",
       "    <tr>\n",
       "      <th>4</th>\n",
       "      <td>6</td>\n",
       "      <td>[3902.0, 3211.0, 2900.0, 3386.0, 4065.0, 3388.0]</td>\n",
       "    </tr>\n",
       "  </tbody>\n",
       "</table>\n",
       "</div>"
      ],
      "text/plain": [
       "   account_id                                         content_id\n",
       "0           2                                            [433.0]\n",
       "1           3  [1949.0, 2409.0, 4010.0, 3169.0, 3487.0, 3980....\n",
       "2           4  [2314.0, 728.0, 4129.0, 2344.0, 2341.0, 513.0,...\n",
       "3           5                                           [2259.0]\n",
       "4           6   [3902.0, 3211.0, 2900.0, 3386.0, 4065.0, 3388.0]"
      ]
     },
     "execution_count": 84,
     "metadata": {},
     "output_type": "execute_result"
    }
   ],
   "source": [
    "ideal_recomms.head()"
   ]
  },
  {
   "cell_type": "markdown",
   "id": "a870f7a4",
   "metadata": {},
   "source": [
    "# Evaluacion: Métrica MAP"
   ]
  },
  {
   "cell_type": "markdown",
   "id": "efa1f1d4-55b1-4d1b-ab4b-8983782e5430",
   "metadata": {},
   "source": [
    "Utilizaremos la métrica MAP (Mean Average Precision) para observar la performance del modelo"
   ]
  },
  {
   "cell_type": "code",
   "execution_count": 85,
   "id": "c8be3519",
   "metadata": {},
   "outputs": [],
   "source": [
    "preds = recomms.recomms.values\n",
    "labels = ideal_recomms.content_id.values"
   ]
  },
  {
   "cell_type": "code",
   "execution_count": 86,
   "id": "603e5e21",
   "metadata": {},
   "outputs": [],
   "source": [
    "aps = [] # lista vacía para ir almacenando la AP de cada recomendación\n",
    "for pred, label in zip(preds, labels):\n",
    "    n = len(pred) \n",
    "    arange = np.arange(n, dtype=np.int32) + 1. # indexamos en base 1\n",
    "    rel_k = np.in1d(pred[:n], label)\n",
    "    tp = np.ones(rel_k.sum(), dtype=np.int32).cumsum() # lista con el contador de verdaderos positivos\n",
    "    denom = arange[rel_k] # posiciones donde se encuentran los ítems relantes\n",
    "    ap = (tp / denom).sum() / len(label) # average precision\n",
    "    aps.append(ap)"
   ]
  },
  {
   "cell_type": "code",
   "execution_count": 87,
   "id": "48e53143",
   "metadata": {},
   "outputs": [
    {
     "name": "stdout",
     "output_type": "stream",
     "text": [
      "MAP = {0.02852}\n"
     ]
    }
   ],
   "source": [
    "print(f\"MAP = { {round(np.mean(aps), 5)}}\")"
   ]
  },
  {
   "cell_type": "markdown",
   "id": "4b5e20e0-78eb-4b2b-8f0b-21f0ec33009f",
   "metadata": {
    "tags": []
   },
   "source": [
    "# Modificando hiperparámetros del modelo para obtener mejores métricas"
   ]
  },
  {
   "cell_type": "code",
   "execution_count": 90,
   "id": "472ec257-f1be-41d7-a1b8-8722d337ce8f",
   "metadata": {},
   "outputs": [],
   "source": [
    "def recomm_lightfm(model, interactions_matrix, interactions_matrix_csr, not_available_content, most_popular):\n",
    "    \n",
    "    # definimos dict donde vamos a ir almacenando las recomendaciones\n",
    "    recomms_dict = {\n",
    "        'user_id': [],\n",
    "        'recomms': [],\n",
    "        'cold': []\n",
    "    }\n",
    "\n",
    "    #obtenemos cantidad de usuarios y cantidad de items\n",
    "    n_users, n_items = interactions_matrix.shape\n",
    "    item_ids = np.arange(n_items)\n",
    "\n",
    "    #por cada usuario del dataset completo, generamos recomendaciones\n",
    "    for user in tqdm(test.account_id.unique()): \n",
    "\n",
    "        # if user in list(interactions_matrix_1.index):\n",
    "        if user in interactions_matrix.index:\n",
    "\n",
    "            # Si el usuario esta en train, no es cold start. Usamos el modelo para recomendar\n",
    "            user_x = user_dict[user] #buscamos el indice del usuario en la matriz (transformamos id a indice)\n",
    "\n",
    "           \n",
    "            preds = model.predict(user_ids=user_x, item_ids = item_ids)\n",
    "\n",
    "            \n",
    "            scores = pd.Series(preds)\n",
    "            scores.index = interactions_matrix.columns\n",
    "            # scores = list(pd.Series(scores.sort_values(ascending=False).index))[:50]\n",
    "            scores = pd.Series(scores.sort_values(ascending=False).index)[:50]\n",
    "\n",
    "            # Obtenemos listado de contenidos vistos anteriormente por el usuario (en el set de train)\n",
    "            watched_contents = train[train.account_id == user].content_id.unique()\n",
    "\n",
    "            # Filtramos contenidos ya vistos y quedarse con los primeros 10\n",
    "            recomms = [x for x in scores if x not in watched_contents]\n",
    "            recomms = [x for x in recomms if x not in not_available_content]\n",
    "\n",
    "            # Guardamos las recomendaciones en el diccionario\n",
    "            recomms_dict['user_id'].append(user)\n",
    "            recomms_dict['recomms'].append(recomms[0:20])\n",
    "            recomms_dict['cold'].append(False)\n",
    "\n",
    "        # En este else trataremos a los usuarios que no están en la matriz (cold start)\n",
    "        else:\n",
    "            recomms_dict['user_id'].append(user)\n",
    "            # Les recomendamos contenido popular\n",
    "            # recomms_dict['recomms'].append(popularity_df.content_id.to_list())\n",
    "            recomms_dict['recomms'].append(most_popular)\n",
    "            recomms_dict['cold'].append(True)\n",
    "    return recomms_dict\n",
    "\n",
    "def calcular_MAP(ideal_recomms, recomms):\n",
    "    preds = recomms.recomms.values\n",
    "    labels = ideal_recomms.content_id.values\n",
    "    \n",
    "    aps = [] # lista vacía para ir almacenando la AP de cada recomendación\n",
    "    for pred, label in zip(preds, labels):\n",
    "        n = len(pred) \n",
    "        arange = np.arange(n, dtype=np.int32) + 1. # indexamos en base 1\n",
    "        rel_k = np.in1d(pred[:n], label)\n",
    "        tp = np.ones(rel_k.sum(), dtype=np.int32).cumsum() # lista con el contador de verdaderos positivos\n",
    "        denom = arange[rel_k] # posiciones donde se encuentran los ítems relantes\n",
    "        ap = (tp / denom).sum() / len(label) # average precision\n",
    "        aps.append(ap)\n",
    "    \n",
    "    return round(np.mean(aps), 5)"
   ]
  },
  {
   "cell_type": "code",
   "execution_count": 91,
   "id": "0d02479b-5380-477a-a116-bb0885effd3d",
   "metadata": {},
   "outputs": [
    {
     "name": "stderr",
     "output_type": "stream",
     "text": [
      "100%|██████████| 87635/87635 [04:48<00:00, 303.82it/s] \n",
      "100%|██████████| 87635/87635 [04:51<00:00, 301.07it/s] \n",
      "100%|██████████| 87635/87635 [04:51<00:00, 300.75it/s] \n",
      "100%|██████████| 87635/87635 [04:51<00:00, 301.00it/s] \n",
      "100%|██████████| 87635/87635 [04:52<00:00, 299.84it/s] \n",
      "100%|██████████| 87635/87635 [04:55<00:00, 296.40it/s] \n",
      "100%|██████████| 87635/87635 [04:55<00:00, 296.58it/s] \n",
      "100%|██████████| 87635/87635 [04:53<00:00, 298.43it/s] \n",
      "100%|██████████| 87635/87635 [04:54<00:00, 297.86it/s] \n",
      "100%|██████████| 87635/87635 [05:03<00:00, 288.77it/s] \n",
      "100%|██████████| 87635/87635 [04:58<00:00, 293.10it/s] \n",
      "100%|██████████| 87635/87635 [04:58<00:00, 293.78it/s] \n",
      "100%|██████████| 87635/87635 [04:59<00:00, 292.53it/s] \n",
      "100%|██████████| 87635/87635 [05:03<00:00, 289.10it/s] \n",
      "100%|██████████| 87635/87635 [05:05<00:00, 287.24it/s] \n",
      "100%|██████████| 87635/87635 [05:01<00:00, 291.01it/s] \n",
      "100%|██████████| 87635/87635 [05:06<00:00, 286.04it/s] \n",
      "100%|██████████| 87635/87635 [05:09<00:00, 283.31it/s] \n",
      "100%|██████████| 87635/87635 [04:58<00:00, 293.16it/s] \n",
      "100%|██████████| 87635/87635 [04:25<00:00, 330.57it/s] \n"
     ]
    }
   ],
   "source": [
    "# Definimos hiperparametros del modelo\n",
    "random_state = 0\n",
    "learning_rate = 0.03\n",
    "components = [x for x in range(10, 201, 10)]\n",
    "epochs = 10\n",
    "\n",
    "MAP_dict = {}\n",
    "\n",
    "for component in components:\n",
    "\n",
    "    model = LightFM(loss='warp', random_state=random_state, learning_rate=learning_rate, no_components=component)\n",
    "                       \n",
    "    model = model.fit(interactions_matrix_csr, epochs=epochs)\n",
    "\n",
    "    recomendations_dic = recomm_lightfm(model, interactions_matrix, interactions_matrix_csr, not_available_content, most_popular)\n",
    "\n",
    "    recomendations_df = pd.DataFrame(recomendations_dic)\n",
    "    \n",
    "    MAP = calcular_MAP(ideal_recomms, recomendations_df)\n",
    "    \n",
    "    MAP_dict[component] = MAP\n",
    "\n",
    "df_MAP = pd.DataFrame(MAP_dict.items(), columns=['Componente', 'MAP'])"
   ]
  },
  {
   "cell_type": "code",
   "execution_count": 94,
   "id": "dd0277cb-84fb-45fa-8d17-9054ef384cac",
   "metadata": {},
   "outputs": [
    {
     "data": {
      "text/html": [
       "<div>\n",
       "<style scoped>\n",
       "    .dataframe tbody tr th:only-of-type {\n",
       "        vertical-align: middle;\n",
       "    }\n",
       "\n",
       "    .dataframe tbody tr th {\n",
       "        vertical-align: top;\n",
       "    }\n",
       "\n",
       "    .dataframe thead th {\n",
       "        text-align: right;\n",
       "    }\n",
       "</style>\n",
       "<table border=\"1\" class=\"dataframe\">\n",
       "  <thead>\n",
       "    <tr style=\"text-align: right;\">\n",
       "      <th></th>\n",
       "      <th>Componente</th>\n",
       "      <th>MAP</th>\n",
       "    </tr>\n",
       "  </thead>\n",
       "  <tbody>\n",
       "    <tr>\n",
       "      <th>0</th>\n",
       "      <td>10</td>\n",
       "      <td>0.03714</td>\n",
       "    </tr>\n",
       "    <tr>\n",
       "      <th>1</th>\n",
       "      <td>20</td>\n",
       "      <td>0.03404</td>\n",
       "    </tr>\n",
       "    <tr>\n",
       "      <th>2</th>\n",
       "      <td>30</td>\n",
       "      <td>0.03220</td>\n",
       "    </tr>\n",
       "    <tr>\n",
       "      <th>3</th>\n",
       "      <td>40</td>\n",
       "      <td>0.03112</td>\n",
       "    </tr>\n",
       "    <tr>\n",
       "      <th>4</th>\n",
       "      <td>50</td>\n",
       "      <td>0.03132</td>\n",
       "    </tr>\n",
       "    <tr>\n",
       "      <th>5</th>\n",
       "      <td>60</td>\n",
       "      <td>0.02962</td>\n",
       "    </tr>\n",
       "    <tr>\n",
       "      <th>6</th>\n",
       "      <td>70</td>\n",
       "      <td>0.02983</td>\n",
       "    </tr>\n",
       "    <tr>\n",
       "      <th>7</th>\n",
       "      <td>80</td>\n",
       "      <td>0.02965</td>\n",
       "    </tr>\n",
       "    <tr>\n",
       "      <th>8</th>\n",
       "      <td>90</td>\n",
       "      <td>0.02904</td>\n",
       "    </tr>\n",
       "    <tr>\n",
       "      <th>9</th>\n",
       "      <td>100</td>\n",
       "      <td>0.02938</td>\n",
       "    </tr>\n",
       "  </tbody>\n",
       "</table>\n",
       "</div>"
      ],
      "text/plain": [
       "   Componente      MAP\n",
       "0          10  0.03714\n",
       "1          20  0.03404\n",
       "2          30  0.03220\n",
       "3          40  0.03112\n",
       "4          50  0.03132\n",
       "5          60  0.02962\n",
       "6          70  0.02983\n",
       "7          80  0.02965\n",
       "8          90  0.02904\n",
       "9         100  0.02938"
      ]
     },
     "execution_count": 94,
     "metadata": {},
     "output_type": "execute_result"
    }
   ],
   "source": [
    "df_MAP[0:10]"
   ]
  },
  {
   "cell_type": "code",
   "execution_count": 93,
   "id": "1a332db6-9f5d-4d9e-8d0e-62f2b99cd8c0",
   "metadata": {},
   "outputs": [
    {
     "data": {
      "text/plain": [
       "<Figure size 432x288 with 0 Axes>"
      ]
     },
     "metadata": {},
     "output_type": "display_data"
    },
    {
     "data": {
      "image/png": "[encoded data removed]",
      "text/plain": [
       "<Figure size 1080x360 with 1 Axes>"
      ]
     },
     "metadata": {
      "needs_background": "light"
     },
     "output_type": "display_data"
    }
   ],
   "source": [
    "plt.clf()\n",
    "plt.figure(figsize=(15,5))\n",
    "sns.lineplot(data=df_MAP, x='Componente', y='MAP', marker=\"o\")\n",
    "plt.title('Métrica MAP en función de hiperparámetro no_component', fontdict={'fontsize': 14,'fontweight':'bold', 'style':'italic'})\n",
    "#plt.xticks([x for x in range(df_MAP['Componente'].min(), df_MAP['Componente'].max() +1,1)], rotation=90)\n",
    "plt.xticks([x for x in range(10, 201, 10)])\n",
    "plt.xlabel('no_components')\n",
    "plt.grid(0.6)\n",
    "plt.show()"
   ]
  }
 ],
 "metadata": {
  "kernelspec": {
   "display_name": "Python 3",
   "language": "python",
   "name": "python3"
  },
  "language_info": {
   "codemirror_mode": {
    "name": "ipython",
    "version": 3
   },
   "file_extension": ".py",
   "mimetype": "text/x-python",
   "name": "python",
   "nbconvert_exporter": "python",
   "pygments_lexer": "ipython3",
   "version": "3.6.11"
  }
 },
 "nbformat": 4,
 "nbformat_minor": 5
}
